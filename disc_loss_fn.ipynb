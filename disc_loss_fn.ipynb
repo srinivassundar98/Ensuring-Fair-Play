{
 "cells": [
  {
   "cell_type": "code",
   "execution_count": 1,
   "metadata": {},
   "outputs": [
    {
     "name": "stderr",
     "output_type": "stream",
     "text": [
      "c:\\Users\\srinivas\\anaconda3\\Lib\\site-packages\\torch\\_functorch\\deprecated.py:61: UserWarning: We've integrated functorch into PyTorch. As the final step of the integration, functorch.vmap is deprecated as of PyTorch 2.0 and will be deleted in a future version of PyTorch >= 2.3. Please use torch.vmap instead; see the PyTorch 2.0 release notes and/or the torch.func migration guide for more details https://pytorch.org/docs/master/func.migrating.html\n",
      "  warn_deprecated('vmap', 'torch.vmap')\n"
     ]
    }
   ],
   "source": [
    "import pandas as pd\n",
    "from datetime import datetime, timedelta\n",
    "import numpy as np\n",
    "import joblib\n",
    "import re\n",
    "import sys\n",
    "sys.path.insert(0, '../')\n",
    "import numpy as np\n",
    "\n",
    "# Datasets\n",
    "from aif360.datasets import MEPSDataset19\n",
    "# Fairness metrics\n",
    "from aif360.metrics import BinaryLabelDatasetMetric\n",
    "\n",
    "# Explainers\n",
    "from aif360.explainers import MetricTextExplainer\n",
    "\n",
    "# Scalers\n",
    "from sklearn.preprocessing import StandardScaler\n",
    "\n"
   ]
  },
  {
   "cell_type": "code",
   "execution_count": 2,
   "metadata": {},
   "outputs": [],
   "source": [
    "dataset_orig_panel19_train = MEPSDataset19()"
   ]
  },
  {
   "cell_type": "code",
   "execution_count": 3,
   "metadata": {},
   "outputs": [],
   "source": [
    "sens_ind = 0\n",
    "sens_attr = dataset_orig_panel19_train.protected_attribute_names[sens_ind]\n",
    "unprivileged_groups = [{sens_attr: v} for v in\n",
    "                    dataset_orig_panel19_train.unprivileged_protected_attributes[sens_ind]]\n",
    "privileged_groups = [{sens_attr: v} for v in\n",
    "                    dataset_orig_panel19_train.privileged_protected_attributes[sens_ind]]"
   ]
  },
  {
   "cell_type": "code",
   "execution_count": 4,
   "metadata": {},
   "outputs": [
    {
     "data": {
      "text/plain": [
       "'RACE'"
      ]
     },
     "execution_count": 4,
     "metadata": {},
     "output_type": "execute_result"
    }
   ],
   "source": [
    "dataset_orig_panel19_train.feature_names[1]"
   ]
  },
  {
   "cell_type": "code",
   "execution_count": 5,
   "metadata": {},
   "outputs": [
    {
     "name": "stderr",
     "output_type": "stream",
     "text": [
      "c:\\Users\\srinivas\\anaconda3\\Lib\\site-packages\\sklearn\\linear_model\\_logistic.py:469: ConvergenceWarning: lbfgs failed to converge (status=1):\n",
      "STOP: TOTAL NO. of ITERATIONS REACHED LIMIT.\n",
      "\n",
      "Increase the number of iterations (max_iter) or scale the data as shown in:\n",
      "    https://scikit-learn.org/stable/modules/preprocessing.html\n",
      "Please also refer to the documentation for alternative solver options:\n",
      "    https://scikit-learn.org/stable/modules/linear_model.html#logistic-regression\n",
      "  n_iter_i = _check_optimize_result(\n"
     ]
    }
   ],
   "source": [
    "from sklearn.linear_model import LogisticRegression\n",
    "from sklearn.preprocessing import StandardScaler\n",
    "from sklearn.model_selection import train_test_split\n",
    "\n",
    "# Prepare data\n",
    "X = dataset_orig_panel19_train.features\n",
    "y = dataset_orig_panel19_train.labels.ravel()\n",
    "\n",
    "# Split data\n",
    "X_train, X_test, y_train, y_test = train_test_split(X, y, test_size=0.2, random_state=42)\n",
    "\n",
    "# Scale features\n",
    "scaler = StandardScaler()\n",
    "X_train_scaled = X_train\n",
    "X_test_scaled = X_test\n",
    "\n",
    "# Train logistic regression model\n",
    "model = LogisticRegression(random_state=42)\n",
    "model.fit(X_train_scaled, y_train)\n",
    "\n",
    "# Predict probabilities on the same scaled training data\n",
    "train_probabilities = model.predict_proba(X_train_scaled)[:, 1]\n",
    "\n",
    "# Calculation of discrimination index without modifying dataset structure\n",
    "sens_attr_index = dataset_orig_panel19_train.feature_names.index('RACE')\n",
    "\n",
    "\n",
    "\n",
    "# Define unprivileged and privileged values\n",
    "unprivileged_val = 0.0\n",
    "privileged_val = 1.0\n",
    "\n"
   ]
  },
  {
   "cell_type": "markdown",
   "metadata": {},
   "source": [
    "## Discrimination Loss Fn"
   ]
  },
  {
   "cell_type": "code",
   "execution_count": null,
   "metadata": {},
   "outputs": [],
   "source": []
  },
  {
   "cell_type": "code",
   "execution_count": 30,
   "metadata": {},
   "outputs": [
    {
     "name": "stdout",
     "output_type": "stream",
     "text": [
      "Epoch 1, Train Loss: 2.673090934753418, Train Acc: 39.25%, Train Discrimination: 0.022887492552399635 Test Loss: 61.42726135253906, Test Acc: 58.78%,Test Discrimination: 0.7591049075126648\n",
      "Epoch 2, Train Loss: 38.965476989746094, Train Acc: 58.88%, Train Discrimination: 0.483476847410202 Test Loss: 33.263851165771484, Test Acc: 81.62%,Test Discrimination: 0.3896600008010864\n",
      "Epoch 3, Train Loss: 20.107635498046875, Train Acc: 82.00%, Train Discrimination: 0.23562787473201752 Test Loss: 15.587469100952148, Test Acc: 82.66%,Test Discrimination: 0.17575567960739136\n",
      "Epoch 4, Train Loss: 9.372156143188477, Train Acc: 82.87%, Train Discrimination: 0.10379645973443985 Test Loss: 7.601461887359619, Test Acc: 82.66%,Test Discrimination: 0.07924606651067734\n",
      "Epoch 5, Train Loss: 4.696783542633057, Train Acc: 82.87%, Train Discrimination: 0.04625870659947395 Test Loss: 3.873684883117676, Test Acc: 82.66%,Test Discrimination: 0.034578826278448105\n",
      "Epoch 6, Train Loss: 2.5706000328063965, Train Acc: 82.87%, Train Discrimination: 0.02020670659840107 Test Loss: 2.108959913253784, Test Acc: 82.66%,Test Discrimination: 0.01374199241399765\n",
      "Epoch 7, Train Loss: 1.579584002494812, Train Acc: 82.87%, Train Discrimination: 0.008166934363543987 Test Loss: 1.367756724357605, Test Acc: 82.66%,Test Discrimination: 0.005068087484687567\n",
      "Epoch 8, Train Loss: 1.169830560684204, Train Acc: 82.87%, Train Discrimination: 0.0031696120277047157 Test Loss: 1.0890002250671387, Test Acc: 82.66%,Test Discrimination: 0.0017613265663385391\n",
      "Epoch 9, Train Loss: 1.017871379852295, Train Acc: 82.87%, Train Discrimination: 0.001234313822351396 Test Loss: 0.9949354529380798, Test Acc: 82.66%,Test Discrimination: 0.0005632542306557298\n",
      "Epoch 10, Train Loss: 0.9675214290618896, Train Acc: 82.87%, Train Discrimination: 0.0004987393622286618 Test Loss: 0.968485414981842, Test Acc: 82.66%,Test Discrimination: 0.0001494826574344188\n",
      "Epoch 11, Train Loss: 0.9534360766410828, Train Acc: 82.87%, Train Discrimination: 0.00021293242753017694 Test Loss: 0.9643883109092712, Test Acc: 82.66%,Test Discrimination: 2.184201730415225e-05\n",
      "Epoch 12, Train Loss: 0.9504719376564026, Train Acc: 82.87%, Train Discrimination: 9.624656377127394e-05 Test Loss: 0.9659908413887024, Test Acc: 82.66%,Test Discrimination: 3.8280805370050075e-07\n",
      "Epoch 13, Train Loss: 0.9492924213409424, Train Acc: 82.87%, Train Discrimination: 4.5405256969388574e-05 Test Loss: 0.9674115777015686, Test Acc: 82.66%,Test Discrimination: 2.1346231733332388e-05\n",
      "Epoch 14, Train Loss: 0.9465421438217163, Train Acc: 82.87%, Train Discrimination: 2.2052401618566364e-05 Test Loss: 0.9668164253234863, Test Acc: 82.66%,Test Discrimination: 6.389908958226442e-05\n",
      "Epoch 15, Train Loss: 0.9409127235412598, Train Acc: 82.87%, Train Discrimination: 1.068957590177888e-05 Test Loss: 0.9637989401817322, Test Acc: 82.66%,Test Discrimination: 0.00012362998677417636\n",
      "Epoch 16, Train Loss: 0.9319369792938232, Train Acc: 82.87%, Train Discrimination: 5.2250561566324905e-06 Test Loss: 0.9588673114776611, Test Acc: 82.66%,Test Discrimination: 0.00020664601470343769\n",
      "Epoch 17, Train Loss: 0.9193623065948486, Train Acc: 82.87%, Train Discrimination: 2.4458565803797683e-06 Test Loss: 0.9535431861877441, Test Acc: 82.66%,Test Discrimination: 0.00033388298470526934\n",
      "Epoch 18, Train Loss: 0.9028666615486145, Train Acc: 82.87%, Train Discrimination: 6.912121079949429e-07 Test Loss: 0.9499441981315613, Test Acc: 82.66%,Test Discrimination: 0.0005363122327253222\n",
      "Epoch 19, Train Loss: 0.8821762204170227, Train Acc: 82.87%, Train Discrimination: 1.3125004416636443e-09 Test Loss: 0.9531121253967285, Test Acc: 82.66%,Test Discrimination: 0.0008811535662971437\n",
      "Epoch 20, Train Loss: 0.8572307825088501, Train Acc: 82.87%, Train Discrimination: 1.345642090200272e-06 Test Loss: 0.973260223865509, Test Acc: 82.66%,Test Discrimination: 0.0015014660311862826\n",
      "Epoch 21, Train Loss: 0.8286730647087097, Train Acc: 82.87%, Train Discrimination: 7.08078732714057e-06 Test Loss: 1.0317484140396118, Test Acc: 82.66%,Test Discrimination: 0.002678176388144493\n",
      "Epoch 22, Train Loss: 0.7980899810791016, Train Acc: 82.87%, Train Discrimination: 2.1819911125930957e-05 Test Loss: 1.1767431497573853, Test Acc: 82.66%,Test Discrimination: 0.005080036818981171\n",
      "Epoch 23, Train Loss: 0.7685965299606323, Train Acc: 82.87%, Train Discrimination: 6.511683750431985e-05 Test Loss: 1.5102810859680176, Test Acc: 82.66%,Test Discrimination: 0.010152535513043404\n",
      "Epoch 24, Train Loss: 0.7478821277618408, Train Acc: 82.86%, Train Discrimination: 0.00019554585742298514 Test Loss: 2.153079032897949, Test Acc: 82.56%,Test Discrimination: 0.019485153257846832\n",
      "Epoch 25, Train Loss: 0.7506402134895325, Train Acc: 82.85%, Train Discrimination: 0.0004985617124475539 Test Loss: 2.7824699878692627, Test Acc: 80.54%,Test Discrimination: 0.0281366016715765\n",
      "Epoch 26, Train Loss: 0.7560930848121643, Train Acc: 80.69%, Train Discrimination: 0.0005774438031949103 Test Loss: 2.837212085723877, Test Acc: 78.68%,Test Discrimination: 0.028529640287160873\n",
      "Epoch 27, Train Loss: 0.7321838140487671, Train Acc: 78.70%, Train Discrimination: 0.00014320132322609425 Test Loss: 2.5272648334503174, Test Acc: 78.74%,Test Discrimination: 0.024176504462957382\n",
      "Epoch 28, Train Loss: 0.7269140481948853, Train Acc: 78.55%, Train Discrimination: 2.1906656911596656e-05 Test Loss: 2.2568483352661133, Test Acc: 79.79%,Test Discrimination: 0.02083236537873745\n",
      "Epoch 29, Train Loss: 0.7244833707809448, Train Acc: 79.85%, Train Discrimination: 8.998852717923e-05 Test Loss: 2.1351840496063232, Test Acc: 81.43%,Test Discrimination: 0.019712287932634354\n",
      "Epoch 30, Train Loss: 0.7057511210441589, Train Acc: 81.40%, Train Discrimination: 1.0529709470574744e-05 Test Loss: 2.1184818744659424, Test Acc: 82.34%,Test Discrimination: 0.020081672817468643\n",
      "Epoch 31, Train Loss: 0.697006106376648, Train Acc: 82.58%, Train Discrimination: 9.081877942662686e-05 Test Loss: 2.085883617401123, Test Acc: 82.66%,Test Discrimination: 0.02004893496632576\n",
      "Epoch 32, Train Loss: 0.7025237083435059, Train Acc: 82.86%, Train Discrimination: 0.0003208376292604953 Test Loss: 1.9577003717422485, Test Acc: 82.66%,Test Discrimination: 0.018389374017715454\n",
      "Epoch 33, Train Loss: 0.6999026536941528, Train Acc: 82.86%, Train Discrimination: 0.0003514807904139161 Test Loss: 1.792019248008728, Test Acc: 82.66%,Test Discrimination: 0.016021478921175003\n",
      "Epoch 34, Train Loss: 0.6904038786888123, Train Acc: 82.86%, Train Discrimination: 0.0002262700436403975 Test Loss: 1.646807074546814, Test Acc: 82.66%,Test Discrimination: 0.013883988372981548\n",
      "Epoch 35, Train Loss: 0.681954026222229, Train Acc: 82.86%, Train Discrimination: 8.955790690379217e-05 Test Loss: 1.5441527366638184, Test Acc: 82.66%,Test Discrimination: 0.012366348877549171\n",
      "Epoch 36, Train Loss: 0.6776283383369446, Train Acc: 82.86%, Train Discrimination: 1.2570098078867886e-05 Test Loss: 1.4808372259140015, Test Acc: 82.66%,Test Discrimination: 0.011473124846816063\n",
      "Epoch 37, Train Loss: 0.67612624168396, Train Acc: 82.86%, Train Discrimination: 7.96033361893933e-07 Test Loss: 1.4504456520080566, Test Acc: 82.66%,Test Discrimination: 0.011140910908579826\n",
      "Epoch 38, Train Loss: 0.6729456782341003, Train Acc: 82.86%, Train Discrimination: 4.136281404498732e-06 Test Loss: 1.4428966045379639, Test Acc: 82.66%,Test Discrimination: 0.011224158108234406\n",
      "Epoch 39, Train Loss: 0.6666244268417358, Train Acc: 82.86%, Train Discrimination: 2.770426021925232e-08 Test Loss: 1.454705834388733, Test Acc: 82.66%,Test Discrimination: 0.01165025308728218\n",
      "Epoch 40, Train Loss: 0.6600421071052551, Train Acc: 82.86%, Train Discrimination: 1.558014082547743e-05 Test Loss: 1.4815967082977295, Test Acc: 82.66%,Test Discrimination: 0.01232194621115923\n",
      "Epoch 41, Train Loss: 0.654700756072998, Train Acc: 82.86%, Train Discrimination: 5.453625271911733e-05 Test Loss: 1.5220767259597778, Test Acc: 82.69%,Test Discrimination: 0.013196742162108421\n",
      "Epoch 42, Train Loss: 0.6489155292510986, Train Acc: 82.86%, Train Discrimination: 7.614127389388159e-05 Test Loss: 1.5693572759628296, Test Acc: 82.69%,Test Discrimination: 0.014150256291031837\n",
      "Epoch 43, Train Loss: 0.6415050625801086, Train Acc: 82.86%, Train Discrimination: 5.184347173781134e-05 Test Loss: 1.61744225025177, Test Acc: 82.63%,Test Discrimination: 0.015085555613040924\n",
      "Epoch 44, Train Loss: 0.6343680024147034, Train Acc: 82.86%, Train Discrimination: 1.1204567272216082e-05 Test Loss: 1.6670290231704712, Test Acc: 82.60%,Test Discrimination: 0.01605314388871193\n",
      "Epoch 45, Train Loss: 0.6292930245399475, Train Acc: 82.75%, Train Discrimination: 4.155396027272218e-08 Test Loss: 1.7307188510894775, Test Acc: 82.44%,Test Discrimination: 0.017327889800071716\n",
      "Epoch 46, Train Loss: 0.6232834458351135, Train Acc: 82.66%, Train Discrimination: 3.589822483718308e-08 Test Loss: 1.7991687059402466, Test Acc: 82.28%,Test Discrimination: 0.018782418221235275\n",
      "Epoch 47, Train Loss: 0.6167179346084595, Train Acc: 82.61%, Train Discrimination: 2.0278188458178192e-05 Test Loss: 1.7985247373580933, Test Acc: 82.34%,Test Discrimination: 0.019137542694807053\n",
      "Epoch 48, Train Loss: 0.6112115383148193, Train Acc: 82.65%, Train Discrimination: 5.350239734980278e-05 Test Loss: 1.677141547203064, Test Acc: 82.53%,Test Discrimination: 0.017426714301109314\n",
      "Epoch 49, Train Loss: 0.6036722660064697, Train Acc: 82.79%, Train Discrimination: 1.9525708921719342e-05 Test Loss: 1.5230921506881714, Test Acc: 82.63%,Test Discrimination: 0.015103863552212715\n",
      "Epoch 50, Train Loss: 0.5979263782501221, Train Acc: 82.78%, Train Discrimination: 7.583054184578941e-08 Test Loss: 1.4365432262420654, Test Acc: 82.63%,Test Discrimination: 0.013927778229117393\n",
      "Epoch 51, Train Loss: 0.5918025374412537, Train Acc: 82.80%, Train Discrimination: 1.6969216858342406e-06 Test Loss: 1.415098786354065, Test Acc: 82.63%,Test Discrimination: 0.01388073991984129\n",
      "Epoch 52, Train Loss: 0.5860604047775269, Train Acc: 82.85%, Train Discrimination: 3.354820728418417e-05 Test Loss: 1.4109747409820557, Test Acc: 82.60%,Test Discrimination: 0.014095714315772057\n",
      "Epoch 53, Train Loss: 0.5798729658126831, Train Acc: 82.83%, Train Discrimination: 4.067596819368191e-05 Test Loss: 1.40736985206604, Test Acc: 82.72%,Test Discrimination: 0.014263376593589783\n",
      "Epoch 54, Train Loss: 0.5727940797805786, Train Acc: 82.83%, Train Discrimination: 2.2069218630349496e-06 Test Loss: 1.453865647315979, Test Acc: 82.82%,Test Discrimination: 0.01535029336810112\n",
      "Epoch 55, Train Loss: 0.5668334364891052, Train Acc: 82.82%, Train Discrimination: 1.5335253067405574e-07 Test Loss: 1.549080491065979, Test Acc: 82.75%,Test Discrimination: 0.017395274713635445\n",
      "Epoch 56, Train Loss: 0.5615146160125732, Train Acc: 82.69%, Train Discrimination: 3.865927646984346e-05 Test Loss: 1.477245569229126, Test Acc: 82.75%,Test Discrimination: 0.016369853168725967\n",
      "Epoch 57, Train Loss: 0.555031955242157, Train Acc: 82.66%, Train Discrimination: 1.0313720849808306e-05 Test Loss: 1.3424140214920044, Test Acc: 82.88%,Test Discrimination: 0.01418379507958889\n",
      "Epoch 58, Train Loss: 0.5494706034660339, Train Acc: 82.78%, Train Discrimination: 2.1201040567575546e-07 Test Loss: 1.2921582460403442, Test Acc: 82.91%,Test Discrimination: 0.013602794148027897\n",
      "Epoch 59, Train Loss: 0.5441387295722961, Train Acc: 82.96%, Train Discrimination: 4.386077125673182e-05 Test Loss: 1.2002079486846924, Test Acc: 82.94%,Test Discrimination: 0.012090937234461308\n",
      "Epoch 60, Train Loss: 0.5382333397865295, Train Acc: 82.97%, Train Discrimination: 7.675248525629286e-06 Test Loss: 1.1533699035644531, Test Acc: 83.01%,Test Discrimination: 0.011414957232773304\n",
      "Epoch 61, Train Loss: 0.5336291790008545, Train Acc: 82.88%, Train Discrimination: 1.3861312027074746e-06 Test Loss: 1.2151113748550415, Test Acc: 82.98%,Test Discrimination: 0.01291086245328188\n",
      "Epoch 62, Train Loss: 0.5291166305541992, Train Acc: 82.90%, Train Discrimination: 6.526482320623472e-05 Test Loss: 1.1653772592544556, Test Acc: 83.04%,Test Discrimination: 0.0120852030813694\n",
      "Epoch 63, Train Loss: 0.5240165591239929, Train Acc: 82.76%, Train Discrimination: 4.348344646132318e-06 Test Loss: 1.1964033842086792, Test Acc: 83.29%,Test Discrimination: 0.012983974069356918\n",
      "Epoch 64, Train Loss: 0.5189733505249023, Train Acc: 82.95%, Train Discrimination: 4.06902254326269e-05 Test Loss: 1.0838316679000854, Test Acc: 83.35%,Test Discrimination: 0.01095158327370882\n",
      "Epoch 65, Train Loss: 0.5137745141983032, Train Acc: 83.04%, Train Discrimination: 4.1675551898379126e-08 Test Loss: 1.0343509912490845, Test Acc: 83.61%,Test Discrimination: 0.010207772254943848\n",
      "Epoch 66, Train Loss: 0.5094195604324341, Train Acc: 83.16%, Train Discrimination: 2.6484041882213205e-05 Test Loss: 0.9570425748825073, Test Acc: 83.64%,Test Discrimination: 0.008809830993413925\n",
      "Epoch 67, Train Loss: 0.5055661201477051, Train Acc: 83.15%, Train Discrimination: 4.04616366722621e-06 Test Loss: 0.9909486770629883, Test Acc: 83.86%,Test Discrimination: 0.009737719781696796\n",
      "Epoch 68, Train Loss: 0.5033428072929382, Train Acc: 83.31%, Train Discrimination: 9.606428648112342e-05 Test Loss: 0.8988428711891174, Test Acc: 83.58%,Test Discrimination: 0.00791251752525568\n",
      "Epoch 69, Train Loss: 0.5078108906745911, Train Acc: 83.18%, Train Discrimination: 0.00016399893502239138 Test Loss: 1.1021060943603516, Test Acc: 84.02%,Test Discrimination: 0.012495671398937702\n",
      "Epoch 70, Train Loss: 0.525585412979126, Train Acc: 83.61%, Train Discrimination: 0.0007948702550493181 Test Loss: 0.8282182812690735, Test Acc: 83.64%,Test Discrimination: 0.006742666941136122\n",
      "Epoch 71, Train Loss: 0.5039606094360352, Train Acc: 83.34%, Train Discrimination: 0.0002280757762491703 Test Loss: 0.8144513368606567, Test Acc: 83.89%,Test Discrimination: 0.006632653996348381\n",
      "Epoch 72, Train Loss: 0.48751363158226013, Train Acc: 83.49%, Train Discrimination: 1.1555933269846719e-05 Test Loss: 0.8771834373474121, Test Acc: 84.08%,Test Discrimination: 0.008109557442367077\n",
      "Epoch 73, Train Loss: 0.5013831853866577, Train Acc: 83.74%, Train Discrimination: 0.00043187206028960645 Test Loss: 0.7832282781600952, Test Acc: 84.02%,Test Discrimination: 0.006211674772202969\n",
      "Epoch 74, Train Loss: 0.481157124042511, Train Acc: 83.67%, Train Discrimination: 1.1442743925726973e-05 Test Loss: 0.7684154510498047, Test Acc: 83.99%,Test Discrimination: 0.005973204970359802\n",
      "Epoch 75, Train Loss: 0.48704633116722107, Train Acc: 83.62%, Train Discrimination: 0.00015960162272676826 Test Loss: 0.9038161635398865, Test Acc: 84.11%,Test Discrimination: 0.009107229299843311\n",
      "Epoch 76, Train Loss: 0.4827423691749573, Train Acc: 83.86%, Train Discrimination: 0.00025101209757849574 Test Loss: 0.844440221786499, Test Acc: 84.05%,Test Discrimination: 0.007919040508568287\n",
      "Epoch 77, Train Loss: 0.47325801849365234, Train Acc: 83.85%, Train Discrimination: 8.512281783623621e-05 Test Loss: 0.7099458575248718, Test Acc: 83.89%,Test Discrimination: 0.005035607144236565\n",
      "Epoch 78, Train Loss: 0.4788656234741211, Train Acc: 83.73%, Train Discrimination: 0.00017695823044050485 Test Loss: 0.7229729294776917, Test Acc: 84.05%,Test Discrimination: 0.005457676015794277\n",
      "Epoch 79, Train Loss: 0.46542054414749146, Train Acc: 83.84%, Train Discrimination: 2.8157503493275726e-06 Test Loss: 0.7528676986694336, Test Acc: 84.11%,Test Discrimination: 0.006232020445168018\n",
      "Epoch 80, Train Loss: 0.4708258807659149, Train Acc: 83.81%, Train Discrimination: 0.0002139747084584087 Test Loss: 0.6953473091125488, Test Acc: 84.05%,Test Discrimination: 0.005041742231696844\n",
      "Epoch 81, Train Loss: 0.4600912630558014, Train Acc: 83.81%, Train Discrimination: 9.967582315084655e-11 Test Loss: 0.6754117012023926, Test Acc: 83.89%,Test Discrimination: 0.004670294933021069\n",
      "Epoch 82, Train Loss: 0.4633500576019287, Train Acc: 83.73%, Train Discrimination: 9.539071470499039e-05 Test Loss: 0.7612380385398865, Test Acc: 83.92%,Test Discrimination: 0.006725351791828871\n",
      "Epoch 83, Train Loss: 0.456024706363678, Train Acc: 83.92%, Train Discrimination: 4.94365522172302e-05 Test Loss: 0.7638309597969055, Test Acc: 83.92%,Test Discrimination: 0.006897918414324522\n",
      "Epoch 84, Train Loss: 0.45604079961776733, Train Acc: 83.96%, Train Discrimination: 0.0001200683182105422 Test Loss: 0.6517820954322815, Test Acc: 83.83%,Test Discrimination: 0.0044163865968585014\n",
      "Epoch 85, Train Loss: 0.45163944363594055, Train Acc: 83.83%, Train Discrimination: 2.2032376364222728e-05 Test Loss: 0.6195765137672424, Test Acc: 83.77%,Test Discrimination: 0.003758012782782316\n",
      "Epoch 86, Train Loss: 0.44985491037368774, Train Acc: 83.77%, Train Discrimination: 2.726267121033743e-05 Test Loss: 0.6547641158103943, Test Acc: 83.89%,Test Discrimination: 0.004662782419472933\n",
      "Epoch 87, Train Loss: 0.44728314876556396, Train Acc: 83.82%, Train Discrimination: 6.0248872614465654e-05 Test Loss: 0.6544946432113647, Test Acc: 83.92%,Test Discrimination: 0.004742877092212439\n",
      "Epoch 88, Train Loss: 0.4450967013835907, Train Acc: 83.88%, Train Discrimination: 6.504591146949679e-05 Test Loss: 0.6115290522575378, Test Acc: 83.83%,Test Discrimination: 0.0038061051163822412\n",
      "Epoch 89, Train Loss: 0.4423922300338745, Train Acc: 83.84%, Train Discrimination: 1.5029850146675017e-05 Test Loss: 0.6300622820854187, Test Acc: 83.89%,Test Discrimination: 0.004305840469896793\n",
      "Epoch 90, Train Loss: 0.44006112217903137, Train Acc: 83.86%, Train Discrimination: 8.594597602495924e-06 Test Loss: 0.6947887539863586, Test Acc: 83.95%,Test Discrimination: 0.005898856557905674\n",
      "Epoch 91, Train Loss: 0.43969130516052246, Train Acc: 83.94%, Train Discrimination: 7.174794882303104e-05 Test Loss: 0.6260159611701965, Test Acc: 83.80%,Test Discrimination: 0.0043615191243588924\n",
      "Epoch 92, Train Loss: 0.43526676297187805, Train Acc: 83.95%, Train Discrimination: 3.628321792348288e-06 Test Loss: 0.5677086710929871, Test Acc: 83.80%,Test Discrimination: 0.0030321876984089613\n",
      "Epoch 93, Train Loss: 0.4352673888206482, Train Acc: 83.90%, Train Discrimination: 2.0909761587972753e-05 Test Loss: 0.5836467146873474, Test Acc: 83.80%,Test Discrimination: 0.0034746676683425903\n",
      "Epoch 94, Train Loss: 0.43207043409347534, Train Acc: 83.99%, Train Discrimination: 7.627435479662381e-06 Test Loss: 0.6017699837684631, Test Acc: 83.64%,Test Discrimination: 0.003975182306021452\n",
      "Epoch 95, Train Loss: 0.43172743916511536, Train Acc: 84.02%, Train Discrimination: 5.6273143854923546e-05 Test Loss: 0.5661624670028687, Test Acc: 83.77%,Test Discrimination: 0.0031671752221882343\n",
      "Epoch 96, Train Loss: 0.42878711223602295, Train Acc: 84.00%, Train Discrimination: 2.1105093139794917e-07 Test Loss: 0.5655755996704102, Test Acc: 83.89%,Test Discrimination: 0.0032055818010121584\n",
      "Epoch 97, Train Loss: 0.4277358949184418, Train Acc: 84.03%, Train Discrimination: 7.55599603508017e-06 Test Loss: 0.6209938526153564, Test Acc: 83.95%,Test Discrimination: 0.004590899217873812\n",
      "Epoch 98, Train Loss: 0.42664745450019836, Train Acc: 84.00%, Train Discrimination: 3.3408530725864694e-05 Test Loss: 0.5862168669700623, Test Acc: 83.89%,Test Discrimination: 0.003801785409450531\n",
      "Epoch 99, Train Loss: 0.42424747347831726, Train Acc: 83.99%, Train Discrimination: 1.6426238289568573e-06 Test Loss: 0.5501956939697266, Test Acc: 83.83%,Test Discrimination: 0.0029715769924223423\n",
      "Epoch 100, Train Loss: 0.4236089289188385, Train Acc: 84.07%, Train Discrimination: 8.231560059357435e-06 Test Loss: 0.5715388059616089, Test Acc: 83.86%,Test Discrimination: 0.0035419573541730642\n"
     ]
    }
   ],
   "source": [
    "import torch\n",
    "import torch.nn as nn\n",
    "import torch.optim as optim\n",
    "\n",
    "# Define the model\n",
    "class BinaryClassifier(nn.Module):\n",
    "    def __init__(self, input_size):\n",
    "        super(BinaryClassifier, self).__init__()\n",
    "        self.fc1 = nn.Linear(input_size, 64)\n",
    "        self.fc2 = nn.Linear(64, 1)\n",
    "\n",
    "    def forward(self, x):\n",
    "        x = torch.relu(self.fc1(x))\n",
    "        x = torch.sigmoid(self.fc2(x))\n",
    "        return x.squeeze()\n",
    "\n",
    "# Custom loss function\n",
    "def discrimination_loss(output, target, sensitive_features, lambda_val=100, k=2):\n",
    "    criterion = nn.BCELoss()\n",
    "    standard_loss = criterion(output, target)\n",
    "    mask_unpriv = (sensitive_features == 0)\n",
    "    mask_priv = (sensitive_features == 1)\n",
    "    #discrimination=torch.abs(prob_priv)\n",
    "    prob_unpriv = torch.mean(output[mask_unpriv])\n",
    "    prob_priv = torch.mean(output[mask_priv])\n",
    "    discrimination = lambda_val * (prob_priv - prob_unpriv) ** k\n",
    "    loss_val=(1 + lambda_val * discrimination) * standard_loss\n",
    "    return loss_val,discrimination.item() \n",
    "\n",
    "def calculate_accuracy(predictions, targets):\n",
    "    predicted_classes = (predictions >= 0.5).float()\n",
    "    return (predicted_classes == targets).float().mean()\n",
    "\n",
    "\n",
    "data = torch.tensor(X_train_scaled).float()\n",
    "targets = torch.tensor(y_train).float().unsqueeze(1)\n",
    "\n",
    "# Correctly preparing the sensitive features\n",
    "threshold = 0.5  # Adjust the threshold according to your specific case\n",
    "sensitive_features = torch.tensor((data[:, 1].numpy() > threshold).astype(float)).float()\n",
    "features = torch.cat((data[:, :1], data[:, 2:]), dim=1)\n",
    "\n",
    "# Assuming similar preparation for test data\n",
    "test_data = torch.tensor(X_test_scaled).float()\n",
    "test_targets = torch.tensor(y_test).float().unsqueeze(1)\n",
    "test_sensitive_features = torch.tensor((test_data[:, 1].numpy() > threshold).astype(float)).float()\n",
    "test_features = torch.cat((test_data[:, :1], test_data[:, 2:]), dim=1)\n",
    "\n",
    "model2 = BinaryClassifier(features.shape[1])\n",
    "optimizer = optim.Adam(model2.parameters(), lr=0.01)\n",
    "train_losses, train_accuracies, train_discriminations,train_fairness = [], [], [],[]\n",
    "test_losses, test_accuracies, test_discriminations,test_fairness = [], [], [],[]\n",
    "\n",
    "# Training loop\n",
    "model2.train()\n",
    "for epoch in range(100):\n",
    "    optimizer.zero_grad()\n",
    "    outputs = model2(features)\n",
    "    loss, discrimination = discrimination_loss(outputs, targets.squeeze(), sensitive_features)\n",
    "    train_accuracy = calculate_accuracy(outputs, targets.squeeze())\n",
    "    loss.backward()\n",
    "    optimizer.step()\n",
    "    \n",
    "    # Evaluation on test data\n",
    "    model2.eval()\n",
    "    with torch.no_grad():\n",
    "        test_outputs = model2(test_features)\n",
    "        test_loss,test_discrimination = discrimination_loss(test_outputs, test_targets.squeeze(), test_sensitive_features)\n",
    "        test_accuracy = calculate_accuracy(test_outputs, test_targets.squeeze())\n",
    "    \n",
    "    print(f'Epoch {epoch+1}, Train Loss: {loss.item()}, Train Acc: {train_accuracy.item()*100:.2f}%, Train Discrimination: {discrimination} '\n",
    "          f'Test Loss: {test_loss.item()}, Test Acc: {test_accuracy.item()*100:.2f}%,Test Discrimination: {test_discrimination}')\n",
    "    train_losses.append(loss.item())\n",
    "    train_accuracies.append(train_accuracy.item() * 100)\n",
    "    train_discriminations.append(discrimination)\n",
    "    fairness=1-discrimination\n",
    "    train_fairness.append(fairness)\n",
    "    test_fairness.append(fairness)\n",
    "    test_losses.append(test_loss.item())\n",
    "    test_accuracies.append(test_accuracy.item() * 100)\n",
    "    test_discriminations.append(test_discrimination)\n",
    "    model2.train()\n"
   ]
  },
  {
   "cell_type": "code",
   "execution_count": 31,
   "metadata": {},
   "outputs": [
    {
     "data": {
      "application/vnd.plotly.v1+json": {
       "config": {
        "plotlyServerURL": "https://plot.ly"
       },
       "data": [
        {
         "line": {
          "color": "RoyalBlue",
          "width": 2
         },
         "marker": {
          "color": "RoyalBlue",
          "line": {
           "color": "DarkSlateGrey",
           "width": 1
          },
          "size": 6
         },
         "mode": "lines+markers",
         "name": "Train",
         "type": "scatter",
         "x": [
          1,
          2,
          3,
          4,
          5,
          6,
          7,
          8,
          9,
          10,
          11,
          12,
          13,
          14,
          15,
          16,
          17,
          18,
          19,
          20,
          21,
          22,
          23,
          24,
          25,
          26,
          27,
          28,
          29,
          30,
          31,
          32,
          33,
          34,
          35,
          36,
          37,
          38,
          39,
          40,
          41,
          42,
          43,
          44,
          45,
          46,
          47,
          48,
          49,
          50,
          51,
          52,
          53,
          54,
          55,
          56,
          57,
          58,
          59,
          60,
          61,
          62,
          63,
          64,
          65,
          66,
          67,
          68,
          69,
          70,
          71,
          72,
          73,
          74,
          75,
          76,
          77,
          78,
          79,
          80,
          81,
          82,
          83,
          84,
          85,
          86,
          87,
          88,
          89,
          90,
          91,
          92,
          93,
          94,
          95,
          96,
          97,
          98,
          99,
          100
         ],
         "y": [
          2.673090934753418,
          38.965476989746094,
          20.107635498046875,
          9.372156143188477,
          4.696783542633057,
          2.5706000328063965,
          1.579584002494812,
          1.169830560684204,
          1.017871379852295,
          0.9675214290618896,
          0.9534360766410828,
          0.9504719376564026,
          0.9492924213409424,
          0.9465421438217163,
          0.9409127235412598,
          0.9319369792938232,
          0.9193623065948486,
          0.9028666615486145,
          0.8821762204170227,
          0.8572307825088501,
          0.8286730647087097,
          0.7980899810791016,
          0.7685965299606323,
          0.7478821277618408,
          0.7506402134895325,
          0.7560930848121643,
          0.7321838140487671,
          0.7269140481948853,
          0.7244833707809448,
          0.7057511210441589,
          0.697006106376648,
          0.7025237083435059,
          0.6999026536941528,
          0.6904038786888123,
          0.681954026222229,
          0.6776283383369446,
          0.67612624168396,
          0.6729456782341003,
          0.6666244268417358,
          0.6600421071052551,
          0.654700756072998,
          0.6489155292510986,
          0.6415050625801086,
          0.6343680024147034,
          0.6292930245399475,
          0.6232834458351135,
          0.6167179346084595,
          0.6112115383148193,
          0.6036722660064697,
          0.5979263782501221,
          0.5918025374412537,
          0.5860604047775269,
          0.5798729658126831,
          0.5727940797805786,
          0.5668334364891052,
          0.5615146160125732,
          0.555031955242157,
          0.5494706034660339,
          0.5441387295722961,
          0.5382333397865295,
          0.5336291790008545,
          0.5291166305541992,
          0.5240165591239929,
          0.5189733505249023,
          0.5137745141983032,
          0.5094195604324341,
          0.5055661201477051,
          0.5033428072929382,
          0.5078108906745911,
          0.525585412979126,
          0.5039606094360352,
          0.48751363158226013,
          0.5013831853866577,
          0.481157124042511,
          0.48704633116722107,
          0.4827423691749573,
          0.47325801849365234,
          0.4788656234741211,
          0.46542054414749146,
          0.4708258807659149,
          0.4600912630558014,
          0.4633500576019287,
          0.456024706363678,
          0.45604079961776733,
          0.45163944363594055,
          0.44985491037368774,
          0.44728314876556396,
          0.4450967013835907,
          0.4423922300338745,
          0.44006112217903137,
          0.43969130516052246,
          0.43526676297187805,
          0.4352673888206482,
          0.43207043409347534,
          0.43172743916511536,
          0.42878711223602295,
          0.4277358949184418,
          0.42664745450019836,
          0.42424747347831726,
          0.4236089289188385
         ]
        },
        {
         "line": {
          "color": "Crimson",
          "dash": "dot",
          "width": 2
         },
         "marker": {
          "color": "Crimson",
          "line": {
           "color": "DarkSlateGrey",
           "width": 1
          },
          "size": 6
         },
         "mode": "lines+markers",
         "name": "Test",
         "type": "scatter",
         "x": [
          1,
          2,
          3,
          4,
          5,
          6,
          7,
          8,
          9,
          10,
          11,
          12,
          13,
          14,
          15,
          16,
          17,
          18,
          19,
          20,
          21,
          22,
          23,
          24,
          25,
          26,
          27,
          28,
          29,
          30,
          31,
          32,
          33,
          34,
          35,
          36,
          37,
          38,
          39,
          40,
          41,
          42,
          43,
          44,
          45,
          46,
          47,
          48,
          49,
          50,
          51,
          52,
          53,
          54,
          55,
          56,
          57,
          58,
          59,
          60,
          61,
          62,
          63,
          64,
          65,
          66,
          67,
          68,
          69,
          70,
          71,
          72,
          73,
          74,
          75,
          76,
          77,
          78,
          79,
          80,
          81,
          82,
          83,
          84,
          85,
          86,
          87,
          88,
          89,
          90,
          91,
          92,
          93,
          94,
          95,
          96,
          97,
          98,
          99,
          100
         ],
         "y": [
          61.42726135253906,
          33.263851165771484,
          15.587469100952148,
          7.601461887359619,
          3.873684883117676,
          2.108959913253784,
          1.367756724357605,
          1.0890002250671387,
          0.9949354529380798,
          0.968485414981842,
          0.9643883109092712,
          0.9659908413887024,
          0.9674115777015686,
          0.9668164253234863,
          0.9637989401817322,
          0.9588673114776611,
          0.9535431861877441,
          0.9499441981315613,
          0.9531121253967285,
          0.973260223865509,
          1.0317484140396118,
          1.1767431497573853,
          1.5102810859680176,
          2.153079032897949,
          2.7824699878692627,
          2.837212085723877,
          2.5272648334503174,
          2.2568483352661133,
          2.1351840496063232,
          2.1184818744659424,
          2.085883617401123,
          1.9577003717422485,
          1.792019248008728,
          1.646807074546814,
          1.5441527366638184,
          1.4808372259140015,
          1.4504456520080566,
          1.4428966045379639,
          1.454705834388733,
          1.4815967082977295,
          1.5220767259597778,
          1.5693572759628296,
          1.61744225025177,
          1.6670290231704712,
          1.7307188510894775,
          1.7991687059402466,
          1.7985247373580933,
          1.677141547203064,
          1.5230921506881714,
          1.4365432262420654,
          1.415098786354065,
          1.4109747409820557,
          1.40736985206604,
          1.453865647315979,
          1.549080491065979,
          1.477245569229126,
          1.3424140214920044,
          1.2921582460403442,
          1.2002079486846924,
          1.1533699035644531,
          1.2151113748550415,
          1.1653772592544556,
          1.1964033842086792,
          1.0838316679000854,
          1.0343509912490845,
          0.9570425748825073,
          0.9909486770629883,
          0.8988428711891174,
          1.1021060943603516,
          0.8282182812690735,
          0.8144513368606567,
          0.8771834373474121,
          0.7832282781600952,
          0.7684154510498047,
          0.9038161635398865,
          0.844440221786499,
          0.7099458575248718,
          0.7229729294776917,
          0.7528676986694336,
          0.6953473091125488,
          0.6754117012023926,
          0.7612380385398865,
          0.7638309597969055,
          0.6517820954322815,
          0.6195765137672424,
          0.6547641158103943,
          0.6544946432113647,
          0.6115290522575378,
          0.6300622820854187,
          0.6947887539863586,
          0.6260159611701965,
          0.5677086710929871,
          0.5836467146873474,
          0.6017699837684631,
          0.5661624670028687,
          0.5655755996704102,
          0.6209938526153564,
          0.5862168669700623,
          0.5501956939697266,
          0.5715388059616089
         ]
        }
       ],
       "layout": {
        "font": {
         "color": "black",
         "family": "Helvetica, Arial, sans-serif",
         "size": 12
        },
        "legend": {
         "orientation": "h",
         "x": 0.1,
         "y": 1.1
        },
        "margin": {
         "b": 30,
         "l": 40,
         "r": 40,
         "t": 40
        },
        "plot_bgcolor": "white",
        "template": {
         "data": {
          "bar": [
           {
            "error_x": {
             "color": "#2a3f5f"
            },
            "error_y": {
             "color": "#2a3f5f"
            },
            "marker": {
             "line": {
              "color": "white",
              "width": 0.5
             },
             "pattern": {
              "fillmode": "overlay",
              "size": 10,
              "solidity": 0.2
             }
            },
            "type": "bar"
           }
          ],
          "barpolar": [
           {
            "marker": {
             "line": {
              "color": "white",
              "width": 0.5
             },
             "pattern": {
              "fillmode": "overlay",
              "size": 10,
              "solidity": 0.2
             }
            },
            "type": "barpolar"
           }
          ],
          "carpet": [
           {
            "aaxis": {
             "endlinecolor": "#2a3f5f",
             "gridcolor": "#C8D4E3",
             "linecolor": "#C8D4E3",
             "minorgridcolor": "#C8D4E3",
             "startlinecolor": "#2a3f5f"
            },
            "baxis": {
             "endlinecolor": "#2a3f5f",
             "gridcolor": "#C8D4E3",
             "linecolor": "#C8D4E3",
             "minorgridcolor": "#C8D4E3",
             "startlinecolor": "#2a3f5f"
            },
            "type": "carpet"
           }
          ],
          "choropleth": [
           {
            "colorbar": {
             "outlinewidth": 0,
             "ticks": ""
            },
            "type": "choropleth"
           }
          ],
          "contour": [
           {
            "colorbar": {
             "outlinewidth": 0,
             "ticks": ""
            },
            "colorscale": [
             [
              0,
              "#0d0887"
             ],
             [
              0.1111111111111111,
              "#46039f"
             ],
             [
              0.2222222222222222,
              "#7201a8"
             ],
             [
              0.3333333333333333,
              "#9c179e"
             ],
             [
              0.4444444444444444,
              "#bd3786"
             ],
             [
              0.5555555555555556,
              "#d8576b"
             ],
             [
              0.6666666666666666,
              "#ed7953"
             ],
             [
              0.7777777777777778,
              "#fb9f3a"
             ],
             [
              0.8888888888888888,
              "#fdca26"
             ],
             [
              1,
              "#f0f921"
             ]
            ],
            "type": "contour"
           }
          ],
          "contourcarpet": [
           {
            "colorbar": {
             "outlinewidth": 0,
             "ticks": ""
            },
            "type": "contourcarpet"
           }
          ],
          "heatmap": [
           {
            "colorbar": {
             "outlinewidth": 0,
             "ticks": ""
            },
            "colorscale": [
             [
              0,
              "#0d0887"
             ],
             [
              0.1111111111111111,
              "#46039f"
             ],
             [
              0.2222222222222222,
              "#7201a8"
             ],
             [
              0.3333333333333333,
              "#9c179e"
             ],
             [
              0.4444444444444444,
              "#bd3786"
             ],
             [
              0.5555555555555556,
              "#d8576b"
             ],
             [
              0.6666666666666666,
              "#ed7953"
             ],
             [
              0.7777777777777778,
              "#fb9f3a"
             ],
             [
              0.8888888888888888,
              "#fdca26"
             ],
             [
              1,
              "#f0f921"
             ]
            ],
            "type": "heatmap"
           }
          ],
          "heatmapgl": [
           {
            "colorbar": {
             "outlinewidth": 0,
             "ticks": ""
            },
            "colorscale": [
             [
              0,
              "#0d0887"
             ],
             [
              0.1111111111111111,
              "#46039f"
             ],
             [
              0.2222222222222222,
              "#7201a8"
             ],
             [
              0.3333333333333333,
              "#9c179e"
             ],
             [
              0.4444444444444444,
              "#bd3786"
             ],
             [
              0.5555555555555556,
              "#d8576b"
             ],
             [
              0.6666666666666666,
              "#ed7953"
             ],
             [
              0.7777777777777778,
              "#fb9f3a"
             ],
             [
              0.8888888888888888,
              "#fdca26"
             ],
             [
              1,
              "#f0f921"
             ]
            ],
            "type": "heatmapgl"
           }
          ],
          "histogram": [
           {
            "marker": {
             "pattern": {
              "fillmode": "overlay",
              "size": 10,
              "solidity": 0.2
             }
            },
            "type": "histogram"
           }
          ],
          "histogram2d": [
           {
            "colorbar": {
             "outlinewidth": 0,
             "ticks": ""
            },
            "colorscale": [
             [
              0,
              "#0d0887"
             ],
             [
              0.1111111111111111,
              "#46039f"
             ],
             [
              0.2222222222222222,
              "#7201a8"
             ],
             [
              0.3333333333333333,
              "#9c179e"
             ],
             [
              0.4444444444444444,
              "#bd3786"
             ],
             [
              0.5555555555555556,
              "#d8576b"
             ],
             [
              0.6666666666666666,
              "#ed7953"
             ],
             [
              0.7777777777777778,
              "#fb9f3a"
             ],
             [
              0.8888888888888888,
              "#fdca26"
             ],
             [
              1,
              "#f0f921"
             ]
            ],
            "type": "histogram2d"
           }
          ],
          "histogram2dcontour": [
           {
            "colorbar": {
             "outlinewidth": 0,
             "ticks": ""
            },
            "colorscale": [
             [
              0,
              "#0d0887"
             ],
             [
              0.1111111111111111,
              "#46039f"
             ],
             [
              0.2222222222222222,
              "#7201a8"
             ],
             [
              0.3333333333333333,
              "#9c179e"
             ],
             [
              0.4444444444444444,
              "#bd3786"
             ],
             [
              0.5555555555555556,
              "#d8576b"
             ],
             [
              0.6666666666666666,
              "#ed7953"
             ],
             [
              0.7777777777777778,
              "#fb9f3a"
             ],
             [
              0.8888888888888888,
              "#fdca26"
             ],
             [
              1,
              "#f0f921"
             ]
            ],
            "type": "histogram2dcontour"
           }
          ],
          "mesh3d": [
           {
            "colorbar": {
             "outlinewidth": 0,
             "ticks": ""
            },
            "type": "mesh3d"
           }
          ],
          "parcoords": [
           {
            "line": {
             "colorbar": {
              "outlinewidth": 0,
              "ticks": ""
             }
            },
            "type": "parcoords"
           }
          ],
          "pie": [
           {
            "automargin": true,
            "type": "pie"
           }
          ],
          "scatter": [
           {
            "fillpattern": {
             "fillmode": "overlay",
             "size": 10,
             "solidity": 0.2
            },
            "type": "scatter"
           }
          ],
          "scatter3d": [
           {
            "line": {
             "colorbar": {
              "outlinewidth": 0,
              "ticks": ""
             }
            },
            "marker": {
             "colorbar": {
              "outlinewidth": 0,
              "ticks": ""
             }
            },
            "type": "scatter3d"
           }
          ],
          "scattercarpet": [
           {
            "marker": {
             "colorbar": {
              "outlinewidth": 0,
              "ticks": ""
             }
            },
            "type": "scattercarpet"
           }
          ],
          "scattergeo": [
           {
            "marker": {
             "colorbar": {
              "outlinewidth": 0,
              "ticks": ""
             }
            },
            "type": "scattergeo"
           }
          ],
          "scattergl": [
           {
            "marker": {
             "colorbar": {
              "outlinewidth": 0,
              "ticks": ""
             }
            },
            "type": "scattergl"
           }
          ],
          "scattermapbox": [
           {
            "marker": {
             "colorbar": {
              "outlinewidth": 0,
              "ticks": ""
             }
            },
            "type": "scattermapbox"
           }
          ],
          "scatterpolar": [
           {
            "marker": {
             "colorbar": {
              "outlinewidth": 0,
              "ticks": ""
             }
            },
            "type": "scatterpolar"
           }
          ],
          "scatterpolargl": [
           {
            "marker": {
             "colorbar": {
              "outlinewidth": 0,
              "ticks": ""
             }
            },
            "type": "scatterpolargl"
           }
          ],
          "scatterternary": [
           {
            "marker": {
             "colorbar": {
              "outlinewidth": 0,
              "ticks": ""
             }
            },
            "type": "scatterternary"
           }
          ],
          "surface": [
           {
            "colorbar": {
             "outlinewidth": 0,
             "ticks": ""
            },
            "colorscale": [
             [
              0,
              "#0d0887"
             ],
             [
              0.1111111111111111,
              "#46039f"
             ],
             [
              0.2222222222222222,
              "#7201a8"
             ],
             [
              0.3333333333333333,
              "#9c179e"
             ],
             [
              0.4444444444444444,
              "#bd3786"
             ],
             [
              0.5555555555555556,
              "#d8576b"
             ],
             [
              0.6666666666666666,
              "#ed7953"
             ],
             [
              0.7777777777777778,
              "#fb9f3a"
             ],
             [
              0.8888888888888888,
              "#fdca26"
             ],
             [
              1,
              "#f0f921"
             ]
            ],
            "type": "surface"
           }
          ],
          "table": [
           {
            "cells": {
             "fill": {
              "color": "#EBF0F8"
             },
             "line": {
              "color": "white"
             }
            },
            "header": {
             "fill": {
              "color": "#C8D4E3"
             },
             "line": {
              "color": "white"
             }
            },
            "type": "table"
           }
          ]
         },
         "layout": {
          "annotationdefaults": {
           "arrowcolor": "#2a3f5f",
           "arrowhead": 0,
           "arrowwidth": 1
          },
          "autotypenumbers": "strict",
          "coloraxis": {
           "colorbar": {
            "outlinewidth": 0,
            "ticks": ""
           }
          },
          "colorscale": {
           "diverging": [
            [
             0,
             "#8e0152"
            ],
            [
             0.1,
             "#c51b7d"
            ],
            [
             0.2,
             "#de77ae"
            ],
            [
             0.3,
             "#f1b6da"
            ],
            [
             0.4,
             "#fde0ef"
            ],
            [
             0.5,
             "#f7f7f7"
            ],
            [
             0.6,
             "#e6f5d0"
            ],
            [
             0.7,
             "#b8e186"
            ],
            [
             0.8,
             "#7fbc41"
            ],
            [
             0.9,
             "#4d9221"
            ],
            [
             1,
             "#276419"
            ]
           ],
           "sequential": [
            [
             0,
             "#0d0887"
            ],
            [
             0.1111111111111111,
             "#46039f"
            ],
            [
             0.2222222222222222,
             "#7201a8"
            ],
            [
             0.3333333333333333,
             "#9c179e"
            ],
            [
             0.4444444444444444,
             "#bd3786"
            ],
            [
             0.5555555555555556,
             "#d8576b"
            ],
            [
             0.6666666666666666,
             "#ed7953"
            ],
            [
             0.7777777777777778,
             "#fb9f3a"
            ],
            [
             0.8888888888888888,
             "#fdca26"
            ],
            [
             1,
             "#f0f921"
            ]
           ],
           "sequentialminus": [
            [
             0,
             "#0d0887"
            ],
            [
             0.1111111111111111,
             "#46039f"
            ],
            [
             0.2222222222222222,
             "#7201a8"
            ],
            [
             0.3333333333333333,
             "#9c179e"
            ],
            [
             0.4444444444444444,
             "#bd3786"
            ],
            [
             0.5555555555555556,
             "#d8576b"
            ],
            [
             0.6666666666666666,
             "#ed7953"
            ],
            [
             0.7777777777777778,
             "#fb9f3a"
            ],
            [
             0.8888888888888888,
             "#fdca26"
            ],
            [
             1,
             "#f0f921"
            ]
           ]
          },
          "colorway": [
           "#636efa",
           "#EF553B",
           "#00cc96",
           "#ab63fa",
           "#FFA15A",
           "#19d3f3",
           "#FF6692",
           "#B6E880",
           "#FF97FF",
           "#FECB52"
          ],
          "font": {
           "color": "#2a3f5f"
          },
          "geo": {
           "bgcolor": "white",
           "lakecolor": "white",
           "landcolor": "white",
           "showlakes": true,
           "showland": true,
           "subunitcolor": "#C8D4E3"
          },
          "hoverlabel": {
           "align": "left"
          },
          "hovermode": "closest",
          "mapbox": {
           "style": "light"
          },
          "paper_bgcolor": "white",
          "plot_bgcolor": "white",
          "polar": {
           "angularaxis": {
            "gridcolor": "#EBF0F8",
            "linecolor": "#EBF0F8",
            "ticks": ""
           },
           "bgcolor": "white",
           "radialaxis": {
            "gridcolor": "#EBF0F8",
            "linecolor": "#EBF0F8",
            "ticks": ""
           }
          },
          "scene": {
           "xaxis": {
            "backgroundcolor": "white",
            "gridcolor": "#DFE8F3",
            "gridwidth": 2,
            "linecolor": "#EBF0F8",
            "showbackground": true,
            "ticks": "",
            "zerolinecolor": "#EBF0F8"
           },
           "yaxis": {
            "backgroundcolor": "white",
            "gridcolor": "#DFE8F3",
            "gridwidth": 2,
            "linecolor": "#EBF0F8",
            "showbackground": true,
            "ticks": "",
            "zerolinecolor": "#EBF0F8"
           },
           "zaxis": {
            "backgroundcolor": "white",
            "gridcolor": "#DFE8F3",
            "gridwidth": 2,
            "linecolor": "#EBF0F8",
            "showbackground": true,
            "ticks": "",
            "zerolinecolor": "#EBF0F8"
           }
          },
          "shapedefaults": {
           "line": {
            "color": "#2a3f5f"
           }
          },
          "ternary": {
           "aaxis": {
            "gridcolor": "#DFE8F3",
            "linecolor": "#A2B1C6",
            "ticks": ""
           },
           "baxis": {
            "gridcolor": "#DFE8F3",
            "linecolor": "#A2B1C6",
            "ticks": ""
           },
           "bgcolor": "white",
           "caxis": {
            "gridcolor": "#DFE8F3",
            "linecolor": "#A2B1C6",
            "ticks": ""
           }
          },
          "title": {
           "x": 0.05
          },
          "xaxis": {
           "automargin": true,
           "gridcolor": "#EBF0F8",
           "linecolor": "#EBF0F8",
           "ticks": "",
           "title": {
            "standoff": 15
           },
           "zerolinecolor": "#EBF0F8",
           "zerolinewidth": 2
          },
          "yaxis": {
           "automargin": true,
           "gridcolor": "#EBF0F8",
           "linecolor": "#EBF0F8",
           "ticks": "",
           "title": {
            "standoff": 15
           },
           "zerolinecolor": "#EBF0F8",
           "zerolinewidth": 2
          }
         }
        },
        "title": {
         "text": "Training and Testing Loss",
         "x": 0.5,
         "xanchor": "center",
         "y": 0.9,
         "yanchor": "top"
        },
        "xaxis": {
         "gridcolor": "LightGrey",
         "linecolor": "black",
         "linewidth": 2,
         "showline": true,
         "title": {
          "text": "Epoch"
         }
        },
        "yaxis": {
         "gridcolor": "LightGrey",
         "linecolor": "black",
         "linewidth": 2,
         "showline": true,
         "title": {
          "text": "Loss"
         }
        }
       }
      }
     },
     "metadata": {},
     "output_type": "display_data"
    },
    {
     "data": {
      "application/vnd.plotly.v1+json": {
       "config": {
        "plotlyServerURL": "https://plot.ly"
       },
       "data": [
        {
         "line": {
          "color": "RoyalBlue",
          "width": 2
         },
         "marker": {
          "color": "RoyalBlue",
          "line": {
           "color": "DarkSlateGrey",
           "width": 1
          },
          "size": 6
         },
         "mode": "lines+markers",
         "name": "Train",
         "type": "scatter",
         "x": [
          1,
          2,
          3,
          4,
          5,
          6,
          7,
          8,
          9,
          10,
          11,
          12,
          13,
          14,
          15,
          16,
          17,
          18,
          19,
          20,
          21,
          22,
          23,
          24,
          25,
          26,
          27,
          28,
          29,
          30,
          31,
          32,
          33,
          34,
          35,
          36,
          37,
          38,
          39,
          40,
          41,
          42,
          43,
          44,
          45,
          46,
          47,
          48,
          49,
          50,
          51,
          52,
          53,
          54,
          55,
          56,
          57,
          58,
          59,
          60,
          61,
          62,
          63,
          64,
          65,
          66,
          67,
          68,
          69,
          70,
          71,
          72,
          73,
          74,
          75,
          76,
          77,
          78,
          79,
          80,
          81,
          82,
          83,
          84,
          85,
          86,
          87,
          88,
          89,
          90,
          91,
          92,
          93,
          94,
          95,
          96,
          97,
          98,
          99,
          100
         ],
         "y": [
          39.25299942493439,
          58.88344645500183,
          81.99620842933655,
          82.8727126121521,
          82.8727126121521,
          82.8727126121521,
          82.8727126121521,
          82.8727126121521,
          82.8727126121521,
          82.8727126121521,
          82.8727126121521,
          82.8727126121521,
          82.8727126121521,
          82.8727126121521,
          82.8727126121521,
          82.8727126121521,
          82.8727126121521,
          82.8727126121521,
          82.8727126121521,
          82.8727126121521,
          82.8727126121521,
          82.8727126121521,
          82.8727126121521,
          82.86481499671936,
          82.84901976585388,
          80.6933045387268,
          78.6955177783966,
          78.55337858200073,
          79.84839081764221,
          81.40398263931274,
          82.58054256439209,
          82.85691738128662,
          82.86481499671936,
          82.86481499671936,
          82.86481499671936,
          82.86481499671936,
          82.86481499671936,
          82.86481499671936,
          82.86481499671936,
          82.86481499671936,
          82.86481499671936,
          82.85691738128662,
          82.85691738128662,
          82.85691738128662,
          82.75426626205444,
          82.65950679779053,
          82.61212706565857,
          82.65160918235779,
          82.78585076332092,
          82.77795314788818,
          82.80164003372192,
          82.84901976585388,
          82.83323049545288,
          82.83323049545288,
          82.8174352645874,
          82.691091299057,
          82.65950679779053,
          82.77795314788818,
          82.9595685005188,
          82.96746611595154,
          82.88060426712036,
          82.89639949798584,
          82.7621579170227,
          82.95167684555054,
          83.03853273391724,
          83.16487669944763,
          83.14908146858215,
          83.30700993537903,
          83.18067193031311,
          83.61496925354004,
          83.33860039710999,
          83.48863124847412,
          83.74131321907043,
          83.67024660110474,
          83.62286686897278,
          83.85975956916809,
          83.85186195373535,
          83.72552394866943,
          83.83607268333435,
          83.81237983703613,
          83.81237983703613,
          83.7334156036377,
          83.92292857170105,
          83.96241068840027,
          83.82817506790161,
          83.76500606536865,
          83.82027745246887,
          83.87555480003357,
          83.84396433830261,
          83.85975956916809,
          83.93872380256653,
          83.954519033432,
          83.89924168586731,
          83.98610353469849,
          84.01768803596497,
          84.00189280509949,
          84.03348326683044,
          84.00189280509949,
          83.99400115013123,
          84.07296538352966
         ]
        },
        {
         "line": {
          "color": "Crimson",
          "dash": "dot",
          "width": 2
         },
         "marker": {
          "color": "Crimson",
          "line": {
           "color": "DarkSlateGrey",
           "width": 1
          },
          "size": 6
         },
         "mode": "lines+markers",
         "name": "Test",
         "type": "scatter",
         "x": [
          1,
          2,
          3,
          4,
          5,
          6,
          7,
          8,
          9,
          10,
          11,
          12,
          13,
          14,
          15,
          16,
          17,
          18,
          19,
          20,
          21,
          22,
          23,
          24,
          25,
          26,
          27,
          28,
          29,
          30,
          31,
          32,
          33,
          34,
          35,
          36,
          37,
          38,
          39,
          40,
          41,
          42,
          43,
          44,
          45,
          46,
          47,
          48,
          49,
          50,
          51,
          52,
          53,
          54,
          55,
          56,
          57,
          58,
          59,
          60,
          61,
          62,
          63,
          64,
          65,
          66,
          67,
          68,
          69,
          70,
          71,
          72,
          73,
          74,
          75,
          76,
          77,
          78,
          79,
          80,
          81,
          82,
          83,
          84,
          85,
          86,
          87,
          88,
          89,
          90,
          91,
          92,
          93,
          94,
          95,
          96,
          97,
          98,
          99,
          100
         ],
         "y": [
          58.78079533576965,
          81.61718249320984,
          82.65950679779053,
          82.65950679779053,
          82.65950679779053,
          82.65950679779053,
          82.65950679779053,
          82.65950679779053,
          82.65950679779053,
          82.65950679779053,
          82.65950679779053,
          82.65950679779053,
          82.65950679779053,
          82.65950679779053,
          82.65950679779053,
          82.65950679779053,
          82.65950679779053,
          82.65950679779053,
          82.65950679779053,
          82.65950679779053,
          82.65950679779053,
          82.65950679779053,
          82.65950679779053,
          82.56475329399109,
          80.54327368736267,
          78.67972254753113,
          78.74289155006409,
          79.78521585464478,
          81.42766952514648,
          82.34364986419678,
          82.65950679779053,
          82.65950679779053,
          82.65950679779053,
          82.65950679779053,
          82.65950679779053,
          82.65950679779053,
          82.65950679779053,
          82.65950679779053,
          82.65950679779053,
          82.65950679779053,
          82.691091299057,
          82.691091299057,
          82.62792229652405,
          82.59633779525757,
          82.4384093284607,
          82.28048086166382,
          82.34364986419678,
          82.53316283226013,
          82.62792229652405,
          82.62792229652405,
          82.62792229652405,
          82.59633779525757,
          82.72267580032349,
          82.8174352645874,
          82.75426626205444,
          82.75426626205444,
          82.88060426712036,
          82.91219472885132,
          82.9437792301178,
          83.00694823265076,
          82.97536373138428,
          83.03853273391724,
          83.29122066497803,
          83.35438966751099,
          83.60707759857178,
          83.63866209983826,
          83.85975956916809,
          83.57548713684082,
          84.01768803596497,
          83.63866209983826,
          83.89134407043457,
          84.08085703849792,
          84.01768803596497,
          83.98610353469849,
          84.11244750022888,
          84.04927253723145,
          83.89134407043457,
          84.04927253723145,
          84.11244750022888,
          84.04927253723145,
          83.89134407043457,
          83.92292857170105,
          83.92292857170105,
          83.82817506790161,
          83.76500606536865,
          83.89134407043457,
          83.92292857170105,
          83.82817506790161,
          83.89134407043457,
          83.954519033432,
          83.79659056663513,
          83.79659056663513,
          83.79659056663513,
          83.63866209983826,
          83.76500606536865,
          83.89134407043457,
          83.954519033432,
          83.89134407043457,
          83.82817506790161,
          83.85975956916809
         ]
        }
       ],
       "layout": {
        "font": {
         "color": "black",
         "family": "Helvetica, Arial, sans-serif",
         "size": 12
        },
        "legend": {
         "orientation": "h",
         "x": 0.1,
         "y": 1.1
        },
        "margin": {
         "b": 30,
         "l": 40,
         "r": 40,
         "t": 40
        },
        "plot_bgcolor": "white",
        "template": {
         "data": {
          "bar": [
           {
            "error_x": {
             "color": "#2a3f5f"
            },
            "error_y": {
             "color": "#2a3f5f"
            },
            "marker": {
             "line": {
              "color": "white",
              "width": 0.5
             },
             "pattern": {
              "fillmode": "overlay",
              "size": 10,
              "solidity": 0.2
             }
            },
            "type": "bar"
           }
          ],
          "barpolar": [
           {
            "marker": {
             "line": {
              "color": "white",
              "width": 0.5
             },
             "pattern": {
              "fillmode": "overlay",
              "size": 10,
              "solidity": 0.2
             }
            },
            "type": "barpolar"
           }
          ],
          "carpet": [
           {
            "aaxis": {
             "endlinecolor": "#2a3f5f",
             "gridcolor": "#C8D4E3",
             "linecolor": "#C8D4E3",
             "minorgridcolor": "#C8D4E3",
             "startlinecolor": "#2a3f5f"
            },
            "baxis": {
             "endlinecolor": "#2a3f5f",
             "gridcolor": "#C8D4E3",
             "linecolor": "#C8D4E3",
             "minorgridcolor": "#C8D4E3",
             "startlinecolor": "#2a3f5f"
            },
            "type": "carpet"
           }
          ],
          "choropleth": [
           {
            "colorbar": {
             "outlinewidth": 0,
             "ticks": ""
            },
            "type": "choropleth"
           }
          ],
          "contour": [
           {
            "colorbar": {
             "outlinewidth": 0,
             "ticks": ""
            },
            "colorscale": [
             [
              0,
              "#0d0887"
             ],
             [
              0.1111111111111111,
              "#46039f"
             ],
             [
              0.2222222222222222,
              "#7201a8"
             ],
             [
              0.3333333333333333,
              "#9c179e"
             ],
             [
              0.4444444444444444,
              "#bd3786"
             ],
             [
              0.5555555555555556,
              "#d8576b"
             ],
             [
              0.6666666666666666,
              "#ed7953"
             ],
             [
              0.7777777777777778,
              "#fb9f3a"
             ],
             [
              0.8888888888888888,
              "#fdca26"
             ],
             [
              1,
              "#f0f921"
             ]
            ],
            "type": "contour"
           }
          ],
          "contourcarpet": [
           {
            "colorbar": {
             "outlinewidth": 0,
             "ticks": ""
            },
            "type": "contourcarpet"
           }
          ],
          "heatmap": [
           {
            "colorbar": {
             "outlinewidth": 0,
             "ticks": ""
            },
            "colorscale": [
             [
              0,
              "#0d0887"
             ],
             [
              0.1111111111111111,
              "#46039f"
             ],
             [
              0.2222222222222222,
              "#7201a8"
             ],
             [
              0.3333333333333333,
              "#9c179e"
             ],
             [
              0.4444444444444444,
              "#bd3786"
             ],
             [
              0.5555555555555556,
              "#d8576b"
             ],
             [
              0.6666666666666666,
              "#ed7953"
             ],
             [
              0.7777777777777778,
              "#fb9f3a"
             ],
             [
              0.8888888888888888,
              "#fdca26"
             ],
             [
              1,
              "#f0f921"
             ]
            ],
            "type": "heatmap"
           }
          ],
          "heatmapgl": [
           {
            "colorbar": {
             "outlinewidth": 0,
             "ticks": ""
            },
            "colorscale": [
             [
              0,
              "#0d0887"
             ],
             [
              0.1111111111111111,
              "#46039f"
             ],
             [
              0.2222222222222222,
              "#7201a8"
             ],
             [
              0.3333333333333333,
              "#9c179e"
             ],
             [
              0.4444444444444444,
              "#bd3786"
             ],
             [
              0.5555555555555556,
              "#d8576b"
             ],
             [
              0.6666666666666666,
              "#ed7953"
             ],
             [
              0.7777777777777778,
              "#fb9f3a"
             ],
             [
              0.8888888888888888,
              "#fdca26"
             ],
             [
              1,
              "#f0f921"
             ]
            ],
            "type": "heatmapgl"
           }
          ],
          "histogram": [
           {
            "marker": {
             "pattern": {
              "fillmode": "overlay",
              "size": 10,
              "solidity": 0.2
             }
            },
            "type": "histogram"
           }
          ],
          "histogram2d": [
           {
            "colorbar": {
             "outlinewidth": 0,
             "ticks": ""
            },
            "colorscale": [
             [
              0,
              "#0d0887"
             ],
             [
              0.1111111111111111,
              "#46039f"
             ],
             [
              0.2222222222222222,
              "#7201a8"
             ],
             [
              0.3333333333333333,
              "#9c179e"
             ],
             [
              0.4444444444444444,
              "#bd3786"
             ],
             [
              0.5555555555555556,
              "#d8576b"
             ],
             [
              0.6666666666666666,
              "#ed7953"
             ],
             [
              0.7777777777777778,
              "#fb9f3a"
             ],
             [
              0.8888888888888888,
              "#fdca26"
             ],
             [
              1,
              "#f0f921"
             ]
            ],
            "type": "histogram2d"
           }
          ],
          "histogram2dcontour": [
           {
            "colorbar": {
             "outlinewidth": 0,
             "ticks": ""
            },
            "colorscale": [
             [
              0,
              "#0d0887"
             ],
             [
              0.1111111111111111,
              "#46039f"
             ],
             [
              0.2222222222222222,
              "#7201a8"
             ],
             [
              0.3333333333333333,
              "#9c179e"
             ],
             [
              0.4444444444444444,
              "#bd3786"
             ],
             [
              0.5555555555555556,
              "#d8576b"
             ],
             [
              0.6666666666666666,
              "#ed7953"
             ],
             [
              0.7777777777777778,
              "#fb9f3a"
             ],
             [
              0.8888888888888888,
              "#fdca26"
             ],
             [
              1,
              "#f0f921"
             ]
            ],
            "type": "histogram2dcontour"
           }
          ],
          "mesh3d": [
           {
            "colorbar": {
             "outlinewidth": 0,
             "ticks": ""
            },
            "type": "mesh3d"
           }
          ],
          "parcoords": [
           {
            "line": {
             "colorbar": {
              "outlinewidth": 0,
              "ticks": ""
             }
            },
            "type": "parcoords"
           }
          ],
          "pie": [
           {
            "automargin": true,
            "type": "pie"
           }
          ],
          "scatter": [
           {
            "fillpattern": {
             "fillmode": "overlay",
             "size": 10,
             "solidity": 0.2
            },
            "type": "scatter"
           }
          ],
          "scatter3d": [
           {
            "line": {
             "colorbar": {
              "outlinewidth": 0,
              "ticks": ""
             }
            },
            "marker": {
             "colorbar": {
              "outlinewidth": 0,
              "ticks": ""
             }
            },
            "type": "scatter3d"
           }
          ],
          "scattercarpet": [
           {
            "marker": {
             "colorbar": {
              "outlinewidth": 0,
              "ticks": ""
             }
            },
            "type": "scattercarpet"
           }
          ],
          "scattergeo": [
           {
            "marker": {
             "colorbar": {
              "outlinewidth": 0,
              "ticks": ""
             }
            },
            "type": "scattergeo"
           }
          ],
          "scattergl": [
           {
            "marker": {
             "colorbar": {
              "outlinewidth": 0,
              "ticks": ""
             }
            },
            "type": "scattergl"
           }
          ],
          "scattermapbox": [
           {
            "marker": {
             "colorbar": {
              "outlinewidth": 0,
              "ticks": ""
             }
            },
            "type": "scattermapbox"
           }
          ],
          "scatterpolar": [
           {
            "marker": {
             "colorbar": {
              "outlinewidth": 0,
              "ticks": ""
             }
            },
            "type": "scatterpolar"
           }
          ],
          "scatterpolargl": [
           {
            "marker": {
             "colorbar": {
              "outlinewidth": 0,
              "ticks": ""
             }
            },
            "type": "scatterpolargl"
           }
          ],
          "scatterternary": [
           {
            "marker": {
             "colorbar": {
              "outlinewidth": 0,
              "ticks": ""
             }
            },
            "type": "scatterternary"
           }
          ],
          "surface": [
           {
            "colorbar": {
             "outlinewidth": 0,
             "ticks": ""
            },
            "colorscale": [
             [
              0,
              "#0d0887"
             ],
             [
              0.1111111111111111,
              "#46039f"
             ],
             [
              0.2222222222222222,
              "#7201a8"
             ],
             [
              0.3333333333333333,
              "#9c179e"
             ],
             [
              0.4444444444444444,
              "#bd3786"
             ],
             [
              0.5555555555555556,
              "#d8576b"
             ],
             [
              0.6666666666666666,
              "#ed7953"
             ],
             [
              0.7777777777777778,
              "#fb9f3a"
             ],
             [
              0.8888888888888888,
              "#fdca26"
             ],
             [
              1,
              "#f0f921"
             ]
            ],
            "type": "surface"
           }
          ],
          "table": [
           {
            "cells": {
             "fill": {
              "color": "#EBF0F8"
             },
             "line": {
              "color": "white"
             }
            },
            "header": {
             "fill": {
              "color": "#C8D4E3"
             },
             "line": {
              "color": "white"
             }
            },
            "type": "table"
           }
          ]
         },
         "layout": {
          "annotationdefaults": {
           "arrowcolor": "#2a3f5f",
           "arrowhead": 0,
           "arrowwidth": 1
          },
          "autotypenumbers": "strict",
          "coloraxis": {
           "colorbar": {
            "outlinewidth": 0,
            "ticks": ""
           }
          },
          "colorscale": {
           "diverging": [
            [
             0,
             "#8e0152"
            ],
            [
             0.1,
             "#c51b7d"
            ],
            [
             0.2,
             "#de77ae"
            ],
            [
             0.3,
             "#f1b6da"
            ],
            [
             0.4,
             "#fde0ef"
            ],
            [
             0.5,
             "#f7f7f7"
            ],
            [
             0.6,
             "#e6f5d0"
            ],
            [
             0.7,
             "#b8e186"
            ],
            [
             0.8,
             "#7fbc41"
            ],
            [
             0.9,
             "#4d9221"
            ],
            [
             1,
             "#276419"
            ]
           ],
           "sequential": [
            [
             0,
             "#0d0887"
            ],
            [
             0.1111111111111111,
             "#46039f"
            ],
            [
             0.2222222222222222,
             "#7201a8"
            ],
            [
             0.3333333333333333,
             "#9c179e"
            ],
            [
             0.4444444444444444,
             "#bd3786"
            ],
            [
             0.5555555555555556,
             "#d8576b"
            ],
            [
             0.6666666666666666,
             "#ed7953"
            ],
            [
             0.7777777777777778,
             "#fb9f3a"
            ],
            [
             0.8888888888888888,
             "#fdca26"
            ],
            [
             1,
             "#f0f921"
            ]
           ],
           "sequentialminus": [
            [
             0,
             "#0d0887"
            ],
            [
             0.1111111111111111,
             "#46039f"
            ],
            [
             0.2222222222222222,
             "#7201a8"
            ],
            [
             0.3333333333333333,
             "#9c179e"
            ],
            [
             0.4444444444444444,
             "#bd3786"
            ],
            [
             0.5555555555555556,
             "#d8576b"
            ],
            [
             0.6666666666666666,
             "#ed7953"
            ],
            [
             0.7777777777777778,
             "#fb9f3a"
            ],
            [
             0.8888888888888888,
             "#fdca26"
            ],
            [
             1,
             "#f0f921"
            ]
           ]
          },
          "colorway": [
           "#636efa",
           "#EF553B",
           "#00cc96",
           "#ab63fa",
           "#FFA15A",
           "#19d3f3",
           "#FF6692",
           "#B6E880",
           "#FF97FF",
           "#FECB52"
          ],
          "font": {
           "color": "#2a3f5f"
          },
          "geo": {
           "bgcolor": "white",
           "lakecolor": "white",
           "landcolor": "white",
           "showlakes": true,
           "showland": true,
           "subunitcolor": "#C8D4E3"
          },
          "hoverlabel": {
           "align": "left"
          },
          "hovermode": "closest",
          "mapbox": {
           "style": "light"
          },
          "paper_bgcolor": "white",
          "plot_bgcolor": "white",
          "polar": {
           "angularaxis": {
            "gridcolor": "#EBF0F8",
            "linecolor": "#EBF0F8",
            "ticks": ""
           },
           "bgcolor": "white",
           "radialaxis": {
            "gridcolor": "#EBF0F8",
            "linecolor": "#EBF0F8",
            "ticks": ""
           }
          },
          "scene": {
           "xaxis": {
            "backgroundcolor": "white",
            "gridcolor": "#DFE8F3",
            "gridwidth": 2,
            "linecolor": "#EBF0F8",
            "showbackground": true,
            "ticks": "",
            "zerolinecolor": "#EBF0F8"
           },
           "yaxis": {
            "backgroundcolor": "white",
            "gridcolor": "#DFE8F3",
            "gridwidth": 2,
            "linecolor": "#EBF0F8",
            "showbackground": true,
            "ticks": "",
            "zerolinecolor": "#EBF0F8"
           },
           "zaxis": {
            "backgroundcolor": "white",
            "gridcolor": "#DFE8F3",
            "gridwidth": 2,
            "linecolor": "#EBF0F8",
            "showbackground": true,
            "ticks": "",
            "zerolinecolor": "#EBF0F8"
           }
          },
          "shapedefaults": {
           "line": {
            "color": "#2a3f5f"
           }
          },
          "ternary": {
           "aaxis": {
            "gridcolor": "#DFE8F3",
            "linecolor": "#A2B1C6",
            "ticks": ""
           },
           "baxis": {
            "gridcolor": "#DFE8F3",
            "linecolor": "#A2B1C6",
            "ticks": ""
           },
           "bgcolor": "white",
           "caxis": {
            "gridcolor": "#DFE8F3",
            "linecolor": "#A2B1C6",
            "ticks": ""
           }
          },
          "title": {
           "x": 0.05
          },
          "xaxis": {
           "automargin": true,
           "gridcolor": "#EBF0F8",
           "linecolor": "#EBF0F8",
           "ticks": "",
           "title": {
            "standoff": 15
           },
           "zerolinecolor": "#EBF0F8",
           "zerolinewidth": 2
          },
          "yaxis": {
           "automargin": true,
           "gridcolor": "#EBF0F8",
           "linecolor": "#EBF0F8",
           "ticks": "",
           "title": {
            "standoff": 15
           },
           "zerolinecolor": "#EBF0F8",
           "zerolinewidth": 2
          }
         }
        },
        "title": {
         "text": "Training and Testing Accuracy",
         "x": 0.5,
         "xanchor": "center",
         "y": 0.9,
         "yanchor": "top"
        },
        "xaxis": {
         "gridcolor": "LightGrey",
         "linecolor": "black",
         "linewidth": 2,
         "showline": true,
         "title": {
          "text": "Epoch"
         }
        },
        "yaxis": {
         "gridcolor": "LightGrey",
         "linecolor": "black",
         "linewidth": 2,
         "showline": true,
         "title": {
          "text": "Accuracy (%)"
         }
        }
       }
      }
     },
     "metadata": {},
     "output_type": "display_data"
    },
    {
     "data": {
      "application/vnd.plotly.v1+json": {
       "config": {
        "plotlyServerURL": "https://plot.ly"
       },
       "data": [
        {
         "line": {
          "color": "RoyalBlue",
          "width": 2
         },
         "marker": {
          "color": "RoyalBlue",
          "line": {
           "color": "DarkSlateGrey",
           "width": 1
          },
          "size": 6
         },
         "mode": "lines+markers",
         "name": "Train",
         "type": "scatter",
         "x": [
          1,
          2,
          3,
          4,
          5,
          6,
          7,
          8,
          9,
          10,
          11,
          12,
          13,
          14,
          15,
          16,
          17,
          18,
          19,
          20,
          21,
          22,
          23,
          24,
          25,
          26,
          27,
          28,
          29,
          30,
          31,
          32,
          33,
          34,
          35,
          36,
          37,
          38,
          39,
          40,
          41,
          42,
          43,
          44,
          45,
          46,
          47,
          48,
          49,
          50,
          51,
          52,
          53,
          54,
          55,
          56,
          57,
          58,
          59,
          60,
          61,
          62,
          63,
          64,
          65,
          66,
          67,
          68,
          69,
          70,
          71,
          72,
          73,
          74,
          75,
          76,
          77,
          78,
          79,
          80,
          81,
          82,
          83,
          84,
          85,
          86,
          87,
          88,
          89,
          90,
          91,
          92,
          93,
          94,
          95,
          96,
          97,
          98,
          99,
          100
         ],
         "y": [
          0.022887492552399635,
          0.483476847410202,
          0.23562787473201752,
          0.10379645973443985,
          0.04625870659947395,
          0.02020670659840107,
          0.008166934363543987,
          0.0031696120277047157,
          0.001234313822351396,
          0.0004987393622286618,
          0.00021293242753017694,
          0.00009624656377127394,
          0.000045405256969388574,
          0.000022052401618566364,
          0.00001068957590177888,
          0.0000052250561566324905,
          0.0000024458565803797683,
          6.912121079949429e-7,
          1.3125004416636443e-9,
          0.000001345642090200272,
          0.00000708078732714057,
          0.000021819911125930957,
          0.00006511683750431985,
          0.00019554585742298514,
          0.0004985617124475539,
          0.0005774438031949103,
          0.00014320132322609425,
          0.000021906656911596656,
          0.00008998852717923,
          0.000010529709470574744,
          0.00009081877942662686,
          0.0003208376292604953,
          0.0003514807904139161,
          0.0002262700436403975,
          0.00008955790690379217,
          0.000012570098078867886,
          7.96033361893933e-7,
          0.000004136281404498732,
          2.770426021925232e-8,
          0.00001558014082547743,
          0.00005453625271911733,
          0.00007614127389388159,
          0.00005184347173781134,
          0.000011204567272216082,
          4.155396027272218e-8,
          3.589822483718308e-8,
          0.000020278188458178192,
          0.00005350239734980278,
          0.000019525708921719342,
          7.583054184578941e-8,
          0.0000016969216858342406,
          0.00003354820728418417,
          0.00004067596819368191,
          0.0000022069218630349496,
          1.5335253067405574e-7,
          0.00003865927646984346,
          0.000010313720849808306,
          2.1201040567575546e-7,
          0.00004386077125673182,
          0.000007675248525629286,
          0.0000013861312027074746,
          0.00006526482320623472,
          0.000004348344646132318,
          0.0000406902254326269,
          4.1675551898379126e-8,
          0.000026484041882213205,
          0.00000404616366722621,
          0.00009606428648112342,
          0.00016399893502239138,
          0.0007948702550493181,
          0.0002280757762491703,
          0.000011555933269846719,
          0.00043187206028960645,
          0.000011442743925726973,
          0.00015960162272676826,
          0.00025101209757849574,
          0.00008512281783623621,
          0.00017695823044050485,
          0.0000028157503493275726,
          0.0002139747084584087,
          9.967582315084655e-11,
          0.00009539071470499039,
          0.0000494365522172302,
          0.0001200683182105422,
          0.000022032376364222728,
          0.00002726267121033743,
          0.000060248872614465654,
          0.00006504591146949679,
          0.000015029850146675017,
          0.000008594597602495924,
          0.00007174794882303104,
          0.000003628321792348288,
          0.000020909761587972753,
          0.000007627435479662381,
          0.000056273143854923546,
          2.1105093139794917e-7,
          0.00000755599603508017,
          0.000033408530725864694,
          0.0000016426238289568573,
          0.000008231560059357435
         ]
        },
        {
         "line": {
          "color": "Crimson",
          "dash": "dot",
          "width": 2
         },
         "marker": {
          "color": "Crimson",
          "line": {
           "color": "DarkSlateGrey",
           "width": 1
          },
          "size": 6
         },
         "mode": "lines+markers",
         "name": "Test",
         "type": "scatter",
         "x": [
          1,
          2,
          3,
          4,
          5,
          6,
          7,
          8,
          9,
          10,
          11,
          12,
          13,
          14,
          15,
          16,
          17,
          18,
          19,
          20,
          21,
          22,
          23,
          24,
          25,
          26,
          27,
          28,
          29,
          30,
          31,
          32,
          33,
          34,
          35,
          36,
          37,
          38,
          39,
          40,
          41,
          42,
          43,
          44,
          45,
          46,
          47,
          48,
          49,
          50,
          51,
          52,
          53,
          54,
          55,
          56,
          57,
          58,
          59,
          60,
          61,
          62,
          63,
          64,
          65,
          66,
          67,
          68,
          69,
          70,
          71,
          72,
          73,
          74,
          75,
          76,
          77,
          78,
          79,
          80,
          81,
          82,
          83,
          84,
          85,
          86,
          87,
          88,
          89,
          90,
          91,
          92,
          93,
          94,
          95,
          96,
          97,
          98,
          99,
          100
         ],
         "y": [
          0.7591049075126648,
          0.3896600008010864,
          0.17575567960739136,
          0.07924606651067734,
          0.034578826278448105,
          0.01374199241399765,
          0.005068087484687567,
          0.0017613265663385391,
          0.0005632542306557298,
          0.0001494826574344188,
          0.00002184201730415225,
          3.8280805370050075e-7,
          0.000021346231733332388,
          0.00006389908958226442,
          0.00012362998677417636,
          0.00020664601470343769,
          0.00033388298470526934,
          0.0005363122327253222,
          0.0008811535662971437,
          0.0015014660311862826,
          0.002678176388144493,
          0.005080036818981171,
          0.010152535513043404,
          0.019485153257846832,
          0.0281366016715765,
          0.028529640287160873,
          0.024176504462957382,
          0.02083236537873745,
          0.019712287932634354,
          0.020081672817468643,
          0.02004893496632576,
          0.018389374017715454,
          0.016021478921175003,
          0.013883988372981548,
          0.012366348877549171,
          0.011473124846816063,
          0.011140910908579826,
          0.011224158108234406,
          0.01165025308728218,
          0.01232194621115923,
          0.013196742162108421,
          0.014150256291031837,
          0.015085555613040924,
          0.01605314388871193,
          0.017327889800071716,
          0.018782418221235275,
          0.019137542694807053,
          0.017426714301109314,
          0.015103863552212715,
          0.013927778229117393,
          0.01388073991984129,
          0.014095714315772057,
          0.014263376593589783,
          0.01535029336810112,
          0.017395274713635445,
          0.016369853168725967,
          0.01418379507958889,
          0.013602794148027897,
          0.012090937234461308,
          0.011414957232773304,
          0.01291086245328188,
          0.0120852030813694,
          0.012983974069356918,
          0.01095158327370882,
          0.010207772254943848,
          0.008809830993413925,
          0.009737719781696796,
          0.00791251752525568,
          0.012495671398937702,
          0.006742666941136122,
          0.006632653996348381,
          0.008109557442367077,
          0.006211674772202969,
          0.005973204970359802,
          0.009107229299843311,
          0.007919040508568287,
          0.005035607144236565,
          0.005457676015794277,
          0.006232020445168018,
          0.005041742231696844,
          0.004670294933021069,
          0.006725351791828871,
          0.006897918414324522,
          0.0044163865968585014,
          0.003758012782782316,
          0.004662782419472933,
          0.004742877092212439,
          0.0038061051163822412,
          0.004305840469896793,
          0.005898856557905674,
          0.0043615191243588924,
          0.0030321876984089613,
          0.0034746676683425903,
          0.003975182306021452,
          0.0031671752221882343,
          0.0032055818010121584,
          0.004590899217873812,
          0.003801785409450531,
          0.0029715769924223423,
          0.0035419573541730642
         ]
        }
       ],
       "layout": {
        "font": {
         "color": "black",
         "family": "Helvetica, Arial, sans-serif",
         "size": 12
        },
        "legend": {
         "orientation": "h",
         "x": 0.1,
         "y": 1.1
        },
        "margin": {
         "b": 30,
         "l": 40,
         "r": 40,
         "t": 40
        },
        "plot_bgcolor": "white",
        "template": {
         "data": {
          "bar": [
           {
            "error_x": {
             "color": "#2a3f5f"
            },
            "error_y": {
             "color": "#2a3f5f"
            },
            "marker": {
             "line": {
              "color": "white",
              "width": 0.5
             },
             "pattern": {
              "fillmode": "overlay",
              "size": 10,
              "solidity": 0.2
             }
            },
            "type": "bar"
           }
          ],
          "barpolar": [
           {
            "marker": {
             "line": {
              "color": "white",
              "width": 0.5
             },
             "pattern": {
              "fillmode": "overlay",
              "size": 10,
              "solidity": 0.2
             }
            },
            "type": "barpolar"
           }
          ],
          "carpet": [
           {
            "aaxis": {
             "endlinecolor": "#2a3f5f",
             "gridcolor": "#C8D4E3",
             "linecolor": "#C8D4E3",
             "minorgridcolor": "#C8D4E3",
             "startlinecolor": "#2a3f5f"
            },
            "baxis": {
             "endlinecolor": "#2a3f5f",
             "gridcolor": "#C8D4E3",
             "linecolor": "#C8D4E3",
             "minorgridcolor": "#C8D4E3",
             "startlinecolor": "#2a3f5f"
            },
            "type": "carpet"
           }
          ],
          "choropleth": [
           {
            "colorbar": {
             "outlinewidth": 0,
             "ticks": ""
            },
            "type": "choropleth"
           }
          ],
          "contour": [
           {
            "colorbar": {
             "outlinewidth": 0,
             "ticks": ""
            },
            "colorscale": [
             [
              0,
              "#0d0887"
             ],
             [
              0.1111111111111111,
              "#46039f"
             ],
             [
              0.2222222222222222,
              "#7201a8"
             ],
             [
              0.3333333333333333,
              "#9c179e"
             ],
             [
              0.4444444444444444,
              "#bd3786"
             ],
             [
              0.5555555555555556,
              "#d8576b"
             ],
             [
              0.6666666666666666,
              "#ed7953"
             ],
             [
              0.7777777777777778,
              "#fb9f3a"
             ],
             [
              0.8888888888888888,
              "#fdca26"
             ],
             [
              1,
              "#f0f921"
             ]
            ],
            "type": "contour"
           }
          ],
          "contourcarpet": [
           {
            "colorbar": {
             "outlinewidth": 0,
             "ticks": ""
            },
            "type": "contourcarpet"
           }
          ],
          "heatmap": [
           {
            "colorbar": {
             "outlinewidth": 0,
             "ticks": ""
            },
            "colorscale": [
             [
              0,
              "#0d0887"
             ],
             [
              0.1111111111111111,
              "#46039f"
             ],
             [
              0.2222222222222222,
              "#7201a8"
             ],
             [
              0.3333333333333333,
              "#9c179e"
             ],
             [
              0.4444444444444444,
              "#bd3786"
             ],
             [
              0.5555555555555556,
              "#d8576b"
             ],
             [
              0.6666666666666666,
              "#ed7953"
             ],
             [
              0.7777777777777778,
              "#fb9f3a"
             ],
             [
              0.8888888888888888,
              "#fdca26"
             ],
             [
              1,
              "#f0f921"
             ]
            ],
            "type": "heatmap"
           }
          ],
          "heatmapgl": [
           {
            "colorbar": {
             "outlinewidth": 0,
             "ticks": ""
            },
            "colorscale": [
             [
              0,
              "#0d0887"
             ],
             [
              0.1111111111111111,
              "#46039f"
             ],
             [
              0.2222222222222222,
              "#7201a8"
             ],
             [
              0.3333333333333333,
              "#9c179e"
             ],
             [
              0.4444444444444444,
              "#bd3786"
             ],
             [
              0.5555555555555556,
              "#d8576b"
             ],
             [
              0.6666666666666666,
              "#ed7953"
             ],
             [
              0.7777777777777778,
              "#fb9f3a"
             ],
             [
              0.8888888888888888,
              "#fdca26"
             ],
             [
              1,
              "#f0f921"
             ]
            ],
            "type": "heatmapgl"
           }
          ],
          "histogram": [
           {
            "marker": {
             "pattern": {
              "fillmode": "overlay",
              "size": 10,
              "solidity": 0.2
             }
            },
            "type": "histogram"
           }
          ],
          "histogram2d": [
           {
            "colorbar": {
             "outlinewidth": 0,
             "ticks": ""
            },
            "colorscale": [
             [
              0,
              "#0d0887"
             ],
             [
              0.1111111111111111,
              "#46039f"
             ],
             [
              0.2222222222222222,
              "#7201a8"
             ],
             [
              0.3333333333333333,
              "#9c179e"
             ],
             [
              0.4444444444444444,
              "#bd3786"
             ],
             [
              0.5555555555555556,
              "#d8576b"
             ],
             [
              0.6666666666666666,
              "#ed7953"
             ],
             [
              0.7777777777777778,
              "#fb9f3a"
             ],
             [
              0.8888888888888888,
              "#fdca26"
             ],
             [
              1,
              "#f0f921"
             ]
            ],
            "type": "histogram2d"
           }
          ],
          "histogram2dcontour": [
           {
            "colorbar": {
             "outlinewidth": 0,
             "ticks": ""
            },
            "colorscale": [
             [
              0,
              "#0d0887"
             ],
             [
              0.1111111111111111,
              "#46039f"
             ],
             [
              0.2222222222222222,
              "#7201a8"
             ],
             [
              0.3333333333333333,
              "#9c179e"
             ],
             [
              0.4444444444444444,
              "#bd3786"
             ],
             [
              0.5555555555555556,
              "#d8576b"
             ],
             [
              0.6666666666666666,
              "#ed7953"
             ],
             [
              0.7777777777777778,
              "#fb9f3a"
             ],
             [
              0.8888888888888888,
              "#fdca26"
             ],
             [
              1,
              "#f0f921"
             ]
            ],
            "type": "histogram2dcontour"
           }
          ],
          "mesh3d": [
           {
            "colorbar": {
             "outlinewidth": 0,
             "ticks": ""
            },
            "type": "mesh3d"
           }
          ],
          "parcoords": [
           {
            "line": {
             "colorbar": {
              "outlinewidth": 0,
              "ticks": ""
             }
            },
            "type": "parcoords"
           }
          ],
          "pie": [
           {
            "automargin": true,
            "type": "pie"
           }
          ],
          "scatter": [
           {
            "fillpattern": {
             "fillmode": "overlay",
             "size": 10,
             "solidity": 0.2
            },
            "type": "scatter"
           }
          ],
          "scatter3d": [
           {
            "line": {
             "colorbar": {
              "outlinewidth": 0,
              "ticks": ""
             }
            },
            "marker": {
             "colorbar": {
              "outlinewidth": 0,
              "ticks": ""
             }
            },
            "type": "scatter3d"
           }
          ],
          "scattercarpet": [
           {
            "marker": {
             "colorbar": {
              "outlinewidth": 0,
              "ticks": ""
             }
            },
            "type": "scattercarpet"
           }
          ],
          "scattergeo": [
           {
            "marker": {
             "colorbar": {
              "outlinewidth": 0,
              "ticks": ""
             }
            },
            "type": "scattergeo"
           }
          ],
          "scattergl": [
           {
            "marker": {
             "colorbar": {
              "outlinewidth": 0,
              "ticks": ""
             }
            },
            "type": "scattergl"
           }
          ],
          "scattermapbox": [
           {
            "marker": {
             "colorbar": {
              "outlinewidth": 0,
              "ticks": ""
             }
            },
            "type": "scattermapbox"
           }
          ],
          "scatterpolar": [
           {
            "marker": {
             "colorbar": {
              "outlinewidth": 0,
              "ticks": ""
             }
            },
            "type": "scatterpolar"
           }
          ],
          "scatterpolargl": [
           {
            "marker": {
             "colorbar": {
              "outlinewidth": 0,
              "ticks": ""
             }
            },
            "type": "scatterpolargl"
           }
          ],
          "scatterternary": [
           {
            "marker": {
             "colorbar": {
              "outlinewidth": 0,
              "ticks": ""
             }
            },
            "type": "scatterternary"
           }
          ],
          "surface": [
           {
            "colorbar": {
             "outlinewidth": 0,
             "ticks": ""
            },
            "colorscale": [
             [
              0,
              "#0d0887"
             ],
             [
              0.1111111111111111,
              "#46039f"
             ],
             [
              0.2222222222222222,
              "#7201a8"
             ],
             [
              0.3333333333333333,
              "#9c179e"
             ],
             [
              0.4444444444444444,
              "#bd3786"
             ],
             [
              0.5555555555555556,
              "#d8576b"
             ],
             [
              0.6666666666666666,
              "#ed7953"
             ],
             [
              0.7777777777777778,
              "#fb9f3a"
             ],
             [
              0.8888888888888888,
              "#fdca26"
             ],
             [
              1,
              "#f0f921"
             ]
            ],
            "type": "surface"
           }
          ],
          "table": [
           {
            "cells": {
             "fill": {
              "color": "#EBF0F8"
             },
             "line": {
              "color": "white"
             }
            },
            "header": {
             "fill": {
              "color": "#C8D4E3"
             },
             "line": {
              "color": "white"
             }
            },
            "type": "table"
           }
          ]
         },
         "layout": {
          "annotationdefaults": {
           "arrowcolor": "#2a3f5f",
           "arrowhead": 0,
           "arrowwidth": 1
          },
          "autotypenumbers": "strict",
          "coloraxis": {
           "colorbar": {
            "outlinewidth": 0,
            "ticks": ""
           }
          },
          "colorscale": {
           "diverging": [
            [
             0,
             "#8e0152"
            ],
            [
             0.1,
             "#c51b7d"
            ],
            [
             0.2,
             "#de77ae"
            ],
            [
             0.3,
             "#f1b6da"
            ],
            [
             0.4,
             "#fde0ef"
            ],
            [
             0.5,
             "#f7f7f7"
            ],
            [
             0.6,
             "#e6f5d0"
            ],
            [
             0.7,
             "#b8e186"
            ],
            [
             0.8,
             "#7fbc41"
            ],
            [
             0.9,
             "#4d9221"
            ],
            [
             1,
             "#276419"
            ]
           ],
           "sequential": [
            [
             0,
             "#0d0887"
            ],
            [
             0.1111111111111111,
             "#46039f"
            ],
            [
             0.2222222222222222,
             "#7201a8"
            ],
            [
             0.3333333333333333,
             "#9c179e"
            ],
            [
             0.4444444444444444,
             "#bd3786"
            ],
            [
             0.5555555555555556,
             "#d8576b"
            ],
            [
             0.6666666666666666,
             "#ed7953"
            ],
            [
             0.7777777777777778,
             "#fb9f3a"
            ],
            [
             0.8888888888888888,
             "#fdca26"
            ],
            [
             1,
             "#f0f921"
            ]
           ],
           "sequentialminus": [
            [
             0,
             "#0d0887"
            ],
            [
             0.1111111111111111,
             "#46039f"
            ],
            [
             0.2222222222222222,
             "#7201a8"
            ],
            [
             0.3333333333333333,
             "#9c179e"
            ],
            [
             0.4444444444444444,
             "#bd3786"
            ],
            [
             0.5555555555555556,
             "#d8576b"
            ],
            [
             0.6666666666666666,
             "#ed7953"
            ],
            [
             0.7777777777777778,
             "#fb9f3a"
            ],
            [
             0.8888888888888888,
             "#fdca26"
            ],
            [
             1,
             "#f0f921"
            ]
           ]
          },
          "colorway": [
           "#636efa",
           "#EF553B",
           "#00cc96",
           "#ab63fa",
           "#FFA15A",
           "#19d3f3",
           "#FF6692",
           "#B6E880",
           "#FF97FF",
           "#FECB52"
          ],
          "font": {
           "color": "#2a3f5f"
          },
          "geo": {
           "bgcolor": "white",
           "lakecolor": "white",
           "landcolor": "white",
           "showlakes": true,
           "showland": true,
           "subunitcolor": "#C8D4E3"
          },
          "hoverlabel": {
           "align": "left"
          },
          "hovermode": "closest",
          "mapbox": {
           "style": "light"
          },
          "paper_bgcolor": "white",
          "plot_bgcolor": "white",
          "polar": {
           "angularaxis": {
            "gridcolor": "#EBF0F8",
            "linecolor": "#EBF0F8",
            "ticks": ""
           },
           "bgcolor": "white",
           "radialaxis": {
            "gridcolor": "#EBF0F8",
            "linecolor": "#EBF0F8",
            "ticks": ""
           }
          },
          "scene": {
           "xaxis": {
            "backgroundcolor": "white",
            "gridcolor": "#DFE8F3",
            "gridwidth": 2,
            "linecolor": "#EBF0F8",
            "showbackground": true,
            "ticks": "",
            "zerolinecolor": "#EBF0F8"
           },
           "yaxis": {
            "backgroundcolor": "white",
            "gridcolor": "#DFE8F3",
            "gridwidth": 2,
            "linecolor": "#EBF0F8",
            "showbackground": true,
            "ticks": "",
            "zerolinecolor": "#EBF0F8"
           },
           "zaxis": {
            "backgroundcolor": "white",
            "gridcolor": "#DFE8F3",
            "gridwidth": 2,
            "linecolor": "#EBF0F8",
            "showbackground": true,
            "ticks": "",
            "zerolinecolor": "#EBF0F8"
           }
          },
          "shapedefaults": {
           "line": {
            "color": "#2a3f5f"
           }
          },
          "ternary": {
           "aaxis": {
            "gridcolor": "#DFE8F3",
            "linecolor": "#A2B1C6",
            "ticks": ""
           },
           "baxis": {
            "gridcolor": "#DFE8F3",
            "linecolor": "#A2B1C6",
            "ticks": ""
           },
           "bgcolor": "white",
           "caxis": {
            "gridcolor": "#DFE8F3",
            "linecolor": "#A2B1C6",
            "ticks": ""
           }
          },
          "title": {
           "x": 0.05
          },
          "xaxis": {
           "automargin": true,
           "gridcolor": "#EBF0F8",
           "linecolor": "#EBF0F8",
           "ticks": "",
           "title": {
            "standoff": 15
           },
           "zerolinecolor": "#EBF0F8",
           "zerolinewidth": 2
          },
          "yaxis": {
           "automargin": true,
           "gridcolor": "#EBF0F8",
           "linecolor": "#EBF0F8",
           "ticks": "",
           "title": {
            "standoff": 15
           },
           "zerolinecolor": "#EBF0F8",
           "zerolinewidth": 2
          }
         }
        },
        "title": {
         "text": "Training and Testing Discrimination",
         "x": 0.5,
         "xanchor": "center",
         "y": 0.9,
         "yanchor": "top"
        },
        "xaxis": {
         "gridcolor": "LightGrey",
         "linecolor": "black",
         "linewidth": 2,
         "showline": true,
         "title": {
          "text": "Epoch"
         }
        },
        "yaxis": {
         "gridcolor": "LightGrey",
         "linecolor": "black",
         "linewidth": 2,
         "showline": true,
         "title": {
          "text": "Discrimination"
         }
        }
       }
      }
     },
     "metadata": {},
     "output_type": "display_data"
    },
    {
     "data": {
      "application/vnd.plotly.v1+json": {
       "config": {
        "plotlyServerURL": "https://plot.ly"
       },
       "data": [
        {
         "line": {
          "color": "RoyalBlue",
          "width": 2
         },
         "marker": {
          "color": "RoyalBlue",
          "line": {
           "color": "DarkSlateGrey",
           "width": 1
          },
          "size": 6
         },
         "mode": "lines+markers",
         "name": "Train",
         "type": "scatter",
         "x": [
          1,
          2,
          3,
          4,
          5,
          6,
          7,
          8,
          9,
          10,
          11,
          12,
          13,
          14,
          15,
          16,
          17,
          18,
          19,
          20,
          21,
          22,
          23,
          24,
          25,
          26,
          27,
          28,
          29,
          30,
          31,
          32,
          33,
          34,
          35,
          36,
          37,
          38,
          39,
          40,
          41,
          42,
          43,
          44,
          45,
          46,
          47,
          48,
          49,
          50,
          51,
          52,
          53,
          54,
          55,
          56,
          57,
          58,
          59,
          60,
          61,
          62,
          63,
          64,
          65,
          66,
          67,
          68,
          69,
          70,
          71,
          72,
          73,
          74,
          75,
          76,
          77,
          78,
          79,
          80,
          81,
          82,
          83,
          84,
          85,
          86,
          87,
          88,
          89,
          90,
          91,
          92,
          93,
          94,
          95,
          96,
          97,
          98,
          99,
          100
         ],
         "y": [
          0.9771125074476004,
          0.516523152589798,
          0.7643721252679825,
          0.8962035402655602,
          0.953741293400526,
          0.9797932934015989,
          0.991833065636456,
          0.9968303879722953,
          0.9987656861776486,
          0.9995012606377713,
          0.9997870675724698,
          0.9999037534362287,
          0.9999545947430306,
          0.9999779475983814,
          0.9999893104240982,
          0.9999947749438434,
          0.9999975541434196,
          0.999999308787892,
          0.9999999986874996,
          0.9999986543579098,
          0.9999929192126729,
          0.9999781800888741,
          0.9999348831624957,
          0.999804454142577,
          0.9995014382875524,
          0.9994225561968051,
          0.9998567986767739,
          0.9999780933430884,
          0.9999100114728208,
          0.9999894702905294,
          0.9999091812205734,
          0.9996791623707395,
          0.9996485192095861,
          0.9997737299563596,
          0.9999104420930962,
          0.9999874299019211,
          0.9999992039666381,
          0.9999958637185955,
          0.9999999722957398,
          0.9999844198591745,
          0.9999454637472809,
          0.9999238587261061,
          0.9999481565282622,
          0.9999887954327278,
          0.9999999584460397,
          0.9999999641017752,
          0.9999797218115418,
          0.9999464976026502,
          0.9999804742910783,
          0.9999999241694582,
          0.9999983030783142,
          0.9999664517927158,
          0.9999593240318063,
          0.999997793078137,
          0.9999998466474693,
          0.9999613407235302,
          0.9999896862791502,
          0.9999997879895943,
          0.9999561392287433,
          0.9999923247514744,
          0.9999986138687973,
          0.9999347351767938,
          0.9999956516553539,
          0.9999593097745674,
          0.9999999583244481,
          0.9999735159581178,
          0.9999959538363328,
          0.9999039357135189,
          0.9998360010649776,
          0.9992051297449507,
          0.9997719242237508,
          0.9999884440667302,
          0.9995681279397104,
          0.9999885572560743,
          0.9998403983772732,
          0.9997489879024215,
          0.9999148771821638,
          0.9998230417695595,
          0.9999971842496507,
          0.9997860252915416,
          0.9999999999003242,
          0.999904609285295,
          0.9999505634477828,
          0.9998799316817895,
          0.9999779676236358,
          0.9999727373287897,
          0.9999397511273855,
          0.9999349540885305,
          0.9999849701498533,
          0.9999914054023975,
          0.999928252051177,
          0.9999963716782077,
          0.999979090238412,
          0.9999923725645203,
          0.9999437268561451,
          0.9999997889490686,
          0.9999924440039649,
          0.9999665914692741,
          0.999998357376171,
          0.9999917684399406
         ]
        },
        {
         "line": {
          "color": "Crimson",
          "dash": "dot",
          "width": 2
         },
         "marker": {
          "color": "Crimson",
          "line": {
           "color": "DarkSlateGrey",
           "width": 1
          },
          "size": 6
         },
         "mode": "lines+markers",
         "name": "Test",
         "type": "scatter",
         "x": [
          1,
          2,
          3,
          4,
          5,
          6,
          7,
          8,
          9,
          10,
          11,
          12,
          13,
          14,
          15,
          16,
          17,
          18,
          19,
          20,
          21,
          22,
          23,
          24,
          25,
          26,
          27,
          28,
          29,
          30,
          31,
          32,
          33,
          34,
          35,
          36,
          37,
          38,
          39,
          40,
          41,
          42,
          43,
          44,
          45,
          46,
          47,
          48,
          49,
          50,
          51,
          52,
          53,
          54,
          55,
          56,
          57,
          58,
          59,
          60,
          61,
          62,
          63,
          64,
          65,
          66,
          67,
          68,
          69,
          70,
          71,
          72,
          73,
          74,
          75,
          76,
          77,
          78,
          79,
          80,
          81,
          82,
          83,
          84,
          85,
          86,
          87,
          88,
          89,
          90,
          91,
          92,
          93,
          94,
          95,
          96,
          97,
          98,
          99,
          100
         ],
         "y": [
          0.9771125074476004,
          0.516523152589798,
          0.7643721252679825,
          0.8962035402655602,
          0.953741293400526,
          0.9797932934015989,
          0.991833065636456,
          0.9968303879722953,
          0.9987656861776486,
          0.9995012606377713,
          0.9997870675724698,
          0.9999037534362287,
          0.9999545947430306,
          0.9999779475983814,
          0.9999893104240982,
          0.9999947749438434,
          0.9999975541434196,
          0.999999308787892,
          0.9999999986874996,
          0.9999986543579098,
          0.9999929192126729,
          0.9999781800888741,
          0.9999348831624957,
          0.999804454142577,
          0.9995014382875524,
          0.9994225561968051,
          0.9998567986767739,
          0.9999780933430884,
          0.9999100114728208,
          0.9999894702905294,
          0.9999091812205734,
          0.9996791623707395,
          0.9996485192095861,
          0.9997737299563596,
          0.9999104420930962,
          0.9999874299019211,
          0.9999992039666381,
          0.9999958637185955,
          0.9999999722957398,
          0.9999844198591745,
          0.9999454637472809,
          0.9999238587261061,
          0.9999481565282622,
          0.9999887954327278,
          0.9999999584460397,
          0.9999999641017752,
          0.9999797218115418,
          0.9999464976026502,
          0.9999804742910783,
          0.9999999241694582,
          0.9999983030783142,
          0.9999664517927158,
          0.9999593240318063,
          0.999997793078137,
          0.9999998466474693,
          0.9999613407235302,
          0.9999896862791502,
          0.9999997879895943,
          0.9999561392287433,
          0.9999923247514744,
          0.9999986138687973,
          0.9999347351767938,
          0.9999956516553539,
          0.9999593097745674,
          0.9999999583244481,
          0.9999735159581178,
          0.9999959538363328,
          0.9999039357135189,
          0.9998360010649776,
          0.9992051297449507,
          0.9997719242237508,
          0.9999884440667302,
          0.9995681279397104,
          0.9999885572560743,
          0.9998403983772732,
          0.9997489879024215,
          0.9999148771821638,
          0.9998230417695595,
          0.9999971842496507,
          0.9997860252915416,
          0.9999999999003242,
          0.999904609285295,
          0.9999505634477828,
          0.9998799316817895,
          0.9999779676236358,
          0.9999727373287897,
          0.9999397511273855,
          0.9999349540885305,
          0.9999849701498533,
          0.9999914054023975,
          0.999928252051177,
          0.9999963716782077,
          0.999979090238412,
          0.9999923725645203,
          0.9999437268561451,
          0.9999997889490686,
          0.9999924440039649,
          0.9999665914692741,
          0.999998357376171,
          0.9999917684399406
         ]
        }
       ],
       "layout": {
        "font": {
         "color": "black",
         "family": "Helvetica, Arial, sans-serif",
         "size": 12
        },
        "legend": {
         "orientation": "h",
         "x": 0.1,
         "y": 1.1
        },
        "margin": {
         "b": 30,
         "l": 40,
         "r": 40,
         "t": 40
        },
        "plot_bgcolor": "white",
        "template": {
         "data": {
          "bar": [
           {
            "error_x": {
             "color": "#2a3f5f"
            },
            "error_y": {
             "color": "#2a3f5f"
            },
            "marker": {
             "line": {
              "color": "white",
              "width": 0.5
             },
             "pattern": {
              "fillmode": "overlay",
              "size": 10,
              "solidity": 0.2
             }
            },
            "type": "bar"
           }
          ],
          "barpolar": [
           {
            "marker": {
             "line": {
              "color": "white",
              "width": 0.5
             },
             "pattern": {
              "fillmode": "overlay",
              "size": 10,
              "solidity": 0.2
             }
            },
            "type": "barpolar"
           }
          ],
          "carpet": [
           {
            "aaxis": {
             "endlinecolor": "#2a3f5f",
             "gridcolor": "#C8D4E3",
             "linecolor": "#C8D4E3",
             "minorgridcolor": "#C8D4E3",
             "startlinecolor": "#2a3f5f"
            },
            "baxis": {
             "endlinecolor": "#2a3f5f",
             "gridcolor": "#C8D4E3",
             "linecolor": "#C8D4E3",
             "minorgridcolor": "#C8D4E3",
             "startlinecolor": "#2a3f5f"
            },
            "type": "carpet"
           }
          ],
          "choropleth": [
           {
            "colorbar": {
             "outlinewidth": 0,
             "ticks": ""
            },
            "type": "choropleth"
           }
          ],
          "contour": [
           {
            "colorbar": {
             "outlinewidth": 0,
             "ticks": ""
            },
            "colorscale": [
             [
              0,
              "#0d0887"
             ],
             [
              0.1111111111111111,
              "#46039f"
             ],
             [
              0.2222222222222222,
              "#7201a8"
             ],
             [
              0.3333333333333333,
              "#9c179e"
             ],
             [
              0.4444444444444444,
              "#bd3786"
             ],
             [
              0.5555555555555556,
              "#d8576b"
             ],
             [
              0.6666666666666666,
              "#ed7953"
             ],
             [
              0.7777777777777778,
              "#fb9f3a"
             ],
             [
              0.8888888888888888,
              "#fdca26"
             ],
             [
              1,
              "#f0f921"
             ]
            ],
            "type": "contour"
           }
          ],
          "contourcarpet": [
           {
            "colorbar": {
             "outlinewidth": 0,
             "ticks": ""
            },
            "type": "contourcarpet"
           }
          ],
          "heatmap": [
           {
            "colorbar": {
             "outlinewidth": 0,
             "ticks": ""
            },
            "colorscale": [
             [
              0,
              "#0d0887"
             ],
             [
              0.1111111111111111,
              "#46039f"
             ],
             [
              0.2222222222222222,
              "#7201a8"
             ],
             [
              0.3333333333333333,
              "#9c179e"
             ],
             [
              0.4444444444444444,
              "#bd3786"
             ],
             [
              0.5555555555555556,
              "#d8576b"
             ],
             [
              0.6666666666666666,
              "#ed7953"
             ],
             [
              0.7777777777777778,
              "#fb9f3a"
             ],
             [
              0.8888888888888888,
              "#fdca26"
             ],
             [
              1,
              "#f0f921"
             ]
            ],
            "type": "heatmap"
           }
          ],
          "heatmapgl": [
           {
            "colorbar": {
             "outlinewidth": 0,
             "ticks": ""
            },
            "colorscale": [
             [
              0,
              "#0d0887"
             ],
             [
              0.1111111111111111,
              "#46039f"
             ],
             [
              0.2222222222222222,
              "#7201a8"
             ],
             [
              0.3333333333333333,
              "#9c179e"
             ],
             [
              0.4444444444444444,
              "#bd3786"
             ],
             [
              0.5555555555555556,
              "#d8576b"
             ],
             [
              0.6666666666666666,
              "#ed7953"
             ],
             [
              0.7777777777777778,
              "#fb9f3a"
             ],
             [
              0.8888888888888888,
              "#fdca26"
             ],
             [
              1,
              "#f0f921"
             ]
            ],
            "type": "heatmapgl"
           }
          ],
          "histogram": [
           {
            "marker": {
             "pattern": {
              "fillmode": "overlay",
              "size": 10,
              "solidity": 0.2
             }
            },
            "type": "histogram"
           }
          ],
          "histogram2d": [
           {
            "colorbar": {
             "outlinewidth": 0,
             "ticks": ""
            },
            "colorscale": [
             [
              0,
              "#0d0887"
             ],
             [
              0.1111111111111111,
              "#46039f"
             ],
             [
              0.2222222222222222,
              "#7201a8"
             ],
             [
              0.3333333333333333,
              "#9c179e"
             ],
             [
              0.4444444444444444,
              "#bd3786"
             ],
             [
              0.5555555555555556,
              "#d8576b"
             ],
             [
              0.6666666666666666,
              "#ed7953"
             ],
             [
              0.7777777777777778,
              "#fb9f3a"
             ],
             [
              0.8888888888888888,
              "#fdca26"
             ],
             [
              1,
              "#f0f921"
             ]
            ],
            "type": "histogram2d"
           }
          ],
          "histogram2dcontour": [
           {
            "colorbar": {
             "outlinewidth": 0,
             "ticks": ""
            },
            "colorscale": [
             [
              0,
              "#0d0887"
             ],
             [
              0.1111111111111111,
              "#46039f"
             ],
             [
              0.2222222222222222,
              "#7201a8"
             ],
             [
              0.3333333333333333,
              "#9c179e"
             ],
             [
              0.4444444444444444,
              "#bd3786"
             ],
             [
              0.5555555555555556,
              "#d8576b"
             ],
             [
              0.6666666666666666,
              "#ed7953"
             ],
             [
              0.7777777777777778,
              "#fb9f3a"
             ],
             [
              0.8888888888888888,
              "#fdca26"
             ],
             [
              1,
              "#f0f921"
             ]
            ],
            "type": "histogram2dcontour"
           }
          ],
          "mesh3d": [
           {
            "colorbar": {
             "outlinewidth": 0,
             "ticks": ""
            },
            "type": "mesh3d"
           }
          ],
          "parcoords": [
           {
            "line": {
             "colorbar": {
              "outlinewidth": 0,
              "ticks": ""
             }
            },
            "type": "parcoords"
           }
          ],
          "pie": [
           {
            "automargin": true,
            "type": "pie"
           }
          ],
          "scatter": [
           {
            "fillpattern": {
             "fillmode": "overlay",
             "size": 10,
             "solidity": 0.2
            },
            "type": "scatter"
           }
          ],
          "scatter3d": [
           {
            "line": {
             "colorbar": {
              "outlinewidth": 0,
              "ticks": ""
             }
            },
            "marker": {
             "colorbar": {
              "outlinewidth": 0,
              "ticks": ""
             }
            },
            "type": "scatter3d"
           }
          ],
          "scattercarpet": [
           {
            "marker": {
             "colorbar": {
              "outlinewidth": 0,
              "ticks": ""
             }
            },
            "type": "scattercarpet"
           }
          ],
          "scattergeo": [
           {
            "marker": {
             "colorbar": {
              "outlinewidth": 0,
              "ticks": ""
             }
            },
            "type": "scattergeo"
           }
          ],
          "scattergl": [
           {
            "marker": {
             "colorbar": {
              "outlinewidth": 0,
              "ticks": ""
             }
            },
            "type": "scattergl"
           }
          ],
          "scattermapbox": [
           {
            "marker": {
             "colorbar": {
              "outlinewidth": 0,
              "ticks": ""
             }
            },
            "type": "scattermapbox"
           }
          ],
          "scatterpolar": [
           {
            "marker": {
             "colorbar": {
              "outlinewidth": 0,
              "ticks": ""
             }
            },
            "type": "scatterpolar"
           }
          ],
          "scatterpolargl": [
           {
            "marker": {
             "colorbar": {
              "outlinewidth": 0,
              "ticks": ""
             }
            },
            "type": "scatterpolargl"
           }
          ],
          "scatterternary": [
           {
            "marker": {
             "colorbar": {
              "outlinewidth": 0,
              "ticks": ""
             }
            },
            "type": "scatterternary"
           }
          ],
          "surface": [
           {
            "colorbar": {
             "outlinewidth": 0,
             "ticks": ""
            },
            "colorscale": [
             [
              0,
              "#0d0887"
             ],
             [
              0.1111111111111111,
              "#46039f"
             ],
             [
              0.2222222222222222,
              "#7201a8"
             ],
             [
              0.3333333333333333,
              "#9c179e"
             ],
             [
              0.4444444444444444,
              "#bd3786"
             ],
             [
              0.5555555555555556,
              "#d8576b"
             ],
             [
              0.6666666666666666,
              "#ed7953"
             ],
             [
              0.7777777777777778,
              "#fb9f3a"
             ],
             [
              0.8888888888888888,
              "#fdca26"
             ],
             [
              1,
              "#f0f921"
             ]
            ],
            "type": "surface"
           }
          ],
          "table": [
           {
            "cells": {
             "fill": {
              "color": "#EBF0F8"
             },
             "line": {
              "color": "white"
             }
            },
            "header": {
             "fill": {
              "color": "#C8D4E3"
             },
             "line": {
              "color": "white"
             }
            },
            "type": "table"
           }
          ]
         },
         "layout": {
          "annotationdefaults": {
           "arrowcolor": "#2a3f5f",
           "arrowhead": 0,
           "arrowwidth": 1
          },
          "autotypenumbers": "strict",
          "coloraxis": {
           "colorbar": {
            "outlinewidth": 0,
            "ticks": ""
           }
          },
          "colorscale": {
           "diverging": [
            [
             0,
             "#8e0152"
            ],
            [
             0.1,
             "#c51b7d"
            ],
            [
             0.2,
             "#de77ae"
            ],
            [
             0.3,
             "#f1b6da"
            ],
            [
             0.4,
             "#fde0ef"
            ],
            [
             0.5,
             "#f7f7f7"
            ],
            [
             0.6,
             "#e6f5d0"
            ],
            [
             0.7,
             "#b8e186"
            ],
            [
             0.8,
             "#7fbc41"
            ],
            [
             0.9,
             "#4d9221"
            ],
            [
             1,
             "#276419"
            ]
           ],
           "sequential": [
            [
             0,
             "#0d0887"
            ],
            [
             0.1111111111111111,
             "#46039f"
            ],
            [
             0.2222222222222222,
             "#7201a8"
            ],
            [
             0.3333333333333333,
             "#9c179e"
            ],
            [
             0.4444444444444444,
             "#bd3786"
            ],
            [
             0.5555555555555556,
             "#d8576b"
            ],
            [
             0.6666666666666666,
             "#ed7953"
            ],
            [
             0.7777777777777778,
             "#fb9f3a"
            ],
            [
             0.8888888888888888,
             "#fdca26"
            ],
            [
             1,
             "#f0f921"
            ]
           ],
           "sequentialminus": [
            [
             0,
             "#0d0887"
            ],
            [
             0.1111111111111111,
             "#46039f"
            ],
            [
             0.2222222222222222,
             "#7201a8"
            ],
            [
             0.3333333333333333,
             "#9c179e"
            ],
            [
             0.4444444444444444,
             "#bd3786"
            ],
            [
             0.5555555555555556,
             "#d8576b"
            ],
            [
             0.6666666666666666,
             "#ed7953"
            ],
            [
             0.7777777777777778,
             "#fb9f3a"
            ],
            [
             0.8888888888888888,
             "#fdca26"
            ],
            [
             1,
             "#f0f921"
            ]
           ]
          },
          "colorway": [
           "#636efa",
           "#EF553B",
           "#00cc96",
           "#ab63fa",
           "#FFA15A",
           "#19d3f3",
           "#FF6692",
           "#B6E880",
           "#FF97FF",
           "#FECB52"
          ],
          "font": {
           "color": "#2a3f5f"
          },
          "geo": {
           "bgcolor": "white",
           "lakecolor": "white",
           "landcolor": "white",
           "showlakes": true,
           "showland": true,
           "subunitcolor": "#C8D4E3"
          },
          "hoverlabel": {
           "align": "left"
          },
          "hovermode": "closest",
          "mapbox": {
           "style": "light"
          },
          "paper_bgcolor": "white",
          "plot_bgcolor": "white",
          "polar": {
           "angularaxis": {
            "gridcolor": "#EBF0F8",
            "linecolor": "#EBF0F8",
            "ticks": ""
           },
           "bgcolor": "white",
           "radialaxis": {
            "gridcolor": "#EBF0F8",
            "linecolor": "#EBF0F8",
            "ticks": ""
           }
          },
          "scene": {
           "xaxis": {
            "backgroundcolor": "white",
            "gridcolor": "#DFE8F3",
            "gridwidth": 2,
            "linecolor": "#EBF0F8",
            "showbackground": true,
            "ticks": "",
            "zerolinecolor": "#EBF0F8"
           },
           "yaxis": {
            "backgroundcolor": "white",
            "gridcolor": "#DFE8F3",
            "gridwidth": 2,
            "linecolor": "#EBF0F8",
            "showbackground": true,
            "ticks": "",
            "zerolinecolor": "#EBF0F8"
           },
           "zaxis": {
            "backgroundcolor": "white",
            "gridcolor": "#DFE8F3",
            "gridwidth": 2,
            "linecolor": "#EBF0F8",
            "showbackground": true,
            "ticks": "",
            "zerolinecolor": "#EBF0F8"
           }
          },
          "shapedefaults": {
           "line": {
            "color": "#2a3f5f"
           }
          },
          "ternary": {
           "aaxis": {
            "gridcolor": "#DFE8F3",
            "linecolor": "#A2B1C6",
            "ticks": ""
           },
           "baxis": {
            "gridcolor": "#DFE8F3",
            "linecolor": "#A2B1C6",
            "ticks": ""
           },
           "bgcolor": "white",
           "caxis": {
            "gridcolor": "#DFE8F3",
            "linecolor": "#A2B1C6",
            "ticks": ""
           }
          },
          "title": {
           "x": 0.05
          },
          "xaxis": {
           "automargin": true,
           "gridcolor": "#EBF0F8",
           "linecolor": "#EBF0F8",
           "ticks": "",
           "title": {
            "standoff": 15
           },
           "zerolinecolor": "#EBF0F8",
           "zerolinewidth": 2
          },
          "yaxis": {
           "automargin": true,
           "gridcolor": "#EBF0F8",
           "linecolor": "#EBF0F8",
           "ticks": "",
           "title": {
            "standoff": 15
           },
           "zerolinecolor": "#EBF0F8",
           "zerolinewidth": 2
          }
         }
        },
        "title": {
         "text": "Training and Testing Fairness",
         "x": 0.5,
         "xanchor": "center",
         "y": 0.9,
         "yanchor": "top"
        },
        "xaxis": {
         "gridcolor": "LightGrey",
         "linecolor": "black",
         "linewidth": 2,
         "showline": true,
         "title": {
          "text": "Epoch"
         }
        },
        "yaxis": {
         "gridcolor": "LightGrey",
         "linecolor": "black",
         "linewidth": 2,
         "showline": true,
         "title": {
          "text": "Fairness"
         }
        }
       }
      }
     },
     "metadata": {},
     "output_type": "display_data"
    }
   ],
   "source": [
    "import plotly.graph_objects as go\n",
    "\n",
    "def plot_metric(title, y_label, train_data, test_data):\n",
    "    epochs = list(range(1, 101))\n",
    "    fig = go.Figure()\n",
    "\n",
    "    # Adding Train Line with Markers\n",
    "    fig.add_trace(go.Scatter(\n",
    "        x=epochs, y=train_data, mode='lines+markers',\n",
    "        name='Train',\n",
    "        line=dict(color='RoyalBlue', width=2),\n",
    "        marker=dict(color='RoyalBlue', size=6, line=dict(width=1, color='DarkSlateGrey'))\n",
    "    ))\n",
    "\n",
    "    # Adding Test Line with Markers\n",
    "    fig.add_trace(go.Scatter(\n",
    "        x=epochs, y=test_data, mode='lines+markers',\n",
    "        name='Test',\n",
    "        line=dict(color='Crimson', width=2, dash='dot'),\n",
    "        marker=dict(color='Crimson', size=6, line=dict(width=1, color='DarkSlateGrey'))\n",
    "    ))\n",
    "\n",
    "    # Update Layout\n",
    "    fig.update_layout(\n",
    "        title={'text': title, 'y':0.9, 'x':0.5, 'xanchor': 'center', 'yanchor': 'top'},\n",
    "        xaxis_title='Epoch',\n",
    "        yaxis_title=y_label,\n",
    "        legend=dict(x=0.1, y=1.1, orientation='h'),\n",
    "        font=dict(family=\"Helvetica, Arial, sans-serif\", size=12, color=\"black\"),\n",
    "        plot_bgcolor='white',\n",
    "        margin=dict(l=40, r=40, t=40, b=30)\n",
    "    )\n",
    "\n",
    "    # Gridlines and Axes styles\n",
    "    fig.update_xaxes(showline=True, linewidth=2, linecolor='black', gridcolor='LightGrey')\n",
    "    fig.update_yaxes(showline=True, linewidth=2, linecolor='black', gridcolor='LightGrey')\n",
    "\n",
    "    fig.show()\n",
    "\n",
    "# Example usage\n",
    "plot_metric(\"Training and Testing Loss\", \"Loss\", train_losses, test_losses)\n",
    "plot_metric(\"Training and Testing Accuracy\", \"Accuracy (%)\", train_accuracies, test_accuracies)\n",
    "plot_metric(\"Training and Testing Discrimination\", \"Discrimination\", train_discriminations, test_discriminations)\n",
    "plot_metric(\"Training and Testing Fairness\", \"Fairness\", train_fairness, test_fairness)\n",
    "\n"
   ]
  },
  {
   "cell_type": "markdown",
   "metadata": {},
   "source": [
    "## BCE Loss Fn"
   ]
  },
  {
   "cell_type": "code",
   "execution_count": 32,
   "metadata": {},
   "outputs": [
    {
     "name": "stdout",
     "output_type": "stream",
     "text": [
      "Epoch 1, Train Loss: 0.6893765330314636, Train Acc: 56.96%, Train Discrimination: 0.028892265632748604 Test Loss: 0.8665273189544678, Test Acc: 82.66%,Test Discrimination: 0.11413952708244324\n",
      "Epoch 2, Train Loss: 0.8494628667831421, Train Acc: 82.87%, Train Discrimination: 0.0646490603685379 Test Loss: 0.7340521812438965, Test Acc: 82.66%,Test Discrimination: 0.02978677488863468\n",
      "Epoch 3, Train Loss: 0.7180451154708862, Train Acc: 82.87%, Train Discrimination: 0.01662645861506462 Test Loss: 0.49305757880210876, Test Acc: 82.66%,Test Discrimination: 0.0008751878049224615\n",
      "Epoch 4, Train Loss: 0.4822317659854889, Train Acc: 82.87%, Train Discrimination: 0.0016992390155792236 Test Loss: 0.40948766469955444, Test Acc: 84.37%,Test Discrimination: 0.5070899724960327\n",
      "Epoch 5, Train Loss: 0.4052659273147583, Train Acc: 84.97%, Train Discrimination: 0.41889819502830505 Test Loss: 0.5344403386116028, Test Acc: 71.70%,Test Discrimination: 1.4629510641098022\n",
      "Epoch 6, Train Loss: 0.5349717736244202, Train Acc: 72.08%, Train Discrimination: 1.1699885129928589 Test Loss: 0.4432348310947418, Test Acc: 82.91%,Test Discrimination: 1.1179109811782837\n",
      "Epoch 7, Train Loss: 0.44207313656806946, Train Acc: 82.79%, Train Discrimination: 0.9448722004890442 Test Loss: 0.38032716512680054, Test Acc: 84.27%,Test Discrimination: 0.44283074140548706\n",
      "Epoch 8, Train Loss: 0.3749988079071045, Train Acc: 85.03%, Train Discrimination: 0.4019760489463806 Test Loss: 0.403175413608551, Test Acc: 83.48%,Test Discrimination: 0.15531465411186218\n",
      "Epoch 9, Train Loss: 0.3944748342037201, Train Acc: 83.99%, Train Discrimination: 0.1460663229227066 Test Loss: 0.4298821985721588, Test Acc: 83.10%,Test Discrimination: 0.08754545450210571\n",
      "Epoch 10, Train Loss: 0.4196593761444092, Train Acc: 83.64%, Train Discrimination: 0.08160459250211716 Test Loss: 0.42858901619911194, Test Acc: 83.16%,Test Discrimination: 0.08645991235971451\n",
      "Epoch 11, Train Loss: 0.41827115416526794, Train Acc: 83.73%, Train Discrimination: 0.07904145121574402 Test Loss: 0.405176043510437, Test Acc: 83.67%,Test Discrimination: 0.1285136193037033\n",
      "Epoch 12, Train Loss: 0.39585673809051514, Train Acc: 84.05%, Train Discrimination: 0.11706404387950897 Test Loss: 0.3776590824127197, Test Acc: 84.21%,Test Discrimination: 0.23645246028900146\n",
      "Epoch 13, Train Loss: 0.3701803684234619, Train Acc: 84.74%, Train Discrimination: 0.21740812063217163 Test Loss: 0.36462756991386414, Test Acc: 84.78%,Test Discrimination: 0.44214367866516113\n",
      "Epoch 14, Train Loss: 0.35978808999061584, Train Acc: 85.26%, Train Discrimination: 0.4071773886680603 Test Loss: 0.37136322259902954, Test Acc: 85.06%,Test Discrimination: 0.7065772414207458\n",
      "Epoch 15, Train Loss: 0.3690268397331238, Train Acc: 85.07%, Train Discrimination: 0.6450950503349304 Test Loss: 0.3793603777885437, Test Acc: 85.15%,Test Discrimination: 0.8762152194976807\n",
      "Epoch 16, Train Loss: 0.3783196806907654, Train Acc: 84.62%, Train Discrimination: 0.7950994968414307 Test Loss: 0.3731483221054077, Test Acc: 85.47%,Test Discrimination: 0.872829020023346\n",
      "Epoch 17, Train Loss: 0.37199270725250244, Train Acc: 84.83%, Train Discrimination: 0.7976083159446716 Test Loss: 0.3602275550365448, Test Acc: 85.63%,Test Discrimination: 0.7373597621917725\n",
      "Epoch 18, Train Loss: 0.35798850655555725, Train Acc: 85.40%, Train Discrimination: 0.6868329644203186 Test Loss: 0.35391145944595337, Test Acc: 85.15%,Test Discrimination: 0.558799147605896\n",
      "Epoch 19, Train Loss: 0.3501380681991577, Train Acc: 85.72%, Train Discrimination: 0.5334701538085938 Test Loss: 0.35717904567718506, Test Acc: 84.84%,Test Discrimination: 0.4125717878341675\n",
      "Epoch 20, Train Loss: 0.35183075070381165, Train Acc: 85.71%, Train Discrimination: 0.4035780727863312 Test Loss: 0.36388465762138367, Test Acc: 84.78%,Test Discrimination: 0.32251864671707153\n",
      "Epoch 21, Train Loss: 0.35740622878074646, Train Acc: 85.53%, Train Discrimination: 0.32156074047088623 Test Loss: 0.36761748790740967, Test Acc: 84.46%,Test Discrimination: 0.2813608944416046\n",
      "Epoch 22, Train Loss: 0.36062532663345337, Train Acc: 85.31%, Train Discrimination: 0.28369131684303284 Test Loss: 0.36592987179756165, Test Acc: 84.46%,Test Discrimination: 0.2781275808811188\n",
      "Epoch 23, Train Loss: 0.3590368628501892, Train Acc: 85.31%, Train Discrimination: 0.2813844382762909 Test Loss: 0.3602959215641022, Test Acc: 84.81%,Test Discrimination: 0.3062696158885956\n",
      "Epoch 24, Train Loss: 0.35391226410865784, Train Acc: 85.53%, Train Discrimination: 0.3087084889411926 Test Loss: 0.3541712462902069, Test Acc: 84.87%,Test Discrimination: 0.3615400195121765\n",
      "Epoch 25, Train Loss: 0.34844857454299927, Train Acc: 85.78%, Train Discrimination: 0.3611733019351959 Test Loss: 0.3506123423576355, Test Acc: 85.12%,Test Discrimination: 0.4371921122074127\n",
      "Epoch 26, Train Loss: 0.3456374704837799, Train Acc: 85.89%, Train Discrimination: 0.43151891231536865 Test Loss: 0.3504486382007599, Test Acc: 85.31%,Test Discrimination: 0.5199912190437317\n",
      "Epoch 27, Train Loss: 0.34624630212783813, Train Acc: 85.85%, Train Discrimination: 0.5065035820007324 Test Loss: 0.35205116868019104, Test Acc: 85.63%,Test Discrimination: 0.5924646258354187\n",
      "Epoch 28, Train Loss: 0.34839606285095215, Train Acc: 85.76%, Train Discrimination: 0.5701208114624023 Test Loss: 0.35275527834892273, Test Acc: 85.85%,Test Discrimination: 0.6370248794555664\n",
      "Epoch 29, Train Loss: 0.34930771589279175, Train Acc: 85.81%, Train Discrimination: 0.6082808971405029 Test Loss: 0.3512765169143677, Test Acc: 85.94%,Test Discrimination: 0.6456495523452759\n",
      "Epoch 30, Train Loss: 0.34765130281448364, Train Acc: 85.86%, Train Discrimination: 0.6136332750320435 Test Loss: 0.3484106957912445, Test Acc: 85.63%,Test Discrimination: 0.6203233599662781\n",
      "Epoch 31, Train Loss: 0.3443194031715393, Train Acc: 85.92%, Train Discrimination: 0.5881646871566772 Test Loss: 0.3460047245025635, Test Acc: 85.44%,Test Discrimination: 0.5660967826843262\n",
      "Epoch 32, Train Loss: 0.3411797285079956, Train Acc: 85.98%, Train Discrimination: 0.5363804697990417 Test Loss: 0.34660080075263977, Test Acc: 85.03%,Test Discrimination: 0.48366230726242065\n",
      "Epoch 33, Train Loss: 0.34083840250968933, Train Acc: 85.87%, Train Discrimination: 0.45925331115722656 Test Loss: 0.34859907627105713, Test Acc: 85.03%,Test Discrimination: 0.44366443157196045\n",
      "Epoch 34, Train Loss: 0.3422602415084839, Train Acc: 85.87%, Train Discrimination: 0.42211058735847473 Test Loss: 0.34842362999916077, Test Acc: 85.12%,Test Discrimination: 0.4580681324005127\n",
      "Epoch 35, Train Loss: 0.3420337736606598, Train Acc: 85.88%, Train Discrimination: 0.43511027097702026 Test Loss: 0.34670528769493103, Test Acc: 85.09%,Test Discrimination: 0.509789228439331\n",
      "Epoch 36, Train Loss: 0.34059980511665344, Train Acc: 85.91%, Train Discrimination: 0.4828766882419586 Test Loss: 0.34537655115127563, Test Acc: 85.25%,Test Discrimination: 0.5624973773956299\n",
      "Epoch 37, Train Loss: 0.3396434485912323, Train Acc: 86.03%, Train Discrimination: 0.5316358804702759 Test Loss: 0.3443288207054138, Test Acc: 85.34%,Test Discrimination: 0.6093973517417908\n",
      "Epoch 38, Train Loss: 0.338971883058548, Train Acc: 86.03%, Train Discrimination: 0.5730817317962646 Test Loss: 0.3436129689216614, Test Acc: 85.66%,Test Discrimination: 0.6492713093757629\n",
      "Epoch 39, Train Loss: 0.33865389227867126, Train Acc: 86.05%, Train Discrimination: 0.6067491769790649 Test Loss: 0.3431760370731354, Test Acc: 85.63%,Test Discrimination: 0.6723722219467163\n",
      "Epoch 40, Train Loss: 0.33838164806365967, Train Acc: 86.11%, Train Discrimination: 0.6271101236343384 Test Loss: 0.3427199125289917, Test Acc: 85.69%,Test Discrimination: 0.6735063195228577\n",
      "Epoch 41, Train Loss: 0.33782997727394104, Train Acc: 86.10%, Train Discrimination: 0.6293227076530457 Test Loss: 0.3422622084617615, Test Acc: 85.69%,Test Discrimination: 0.6547510027885437\n",
      "Epoch 42, Train Loss: 0.3370249271392822, Train Acc: 86.09%, Train Discrimination: 0.6146485209465027 Test Loss: 0.34194856882095337, Test Acc: 85.63%,Test Discrimination: 0.622936487197876\n",
      "Epoch 43, Train Loss: 0.336249977350235, Train Acc: 86.09%, Train Discrimination: 0.5883059501647949 Test Loss: 0.34171062707901, Test Acc: 85.41%,Test Discrimination: 0.587398111820221\n",
      "Epoch 44, Train Loss: 0.3356246054172516, Train Acc: 86.13%, Train Discrimination: 0.5576801896095276 Test Loss: 0.34146469831466675, Test Acc: 85.34%,Test Discrimination: 0.5568069815635681\n",
      "Epoch 45, Train Loss: 0.33514276146888733, Train Acc: 86.10%, Train Discrimination: 0.530700147151947 Test Loss: 0.3410678207874298, Test Acc: 85.34%,Test Discrimination: 0.538408100605011\n",
      "Epoch 46, Train Loss: 0.3346046209335327, Train Acc: 86.10%, Train Discrimination: 0.5130552053451538 Test Loss: 0.34082841873168945, Test Acc: 85.31%,Test Discrimination: 0.5392794609069824\n",
      "Epoch 47, Train Loss: 0.33392462134361267, Train Acc: 86.15%, Train Discrimination: 0.5127732157707214 Test Loss: 0.3406904935836792, Test Acc: 85.50%,Test Discrimination: 0.5777758359909058\n",
      "Epoch 48, Train Loss: 0.33346039056777954, Train Acc: 86.31%, Train Discrimination: 0.5492798089981079 Test Loss: 0.34042471647262573, Test Acc: 85.38%,Test Discrimination: 0.5883434414863586\n",
      "Epoch 49, Train Loss: 0.3329395651817322, Train Acc: 86.36%, Train Discrimination: 0.5596801042556763 Test Loss: 0.3402789533138275, Test Acc: 85.44%,Test Discrimination: 0.564018726348877\n",
      "Epoch 50, Train Loss: 0.3322851061820984, Train Acc: 86.31%, Train Discrimination: 0.5371590852737427 Test Loss: 0.34003692865371704, Test Acc: 85.38%,Test Discrimination: 0.5607860684394836\n",
      "Epoch 51, Train Loss: 0.33175668120384216, Train Acc: 86.32%, Train Discrimination: 0.5351575613021851 Test Loss: 0.3393281400203705, Test Acc: 85.28%,Test Discrimination: 0.5884456038475037\n",
      "Epoch 52, Train Loss: 0.33099010586738586, Train Acc: 86.36%, Train Discrimination: 0.563715934753418 Test Loss: 0.3385639786720276, Test Acc: 85.69%,Test Discrimination: 0.6353873014450073\n",
      "Epoch 53, Train Loss: 0.3303709924221039, Train Acc: 86.39%, Train Discrimination: 0.6094982624053955 Test Loss: 0.33810877799987793, Test Acc: 85.75%,Test Discrimination: 0.6539232134819031\n",
      "Epoch 54, Train Loss: 0.3297540247440338, Train Acc: 86.38%, Train Discrimination: 0.6278684139251709 Test Loss: 0.3378382623195648, Test Acc: 85.69%,Test Discrimination: 0.6449885368347168\n",
      "Epoch 55, Train Loss: 0.3290434181690216, Train Acc: 86.40%, Train Discrimination: 0.6200804114341736 Test Loss: 0.3376803994178772, Test Acc: 85.72%,Test Discrimination: 0.6379352807998657\n",
      "Epoch 56, Train Loss: 0.32844457030296326, Train Acc: 86.32%, Train Discrimination: 0.6120428442955017 Test Loss: 0.33716490864753723, Test Acc: 85.66%,Test Discrimination: 0.653712809085846\n",
      "Epoch 57, Train Loss: 0.3276909291744232, Train Acc: 86.36%, Train Discrimination: 0.6235107779502869 Test Loss: 0.33645111322402954, Test Acc: 85.69%,Test Discrimination: 0.6918460726737976\n",
      "Epoch 58, Train Loss: 0.32676252722740173, Train Acc: 86.43%, Train Discrimination: 0.6560997366905212 Test Loss: 0.3356865644454956, Test Acc: 85.66%,Test Discrimination: 0.7060287594795227\n",
      "Epoch 59, Train Loss: 0.3256959319114685, Train Acc: 86.44%, Train Discrimination: 0.666750431060791 Test Loss: 0.33536139130592346, Test Acc: 85.66%,Test Discrimination: 0.6983868479728699\n",
      "Epoch 60, Train Loss: 0.3248368799686432, Train Acc: 86.46%, Train Discrimination: 0.660330593585968 Test Loss: 0.33474215865135193, Test Acc: 85.88%,Test Discrimination: 0.7734810709953308\n",
      "Epoch 61, Train Loss: 0.3241473436355591, Train Acc: 86.55%, Train Discrimination: 0.7274165153503418 Test Loss: 0.3346967101097107, Test Acc: 85.88%,Test Discrimination: 0.7544864416122437\n",
      "Epoch 62, Train Loss: 0.3234710097312927, Train Acc: 86.51%, Train Discrimination: 0.7115174531936646 Test Loss: 0.3344646990299225, Test Acc: 85.85%,Test Discrimination: 0.7700434327125549\n",
      "Epoch 63, Train Loss: 0.3228937089443207, Train Acc: 86.51%, Train Discrimination: 0.7257398962974548 Test Loss: 0.3340303599834442, Test Acc: 85.88%,Test Discrimination: 0.836399495601654\n",
      "Epoch 64, Train Loss: 0.32239267230033875, Train Acc: 86.66%, Train Discrimination: 0.7845637202262878 Test Loss: 0.3344355523586273, Test Acc: 85.98%,Test Discrimination: 0.7675795555114746\n",
      "Epoch 65, Train Loss: 0.32194194197654724, Train Acc: 86.51%, Train Discrimination: 0.7250076532363892 Test Loss: 0.3336296081542969, Test Acc: 86.04%,Test Discrimination: 0.9147170186042786\n",
      "Epoch 66, Train Loss: 0.3215138018131256, Train Acc: 86.74%, Train Discrimination: 0.8539789319038391 Test Loss: 0.3339884281158447, Test Acc: 85.91%,Test Discrimination: 0.802850604057312\n",
      "Epoch 67, Train Loss: 0.3208818733692169, Train Acc: 86.61%, Train Discrimination: 0.7571476101875305 Test Loss: 0.33318930864334106, Test Acc: 86.07%,Test Discrimination: 0.8864215612411499\n",
      "Epoch 68, Train Loss: 0.32016313076019287, Train Acc: 86.69%, Train Discrimination: 0.8304963111877441 Test Loss: 0.33291688561439514, Test Acc: 86.10%,Test Discrimination: 0.9457162618637085\n",
      "Epoch 69, Train Loss: 0.31984007358551025, Train Acc: 86.77%, Train Discrimination: 0.8820505738258362 Test Loss: 0.33355897665023804, Test Acc: 85.85%,Test Discrimination: 0.8437219262123108\n",
      "Epoch 70, Train Loss: 0.319575697183609, Train Acc: 86.76%, Train Discrimination: 0.7928959131240845 Test Loss: 0.3325559198856354, Test Acc: 86.07%,Test Discrimination: 0.9743655323982239\n",
      "Epoch 71, Train Loss: 0.3189741373062134, Train Acc: 86.79%, Train Discrimination: 0.9075414538383484 Test Loss: 0.3324671685695648, Test Acc: 86.10%,Test Discrimination: 0.9538917541503906\n",
      "Epoch 72, Train Loss: 0.3184824287891388, Train Acc: 86.84%, Train Discrimination: 0.8906792998313904 Test Loss: 0.3328649699687958, Test Acc: 85.91%,Test Discrimination: 0.8971131443977356\n",
      "Epoch 73, Train Loss: 0.31828832626342773, Train Acc: 86.76%, Train Discrimination: 0.8422393202781677 Test Loss: 0.3321385085582733, Test Acc: 85.98%,Test Discrimination: 1.0253230333328247\n",
      "Epoch 74, Train Loss: 0.3179641366004944, Train Acc: 86.83%, Train Discrimination: 0.9551102519035339 Test Loss: 0.3323608338832855, Test Acc: 86.17%,Test Discrimination: 0.9427615404129028\n",
      "Epoch 75, Train Loss: 0.3174552321434021, Train Acc: 86.81%, Train Discrimination: 0.8845437169075012 Test Loss: 0.33224791288375854, Test Acc: 86.07%,Test Discrimination: 0.9520696401596069\n",
      "Epoch 76, Train Loss: 0.31711119413375854, Train Acc: 86.83%, Train Discrimination: 0.8933191299438477 Test Loss: 0.3318634033203125, Test Acc: 85.88%,Test Discrimination: 1.037575364112854\n",
      "Epoch 77, Train Loss: 0.3169209361076355, Train Acc: 86.77%, Train Discrimination: 0.9679976105690002 Test Loss: 0.33232301473617554, Test Acc: 86.07%,Test Discrimination: 0.933535099029541\n",
      "Epoch 78, Train Loss: 0.31655648350715637, Train Acc: 86.84%, Train Discrimination: 0.8780548572540283 Test Loss: 0.33179783821105957, Test Acc: 85.94%,Test Discrimination: 0.9951685667037964\n",
      "Epoch 79, Train Loss: 0.31612369418144226, Train Acc: 86.85%, Train Discrimination: 0.9319747686386108 Test Loss: 0.33166858553886414, Test Acc: 85.94%,Test Discrimination: 1.015641212463379\n",
      "Epoch 80, Train Loss: 0.3158622980117798, Train Acc: 86.94%, Train Discrimination: 0.9494182467460632 Test Loss: 0.3321272134780884, Test Acc: 86.01%,Test Discrimination: 0.9333077073097229\n",
      "Epoch 81, Train Loss: 0.31563952565193176, Train Acc: 86.97%, Train Discrimination: 0.8777487874031067 Test Loss: 0.3314824104309082, Test Acc: 85.98%,Test Discrimination: 1.0153406858444214\n",
      "Epoch 82, Train Loss: 0.31527379155158997, Train Acc: 86.88%, Train Discrimination: 0.9482680559158325 Test Loss: 0.33151355385780334, Test Acc: 86.07%,Test Discrimination: 0.9788159132003784\n",
      "Epoch 83, Train Loss: 0.3149093985557556, Train Acc: 86.96%, Train Discrimination: 0.9160862565040588 Test Loss: 0.33172643184661865, Test Acc: 86.01%,Test Discrimination: 0.9364306926727295\n",
      "Epoch 84, Train Loss: 0.3147119879722595, Train Acc: 87.07%, Train Discrimination: 0.8783939480781555 Test Loss: 0.33136454224586487, Test Acc: 86.01%,Test Discrimination: 1.008489727973938\n",
      "Epoch 85, Train Loss: 0.3145003914833069, Train Acc: 87.01%, Train Discrimination: 0.9396288394927979 Test Loss: 0.3317037522792816, Test Acc: 85.91%,Test Discrimination: 0.9213685989379883\n",
      "Epoch 86, Train Loss: 0.31423279643058777, Train Acc: 87.07%, Train Discrimination: 0.8646906614303589 Test Loss: 0.33114081621170044, Test Acc: 86.01%,Test Discrimination: 0.9889554381370544\n",
      "Epoch 87, Train Loss: 0.31390252709388733, Train Acc: 87.03%, Train Discrimination: 0.9235911965370178 Test Loss: 0.33105161786079407, Test Acc: 86.07%,Test Discrimination: 0.976599931716919\n",
      "Epoch 88, Train Loss: 0.31362399458885193, Train Acc: 87.01%, Train Discrimination: 0.9139345288276672 Test Loss: 0.33122849464416504, Test Acc: 85.88%,Test Discrimination: 0.9288054704666138\n",
      "Epoch 89, Train Loss: 0.3134077787399292, Train Acc: 87.01%, Train Discrimination: 0.8731881976127625 Test Loss: 0.33072996139526367, Test Acc: 86.01%,Test Discrimination: 0.9963604807853699\n",
      "Epoch 90, Train Loss: 0.3131285607814789, Train Acc: 87.00%, Train Discrimination: 0.9329630136489868 Test Loss: 0.3308558464050293, Test Acc: 86.04%,Test Discrimination: 0.9482054114341736\n",
      "Epoch 91, Train Loss: 0.312815397977829, Train Acc: 86.90%, Train Discrimination: 0.892885148525238 Test Loss: 0.3308136761188507, Test Acc: 85.94%,Test Discrimination: 0.9436584711074829\n",
      "Epoch 92, Train Loss: 0.3125527501106262, Train Acc: 86.96%, Train Discrimination: 0.8900060057640076 Test Loss: 0.3305400013923645, Test Acc: 85.98%,Test Discrimination: 0.983189582824707\n",
      "Epoch 93, Train Loss: 0.31234806776046753, Train Acc: 87.03%, Train Discrimination: 0.925059974193573 Test Loss: 0.33068811893463135, Test Acc: 85.85%,Test Discrimination: 0.9317584037780762\n",
      "Epoch 94, Train Loss: 0.31211480498313904, Train Acc: 87.07%, Train Discrimination: 0.8807531595230103 Test Loss: 0.3305257558822632, Test Acc: 85.72%,Test Discrimination: 0.9462864398956299\n",
      "Epoch 95, Train Loss: 0.3118909001350403, Train Acc: 87.07%, Train Discrimination: 0.8945513367652893 Test Loss: 0.3304610252380371, Test Acc: 85.72%,Test Discrimination: 0.956537663936615\n",
      "Epoch 96, Train Loss: 0.3116954267024994, Train Acc: 87.07%, Train Discrimination: 0.9055699110031128 Test Loss: 0.3307129740715027, Test Acc: 85.79%,Test Discrimination: 0.9164716005325317\n",
      "Epoch 97, Train Loss: 0.3114984929561615, Train Acc: 87.11%, Train Discrimination: 0.8730623722076416 Test Loss: 0.3305681347846985, Test Acc: 85.72%,Test Discrimination: 0.9634522795677185\n",
      "Epoch 98, Train Loss: 0.3112768530845642, Train Acc: 87.07%, Train Discrimination: 0.9169492721557617 Test Loss: 0.330710232257843, Test Acc: 85.72%,Test Discrimination: 0.9306386113166809\n",
      "Epoch 99, Train Loss: 0.3110225200653076, Train Acc: 87.11%, Train Discrimination: 0.8897609114646912 Test Loss: 0.33071762323379517, Test Acc: 85.75%,Test Discrimination: 0.9277322292327881\n",
      "Epoch 100, Train Loss: 0.31081321835517883, Train Acc: 87.15%, Train Discrimination: 0.8878940939903259 Test Loss: 0.33061498403549194, Test Acc: 85.69%,Test Discrimination: 0.9497249722480774\n"
     ]
    }
   ],
   "source": [
    "import torch\n",
    "import torch.nn as nn\n",
    "import torch.optim as optim\n",
    "\n",
    "# Define the model\n",
    "class BinaryClassifier(nn.Module):\n",
    "    def __init__(self, input_size):\n",
    "        super(BinaryClassifier, self).__init__()\n",
    "        self.fc1 = nn.Linear(input_size, 64)\n",
    "        self.fc2 = nn.Linear(64, 1)\n",
    "\n",
    "    def forward(self, x):\n",
    "        x = torch.relu(self.fc1(x))\n",
    "        x = torch.sigmoid(self.fc2(x))\n",
    "        return x.squeeze()\n",
    "\n",
    "# Custom loss function|\n",
    "def discrimination_loss(output, target, sensitive_features, lambda_val=100, k=2):\n",
    "    criterion = nn.BCELoss()\n",
    "    standard_loss = criterion(output, target)\n",
    "\n",
    "    mask_unpriv = (sensitive_features == 0)\n",
    "    mask_priv = (sensitive_features == 1)\n",
    "    #discrimination=torch.abs(prob_priv)\n",
    "    prob_unpriv = torch.mean(output[mask_unpriv])\n",
    "    prob_priv = torch.mean(output[mask_priv])\n",
    "    discrimination = lambda_val*(prob_priv - prob_unpriv) ** k\n",
    "\n",
    "# Handle cases where one group might be missing\n",
    "    #discrimination=torch.abs(prob_priv)\n",
    " \n",
    "    loss_val=standard_loss\n",
    "\n",
    "    return loss_val,discrimination.item() \n",
    "\n",
    "def calculate_accuracy(predictions, targets):\n",
    "    predicted_classes = (predictions >= 0.5).float()\n",
    "    return (predicted_classes == targets).float().mean()\n",
    "\n",
    "\n",
    "data = torch.tensor(X_train_scaled).float()\n",
    "targets = torch.tensor(y_train).float().unsqueeze(1)\n",
    "\n",
    "# Correctly preparing the sensitive features\n",
    "threshold = 0.5  # Adjust the threshold according to your specific case\n",
    "sensitive_features = torch.tensor((data[:, 1].numpy() > threshold).astype(float)).float()\n",
    "features = torch.cat((data[:, :1], data[:, 2:]), dim=1)\n",
    "\n",
    "# Assuming similar preparation for test data\n",
    "test_data = torch.tensor(X_test_scaled).float()\n",
    "test_targets = torch.tensor(y_test).float().unsqueeze(1)\n",
    "test_sensitive_features = torch.tensor((test_data[:, 1].numpy() > threshold).astype(float)).float()\n",
    "test_features = torch.cat((test_data[:, :1], test_data[:, 2:]), dim=1)\n",
    "\n",
    "model = BinaryClassifier(features.shape[1])\n",
    "optimizer = optim.Adam(model.parameters(), lr=0.01)\n",
    "train_losses1, train_accuracies1, train_discriminations1,train_fairness1 = [], [], [],[]\n",
    "test_losses1, test_accuracies1, test_discriminations1,test_fairness1 = [], [], [],[]\n",
    "# Training loop\n",
    "model.train()\n",
    "for epoch in range(100):\n",
    "    optimizer.zero_grad()\n",
    "    outputs = model(features)\n",
    "    loss, discrimination = discrimination_loss(outputs, targets.squeeze(), sensitive_features)\n",
    "    train_accuracy = calculate_accuracy(outputs, targets.squeeze())\n",
    "    loss.backward()\n",
    "    optimizer.step()\n",
    "    \n",
    "    # Evaluation on test data\n",
    "    model.eval()\n",
    "    with torch.no_grad():\n",
    "        test_outputs = model(test_features)\n",
    "        test_loss,test_discrimination = discrimination_loss(test_outputs, test_targets.squeeze(), test_sensitive_features)\n",
    "        test_accuracy = calculate_accuracy(test_outputs, test_targets.squeeze())\n",
    "    \n",
    "    print(f'Epoch {epoch+1}, Train Loss: {loss.item()}, Train Acc: {train_accuracy.item()*100:.2f}%, Train Discrimination: {discrimination} '\n",
    "          f'Test Loss: {test_loss.item()}, Test Acc: {test_accuracy.item()*100:.2f}%,Test Discrimination: {test_discrimination}')\n",
    "    train_losses1.append(loss.item())\n",
    "    train_accuracies1.append(train_accuracy.item() * 100)\n",
    "    train_discriminations1.append(discrimination)\n",
    "    fairness=1-discrimination\n",
    "    train_fairness1.append(fairness)\n",
    "    test_fairness1.append(fairness)\n",
    "    test_losses1.append(test_loss.item())\n",
    "    test_accuracies1.append(test_accuracy.item() * 100)\n",
    "    test_discriminations1.append(test_discrimination)\n",
    "    model.train()\n"
   ]
  },
  {
   "cell_type": "code",
   "execution_count": 33,
   "metadata": {},
   "outputs": [
    {
     "data": {
      "application/vnd.plotly.v1+json": {
       "config": {
        "plotlyServerURL": "https://plot.ly"
       },
       "data": [
        {
         "line": {
          "color": "RoyalBlue",
          "width": 2
         },
         "marker": {
          "color": "RoyalBlue",
          "line": {
           "color": "DarkSlateGrey",
           "width": 1
          },
          "size": 6
         },
         "mode": "lines+markers",
         "name": "Train",
         "type": "scatter",
         "x": [
          1,
          2,
          3,
          4,
          5,
          6,
          7,
          8,
          9,
          10,
          11,
          12,
          13,
          14,
          15,
          16,
          17,
          18,
          19,
          20,
          21,
          22,
          23,
          24,
          25,
          26,
          27,
          28,
          29,
          30,
          31,
          32,
          33,
          34,
          35,
          36,
          37,
          38,
          39,
          40,
          41,
          42,
          43,
          44,
          45,
          46,
          47,
          48,
          49,
          50,
          51,
          52,
          53,
          54,
          55,
          56,
          57,
          58,
          59,
          60,
          61,
          62,
          63,
          64,
          65,
          66,
          67,
          68,
          69,
          70,
          71,
          72,
          73,
          74,
          75,
          76,
          77,
          78,
          79,
          80,
          81,
          82,
          83,
          84,
          85,
          86,
          87,
          88,
          89,
          90,
          91,
          92,
          93,
          94,
          95,
          96,
          97,
          98,
          99,
          100
         ],
         "y": [
          0.6893765330314636,
          0.8494628667831421,
          0.7180451154708862,
          0.4822317659854889,
          0.4052659273147583,
          0.5349717736244202,
          0.44207313656806946,
          0.3749988079071045,
          0.3944748342037201,
          0.4196593761444092,
          0.41827115416526794,
          0.39585673809051514,
          0.3701803684234619,
          0.35978808999061584,
          0.3690268397331238,
          0.3783196806907654,
          0.37199270725250244,
          0.35798850655555725,
          0.3501380681991577,
          0.35183075070381165,
          0.35740622878074646,
          0.36062532663345337,
          0.3590368628501892,
          0.35391226410865784,
          0.34844857454299927,
          0.3456374704837799,
          0.34624630212783813,
          0.34839606285095215,
          0.34930771589279175,
          0.34765130281448364,
          0.3443194031715393,
          0.3411797285079956,
          0.34083840250968933,
          0.3422602415084839,
          0.3420337736606598,
          0.34059980511665344,
          0.3396434485912323,
          0.338971883058548,
          0.33865389227867126,
          0.33838164806365967,
          0.33782997727394104,
          0.3370249271392822,
          0.336249977350235,
          0.3356246054172516,
          0.33514276146888733,
          0.3346046209335327,
          0.33392462134361267,
          0.33346039056777954,
          0.3329395651817322,
          0.3322851061820984,
          0.33175668120384216,
          0.33099010586738586,
          0.3303709924221039,
          0.3297540247440338,
          0.3290434181690216,
          0.32844457030296326,
          0.3276909291744232,
          0.32676252722740173,
          0.3256959319114685,
          0.3248368799686432,
          0.3241473436355591,
          0.3234710097312927,
          0.3228937089443207,
          0.32239267230033875,
          0.32194194197654724,
          0.3215138018131256,
          0.3208818733692169,
          0.32016313076019287,
          0.31984007358551025,
          0.319575697183609,
          0.3189741373062134,
          0.3184824287891388,
          0.31828832626342773,
          0.3179641366004944,
          0.3174552321434021,
          0.31711119413375854,
          0.3169209361076355,
          0.31655648350715637,
          0.31612369418144226,
          0.3158622980117798,
          0.31563952565193176,
          0.31527379155158997,
          0.3149093985557556,
          0.3147119879722595,
          0.3145003914833069,
          0.31423279643058777,
          0.31390252709388733,
          0.31362399458885193,
          0.3134077787399292,
          0.3131285607814789,
          0.312815397977829,
          0.3125527501106262,
          0.31234806776046753,
          0.31211480498313904,
          0.3118909001350403,
          0.3116954267024994,
          0.3114984929561615,
          0.3112768530845642,
          0.3110225200653076,
          0.31081321835517883
         ]
        },
        {
         "line": {
          "color": "Crimson",
          "dash": "dot",
          "width": 2
         },
         "marker": {
          "color": "Crimson",
          "line": {
           "color": "DarkSlateGrey",
           "width": 1
          },
          "size": 6
         },
         "mode": "lines+markers",
         "name": "Test",
         "type": "scatter",
         "x": [
          1,
          2,
          3,
          4,
          5,
          6,
          7,
          8,
          9,
          10,
          11,
          12,
          13,
          14,
          15,
          16,
          17,
          18,
          19,
          20,
          21,
          22,
          23,
          24,
          25,
          26,
          27,
          28,
          29,
          30,
          31,
          32,
          33,
          34,
          35,
          36,
          37,
          38,
          39,
          40,
          41,
          42,
          43,
          44,
          45,
          46,
          47,
          48,
          49,
          50,
          51,
          52,
          53,
          54,
          55,
          56,
          57,
          58,
          59,
          60,
          61,
          62,
          63,
          64,
          65,
          66,
          67,
          68,
          69,
          70,
          71,
          72,
          73,
          74,
          75,
          76,
          77,
          78,
          79,
          80,
          81,
          82,
          83,
          84,
          85,
          86,
          87,
          88,
          89,
          90,
          91,
          92,
          93,
          94,
          95,
          96,
          97,
          98,
          99,
          100
         ],
         "y": [
          0.8665273189544678,
          0.7340521812438965,
          0.49305757880210876,
          0.40948766469955444,
          0.5344403386116028,
          0.4432348310947418,
          0.38032716512680054,
          0.403175413608551,
          0.4298821985721588,
          0.42858901619911194,
          0.405176043510437,
          0.3776590824127197,
          0.36462756991386414,
          0.37136322259902954,
          0.3793603777885437,
          0.3731483221054077,
          0.3602275550365448,
          0.35391145944595337,
          0.35717904567718506,
          0.36388465762138367,
          0.36761748790740967,
          0.36592987179756165,
          0.3602959215641022,
          0.3541712462902069,
          0.3506123423576355,
          0.3504486382007599,
          0.35205116868019104,
          0.35275527834892273,
          0.3512765169143677,
          0.3484106957912445,
          0.3460047245025635,
          0.34660080075263977,
          0.34859907627105713,
          0.34842362999916077,
          0.34670528769493103,
          0.34537655115127563,
          0.3443288207054138,
          0.3436129689216614,
          0.3431760370731354,
          0.3427199125289917,
          0.3422622084617615,
          0.34194856882095337,
          0.34171062707901,
          0.34146469831466675,
          0.3410678207874298,
          0.34082841873168945,
          0.3406904935836792,
          0.34042471647262573,
          0.3402789533138275,
          0.34003692865371704,
          0.3393281400203705,
          0.3385639786720276,
          0.33810877799987793,
          0.3378382623195648,
          0.3376803994178772,
          0.33716490864753723,
          0.33645111322402954,
          0.3356865644454956,
          0.33536139130592346,
          0.33474215865135193,
          0.3346967101097107,
          0.3344646990299225,
          0.3340303599834442,
          0.3344355523586273,
          0.3336296081542969,
          0.3339884281158447,
          0.33318930864334106,
          0.33291688561439514,
          0.33355897665023804,
          0.3325559198856354,
          0.3324671685695648,
          0.3328649699687958,
          0.3321385085582733,
          0.3323608338832855,
          0.33224791288375854,
          0.3318634033203125,
          0.33232301473617554,
          0.33179783821105957,
          0.33166858553886414,
          0.3321272134780884,
          0.3314824104309082,
          0.33151355385780334,
          0.33172643184661865,
          0.33136454224586487,
          0.3317037522792816,
          0.33114081621170044,
          0.33105161786079407,
          0.33122849464416504,
          0.33072996139526367,
          0.3308558464050293,
          0.3308136761188507,
          0.3305400013923645,
          0.33068811893463135,
          0.3305257558822632,
          0.3304610252380371,
          0.3307129740715027,
          0.3305681347846985,
          0.330710232257843,
          0.33071762323379517,
          0.33061498403549194
         ]
        }
       ],
       "layout": {
        "font": {
         "color": "black",
         "family": "Helvetica, Arial, sans-serif",
         "size": 12
        },
        "legend": {
         "orientation": "h",
         "x": 0.1,
         "y": 1.1
        },
        "margin": {
         "b": 30,
         "l": 40,
         "r": 40,
         "t": 40
        },
        "plot_bgcolor": "white",
        "template": {
         "data": {
          "bar": [
           {
            "error_x": {
             "color": "#2a3f5f"
            },
            "error_y": {
             "color": "#2a3f5f"
            },
            "marker": {
             "line": {
              "color": "white",
              "width": 0.5
             },
             "pattern": {
              "fillmode": "overlay",
              "size": 10,
              "solidity": 0.2
             }
            },
            "type": "bar"
           }
          ],
          "barpolar": [
           {
            "marker": {
             "line": {
              "color": "white",
              "width": 0.5
             },
             "pattern": {
              "fillmode": "overlay",
              "size": 10,
              "solidity": 0.2
             }
            },
            "type": "barpolar"
           }
          ],
          "carpet": [
           {
            "aaxis": {
             "endlinecolor": "#2a3f5f",
             "gridcolor": "#C8D4E3",
             "linecolor": "#C8D4E3",
             "minorgridcolor": "#C8D4E3",
             "startlinecolor": "#2a3f5f"
            },
            "baxis": {
             "endlinecolor": "#2a3f5f",
             "gridcolor": "#C8D4E3",
             "linecolor": "#C8D4E3",
             "minorgridcolor": "#C8D4E3",
             "startlinecolor": "#2a3f5f"
            },
            "type": "carpet"
           }
          ],
          "choropleth": [
           {
            "colorbar": {
             "outlinewidth": 0,
             "ticks": ""
            },
            "type": "choropleth"
           }
          ],
          "contour": [
           {
            "colorbar": {
             "outlinewidth": 0,
             "ticks": ""
            },
            "colorscale": [
             [
              0,
              "#0d0887"
             ],
             [
              0.1111111111111111,
              "#46039f"
             ],
             [
              0.2222222222222222,
              "#7201a8"
             ],
             [
              0.3333333333333333,
              "#9c179e"
             ],
             [
              0.4444444444444444,
              "#bd3786"
             ],
             [
              0.5555555555555556,
              "#d8576b"
             ],
             [
              0.6666666666666666,
              "#ed7953"
             ],
             [
              0.7777777777777778,
              "#fb9f3a"
             ],
             [
              0.8888888888888888,
              "#fdca26"
             ],
             [
              1,
              "#f0f921"
             ]
            ],
            "type": "contour"
           }
          ],
          "contourcarpet": [
           {
            "colorbar": {
             "outlinewidth": 0,
             "ticks": ""
            },
            "type": "contourcarpet"
           }
          ],
          "heatmap": [
           {
            "colorbar": {
             "outlinewidth": 0,
             "ticks": ""
            },
            "colorscale": [
             [
              0,
              "#0d0887"
             ],
             [
              0.1111111111111111,
              "#46039f"
             ],
             [
              0.2222222222222222,
              "#7201a8"
             ],
             [
              0.3333333333333333,
              "#9c179e"
             ],
             [
              0.4444444444444444,
              "#bd3786"
             ],
             [
              0.5555555555555556,
              "#d8576b"
             ],
             [
              0.6666666666666666,
              "#ed7953"
             ],
             [
              0.7777777777777778,
              "#fb9f3a"
             ],
             [
              0.8888888888888888,
              "#fdca26"
             ],
             [
              1,
              "#f0f921"
             ]
            ],
            "type": "heatmap"
           }
          ],
          "heatmapgl": [
           {
            "colorbar": {
             "outlinewidth": 0,
             "ticks": ""
            },
            "colorscale": [
             [
              0,
              "#0d0887"
             ],
             [
              0.1111111111111111,
              "#46039f"
             ],
             [
              0.2222222222222222,
              "#7201a8"
             ],
             [
              0.3333333333333333,
              "#9c179e"
             ],
             [
              0.4444444444444444,
              "#bd3786"
             ],
             [
              0.5555555555555556,
              "#d8576b"
             ],
             [
              0.6666666666666666,
              "#ed7953"
             ],
             [
              0.7777777777777778,
              "#fb9f3a"
             ],
             [
              0.8888888888888888,
              "#fdca26"
             ],
             [
              1,
              "#f0f921"
             ]
            ],
            "type": "heatmapgl"
           }
          ],
          "histogram": [
           {
            "marker": {
             "pattern": {
              "fillmode": "overlay",
              "size": 10,
              "solidity": 0.2
             }
            },
            "type": "histogram"
           }
          ],
          "histogram2d": [
           {
            "colorbar": {
             "outlinewidth": 0,
             "ticks": ""
            },
            "colorscale": [
             [
              0,
              "#0d0887"
             ],
             [
              0.1111111111111111,
              "#46039f"
             ],
             [
              0.2222222222222222,
              "#7201a8"
             ],
             [
              0.3333333333333333,
              "#9c179e"
             ],
             [
              0.4444444444444444,
              "#bd3786"
             ],
             [
              0.5555555555555556,
              "#d8576b"
             ],
             [
              0.6666666666666666,
              "#ed7953"
             ],
             [
              0.7777777777777778,
              "#fb9f3a"
             ],
             [
              0.8888888888888888,
              "#fdca26"
             ],
             [
              1,
              "#f0f921"
             ]
            ],
            "type": "histogram2d"
           }
          ],
          "histogram2dcontour": [
           {
            "colorbar": {
             "outlinewidth": 0,
             "ticks": ""
            },
            "colorscale": [
             [
              0,
              "#0d0887"
             ],
             [
              0.1111111111111111,
              "#46039f"
             ],
             [
              0.2222222222222222,
              "#7201a8"
             ],
             [
              0.3333333333333333,
              "#9c179e"
             ],
             [
              0.4444444444444444,
              "#bd3786"
             ],
             [
              0.5555555555555556,
              "#d8576b"
             ],
             [
              0.6666666666666666,
              "#ed7953"
             ],
             [
              0.7777777777777778,
              "#fb9f3a"
             ],
             [
              0.8888888888888888,
              "#fdca26"
             ],
             [
              1,
              "#f0f921"
             ]
            ],
            "type": "histogram2dcontour"
           }
          ],
          "mesh3d": [
           {
            "colorbar": {
             "outlinewidth": 0,
             "ticks": ""
            },
            "type": "mesh3d"
           }
          ],
          "parcoords": [
           {
            "line": {
             "colorbar": {
              "outlinewidth": 0,
              "ticks": ""
             }
            },
            "type": "parcoords"
           }
          ],
          "pie": [
           {
            "automargin": true,
            "type": "pie"
           }
          ],
          "scatter": [
           {
            "fillpattern": {
             "fillmode": "overlay",
             "size": 10,
             "solidity": 0.2
            },
            "type": "scatter"
           }
          ],
          "scatter3d": [
           {
            "line": {
             "colorbar": {
              "outlinewidth": 0,
              "ticks": ""
             }
            },
            "marker": {
             "colorbar": {
              "outlinewidth": 0,
              "ticks": ""
             }
            },
            "type": "scatter3d"
           }
          ],
          "scattercarpet": [
           {
            "marker": {
             "colorbar": {
              "outlinewidth": 0,
              "ticks": ""
             }
            },
            "type": "scattercarpet"
           }
          ],
          "scattergeo": [
           {
            "marker": {
             "colorbar": {
              "outlinewidth": 0,
              "ticks": ""
             }
            },
            "type": "scattergeo"
           }
          ],
          "scattergl": [
           {
            "marker": {
             "colorbar": {
              "outlinewidth": 0,
              "ticks": ""
             }
            },
            "type": "scattergl"
           }
          ],
          "scattermapbox": [
           {
            "marker": {
             "colorbar": {
              "outlinewidth": 0,
              "ticks": ""
             }
            },
            "type": "scattermapbox"
           }
          ],
          "scatterpolar": [
           {
            "marker": {
             "colorbar": {
              "outlinewidth": 0,
              "ticks": ""
             }
            },
            "type": "scatterpolar"
           }
          ],
          "scatterpolargl": [
           {
            "marker": {
             "colorbar": {
              "outlinewidth": 0,
              "ticks": ""
             }
            },
            "type": "scatterpolargl"
           }
          ],
          "scatterternary": [
           {
            "marker": {
             "colorbar": {
              "outlinewidth": 0,
              "ticks": ""
             }
            },
            "type": "scatterternary"
           }
          ],
          "surface": [
           {
            "colorbar": {
             "outlinewidth": 0,
             "ticks": ""
            },
            "colorscale": [
             [
              0,
              "#0d0887"
             ],
             [
              0.1111111111111111,
              "#46039f"
             ],
             [
              0.2222222222222222,
              "#7201a8"
             ],
             [
              0.3333333333333333,
              "#9c179e"
             ],
             [
              0.4444444444444444,
              "#bd3786"
             ],
             [
              0.5555555555555556,
              "#d8576b"
             ],
             [
              0.6666666666666666,
              "#ed7953"
             ],
             [
              0.7777777777777778,
              "#fb9f3a"
             ],
             [
              0.8888888888888888,
              "#fdca26"
             ],
             [
              1,
              "#f0f921"
             ]
            ],
            "type": "surface"
           }
          ],
          "table": [
           {
            "cells": {
             "fill": {
              "color": "#EBF0F8"
             },
             "line": {
              "color": "white"
             }
            },
            "header": {
             "fill": {
              "color": "#C8D4E3"
             },
             "line": {
              "color": "white"
             }
            },
            "type": "table"
           }
          ]
         },
         "layout": {
          "annotationdefaults": {
           "arrowcolor": "#2a3f5f",
           "arrowhead": 0,
           "arrowwidth": 1
          },
          "autotypenumbers": "strict",
          "coloraxis": {
           "colorbar": {
            "outlinewidth": 0,
            "ticks": ""
           }
          },
          "colorscale": {
           "diverging": [
            [
             0,
             "#8e0152"
            ],
            [
             0.1,
             "#c51b7d"
            ],
            [
             0.2,
             "#de77ae"
            ],
            [
             0.3,
             "#f1b6da"
            ],
            [
             0.4,
             "#fde0ef"
            ],
            [
             0.5,
             "#f7f7f7"
            ],
            [
             0.6,
             "#e6f5d0"
            ],
            [
             0.7,
             "#b8e186"
            ],
            [
             0.8,
             "#7fbc41"
            ],
            [
             0.9,
             "#4d9221"
            ],
            [
             1,
             "#276419"
            ]
           ],
           "sequential": [
            [
             0,
             "#0d0887"
            ],
            [
             0.1111111111111111,
             "#46039f"
            ],
            [
             0.2222222222222222,
             "#7201a8"
            ],
            [
             0.3333333333333333,
             "#9c179e"
            ],
            [
             0.4444444444444444,
             "#bd3786"
            ],
            [
             0.5555555555555556,
             "#d8576b"
            ],
            [
             0.6666666666666666,
             "#ed7953"
            ],
            [
             0.7777777777777778,
             "#fb9f3a"
            ],
            [
             0.8888888888888888,
             "#fdca26"
            ],
            [
             1,
             "#f0f921"
            ]
           ],
           "sequentialminus": [
            [
             0,
             "#0d0887"
            ],
            [
             0.1111111111111111,
             "#46039f"
            ],
            [
             0.2222222222222222,
             "#7201a8"
            ],
            [
             0.3333333333333333,
             "#9c179e"
            ],
            [
             0.4444444444444444,
             "#bd3786"
            ],
            [
             0.5555555555555556,
             "#d8576b"
            ],
            [
             0.6666666666666666,
             "#ed7953"
            ],
            [
             0.7777777777777778,
             "#fb9f3a"
            ],
            [
             0.8888888888888888,
             "#fdca26"
            ],
            [
             1,
             "#f0f921"
            ]
           ]
          },
          "colorway": [
           "#636efa",
           "#EF553B",
           "#00cc96",
           "#ab63fa",
           "#FFA15A",
           "#19d3f3",
           "#FF6692",
           "#B6E880",
           "#FF97FF",
           "#FECB52"
          ],
          "font": {
           "color": "#2a3f5f"
          },
          "geo": {
           "bgcolor": "white",
           "lakecolor": "white",
           "landcolor": "white",
           "showlakes": true,
           "showland": true,
           "subunitcolor": "#C8D4E3"
          },
          "hoverlabel": {
           "align": "left"
          },
          "hovermode": "closest",
          "mapbox": {
           "style": "light"
          },
          "paper_bgcolor": "white",
          "plot_bgcolor": "white",
          "polar": {
           "angularaxis": {
            "gridcolor": "#EBF0F8",
            "linecolor": "#EBF0F8",
            "ticks": ""
           },
           "bgcolor": "white",
           "radialaxis": {
            "gridcolor": "#EBF0F8",
            "linecolor": "#EBF0F8",
            "ticks": ""
           }
          },
          "scene": {
           "xaxis": {
            "backgroundcolor": "white",
            "gridcolor": "#DFE8F3",
            "gridwidth": 2,
            "linecolor": "#EBF0F8",
            "showbackground": true,
            "ticks": "",
            "zerolinecolor": "#EBF0F8"
           },
           "yaxis": {
            "backgroundcolor": "white",
            "gridcolor": "#DFE8F3",
            "gridwidth": 2,
            "linecolor": "#EBF0F8",
            "showbackground": true,
            "ticks": "",
            "zerolinecolor": "#EBF0F8"
           },
           "zaxis": {
            "backgroundcolor": "white",
            "gridcolor": "#DFE8F3",
            "gridwidth": 2,
            "linecolor": "#EBF0F8",
            "showbackground": true,
            "ticks": "",
            "zerolinecolor": "#EBF0F8"
           }
          },
          "shapedefaults": {
           "line": {
            "color": "#2a3f5f"
           }
          },
          "ternary": {
           "aaxis": {
            "gridcolor": "#DFE8F3",
            "linecolor": "#A2B1C6",
            "ticks": ""
           },
           "baxis": {
            "gridcolor": "#DFE8F3",
            "linecolor": "#A2B1C6",
            "ticks": ""
           },
           "bgcolor": "white",
           "caxis": {
            "gridcolor": "#DFE8F3",
            "linecolor": "#A2B1C6",
            "ticks": ""
           }
          },
          "title": {
           "x": 0.05
          },
          "xaxis": {
           "automargin": true,
           "gridcolor": "#EBF0F8",
           "linecolor": "#EBF0F8",
           "ticks": "",
           "title": {
            "standoff": 15
           },
           "zerolinecolor": "#EBF0F8",
           "zerolinewidth": 2
          },
          "yaxis": {
           "automargin": true,
           "gridcolor": "#EBF0F8",
           "linecolor": "#EBF0F8",
           "ticks": "",
           "title": {
            "standoff": 15
           },
           "zerolinecolor": "#EBF0F8",
           "zerolinewidth": 2
          }
         }
        },
        "title": {
         "text": "Training and Testing Loss",
         "x": 0.5,
         "xanchor": "center",
         "y": 0.9,
         "yanchor": "top"
        },
        "xaxis": {
         "gridcolor": "LightGrey",
         "linecolor": "black",
         "linewidth": 2,
         "showline": true,
         "title": {
          "text": "Epoch"
         }
        },
        "yaxis": {
         "gridcolor": "LightGrey",
         "linecolor": "black",
         "linewidth": 2,
         "showline": true,
         "title": {
          "text": "Loss"
         }
        }
       }
      }
     },
     "metadata": {},
     "output_type": "display_data"
    },
    {
     "data": {
      "application/vnd.plotly.v1+json": {
       "config": {
        "plotlyServerURL": "https://plot.ly"
       },
       "data": [
        {
         "line": {
          "color": "RoyalBlue",
          "width": 2
         },
         "marker": {
          "color": "RoyalBlue",
          "line": {
           "color": "DarkSlateGrey",
           "width": 1
          },
          "size": 6
         },
         "mode": "lines+markers",
         "name": "Train",
         "type": "scatter",
         "x": [
          1,
          2,
          3,
          4,
          5,
          6,
          7,
          8,
          9,
          10,
          11,
          12,
          13,
          14,
          15,
          16,
          17,
          18,
          19,
          20,
          21,
          22,
          23,
          24,
          25,
          26,
          27,
          28,
          29,
          30,
          31,
          32,
          33,
          34,
          35,
          36,
          37,
          38,
          39,
          40,
          41,
          42,
          43,
          44,
          45,
          46,
          47,
          48,
          49,
          50,
          51,
          52,
          53,
          54,
          55,
          56,
          57,
          58,
          59,
          60,
          61,
          62,
          63,
          64,
          65,
          66,
          67,
          68,
          69,
          70,
          71,
          72,
          73,
          74,
          75,
          76,
          77,
          78,
          79,
          80,
          81,
          82,
          83,
          84,
          85,
          86,
          87,
          88,
          89,
          90,
          91,
          92,
          93,
          94,
          95,
          96,
          97,
          98,
          99,
          100
         ],
         "y": [
          56.95672631263733,
          82.8727126121521,
          82.8727126121521,
          82.8727126121521,
          84.96525287628174,
          72.07832932472229,
          82.79374837875366,
          85.02842783927917,
          83.99400115013123,
          83.63866209983826,
          83.72552394866943,
          84.04927253723145,
          84.7441554069519,
          85.25742292404175,
          85.0679099559784,
          84.61781144142151,
          84.83101725578308,
          85.39955615997314,
          85.7154130935669,
          85.70751547813416,
          85.52590012550354,
          85.31270027160645,
          85.31270027160645,
          85.53379774093628,
          85.77858209609985,
          85.88913679122925,
          85.84965467453003,
          85.76279282569885,
          85.81017255783081,
          85.85754632949829,
          85.92072129249573,
          85.97599267959595,
          85.87334156036377,
          85.86544394493103,
          85.88123917579651,
          85.91282367706299,
          86.03127002716064,
          86.03127002716064,
          86.04706525802612,
          86.11023426055908,
          86.10233664512634,
          86.08654737472534,
          86.08654737472534,
          86.12602949142456,
          86.10233664512634,
          86.10233664512634,
          86.1497163772583,
          86.30764484405518,
          86.3629162311554,
          86.30764484405518,
          86.31554245948792,
          86.3629162311554,
          86.38660907745361,
          86.37871146202087,
          86.40239834785461,
          86.32343411445618,
          86.3629162311554,
          86.42609119415283,
          86.44188046455383,
          86.45767569541931,
          86.55242919921875,
          86.50505542755127,
          86.50505542755127,
          86.66298389434814,
          86.50505542755127,
          86.74194812774658,
          86.60770654678345,
          86.69456839561462,
          86.76563501358032,
          86.75773739814758,
          86.78932189941406,
          86.83670163154602,
          86.75773739814758,
          86.82880401611328,
          86.81301474571228,
          86.82880401611328,
          86.77353262901306,
          86.83670163154602,
          86.8524968624115,
          86.9393527507782,
          86.97094321250916,
          86.88408136367798,
          86.96304559707642,
          87.0656967163086,
          87.01042532920837,
          87.0656967163086,
          87.03411221504211,
          87.01042532920837,
          87.01042532920837,
          87.00252771377563,
          86.89987659454346,
          86.95514798164368,
          87.02621459960938,
          87.0656967163086,
          87.0656967163086,
          87.07359433174133,
          87.10517883300781,
          87.07359433174133,
          87.11307644844055,
          87.15255856513977
         ]
        },
        {
         "line": {
          "color": "Crimson",
          "dash": "dot",
          "width": 2
         },
         "marker": {
          "color": "Crimson",
          "line": {
           "color": "DarkSlateGrey",
           "width": 1
          },
          "size": 6
         },
         "mode": "lines+markers",
         "name": "Test",
         "type": "scatter",
         "x": [
          1,
          2,
          3,
          4,
          5,
          6,
          7,
          8,
          9,
          10,
          11,
          12,
          13,
          14,
          15,
          16,
          17,
          18,
          19,
          20,
          21,
          22,
          23,
          24,
          25,
          26,
          27,
          28,
          29,
          30,
          31,
          32,
          33,
          34,
          35,
          36,
          37,
          38,
          39,
          40,
          41,
          42,
          43,
          44,
          45,
          46,
          47,
          48,
          49,
          50,
          51,
          52,
          53,
          54,
          55,
          56,
          57,
          58,
          59,
          60,
          61,
          62,
          63,
          64,
          65,
          66,
          67,
          68,
          69,
          70,
          71,
          72,
          73,
          74,
          75,
          76,
          77,
          78,
          79,
          80,
          81,
          82,
          83,
          84,
          85,
          86,
          87,
          88,
          89,
          90,
          91,
          92,
          93,
          94,
          95,
          96,
          97,
          98,
          99,
          100
         ],
         "y": [
          82.65950679779053,
          82.65950679779053,
          82.65950679779053,
          84.3651294708252,
          71.69930338859558,
          82.91219472885132,
          84.27037000656128,
          83.48073363304138,
          83.10170769691467,
          83.16487669944763,
          83.67024660110474,
          84.20720100402832,
          84.77573990821838,
          85.06001234054565,
          85.15477180480957,
          85.47062277793884,
          85.62855124473572,
          85.15477180480957,
          84.83891487121582,
          84.77573990821838,
          84.45988893508911,
          84.45988893508911,
          84.80733036994934,
          84.8704993724823,
          85.12318134307861,
          85.31270027160645,
          85.62855124473572,
          85.84965467453003,
          85.94440817832947,
          85.62855124473572,
          85.43903827667236,
          85.02842783927917,
          85.02842783927917,
          85.12318134307861,
          85.09159684181213,
          85.24952530860901,
          85.34428477287292,
          85.66014170646667,
          85.62855124473572,
          85.69172620773315,
          85.69172620773315,
          85.62855124473572,
          85.40745377540588,
          85.34428477287292,
          85.34428477287292,
          85.31270027160645,
          85.5022132396698,
          85.3758692741394,
          85.43903827667236,
          85.3758692741394,
          85.28110980987549,
          85.69172620773315,
          85.75489521026611,
          85.69172620773315,
          85.72331070899963,
          85.66014170646667,
          85.69172620773315,
          85.66014170646667,
          85.66014170646667,
          85.88123917579651,
          85.88123917579651,
          85.84965467453003,
          85.88123917579651,
          85.97599267959595,
          86.03916764259338,
          85.91282367706299,
          86.07075214385986,
          86.10233664512634,
          85.84965467453003,
          86.07075214385986,
          86.10233664512634,
          85.91282367706299,
          85.97599267959595,
          86.1655056476593,
          86.07075214385986,
          85.88123917579651,
          86.07075214385986,
          85.94440817832947,
          85.94440817832947,
          86.0075831413269,
          85.97599267959595,
          86.07075214385986,
          86.0075831413269,
          86.0075831413269,
          85.91282367706299,
          86.0075831413269,
          86.07075214385986,
          85.88123917579651,
          86.0075831413269,
          86.03916764259338,
          85.94440817832947,
          85.97599267959595,
          85.84965467453003,
          85.72331070899963,
          85.72331070899963,
          85.78647971153259,
          85.72331070899963,
          85.72331070899963,
          85.75489521026611,
          85.69172620773315
         ]
        }
       ],
       "layout": {
        "font": {
         "color": "black",
         "family": "Helvetica, Arial, sans-serif",
         "size": 12
        },
        "legend": {
         "orientation": "h",
         "x": 0.1,
         "y": 1.1
        },
        "margin": {
         "b": 30,
         "l": 40,
         "r": 40,
         "t": 40
        },
        "plot_bgcolor": "white",
        "template": {
         "data": {
          "bar": [
           {
            "error_x": {
             "color": "#2a3f5f"
            },
            "error_y": {
             "color": "#2a3f5f"
            },
            "marker": {
             "line": {
              "color": "white",
              "width": 0.5
             },
             "pattern": {
              "fillmode": "overlay",
              "size": 10,
              "solidity": 0.2
             }
            },
            "type": "bar"
           }
          ],
          "barpolar": [
           {
            "marker": {
             "line": {
              "color": "white",
              "width": 0.5
             },
             "pattern": {
              "fillmode": "overlay",
              "size": 10,
              "solidity": 0.2
             }
            },
            "type": "barpolar"
           }
          ],
          "carpet": [
           {
            "aaxis": {
             "endlinecolor": "#2a3f5f",
             "gridcolor": "#C8D4E3",
             "linecolor": "#C8D4E3",
             "minorgridcolor": "#C8D4E3",
             "startlinecolor": "#2a3f5f"
            },
            "baxis": {
             "endlinecolor": "#2a3f5f",
             "gridcolor": "#C8D4E3",
             "linecolor": "#C8D4E3",
             "minorgridcolor": "#C8D4E3",
             "startlinecolor": "#2a3f5f"
            },
            "type": "carpet"
           }
          ],
          "choropleth": [
           {
            "colorbar": {
             "outlinewidth": 0,
             "ticks": ""
            },
            "type": "choropleth"
           }
          ],
          "contour": [
           {
            "colorbar": {
             "outlinewidth": 0,
             "ticks": ""
            },
            "colorscale": [
             [
              0,
              "#0d0887"
             ],
             [
              0.1111111111111111,
              "#46039f"
             ],
             [
              0.2222222222222222,
              "#7201a8"
             ],
             [
              0.3333333333333333,
              "#9c179e"
             ],
             [
              0.4444444444444444,
              "#bd3786"
             ],
             [
              0.5555555555555556,
              "#d8576b"
             ],
             [
              0.6666666666666666,
              "#ed7953"
             ],
             [
              0.7777777777777778,
              "#fb9f3a"
             ],
             [
              0.8888888888888888,
              "#fdca26"
             ],
             [
              1,
              "#f0f921"
             ]
            ],
            "type": "contour"
           }
          ],
          "contourcarpet": [
           {
            "colorbar": {
             "outlinewidth": 0,
             "ticks": ""
            },
            "type": "contourcarpet"
           }
          ],
          "heatmap": [
           {
            "colorbar": {
             "outlinewidth": 0,
             "ticks": ""
            },
            "colorscale": [
             [
              0,
              "#0d0887"
             ],
             [
              0.1111111111111111,
              "#46039f"
             ],
             [
              0.2222222222222222,
              "#7201a8"
             ],
             [
              0.3333333333333333,
              "#9c179e"
             ],
             [
              0.4444444444444444,
              "#bd3786"
             ],
             [
              0.5555555555555556,
              "#d8576b"
             ],
             [
              0.6666666666666666,
              "#ed7953"
             ],
             [
              0.7777777777777778,
              "#fb9f3a"
             ],
             [
              0.8888888888888888,
              "#fdca26"
             ],
             [
              1,
              "#f0f921"
             ]
            ],
            "type": "heatmap"
           }
          ],
          "heatmapgl": [
           {
            "colorbar": {
             "outlinewidth": 0,
             "ticks": ""
            },
            "colorscale": [
             [
              0,
              "#0d0887"
             ],
             [
              0.1111111111111111,
              "#46039f"
             ],
             [
              0.2222222222222222,
              "#7201a8"
             ],
             [
              0.3333333333333333,
              "#9c179e"
             ],
             [
              0.4444444444444444,
              "#bd3786"
             ],
             [
              0.5555555555555556,
              "#d8576b"
             ],
             [
              0.6666666666666666,
              "#ed7953"
             ],
             [
              0.7777777777777778,
              "#fb9f3a"
             ],
             [
              0.8888888888888888,
              "#fdca26"
             ],
             [
              1,
              "#f0f921"
             ]
            ],
            "type": "heatmapgl"
           }
          ],
          "histogram": [
           {
            "marker": {
             "pattern": {
              "fillmode": "overlay",
              "size": 10,
              "solidity": 0.2
             }
            },
            "type": "histogram"
           }
          ],
          "histogram2d": [
           {
            "colorbar": {
             "outlinewidth": 0,
             "ticks": ""
            },
            "colorscale": [
             [
              0,
              "#0d0887"
             ],
             [
              0.1111111111111111,
              "#46039f"
             ],
             [
              0.2222222222222222,
              "#7201a8"
             ],
             [
              0.3333333333333333,
              "#9c179e"
             ],
             [
              0.4444444444444444,
              "#bd3786"
             ],
             [
              0.5555555555555556,
              "#d8576b"
             ],
             [
              0.6666666666666666,
              "#ed7953"
             ],
             [
              0.7777777777777778,
              "#fb9f3a"
             ],
             [
              0.8888888888888888,
              "#fdca26"
             ],
             [
              1,
              "#f0f921"
             ]
            ],
            "type": "histogram2d"
           }
          ],
          "histogram2dcontour": [
           {
            "colorbar": {
             "outlinewidth": 0,
             "ticks": ""
            },
            "colorscale": [
             [
              0,
              "#0d0887"
             ],
             [
              0.1111111111111111,
              "#46039f"
             ],
             [
              0.2222222222222222,
              "#7201a8"
             ],
             [
              0.3333333333333333,
              "#9c179e"
             ],
             [
              0.4444444444444444,
              "#bd3786"
             ],
             [
              0.5555555555555556,
              "#d8576b"
             ],
             [
              0.6666666666666666,
              "#ed7953"
             ],
             [
              0.7777777777777778,
              "#fb9f3a"
             ],
             [
              0.8888888888888888,
              "#fdca26"
             ],
             [
              1,
              "#f0f921"
             ]
            ],
            "type": "histogram2dcontour"
           }
          ],
          "mesh3d": [
           {
            "colorbar": {
             "outlinewidth": 0,
             "ticks": ""
            },
            "type": "mesh3d"
           }
          ],
          "parcoords": [
           {
            "line": {
             "colorbar": {
              "outlinewidth": 0,
              "ticks": ""
             }
            },
            "type": "parcoords"
           }
          ],
          "pie": [
           {
            "automargin": true,
            "type": "pie"
           }
          ],
          "scatter": [
           {
            "fillpattern": {
             "fillmode": "overlay",
             "size": 10,
             "solidity": 0.2
            },
            "type": "scatter"
           }
          ],
          "scatter3d": [
           {
            "line": {
             "colorbar": {
              "outlinewidth": 0,
              "ticks": ""
             }
            },
            "marker": {
             "colorbar": {
              "outlinewidth": 0,
              "ticks": ""
             }
            },
            "type": "scatter3d"
           }
          ],
          "scattercarpet": [
           {
            "marker": {
             "colorbar": {
              "outlinewidth": 0,
              "ticks": ""
             }
            },
            "type": "scattercarpet"
           }
          ],
          "scattergeo": [
           {
            "marker": {
             "colorbar": {
              "outlinewidth": 0,
              "ticks": ""
             }
            },
            "type": "scattergeo"
           }
          ],
          "scattergl": [
           {
            "marker": {
             "colorbar": {
              "outlinewidth": 0,
              "ticks": ""
             }
            },
            "type": "scattergl"
           }
          ],
          "scattermapbox": [
           {
            "marker": {
             "colorbar": {
              "outlinewidth": 0,
              "ticks": ""
             }
            },
            "type": "scattermapbox"
           }
          ],
          "scatterpolar": [
           {
            "marker": {
             "colorbar": {
              "outlinewidth": 0,
              "ticks": ""
             }
            },
            "type": "scatterpolar"
           }
          ],
          "scatterpolargl": [
           {
            "marker": {
             "colorbar": {
              "outlinewidth": 0,
              "ticks": ""
             }
            },
            "type": "scatterpolargl"
           }
          ],
          "scatterternary": [
           {
            "marker": {
             "colorbar": {
              "outlinewidth": 0,
              "ticks": ""
             }
            },
            "type": "scatterternary"
           }
          ],
          "surface": [
           {
            "colorbar": {
             "outlinewidth": 0,
             "ticks": ""
            },
            "colorscale": [
             [
              0,
              "#0d0887"
             ],
             [
              0.1111111111111111,
              "#46039f"
             ],
             [
              0.2222222222222222,
              "#7201a8"
             ],
             [
              0.3333333333333333,
              "#9c179e"
             ],
             [
              0.4444444444444444,
              "#bd3786"
             ],
             [
              0.5555555555555556,
              "#d8576b"
             ],
             [
              0.6666666666666666,
              "#ed7953"
             ],
             [
              0.7777777777777778,
              "#fb9f3a"
             ],
             [
              0.8888888888888888,
              "#fdca26"
             ],
             [
              1,
              "#f0f921"
             ]
            ],
            "type": "surface"
           }
          ],
          "table": [
           {
            "cells": {
             "fill": {
              "color": "#EBF0F8"
             },
             "line": {
              "color": "white"
             }
            },
            "header": {
             "fill": {
              "color": "#C8D4E3"
             },
             "line": {
              "color": "white"
             }
            },
            "type": "table"
           }
          ]
         },
         "layout": {
          "annotationdefaults": {
           "arrowcolor": "#2a3f5f",
           "arrowhead": 0,
           "arrowwidth": 1
          },
          "autotypenumbers": "strict",
          "coloraxis": {
           "colorbar": {
            "outlinewidth": 0,
            "ticks": ""
           }
          },
          "colorscale": {
           "diverging": [
            [
             0,
             "#8e0152"
            ],
            [
             0.1,
             "#c51b7d"
            ],
            [
             0.2,
             "#de77ae"
            ],
            [
             0.3,
             "#f1b6da"
            ],
            [
             0.4,
             "#fde0ef"
            ],
            [
             0.5,
             "#f7f7f7"
            ],
            [
             0.6,
             "#e6f5d0"
            ],
            [
             0.7,
             "#b8e186"
            ],
            [
             0.8,
             "#7fbc41"
            ],
            [
             0.9,
             "#4d9221"
            ],
            [
             1,
             "#276419"
            ]
           ],
           "sequential": [
            [
             0,
             "#0d0887"
            ],
            [
             0.1111111111111111,
             "#46039f"
            ],
            [
             0.2222222222222222,
             "#7201a8"
            ],
            [
             0.3333333333333333,
             "#9c179e"
            ],
            [
             0.4444444444444444,
             "#bd3786"
            ],
            [
             0.5555555555555556,
             "#d8576b"
            ],
            [
             0.6666666666666666,
             "#ed7953"
            ],
            [
             0.7777777777777778,
             "#fb9f3a"
            ],
            [
             0.8888888888888888,
             "#fdca26"
            ],
            [
             1,
             "#f0f921"
            ]
           ],
           "sequentialminus": [
            [
             0,
             "#0d0887"
            ],
            [
             0.1111111111111111,
             "#46039f"
            ],
            [
             0.2222222222222222,
             "#7201a8"
            ],
            [
             0.3333333333333333,
             "#9c179e"
            ],
            [
             0.4444444444444444,
             "#bd3786"
            ],
            [
             0.5555555555555556,
             "#d8576b"
            ],
            [
             0.6666666666666666,
             "#ed7953"
            ],
            [
             0.7777777777777778,
             "#fb9f3a"
            ],
            [
             0.8888888888888888,
             "#fdca26"
            ],
            [
             1,
             "#f0f921"
            ]
           ]
          },
          "colorway": [
           "#636efa",
           "#EF553B",
           "#00cc96",
           "#ab63fa",
           "#FFA15A",
           "#19d3f3",
           "#FF6692",
           "#B6E880",
           "#FF97FF",
           "#FECB52"
          ],
          "font": {
           "color": "#2a3f5f"
          },
          "geo": {
           "bgcolor": "white",
           "lakecolor": "white",
           "landcolor": "white",
           "showlakes": true,
           "showland": true,
           "subunitcolor": "#C8D4E3"
          },
          "hoverlabel": {
           "align": "left"
          },
          "hovermode": "closest",
          "mapbox": {
           "style": "light"
          },
          "paper_bgcolor": "white",
          "plot_bgcolor": "white",
          "polar": {
           "angularaxis": {
            "gridcolor": "#EBF0F8",
            "linecolor": "#EBF0F8",
            "ticks": ""
           },
           "bgcolor": "white",
           "radialaxis": {
            "gridcolor": "#EBF0F8",
            "linecolor": "#EBF0F8",
            "ticks": ""
           }
          },
          "scene": {
           "xaxis": {
            "backgroundcolor": "white",
            "gridcolor": "#DFE8F3",
            "gridwidth": 2,
            "linecolor": "#EBF0F8",
            "showbackground": true,
            "ticks": "",
            "zerolinecolor": "#EBF0F8"
           },
           "yaxis": {
            "backgroundcolor": "white",
            "gridcolor": "#DFE8F3",
            "gridwidth": 2,
            "linecolor": "#EBF0F8",
            "showbackground": true,
            "ticks": "",
            "zerolinecolor": "#EBF0F8"
           },
           "zaxis": {
            "backgroundcolor": "white",
            "gridcolor": "#DFE8F3",
            "gridwidth": 2,
            "linecolor": "#EBF0F8",
            "showbackground": true,
            "ticks": "",
            "zerolinecolor": "#EBF0F8"
           }
          },
          "shapedefaults": {
           "line": {
            "color": "#2a3f5f"
           }
          },
          "ternary": {
           "aaxis": {
            "gridcolor": "#DFE8F3",
            "linecolor": "#A2B1C6",
            "ticks": ""
           },
           "baxis": {
            "gridcolor": "#DFE8F3",
            "linecolor": "#A2B1C6",
            "ticks": ""
           },
           "bgcolor": "white",
           "caxis": {
            "gridcolor": "#DFE8F3",
            "linecolor": "#A2B1C6",
            "ticks": ""
           }
          },
          "title": {
           "x": 0.05
          },
          "xaxis": {
           "automargin": true,
           "gridcolor": "#EBF0F8",
           "linecolor": "#EBF0F8",
           "ticks": "",
           "title": {
            "standoff": 15
           },
           "zerolinecolor": "#EBF0F8",
           "zerolinewidth": 2
          },
          "yaxis": {
           "automargin": true,
           "gridcolor": "#EBF0F8",
           "linecolor": "#EBF0F8",
           "ticks": "",
           "title": {
            "standoff": 15
           },
           "zerolinecolor": "#EBF0F8",
           "zerolinewidth": 2
          }
         }
        },
        "title": {
         "text": "Training and Testing Accuracy",
         "x": 0.5,
         "xanchor": "center",
         "y": 0.9,
         "yanchor": "top"
        },
        "xaxis": {
         "gridcolor": "LightGrey",
         "linecolor": "black",
         "linewidth": 2,
         "showline": true,
         "title": {
          "text": "Epoch"
         }
        },
        "yaxis": {
         "gridcolor": "LightGrey",
         "linecolor": "black",
         "linewidth": 2,
         "showline": true,
         "title": {
          "text": "Accuracy (%)"
         }
        }
       }
      }
     },
     "metadata": {},
     "output_type": "display_data"
    },
    {
     "data": {
      "application/vnd.plotly.v1+json": {
       "config": {
        "plotlyServerURL": "https://plot.ly"
       },
       "data": [
        {
         "line": {
          "color": "RoyalBlue",
          "width": 2
         },
         "marker": {
          "color": "RoyalBlue",
          "line": {
           "color": "DarkSlateGrey",
           "width": 1
          },
          "size": 6
         },
         "mode": "lines+markers",
         "name": "Train",
         "type": "scatter",
         "x": [
          1,
          2,
          3,
          4,
          5,
          6,
          7,
          8,
          9,
          10,
          11,
          12,
          13,
          14,
          15,
          16,
          17,
          18,
          19,
          20,
          21,
          22,
          23,
          24,
          25,
          26,
          27,
          28,
          29,
          30,
          31,
          32,
          33,
          34,
          35,
          36,
          37,
          38,
          39,
          40,
          41,
          42,
          43,
          44,
          45,
          46,
          47,
          48,
          49,
          50,
          51,
          52,
          53,
          54,
          55,
          56,
          57,
          58,
          59,
          60,
          61,
          62,
          63,
          64,
          65,
          66,
          67,
          68,
          69,
          70,
          71,
          72,
          73,
          74,
          75,
          76,
          77,
          78,
          79,
          80,
          81,
          82,
          83,
          84,
          85,
          86,
          87,
          88,
          89,
          90,
          91,
          92,
          93,
          94,
          95,
          96,
          97,
          98,
          99,
          100
         ],
         "y": [
          0.028892265632748604,
          0.0646490603685379,
          0.01662645861506462,
          0.0016992390155792236,
          0.41889819502830505,
          1.1699885129928589,
          0.9448722004890442,
          0.4019760489463806,
          0.1460663229227066,
          0.08160459250211716,
          0.07904145121574402,
          0.11706404387950897,
          0.21740812063217163,
          0.4071773886680603,
          0.6450950503349304,
          0.7950994968414307,
          0.7976083159446716,
          0.6868329644203186,
          0.5334701538085938,
          0.4035780727863312,
          0.32156074047088623,
          0.28369131684303284,
          0.2813844382762909,
          0.3087084889411926,
          0.3611733019351959,
          0.43151891231536865,
          0.5065035820007324,
          0.5701208114624023,
          0.6082808971405029,
          0.6136332750320435,
          0.5881646871566772,
          0.5363804697990417,
          0.45925331115722656,
          0.42211058735847473,
          0.43511027097702026,
          0.4828766882419586,
          0.5316358804702759,
          0.5730817317962646,
          0.6067491769790649,
          0.6271101236343384,
          0.6293227076530457,
          0.6146485209465027,
          0.5883059501647949,
          0.5576801896095276,
          0.530700147151947,
          0.5130552053451538,
          0.5127732157707214,
          0.5492798089981079,
          0.5596801042556763,
          0.5371590852737427,
          0.5351575613021851,
          0.563715934753418,
          0.6094982624053955,
          0.6278684139251709,
          0.6200804114341736,
          0.6120428442955017,
          0.6235107779502869,
          0.6560997366905212,
          0.666750431060791,
          0.660330593585968,
          0.7274165153503418,
          0.7115174531936646,
          0.7257398962974548,
          0.7845637202262878,
          0.7250076532363892,
          0.8539789319038391,
          0.7571476101875305,
          0.8304963111877441,
          0.8820505738258362,
          0.7928959131240845,
          0.9075414538383484,
          0.8906792998313904,
          0.8422393202781677,
          0.9551102519035339,
          0.8845437169075012,
          0.8933191299438477,
          0.9679976105690002,
          0.8780548572540283,
          0.9319747686386108,
          0.9494182467460632,
          0.8777487874031067,
          0.9482680559158325,
          0.9160862565040588,
          0.8783939480781555,
          0.9396288394927979,
          0.8646906614303589,
          0.9235911965370178,
          0.9139345288276672,
          0.8731881976127625,
          0.9329630136489868,
          0.892885148525238,
          0.8900060057640076,
          0.925059974193573,
          0.8807531595230103,
          0.8945513367652893,
          0.9055699110031128,
          0.8730623722076416,
          0.9169492721557617,
          0.8897609114646912,
          0.8878940939903259
         ]
        },
        {
         "line": {
          "color": "Crimson",
          "dash": "dot",
          "width": 2
         },
         "marker": {
          "color": "Crimson",
          "line": {
           "color": "DarkSlateGrey",
           "width": 1
          },
          "size": 6
         },
         "mode": "lines+markers",
         "name": "Test",
         "type": "scatter",
         "x": [
          1,
          2,
          3,
          4,
          5,
          6,
          7,
          8,
          9,
          10,
          11,
          12,
          13,
          14,
          15,
          16,
          17,
          18,
          19,
          20,
          21,
          22,
          23,
          24,
          25,
          26,
          27,
          28,
          29,
          30,
          31,
          32,
          33,
          34,
          35,
          36,
          37,
          38,
          39,
          40,
          41,
          42,
          43,
          44,
          45,
          46,
          47,
          48,
          49,
          50,
          51,
          52,
          53,
          54,
          55,
          56,
          57,
          58,
          59,
          60,
          61,
          62,
          63,
          64,
          65,
          66,
          67,
          68,
          69,
          70,
          71,
          72,
          73,
          74,
          75,
          76,
          77,
          78,
          79,
          80,
          81,
          82,
          83,
          84,
          85,
          86,
          87,
          88,
          89,
          90,
          91,
          92,
          93,
          94,
          95,
          96,
          97,
          98,
          99,
          100
         ],
         "y": [
          0.11413952708244324,
          0.02978677488863468,
          0.0008751878049224615,
          0.5070899724960327,
          1.4629510641098022,
          1.1179109811782837,
          0.44283074140548706,
          0.15531465411186218,
          0.08754545450210571,
          0.08645991235971451,
          0.1285136193037033,
          0.23645246028900146,
          0.44214367866516113,
          0.7065772414207458,
          0.8762152194976807,
          0.872829020023346,
          0.7373597621917725,
          0.558799147605896,
          0.4125717878341675,
          0.32251864671707153,
          0.2813608944416046,
          0.2781275808811188,
          0.3062696158885956,
          0.3615400195121765,
          0.4371921122074127,
          0.5199912190437317,
          0.5924646258354187,
          0.6370248794555664,
          0.6456495523452759,
          0.6203233599662781,
          0.5660967826843262,
          0.48366230726242065,
          0.44366443157196045,
          0.4580681324005127,
          0.509789228439331,
          0.5624973773956299,
          0.6093973517417908,
          0.6492713093757629,
          0.6723722219467163,
          0.6735063195228577,
          0.6547510027885437,
          0.622936487197876,
          0.587398111820221,
          0.5568069815635681,
          0.538408100605011,
          0.5392794609069824,
          0.5777758359909058,
          0.5883434414863586,
          0.564018726348877,
          0.5607860684394836,
          0.5884456038475037,
          0.6353873014450073,
          0.6539232134819031,
          0.6449885368347168,
          0.6379352807998657,
          0.653712809085846,
          0.6918460726737976,
          0.7060287594795227,
          0.6983868479728699,
          0.7734810709953308,
          0.7544864416122437,
          0.7700434327125549,
          0.836399495601654,
          0.7675795555114746,
          0.9147170186042786,
          0.802850604057312,
          0.8864215612411499,
          0.9457162618637085,
          0.8437219262123108,
          0.9743655323982239,
          0.9538917541503906,
          0.8971131443977356,
          1.0253230333328247,
          0.9427615404129028,
          0.9520696401596069,
          1.037575364112854,
          0.933535099029541,
          0.9951685667037964,
          1.015641212463379,
          0.9333077073097229,
          1.0153406858444214,
          0.9788159132003784,
          0.9364306926727295,
          1.008489727973938,
          0.9213685989379883,
          0.9889554381370544,
          0.976599931716919,
          0.9288054704666138,
          0.9963604807853699,
          0.9482054114341736,
          0.9436584711074829,
          0.983189582824707,
          0.9317584037780762,
          0.9462864398956299,
          0.956537663936615,
          0.9164716005325317,
          0.9634522795677185,
          0.9306386113166809,
          0.9277322292327881,
          0.9497249722480774
         ]
        }
       ],
       "layout": {
        "font": {
         "color": "black",
         "family": "Helvetica, Arial, sans-serif",
         "size": 12
        },
        "legend": {
         "orientation": "h",
         "x": 0.1,
         "y": 1.1
        },
        "margin": {
         "b": 30,
         "l": 40,
         "r": 40,
         "t": 40
        },
        "plot_bgcolor": "white",
        "template": {
         "data": {
          "bar": [
           {
            "error_x": {
             "color": "#2a3f5f"
            },
            "error_y": {
             "color": "#2a3f5f"
            },
            "marker": {
             "line": {
              "color": "white",
              "width": 0.5
             },
             "pattern": {
              "fillmode": "overlay",
              "size": 10,
              "solidity": 0.2
             }
            },
            "type": "bar"
           }
          ],
          "barpolar": [
           {
            "marker": {
             "line": {
              "color": "white",
              "width": 0.5
             },
             "pattern": {
              "fillmode": "overlay",
              "size": 10,
              "solidity": 0.2
             }
            },
            "type": "barpolar"
           }
          ],
          "carpet": [
           {
            "aaxis": {
             "endlinecolor": "#2a3f5f",
             "gridcolor": "#C8D4E3",
             "linecolor": "#C8D4E3",
             "minorgridcolor": "#C8D4E3",
             "startlinecolor": "#2a3f5f"
            },
            "baxis": {
             "endlinecolor": "#2a3f5f",
             "gridcolor": "#C8D4E3",
             "linecolor": "#C8D4E3",
             "minorgridcolor": "#C8D4E3",
             "startlinecolor": "#2a3f5f"
            },
            "type": "carpet"
           }
          ],
          "choropleth": [
           {
            "colorbar": {
             "outlinewidth": 0,
             "ticks": ""
            },
            "type": "choropleth"
           }
          ],
          "contour": [
           {
            "colorbar": {
             "outlinewidth": 0,
             "ticks": ""
            },
            "colorscale": [
             [
              0,
              "#0d0887"
             ],
             [
              0.1111111111111111,
              "#46039f"
             ],
             [
              0.2222222222222222,
              "#7201a8"
             ],
             [
              0.3333333333333333,
              "#9c179e"
             ],
             [
              0.4444444444444444,
              "#bd3786"
             ],
             [
              0.5555555555555556,
              "#d8576b"
             ],
             [
              0.6666666666666666,
              "#ed7953"
             ],
             [
              0.7777777777777778,
              "#fb9f3a"
             ],
             [
              0.8888888888888888,
              "#fdca26"
             ],
             [
              1,
              "#f0f921"
             ]
            ],
            "type": "contour"
           }
          ],
          "contourcarpet": [
           {
            "colorbar": {
             "outlinewidth": 0,
             "ticks": ""
            },
            "type": "contourcarpet"
           }
          ],
          "heatmap": [
           {
            "colorbar": {
             "outlinewidth": 0,
             "ticks": ""
            },
            "colorscale": [
             [
              0,
              "#0d0887"
             ],
             [
              0.1111111111111111,
              "#46039f"
             ],
             [
              0.2222222222222222,
              "#7201a8"
             ],
             [
              0.3333333333333333,
              "#9c179e"
             ],
             [
              0.4444444444444444,
              "#bd3786"
             ],
             [
              0.5555555555555556,
              "#d8576b"
             ],
             [
              0.6666666666666666,
              "#ed7953"
             ],
             [
              0.7777777777777778,
              "#fb9f3a"
             ],
             [
              0.8888888888888888,
              "#fdca26"
             ],
             [
              1,
              "#f0f921"
             ]
            ],
            "type": "heatmap"
           }
          ],
          "heatmapgl": [
           {
            "colorbar": {
             "outlinewidth": 0,
             "ticks": ""
            },
            "colorscale": [
             [
              0,
              "#0d0887"
             ],
             [
              0.1111111111111111,
              "#46039f"
             ],
             [
              0.2222222222222222,
              "#7201a8"
             ],
             [
              0.3333333333333333,
              "#9c179e"
             ],
             [
              0.4444444444444444,
              "#bd3786"
             ],
             [
              0.5555555555555556,
              "#d8576b"
             ],
             [
              0.6666666666666666,
              "#ed7953"
             ],
             [
              0.7777777777777778,
              "#fb9f3a"
             ],
             [
              0.8888888888888888,
              "#fdca26"
             ],
             [
              1,
              "#f0f921"
             ]
            ],
            "type": "heatmapgl"
           }
          ],
          "histogram": [
           {
            "marker": {
             "pattern": {
              "fillmode": "overlay",
              "size": 10,
              "solidity": 0.2
             }
            },
            "type": "histogram"
           }
          ],
          "histogram2d": [
           {
            "colorbar": {
             "outlinewidth": 0,
             "ticks": ""
            },
            "colorscale": [
             [
              0,
              "#0d0887"
             ],
             [
              0.1111111111111111,
              "#46039f"
             ],
             [
              0.2222222222222222,
              "#7201a8"
             ],
             [
              0.3333333333333333,
              "#9c179e"
             ],
             [
              0.4444444444444444,
              "#bd3786"
             ],
             [
              0.5555555555555556,
              "#d8576b"
             ],
             [
              0.6666666666666666,
              "#ed7953"
             ],
             [
              0.7777777777777778,
              "#fb9f3a"
             ],
             [
              0.8888888888888888,
              "#fdca26"
             ],
             [
              1,
              "#f0f921"
             ]
            ],
            "type": "histogram2d"
           }
          ],
          "histogram2dcontour": [
           {
            "colorbar": {
             "outlinewidth": 0,
             "ticks": ""
            },
            "colorscale": [
             [
              0,
              "#0d0887"
             ],
             [
              0.1111111111111111,
              "#46039f"
             ],
             [
              0.2222222222222222,
              "#7201a8"
             ],
             [
              0.3333333333333333,
              "#9c179e"
             ],
             [
              0.4444444444444444,
              "#bd3786"
             ],
             [
              0.5555555555555556,
              "#d8576b"
             ],
             [
              0.6666666666666666,
              "#ed7953"
             ],
             [
              0.7777777777777778,
              "#fb9f3a"
             ],
             [
              0.8888888888888888,
              "#fdca26"
             ],
             [
              1,
              "#f0f921"
             ]
            ],
            "type": "histogram2dcontour"
           }
          ],
          "mesh3d": [
           {
            "colorbar": {
             "outlinewidth": 0,
             "ticks": ""
            },
            "type": "mesh3d"
           }
          ],
          "parcoords": [
           {
            "line": {
             "colorbar": {
              "outlinewidth": 0,
              "ticks": ""
             }
            },
            "type": "parcoords"
           }
          ],
          "pie": [
           {
            "automargin": true,
            "type": "pie"
           }
          ],
          "scatter": [
           {
            "fillpattern": {
             "fillmode": "overlay",
             "size": 10,
             "solidity": 0.2
            },
            "type": "scatter"
           }
          ],
          "scatter3d": [
           {
            "line": {
             "colorbar": {
              "outlinewidth": 0,
              "ticks": ""
             }
            },
            "marker": {
             "colorbar": {
              "outlinewidth": 0,
              "ticks": ""
             }
            },
            "type": "scatter3d"
           }
          ],
          "scattercarpet": [
           {
            "marker": {
             "colorbar": {
              "outlinewidth": 0,
              "ticks": ""
             }
            },
            "type": "scattercarpet"
           }
          ],
          "scattergeo": [
           {
            "marker": {
             "colorbar": {
              "outlinewidth": 0,
              "ticks": ""
             }
            },
            "type": "scattergeo"
           }
          ],
          "scattergl": [
           {
            "marker": {
             "colorbar": {
              "outlinewidth": 0,
              "ticks": ""
             }
            },
            "type": "scattergl"
           }
          ],
          "scattermapbox": [
           {
            "marker": {
             "colorbar": {
              "outlinewidth": 0,
              "ticks": ""
             }
            },
            "type": "scattermapbox"
           }
          ],
          "scatterpolar": [
           {
            "marker": {
             "colorbar": {
              "outlinewidth": 0,
              "ticks": ""
             }
            },
            "type": "scatterpolar"
           }
          ],
          "scatterpolargl": [
           {
            "marker": {
             "colorbar": {
              "outlinewidth": 0,
              "ticks": ""
             }
            },
            "type": "scatterpolargl"
           }
          ],
          "scatterternary": [
           {
            "marker": {
             "colorbar": {
              "outlinewidth": 0,
              "ticks": ""
             }
            },
            "type": "scatterternary"
           }
          ],
          "surface": [
           {
            "colorbar": {
             "outlinewidth": 0,
             "ticks": ""
            },
            "colorscale": [
             [
              0,
              "#0d0887"
             ],
             [
              0.1111111111111111,
              "#46039f"
             ],
             [
              0.2222222222222222,
              "#7201a8"
             ],
             [
              0.3333333333333333,
              "#9c179e"
             ],
             [
              0.4444444444444444,
              "#bd3786"
             ],
             [
              0.5555555555555556,
              "#d8576b"
             ],
             [
              0.6666666666666666,
              "#ed7953"
             ],
             [
              0.7777777777777778,
              "#fb9f3a"
             ],
             [
              0.8888888888888888,
              "#fdca26"
             ],
             [
              1,
              "#f0f921"
             ]
            ],
            "type": "surface"
           }
          ],
          "table": [
           {
            "cells": {
             "fill": {
              "color": "#EBF0F8"
             },
             "line": {
              "color": "white"
             }
            },
            "header": {
             "fill": {
              "color": "#C8D4E3"
             },
             "line": {
              "color": "white"
             }
            },
            "type": "table"
           }
          ]
         },
         "layout": {
          "annotationdefaults": {
           "arrowcolor": "#2a3f5f",
           "arrowhead": 0,
           "arrowwidth": 1
          },
          "autotypenumbers": "strict",
          "coloraxis": {
           "colorbar": {
            "outlinewidth": 0,
            "ticks": ""
           }
          },
          "colorscale": {
           "diverging": [
            [
             0,
             "#8e0152"
            ],
            [
             0.1,
             "#c51b7d"
            ],
            [
             0.2,
             "#de77ae"
            ],
            [
             0.3,
             "#f1b6da"
            ],
            [
             0.4,
             "#fde0ef"
            ],
            [
             0.5,
             "#f7f7f7"
            ],
            [
             0.6,
             "#e6f5d0"
            ],
            [
             0.7,
             "#b8e186"
            ],
            [
             0.8,
             "#7fbc41"
            ],
            [
             0.9,
             "#4d9221"
            ],
            [
             1,
             "#276419"
            ]
           ],
           "sequential": [
            [
             0,
             "#0d0887"
            ],
            [
             0.1111111111111111,
             "#46039f"
            ],
            [
             0.2222222222222222,
             "#7201a8"
            ],
            [
             0.3333333333333333,
             "#9c179e"
            ],
            [
             0.4444444444444444,
             "#bd3786"
            ],
            [
             0.5555555555555556,
             "#d8576b"
            ],
            [
             0.6666666666666666,
             "#ed7953"
            ],
            [
             0.7777777777777778,
             "#fb9f3a"
            ],
            [
             0.8888888888888888,
             "#fdca26"
            ],
            [
             1,
             "#f0f921"
            ]
           ],
           "sequentialminus": [
            [
             0,
             "#0d0887"
            ],
            [
             0.1111111111111111,
             "#46039f"
            ],
            [
             0.2222222222222222,
             "#7201a8"
            ],
            [
             0.3333333333333333,
             "#9c179e"
            ],
            [
             0.4444444444444444,
             "#bd3786"
            ],
            [
             0.5555555555555556,
             "#d8576b"
            ],
            [
             0.6666666666666666,
             "#ed7953"
            ],
            [
             0.7777777777777778,
             "#fb9f3a"
            ],
            [
             0.8888888888888888,
             "#fdca26"
            ],
            [
             1,
             "#f0f921"
            ]
           ]
          },
          "colorway": [
           "#636efa",
           "#EF553B",
           "#00cc96",
           "#ab63fa",
           "#FFA15A",
           "#19d3f3",
           "#FF6692",
           "#B6E880",
           "#FF97FF",
           "#FECB52"
          ],
          "font": {
           "color": "#2a3f5f"
          },
          "geo": {
           "bgcolor": "white",
           "lakecolor": "white",
           "landcolor": "white",
           "showlakes": true,
           "showland": true,
           "subunitcolor": "#C8D4E3"
          },
          "hoverlabel": {
           "align": "left"
          },
          "hovermode": "closest",
          "mapbox": {
           "style": "light"
          },
          "paper_bgcolor": "white",
          "plot_bgcolor": "white",
          "polar": {
           "angularaxis": {
            "gridcolor": "#EBF0F8",
            "linecolor": "#EBF0F8",
            "ticks": ""
           },
           "bgcolor": "white",
           "radialaxis": {
            "gridcolor": "#EBF0F8",
            "linecolor": "#EBF0F8",
            "ticks": ""
           }
          },
          "scene": {
           "xaxis": {
            "backgroundcolor": "white",
            "gridcolor": "#DFE8F3",
            "gridwidth": 2,
            "linecolor": "#EBF0F8",
            "showbackground": true,
            "ticks": "",
            "zerolinecolor": "#EBF0F8"
           },
           "yaxis": {
            "backgroundcolor": "white",
            "gridcolor": "#DFE8F3",
            "gridwidth": 2,
            "linecolor": "#EBF0F8",
            "showbackground": true,
            "ticks": "",
            "zerolinecolor": "#EBF0F8"
           },
           "zaxis": {
            "backgroundcolor": "white",
            "gridcolor": "#DFE8F3",
            "gridwidth": 2,
            "linecolor": "#EBF0F8",
            "showbackground": true,
            "ticks": "",
            "zerolinecolor": "#EBF0F8"
           }
          },
          "shapedefaults": {
           "line": {
            "color": "#2a3f5f"
           }
          },
          "ternary": {
           "aaxis": {
            "gridcolor": "#DFE8F3",
            "linecolor": "#A2B1C6",
            "ticks": ""
           },
           "baxis": {
            "gridcolor": "#DFE8F3",
            "linecolor": "#A2B1C6",
            "ticks": ""
           },
           "bgcolor": "white",
           "caxis": {
            "gridcolor": "#DFE8F3",
            "linecolor": "#A2B1C6",
            "ticks": ""
           }
          },
          "title": {
           "x": 0.05
          },
          "xaxis": {
           "automargin": true,
           "gridcolor": "#EBF0F8",
           "linecolor": "#EBF0F8",
           "ticks": "",
           "title": {
            "standoff": 15
           },
           "zerolinecolor": "#EBF0F8",
           "zerolinewidth": 2
          },
          "yaxis": {
           "automargin": true,
           "gridcolor": "#EBF0F8",
           "linecolor": "#EBF0F8",
           "ticks": "",
           "title": {
            "standoff": 15
           },
           "zerolinecolor": "#EBF0F8",
           "zerolinewidth": 2
          }
         }
        },
        "title": {
         "text": "Training and Testing Discrimination",
         "x": 0.5,
         "xanchor": "center",
         "y": 0.9,
         "yanchor": "top"
        },
        "xaxis": {
         "gridcolor": "LightGrey",
         "linecolor": "black",
         "linewidth": 2,
         "showline": true,
         "title": {
          "text": "Epoch"
         }
        },
        "yaxis": {
         "gridcolor": "LightGrey",
         "linecolor": "black",
         "linewidth": 2,
         "showline": true,
         "title": {
          "text": "Discrimination"
         }
        }
       }
      }
     },
     "metadata": {},
     "output_type": "display_data"
    },
    {
     "data": {
      "application/vnd.plotly.v1+json": {
       "config": {
        "plotlyServerURL": "https://plot.ly"
       },
       "data": [
        {
         "line": {
          "color": "RoyalBlue",
          "width": 2
         },
         "marker": {
          "color": "RoyalBlue",
          "line": {
           "color": "DarkSlateGrey",
           "width": 1
          },
          "size": 6
         },
         "mode": "lines+markers",
         "name": "Train",
         "type": "scatter",
         "x": [
          1,
          2,
          3,
          4,
          5,
          6,
          7,
          8,
          9,
          10,
          11,
          12,
          13,
          14,
          15,
          16,
          17,
          18,
          19,
          20,
          21,
          22,
          23,
          24,
          25,
          26,
          27,
          28,
          29,
          30,
          31,
          32,
          33,
          34,
          35,
          36,
          37,
          38,
          39,
          40,
          41,
          42,
          43,
          44,
          45,
          46,
          47,
          48,
          49,
          50,
          51,
          52,
          53,
          54,
          55,
          56,
          57,
          58,
          59,
          60,
          61,
          62,
          63,
          64,
          65,
          66,
          67,
          68,
          69,
          70,
          71,
          72,
          73,
          74,
          75,
          76,
          77,
          78,
          79,
          80,
          81,
          82,
          83,
          84,
          85,
          86,
          87,
          88,
          89,
          90,
          91,
          92,
          93,
          94,
          95,
          96,
          97,
          98,
          99,
          100
         ],
         "y": [
          0.9711077343672514,
          0.9353509396314621,
          0.9833735413849354,
          0.9983007609844208,
          0.581101804971695,
          -0.1699885129928589,
          0.05512779951095581,
          0.5980239510536194,
          0.8539336770772934,
          0.9183954074978828,
          0.920958548784256,
          0.882935956120491,
          0.7825918793678284,
          0.5928226113319397,
          0.3549049496650696,
          0.20490050315856934,
          0.20239168405532837,
          0.3131670355796814,
          0.46652984619140625,
          0.5964219272136688,
          0.6784392595291138,
          0.7163086831569672,
          0.7186155617237091,
          0.6912915110588074,
          0.6388266980648041,
          0.5684810876846313,
          0.4934964179992676,
          0.42987918853759766,
          0.39171910285949707,
          0.38636672496795654,
          0.41183531284332275,
          0.46361953020095825,
          0.5407466888427734,
          0.5778894126415253,
          0.5648897290229797,
          0.5171233117580414,
          0.4683641195297241,
          0.42691826820373535,
          0.39325082302093506,
          0.3728898763656616,
          0.37067729234695435,
          0.3853514790534973,
          0.4116940498352051,
          0.4423198103904724,
          0.469299852848053,
          0.4869447946548462,
          0.48722678422927856,
          0.4507201910018921,
          0.44031989574432373,
          0.4628409147262573,
          0.46484243869781494,
          0.43628406524658203,
          0.3905017375946045,
          0.3721315860748291,
          0.3799195885658264,
          0.3879571557044983,
          0.37648922204971313,
          0.34390026330947876,
          0.333249568939209,
          0.339669406414032,
          0.2725834846496582,
          0.28848254680633545,
          0.27426010370254517,
          0.21543627977371216,
          0.27499234676361084,
          0.1460210680961609,
          0.24285238981246948,
          0.16950368881225586,
          0.11794942617416382,
          0.20710408687591553,
          0.09245854616165161,
          0.10932070016860962,
          0.15776067972183228,
          0.044889748096466064,
          0.11545628309249878,
          0.10668087005615234,
          0.032002389430999756,
          0.12194514274597168,
          0.06802523136138916,
          0.05058175325393677,
          0.12225121259689331,
          0.05173194408416748,
          0.08391374349594116,
          0.12160605192184448,
          0.06037116050720215,
          0.1353093385696411,
          0.07640880346298218,
          0.08606547117233276,
          0.12681180238723755,
          0.06703698635101318,
          0.10711485147476196,
          0.10999399423599243,
          0.074940025806427,
          0.11924684047698975,
          0.1054486632347107,
          0.09443008899688721,
          0.1269376277923584,
          0.08305072784423828,
          0.11023908853530884,
          0.11210590600967407
         ]
        },
        {
         "line": {
          "color": "Crimson",
          "dash": "dot",
          "width": 2
         },
         "marker": {
          "color": "Crimson",
          "line": {
           "color": "DarkSlateGrey",
           "width": 1
          },
          "size": 6
         },
         "mode": "lines+markers",
         "name": "Test",
         "type": "scatter",
         "x": [
          1,
          2,
          3,
          4,
          5,
          6,
          7,
          8,
          9,
          10,
          11,
          12,
          13,
          14,
          15,
          16,
          17,
          18,
          19,
          20,
          21,
          22,
          23,
          24,
          25,
          26,
          27,
          28,
          29,
          30,
          31,
          32,
          33,
          34,
          35,
          36,
          37,
          38,
          39,
          40,
          41,
          42,
          43,
          44,
          45,
          46,
          47,
          48,
          49,
          50,
          51,
          52,
          53,
          54,
          55,
          56,
          57,
          58,
          59,
          60,
          61,
          62,
          63,
          64,
          65,
          66,
          67,
          68,
          69,
          70,
          71,
          72,
          73,
          74,
          75,
          76,
          77,
          78,
          79,
          80,
          81,
          82,
          83,
          84,
          85,
          86,
          87,
          88,
          89,
          90,
          91,
          92,
          93,
          94,
          95,
          96,
          97,
          98,
          99,
          100
         ],
         "y": [
          0.9711077343672514,
          0.9353509396314621,
          0.9833735413849354,
          0.9983007609844208,
          0.581101804971695,
          -0.1699885129928589,
          0.05512779951095581,
          0.5980239510536194,
          0.8539336770772934,
          0.9183954074978828,
          0.920958548784256,
          0.882935956120491,
          0.7825918793678284,
          0.5928226113319397,
          0.3549049496650696,
          0.20490050315856934,
          0.20239168405532837,
          0.3131670355796814,
          0.46652984619140625,
          0.5964219272136688,
          0.6784392595291138,
          0.7163086831569672,
          0.7186155617237091,
          0.6912915110588074,
          0.6388266980648041,
          0.5684810876846313,
          0.4934964179992676,
          0.42987918853759766,
          0.39171910285949707,
          0.38636672496795654,
          0.41183531284332275,
          0.46361953020095825,
          0.5407466888427734,
          0.5778894126415253,
          0.5648897290229797,
          0.5171233117580414,
          0.4683641195297241,
          0.42691826820373535,
          0.39325082302093506,
          0.3728898763656616,
          0.37067729234695435,
          0.3853514790534973,
          0.4116940498352051,
          0.4423198103904724,
          0.469299852848053,
          0.4869447946548462,
          0.48722678422927856,
          0.4507201910018921,
          0.44031989574432373,
          0.4628409147262573,
          0.46484243869781494,
          0.43628406524658203,
          0.3905017375946045,
          0.3721315860748291,
          0.3799195885658264,
          0.3879571557044983,
          0.37648922204971313,
          0.34390026330947876,
          0.333249568939209,
          0.339669406414032,
          0.2725834846496582,
          0.28848254680633545,
          0.27426010370254517,
          0.21543627977371216,
          0.27499234676361084,
          0.1460210680961609,
          0.24285238981246948,
          0.16950368881225586,
          0.11794942617416382,
          0.20710408687591553,
          0.09245854616165161,
          0.10932070016860962,
          0.15776067972183228,
          0.044889748096466064,
          0.11545628309249878,
          0.10668087005615234,
          0.032002389430999756,
          0.12194514274597168,
          0.06802523136138916,
          0.05058175325393677,
          0.12225121259689331,
          0.05173194408416748,
          0.08391374349594116,
          0.12160605192184448,
          0.06037116050720215,
          0.1353093385696411,
          0.07640880346298218,
          0.08606547117233276,
          0.12681180238723755,
          0.06703698635101318,
          0.10711485147476196,
          0.10999399423599243,
          0.074940025806427,
          0.11924684047698975,
          0.1054486632347107,
          0.09443008899688721,
          0.1269376277923584,
          0.08305072784423828,
          0.11023908853530884,
          0.11210590600967407
         ]
        }
       ],
       "layout": {
        "font": {
         "color": "black",
         "family": "Helvetica, Arial, sans-serif",
         "size": 12
        },
        "legend": {
         "orientation": "h",
         "x": 0.1,
         "y": 1.1
        },
        "margin": {
         "b": 30,
         "l": 40,
         "r": 40,
         "t": 40
        },
        "plot_bgcolor": "white",
        "template": {
         "data": {
          "bar": [
           {
            "error_x": {
             "color": "#2a3f5f"
            },
            "error_y": {
             "color": "#2a3f5f"
            },
            "marker": {
             "line": {
              "color": "white",
              "width": 0.5
             },
             "pattern": {
              "fillmode": "overlay",
              "size": 10,
              "solidity": 0.2
             }
            },
            "type": "bar"
           }
          ],
          "barpolar": [
           {
            "marker": {
             "line": {
              "color": "white",
              "width": 0.5
             },
             "pattern": {
              "fillmode": "overlay",
              "size": 10,
              "solidity": 0.2
             }
            },
            "type": "barpolar"
           }
          ],
          "carpet": [
           {
            "aaxis": {
             "endlinecolor": "#2a3f5f",
             "gridcolor": "#C8D4E3",
             "linecolor": "#C8D4E3",
             "minorgridcolor": "#C8D4E3",
             "startlinecolor": "#2a3f5f"
            },
            "baxis": {
             "endlinecolor": "#2a3f5f",
             "gridcolor": "#C8D4E3",
             "linecolor": "#C8D4E3",
             "minorgridcolor": "#C8D4E3",
             "startlinecolor": "#2a3f5f"
            },
            "type": "carpet"
           }
          ],
          "choropleth": [
           {
            "colorbar": {
             "outlinewidth": 0,
             "ticks": ""
            },
            "type": "choropleth"
           }
          ],
          "contour": [
           {
            "colorbar": {
             "outlinewidth": 0,
             "ticks": ""
            },
            "colorscale": [
             [
              0,
              "#0d0887"
             ],
             [
              0.1111111111111111,
              "#46039f"
             ],
             [
              0.2222222222222222,
              "#7201a8"
             ],
             [
              0.3333333333333333,
              "#9c179e"
             ],
             [
              0.4444444444444444,
              "#bd3786"
             ],
             [
              0.5555555555555556,
              "#d8576b"
             ],
             [
              0.6666666666666666,
              "#ed7953"
             ],
             [
              0.7777777777777778,
              "#fb9f3a"
             ],
             [
              0.8888888888888888,
              "#fdca26"
             ],
             [
              1,
              "#f0f921"
             ]
            ],
            "type": "contour"
           }
          ],
          "contourcarpet": [
           {
            "colorbar": {
             "outlinewidth": 0,
             "ticks": ""
            },
            "type": "contourcarpet"
           }
          ],
          "heatmap": [
           {
            "colorbar": {
             "outlinewidth": 0,
             "ticks": ""
            },
            "colorscale": [
             [
              0,
              "#0d0887"
             ],
             [
              0.1111111111111111,
              "#46039f"
             ],
             [
              0.2222222222222222,
              "#7201a8"
             ],
             [
              0.3333333333333333,
              "#9c179e"
             ],
             [
              0.4444444444444444,
              "#bd3786"
             ],
             [
              0.5555555555555556,
              "#d8576b"
             ],
             [
              0.6666666666666666,
              "#ed7953"
             ],
             [
              0.7777777777777778,
              "#fb9f3a"
             ],
             [
              0.8888888888888888,
              "#fdca26"
             ],
             [
              1,
              "#f0f921"
             ]
            ],
            "type": "heatmap"
           }
          ],
          "heatmapgl": [
           {
            "colorbar": {
             "outlinewidth": 0,
             "ticks": ""
            },
            "colorscale": [
             [
              0,
              "#0d0887"
             ],
             [
              0.1111111111111111,
              "#46039f"
             ],
             [
              0.2222222222222222,
              "#7201a8"
             ],
             [
              0.3333333333333333,
              "#9c179e"
             ],
             [
              0.4444444444444444,
              "#bd3786"
             ],
             [
              0.5555555555555556,
              "#d8576b"
             ],
             [
              0.6666666666666666,
              "#ed7953"
             ],
             [
              0.7777777777777778,
              "#fb9f3a"
             ],
             [
              0.8888888888888888,
              "#fdca26"
             ],
             [
              1,
              "#f0f921"
             ]
            ],
            "type": "heatmapgl"
           }
          ],
          "histogram": [
           {
            "marker": {
             "pattern": {
              "fillmode": "overlay",
              "size": 10,
              "solidity": 0.2
             }
            },
            "type": "histogram"
           }
          ],
          "histogram2d": [
           {
            "colorbar": {
             "outlinewidth": 0,
             "ticks": ""
            },
            "colorscale": [
             [
              0,
              "#0d0887"
             ],
             [
              0.1111111111111111,
              "#46039f"
             ],
             [
              0.2222222222222222,
              "#7201a8"
             ],
             [
              0.3333333333333333,
              "#9c179e"
             ],
             [
              0.4444444444444444,
              "#bd3786"
             ],
             [
              0.5555555555555556,
              "#d8576b"
             ],
             [
              0.6666666666666666,
              "#ed7953"
             ],
             [
              0.7777777777777778,
              "#fb9f3a"
             ],
             [
              0.8888888888888888,
              "#fdca26"
             ],
             [
              1,
              "#f0f921"
             ]
            ],
            "type": "histogram2d"
           }
          ],
          "histogram2dcontour": [
           {
            "colorbar": {
             "outlinewidth": 0,
             "ticks": ""
            },
            "colorscale": [
             [
              0,
              "#0d0887"
             ],
             [
              0.1111111111111111,
              "#46039f"
             ],
             [
              0.2222222222222222,
              "#7201a8"
             ],
             [
              0.3333333333333333,
              "#9c179e"
             ],
             [
              0.4444444444444444,
              "#bd3786"
             ],
             [
              0.5555555555555556,
              "#d8576b"
             ],
             [
              0.6666666666666666,
              "#ed7953"
             ],
             [
              0.7777777777777778,
              "#fb9f3a"
             ],
             [
              0.8888888888888888,
              "#fdca26"
             ],
             [
              1,
              "#f0f921"
             ]
            ],
            "type": "histogram2dcontour"
           }
          ],
          "mesh3d": [
           {
            "colorbar": {
             "outlinewidth": 0,
             "ticks": ""
            },
            "type": "mesh3d"
           }
          ],
          "parcoords": [
           {
            "line": {
             "colorbar": {
              "outlinewidth": 0,
              "ticks": ""
             }
            },
            "type": "parcoords"
           }
          ],
          "pie": [
           {
            "automargin": true,
            "type": "pie"
           }
          ],
          "scatter": [
           {
            "fillpattern": {
             "fillmode": "overlay",
             "size": 10,
             "solidity": 0.2
            },
            "type": "scatter"
           }
          ],
          "scatter3d": [
           {
            "line": {
             "colorbar": {
              "outlinewidth": 0,
              "ticks": ""
             }
            },
            "marker": {
             "colorbar": {
              "outlinewidth": 0,
              "ticks": ""
             }
            },
            "type": "scatter3d"
           }
          ],
          "scattercarpet": [
           {
            "marker": {
             "colorbar": {
              "outlinewidth": 0,
              "ticks": ""
             }
            },
            "type": "scattercarpet"
           }
          ],
          "scattergeo": [
           {
            "marker": {
             "colorbar": {
              "outlinewidth": 0,
              "ticks": ""
             }
            },
            "type": "scattergeo"
           }
          ],
          "scattergl": [
           {
            "marker": {
             "colorbar": {
              "outlinewidth": 0,
              "ticks": ""
             }
            },
            "type": "scattergl"
           }
          ],
          "scattermapbox": [
           {
            "marker": {
             "colorbar": {
              "outlinewidth": 0,
              "ticks": ""
             }
            },
            "type": "scattermapbox"
           }
          ],
          "scatterpolar": [
           {
            "marker": {
             "colorbar": {
              "outlinewidth": 0,
              "ticks": ""
             }
            },
            "type": "scatterpolar"
           }
          ],
          "scatterpolargl": [
           {
            "marker": {
             "colorbar": {
              "outlinewidth": 0,
              "ticks": ""
             }
            },
            "type": "scatterpolargl"
           }
          ],
          "scatterternary": [
           {
            "marker": {
             "colorbar": {
              "outlinewidth": 0,
              "ticks": ""
             }
            },
            "type": "scatterternary"
           }
          ],
          "surface": [
           {
            "colorbar": {
             "outlinewidth": 0,
             "ticks": ""
            },
            "colorscale": [
             [
              0,
              "#0d0887"
             ],
             [
              0.1111111111111111,
              "#46039f"
             ],
             [
              0.2222222222222222,
              "#7201a8"
             ],
             [
              0.3333333333333333,
              "#9c179e"
             ],
             [
              0.4444444444444444,
              "#bd3786"
             ],
             [
              0.5555555555555556,
              "#d8576b"
             ],
             [
              0.6666666666666666,
              "#ed7953"
             ],
             [
              0.7777777777777778,
              "#fb9f3a"
             ],
             [
              0.8888888888888888,
              "#fdca26"
             ],
             [
              1,
              "#f0f921"
             ]
            ],
            "type": "surface"
           }
          ],
          "table": [
           {
            "cells": {
             "fill": {
              "color": "#EBF0F8"
             },
             "line": {
              "color": "white"
             }
            },
            "header": {
             "fill": {
              "color": "#C8D4E3"
             },
             "line": {
              "color": "white"
             }
            },
            "type": "table"
           }
          ]
         },
         "layout": {
          "annotationdefaults": {
           "arrowcolor": "#2a3f5f",
           "arrowhead": 0,
           "arrowwidth": 1
          },
          "autotypenumbers": "strict",
          "coloraxis": {
           "colorbar": {
            "outlinewidth": 0,
            "ticks": ""
           }
          },
          "colorscale": {
           "diverging": [
            [
             0,
             "#8e0152"
            ],
            [
             0.1,
             "#c51b7d"
            ],
            [
             0.2,
             "#de77ae"
            ],
            [
             0.3,
             "#f1b6da"
            ],
            [
             0.4,
             "#fde0ef"
            ],
            [
             0.5,
             "#f7f7f7"
            ],
            [
             0.6,
             "#e6f5d0"
            ],
            [
             0.7,
             "#b8e186"
            ],
            [
             0.8,
             "#7fbc41"
            ],
            [
             0.9,
             "#4d9221"
            ],
            [
             1,
             "#276419"
            ]
           ],
           "sequential": [
            [
             0,
             "#0d0887"
            ],
            [
             0.1111111111111111,
             "#46039f"
            ],
            [
             0.2222222222222222,
             "#7201a8"
            ],
            [
             0.3333333333333333,
             "#9c179e"
            ],
            [
             0.4444444444444444,
             "#bd3786"
            ],
            [
             0.5555555555555556,
             "#d8576b"
            ],
            [
             0.6666666666666666,
             "#ed7953"
            ],
            [
             0.7777777777777778,
             "#fb9f3a"
            ],
            [
             0.8888888888888888,
             "#fdca26"
            ],
            [
             1,
             "#f0f921"
            ]
           ],
           "sequentialminus": [
            [
             0,
             "#0d0887"
            ],
            [
             0.1111111111111111,
             "#46039f"
            ],
            [
             0.2222222222222222,
             "#7201a8"
            ],
            [
             0.3333333333333333,
             "#9c179e"
            ],
            [
             0.4444444444444444,
             "#bd3786"
            ],
            [
             0.5555555555555556,
             "#d8576b"
            ],
            [
             0.6666666666666666,
             "#ed7953"
            ],
            [
             0.7777777777777778,
             "#fb9f3a"
            ],
            [
             0.8888888888888888,
             "#fdca26"
            ],
            [
             1,
             "#f0f921"
            ]
           ]
          },
          "colorway": [
           "#636efa",
           "#EF553B",
           "#00cc96",
           "#ab63fa",
           "#FFA15A",
           "#19d3f3",
           "#FF6692",
           "#B6E880",
           "#FF97FF",
           "#FECB52"
          ],
          "font": {
           "color": "#2a3f5f"
          },
          "geo": {
           "bgcolor": "white",
           "lakecolor": "white",
           "landcolor": "white",
           "showlakes": true,
           "showland": true,
           "subunitcolor": "#C8D4E3"
          },
          "hoverlabel": {
           "align": "left"
          },
          "hovermode": "closest",
          "mapbox": {
           "style": "light"
          },
          "paper_bgcolor": "white",
          "plot_bgcolor": "white",
          "polar": {
           "angularaxis": {
            "gridcolor": "#EBF0F8",
            "linecolor": "#EBF0F8",
            "ticks": ""
           },
           "bgcolor": "white",
           "radialaxis": {
            "gridcolor": "#EBF0F8",
            "linecolor": "#EBF0F8",
            "ticks": ""
           }
          },
          "scene": {
           "xaxis": {
            "backgroundcolor": "white",
            "gridcolor": "#DFE8F3",
            "gridwidth": 2,
            "linecolor": "#EBF0F8",
            "showbackground": true,
            "ticks": "",
            "zerolinecolor": "#EBF0F8"
           },
           "yaxis": {
            "backgroundcolor": "white",
            "gridcolor": "#DFE8F3",
            "gridwidth": 2,
            "linecolor": "#EBF0F8",
            "showbackground": true,
            "ticks": "",
            "zerolinecolor": "#EBF0F8"
           },
           "zaxis": {
            "backgroundcolor": "white",
            "gridcolor": "#DFE8F3",
            "gridwidth": 2,
            "linecolor": "#EBF0F8",
            "showbackground": true,
            "ticks": "",
            "zerolinecolor": "#EBF0F8"
           }
          },
          "shapedefaults": {
           "line": {
            "color": "#2a3f5f"
           }
          },
          "ternary": {
           "aaxis": {
            "gridcolor": "#DFE8F3",
            "linecolor": "#A2B1C6",
            "ticks": ""
           },
           "baxis": {
            "gridcolor": "#DFE8F3",
            "linecolor": "#A2B1C6",
            "ticks": ""
           },
           "bgcolor": "white",
           "caxis": {
            "gridcolor": "#DFE8F3",
            "linecolor": "#A2B1C6",
            "ticks": ""
           }
          },
          "title": {
           "x": 0.05
          },
          "xaxis": {
           "automargin": true,
           "gridcolor": "#EBF0F8",
           "linecolor": "#EBF0F8",
           "ticks": "",
           "title": {
            "standoff": 15
           },
           "zerolinecolor": "#EBF0F8",
           "zerolinewidth": 2
          },
          "yaxis": {
           "automargin": true,
           "gridcolor": "#EBF0F8",
           "linecolor": "#EBF0F8",
           "ticks": "",
           "title": {
            "standoff": 15
           },
           "zerolinecolor": "#EBF0F8",
           "zerolinewidth": 2
          }
         }
        },
        "title": {
         "text": "Training and Testing Fairness",
         "x": 0.5,
         "xanchor": "center",
         "y": 0.9,
         "yanchor": "top"
        },
        "xaxis": {
         "gridcolor": "LightGrey",
         "linecolor": "black",
         "linewidth": 2,
         "showline": true,
         "title": {
          "text": "Epoch"
         }
        },
        "yaxis": {
         "gridcolor": "LightGrey",
         "linecolor": "black",
         "linewidth": 2,
         "showline": true,
         "title": {
          "text": "Fairness"
         }
        }
       }
      }
     },
     "metadata": {},
     "output_type": "display_data"
    }
   ],
   "source": [
    "import plotly.graph_objects as go\n",
    "\n",
    "def plot_metric(title, y_label, train_data, test_data):\n",
    "    epochs = list(range(1, 101))\n",
    "    fig = go.Figure()\n",
    "\n",
    "    # Adding Train Line with Markers\n",
    "    fig.add_trace(go.Scatter(\n",
    "        x=epochs, y=train_data, mode='lines+markers',\n",
    "        name='Train',\n",
    "        line=dict(color='RoyalBlue', width=2),\n",
    "        marker=dict(color='RoyalBlue', size=6, line=dict(width=1, color='DarkSlateGrey'))\n",
    "    ))\n",
    "\n",
    "    # Adding Test Line with Markers\n",
    "    fig.add_trace(go.Scatter(\n",
    "        x=epochs, y=test_data, mode='lines+markers',\n",
    "        name='Test',\n",
    "        line=dict(color='Crimson', width=2, dash='dot'),\n",
    "        marker=dict(color='Crimson', size=6, line=dict(width=1, color='DarkSlateGrey'))\n",
    "    ))\n",
    "\n",
    "    # Update Layout\n",
    "    fig.update_layout(\n",
    "        title={'text': title, 'y':0.9, 'x':0.5, 'xanchor': 'center', 'yanchor': 'top'},\n",
    "        xaxis_title='Epoch',\n",
    "        yaxis_title=y_label,\n",
    "        legend=dict(x=0.1, y=1.1, orientation='h'),\n",
    "        font=dict(family=\"Helvetica, Arial, sans-serif\", size=12, color=\"black\"),\n",
    "        plot_bgcolor='white',\n",
    "        margin=dict(l=40, r=40, t=40, b=30)\n",
    "    )\n",
    "\n",
    "    # Gridlines and Axes styles\n",
    "    fig.update_xaxes(showline=True, linewidth=2, linecolor='black', gridcolor='LightGrey')\n",
    "    fig.update_yaxes(showline=True, linewidth=2, linecolor='black', gridcolor='LightGrey')\n",
    "\n",
    "    fig.show()\n",
    "\n",
    "# Example usage\n",
    "plot_metric(\"Training and Testing Loss\", \"Loss\", train_losses1, test_losses1)\n",
    "plot_metric(\"Training and Testing Accuracy\", \"Accuracy (%)\", train_accuracies1, test_accuracies1)\n",
    "plot_metric(\"Training and Testing Discrimination\", \"Discrimination\", train_discriminations1, test_discriminations1)\n",
    "plot_metric(\"Training and Testing Fairness\", \"Fairness\", train_fairness1, test_fairness1)\n",
    "\n"
   ]
  },
  {
   "cell_type": "code",
   "execution_count": 34,
   "metadata": {},
   "outputs": [
    {
     "data": {
      "application/vnd.plotly.v1+json": {
       "config": {
        "plotlyServerURL": "https://plot.ly"
       },
       "data": [
        {
         "line": {
          "color": "RoyalBlue",
          "width": 2
         },
         "marker": {
          "color": "RoyalBlue",
          "line": {
           "color": "DarkSlateGrey",
           "width": 1
          },
          "size": 6
         },
         "mode": "lines+markers",
         "name": "Train",
         "type": "scatter",
         "x": [
          1,
          2,
          3,
          4,
          5,
          6,
          7,
          8,
          9,
          10,
          11,
          12,
          13,
          14,
          15,
          16,
          17,
          18,
          19,
          20,
          21,
          22,
          23,
          24,
          25,
          26,
          27,
          28,
          29,
          30,
          31,
          32,
          33,
          34,
          35,
          36,
          37,
          38,
          39,
          40,
          41,
          42,
          43,
          44,
          45,
          46,
          47,
          48,
          49,
          50,
          51,
          52,
          53,
          54,
          55,
          56,
          57,
          58,
          59,
          60,
          61,
          62,
          63,
          64,
          65,
          66,
          67,
          68,
          69,
          70,
          71,
          72,
          73,
          74,
          75,
          76,
          77,
          78,
          79,
          80,
          81,
          82,
          83,
          84,
          85,
          86,
          87,
          88,
          89,
          90,
          91,
          92,
          93,
          94,
          95,
          96,
          97,
          98,
          99,
          100
         ],
         "y": [
          0.9771125074476004,
          0.516523152589798,
          0.7643721252679825,
          0.8962035402655602,
          0.953741293400526,
          0.9797932934015989,
          0.991833065636456,
          0.9968303879722953,
          0.9987656861776486,
          0.9995012606377713,
          0.9997870675724698,
          0.9999037534362287,
          0.9999545947430306,
          0.9999779475983814,
          0.9999893104240982,
          0.9999947749438434,
          0.9999975541434196,
          0.999999308787892,
          0.9999999986874996,
          0.9999986543579098,
          0.9999929192126729,
          0.9999781800888741,
          0.9999348831624957,
          0.999804454142577,
          0.9995014382875524,
          0.9994225561968051,
          0.9998567986767739,
          0.9999780933430884,
          0.9999100114728208,
          0.9999894702905294,
          0.9999091812205734,
          0.9996791623707395,
          0.9996485192095861,
          0.9997737299563596,
          0.9999104420930962,
          0.9999874299019211,
          0.9999992039666381,
          0.9999958637185955,
          0.9999999722957398,
          0.9999844198591745,
          0.9999454637472809,
          0.9999238587261061,
          0.9999481565282622,
          0.9999887954327278,
          0.9999999584460397,
          0.9999999641017752,
          0.9999797218115418,
          0.9999464976026502,
          0.9999804742910783,
          0.9999999241694582,
          0.9999983030783142,
          0.9999664517927158,
          0.9999593240318063,
          0.999997793078137,
          0.9999998466474693,
          0.9999613407235302,
          0.9999896862791502,
          0.9999997879895943,
          0.9999561392287433,
          0.9999923247514744,
          0.9999986138687973,
          0.9999347351767938,
          0.9999956516553539,
          0.9999593097745674,
          0.9999999583244481,
          0.9999735159581178,
          0.9999959538363328,
          0.9999039357135189,
          0.9998360010649776,
          0.9992051297449507,
          0.9997719242237508,
          0.9999884440667302,
          0.9995681279397104,
          0.9999885572560743,
          0.9998403983772732,
          0.9997489879024215,
          0.9999148771821638,
          0.9998230417695595,
          0.9999971842496507,
          0.9997860252915416,
          0.9999999999003242,
          0.999904609285295,
          0.9999505634477828,
          0.9998799316817895,
          0.9999779676236358,
          0.9999727373287897,
          0.9999397511273855,
          0.9999349540885305,
          0.9999849701498533,
          0.9999914054023975,
          0.999928252051177,
          0.9999963716782077,
          0.999979090238412,
          0.9999923725645203,
          0.9999437268561451,
          0.9999997889490686,
          0.9999924440039649,
          0.9999665914692741,
          0.999998357376171,
          0.9999917684399406
         ]
        },
        {
         "line": {
          "color": "Crimson",
          "dash": "dot",
          "width": 2
         },
         "marker": {
          "color": "Crimson",
          "line": {
           "color": "DarkSlateGrey",
           "width": 1
          },
          "size": 6
         },
         "mode": "lines+markers",
         "name": "Test",
         "type": "scatter",
         "x": [
          1,
          2,
          3,
          4,
          5,
          6,
          7,
          8,
          9,
          10,
          11,
          12,
          13,
          14,
          15,
          16,
          17,
          18,
          19,
          20,
          21,
          22,
          23,
          24,
          25,
          26,
          27,
          28,
          29,
          30,
          31,
          32,
          33,
          34,
          35,
          36,
          37,
          38,
          39,
          40,
          41,
          42,
          43,
          44,
          45,
          46,
          47,
          48,
          49,
          50,
          51,
          52,
          53,
          54,
          55,
          56,
          57,
          58,
          59,
          60,
          61,
          62,
          63,
          64,
          65,
          66,
          67,
          68,
          69,
          70,
          71,
          72,
          73,
          74,
          75,
          76,
          77,
          78,
          79,
          80,
          81,
          82,
          83,
          84,
          85,
          86,
          87,
          88,
          89,
          90,
          91,
          92,
          93,
          94,
          95,
          96,
          97,
          98,
          99,
          100
         ],
         "y": [
          0.9711077343672514,
          0.9353509396314621,
          0.9833735413849354,
          0.9983007609844208,
          0.581101804971695,
          -0.1699885129928589,
          0.05512779951095581,
          0.5980239510536194,
          0.8539336770772934,
          0.9183954074978828,
          0.920958548784256,
          0.882935956120491,
          0.7825918793678284,
          0.5928226113319397,
          0.3549049496650696,
          0.20490050315856934,
          0.20239168405532837,
          0.3131670355796814,
          0.46652984619140625,
          0.5964219272136688,
          0.6784392595291138,
          0.7163086831569672,
          0.7186155617237091,
          0.6912915110588074,
          0.6388266980648041,
          0.5684810876846313,
          0.4934964179992676,
          0.42987918853759766,
          0.39171910285949707,
          0.38636672496795654,
          0.41183531284332275,
          0.46361953020095825,
          0.5407466888427734,
          0.5778894126415253,
          0.5648897290229797,
          0.5171233117580414,
          0.4683641195297241,
          0.42691826820373535,
          0.39325082302093506,
          0.3728898763656616,
          0.37067729234695435,
          0.3853514790534973,
          0.4116940498352051,
          0.4423198103904724,
          0.469299852848053,
          0.4869447946548462,
          0.48722678422927856,
          0.4507201910018921,
          0.44031989574432373,
          0.4628409147262573,
          0.46484243869781494,
          0.43628406524658203,
          0.3905017375946045,
          0.3721315860748291,
          0.3799195885658264,
          0.3879571557044983,
          0.37648922204971313,
          0.34390026330947876,
          0.333249568939209,
          0.339669406414032,
          0.2725834846496582,
          0.28848254680633545,
          0.27426010370254517,
          0.21543627977371216,
          0.27499234676361084,
          0.1460210680961609,
          0.24285238981246948,
          0.16950368881225586,
          0.11794942617416382,
          0.20710408687591553,
          0.09245854616165161,
          0.10932070016860962,
          0.15776067972183228,
          0.044889748096466064,
          0.11545628309249878,
          0.10668087005615234,
          0.032002389430999756,
          0.12194514274597168,
          0.06802523136138916,
          0.05058175325393677,
          0.12225121259689331,
          0.05173194408416748,
          0.08391374349594116,
          0.12160605192184448,
          0.06037116050720215,
          0.1353093385696411,
          0.07640880346298218,
          0.08606547117233276,
          0.12681180238723755,
          0.06703698635101318,
          0.10711485147476196,
          0.10999399423599243,
          0.074940025806427,
          0.11924684047698975,
          0.1054486632347107,
          0.09443008899688721,
          0.1269376277923584,
          0.08305072784423828,
          0.11023908853530884,
          0.11210590600967407
         ]
        }
       ],
       "layout": {
        "font": {
         "color": "black",
         "family": "Helvetica, Arial, sans-serif",
         "size": 12
        },
        "legend": {
         "orientation": "h",
         "x": 0.1,
         "y": 1.1
        },
        "margin": {
         "b": 30,
         "l": 40,
         "r": 40,
         "t": 40
        },
        "plot_bgcolor": "white",
        "template": {
         "data": {
          "bar": [
           {
            "error_x": {
             "color": "#2a3f5f"
            },
            "error_y": {
             "color": "#2a3f5f"
            },
            "marker": {
             "line": {
              "color": "white",
              "width": 0.5
             },
             "pattern": {
              "fillmode": "overlay",
              "size": 10,
              "solidity": 0.2
             }
            },
            "type": "bar"
           }
          ],
          "barpolar": [
           {
            "marker": {
             "line": {
              "color": "white",
              "width": 0.5
             },
             "pattern": {
              "fillmode": "overlay",
              "size": 10,
              "solidity": 0.2
             }
            },
            "type": "barpolar"
           }
          ],
          "carpet": [
           {
            "aaxis": {
             "endlinecolor": "#2a3f5f",
             "gridcolor": "#C8D4E3",
             "linecolor": "#C8D4E3",
             "minorgridcolor": "#C8D4E3",
             "startlinecolor": "#2a3f5f"
            },
            "baxis": {
             "endlinecolor": "#2a3f5f",
             "gridcolor": "#C8D4E3",
             "linecolor": "#C8D4E3",
             "minorgridcolor": "#C8D4E3",
             "startlinecolor": "#2a3f5f"
            },
            "type": "carpet"
           }
          ],
          "choropleth": [
           {
            "colorbar": {
             "outlinewidth": 0,
             "ticks": ""
            },
            "type": "choropleth"
           }
          ],
          "contour": [
           {
            "colorbar": {
             "outlinewidth": 0,
             "ticks": ""
            },
            "colorscale": [
             [
              0,
              "#0d0887"
             ],
             [
              0.1111111111111111,
              "#46039f"
             ],
             [
              0.2222222222222222,
              "#7201a8"
             ],
             [
              0.3333333333333333,
              "#9c179e"
             ],
             [
              0.4444444444444444,
              "#bd3786"
             ],
             [
              0.5555555555555556,
              "#d8576b"
             ],
             [
              0.6666666666666666,
              "#ed7953"
             ],
             [
              0.7777777777777778,
              "#fb9f3a"
             ],
             [
              0.8888888888888888,
              "#fdca26"
             ],
             [
              1,
              "#f0f921"
             ]
            ],
            "type": "contour"
           }
          ],
          "contourcarpet": [
           {
            "colorbar": {
             "outlinewidth": 0,
             "ticks": ""
            },
            "type": "contourcarpet"
           }
          ],
          "heatmap": [
           {
            "colorbar": {
             "outlinewidth": 0,
             "ticks": ""
            },
            "colorscale": [
             [
              0,
              "#0d0887"
             ],
             [
              0.1111111111111111,
              "#46039f"
             ],
             [
              0.2222222222222222,
              "#7201a8"
             ],
             [
              0.3333333333333333,
              "#9c179e"
             ],
             [
              0.4444444444444444,
              "#bd3786"
             ],
             [
              0.5555555555555556,
              "#d8576b"
             ],
             [
              0.6666666666666666,
              "#ed7953"
             ],
             [
              0.7777777777777778,
              "#fb9f3a"
             ],
             [
              0.8888888888888888,
              "#fdca26"
             ],
             [
              1,
              "#f0f921"
             ]
            ],
            "type": "heatmap"
           }
          ],
          "heatmapgl": [
           {
            "colorbar": {
             "outlinewidth": 0,
             "ticks": ""
            },
            "colorscale": [
             [
              0,
              "#0d0887"
             ],
             [
              0.1111111111111111,
              "#46039f"
             ],
             [
              0.2222222222222222,
              "#7201a8"
             ],
             [
              0.3333333333333333,
              "#9c179e"
             ],
             [
              0.4444444444444444,
              "#bd3786"
             ],
             [
              0.5555555555555556,
              "#d8576b"
             ],
             [
              0.6666666666666666,
              "#ed7953"
             ],
             [
              0.7777777777777778,
              "#fb9f3a"
             ],
             [
              0.8888888888888888,
              "#fdca26"
             ],
             [
              1,
              "#f0f921"
             ]
            ],
            "type": "heatmapgl"
           }
          ],
          "histogram": [
           {
            "marker": {
             "pattern": {
              "fillmode": "overlay",
              "size": 10,
              "solidity": 0.2
             }
            },
            "type": "histogram"
           }
          ],
          "histogram2d": [
           {
            "colorbar": {
             "outlinewidth": 0,
             "ticks": ""
            },
            "colorscale": [
             [
              0,
              "#0d0887"
             ],
             [
              0.1111111111111111,
              "#46039f"
             ],
             [
              0.2222222222222222,
              "#7201a8"
             ],
             [
              0.3333333333333333,
              "#9c179e"
             ],
             [
              0.4444444444444444,
              "#bd3786"
             ],
             [
              0.5555555555555556,
              "#d8576b"
             ],
             [
              0.6666666666666666,
              "#ed7953"
             ],
             [
              0.7777777777777778,
              "#fb9f3a"
             ],
             [
              0.8888888888888888,
              "#fdca26"
             ],
             [
              1,
              "#f0f921"
             ]
            ],
            "type": "histogram2d"
           }
          ],
          "histogram2dcontour": [
           {
            "colorbar": {
             "outlinewidth": 0,
             "ticks": ""
            },
            "colorscale": [
             [
              0,
              "#0d0887"
             ],
             [
              0.1111111111111111,
              "#46039f"
             ],
             [
              0.2222222222222222,
              "#7201a8"
             ],
             [
              0.3333333333333333,
              "#9c179e"
             ],
             [
              0.4444444444444444,
              "#bd3786"
             ],
             [
              0.5555555555555556,
              "#d8576b"
             ],
             [
              0.6666666666666666,
              "#ed7953"
             ],
             [
              0.7777777777777778,
              "#fb9f3a"
             ],
             [
              0.8888888888888888,
              "#fdca26"
             ],
             [
              1,
              "#f0f921"
             ]
            ],
            "type": "histogram2dcontour"
           }
          ],
          "mesh3d": [
           {
            "colorbar": {
             "outlinewidth": 0,
             "ticks": ""
            },
            "type": "mesh3d"
           }
          ],
          "parcoords": [
           {
            "line": {
             "colorbar": {
              "outlinewidth": 0,
              "ticks": ""
             }
            },
            "type": "parcoords"
           }
          ],
          "pie": [
           {
            "automargin": true,
            "type": "pie"
           }
          ],
          "scatter": [
           {
            "fillpattern": {
             "fillmode": "overlay",
             "size": 10,
             "solidity": 0.2
            },
            "type": "scatter"
           }
          ],
          "scatter3d": [
           {
            "line": {
             "colorbar": {
              "outlinewidth": 0,
              "ticks": ""
             }
            },
            "marker": {
             "colorbar": {
              "outlinewidth": 0,
              "ticks": ""
             }
            },
            "type": "scatter3d"
           }
          ],
          "scattercarpet": [
           {
            "marker": {
             "colorbar": {
              "outlinewidth": 0,
              "ticks": ""
             }
            },
            "type": "scattercarpet"
           }
          ],
          "scattergeo": [
           {
            "marker": {
             "colorbar": {
              "outlinewidth": 0,
              "ticks": ""
             }
            },
            "type": "scattergeo"
           }
          ],
          "scattergl": [
           {
            "marker": {
             "colorbar": {
              "outlinewidth": 0,
              "ticks": ""
             }
            },
            "type": "scattergl"
           }
          ],
          "scattermapbox": [
           {
            "marker": {
             "colorbar": {
              "outlinewidth": 0,
              "ticks": ""
             }
            },
            "type": "scattermapbox"
           }
          ],
          "scatterpolar": [
           {
            "marker": {
             "colorbar": {
              "outlinewidth": 0,
              "ticks": ""
             }
            },
            "type": "scatterpolar"
           }
          ],
          "scatterpolargl": [
           {
            "marker": {
             "colorbar": {
              "outlinewidth": 0,
              "ticks": ""
             }
            },
            "type": "scatterpolargl"
           }
          ],
          "scatterternary": [
           {
            "marker": {
             "colorbar": {
              "outlinewidth": 0,
              "ticks": ""
             }
            },
            "type": "scatterternary"
           }
          ],
          "surface": [
           {
            "colorbar": {
             "outlinewidth": 0,
             "ticks": ""
            },
            "colorscale": [
             [
              0,
              "#0d0887"
             ],
             [
              0.1111111111111111,
              "#46039f"
             ],
             [
              0.2222222222222222,
              "#7201a8"
             ],
             [
              0.3333333333333333,
              "#9c179e"
             ],
             [
              0.4444444444444444,
              "#bd3786"
             ],
             [
              0.5555555555555556,
              "#d8576b"
             ],
             [
              0.6666666666666666,
              "#ed7953"
             ],
             [
              0.7777777777777778,
              "#fb9f3a"
             ],
             [
              0.8888888888888888,
              "#fdca26"
             ],
             [
              1,
              "#f0f921"
             ]
            ],
            "type": "surface"
           }
          ],
          "table": [
           {
            "cells": {
             "fill": {
              "color": "#EBF0F8"
             },
             "line": {
              "color": "white"
             }
            },
            "header": {
             "fill": {
              "color": "#C8D4E3"
             },
             "line": {
              "color": "white"
             }
            },
            "type": "table"
           }
          ]
         },
         "layout": {
          "annotationdefaults": {
           "arrowcolor": "#2a3f5f",
           "arrowhead": 0,
           "arrowwidth": 1
          },
          "autotypenumbers": "strict",
          "coloraxis": {
           "colorbar": {
            "outlinewidth": 0,
            "ticks": ""
           }
          },
          "colorscale": {
           "diverging": [
            [
             0,
             "#8e0152"
            ],
            [
             0.1,
             "#c51b7d"
            ],
            [
             0.2,
             "#de77ae"
            ],
            [
             0.3,
             "#f1b6da"
            ],
            [
             0.4,
             "#fde0ef"
            ],
            [
             0.5,
             "#f7f7f7"
            ],
            [
             0.6,
             "#e6f5d0"
            ],
            [
             0.7,
             "#b8e186"
            ],
            [
             0.8,
             "#7fbc41"
            ],
            [
             0.9,
             "#4d9221"
            ],
            [
             1,
             "#276419"
            ]
           ],
           "sequential": [
            [
             0,
             "#0d0887"
            ],
            [
             0.1111111111111111,
             "#46039f"
            ],
            [
             0.2222222222222222,
             "#7201a8"
            ],
            [
             0.3333333333333333,
             "#9c179e"
            ],
            [
             0.4444444444444444,
             "#bd3786"
            ],
            [
             0.5555555555555556,
             "#d8576b"
            ],
            [
             0.6666666666666666,
             "#ed7953"
            ],
            [
             0.7777777777777778,
             "#fb9f3a"
            ],
            [
             0.8888888888888888,
             "#fdca26"
            ],
            [
             1,
             "#f0f921"
            ]
           ],
           "sequentialminus": [
            [
             0,
             "#0d0887"
            ],
            [
             0.1111111111111111,
             "#46039f"
            ],
            [
             0.2222222222222222,
             "#7201a8"
            ],
            [
             0.3333333333333333,
             "#9c179e"
            ],
            [
             0.4444444444444444,
             "#bd3786"
            ],
            [
             0.5555555555555556,
             "#d8576b"
            ],
            [
             0.6666666666666666,
             "#ed7953"
            ],
            [
             0.7777777777777778,
             "#fb9f3a"
            ],
            [
             0.8888888888888888,
             "#fdca26"
            ],
            [
             1,
             "#f0f921"
            ]
           ]
          },
          "colorway": [
           "#636efa",
           "#EF553B",
           "#00cc96",
           "#ab63fa",
           "#FFA15A",
           "#19d3f3",
           "#FF6692",
           "#B6E880",
           "#FF97FF",
           "#FECB52"
          ],
          "font": {
           "color": "#2a3f5f"
          },
          "geo": {
           "bgcolor": "white",
           "lakecolor": "white",
           "landcolor": "white",
           "showlakes": true,
           "showland": true,
           "subunitcolor": "#C8D4E3"
          },
          "hoverlabel": {
           "align": "left"
          },
          "hovermode": "closest",
          "mapbox": {
           "style": "light"
          },
          "paper_bgcolor": "white",
          "plot_bgcolor": "white",
          "polar": {
           "angularaxis": {
            "gridcolor": "#EBF0F8",
            "linecolor": "#EBF0F8",
            "ticks": ""
           },
           "bgcolor": "white",
           "radialaxis": {
            "gridcolor": "#EBF0F8",
            "linecolor": "#EBF0F8",
            "ticks": ""
           }
          },
          "scene": {
           "xaxis": {
            "backgroundcolor": "white",
            "gridcolor": "#DFE8F3",
            "gridwidth": 2,
            "linecolor": "#EBF0F8",
            "showbackground": true,
            "ticks": "",
            "zerolinecolor": "#EBF0F8"
           },
           "yaxis": {
            "backgroundcolor": "white",
            "gridcolor": "#DFE8F3",
            "gridwidth": 2,
            "linecolor": "#EBF0F8",
            "showbackground": true,
            "ticks": "",
            "zerolinecolor": "#EBF0F8"
           },
           "zaxis": {
            "backgroundcolor": "white",
            "gridcolor": "#DFE8F3",
            "gridwidth": 2,
            "linecolor": "#EBF0F8",
            "showbackground": true,
            "ticks": "",
            "zerolinecolor": "#EBF0F8"
           }
          },
          "shapedefaults": {
           "line": {
            "color": "#2a3f5f"
           }
          },
          "ternary": {
           "aaxis": {
            "gridcolor": "#DFE8F3",
            "linecolor": "#A2B1C6",
            "ticks": ""
           },
           "baxis": {
            "gridcolor": "#DFE8F3",
            "linecolor": "#A2B1C6",
            "ticks": ""
           },
           "bgcolor": "white",
           "caxis": {
            "gridcolor": "#DFE8F3",
            "linecolor": "#A2B1C6",
            "ticks": ""
           }
          },
          "title": {
           "x": 0.05
          },
          "xaxis": {
           "automargin": true,
           "gridcolor": "#EBF0F8",
           "linecolor": "#EBF0F8",
           "ticks": "",
           "title": {
            "standoff": 15
           },
           "zerolinecolor": "#EBF0F8",
           "zerolinewidth": 2
          },
          "yaxis": {
           "automargin": true,
           "gridcolor": "#EBF0F8",
           "linecolor": "#EBF0F8",
           "ticks": "",
           "title": {
            "standoff": 15
           },
           "zerolinecolor": "#EBF0F8",
           "zerolinewidth": 2
          }
         }
        },
        "title": {
         "text": "Disc Aware Model and Unaware Model Fairness",
         "x": 0.5,
         "xanchor": "center",
         "y": 0.9,
         "yanchor": "top"
        },
        "xaxis": {
         "gridcolor": "LightGrey",
         "linecolor": "black",
         "linewidth": 2,
         "showline": true,
         "title": {
          "text": "Epoch"
         }
        },
        "yaxis": {
         "gridcolor": "LightGrey",
         "linecolor": "black",
         "linewidth": 2,
         "showline": true,
         "title": {
          "text": "Fairness"
         }
        }
       }
      }
     },
     "metadata": {},
     "output_type": "display_data"
    }
   ],
   "source": [
    "plot_metric(\"Disc Aware Model and Unaware Model Fairness\", \"Fairness\", test_fairness, test_fairness1)\n"
   ]
  },
  {
   "cell_type": "code",
   "execution_count": null,
   "metadata": {},
   "outputs": [],
   "source": []
  }
 ],
 "metadata": {
  "kernelspec": {
   "display_name": "base",
   "language": "python",
   "name": "python3"
  },
  "language_info": {
   "codemirror_mode": {
    "name": "ipython",
    "version": 3
   },
   "file_extension": ".py",
   "mimetype": "text/x-python",
   "name": "python",
   "nbconvert_exporter": "python",
   "pygments_lexer": "ipython3",
   "version": "3.11.5"
  }
 },
 "nbformat": 4,
 "nbformat_minor": 2
}
