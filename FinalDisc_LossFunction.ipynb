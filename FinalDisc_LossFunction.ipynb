{
 "cells": [
  {
   "cell_type": "code",
   "execution_count": 22,
   "metadata": {},
   "outputs": [],
   "source": [
    "import pandas as pd\n",
    "from datetime import datetime, timedelta\n",
    "import numpy as np\n",
    "import joblib\n",
    "import re\n",
    "import sys\n",
    "sys.path.insert(0, '../')\n",
    "import numpy as np\n",
    "\n",
    "# Datasets\n",
    "from aif360.datasets import MEPSDataset19\n",
    "# Fairness metrics\n",
    "from aif360.metrics import BinaryLabelDatasetMetric, ClassificationMetric\n",
    "\n",
    "# Explainers\n",
    "from aif360.explainers import MetricTextExplainer\n",
    "\n",
    "# Scalers\n",
    "from sklearn.preprocessing import StandardScaler\n",
    "\n"
   ]
  },
  {
   "cell_type": "code",
   "execution_count": 23,
   "metadata": {},
   "outputs": [],
   "source": [
    "dataset_orig_panel19_train = MEPSDataset19()"
   ]
  },
  {
   "cell_type": "code",
   "execution_count": 3,
   "metadata": {},
   "outputs": [],
   "source": [
    "sens_ind = 0\n",
    "sens_attr = dataset_orig_panel19_train.protected_attribute_names[sens_ind]\n",
    "unprivileged_groups = [{sens_attr: v} for v in\n",
    "                    dataset_orig_panel19_train.unprivileged_protected_attributes[sens_ind]]\n",
    "privileged_groups = [{sens_attr: v} for v in\n",
    "                    dataset_orig_panel19_train.privileged_protected_attributes[sens_ind]]"
   ]
  },
  {
   "cell_type": "code",
   "execution_count": 4,
   "metadata": {},
   "outputs": [
    {
     "data": {
      "text/plain": [
       "'RACE'"
      ]
     },
     "execution_count": 4,
     "metadata": {},
     "output_type": "execute_result"
    }
   ],
   "source": [
    "dataset_orig_panel19_train.feature_names[1]"
   ]
  },
  {
   "cell_type": "code",
   "execution_count": 5,
   "metadata": {},
   "outputs": [
    {
     "name": "stderr",
     "output_type": "stream",
     "text": [
      "c:\\Users\\srinivas\\anaconda3\\Lib\\site-packages\\sklearn\\linear_model\\_logistic.py:469: ConvergenceWarning: lbfgs failed to converge (status=1):\n",
      "STOP: TOTAL NO. of ITERATIONS REACHED LIMIT.\n",
      "\n",
      "Increase the number of iterations (max_iter) or scale the data as shown in:\n",
      "    https://scikit-learn.org/stable/modules/preprocessing.html\n",
      "Please also refer to the documentation for alternative solver options:\n",
      "    https://scikit-learn.org/stable/modules/linear_model.html#logistic-regression\n",
      "  n_iter_i = _check_optimize_result(\n"
     ]
    }
   ],
   "source": [
    "from sklearn.linear_model import LogisticRegression\n",
    "from sklearn.preprocessing import StandardScaler\n",
    "from sklearn.model_selection import train_test_split\n",
    "\n",
    "# Prepare data\n",
    "X = dataset_orig_panel19_train.features\n",
    "y = dataset_orig_panel19_train.labels.ravel()\n",
    "\n",
    "# Split data\n",
    "X_train, X_test, y_train, y_test = train_test_split(X, y, test_size=0.2, random_state=42)\n",
    "\n",
    "# Scale features\n",
    "scaler = StandardScaler()\n",
    "X_train_scaled = X_train\n",
    "X_test_scaled = X_test\n",
    "\n",
    "# Train logistic regression model\n",
    "model = LogisticRegression(random_state=42)\n",
    "model.fit(X_train_scaled, y_train)\n",
    "\n",
    "# Predict probabilities on the same scaled training data\n",
    "train_probabilities = model.predict_proba(X_train_scaled)[:, 1]\n",
    "\n",
    "# Calculation of discrimination index without modifying dataset structure\n",
    "sens_attr_index = dataset_orig_panel19_train.feature_names.index('RACE')\n",
    "\n",
    "\n",
    "\n",
    "# Define unprivileged and privileged values\n",
    "unprivileged_val = 0.0\n",
    "privileged_val = 1.0\n",
    "\n"
   ]
  },
  {
   "cell_type": "markdown",
   "metadata": {},
   "source": [
    "## Discrimination Loss Fn"
   ]
  },
  {
   "cell_type": "code",
   "execution_count": 6,
   "metadata": {},
   "outputs": [
    {
     "name": "stdout",
     "output_type": "stream",
     "text": [
      "Epoch 1, Train Loss: 1.9220411777496338, Train Acc: 18.66%, Train Discrimination: 0.02425457537174225 Test Loss: 1.1295995712280273, Test Acc: 60.01%,Test Discrimination: 0.06222127005457878\n",
      "Epoch 2, Train Loss: 0.9532933831214905, Train Acc: 60.45%, Train Discrimination: 0.03780997917056084 Test Loss: 1.1869919300079346, Test Acc: 81.08%,Test Discrimination: 0.04194371774792671\n",
      "Epoch 3, Train Loss: 1.027151346206665, Train Acc: 81.63%, Train Discrimination: 0.02452375739812851 Test Loss: 1.0255143642425537, Test Acc: 82.66%,Test Discrimination: 0.022671611979603767\n",
      "Epoch 4, Train Loss: 0.9296919703483582, Train Acc: 82.87%, Train Discrimination: 0.013031406328082085 Test Loss: 0.8804137110710144, Test Acc: 82.66%,Test Discrimination: 0.012577864341437817\n",
      "Epoch 5, Train Loss: 0.8239301443099976, Train Acc: 82.87%, Train Discrimination: 0.007192534394562244 Test Loss: 0.7522690296173096, Test Acc: 82.66%,Test Discrimination: 0.00728579331189394\n",
      "Epoch 6, Train Loss: 0.7177369594573975, Train Acc: 82.87%, Train Discrimination: 0.004120622295886278 Test Loss: 0.6286540627479553, Test Acc: 82.66%,Test Discrimination: 0.003749676514416933\n",
      "Epoch 7, Train Loss: 0.6080129146575928, Train Acc: 82.87%, Train Discrimination: 0.002007436705753207 Test Loss: 0.5155042409896851, Test Acc: 82.66%,Test Discrimination: 0.0009442433947697282\n",
      "Epoch 8, Train Loss: 0.5046241879463196, Train Acc: 82.87%, Train Discrimination: 0.00035024352837353945 Test Loss: 0.4353379011154175, Test Acc: 82.66%,Test Discrimination: 0.0002681667101569474\n",
      "Epoch 9, Train Loss: 0.4308387041091919, Train Acc: 82.87%, Train Discrimination: 0.0005291674169711769 Test Loss: 0.42565491795539856, Test Acc: 82.66%,Test Discrimination: 0.0072668492794036865\n",
      "Epoch 10, Train Loss: 0.42124268412590027, Train Acc: 82.90%, Train Discrimination: 0.0069467234425246716 Test Loss: 0.49044594168663025, Test Acc: 84.33%,Test Discrimination: 0.02222469262778759\n",
      "Epoch 11, Train Loss: 0.4763103127479553, Train Acc: 84.40%, Train Discrimination: 0.018984926864504814 Test Loss: 0.5243222713470459, Test Acc: 84.65%,Test Discrimination: 0.028826801106333733\n",
      "Epoch 12, Train Loss: 0.5033271908760071, Train Acc: 85.23%, Train Discrimination: 0.023800881579518318 Test Loss: 0.49137425422668457, Test Acc: 84.37%,Test Discrimination: 0.023395247757434845\n",
      "Epoch 13, Train Loss: 0.47432300448417664, Train Acc: 84.38%, Train Discrimination: 0.019445408135652542 Test Loss: 0.4438058137893677, Test Acc: 83.10%,Test Discrimination: 0.013808319345116615\n",
      "Epoch 14, Train Loss: 0.43329232931137085, Train Acc: 83.07%, Train Discrimination: 0.011801891960203648 Test Loss: 0.4197138547897339, Test Acc: 82.66%,Test Discrimination: 0.006654472555965185\n",
      "Epoch 15, Train Loss: 0.4127715528011322, Train Acc: 82.87%, Train Discrimination: 0.005921609234064817 Test Loss: 0.41862809658050537, Test Acc: 82.66%,Test Discrimination: 0.0029481546953320503\n",
      "Epoch 16, Train Loss: 0.4126723110675812, Train Acc: 82.87%, Train Discrimination: 0.0027650988195091486 Test Loss: 0.4277338981628418, Test Acc: 82.66%,Test Discrimination: 0.0013329362263903022\n",
      "Epoch 17, Train Loss: 0.4216437339782715, Train Acc: 82.87%, Train Discrimination: 0.0013360880548134446 Test Loss: 0.4372546672821045, Test Acc: 82.66%,Test Discrimination: 0.0006780872354283929\n",
      "Epoch 18, Train Loss: 0.43078678846359253, Train Acc: 82.87%, Train Discrimination: 0.0007300474098883569 Test Loss: 0.44240063428878784, Test Acc: 82.66%,Test Discrimination: 0.00043538660975173116\n",
      "Epoch 19, Train Loss: 0.43567538261413574, Train Acc: 82.87%, Train Discrimination: 0.0004943906096741557 Test Loss: 0.441720187664032, Test Acc: 82.66%,Test Discrimination: 0.00038988047163002193\n",
      "Epoch 20, Train Loss: 0.43498218059539795, Train Acc: 82.87%, Train Discrimination: 0.0004366766079328954 Test Loss: 0.4359273314476013, Test Acc: 82.66%,Test Discrimination: 0.0004757778951898217\n",
      "Epoch 21, Train Loss: 0.42935705184936523, Train Acc: 82.87%, Train Discrimination: 0.0004956056945957243 Test Loss: 0.4269927740097046, Test Acc: 82.66%,Test Discrimination: 0.0007221559062600136\n",
      "Epoch 22, Train Loss: 0.42061564326286316, Train Acc: 82.87%, Train Discrimination: 0.000688611704390496 Test Loss: 0.4174390137195587, Test Acc: 82.66%,Test Discrimination: 0.0012505467748269439\n",
      "Epoch 23, Train Loss: 0.41115349531173706, Train Acc: 82.87%, Train Discrimination: 0.0011004667030647397 Test Loss: 0.41009214520454407, Test Acc: 82.69%,Test Discrimination: 0.0022933639120310545\n",
      "Epoch 24, Train Loss: 0.40365076065063477, Train Acc: 82.86%, Train Discrimination: 0.0019081842619925737 Test Loss: 0.40774962306022644, Test Acc: 82.69%,Test Discrimination: 0.004120144061744213\n",
      "Epoch 25, Train Loss: 0.40074867010116577, Train Acc: 82.93%, Train Discrimination: 0.0033388985320925713 Test Loss: 0.4080439507961273, Test Acc: 83.01%,Test Discrimination: 0.005924466531723738\n",
      "Epoch 26, Train Loss: 0.4009959399700165, Train Acc: 83.18%, Train Discrimination: 0.004868582356721163 Test Loss: 0.4051637649536133, Test Acc: 83.26%,Test Discrimination: 0.00590641051530838\n",
      "Epoch 27, Train Loss: 0.39872753620147705, Train Acc: 83.58%, Train Discrimination: 0.0050651864148676395 Test Loss: 0.40040361881256104, Test Acc: 83.13%,Test Discrimination: 0.0043838839046657085\n",
      "Epoch 28, Train Loss: 0.39480310678482056, Train Acc: 83.48%, Train Discrimination: 0.003951899707317352 Test Loss: 0.3991820514202118, Test Acc: 83.16%,Test Discrimination: 0.0027434476651251316\n",
      "Epoch 29, Train Loss: 0.39390242099761963, Train Acc: 83.28%, Train Discrimination: 0.0026021921075880527 Test Loss: 0.39907604455947876, Test Acc: 83.20%,Test Discrimination: 0.0021920357830822468\n",
      "Epoch 30, Train Loss: 0.39387303590774536, Train Acc: 83.28%, Train Discrimination: 0.002171100815758109 Test Loss: 0.3959740698337555, Test Acc: 83.23%,Test Discrimination: 0.002673815004527569\n",
      "Epoch 31, Train Loss: 0.39097172021865845, Train Acc: 83.51%, Train Discrimination: 0.0026559894904494286 Test Loss: 0.39338138699531555, Test Acc: 83.64%,Test Discrimination: 0.0038226526230573654\n",
      "Epoch 32, Train Loss: 0.38858547806739807, Train Acc: 83.97%, Train Discrimination: 0.0037292146589607 Test Loss: 0.3930463492870331, Test Acc: 83.89%,Test Discrimination: 0.004937674850225449\n",
      "Epoch 33, Train Loss: 0.3883673846721649, Train Acc: 84.31%, Train Discrimination: 0.004756667651236057 Test Loss: 0.39194968342781067, Test Acc: 84.11%,Test Discrimination: 0.004998401738703251\n",
      "Epoch 34, Train Loss: 0.3874589502811432, Train Acc: 84.48%, Train Discrimination: 0.004853489343076944 Test Loss: 0.3893551230430603, Test Acc: 84.02%,Test Discrimination: 0.003983885515481234\n",
      "Epoch 35, Train Loss: 0.38508522510528564, Train Acc: 84.40%, Train Discrimination: 0.00399389723315835 Test Loss: 0.3878343403339386, Test Acc: 83.95%,Test Discrimination: 0.002705368911847472\n",
      "Epoch 36, Train Loss: 0.38358160853385925, Train Acc: 84.28%, Train Discrimination: 0.002857884159311652 Test Loss: 0.38764113187789917, Test Acc: 83.83%,Test Discrimination: 0.0018702163361012936\n",
      "Epoch 37, Train Loss: 0.3832690119743347, Train Acc: 84.20%, Train Discrimination: 0.0020791154820472 Test Loss: 0.3863092064857483, Test Acc: 83.92%,Test Discrimination: 0.0016629493329674006\n",
      "Epoch 38, Train Loss: 0.3819642961025238, Train Acc: 84.26%, Train Discrimination: 0.0018570467364042997 Test Loss: 0.3839152157306671, Test Acc: 84.21%,Test Discrimination: 0.0019450578838586807\n",
      "Epoch 39, Train Loss: 0.37986665964126587, Train Acc: 84.58%, Train Discrimination: 0.002076155738905072 Test Loss: 0.38274267315864563, Test Acc: 84.62%,Test Discrimination: 0.0024302105884999037\n",
      "Epoch 40, Train Loss: 0.3790285885334015, Train Acc: 84.90%, Train Discrimination: 0.0024598671589046717 Test Loss: 0.3821708559989929, Test Acc: 84.46%,Test Discrimination: 0.0025076663587242365\n",
      "Epoch 41, Train Loss: 0.37860599160194397, Train Acc: 85.00%, Train Discrimination: 0.0024658958427608013 Test Loss: 0.3806340992450714, Test Acc: 84.40%,Test Discrimination: 0.0019209057791158557\n",
      "Epoch 42, Train Loss: 0.37700244784355164, Train Acc: 84.96%, Train Discrimination: 0.0018965062918141484 Test Loss: 0.37982484698295593, Test Acc: 84.62%,Test Discrimination: 0.0012208176776766777\n",
      "Epoch 43, Train Loss: 0.37590160965919495, Train Acc: 84.86%, Train Discrimination: 0.0012352499179542065 Test Loss: 0.3797510862350464, Test Acc: 84.49%,Test Discrimination: 0.0008961206767708063\n",
      "Epoch 44, Train Loss: 0.375559002161026, Train Acc: 84.84%, Train Discrimination: 0.0009117869194597006 Test Loss: 0.37848278880119324, Test Acc: 84.62%,Test Discrimination: 0.0010164384730160236\n",
      "Epoch 45, Train Loss: 0.37430545687675476, Train Acc: 84.97%, Train Discrimination: 0.0009888623608276248 Test Loss: 0.3770044445991516, Test Acc: 84.52%,Test Discrimination: 0.0015135231660678983\n",
      "Epoch 46, Train Loss: 0.3729992210865021, Train Acc: 84.94%, Train Discrimination: 0.0013902009231969714 Test Loss: 0.3766021132469177, Test Acc: 84.93%,Test Discrimination: 0.0020372201688587666\n",
      "Epoch 47, Train Loss: 0.3726195991039276, Train Acc: 85.04%, Train Discrimination: 0.0018021081341430545 Test Loss: 0.3758663237094879, Test Acc: 84.87%,Test Discrimination: 0.00204281322658062\n",
      "Epoch 48, Train Loss: 0.3716760277748108, Train Acc: 85.05%, Train Discrimination: 0.0017807399854063988 Test Loss: 0.3752859830856323, Test Acc: 84.62%,Test Discrimination: 0.0016658753156661987\n",
      "Epoch 49, Train Loss: 0.3707519769668579, Train Acc: 84.97%, Train Discrimination: 0.0014447375433519483 Test Loss: 0.3754114508628845, Test Acc: 84.55%,Test Discrimination: 0.0014238046715036035\n",
      "Epoch 50, Train Loss: 0.3705594539642334, Train Acc: 84.98%, Train Discrimination: 0.0012160510523244739 Test Loss: 0.374767005443573, Test Acc: 84.65%,Test Discrimination: 0.0015373231144621968\n",
      "Epoch 51, Train Loss: 0.36985164880752563, Train Acc: 84.97%, Train Discrimination: 0.0012768555898219347 Test Loss: 0.37392041087150574, Test Acc: 84.74%,Test Discrimination: 0.0019178214715793729\n",
      "Epoch 52, Train Loss: 0.3691011071205139, Train Acc: 85.04%, Train Discrimination: 0.0015383026329800487 Test Loss: 0.3736484944820404, Test Acc: 84.84%,Test Discrimination: 0.0021607978269457817\n",
      "Epoch 53, Train Loss: 0.3688454329967499, Train Acc: 84.93%, Train Discrimination: 0.0016691386699676514 Test Loss: 0.3729635775089264, Test Acc: 84.81%,Test Discrimination: 0.0018935073167085648\n",
      "Epoch 54, Train Loss: 0.36810818314552307, Train Acc: 84.96%, Train Discrimination: 0.0014087771996855736 Test Loss: 0.37249958515167236, Test Acc: 84.68%,Test Discrimination: 0.001415275619365275\n",
      "Epoch 55, Train Loss: 0.3675340712070465, Train Acc: 84.93%, Train Discrimination: 0.0010041269706562161 Test Loss: 0.37225261330604553, Test Acc: 84.62%,Test Discrimination: 0.0011684552300721407\n",
      "Epoch 56, Train Loss: 0.3672483563423157, Train Acc: 84.90%, Train Discrimination: 0.0007907534600235522 Test Loss: 0.37147197127342224, Test Acc: 84.71%,Test Discrimination: 0.0012459751451388001\n",
      "Epoch 57, Train Loss: 0.36654001474380493, Train Acc: 84.93%, Train Discrimination: 0.0008216210408136249 Test Loss: 0.3710005581378937, Test Acc: 84.81%,Test Discrimination: 0.0014737504534423351\n",
      "Epoch 58, Train Loss: 0.366127073764801, Train Acc: 84.96%, Train Discrimination: 0.000961794052273035 Test Loss: 0.37064647674560547, Test Acc: 84.84%,Test Discrimination: 0.001489792368374765\n",
      "Epoch 59, Train Loss: 0.3656960427761078, Train Acc: 84.99%, Train Discrimination: 0.0009588647517375648 Test Loss: 0.37016695737838745, Test Acc: 84.71%,Test Discrimination: 0.0012394600780680776\n",
      "Epoch 60, Train Loss: 0.3650571405887604, Train Acc: 84.94%, Train Discrimination: 0.00078259885776788 Test Loss: 0.3700036108493805, Test Acc: 84.71%,Test Discrimination: 0.0010629782918840647\n",
      "Epoch 61, Train Loss: 0.3647250235080719, Train Acc: 84.97%, Train Discrimination: 0.0006738287047483027 Test Loss: 0.36950331926345825, Test Acc: 84.71%,Test Discrimination: 0.0011504750000312924\n",
      "Epoch 62, Train Loss: 0.36416107416152954, Train Acc: 85.00%, Train Discrimination: 0.0007520485669374466 Test Loss: 0.36897018551826477, Test Acc: 84.74%,Test Discrimination: 0.0014016691129654646\n",
      "Epoch 63, Train Loss: 0.36367732286453247, Train Acc: 85.05%, Train Discrimination: 0.0009554621647112072 Test Loss: 0.36863788962364197, Test Acc: 84.81%,Test Discrimination: 0.0015050985384732485\n",
      "Epoch 64, Train Loss: 0.36330947279930115, Train Acc: 85.07%, Train Discrimination: 0.0010485309176146984 Test Loss: 0.3682514429092407, Test Acc: 84.71%,Test Discrimination: 0.0013257890241220593\n",
      "Epoch 65, Train Loss: 0.3627627491950989, Train Acc: 85.09%, Train Discrimination: 0.0009286311687901616 Test Loss: 0.3681076467037201, Test Acc: 84.65%,Test Discrimination: 0.0011417488567531109\n",
      "Epoch 66, Train Loss: 0.3624142110347748, Train Acc: 85.06%, Train Discrimination: 0.0007984655676409602 Test Loss: 0.3677520155906677, Test Acc: 84.71%,Test Discrimination: 0.0011780847562476993\n",
      "Epoch 67, Train Loss: 0.36194342374801636, Train Acc: 85.08%, Train Discrimination: 0.0008281524642370641 Test Loss: 0.36739757657051086, Test Acc: 84.78%,Test Discrimination: 0.0013616196811199188\n",
      "Epoch 68, Train Loss: 0.3615111708641052, Train Acc: 85.18%, Train Discrimination: 0.0009667222038842738 Test Loss: 0.36722734570503235, Test Acc: 84.74%,Test Discrimination: 0.0013997574569657445\n",
      "Epoch 69, Train Loss: 0.36111459136009216, Train Acc: 85.20%, Train Discrimination: 0.0009868007618933916 Test Loss: 0.36709627509117126, Test Acc: 84.62%,Test Discrimination: 0.001203156542032957\n",
      "Epoch 70, Train Loss: 0.36064276099205017, Train Acc: 85.15%, Train Discrimination: 0.0008378901984542608 Test Loss: 0.36713677644729614, Test Acc: 84.40%,Test Discrimination: 0.0010627723531797528\n",
      "Epoch 71, Train Loss: 0.3603036105632782, Train Acc: 85.15%, Train Discrimination: 0.0007289223140105605 Test Loss: 0.36695927381515503, Test Acc: 84.49%,Test Discrimination: 0.0011747940443456173\n",
      "Epoch 72, Train Loss: 0.35985928773880005, Train Acc: 85.17%, Train Discrimination: 0.0008016483625397086 Test Loss: 0.3668789863586426, Test Acc: 84.52%,Test Discrimination: 0.001363842748105526\n",
      "Epoch 73, Train Loss: 0.35951802134513855, Train Acc: 85.15%, Train Discrimination: 0.0009267883142456412 Test Loss: 0.36684650182724, Test Acc: 84.37%,Test Discrimination: 0.0013471117708832026\n",
      "Epoch 74, Train Loss: 0.359121710062027, Train Acc: 85.15%, Train Discrimination: 0.0009030628716573119 Test Loss: 0.36686843633651733, Test Acc: 84.43%,Test Discrimination: 0.0012221320066601038\n",
      "Epoch 75, Train Loss: 0.3587588667869568, Train Acc: 85.15%, Train Discrimination: 0.0008058538660407066 Test Loss: 0.3668381869792938, Test Acc: 84.49%,Test Discrimination: 0.0012847310863435268\n",
      "Epoch 76, Train Loss: 0.35841789841651917, Train Acc: 85.16%, Train Discrimination: 0.0008456693612970412 Test Loss: 0.3668018579483032, Test Acc: 84.55%,Test Discrimination: 0.0014820108190178871\n",
      "Epoch 77, Train Loss: 0.3580821752548218, Train Acc: 85.23%, Train Discrimination: 0.0009783667046576738 Test Loss: 0.36684083938598633, Test Acc: 84.62%,Test Discrimination: 0.0015501609304919839\n",
      "Epoch 78, Train Loss: 0.3577630817890167, Train Acc: 85.29%, Train Discrimination: 0.0010182390687987208 Test Loss: 0.36689507961273193, Test Acc: 84.55%,Test Discrimination: 0.0014098669635131955\n",
      "Epoch 79, Train Loss: 0.35742151737213135, Train Acc: 85.23%, Train Discrimination: 0.0009106319630518556 Test Loss: 0.36698710918426514, Test Acc: 84.49%,Test Discrimination: 0.0013699892442673445\n",
      "Epoch 80, Train Loss: 0.35713449120521545, Train Acc: 85.21%, Train Discrimination: 0.0008709903922863305 Test Loss: 0.3669689893722534, Test Acc: 84.52%,Test Discrimination: 0.0015324162086471915\n",
      "Epoch 81, Train Loss: 0.35681843757629395, Train Acc: 85.27%, Train Discrimination: 0.000979481264948845 Test Loss: 0.3669620454311371, Test Acc: 84.55%,Test Discrimination: 0.0015918923309072852\n",
      "Epoch 82, Train Loss: 0.3565230369567871, Train Acc: 85.30%, Train Discrimination: 0.0010198786621913314 Test Loss: 0.36694544553756714, Test Acc: 84.40%,Test Discrimination: 0.0014658088330179453\n",
      "Epoch 83, Train Loss: 0.3562103509902954, Train Acc: 85.29%, Train Discrimination: 0.0009330706670880318 Test Loss: 0.3669053018093109, Test Acc: 84.46%,Test Discrimination: 0.0014861061936244369\n",
      "Epoch 84, Train Loss: 0.35590946674346924, Train Acc: 85.32%, Train Discrimination: 0.0009513736004009843 Test Loss: 0.36683139204978943, Test Acc: 84.55%,Test Discrimination: 0.0016722860746085644\n",
      "Epoch 85, Train Loss: 0.35563525557518005, Train Acc: 85.29%, Train Discrimination: 0.0010871202684938908 Test Loss: 0.36679425835609436, Test Acc: 84.59%,Test Discrimination: 0.0016126480186358094\n",
      "Epoch 86, Train Loss: 0.3553345799446106, Train Acc: 85.32%, Train Discrimination: 0.0010465574450790882 Test Loss: 0.36684417724609375, Test Acc: 84.52%,Test Discrimination: 0.0014520507538691163\n",
      "Epoch 87, Train Loss: 0.3550686240196228, Train Acc: 85.34%, Train Discrimination: 0.0009305275743827224 Test Loss: 0.36680710315704346, Test Acc: 84.52%,Test Discrimination: 0.0015556946163997054\n",
      "Epoch 88, Train Loss: 0.354783296585083, Train Acc: 85.34%, Train Discrimination: 0.001000373624265194 Test Loss: 0.3668144643306732, Test Acc: 84.49%,Test Discrimination: 0.0016428950475528836\n",
      "Epoch 89, Train Loss: 0.3545318841934204, Train Acc: 85.34%, Train Discrimination: 0.00105529825668782 Test Loss: 0.36681732535362244, Test Acc: 84.59%,Test Discrimination: 0.0015300486702471972\n",
      "Epoch 90, Train Loss: 0.354255348443985, Train Acc: 85.36%, Train Discrimination: 0.0009691646555438638 Test Loss: 0.36683404445648193, Test Acc: 84.55%,Test Discrimination: 0.0015556798316538334\n",
      "Epoch 91, Train Loss: 0.35400310158729553, Train Acc: 85.34%, Train Discrimination: 0.0009782074484974146 Test Loss: 0.36687856912612915, Test Acc: 84.62%,Test Discrimination: 0.0017109811305999756\n",
      "Epoch 92, Train Loss: 0.3537554144859314, Train Acc: 85.37%, Train Discrimination: 0.0010742167942225933 Test Loss: 0.3669545352458954, Test Acc: 84.65%,Test Discrimination: 0.0016453444259241223\n",
      "Epoch 93, Train Loss: 0.3535003960132599, Train Acc: 85.34%, Train Discrimination: 0.0010157956276088953 Test Loss: 0.367095410823822, Test Acc: 84.49%,Test Discrimination: 0.001595956040546298\n",
      "Epoch 94, Train Loss: 0.3532753586769104, Train Acc: 85.36%, Train Discrimination: 0.0009664878598414361 Test Loss: 0.3671795725822449, Test Acc: 84.49%,Test Discrimination: 0.0017683535115793347\n",
      "Epoch 95, Train Loss: 0.3530419170856476, Train Acc: 85.39%, Train Discrimination: 0.0010722161969169974 Test Loss: 0.36719924211502075, Test Acc: 84.46%,Test Discrimination: 0.001770783681422472\n",
      "Epoch 96, Train Loss: 0.35281041264533997, Train Acc: 85.39%, Train Discrimination: 0.0010663977591320872 Test Loss: 0.3672487437725067, Test Acc: 84.46%,Test Discrimination: 0.0017062518745660782\n",
      "Epoch 97, Train Loss: 0.35260602831840515, Train Acc: 85.38%, Train Discrimination: 0.0010133490432053804 Test Loss: 0.36733195185661316, Test Acc: 84.49%,Test Discrimination: 0.0018760735401883721\n",
      "Epoch 98, Train Loss: 0.35238954424858093, Train Acc: 85.44%, Train Discrimination: 0.001114032813347876 Test Loss: 0.36740294098854065, Test Acc: 84.52%,Test Discrimination: 0.0018200520426034927\n",
      "Epoch 99, Train Loss: 0.35217374563217163, Train Acc: 85.44%, Train Discrimination: 0.0010634115897119045 Test Loss: 0.36748945713043213, Test Acc: 84.49%,Test Discrimination: 0.0016976789338514209\n",
      "Epoch 100, Train Loss: 0.3519804775714874, Train Acc: 85.43%, Train Discrimination: 0.0009717482607811689 Test Loss: 0.3675786256790161, Test Acc: 84.49%,Test Discrimination: 0.0018679508939385414\n"
     ]
    }
   ],
   "source": [
    "import torch\n",
    "import torch.nn as nn\n",
    "import torch.optim as optim\n",
    "\n",
    "# Define the model\n",
    "class BinaryClassifier(nn.Module):\n",
    "    def __init__(self, input_size):\n",
    "        super(BinaryClassifier, self).__init__()\n",
    "        self.fc1 = nn.Linear(input_size, 64)\n",
    "        self.fc2 = nn.Linear(64, 1)\n",
    "\n",
    "    def forward(self, x):\n",
    "        x = torch.relu(self.fc1(x))\n",
    "        x = torch.sigmoid(self.fc2(x))\n",
    "        return x.squeeze()\n",
    "\n",
    "# Custom loss function\n",
    "def discrimination_loss(output, target, sensitive_features, lambda_val=10, k=2):\n",
    "    criterion = nn.BCELoss()\n",
    "    standard_loss = criterion(output, target)\n",
    "    mask_unpriv = (sensitive_features == 0)\n",
    "    mask_priv = (sensitive_features == 1)\n",
    "    prob_unpriv = torch.mean(output[mask_unpriv])\n",
    "    prob_priv = torch.mean(output[mask_priv])\n",
    "\n",
    "    discrimination = lambda_val * (prob_priv - prob_unpriv) ** k\n",
    "\n",
    "    loss_val=(1 + lambda_val * discrimination) * standard_loss\n",
    "    return loss_val,discrimination.item() \n",
    "\n",
    "def calculate_accuracy(predictions, targets):\n",
    "    predicted_classes = (predictions >= 0.5).float()\n",
    "    return (predicted_classes == targets).float().mean()\n",
    "\n",
    "\n",
    "data = torch.tensor(X_train_scaled).float()\n",
    "targets = torch.tensor(y_train).float().unsqueeze(1)\n",
    "\n",
    "# Correctly preparing the sensitive features\n",
    "threshold = 0.5  # Adjust the threshold according to your specific case\n",
    "sensitive_features = torch.tensor((data[:, 1].numpy() > threshold).astype(float)).float()\n",
    "features = torch.cat((data[:, :1], data[:, 2:]), dim=1)\n",
    "\n",
    "# Assuming similar preparation for test data\n",
    "test_data = torch.tensor(X_test_scaled).float()\n",
    "test_targets = torch.tensor(y_test).float().unsqueeze(1)\n",
    "test_sensitive_features = torch.tensor((test_data[:, 1].numpy() > threshold).astype(float)).float()\n",
    "test_features = torch.cat((test_data[:, :1], test_data[:, 2:]), dim=1)\n",
    "\n",
    "model2 = BinaryClassifier(features.shape[1])\n",
    "optimizer = optim.Adam(model2.parameters(), lr=0.01)\n",
    "train_losses, train_accuracies, train_discriminations,train_fairness = [], [], [],[]\n",
    "test_losses, test_accuracies, test_discriminations,test_fairness = [], [], [],[]\n",
    "\n",
    "# Training loop\n",
    "model2.train()\n",
    "for epoch in range(100):\n",
    "    optimizer.zero_grad()\n",
    "    outputs = model2(features)\n",
    "    loss, discrimination = discrimination_loss(outputs, targets.squeeze(), sensitive_features)\n",
    "    train_accuracy = calculate_accuracy(outputs, targets.squeeze())\n",
    "    loss.backward()\n",
    "    optimizer.step()\n",
    "    \n",
    "    # Evaluation on test data\n",
    "    model2.eval()\n",
    "    with torch.no_grad():\n",
    "        test_outputs = model2(test_features)\n",
    "        test_loss,test_discrimination = discrimination_loss(test_outputs, test_targets.squeeze(), test_sensitive_features)\n",
    "        test_accuracy = calculate_accuracy(test_outputs, test_targets.squeeze())\n",
    "    \n",
    "    print(f'Epoch {epoch+1}, Train Loss: {loss.item()}, Train Acc: {train_accuracy.item()*100:.2f}%, Train Discrimination: {discrimination} '\n",
    "          f'Test Loss: {test_loss.item()}, Test Acc: {test_accuracy.item()*100:.2f}%,Test Discrimination: {test_discrimination}')\n",
    "    train_losses.append(loss.item())\n",
    "    train_accuracies.append(train_accuracy.item() * 100)\n",
    "    train_discriminations.append(discrimination)\n",
    "    fairness=1-discrimination\n",
    "    train_fairness.append(fairness)\n",
    "    test_fairness.append(fairness)\n",
    "    test_losses.append(test_loss.item())\n",
    "    test_accuracies.append(test_accuracy.item() * 100)\n",
    "    test_discriminations.append(test_discrimination)\n",
    "    model2.train()\n"
   ]
  },
  {
   "cell_type": "markdown",
   "metadata": {},
   "source": [
    "#### MODEL ACCROSS DIFFERENT VALUES OF LAMBDA"
   ]
  },
  {
   "cell_type": "markdown",
   "metadata": {},
   "source": [
    "#### LAMBDA < 1"
   ]
  },
  {
   "cell_type": "code",
   "execution_count": 7,
   "metadata": {},
   "outputs": [
    {
     "name": "stdout",
     "output_type": "stream",
     "text": [
      "Epoch 1, Train Loss: 1.0041264295578003, Train Acc: 17.56%, Train Discrimination: 1.978987165784929e-05 Test Loss: 0.6168790459632874, Test Acc: 82.69%,Test Discrimination: 1.787938890629448e-05\n",
      "Epoch 2, Train Loss: 0.6103816032409668, Train Acc: 82.77%, Train Discrimination: 1.0953659511869773e-05 Test Loss: 0.6829957365989685, Test Acc: 82.66%,Test Discrimination: 6.36765935269068e-06\n",
      "Epoch 3, Train Loss: 0.6712662577629089, Train Acc: 82.87%, Train Discrimination: 3.88531543649151e-06 Test Loss: 0.6398752927780151, Test Acc: 82.66%,Test Discrimination: 9.294354867961374e-07\n",
      "Epoch 4, Train Loss: 0.6270580291748047, Train Acc: 82.87%, Train Discrimination: 4.72430514264488e-07 Test Loss: 0.5545927882194519, Test Acc: 82.66%,Test Discrimination: 5.3819807277477594e-08\n",
      "Epoch 5, Train Loss: 0.5427716970443726, Train Acc: 82.87%, Train Discrimination: 1.1849394354612741e-07 Test Loss: 0.4637513756752014, Test Acc: 82.66%,Test Discrimination: 2.6729439923656173e-06\n",
      "Epoch 6, Train Loss: 0.454222172498703, Train Acc: 82.87%, Train Discrimination: 2.7024959763366496e-06 Test Loss: 0.4010516107082367, Test Acc: 83.07%,Test Discrimination: 1.5346511645475402e-05\n",
      "Epoch 7, Train Loss: 0.3949217200279236, Train Acc: 83.43%, Train Discrimination: 1.4061891306482721e-05 Test Loss: 0.40542009472846985, Test Acc: 84.33%,Test Discrimination: 4.970882582711056e-05\n",
      "Epoch 8, Train Loss: 0.4028376042842865, Train Acc: 85.14%, Train Discrimination: 4.3221283704042435e-05 Test Loss: 0.4320811629295349, Test Acc: 84.05%,Test Discrimination: 7.733586244285107e-05\n",
      "Epoch 9, Train Loss: 0.43198105692863464, Train Acc: 83.32%, Train Discrimination: 6.598413892788813e-05 Test Loss: 0.43332958221435547, Test Acc: 83.26%,Test Discrimination: 8.596639236202464e-05\n",
      "Epoch 10, Train Loss: 0.4343793988227844, Train Acc: 82.09%, Train Discrimination: 7.376635039690882e-05 Test Loss: 0.4135563373565674, Test Acc: 84.24%,Test Discrimination: 7.909275154815987e-05\n",
      "Epoch 11, Train Loss: 0.4144391119480133, Train Acc: 83.40%, Train Discrimination: 6.937893340364099e-05 Test Loss: 0.3891887962818146, Test Acc: 85.12%,Test Discrimination: 6.396928802132607e-05\n",
      "Epoch 12, Train Loss: 0.3892748951911926, Train Acc: 84.91%, Train Discrimination: 5.7476463553030044e-05 Test Loss: 0.37223100662231445, Test Acc: 84.78%,Test Discrimination: 4.674359297496267e-05\n",
      "Epoch 13, Train Loss: 0.37109559774398804, Train Acc: 85.35%, Train Discrimination: 4.317207640269771e-05 Test Loss: 0.36654460430145264, Test Acc: 84.21%,Test Discrimination: 3.1768835469847545e-05\n",
      "Epoch 14, Train Loss: 0.3638779819011688, Train Acc: 84.97%, Train Discrimination: 3.0348253858392127e-05 Test Loss: 0.36971181631088257, Test Acc: 84.05%,Test Discrimination: 2.1524203475564718e-05\n",
      "Epoch 15, Train Loss: 0.3656633198261261, Train Acc: 84.62%, Train Discrimination: 2.118627708114218e-05 Test Loss: 0.37655311822891235, Test Acc: 83.83%,Test Discrimination: 1.5578492821077816e-05\n",
      "Epoch 16, Train Loss: 0.3714236319065094, Train Acc: 84.28%, Train Discrimination: 1.5744442862342112e-05 Test Loss: 0.3822122812271118, Test Acc: 83.64%,Test Discrimination: 1.2770575267495587e-05\n",
      "Epoch 17, Train Loss: 0.37638020515441895, Train Acc: 84.08%, Train Discrimination: 1.3149156984582078e-05 Test Loss: 0.38388150930404663, Test Acc: 83.64%,Test Discrimination: 1.2170872651040554e-05\n",
      "Epoch 18, Train Loss: 0.3777437210083008, Train Acc: 84.10%, Train Discrimination: 1.2629295270016883e-05 Test Loss: 0.3809945285320282, Test Acc: 83.73%,Test Discrimination: 1.3360185221245047e-05\n",
      "Epoch 19, Train Loss: 0.37494951486587524, Train Acc: 84.15%, Train Discrimination: 1.3822525033901911e-05 Test Loss: 0.3747243881225586, Test Acc: 83.99%,Test Discrimination: 1.6306172256008722e-05\n",
      "Epoch 20, Train Loss: 0.36911195516586304, Train Acc: 84.51%, Train Discrimination: 1.66981881193351e-05 Test Loss: 0.36723119020462036, Test Acc: 84.21%,Test Discrimination: 2.1139849195606075e-05\n",
      "Epoch 21, Train Loss: 0.3623186945915222, Train Acc: 84.78%, Train Discrimination: 2.1341962565202266e-05 Test Loss: 0.36073383688926697, Test Acc: 84.24%,Test Discrimination: 2.791740553220734e-05\n",
      "Epoch 22, Train Loss: 0.3567148745059967, Train Acc: 85.16%, Train Discrimination: 2.7746673367801122e-05 Test Loss: 0.35677123069763184, Test Acc: 84.55%,Test Discrimination: 3.622280928539112e-05\n",
      "Epoch 23, Train Loss: 0.3537471890449524, Train Acc: 85.46%, Train Discrimination: 3.555186776793562e-05 Test Loss: 0.35569801926612854, Test Acc: 84.65%,Test Discrimination: 4.525013719103299e-05\n",
      "Epoch 24, Train Loss: 0.3535916209220886, Train Acc: 85.55%, Train Discrimination: 4.388748129713349e-05 Test Loss: 0.3565945029258728, Test Acc: 85.09%,Test Discrimination: 5.3655596275348216e-05\n",
      "Epoch 25, Train Loss: 0.35528889298439026, Train Acc: 85.53%, Train Discrimination: 5.156991392141208e-05 Test Loss: 0.35787227749824524, Test Acc: 85.22%,Test Discrimination: 6.005517934681848e-05\n",
      "Epoch 26, Train Loss: 0.357125461101532, Train Acc: 85.47%, Train Discrimination: 5.748084731749259e-05 Test Loss: 0.3580031991004944, Test Acc: 85.19%,Test Discrimination: 6.362142448779196e-05\n",
      "Epoch 27, Train Loss: 0.35755455493927, Train Acc: 85.31%, Train Discrimination: 6.084308188292198e-05 Test Loss: 0.35621318221092224, Test Acc: 85.25%,Test Discrimination: 6.372539792209864e-05\n",
      "Epoch 28, Train Loss: 0.3559094965457916, Train Acc: 85.32%, Train Discrimination: 6.111792754381895e-05 Test Loss: 0.3534325957298279, Test Acc: 85.22%,Test Discrimination: 5.9708094340749085e-05\n",
      "Epoch 29, Train Loss: 0.3527904152870178, Train Acc: 85.50%, Train Discrimination: 5.7796318287728354e-05 Test Loss: 0.35187217593193054, Test Acc: 85.12%,Test Discrimination: 5.207887807046063e-05\n",
      "Epoch 30, Train Loss: 0.35016369819641113, Train Acc: 85.63%, Train Discrimination: 5.0909871788462624e-05 Test Loss: 0.3531108796596527, Test Acc: 84.59%,Test Discrimination: 4.3048232328146696e-05\n",
      "Epoch 31, Train Loss: 0.35018062591552734, Train Acc: 85.63%, Train Discrimination: 4.2590727389324456e-05 Test Loss: 0.3544144332408905, Test Acc: 84.65%,Test Discrimination: 3.869417560053989e-05\n",
      "Epoch 32, Train Loss: 0.3508521020412445, Train Acc: 85.59%, Train Discrimination: 3.85161729354877e-05 Test Loss: 0.3535701036453247, Test Acc: 84.65%,Test Discrimination: 3.895989721058868e-05\n",
      "Epoch 33, Train Loss: 0.3499787151813507, Train Acc: 85.62%, Train Discrimination: 3.875376205542125e-05 Test Loss: 0.3515677750110626, Test Acc: 84.71%,Test Discrimination: 4.1898056224454194e-05\n",
      "Epoch 34, Train Loss: 0.3482903242111206, Train Acc: 85.62%, Train Discrimination: 4.146356513956562e-05 Test Loss: 0.34972384572029114, Test Acc: 84.97%,Test Discrimination: 4.601953332894482e-05\n",
      "Epoch 35, Train Loss: 0.34689000248908997, Train Acc: 85.64%, Train Discrimination: 4.518891000770964e-05 Test Loss: 0.348565012216568, Test Acc: 85.38%,Test Discrimination: 5.0074093451257795e-05\n",
      "Epoch 36, Train Loss: 0.3461557924747467, Train Acc: 85.72%, Train Discrimination: 4.8786077968543395e-05 Test Loss: 0.34791135787963867, Test Acc: 85.34%,Test Discrimination: 5.321542266756296e-05\n",
      "Epoch 37, Train Loss: 0.34581226110458374, Train Acc: 85.74%, Train Discrimination: 5.147884803591296e-05 Test Loss: 0.3474404513835907, Test Acc: 85.41%,Test Discrimination: 5.5086617066990584e-05\n",
      "Epoch 38, Train Loss: 0.3454679548740387, Train Acc: 85.72%, Train Discrimination: 5.299544136505574e-05 Test Loss: 0.346953809261322, Test Acc: 85.38%,Test Discrimination: 5.56743580091279e-05\n",
      "Epoch 39, Train Loss: 0.34492799639701843, Train Acc: 85.74%, Train Discrimination: 5.336440517567098e-05 Test Loss: 0.3464401364326477, Test Acc: 85.34%,Test Discrimination: 5.514442818821408e-05\n",
      "Epoch 40, Train Loss: 0.3442207872867584, Train Acc: 85.75%, Train Discrimination: 5.2765783038921654e-05 Test Loss: 0.3459969460964203, Test Acc: 85.28%,Test Discrimination: 5.378464629757218e-05\n",
      "Epoch 41, Train Loss: 0.3434874713420868, Train Acc: 85.79%, Train Discrimination: 5.1456525397952646e-05 Test Loss: 0.3457084596157074, Test Acc: 85.22%,Test Discrimination: 5.1945815357612446e-05\n",
      "Epoch 42, Train Loss: 0.34285247325897217, Train Acc: 85.86%, Train Discrimination: 4.975632327841595e-05 Test Loss: 0.3455812335014343, Test Acc: 85.12%,Test Discrimination: 4.9987767852144316e-05\n",
      "Epoch 43, Train Loss: 0.342363566160202, Train Acc: 85.72%, Train Discrimination: 4.798460577148944e-05 Test Loss: 0.34553396701812744, Test Acc: 85.06%,Test Discrimination: 4.822982373298146e-05\n",
      "Epoch 44, Train Loss: 0.3419860303401947, Train Acc: 85.77%, Train Discrimination: 4.6417273551924154e-05 Test Loss: 0.34545832872390747, Test Acc: 85.06%,Test Discrimination: 4.691269714385271e-05\n",
      "Epoch 45, Train Loss: 0.34163299202919006, Train Acc: 85.73%, Train Discrimination: 4.5269884139997885e-05 Test Loss: 0.34525781869888306, Test Acc: 85.00%,Test Discrimination: 4.617746526491828e-05\n",
      "Epoch 46, Train Loss: 0.34122973680496216, Train Acc: 85.78%, Train Discrimination: 4.4666900066658854e-05 Test Loss: 0.3449164927005768, Test Acc: 85.06%,Test Discrimination: 4.607720984495245e-05\n",
      "Epoch 47, Train Loss: 0.3407488167285919, Train Acc: 85.79%, Train Discrimination: 4.466653990675695e-05 Test Loss: 0.3444429934024811, Test Acc: 85.09%,Test Discrimination: 4.6638182539027184e-05\n",
      "Epoch 48, Train Loss: 0.3402089476585388, Train Acc: 85.79%, Train Discrimination: 4.526972770690918e-05 Test Loss: 0.3438746929168701, Test Acc: 85.22%,Test Discrimination: 4.784806151292287e-05\n",
      "Epoch 49, Train Loss: 0.33964210748672485, Train Acc: 85.80%, Train Discrimination: 4.643926877179183e-05 Test Loss: 0.34324899315834045, Test Acc: 85.22%,Test Discrimination: 4.962716775480658e-05\n",
      "Epoch 50, Train Loss: 0.33907777070999146, Train Acc: 85.83%, Train Discrimination: 4.8072965000756085e-05 Test Loss: 0.3426242172718048, Test Acc: 85.19%,Test Discrimination: 5.1767387049039826e-05\n",
      "Epoch 51, Train Loss: 0.33854833245277405, Train Acc: 85.87%, Train Discrimination: 4.9982041673501953e-05 Test Loss: 0.3420554995536804, Test Acc: 85.09%,Test Discrimination: 5.3973850299371406e-05\n",
      "Epoch 52, Train Loss: 0.3380700945854187, Train Acc: 85.97%, Train Discrimination: 5.191149466554634e-05 Test Loss: 0.34156471490859985, Test Acc: 85.25%,Test Discrimination: 5.593907553702593e-05\n",
      "Epoch 53, Train Loss: 0.3376312851905823, Train Acc: 85.96%, Train Discrimination: 5.360937211662531e-05 Test Loss: 0.34113985300064087, Test Acc: 85.41%,Test Discrimination: 5.741511267842725e-05\n",
      "Epoch 54, Train Loss: 0.33719727396965027, Train Acc: 85.98%, Train Discrimination: 5.4888449085410684e-05 Test Loss: 0.3407555818557739, Test Acc: 85.41%,Test Discrimination: 5.8287881984142587e-05\n",
      "Epoch 55, Train Loss: 0.33672839403152466, Train Acc: 85.98%, Train Discrimination: 5.565041647059843e-05 Test Loss: 0.34039878845214844, Test Acc: 85.41%,Test Discrimination: 5.853934635524638e-05\n",
      "Epoch 56, Train Loss: 0.3362185060977936, Train Acc: 86.00%, Train Discrimination: 5.5886594054754823e-05 Test Loss: 0.3400750756263733, Test Acc: 85.41%,Test Discrimination: 5.825853440910578e-05\n",
      "Epoch 57, Train Loss: 0.33568963408470154, Train Acc: 86.03%, Train Discrimination: 5.568850610870868e-05 Test Loss: 0.3398025631904602, Test Acc: 85.41%,Test Discrimination: 5.764939123764634e-05\n",
      "Epoch 58, Train Loss: 0.33517077565193176, Train Acc: 86.03%, Train Discrimination: 5.522275750990957e-05 Test Loss: 0.3395799696445465, Test Acc: 85.34%,Test Discrimination: 5.6945154938148335e-05\n",
      "Epoch 59, Train Loss: 0.33468863368034363, Train Acc: 86.00%, Train Discrimination: 5.46941882930696e-05 Test Loss: 0.33937692642211914, Test Acc: 85.22%,Test Discrimination: 5.639010123559274e-05\n",
      "Epoch 60, Train Loss: 0.33425089716911316, Train Acc: 86.02%, Train Discrimination: 5.4296710004564375e-05 Test Loss: 0.33915627002716064, Test Acc: 85.25%,Test Discrimination: 5.621142918244004e-05\n",
      "Epoch 61, Train Loss: 0.3338385224342346, Train Acc: 86.02%, Train Discrimination: 5.4228959925239906e-05 Test Loss: 0.33886751532554626, Test Acc: 85.31%,Test Discrimination: 5.657403016812168e-05\n",
      "Epoch 62, Train Loss: 0.3333986699581146, Train Acc: 86.04%, Train Discrimination: 5.461672117235139e-05 Test Loss: 0.3385079801082611, Test Acc: 85.41%,Test Discrimination: 5.746760871261358e-05\n",
      "Epoch 63, Train Loss: 0.3329286277294159, Train Acc: 86.06%, Train Discrimination: 5.5450014770030975e-05 Test Loss: 0.3381151258945465, Test Acc: 85.41%,Test Discrimination: 5.874156704521738e-05\n",
      "Epoch 64, Train Loss: 0.3324544131755829, Train Acc: 86.11%, Train Discrimination: 5.6614051572978497e-05 Test Loss: 0.33771026134490967, Test Acc: 85.50%,Test Discrimination: 6.021071021677926e-05\n",
      "Epoch 65, Train Loss: 0.3320063054561615, Train Acc: 86.13%, Train Discrimination: 5.795430115540512e-05 Test Loss: 0.3373219966888428, Test Acc: 85.50%,Test Discrimination: 6.163537182146683e-05\n",
      "Epoch 66, Train Loss: 0.3315735161304474, Train Acc: 86.13%, Train Discrimination: 5.928507380303927e-05 Test Loss: 0.33695435523986816, Test Acc: 85.57%,Test Discrimination: 6.286821735557169e-05\n",
      "Epoch 67, Train Loss: 0.3311454951763153, Train Acc: 86.09%, Train Discrimination: 6.046851194696501e-05 Test Loss: 0.3366180658340454, Test Acc: 85.53%,Test Discrimination: 6.378017133101821e-05\n",
      "Epoch 68, Train Loss: 0.33071795105934143, Train Acc: 86.15%, Train Discrimination: 6.13946103840135e-05 Test Loss: 0.3363240361213684, Test Acc: 85.44%,Test Discrimination: 6.430558278225362e-05\n",
      "Epoch 69, Train Loss: 0.3302907347679138, Train Acc: 86.11%, Train Discrimination: 6.20047067059204e-05 Test Loss: 0.33606335520744324, Test Acc: 85.47%,Test Discrimination: 6.447138002840802e-05\n",
      "Epoch 70, Train Loss: 0.3298671841621399, Train Acc: 86.12%, Train Discrimination: 6.230136204976588e-05 Test Loss: 0.335822194814682, Test Acc: 85.47%,Test Discrimination: 6.444189784815535e-05\n",
      "Epoch 71, Train Loss: 0.3294408321380615, Train Acc: 86.18%, Train Discrimination: 6.23867817921564e-05 Test Loss: 0.3355974555015564, Test Acc: 85.47%,Test Discrimination: 6.435114482883364e-05\n",
      "Epoch 72, Train Loss: 0.3290088474750519, Train Acc: 86.19%, Train Discrimination: 6.236992339836434e-05 Test Loss: 0.33538511395454407, Test Acc: 85.44%,Test Discrimination: 6.42703816993162e-05\n",
      "Epoch 73, Train Loss: 0.32858502864837646, Train Acc: 86.21%, Train Discrimination: 6.232500163605437e-05 Test Loss: 0.3351708948612213, Test Acc: 85.47%,Test Discrimination: 6.428001506719738e-05\n",
      "Epoch 74, Train Loss: 0.328172504901886, Train Acc: 86.26%, Train Discrimination: 6.234495958779007e-05 Test Loss: 0.33494946360588074, Test Acc: 85.47%,Test Discrimination: 6.441315053962171e-05\n",
      "Epoch 75, Train Loss: 0.32776886224746704, Train Acc: 86.31%, Train Discrimination: 6.249934813240543e-05 Test Loss: 0.33471137285232544, Test Acc: 85.50%,Test Discrimination: 6.470799417002127e-05\n",
      "Epoch 76, Train Loss: 0.32735639810562134, Train Acc: 86.36%, Train Discrimination: 6.282451067818329e-05 Test Loss: 0.33445316553115845, Test Acc: 85.53%,Test Discrimination: 6.519078306155279e-05\n",
      "Epoch 77, Train Loss: 0.32693010568618774, Train Acc: 86.38%, Train Discrimination: 6.333179044304416e-05 Test Loss: 0.3342040777206421, Test Acc: 85.60%,Test Discrimination: 6.581143679795787e-05\n",
      "Epoch 78, Train Loss: 0.326495498418808, Train Acc: 86.42%, Train Discrimination: 6.398897676263005e-05 Test Loss: 0.33393657207489014, Test Acc: 85.53%,Test Discrimination: 6.661842780886218e-05\n",
      "Epoch 79, Train Loss: 0.3260628283023834, Train Acc: 86.39%, Train Discrimination: 6.479099101852626e-05 Test Loss: 0.333642840385437, Test Acc: 85.72%,Test Discrimination: 6.752133049303666e-05\n",
      "Epoch 80, Train Loss: 0.32562777400016785, Train Acc: 86.45%, Train Discrimination: 6.564633076777682e-05 Test Loss: 0.3333720266819, Test Acc: 85.75%,Test Discrimination: 6.842531001893803e-05\n",
      "Epoch 81, Train Loss: 0.3251896798610687, Train Acc: 86.48%, Train Discrimination: 6.641473737545311e-05 Test Loss: 0.33314183354377747, Test Acc: 85.69%,Test Discrimination: 6.89873268129304e-05\n",
      "Epoch 82, Train Loss: 0.32471221685409546, Train Acc: 86.52%, Train Discrimination: 6.693665636703372e-05 Test Loss: 0.3330332338809967, Test Acc: 85.53%,Test Discrimination: 6.85879131196998e-05\n",
      "Epoch 83, Train Loss: 0.3241807520389557, Train Acc: 86.51%, Train Discrimination: 6.650290742982179e-05 Test Loss: 0.3330647051334381, Test Acc: 85.63%,Test Discrimination: 6.658588245045394e-05\n",
      "Epoch 84, Train Loss: 0.3234694004058838, Train Acc: 86.53%, Train Discrimination: 6.45948966848664e-05 Test Loss: 0.3332972228527069, Test Acc: 85.57%,Test Discrimination: 6.304137787083164e-05\n",
      "Epoch 85, Train Loss: 0.3230859935283661, Train Acc: 86.39%, Train Discrimination: 6.128516542958096e-05 Test Loss: 0.33182618021965027, Test Acc: 85.66%,Test Discrimination: 7.021014607744291e-05\n",
      "Epoch 86, Train Loss: 0.3219781816005707, Train Acc: 86.69%, Train Discrimination: 6.793914508307353e-05 Test Loss: 0.3310835063457489, Test Acc: 85.44%,Test Discrimination: 7.695602107560262e-05\n",
      "Epoch 87, Train Loss: 0.32159096002578735, Train Acc: 86.74%, Train Discrimination: 7.408925011986867e-05 Test Loss: 0.3306076228618622, Test Acc: 85.50%,Test Discrimination: 7.694953092141077e-05\n",
      "Epoch 88, Train Loss: 0.3207920491695404, Train Acc: 86.74%, Train Discrimination: 7.401836046483368e-05 Test Loss: 0.33059272170066833, Test Acc: 85.69%,Test Discrimination: 7.232838834170252e-05\n",
      "Epoch 89, Train Loss: 0.3202601373195648, Train Acc: 86.76%, Train Discrimination: 7.0197980676312e-05 Test Loss: 0.3303791582584381, Test Acc: 85.63%,Test Discrimination: 7.252378418343142e-05\n",
      "Epoch 90, Train Loss: 0.3198533058166504, Train Acc: 86.73%, Train Discrimination: 7.054223533486947e-05 Test Loss: 0.3295936584472656, Test Acc: 85.69%,Test Discrimination: 7.853896386222914e-05\n",
      "Epoch 91, Train Loss: 0.3192302882671356, Train Acc: 86.74%, Train Discrimination: 7.60379625717178e-05 Test Loss: 0.3292895555496216, Test Acc: 85.63%,Test Discrimination: 8.365442045032978e-05\n",
      "Epoch 92, Train Loss: 0.3189772069454193, Train Acc: 86.73%, Train Discrimination: 8.071454794844612e-05 Test Loss: 0.32921919226646423, Test Acc: 85.66%,Test Discrimination: 8.237500151153654e-05\n",
      "Epoch 93, Train Loss: 0.31846657395362854, Train Acc: 86.76%, Train Discrimination: 7.967201236169785e-05 Test Loss: 0.32947421073913574, Test Acc: 85.82%,Test Discrimination: 7.811631803633645e-05\n",
      "Epoch 94, Train Loss: 0.3181060552597046, Train Acc: 86.78%, Train Discrimination: 7.58255846449174e-05 Test Loss: 0.32932761311531067, Test Acc: 85.79%,Test Discrimination: 7.867105159675702e-05\n",
      "Epoch 95, Train Loss: 0.31772303581237793, Train Acc: 86.75%, Train Discrimination: 7.627106242580339e-05 Test Loss: 0.3287052810192108, Test Acc: 85.91%,Test Discrimination: 8.435305062448606e-05\n",
      "Epoch 96, Train Loss: 0.3172282874584198, Train Acc: 86.76%, Train Discrimination: 8.130472269840539e-05 Test Loss: 0.3285224437713623, Test Acc: 85.91%,Test Discrimination: 8.708360110176727e-05\n",
      "Epoch 97, Train Loss: 0.3169131278991699, Train Acc: 86.79%, Train Discrimination: 8.375795732717961e-05 Test Loss: 0.32864806056022644, Test Acc: 85.88%,Test Discrimination: 8.286818774649873e-05\n",
      "Epoch 98, Train Loss: 0.3163900673389435, Train Acc: 86.80%, Train Discrimination: 8.010022429516539e-05 Test Loss: 0.32890379428863525, Test Acc: 85.75%,Test Discrimination: 7.972175808390602e-05\n",
      "Epoch 99, Train Loss: 0.3161027431488037, Train Acc: 86.89%, Train Discrimination: 7.730677316430956e-05 Test Loss: 0.3283741772174835, Test Acc: 85.85%,Test Discrimination: 8.379548671655357e-05\n",
      "Epoch 100, Train Loss: 0.31561368703842163, Train Acc: 86.84%, Train Discrimination: 8.085287117864937e-05 Test Loss: 0.32805973291397095, Test Acc: 85.94%,Test Discrimination: 8.813299791654572e-05\n"
     ]
    }
   ],
   "source": [
    "model3 = BinaryClassifier(features.shape[1])\n",
    "optimizer = optim.Adam(model3.parameters(), lr=0.01)\n",
    "train_losses3, train_accuracies3, train_discriminations3,train_fairness3 = [], [], [],[]\n",
    "test_losses3, test_accuracies3, test_discriminations3,test_fairness3 = [], [], [],[]\n",
    "\n",
    "# Training loop\n",
    "model3.train()\n",
    "for epoch in range(100):\n",
    "    optimizer.zero_grad()\n",
    "    outputs = model3(features)\n",
    "    loss, discrimination = discrimination_loss(outputs, targets.squeeze(), sensitive_features, lambda_val=0.01, k=2)\n",
    "    train_accuracy = calculate_accuracy(outputs, targets.squeeze())\n",
    "    loss.backward()\n",
    "    optimizer.step()\n",
    "    \n",
    "    # Evaluation on test data\n",
    "    model3.eval()\n",
    "    with torch.no_grad():\n",
    "        test_outputs = model3(test_features)\n",
    "        test_loss,test_discrimination = discrimination_loss(test_outputs, test_targets.squeeze(), test_sensitive_features, lambda_val=0.01, k=2)\n",
    "        test_accuracy = calculate_accuracy(test_outputs, test_targets.squeeze())\n",
    "    \n",
    "    print(f'Epoch {epoch+1}, Train Loss: {loss.item()}, Train Acc: {train_accuracy.item()*100:.2f}%, Train Discrimination: {discrimination} '\n",
    "          f'Test Loss: {test_loss.item()}, Test Acc: {test_accuracy.item()*100:.2f}%,Test Discrimination: {test_discrimination}')\n",
    "    train_losses3.append(loss.item())\n",
    "    train_accuracies3.append(train_accuracy.item() * 100)\n",
    "    train_discriminations3.append(discrimination)\n",
    "    fairness=1-discrimination\n",
    "    train_fairness3.append(fairness)\n",
    "    test_fairness3.append(fairness)\n",
    "    test_losses3.append(test_loss.item())\n",
    "    test_accuracies3.append(test_accuracy.item() * 100)\n",
    "    test_discriminations3.append(test_discrimination)\n",
    "    model3.train()"
   ]
  },
  {
   "cell_type": "markdown",
   "metadata": {},
   "source": [
    "#### LAMBDA = 1"
   ]
  },
  {
   "cell_type": "code",
   "execution_count": 8,
   "metadata": {},
   "outputs": [
    {
     "name": "stdout",
     "output_type": "stream",
     "text": [
      "Epoch 1, Train Loss: 1.8446720838546753, Train Acc: 17.13%, Train Discrimination: 0.001698514330200851 Test Loss: 0.524501621723175, Test Acc: 82.19%,Test Discrimination: 0.0006768041639588773\n",
      "Epoch 2, Train Loss: 0.5233855843544006, Train Acc: 82.25%, Train Discrimination: 0.00046851675142534077 Test Loss: 0.7035712599754333, Test Acc: 82.66%,Test Discrimination: 0.00064799067331478\n",
      "Epoch 3, Train Loss: 0.6930978298187256, Train Acc: 82.87%, Train Discrimination: 0.0004053693264722824 Test Loss: 0.7174410223960876, Test Acc: 82.66%,Test Discrimination: 0.00016288572805933654\n",
      "Epoch 4, Train Loss: 0.7047736048698425, Train Acc: 82.87%, Train Discrimination: 9.914215479511768e-05 Test Loss: 0.6332312822341919, Test Acc: 82.66%,Test Discrimination: 1.980807792278938e-05\n",
      "Epoch 5, Train Loss: 0.6210913062095642, Train Acc: 82.87%, Train Discrimination: 8.91736908670282e-06 Test Loss: 0.5379812717437744, Test Acc: 82.66%,Test Discrimination: 1.009002880891785e-05\n",
      "Epoch 6, Train Loss: 0.5278677940368652, Train Acc: 82.87%, Train Discrimination: 1.4045267562323716e-05 Test Loss: 0.4603519141674042, Test Acc: 82.66%,Test Discrimination: 0.000166503872605972\n",
      "Epoch 7, Train Loss: 0.4530058205127716, Train Acc: 82.87%, Train Discrimination: 0.00015096428978722543 Test Loss: 0.4088417589664459, Test Acc: 82.66%,Test Discrimination: 0.0007658880203962326\n",
      "Epoch 8, Train Loss: 0.403574138879776, Train Acc: 82.87%, Train Discrimination: 0.0006186911487020552 Test Loss: 0.40117958188056946, Test Acc: 83.29%,Test Discrimination: 0.002433148678392172\n",
      "Epoch 9, Train Loss: 0.3979427218437195, Train Acc: 83.54%, Train Discrimination: 0.0018973033875226974 Test Loss: 0.4104888439178467, Test Acc: 84.43%,Test Discrimination: 0.004079391714185476\n",
      "Epoch 10, Train Loss: 0.40878474712371826, Train Acc: 85.04%, Train Discrimination: 0.003218969563022256 Test Loss: 0.41337716579437256, Test Acc: 85.22%,Test Discrimination: 0.004929964430630207\n",
      "Epoch 11, Train Loss: 0.41252291202545166, Train Acc: 85.31%, Train Discrimination: 0.003975986503064632 Test Loss: 0.4101380705833435, Test Acc: 85.38%,Test Discrimination: 0.0051725925877690315\n",
      "Epoch 12, Train Loss: 0.4097265899181366, Train Acc: 85.19%, Train Discrimination: 0.0042545851320028305 Test Loss: 0.4026127755641937, Test Acc: 85.09%,Test Discrimination: 0.004936878569424152\n",
      "Epoch 13, Train Loss: 0.40187859535217285, Train Acc: 85.34%, Train Discrimination: 0.004171824548393488 Test Loss: 0.3921220004558563, Test Acc: 84.55%,Test Discrimination: 0.0043257479555904865\n",
      "Epoch 14, Train Loss: 0.39081814885139465, Train Acc: 85.31%, Train Discrimination: 0.003756257239729166 Test Loss: 0.381453275680542, Test Acc: 84.37%,Test Discrimination: 0.0035622252617031336\n",
      "Epoch 15, Train Loss: 0.37941378355026245, Train Acc: 85.15%, Train Discrimination: 0.0031801247969269753 Test Loss: 0.37401700019836426, Test Acc: 84.05%,Test Discrimination: 0.002810395322740078\n",
      "Epoch 16, Train Loss: 0.3710634112358093, Train Acc: 84.82%, Train Discrimination: 0.0025873978156596422 Test Loss: 0.3709850013256073, Test Acc: 83.92%,Test Discrimination: 0.0021876886021345854\n",
      "Epoch 17, Train Loss: 0.36714601516723633, Train Acc: 84.56%, Train Discrimination: 0.002070960123091936 Test Loss: 0.37149688601493835, Test Acc: 83.77%,Test Discrimination: 0.0017360630445182323\n",
      "Epoch 18, Train Loss: 0.3668948709964752, Train Acc: 84.11%, Train Discrimination: 0.0016816324787214398 Test Loss: 0.37357059121131897, Test Acc: 83.54%,Test Discrimination: 0.001451533054932952\n",
      "Epoch 19, Train Loss: 0.36842215061187744, Train Acc: 83.95%, Train Discrimination: 0.001429390860721469 Test Loss: 0.375309556722641, Test Acc: 83.54%,Test Discrimination: 0.0013077175244688988\n",
      "Epoch 20, Train Loss: 0.3698500096797943, Train Acc: 83.95%, Train Discrimination: 0.0013008383102715015 Test Loss: 0.3754746615886688, Test Acc: 83.58%,Test Discrimination: 0.0012856298126280308\n",
      "Epoch 21, Train Loss: 0.36994296312332153, Train Acc: 83.97%, Train Discrimination: 0.001280538272112608 Test Loss: 0.37369441986083984, Test Acc: 83.61%,Test Discrimination: 0.0013722913572564721\n",
      "Epoch 22, Train Loss: 0.36827632784843445, Train Acc: 84.05%, Train Discrimination: 0.0013592459727078676 Test Loss: 0.3703022301197052, Test Acc: 83.86%,Test Discrimination: 0.001571315573528409\n",
      "Epoch 23, Train Loss: 0.3651195466518402, Train Acc: 84.35%, Train Discrimination: 0.0015390090411528945 Test Loss: 0.3660215139389038, Test Acc: 84.14%,Test Discrimination: 0.0018902772571891546\n",
      "Epoch 24, Train Loss: 0.36122554540634155, Train Acc: 84.70%, Train Discrimination: 0.0018251464935019612 Test Loss: 0.36176925897598267, Test Acc: 84.05%,Test Discrimination: 0.0023310247343033552\n",
      "Epoch 25, Train Loss: 0.3574967384338379, Train Acc: 85.03%, Train Discrimination: 0.0022181749809533358 Test Loss: 0.35830774903297424, Test Acc: 84.43%,Test Discrimination: 0.002883161883801222\n",
      "Epoch 26, Train Loss: 0.3546985685825348, Train Acc: 85.26%, Train Discrimination: 0.0027066569309681654 Test Loss: 0.35608145594596863, Test Acc: 84.59%,Test Discrimination: 0.003508099354803562\n",
      "Epoch 27, Train Loss: 0.35321545600891113, Train Acc: 85.43%, Train Discrimination: 0.003255946096032858 Test Loss: 0.35512658953666687, Test Acc: 84.71%,Test Discrimination: 0.004149155225604773\n",
      "Epoch 28, Train Loss: 0.35293954610824585, Train Acc: 85.65%, Train Discrimination: 0.0038116062059998512 Test Loss: 0.3549802601337433, Test Acc: 84.87%,Test Discrimination: 0.0047247158363461494\n",
      "Epoch 29, Train Loss: 0.35335320234298706, Train Acc: 85.62%, Train Discrimination: 0.00431361747905612 Test Loss: 0.35501834750175476, Test Acc: 85.15%,Test Discrimination: 0.005168225150555372\n",
      "Epoch 30, Train Loss: 0.3537661135196686, Train Acc: 85.63%, Train Discrimination: 0.004703077487647533 Test Loss: 0.3547188639640808, Test Acc: 85.44%,Test Discrimination: 0.0054331873543560505\n",
      "Epoch 31, Train Loss: 0.3536204397678375, Train Acc: 85.61%, Train Discrimination: 0.004941850900650024 Test Loss: 0.3537808060646057, Test Acc: 85.41%,Test Discrimination: 0.005507951602339745\n",
      "Epoch 32, Train Loss: 0.35264989733695984, Train Acc: 85.64%, Train Discrimination: 0.005020888056606054 Test Loss: 0.3521760404109955, Test Acc: 85.38%,Test Discrimination: 0.005438289605081081\n",
      "Epoch 33, Train Loss: 0.3506806790828705, Train Acc: 85.64%, Train Discrimination: 0.004992485512048006 Test Loss: 0.35039228200912476, Test Acc: 85.22%,Test Discrimination: 0.00522318622097373\n",
      "Epoch 34, Train Loss: 0.34791865944862366, Train Acc: 85.66%, Train Discrimination: 0.0048747616820037365 Test Loss: 0.35180220007896423, Test Acc: 85.31%,Test Discrimination: 0.004634495824575424\n",
      "Epoch 35, Train Loss: 0.3477246165275574, Train Acc: 85.64%, Train Discrimination: 0.0044361925683915615 Test Loss: 0.35240915417671204, Test Acc: 85.03%,Test Discrimination: 0.0044014896266162395\n",
      "Epoch 36, Train Loss: 0.3478473722934723, Train Acc: 85.67%, Train Discrimination: 0.004237332846969366 Test Loss: 0.35048824548721313, Test Acc: 84.93%,Test Discrimination: 0.004521526396274567\n",
      "Epoch 37, Train Loss: 0.3462876081466675, Train Acc: 85.60%, Train Discrimination: 0.004338036756962538 Test Loss: 0.34913724660873413, Test Acc: 84.90%,Test Discrimination: 0.004635031335055828\n",
      "Epoch 38, Train Loss: 0.34556305408477783, Train Acc: 85.61%, Train Discrimination: 0.004403389990329742 Test Loss: 0.3485471308231354, Test Acc: 85.06%,Test Discrimination: 0.004676745273172855\n",
      "Epoch 39, Train Loss: 0.3453176021575928, Train Acc: 85.61%, Train Discrimination: 0.004419928416609764 Test Loss: 0.3480873107910156, Test Acc: 85.06%,Test Discrimination: 0.004729446955025196\n",
      "Epoch 40, Train Loss: 0.34475913643836975, Train Acc: 85.64%, Train Discrimination: 0.00446602888405323 Test Loss: 0.34758150577545166, Test Acc: 85.09%,Test Discrimination: 0.004793129861354828\n",
      "Epoch 41, Train Loss: 0.3439449369907379, Train Acc: 85.70%, Train Discrimination: 0.004535990301519632 Test Loss: 0.3472493588924408, Test Acc: 85.06%,Test Discrimination: 0.004847450647503138\n",
      "Epoch 42, Train Loss: 0.34300491213798523, Train Acc: 85.74%, Train Discrimination: 0.004602740053087473 Test Loss: 0.3473387360572815, Test Acc: 85.03%,Test Discrimination: 0.004844883922487497\n",
      "Epoch 43, Train Loss: 0.34187257289886475, Train Acc: 85.87%, Train Discrimination: 0.004596260376274586 Test Loss: 0.3500846028327942, Test Acc: 85.22%,Test Discrimination: 0.004279785323888063\n",
      "Epoch 44, Train Loss: 0.3429502248764038, Train Acc: 85.94%, Train Discrimination: 0.004075911361724138 Test Loss: 0.3454442024230957, Test Acc: 85.25%,Test Discrimination: 0.005157124251127243\n",
      "Epoch 45, Train Loss: 0.339618057012558, Train Acc: 85.96%, Train Discrimination: 0.004864475689828396 Test Loss: 0.3443640470504761, Test Acc: 85.19%,Test Discrimination: 0.005698966793715954\n",
      "Epoch 46, Train Loss: 0.3398011028766632, Train Acc: 86.01%, Train Discrimination: 0.005369904916733503 Test Loss: 0.3440123200416565, Test Acc: 85.31%,Test Discrimination: 0.005948396399617195\n",
      "Epoch 47, Train Loss: 0.33946311473846436, Train Acc: 86.01%, Train Discrimination: 0.005606671329587698 Test Loss: 0.342868834733963, Test Acc: 85.22%,Test Discrimination: 0.005887231789529324\n",
      "Epoch 48, Train Loss: 0.33737629652023315, Train Acc: 86.12%, Train Discrimination: 0.0055388095788657665 Test Loss: 0.3430354595184326, Test Acc: 85.47%,Test Discrimination: 0.005194400902837515\n",
      "Epoch 49, Train Loss: 0.33608078956604004, Train Acc: 86.18%, Train Discrimination: 0.004897835664451122 Test Loss: 0.3441687524318695, Test Acc: 85.41%,Test Discrimination: 0.004753490909934044\n",
      "Epoch 50, Train Loss: 0.3366241157054901, Train Acc: 86.05%, Train Discrimination: 0.004488917533308268 Test Loss: 0.34097903966903687, Test Acc: 85.47%,Test Discrimination: 0.005560338031500578\n",
      "Epoch 51, Train Loss: 0.3341612219810486, Train Acc: 86.22%, Train Discrimination: 0.005199765786528587 Test Loss: 0.33969658613204956, Test Acc: 85.41%,Test Discrimination: 0.006671184208244085\n",
      "Epoch 52, Train Loss: 0.3339667022228241, Train Acc: 86.31%, Train Discrimination: 0.006199978291988373 Test Loss: 0.33896082639694214, Test Acc: 85.50%,Test Discrimination: 0.007088201120495796\n",
      "Epoch 53, Train Loss: 0.33324727416038513, Train Acc: 86.36%, Train Discrimination: 0.006563592702150345 Test Loss: 0.3390008509159088, Test Acc: 85.63%,Test Discrimination: 0.006496325135231018\n",
      "Epoch 54, Train Loss: 0.33170056343078613, Train Acc: 86.37%, Train Discrimination: 0.006064416375011206 Test Loss: 0.33967939019203186, Test Acc: 85.53%,Test Discrimination: 0.0060736569575965405\n",
      "Epoch 55, Train Loss: 0.3316042125225067, Train Acc: 86.28%, Train Discrimination: 0.00567175867035985 Test Loss: 0.3371356725692749, Test Acc: 85.57%,Test Discrimination: 0.006746061611920595\n",
      "Epoch 56, Train Loss: 0.3300504982471466, Train Acc: 86.43%, Train Discrimination: 0.006216361653059721 Test Loss: 0.3364759087562561, Test Acc: 85.66%,Test Discrimination: 0.0074161323718726635\n",
      "Epoch 57, Train Loss: 0.32995039224624634, Train Acc: 86.49%, Train Discrimination: 0.006770762614905834 Test Loss: 0.33610567450523376, Test Acc: 85.53%,Test Discrimination: 0.007190356031060219\n",
      "Epoch 58, Train Loss: 0.32885682582855225, Train Acc: 86.45%, Train Discrimination: 0.006556754466146231 Test Loss: 0.33668482303619385, Test Acc: 85.57%,Test Discrimination: 0.006683833431452513\n",
      "Epoch 59, Train Loss: 0.32843920588493347, Train Acc: 86.35%, Train Discrimination: 0.006139842327684164 Test Loss: 0.3361499607563019, Test Acc: 85.63%,Test Discrimination: 0.006942082196474075\n",
      "Epoch 60, Train Loss: 0.3274323046207428, Train Acc: 86.42%, Train Discrimination: 0.0063573867082595825 Test Loss: 0.3352939784526825, Test Acc: 85.69%,Test Discrimination: 0.007856416516005993\n",
      "Epoch 61, Train Loss: 0.32672786712646484, Train Acc: 86.55%, Train Discrimination: 0.007156789768487215 Test Loss: 0.3353036642074585, Test Acc: 85.72%,Test Discrimination: 0.008218093775212765\n",
      "Epoch 62, Train Loss: 0.32619258761405945, Train Acc: 86.52%, Train Discrimination: 0.007496469188481569 Test Loss: 0.335994690656662, Test Acc: 85.79%,Test Discrimination: 0.007869860157370567\n",
      "Epoch 63, Train Loss: 0.32576239109039307, Train Acc: 86.61%, Train Discrimination: 0.007206566631793976 Test Loss: 0.3353860378265381, Test Acc: 85.85%,Test Discrimination: 0.008170410990715027\n",
      "Epoch 64, Train Loss: 0.3250333368778229, Train Acc: 86.53%, Train Discrimination: 0.0074419016018509865 Test Loss: 0.3345441222190857, Test Acc: 85.94%,Test Discrimination: 0.008634495548903942\n",
      "Epoch 65, Train Loss: 0.32453009486198425, Train Acc: 86.65%, Train Discrimination: 0.007802067790180445 Test Loss: 0.33453357219696045, Test Acc: 85.79%,Test Discrimination: 0.00819446798413992\n",
      "Epoch 66, Train Loss: 0.32394903898239136, Train Acc: 86.59%, Train Discrimination: 0.007399682886898518 Test Loss: 0.33487311005592346, Test Acc: 85.60%,Test Discrimination: 0.007853183895349503\n",
      "Epoch 67, Train Loss: 0.3236454725265503, Train Acc: 86.50%, Train Discrimination: 0.00709643354639411 Test Loss: 0.33406558632850647, Test Acc: 85.85%,Test Discrimination: 0.00840901117771864\n",
      "Epoch 68, Train Loss: 0.32303595542907715, Train Acc: 86.61%, Train Discrimination: 0.007552321534603834 Test Loss: 0.33380210399627686, Test Acc: 85.98%,Test Discrimination: 0.008835780434310436\n",
      "Epoch 69, Train Loss: 0.32264599204063416, Train Acc: 86.69%, Train Discrimination: 0.007920214906334877 Test Loss: 0.33453747630119324, Test Acc: 85.82%,Test Discrimination: 0.008423911407589912\n",
      "Epoch 70, Train Loss: 0.32219353318214417, Train Acc: 86.58%, Train Discrimination: 0.007602473255246878 Test Loss: 0.33408114314079285, Test Acc: 86.04%,Test Discrimination: 0.008786262944340706\n",
      "Epoch 71, Train Loss: 0.32170000672340393, Train Acc: 86.72%, Train Discrimination: 0.007903382182121277 Test Loss: 0.33344539999961853, Test Acc: 86.10%,Test Discrimination: 0.009246899746358395\n",
      "Epoch 72, Train Loss: 0.3213312327861786, Train Acc: 86.66%, Train Discrimination: 0.008271696045994759 Test Loss: 0.33373913168907166, Test Acc: 85.98%,Test Discrimination: 0.008706986904144287\n",
      "Epoch 73, Train Loss: 0.32087069749832153, Train Acc: 86.65%, Train Discrimination: 0.007817042991518974 Test Loss: 0.3333736062049866, Test Acc: 86.04%,Test Discrimination: 0.008809557184576988\n",
      "Epoch 74, Train Loss: 0.320492684841156, Train Acc: 86.64%, Train Discrimination: 0.007884494960308075 Test Loss: 0.33287277817726135, Test Acc: 86.10%,Test Discrimination: 0.009157311171293259\n",
      "Epoch 75, Train Loss: 0.3201659321784973, Train Acc: 86.67%, Train Discrimination: 0.008172738365828991 Test Loss: 0.3332987129688263, Test Acc: 86.10%,Test Discrimination: 0.008792242035269737\n",
      "Epoch 76, Train Loss: 0.31977465748786926, Train Acc: 86.67%, Train Discrimination: 0.007895128801465034 Test Loss: 0.3330126702785492, Test Acc: 86.17%,Test Discrimination: 0.008997263386845589\n",
      "Epoch 77, Train Loss: 0.3193887174129486, Train Acc: 86.66%, Train Discrimination: 0.008080880157649517 Test Loss: 0.33265846967697144, Test Acc: 86.23%,Test Discrimination: 0.009252970106899738\n",
      "Epoch 78, Train Loss: 0.3190523087978363, Train Acc: 86.65%, Train Discrimination: 0.008300905115902424 Test Loss: 0.33317819237709045, Test Acc: 86.17%,Test Discrimination: 0.008729623630642891\n",
      "Epoch 79, Train Loss: 0.31871864199638367, Train Acc: 86.70%, Train Discrimination: 0.007862821221351624 Test Loss: 0.3323386013507843, Test Acc: 86.26%,Test Discrimination: 0.009318611584603786\n",
      "Epoch 80, Train Loss: 0.31837886571884155, Train Acc: 86.70%, Train Discrimination: 0.008330609649419785 Test Loss: 0.3328545391559601, Test Acc: 86.17%,Test Discrimination: 0.00869164802134037\n",
      "Epoch 81, Train Loss: 0.3179921805858612, Train Acc: 86.70%, Train Discrimination: 0.00781772006303072 Test Loss: 0.3324436545372009, Test Acc: 86.17%,Test Discrimination: 0.008903220295906067\n",
      "Epoch 82, Train Loss: 0.31761422753334045, Train Acc: 86.69%, Train Discrimination: 0.007995769381523132 Test Loss: 0.3321220278739929, Test Acc: 86.20%,Test Discrimination: 0.009088254533708096\n",
      "Epoch 83, Train Loss: 0.31731167435646057, Train Acc: 86.73%, Train Discrimination: 0.00816376879811287 Test Loss: 0.33280450105667114, Test Acc: 86.17%,Test Discrimination: 0.008451199159026146\n",
      "Epoch 84, Train Loss: 0.3170614540576935, Train Acc: 86.75%, Train Discrimination: 0.00765912514179945 Test Loss: 0.33168548345565796, Test Acc: 86.29%,Test Discrimination: 0.009255713783204556\n",
      "Epoch 85, Train Loss: 0.3168521225452423, Train Acc: 86.73%, Train Discrimination: 0.008333033882081509 Test Loss: 0.33291560411453247, Test Acc: 86.01%,Test Discrimination: 0.008107064291834831\n",
      "Epoch 86, Train Loss: 0.316600501537323, Train Acc: 86.73%, Train Discrimination: 0.007401969749480486 Test Loss: 0.33145442605018616, Test Acc: 86.26%,Test Discrimination: 0.009103430435061455\n",
      "Epoch 87, Train Loss: 0.31627753376960754, Train Acc: 86.83%, Train Discrimination: 0.008230483159422874 Test Loss: 0.33227986097335815, Test Acc: 86.04%,Test Discrimination: 0.008149406872689724\n",
      "Epoch 88, Train Loss: 0.3158584237098694, Train Acc: 86.80%, Train Discrimination: 0.007467867806553841 Test Loss: 0.3314570486545563, Test Acc: 86.17%,Test Discrimination: 0.008670400828123093\n",
      "Epoch 89, Train Loss: 0.3154868483543396, Train Acc: 86.81%, Train Discrimination: 0.007915792055428028 Test Loss: 0.33151698112487793, Test Acc: 86.23%,Test Discrimination: 0.008564332500100136\n",
      "Epoch 90, Train Loss: 0.3151981234550476, Train Acc: 86.81%, Train Discrimination: 0.007859300822019577 Test Loss: 0.3319903612136841, Test Acc: 86.04%,Test Discrimination: 0.00821919646114111\n",
      "Epoch 91, Train Loss: 0.3150118887424469, Train Acc: 86.81%, Train Discrimination: 0.007607039529830217 Test Loss: 0.3311842978000641, Test Acc: 86.29%,Test Discrimination: 0.009005415253341198\n",
      "Epoch 92, Train Loss: 0.31488901376724243, Train Acc: 86.91%, Train Discrimination: 0.008279802277684212 Test Loss: 0.3327656388282776, Test Acc: 86.17%,Test Discrimination: 0.007771072909235954\n",
      "Epoch 93, Train Loss: 0.31484103202819824, Train Acc: 86.81%, Train Discrimination: 0.00726807676255703 Test Loss: 0.3311571478843689, Test Acc: 86.29%,Test Discrimination: 0.00918780080974102\n",
      "Epoch 94, Train Loss: 0.31468135118484497, Train Acc: 86.91%, Train Discrimination: 0.008466938510537148 Test Loss: 0.3327173590660095, Test Acc: 86.20%,Test Discrimination: 0.007728110067546368\n",
      "Epoch 95, Train Loss: 0.31427523493766785, Train Acc: 86.84%, Train Discrimination: 0.0072680129669606686 Test Loss: 0.3313194513320923, Test Acc: 86.17%,Test Discrimination: 0.008702456951141357\n",
      "Epoch 96, Train Loss: 0.3137434720993042, Train Acc: 86.92%, Train Discrimination: 0.008106444962322712 Test Loss: 0.3316396176815033, Test Acc: 86.10%,Test Discrimination: 0.008434771560132504\n",
      "Epoch 97, Train Loss: 0.31341856718063354, Train Acc: 86.88%, Train Discrimination: 0.007914824411273003 Test Loss: 0.3320915699005127, Test Acc: 86.13%,Test Discrimination: 0.008152111433446407\n",
      "Epoch 98, Train Loss: 0.3132672607898712, Train Acc: 86.86%, Train Discrimination: 0.007691628765314817 Test Loss: 0.3313722014427185, Test Acc: 86.13%,Test Discrimination: 0.008965899236500263\n",
      "Epoch 99, Train Loss: 0.31323006749153137, Train Acc: 86.91%, Train Discrimination: 0.008381586521863937 Test Loss: 0.3331596255302429, Test Acc: 86.26%,Test Discrimination: 0.007697513327002525\n",
      "Epoch 100, Train Loss: 0.3132317364215851, Train Acc: 86.85%, Train Discrimination: 0.00733183603733778 Test Loss: 0.33144381642341614, Test Acc: 86.10%,Test Discrimination: 0.009148968383669853\n"
     ]
    }
   ],
   "source": [
    "model4 = BinaryClassifier(features.shape[1])\n",
    "optimizer = optim.Adam(model4.parameters(), lr=0.01)\n",
    "train_losses4, train_accuracies4, train_discriminations4,train_fairness4 = [], [], [],[]\n",
    "test_losses4, test_accuracies4, test_discriminations4,test_fairness4 = [], [], [],[]\n",
    "\n",
    "# Training loop\n",
    "model4.train()\n",
    "for epoch in range(100):\n",
    "    optimizer.zero_grad()\n",
    "    outputs = model4(features)\n",
    "    loss, discrimination = discrimination_loss(outputs, targets.squeeze(), sensitive_features, lambda_val=1, k=2)\n",
    "    train_accuracy = calculate_accuracy(outputs, targets.squeeze())\n",
    "    loss.backward()\n",
    "    optimizer.step()\n",
    "    \n",
    "    # Evaluation on test data\n",
    "    model4.eval()\n",
    "    with torch.no_grad():\n",
    "        test_outputs = model4(test_features)\n",
    "        test_loss,test_discrimination = discrimination_loss(test_outputs, test_targets.squeeze(), test_sensitive_features, lambda_val=1, k=2)\n",
    "        test_accuracy = calculate_accuracy(test_outputs, test_targets.squeeze())\n",
    "    \n",
    "    print(f'Epoch {epoch+1}, Train Loss: {loss.item()}, Train Acc: {train_accuracy.item()*100:.2f}%, Train Discrimination: {discrimination} '\n",
    "          f'Test Loss: {test_loss.item()}, Test Acc: {test_accuracy.item()*100:.2f}%,Test Discrimination: {test_discrimination}')\n",
    "    train_losses4.append(loss.item())\n",
    "    train_accuracies4.append(train_accuracy.item() * 100)\n",
    "    train_discriminations4.append(discrimination)\n",
    "    fairness=1-discrimination\n",
    "    train_fairness4.append(fairness)\n",
    "    test_fairness4.append(fairness)\n",
    "    test_losses4.append(test_loss.item())\n",
    "    test_accuracies4.append(test_accuracy.item() * 100)\n",
    "    test_discriminations4.append(test_discrimination)\n",
    "    model4.train()\n"
   ]
  },
  {
   "cell_type": "markdown",
   "metadata": {},
   "source": [
    "#### LAMBDA > 1"
   ]
  },
  {
   "cell_type": "code",
   "execution_count": 9,
   "metadata": {},
   "outputs": [
    {
     "name": "stdout",
     "output_type": "stream",
     "text": [
      "Epoch 1, Train Loss: 0.6827158331871033, Train Acc: 68.75%, Train Discrimination: 0.01587730087339878 Test Loss: 2.0852560997009277, Test Acc: 43.84%,Test Discrimination: 0.08393824845552444\n",
      "Epoch 2, Train Loss: 1.8346697092056274, Train Acc: 44.15%, Train Discrimination: 0.060856565833091736 Test Loss: 0.5064712166786194, Test Acc: 84.11%,Test Discrimination: 0.003421199042350054\n",
      "Epoch 3, Train Loss: 0.515932023525238, Train Acc: 84.86%, Train Discrimination: 0.0057143233716487885 Test Loss: 0.7100622653961182, Test Acc: 82.66%,Test Discrimination: 0.017768755555152893\n",
      "Epoch 4, Train Loss: 0.6470770239830017, Train Acc: 82.87%, Train Discrimination: 0.009518122300505638 Test Loss: 0.881696879863739, Test Acc: 82.66%,Test Discrimination: 0.017642173916101456\n",
      "Epoch 5, Train Loss: 0.8068544268608093, Train Acc: 82.87%, Train Discrimination: 0.010149571113288403 Test Loss: 0.8861703872680664, Test Acc: 82.66%,Test Discrimination: 0.01256042905151844\n",
      "Epoch 6, Train Loss: 0.8244614601135254, Train Acc: 82.87%, Train Discrimination: 0.007257384713739157 Test Loss: 0.8081578016281128, Test Acc: 82.66%,Test Discrimination: 0.007926668971776962\n",
      "Epoch 7, Train Loss: 0.7637646198272705, Train Acc: 82.87%, Train Discrimination: 0.0045285276137292385 Test Loss: 0.6949447989463806, Test Acc: 82.66%,Test Discrimination: 0.004412917420268059\n",
      "Epoch 8, Train Loss: 0.6644479036331177, Train Acc: 82.87%, Train Discrimination: 0.0023945006541907787 Test Loss: 0.5718820095062256, Test Acc: 82.66%,Test Discrimination: 0.0016776598058640957\n",
      "Epoch 9, Train Loss: 0.5520710349082947, Train Acc: 82.87%, Train Discrimination: 0.0007276468677446246 Test Loss: 0.4646357297897339, Test Acc: 82.66%,Test Discrimination: 9.696899724076502e-06\n",
      "Epoch 10, Train Loss: 0.45357879996299744, Train Acc: 82.87%, Train Discrimination: 4.567460564430803e-05 Test Loss: 0.41823670268058777, Test Acc: 82.79%,Test Discrimination: 0.003541964339092374\n",
      "Epoch 11, Train Loss: 0.4113151431083679, Train Acc: 83.01%, Train Discrimination: 0.00382278673350811 Test Loss: 0.4797957241535187, Test Acc: 84.37%,Test Discrimination: 0.0189802385866642\n",
      "Epoch 12, Train Loss: 0.46369749307632446, Train Acc: 84.89%, Train Discrimination: 0.016309715807437897 Test Loss: 0.5484578609466553, Test Acc: 84.62%,Test Discrimination: 0.03079289197921753\n",
      "Epoch 13, Train Loss: 0.5204383134841919, Train Acc: 85.12%, Train Discrimination: 0.02502560429275036 Test Loss: 0.5238542556762695, Test Acc: 84.74%,Test Discrimination: 0.027370553463697433\n",
      "Epoch 14, Train Loss: 0.49905475974082947, Train Acc: 85.18%, Train Discrimination: 0.022296305745840073 Test Loss: 0.45956000685691833, Test Acc: 84.08%,Test Discrimination: 0.016451697796583176\n",
      "Epoch 15, Train Loss: 0.4445638954639435, Train Acc: 84.66%, Train Discrimination: 0.013912203721702099 Test Loss: 0.4201938509941101, Test Acc: 82.94%,Test Discrimination: 0.007487053517252207\n",
      "Epoch 16, Train Loss: 0.4111665189266205, Train Acc: 83.61%, Train Discrimination: 0.0067986007779836655 Test Loss: 0.4148595929145813, Test Acc: 82.82%,Test Discrimination: 0.0028406521305441856\n",
      "Epoch 17, Train Loss: 0.4074072539806366, Train Acc: 83.01%, Train Discrimination: 0.0028828599024564028 Test Loss: 0.4277847111225128, Test Acc: 82.66%,Test Discrimination: 0.0009978758171200752\n",
      "Epoch 18, Train Loss: 0.41984882950782776, Train Acc: 82.88%, Train Discrimination: 0.0011760282795876265 Test Loss: 0.4397714138031006, Test Acc: 82.66%,Test Discrimination: 0.00042235065484419465\n",
      "Epoch 19, Train Loss: 0.4312683641910553, Train Acc: 82.88%, Train Discrimination: 0.0005779344355687499 Test Loss: 0.4449387788772583, Test Acc: 82.66%,Test Discrimination: 0.00022838021686766297\n",
      "Epoch 20, Train Loss: 0.43620193004608154, Train Acc: 82.89%, Train Discrimination: 0.00034940452314913273 Test Loss: 0.44329506158828735, Test Acc: 82.66%,Test Discrimination: 0.00017244796617887914\n",
      "Epoch 21, Train Loss: 0.4347294270992279, Train Acc: 82.89%, Train Discrimination: 0.0002779603819362819 Test Loss: 0.4359494149684906, Test Acc: 82.66%,Test Discrimination: 0.00020790145208593458\n",
      "Epoch 22, Train Loss: 0.4278647303581238, Train Acc: 82.88%, Train Discrimination: 0.0003147406969219446 Test Loss: 0.4251348674297333, Test Acc: 82.69%,Test Discrimination: 0.00035101737012155354\n",
      "Epoch 23, Train Loss: 0.4177660644054413, Train Acc: 82.88%, Train Discrimination: 0.00047022232320159674 Test Loss: 0.41383495926856995, Test Acc: 82.79%,Test Discrimination: 0.0006776369991712272\n",
      "Epoch 24, Train Loss: 0.40735021233558655, Train Acc: 82.97%, Train Discrimination: 0.0008024864364415407 Test Loss: 0.4050540626049042, Test Acc: 82.94%,Test Discrimination: 0.001299379044212401\n",
      "Epoch 25, Train Loss: 0.3994068503379822, Train Acc: 83.17%, Train Discrimination: 0.001395346480421722 Test Loss: 0.4007871747016907, Test Acc: 83.10%,Test Discrimination: 0.0022929892875254154\n",
      "Epoch 26, Train Loss: 0.3957034945487976, Train Acc: 83.61%, Train Discrimination: 0.002299004467204213 Test Loss: 0.40125784277915955, Test Acc: 83.61%,Test Discrimination: 0.003606561105698347\n",
      "Epoch 27, Train Loss: 0.39636385440826416, Train Acc: 84.07%, Train Discrimination: 0.0034492705017328262 Test Loss: 0.4046552777290344, Test Acc: 84.05%,Test Discrimination: 0.004975401796400547\n",
      "Epoch 28, Train Loss: 0.39967378973960876, Train Acc: 84.46%, Train Discrimination: 0.004621502943336964 Test Loss: 0.40800321102142334, Test Acc: 84.40%,Test Discrimination: 0.006008962634950876\n",
      "Epoch 29, Train Loss: 0.4029025733470917, Train Acc: 84.74%, Train Discrimination: 0.0055125500075519085 Test Loss: 0.4086786210536957, Test Acc: 84.46%,Test Discrimination: 0.006380992941558361\n",
      "Epoch 30, Train Loss: 0.40369489789009094, Train Acc: 84.83%, Train Discrimination: 0.0058733210898935795 Test Loss: 0.4058839976787567, Test Acc: 84.49%,Test Discrimination: 0.006018192507326603\n",
      "Epoch 31, Train Loss: 0.40131139755249023, Train Acc: 84.80%, Train Discrimination: 0.005643658339977264 Test Loss: 0.4007625877857208, Test Acc: 84.55%,Test Discrimination: 0.0051076109521090984\n",
      "Epoch 32, Train Loss: 0.3967358469963074, Train Acc: 84.74%, Train Discrimination: 0.004958093166351318 Test Loss: 0.3954330384731293, Test Acc: 84.27%,Test Discrimination: 0.00397272827103734\n",
      "Epoch 33, Train Loss: 0.39181190729141235, Train Acc: 84.59%, Train Discrimination: 0.00405298825353384 Test Loss: 0.39163580536842346, Test Acc: 84.18%,Test Discrimination: 0.002896921243518591\n",
      "Epoch 34, Train Loss: 0.3881274163722992, Train Acc: 84.38%, Train Discrimination: 0.0031558466143906116 Test Loss: 0.3900604844093323, Test Acc: 83.61%,Test Discrimination: 0.0020423789974302053\n",
      "Epoch 35, Train Loss: 0.38636302947998047, Train Acc: 84.17%, Train Discrimination: 0.0024077394045889378 Test Loss: 0.3903636932373047, Test Acc: 83.58%,Test Discrimination: 0.0014449739828705788\n",
      "Epoch 36, Train Loss: 0.38628727197647095, Train Acc: 83.99%, Train Discrimination: 0.001857968745753169 Test Loss: 0.39161962270736694, Test Acc: 83.54%,Test Discrimination: 0.0010749025968834758\n",
      "Epoch 37, Train Loss: 0.38712242245674133, Train Acc: 83.93%, Train Discrimination: 0.001500845537520945 Test Loss: 0.39279985427856445, Test Acc: 83.54%,Test Discrimination: 0.0008808670099824667\n",
      "Epoch 38, Train Loss: 0.38797640800476074, Train Acc: 83.88%, Train Discrimination: 0.001307602971792221 Test Loss: 0.39314666390419006, Test Acc: 83.51%,Test Discrimination: 0.0008203114848583937\n",
      "Epoch 39, Train Loss: 0.38816648721694946, Train Acc: 83.90%, Train Discrimination: 0.0012502801837399602 Test Loss: 0.39234310388565063, Test Acc: 83.54%,Test Discrimination: 0.0008707956876605749\n",
      "Epoch 40, Train Loss: 0.3873981535434723, Train Acc: 83.94%, Train Discrimination: 0.0013105182442814112 Test Loss: 0.39052364230155945, Test Acc: 83.54%,Test Discrimination: 0.0010264081647619605\n",
      "Epoch 41, Train Loss: 0.38578563928604126, Train Acc: 84.01%, Train Discrimination: 0.0014806578401476145 Test Loss: 0.38815388083457947, Test Acc: 83.83%,Test Discrimination: 0.001289447653107345\n",
      "Epoch 42, Train Loss: 0.3837423026561737, Train Acc: 84.18%, Train Discrimination: 0.00175424141343683 Test Loss: 0.38584718108177185, Test Acc: 84.18%,Test Discrimination: 0.001656169188208878\n",
      "Epoch 43, Train Loss: 0.3818065822124481, Train Acc: 84.43%, Train Discrimination: 0.002117541152983904 Test Loss: 0.38410794734954834, Test Acc: 84.55%,Test Discrimination: 0.002101452089846134\n",
      "Epoch 44, Train Loss: 0.3804279863834381, Train Acc: 84.61%, Train Discrimination: 0.0025367033667862415 Test Loss: 0.38314270973205566, Test Acc: 84.52%,Test Discrimination: 0.002561059780418873\n",
      "Epoch 45, Train Loss: 0.3797563314437866, Train Acc: 84.82%, Train Discrimination: 0.0029509849846363068 Test Loss: 0.3828207850456238, Test Acc: 84.62%,Test Discrimination: 0.0029498639050871134\n",
      "Epoch 46, Train Loss: 0.37962326407432556, Train Acc: 84.96%, Train Discrimination: 0.003279485972598195 Test Loss: 0.38274046778678894, Test Acc: 84.65%,Test Discrimination: 0.0031775692477822304\n",
      "Epoch 47, Train Loss: 0.37963467836380005, Train Acc: 84.99%, Train Discrimination: 0.0034466804936528206 Test Loss: 0.3824666440486908, Test Acc: 84.55%,Test Discrimination: 0.0031814961694180965\n",
      "Epoch 48, Train Loss: 0.37940362095832825, Train Acc: 85.04%, Train Discrimination: 0.003410271368920803 Test Loss: 0.3818123936653137, Test Acc: 84.59%,Test Discrimination: 0.002965660532936454\n",
      "Epoch 49, Train Loss: 0.3787437677383423, Train Acc: 85.08%, Train Discrimination: 0.0031770486384630203 Test Loss: 0.3808745741844177, Test Acc: 84.65%,Test Discrimination: 0.002592134987935424\n",
      "Epoch 50, Train Loss: 0.377744197845459, Train Acc: 85.10%, Train Discrimination: 0.0028040953911840916 Test Loss: 0.3799370229244232, Test Acc: 84.59%,Test Discrimination: 0.0021551328245550394\n",
      "Epoch 51, Train Loss: 0.3766694962978363, Train Acc: 85.10%, Train Discrimination: 0.0023757852613925934 Test Loss: 0.37925148010253906, Test Acc: 84.71%,Test Discrimination: 0.001743820495903492\n",
      "Epoch 52, Train Loss: 0.3757769465446472, Train Acc: 85.07%, Train Discrimination: 0.001971607329323888 Test Loss: 0.37890875339508057, Test Acc: 84.71%,Test Discrimination: 0.0014197712298482656\n",
      "Epoch 53, Train Loss: 0.37517839670181274, Train Acc: 85.02%, Train Discrimination: 0.0016454935539513826 Test Loss: 0.3788013458251953, Test Acc: 84.71%,Test Discrimination: 0.001205305103212595\n",
      "Epoch 54, Train Loss: 0.37480929493904114, Train Acc: 85.00%, Train Discrimination: 0.0014212027890607715 Test Loss: 0.3787294626235962, Test Acc: 84.65%,Test Discrimination: 0.0011000040685757995\n",
      "Epoch 55, Train Loss: 0.37450799345970154, Train Acc: 84.95%, Train Discrimination: 0.001300632837228477 Test Loss: 0.3785129189491272, Test Acc: 84.62%,Test Discrimination: 0.0010948058916255832\n",
      "Epoch 56, Train Loss: 0.3741225004196167, Train Acc: 84.94%, Train Discrimination: 0.0012754787458106875 Test Loss: 0.3780774474143982, Test Acc: 84.68%,Test Discrimination: 0.0011781915090978146\n",
      "Epoch 57, Train Loss: 0.373587429523468, Train Acc: 84.97%, Train Discrimination: 0.0013336003758013248 Test Loss: 0.37748268246650696, Test Acc: 84.71%,Test Discrimination: 0.001337940338999033\n",
      "Epoch 58, Train Loss: 0.37293440103530884, Train Acc: 84.98%, Train Discrimination: 0.0014585042372345924 Test Loss: 0.3768422603607178, Test Acc: 84.59%,Test Discrimination: 0.0015548582887277007\n",
      "Epoch 59, Train Loss: 0.37226808071136475, Train Acc: 85.04%, Train Discrimination: 0.0016287689795717597 Test Loss: 0.37628573179244995, Test Acc: 84.55%,Test Discrimination: 0.0017995047383010387\n",
      "Epoch 60, Train Loss: 0.3716926872730255, Train Acc: 85.06%, Train Discrimination: 0.0018139376770704985 Test Loss: 0.3758677840232849, Test Acc: 84.59%,Test Discrimination: 0.002025950700044632\n",
      "Epoch 61, Train Loss: 0.37125739455223083, Train Acc: 85.14%, Train Discrimination: 0.0019767116755247116 Test Loss: 0.375566303730011, Test Acc: 84.65%,Test Discrimination: 0.002188079757615924\n",
      "Epoch 62, Train Loss: 0.3709251284599304, Train Acc: 85.16%, Train Discrimination: 0.0020758765749633312 Test Loss: 0.3752921521663666, Test Acc: 84.65%,Test Discrimination: 0.0022391993552446365\n",
      "Epoch 63, Train Loss: 0.3706122040748596, Train Acc: 85.15%, Train Discrimination: 0.0020807874388992786 Test Loss: 0.37499308586120605, Test Acc: 84.62%,Test Discrimination: 0.0021670626010745764\n",
      "Epoch 64, Train Loss: 0.3702515959739685, Train Acc: 85.14%, Train Discrimination: 0.001981067704036832 Test Loss: 0.374647319316864, Test Acc: 84.62%,Test Discrimination: 0.0019785433541983366\n",
      "Epoch 65, Train Loss: 0.3698127269744873, Train Acc: 85.16%, Train Discrimination: 0.0017879654187709093 Test Loss: 0.3743493854999542, Test Acc: 84.68%,Test Discrimination: 0.0016999784857034683\n",
      "Epoch 66, Train Loss: 0.3693629801273346, Train Acc: 85.12%, Train Discrimination: 0.0015281139640137553 Test Loss: 0.3740411400794983, Test Acc: 84.68%,Test Discrimination: 0.001382982125505805\n",
      "Epoch 67, Train Loss: 0.3689374029636383, Train Acc: 85.14%, Train Discrimination: 0.0012325221905484796 Test Loss: 0.3738875091075897, Test Acc: 84.62%,Test Discrimination: 0.0010242806747555733\n",
      "Epoch 68, Train Loss: 0.3686490058898926, Train Acc: 85.14%, Train Discrimination: 0.0009256037301383913 Test Loss: 0.37374934554100037, Test Acc: 84.65%,Test Discrimination: 0.0008560606511309743\n",
      "Epoch 69, Train Loss: 0.3685159385204315, Train Acc: 85.15%, Train Discrimination: 0.0007745888433419168 Test Loss: 0.37340447306632996, Test Acc: 84.65%,Test Discrimination: 0.0008994358358904719\n",
      "Epoch 70, Train Loss: 0.36812320351600647, Train Acc: 85.13%, Train Discrimination: 0.0007945928373374045 Test Loss: 0.3730124235153198, Test Acc: 84.65%,Test Discrimination: 0.001104797818697989\n",
      "Epoch 71, Train Loss: 0.3677336573600769, Train Acc: 85.14%, Train Discrimination: 0.0009286943823099136 Test Loss: 0.37278279662132263, Test Acc: 84.52%,Test Discrimination: 0.0012691084994003177\n",
      "Epoch 72, Train Loss: 0.3674828112125397, Train Acc: 85.16%, Train Discrimination: 0.001043212483637035 Test Loss: 0.37259945273399353, Test Acc: 84.59%,Test Discrimination: 0.0013741642469540238\n",
      "Epoch 73, Train Loss: 0.36717408895492554, Train Acc: 85.19%, Train Discrimination: 0.0011125234887003899 Test Loss: 0.37236645817756653, Test Acc: 84.55%,Test Discrimination: 0.001368869561702013\n",
      "Epoch 74, Train Loss: 0.36671125888824463, Train Acc: 85.18%, Train Discrimination: 0.0011118415277451277 Test Loss: 0.3720979690551758, Test Acc: 84.55%,Test Discrimination: 0.0012756907381117344\n",
      "Epoch 75, Train Loss: 0.36643466353416443, Train Acc: 85.19%, Train Discrimination: 0.001074108644388616 Test Loss: 0.371977299451828, Test Acc: 84.62%,Test Discrimination: 0.0012722763931378722\n",
      "Epoch 76, Train Loss: 0.36627525091171265, Train Acc: 85.19%, Train Discrimination: 0.0010833574924618006 Test Loss: 0.3716795742511749, Test Acc: 84.55%,Test Discrimination: 0.0014075111830607057\n",
      "Epoch 77, Train Loss: 0.36591869592666626, Train Acc: 85.23%, Train Discrimination: 0.0011819760547950864 Test Loss: 0.3714655935764313, Test Acc: 84.52%,Test Discrimination: 0.0015820821281522512\n",
      "Epoch 78, Train Loss: 0.36559635400772095, Train Acc: 85.19%, Train Discrimination: 0.001293169567361474 Test Loss: 0.3713762164115906, Test Acc: 84.52%,Test Discrimination: 0.0016962619265541434\n",
      "Epoch 79, Train Loss: 0.3653877377510071, Train Acc: 85.19%, Train Discrimination: 0.0013381954049691558 Test Loss: 0.37106454372406006, Test Acc: 84.59%,Test Discrimination: 0.001646747812628746\n",
      "Epoch 80, Train Loss: 0.3650883138179779, Train Acc: 85.21%, Train Discrimination: 0.001293681445531547 Test Loss: 0.3705768287181854, Test Acc: 84.55%,Test Discrimination: 0.0014710237737745047\n",
      "Epoch 81, Train Loss: 0.3647095263004303, Train Acc: 85.20%, Train Discrimination: 0.0011847901623696089 Test Loss: 0.37023302912712097, Test Acc: 84.52%,Test Discrimination: 0.0012610468547791243\n",
      "Epoch 82, Train Loss: 0.36443081498146057, Train Acc: 85.22%, Train Discrimination: 0.001049684826284647 Test Loss: 0.3699932396411896, Test Acc: 84.49%,Test Discrimination: 0.0011488293530419469\n",
      "Epoch 83, Train Loss: 0.36417660117149353, Train Acc: 85.23%, Train Discrimination: 0.0009625774691812694 Test Loss: 0.3696725368499756, Test Acc: 84.46%,Test Discrimination: 0.0011514181969687343\n",
      "Epoch 84, Train Loss: 0.36383840441703796, Train Acc: 85.24%, Train Discrimination: 0.0009399809641763568 Test Loss: 0.36944934725761414, Test Acc: 84.52%,Test Discrimination: 0.0011928064050152898\n",
      "Epoch 85, Train Loss: 0.3635697662830353, Train Acc: 85.21%, Train Discrimination: 0.0009396776440553367 Test Loss: 0.3692409098148346, Test Acc: 84.49%,Test Discrimination: 0.0012060251319780946\n",
      "Epoch 86, Train Loss: 0.36330682039260864, Train Acc: 85.19%, Train Discrimination: 0.0009358940878883004 Test Loss: 0.3689526915550232, Test Acc: 84.43%,Test Discrimination: 0.0011684391647577286\n",
      "Epoch 87, Train Loss: 0.36297062039375305, Train Acc: 85.19%, Train Discrimination: 0.000926237553358078 Test Loss: 0.36877405643463135, Test Acc: 84.43%,Test Discrimination: 0.0011175808031111956\n",
      "Epoch 88, Train Loss: 0.3626748323440552, Train Acc: 85.21%, Train Discrimination: 0.0009161261841654778 Test Loss: 0.3686361610889435, Test Acc: 84.46%,Test Discrimination: 0.0011380197247490287\n",
      "Epoch 89, Train Loss: 0.3624041974544525, Train Acc: 85.22%, Train Discrimination: 0.0009430520585738122 Test Loss: 0.36835283041000366, Test Acc: 84.43%,Test Discrimination: 0.0012698841746896505\n",
      "Epoch 90, Train Loss: 0.3620641827583313, Train Acc: 85.16%, Train Discrimination: 0.0010256293462589383 Test Loss: 0.3681657612323761, Test Acc: 84.43%,Test Discrimination: 0.001405828632414341\n",
      "Epoch 91, Train Loss: 0.36180761456489563, Train Acc: 85.18%, Train Discrimination: 0.001105678267776966 Test Loss: 0.3679947853088379, Test Acc: 84.40%,Test Discrimination: 0.0014484439743682742\n",
      "Epoch 92, Train Loss: 0.3615400195121765, Train Acc: 85.15%, Train Discrimination: 0.001136993058025837 Test Loss: 0.367776095867157, Test Acc: 84.30%,Test Discrimination: 0.0013896562159061432\n",
      "Epoch 93, Train Loss: 0.36124178767204285, Train Acc: 85.15%, Train Discrimination: 0.0011149924248456955 Test Loss: 0.36762070655822754, Test Acc: 84.43%,Test Discrimination: 0.0013055999297648668\n",
      "Epoch 94, Train Loss: 0.3609783351421356, Train Acc: 85.19%, Train Discrimination: 0.0010723304003477097 Test Loss: 0.3674248158931732, Test Acc: 84.46%,Test Discrimination: 0.0012708919821307063\n",
      "Epoch 95, Train Loss: 0.36070483922958374, Train Acc: 85.22%, Train Discrimination: 0.001046380610205233 Test Loss: 0.36714839935302734, Test Acc: 84.43%,Test Discrimination: 0.0013297863770276308\n",
      "Epoch 96, Train Loss: 0.3604092001914978, Train Acc: 85.19%, Train Discrimination: 0.0010565415723249316 Test Loss: 0.3669542372226715, Test Acc: 84.49%,Test Discrimination: 0.0013338618446141481\n",
      "Epoch 97, Train Loss: 0.36016103625297546, Train Acc: 85.18%, Train Discrimination: 0.0010409156093373895 Test Loss: 0.3667616844177246, Test Acc: 84.52%,Test Discrimination: 0.0012468901695683599\n",
      "Epoch 98, Train Loss: 0.35986319184303284, Train Acc: 85.18%, Train Discrimination: 0.0009868807392194867 Test Loss: 0.3666377365589142, Test Acc: 84.46%,Test Discrimination: 0.0011612599482759833\n",
      "Epoch 99, Train Loss: 0.3596162796020508, Train Acc: 85.14%, Train Discrimination: 0.0009397960966452956 Test Loss: 0.3664533495903015, Test Acc: 84.55%,Test Discrimination: 0.0011760639026761055\n",
      "Epoch 100, Train Loss: 0.35934019088745117, Train Acc: 85.14%, Train Discrimination: 0.0009418022236786783 Test Loss: 0.36626988649368286, Test Acc: 84.59%,Test Discrimination: 0.0012558114249259233\n"
     ]
    }
   ],
   "source": [
    "model5 = BinaryClassifier(features.shape[1])\n",
    "optimizer = optim.Adam(model5.parameters(), lr=0.01)\n",
    "train_losses5, train_accuracies5, train_discriminations5,train_fairness5 = [], [], [],[]\n",
    "test_losses5, test_accuracies5, test_discriminations5,test_fairness5 = [], [], [],[]\n",
    "\n",
    "# Training loop\n",
    "model5.train()\n",
    "for epoch in range(100):\n",
    "    optimizer.zero_grad()\n",
    "    outputs = model5(features)\n",
    "    loss, discrimination = discrimination_loss(outputs, targets.squeeze(), sensitive_features, lambda_val=10, k=2)\n",
    "    train_accuracy = calculate_accuracy(outputs, targets.squeeze())\n",
    "    loss.backward()\n",
    "    optimizer.step()\n",
    "    \n",
    "    # Evaluation on test data\n",
    "    model5.eval()\n",
    "    with torch.no_grad():\n",
    "        test_outputs = model5(test_features)\n",
    "        test_loss,test_discrimination = discrimination_loss(test_outputs, test_targets.squeeze(), test_sensitive_features, lambda_val=10, k=2)\n",
    "        test_accuracy = calculate_accuracy(test_outputs, test_targets.squeeze())\n",
    "    \n",
    "    print(f'Epoch {epoch+1}, Train Loss: {loss.item()}, Train Acc: {train_accuracy.item()*100:.2f}%, Train Discrimination: {discrimination} '\n",
    "          f'Test Loss: {test_loss.item()}, Test Acc: {test_accuracy.item()*100:.2f}%,Test Discrimination: {test_discrimination}')\n",
    "    train_losses5.append(loss.item())\n",
    "    train_accuracies5.append(train_accuracy.item() * 100)\n",
    "    train_discriminations5.append(discrimination)\n",
    "    fairness=1-discrimination\n",
    "    train_fairness5.append(fairness)\n",
    "    test_fairness5.append(fairness)\n",
    "    test_losses5.append(test_loss.item())\n",
    "    test_accuracies5.append(test_accuracy.item() * 100)\n",
    "    test_discriminations5.append(test_discrimination)\n",
    "    model5.train()\n"
   ]
  },
  {
   "cell_type": "markdown",
   "metadata": {},
   "source": [
    "#### LAMBDA >> 1"
   ]
  },
  {
   "cell_type": "code",
   "execution_count": 10,
   "metadata": {},
   "outputs": [
    {
     "name": "stdout",
     "output_type": "stream",
     "text": [
      "Epoch 1, Train Loss: 0.7337751388549805, Train Acc: 62.83%, Train Discrimination: 0.0008777288603596389 Test Loss: 147.70858764648438, Test Acc: 50.60%,Test Discrimination: 0.9427163600921631\n",
      "Epoch 2, Train Loss: 97.17446899414062, Train Acc: 50.56%, Train Discrimination: 0.6176936626434326 Test Loss: 13.705608367919922, Test Acc: 51.23%,Test Discrimination: 0.17300979793071747\n",
      "Epoch 3, Train Loss: 11.584554672241211, Train Acc: 51.69%, Train Discrimination: 0.1452496200799942 Test Loss: 24.729219436645508, Test Acc: 64.18%,Test Discrimination: 0.38477006554603577\n",
      "Epoch 4, Train Loss: 14.460345268249512, Train Acc: 64.88%, Train Discrimination: 0.2236996293067932 Test Loss: 42.92346954345703, Test Acc: 62.95%,Test Discrimination: 0.562828004360199\n",
      "Epoch 5, Train Loss: 25.520246505737305, Train Acc: 63.80%, Train Discrimination: 0.33555302023887634 Test Loss: 41.004459381103516, Test Acc: 69.87%,Test Discrimination: 0.5177189111709595\n",
      "Epoch 6, Train Loss: 24.27086067199707, Train Acc: 71.00%, Train Discrimination: 0.30723440647125244 Test Loss: 31.80878257751465, Test Acc: 82.66%,Test Discrimination: 0.4171209931373596\n",
      "Epoch 7, Train Loss: 18.745887756347656, Train Acc: 82.86%, Train Discrimination: 0.24589690566062927 Test Loss: 21.033918380737305, Test Acc: 82.66%,Test Discrimination: 0.29868343472480774\n",
      "Epoch 8, Train Loss: 12.364784240722656, Train Acc: 82.87%, Train Discrimination: 0.17459888756275177 Test Loss: 11.201517105102539, Test Acc: 82.66%,Test Discrimination: 0.1749936193227768\n",
      "Epoch 9, Train Loss: 6.622124195098877, Train Acc: 82.87%, Train Discrimination: 0.10133015364408493 Test Loss: 3.786807060241699, Test Acc: 82.66%,Test Discrimination: 0.060590874403715134\n",
      "Epoch 10, Train Loss: 2.357923984527588, Train Acc: 82.87%, Train Discrimination: 0.034762781113386154 Test Loss: 0.5023853778839111, Test Acc: 82.60%,Test Discrimination: 6.776821464882232e-06\n",
      "Epoch 11, Train Loss: 0.49326223134994507, Train Acc: 82.82%, Train Discrimination: 2.6701563911046833e-06 Test Loss: 4.962185382843018, Test Acc: 79.66%,Test Discrimination: 0.08408452570438385\n",
      "Epoch 12, Train Loss: 3.0819883346557617, Train Acc: 80.24%, Train Discrimination: 0.0493791364133358 Test Loss: 6.8153228759765625, Test Acc: 77.67%,Test Discrimination: 0.11944323778152466\n",
      "Epoch 13, Train Loss: 4.065820217132568, Train Acc: 79.11%, Train Discrimination: 0.0685088112950325 Test Loss: 3.280791997909546, Test Acc: 81.65%,Test Discrimination: 0.05601540207862854\n",
      "Epoch 14, Train Loss: 1.9666231870651245, Train Acc: 82.37%, Train Discrimination: 0.030330149456858635 Test Loss: 1.093662142753601, Test Acc: 82.50%,Test Discrimination: 0.012326346710324287\n",
      "Epoch 15, Train Loss: 0.7718675136566162, Train Acc: 82.79%, Train Discrimination: 0.006097323726862669 Test Loss: 0.5504642724990845, Test Acc: 82.66%,Test Discrimination: 0.0007672111969441175\n",
      "Epoch 16, Train Loss: 0.5144298076629639, Train Acc: 82.88%, Train Discrimination: 0.000293860852252692 Test Loss: 0.5661700963973999, Test Acc: 82.66%,Test Discrimination: 0.00032477854983881116\n",
      "Epoch 17, Train Loss: 0.54709792137146, Train Acc: 82.87%, Train Discrimination: 0.00021256892068777233 Test Loss: 0.6880304217338562, Test Acc: 82.66%,Test Discrimination: 0.0016416939906775951\n",
      "Epoch 18, Train Loss: 0.6271690130233765, Train Acc: 82.87%, Train Discrimination: 0.0008643551263958216 Test Loss: 0.7941278219223022, Test Acc: 82.66%,Test Discrimination: 0.0025292381178587675\n",
      "Epoch 19, Train Loss: 0.6965041756629944, Train Acc: 82.87%, Train Discrimination: 0.0012511417735368013 Test Loss: 0.8659121990203857, Test Acc: 82.66%,Test Discrimination: 0.00284214923158288\n",
      "Epoch 20, Train Loss: 0.74785977602005, Train Acc: 82.87%, Train Discrimination: 0.0013559090439230204 Test Loss: 0.9104041457176208, Test Acc: 82.66%,Test Discrimination: 0.00279866810888052\n",
      "Epoch 21, Train Loss: 0.7849376797676086, Train Acc: 82.87%, Train Discrimination: 0.001297999988310039 Test Loss: 0.9365449547767639, Test Acc: 82.66%,Test Discrimination: 0.0025776466354727745\n",
      "Epoch 22, Train Loss: 0.8123477101325989, Train Acc: 82.87%, Train Discrimination: 0.001169454539194703 Test Loss: 0.9517862796783447, Test Acc: 82.66%,Test Discrimination: 0.002294830046594143\n",
      "Epoch 23, Train Loss: 0.8333396911621094, Train Acc: 82.87%, Train Discrimination: 0.0010208029998466372 Test Loss: 0.9606620669364929, Test Acc: 82.66%,Test Discrimination: 0.0020078516099601984\n",
      "Epoch 24, Train Loss: 0.8499842882156372, Train Acc: 82.87%, Train Discrimination: 0.0008766695973463356 Test Loss: 0.9658018946647644, Test Acc: 82.66%,Test Discrimination: 0.0017421480733901262\n",
      "Epoch 25, Train Loss: 0.8634739518165588, Train Acc: 82.87%, Train Discrimination: 0.0007468106341548264 Test Loss: 0.9687504172325134, Test Acc: 82.66%,Test Discrimination: 0.0015079935546964407\n",
      "Epoch 26, Train Loss: 0.8745309710502625, Train Acc: 82.87%, Train Discrimination: 0.0006344067514874041 Test Loss: 0.9702540636062622, Test Acc: 82.66%,Test Discrimination: 0.001306220074184239\n",
      "Epoch 27, Train Loss: 0.8835960626602173, Train Acc: 82.87%, Train Discrimination: 0.0005394726758822799 Test Loss: 0.9707046747207642, Test Acc: 82.66%,Test Discrimination: 0.0011345058446750045\n",
      "Epoch 28, Train Loss: 0.8908854722976685, Train Acc: 82.87%, Train Discrimination: 0.0004599617968779057 Test Loss: 0.9702918529510498, Test Acc: 82.66%,Test Discrimination: 0.0009893596870824695\n",
      "Epoch 29, Train Loss: 0.8965629935264587, Train Acc: 82.87%, Train Discrimination: 0.00039365782868117094 Test Loss: 0.9690747261047363, Test Acc: 82.66%,Test Discrimination: 0.0008667986840009689\n",
      "Epoch 30, Train Loss: 0.9007285833358765, Train Acc: 82.87%, Train Discrimination: 0.00033835440990515053 Test Loss: 0.967080295085907, Test Acc: 82.66%,Test Discrimination: 0.000763226649723947\n",
      "Epoch 31, Train Loss: 0.903468668460846, Train Acc: 82.87%, Train Discrimination: 0.0002921254781540483 Test Loss: 0.9643017053604126, Test Acc: 82.66%,Test Discrimination: 0.0006754588102921844\n",
      "Epoch 32, Train Loss: 0.9048555493354797, Train Acc: 82.87%, Train Discrimination: 0.00025327978073619306 Test Loss: 0.9607254266738892, Test Acc: 82.66%,Test Discrimination: 0.0006006340845488012\n",
      "Epoch 33, Train Loss: 0.9049672484397888, Train Acc: 82.87%, Train Discrimination: 0.00022047420497983694 Test Loss: 0.9563494920730591, Test Acc: 82.66%,Test Discrimination: 0.0005364019889384508\n",
      "Epoch 34, Train Loss: 0.9038729071617126, Train Acc: 82.87%, Train Discrimination: 0.00019258468819316477 Test Loss: 0.9511836171150208, Test Acc: 82.66%,Test Discrimination: 0.0004808420781046152\n",
      "Epoch 35, Train Loss: 0.901641309261322, Train Acc: 82.87%, Train Discrimination: 0.00016866083024069667 Test Loss: 0.9452443718910217, Test Acc: 82.66%,Test Discrimination: 0.00043239633669145405\n",
      "Epoch 36, Train Loss: 0.8983476161956787, Train Acc: 82.87%, Train Discrimination: 0.0001479627680964768 Test Loss: 0.9385572075843811, Test Acc: 82.66%,Test Discrimination: 0.00038976012729108334\n",
      "Epoch 37, Train Loss: 0.8940645456314087, Train Acc: 82.87%, Train Discrimination: 0.00012990253162570298 Test Loss: 0.9311528205871582, Test Acc: 82.66%,Test Discrimination: 0.0003518755256664008\n",
      "Epoch 38, Train Loss: 0.8888648748397827, Train Acc: 82.87%, Train Discrimination: 0.00011400187213439494 Test Loss: 0.9230630993843079, Test Acc: 82.66%,Test Discrimination: 0.00031784127349965274\n",
      "Epoch 39, Train Loss: 0.8828187584877014, Train Acc: 82.87%, Train Discrimination: 9.986857912736014e-05 Test Loss: 0.9143311381340027, Test Acc: 82.66%,Test Discrimination: 0.00028696845402009785\n",
      "Epoch 40, Train Loss: 0.8759945034980774, Train Acc: 82.87%, Train Discrimination: 8.718535536900163e-05 Test Loss: 0.9049921631813049, Test Acc: 82.66%,Test Discrimination: 0.0002586008922662586\n",
      "Epoch 41, Train Loss: 0.8684596419334412, Train Acc: 82.87%, Train Discrimination: 7.570938760181889e-05 Test Loss: 0.895089864730835, Test Acc: 82.66%,Test Discrimination: 0.00023226284247357398\n",
      "Epoch 42, Train Loss: 0.8602781295776367, Train Acc: 82.87%, Train Discrimination: 6.523653428303078e-05 Test Loss: 0.8846732974052429, Test Acc: 82.66%,Test Discrimination: 0.0002075654483633116\n",
      "Epoch 43, Train Loss: 0.8515142202377319, Train Acc: 82.87%, Train Discrimination: 5.561320358538069e-05 Test Loss: 0.8737926483154297, Test Acc: 82.66%,Test Discrimination: 0.00018421222921460867\n",
      "Epoch 44, Train Loss: 0.8422295451164246, Train Acc: 82.87%, Train Discrimination: 4.6727469452889636e-05 Test Loss: 0.8624942898750305, Test Acc: 82.66%,Test Discrimination: 0.00016193950432352722\n",
      "Epoch 45, Train Loss: 0.8324843645095825, Train Acc: 82.87%, Train Discrimination: 3.850551729556173e-05 Test Loss: 0.8508307337760925, Test Acc: 82.66%,Test Discrimination: 0.00014057106454856694\n",
      "Epoch 46, Train Loss: 0.8223392963409424, Train Acc: 82.87%, Train Discrimination: 3.093810300924815e-05 Test Loss: 0.8388525247573853, Test Acc: 82.66%,Test Discrimination: 0.000119993623229675\n",
      "Epoch 47, Train Loss: 0.8118521571159363, Train Acc: 82.87%, Train Discrimination: 2.4001283236430027e-05 Test Loss: 0.8266151547431946, Test Acc: 82.66%,Test Discrimination: 0.00010018079774454236\n",
      "Epoch 48, Train Loss: 0.8010803461074829, Train Acc: 82.87%, Train Discrimination: 1.7726506484905258e-05 Test Loss: 0.814179539680481, Test Acc: 82.66%,Test Discrimination: 8.120235725073144e-05\n",
      "Epoch 49, Train Loss: 0.790080726146698, Train Acc: 82.87%, Train Discrimination: 1.217724729940528e-05 Test Loss: 0.8016112446784973, Test Acc: 82.66%,Test Discrimination: 6.322727131191641e-05\n",
      "Epoch 50, Train Loss: 0.7789102792739868, Train Acc: 82.87%, Train Discrimination: 7.461876975867199e-06 Test Loss: 0.7889775633811951, Test Acc: 82.66%,Test Discrimination: 4.650656410376541e-05\n",
      "Epoch 51, Train Loss: 0.7676272988319397, Train Acc: 82.87%, Train Discrimination: 3.729496711457614e-06 Test Loss: 0.7763512134552002, Test Acc: 82.66%,Test Discrimination: 3.142309287795797e-05\n",
      "Epoch 52, Train Loss: 0.75629061460495, Train Acc: 82.87%, Train Discrimination: 1.1734086911019403e-06 Test Loss: 0.7638133764266968, Test Acc: 82.66%,Test Discrimination: 1.8489919966668822e-05\n",
      "Epoch 53, Train Loss: 0.7449593544006348, Train Acc: 82.87%, Train Discrimination: 3.329337516788655e-08 Test Loss: 0.7514533400535583, Test Acc: 82.66%,Test Discrimination: 8.380472536373418e-06\n",
      "Epoch 54, Train Loss: 0.7336952090263367, Train Acc: 82.87%, Train Discrimination: 6.02055081344588e-07 Test Loss: 0.7393662929534912, Test Acc: 82.66%,Test Discrimination: 1.9079907360719517e-06\n",
      "Epoch 55, Train Loss: 0.7225622534751892, Train Acc: 82.87%, Train Discrimination: 3.2295633900503162e-06 Test Loss: 0.727660059928894, Test Acc: 82.66%,Test Discrimination: 6.187040924032772e-08\n",
      "Epoch 56, Train Loss: 0.7116248607635498, Train Acc: 82.87%, Train Discrimination: 8.31159468361875e-06 Test Loss: 0.7164425253868103, Test Acc: 82.66%,Test Discrimination: 4.014005753560923e-06\n",
      "Epoch 57, Train Loss: 0.7009477615356445, Train Acc: 82.87%, Train Discrimination: 1.6293641238007694e-05 Test Loss: 0.7058325409889221, Test Acc: 82.66%,Test Discrimination: 1.512213384557981e-05\n",
      "Epoch 58, Train Loss: 0.6905984878540039, Train Acc: 82.87%, Train Discrimination: 2.7669932023854926e-05 Test Loss: 0.6959534883499146, Test Acc: 82.66%,Test Discrimination: 3.489514710963704e-05\n",
      "Epoch 59, Train Loss: 0.6806427240371704, Train Acc: 82.87%, Train Discrimination: 4.2948762711603194e-05 Test Loss: 0.6869333386421204, Test Acc: 82.66%,Test Discrimination: 6.499154551420361e-05\n",
      "Epoch 60, Train Loss: 0.6711447238922119, Train Acc: 82.87%, Train Discrimination: 6.264388503041118e-05 Test Loss: 0.6788972616195679, Test Acc: 82.66%,Test Discrimination: 0.00010709651542128995\n",
      "Epoch 61, Train Loss: 0.6621683239936829, Train Acc: 82.87%, Train Discrimination: 8.724344661459327e-05 Test Loss: 0.6719579100608826, Test Acc: 82.66%,Test Discrimination: 0.00016281509306281805\n",
      "Epoch 62, Train Loss: 0.6537678837776184, Train Acc: 82.87%, Train Discrimination: 0.0001171795156551525 Test Loss: 0.6662163138389587, Test Acc: 82.66%,Test Discrimination: 0.00023362826323136687\n",
      "Epoch 63, Train Loss: 0.6459891200065613, Train Acc: 82.87%, Train Discrimination: 0.0001527334825368598 Test Loss: 0.6617575883865356, Test Acc: 82.66%,Test Discrimination: 0.000320772232953459\n",
      "Epoch 64, Train Loss: 0.6388645768165588, Train Acc: 82.87%, Train Discrimination: 0.0001939975772984326 Test Loss: 0.6586251258850098, Test Acc: 82.66%,Test Discrimination: 0.00042493874207139015\n",
      "Epoch 65, Train Loss: 0.6324127912521362, Train Acc: 82.87%, Train Discrimination: 0.0002408023865427822 Test Loss: 0.656826913356781, Test Acc: 82.66%,Test Discrimination: 0.000546199269592762\n",
      "Epoch 66, Train Loss: 0.6266312003135681, Train Acc: 82.87%, Train Discrimination: 0.00029266535420902073 Test Loss: 0.6563186049461365, Test Acc: 82.66%,Test Discrimination: 0.0006837470573373139\n",
      "Epoch 67, Train Loss: 0.621490478515625, Train Acc: 82.87%, Train Discrimination: 0.0003486454370431602 Test Loss: 0.65700763463974, Test Acc: 82.66%,Test Discrimination: 0.000835900311358273\n",
      "Epoch 68, Train Loss: 0.6169363260269165, Train Acc: 82.87%, Train Discrimination: 0.0004073635791428387 Test Loss: 0.6587221622467041, Test Acc: 82.66%,Test Discrimination: 0.0009995136642828584\n",
      "Epoch 69, Train Loss: 0.6128877997398376, Train Acc: 82.87%, Train Discrimination: 0.00046697596553713083 Test Loss: 0.6612173318862915, Test Acc: 82.66%,Test Discrimination: 0.001170141389593482\n",
      "Epoch 70, Train Loss: 0.6092386245727539, Train Acc: 82.87%, Train Discrimination: 0.000525199924595654 Test Loss: 0.6642104387283325, Test Acc: 82.66%,Test Discrimination: 0.0013425209326669574\n",
      "Epoch 71, Train Loss: 0.6058590412139893, Train Acc: 82.87%, Train Discrimination: 0.0005793682066723704 Test Loss: 0.6673614978790283, Test Acc: 82.66%,Test Discrimination: 0.0015102524776011705\n",
      "Epoch 72, Train Loss: 0.6026008129119873, Train Acc: 82.87%, Train Discrimination: 0.0006265476113185287 Test Loss: 0.6702864170074463, Test Acc: 82.66%,Test Discrimination: 0.0016661733388900757\n",
      "Epoch 73, Train Loss: 0.5993184447288513, Train Acc: 82.87%, Train Discrimination: 0.0006639313069172204 Test Loss: 0.6725862622261047, Test Acc: 82.66%,Test Discrimination: 0.0018029118655249476\n",
      "Epoch 74, Train Loss: 0.595884382724762, Train Acc: 82.87%, Train Discrimination: 0.0006891405791975558 Test Loss: 0.6739107966423035, Test Acc: 82.66%,Test Discrimination: 0.0019138568313792348\n",
      "Epoch 75, Train Loss: 0.592164158821106, Train Acc: 82.87%, Train Discrimination: 0.0006998295430094004 Test Loss: 0.6739547848701477, Test Acc: 82.66%,Test Discrimination: 0.0019935215823352337\n",
      "Epoch 76, Train Loss: 0.5880541801452637, Train Acc: 82.87%, Train Discrimination: 0.0006943903863430023 Test Loss: 0.6724498867988586, Test Acc: 82.66%,Test Discrimination: 0.0020370290149003267\n",
      "Epoch 77, Train Loss: 0.5834587216377258, Train Acc: 82.87%, Train Discrimination: 0.0006717407959513366 Test Loss: 0.6692803502082825, Test Acc: 82.66%,Test Discrimination: 0.00204283045604825\n",
      "Epoch 78, Train Loss: 0.5783465504646301, Train Acc: 82.87%, Train Discrimination: 0.0006320743705146015 Test Loss: 0.6643062233924866, Test Acc: 82.66%,Test Discrimination: 0.002008766634389758\n",
      "Epoch 79, Train Loss: 0.5728306174278259, Train Acc: 82.87%, Train Discrimination: 0.0005782604566775262 Test Loss: 0.6576496958732605, Test Acc: 82.66%,Test Discrimination: 0.0019377903081476688\n",
      "Epoch 80, Train Loss: 0.5670146942138672, Train Acc: 82.87%, Train Discrimination: 0.0005131198558956385 Test Loss: 0.6497560143470764, Test Acc: 82.66%,Test Discrimination: 0.0018387543968856335\n",
      "Epoch 81, Train Loss: 0.561076283454895, Train Acc: 82.87%, Train Discrimination: 0.000440921081462875 Test Loss: 0.6410053968429565, Test Acc: 82.66%,Test Discrimination: 0.0017197427805513144\n",
      "Epoch 82, Train Loss: 0.5551994442939758, Train Acc: 82.87%, Train Discrimination: 0.0003661721129901707 Test Loss: 0.631704568862915, Test Acc: 82.66%,Test Discrimination: 0.0015874842647463083\n",
      "Epoch 83, Train Loss: 0.5495221018791199, Train Acc: 82.87%, Train Discrimination: 0.0002925824956037104 Test Loss: 0.622197151184082, Test Acc: 82.66%,Test Discrimination: 0.0014493765775114298\n",
      "Epoch 84, Train Loss: 0.5441811680793762, Train Acc: 82.87%, Train Discrimination: 0.00022379330766852945 Test Loss: 0.612784743309021, Test Acc: 82.66%,Test Discrimination: 0.0013120253570377827\n",
      "Epoch 85, Train Loss: 0.5392600893974304, Train Acc: 82.87%, Train Discrimination: 0.00016238470561802387 Test Loss: 0.6037147045135498, Test Acc: 82.66%,Test Discrimination: 0.0011809368152171373\n",
      "Epoch 86, Train Loss: 0.5348185896873474, Train Acc: 82.87%, Train Discrimination: 0.00011039303353754804 Test Loss: 0.5952105522155762, Test Acc: 82.66%,Test Discrimination: 0.0010610613971948624\n",
      "Epoch 87, Train Loss: 0.5308721661567688, Train Acc: 82.87%, Train Discrimination: 6.89051958033815e-05 Test Loss: 0.587401270866394, Test Acc: 82.66%,Test Discrimination: 0.0009555155993439257\n",
      "Epoch 88, Train Loss: 0.5273932814598083, Train Acc: 82.87%, Train Discrimination: 3.8069509173510596e-05 Test Loss: 0.5803853273391724, Test Acc: 82.66%,Test Discrimination: 0.0008667618967592716\n",
      "Epoch 89, Train Loss: 0.5243284702301025, Train Acc: 82.87%, Train Discrimination: 1.736480407998897e-05 Test Loss: 0.574255108833313, Test Acc: 82.66%,Test Discrimination: 0.0007969133439473808\n",
      "Epoch 90, Train Loss: 0.5215901732444763, Train Acc: 82.87%, Train Discrimination: 5.509143193194177e-06 Test Loss: 0.5690807104110718, Test Acc: 82.66%,Test Discrimination: 0.0007476985920220613\n",
      "Epoch 91, Train Loss: 0.5190672874450684, Train Acc: 82.87%, Train Discrimination: 5.750493414780067e-07 Test Loss: 0.5649270415306091, Test Acc: 82.66%,Test Discrimination: 0.0007205400615930557\n",
      "Epoch 92, Train Loss: 0.5166401267051697, Train Acc: 82.87%, Train Discrimination: 3.0752204338568845e-07 Test Loss: 0.5619106888771057, Test Acc: 82.66%,Test Discrimination: 0.0007177468505688012\n",
      "Epoch 93, Train Loss: 0.5141963958740234, Train Acc: 82.87%, Train Discrimination: 2.397710204604664e-06 Test Loss: 0.5601243376731873, Test Acc: 82.66%,Test Discrimination: 0.0007411245023831725\n",
      "Epoch 94, Train Loss: 0.5116443037986755, Train Acc: 82.87%, Train Discrimination: 4.775340585183585e-06 Test Loss: 0.5597253441810608, Test Acc: 82.66%,Test Discrimination: 0.0007935978937894106\n",
      "Epoch 95, Train Loss: 0.5089326500892639, Train Acc: 82.87%, Train Discrimination: 5.955008873570478e-06 Test Loss: 0.5608727335929871, Test Acc: 82.66%,Test Discrimination: 0.0008780290954746306\n",
      "Epoch 96, Train Loss: 0.5060632228851318, Train Acc: 82.88%, Train Discrimination: 5.317427167028654e-06 Test Loss: 0.5637471079826355, Test Acc: 82.66%,Test Discrimination: 0.000997726572677493\n",
      "Epoch 97, Train Loss: 0.5030943751335144, Train Acc: 82.88%, Train Discrimination: 3.2078426102088997e-06 Test Loss: 0.5684921145439148, Test Acc: 82.66%,Test Discrimination: 0.0011551526840776205\n",
      "Epoch 98, Train Loss: 0.50013267993927, Train Acc: 82.88%, Train Discrimination: 8.585026876062329e-07 Test Loss: 0.575136661529541, Test Acc: 82.66%,Test Discrimination: 0.001350446604192257\n",
      "Epoch 99, Train Loss: 0.49731355905532837, Train Acc: 82.88%, Train Discrimination: 5.3002601418938866e-08 Test Loss: 0.5835796594619751, Test Acc: 82.66%,Test Discrimination: 0.00158107269089669\n",
      "Epoch 100, Train Loss: 0.49477168917655945, Train Acc: 82.87%, Train Discrimination: 2.565287104516756e-06 Test Loss: 0.5934415459632874, Test Acc: 82.66%,Test Discrimination: 0.0018387797754257917\n"
     ]
    }
   ],
   "source": [
    "model6 = BinaryClassifier(features.shape[1])\n",
    "optimizer = optim.Adam(model6.parameters(), lr=0.01)\n",
    "train_losses6, train_accuracies6, train_discriminations6,train_fairness6 = [], [], [],[]\n",
    "test_losses6, test_accuracies6, test_discriminations6,test_fairness6 = [], [], [],[]\n",
    "\n",
    "# Training loop\n",
    "model6.train()\n",
    "for epoch in range(100):\n",
    "    optimizer.zero_grad()\n",
    "    outputs = model6(features)\n",
    "    loss, discrimination = discrimination_loss(outputs, targets.squeeze(), sensitive_features, lambda_val=100, k=2)\n",
    "    train_accuracy = calculate_accuracy(outputs, targets.squeeze())\n",
    "    loss.backward()\n",
    "    optimizer.step()\n",
    "    \n",
    "    # Evaluation on test data\n",
    "    model6.eval()\n",
    "    with torch.no_grad():\n",
    "        test_outputs = model6(test_features)\n",
    "        test_loss,test_discrimination = discrimination_loss(test_outputs, test_targets.squeeze(), test_sensitive_features, lambda_val=100, k=2)\n",
    "        test_accuracy = calculate_accuracy(test_outputs, test_targets.squeeze())\n",
    "    \n",
    "    print(f'Epoch {epoch+1}, Train Loss: {loss.item()}, Train Acc: {train_accuracy.item()*100:.2f}%, Train Discrimination: {discrimination} '\n",
    "          f'Test Loss: {test_loss.item()}, Test Acc: {test_accuracy.item()*100:.2f}%,Test Discrimination: {test_discrimination}')\n",
    "    train_losses6.append(loss.item())\n",
    "    train_accuracies6.append(train_accuracy.item() * 100)\n",
    "    train_discriminations6.append(discrimination)\n",
    "    fairness=1-discrimination\n",
    "    train_fairness6.append(fairness)\n",
    "    test_fairness6.append(fairness)\n",
    "    test_losses6.append(test_loss.item())\n",
    "    test_accuracies6.append(test_accuracy.item() * 100)\n",
    "    test_discriminations6.append(test_discrimination)\n",
    "    model6.train()\n",
    "\n"
   ]
  },
  {
   "cell_type": "markdown",
   "metadata": {},
   "source": [
    "#### MODEL ACCROSS DIFFERENT VALUES OF K"
   ]
  },
  {
   "cell_type": "markdown",
   "metadata": {},
   "source": [
    "### K=2"
   ]
  },
  {
   "cell_type": "code",
   "execution_count": 11,
   "metadata": {},
   "outputs": [
    {
     "name": "stdout",
     "output_type": "stream",
     "text": [
      "Epoch 1, Train Loss: 11.502778053283691, Train Acc: 82.87%, Train Discrimination: 0.17301660776138306 Test Loss: 97.62801361083984, Test Acc: 50.85%,Test Discrimination: 0.9923915266990662\n",
      "Epoch 2, Train Loss: 74.85464477539062, Train Acc: 50.84%, Train Discrimination: 0.7589302062988281 Test Loss: 1.8448865413665771, Test Acc: 82.66%,Test Discrimination: 0.02714366465806961\n",
      "Epoch 3, Train Loss: 0.9399725794792175, Train Acc: 82.87%, Train Discrimination: 0.009198581799864769 Test Loss: 12.709319114685059, Test Acc: 82.66%,Test Discrimination: 0.16618643701076508\n",
      "Epoch 4, Train Loss: 7.349886417388916, Train Acc: 82.87%, Train Discrimination: 0.09380106627941132 Test Loss: 15.005339622497559, Test Acc: 82.66%,Test Discrimination: 0.15238988399505615\n",
      "Epoch 5, Train Loss: 8.770332336425781, Train Acc: 82.87%, Train Discrimination: 0.08679691702127457 Test Loss: 12.97114086151123, Test Acc: 82.66%,Test Discrimination: 0.11009559780359268\n",
      "Epoch 6, Train Loss: 7.61027717590332, Train Acc: 82.87%, Train Discrimination: 0.06188783422112465 Test Loss: 9.634690284729004, Test Acc: 82.66%,Test Discrimination: 0.06981148570775986\n",
      "Epoch 7, Train Loss: 5.747023582458496, Train Acc: 82.87%, Train Discrimination: 0.03858695924282074 Test Loss: 6.60268497467041, Test Acc: 82.66%,Test Discrimination: 0.040058691054582596\n",
      "Epoch 8, Train Loss: 4.095236301422119, Train Acc: 82.87%, Train Discrimination: 0.02170586958527565 Test Loss: 4.446309566497803, Test Acc: 82.66%,Test Discrimination: 0.021295445039868355\n",
      "Epoch 9, Train Loss: 2.957548141479492, Train Acc: 82.87%, Train Discrimination: 0.011265521869063377 Test Loss: 3.1490418910980225, Test Acc: 82.66%,Test Discrimination: 0.010792357847094536\n",
      "Epoch 10, Train Loss: 2.308048725128174, Train Acc: 82.87%, Train Discrimination: 0.005570369306951761 Test Loss: 2.4627065658569336, Test Acc: 82.66%,Test Discrimination: 0.00538842286914587\n",
      "Epoch 11, Train Loss: 1.9914751052856445, Train Acc: 82.87%, Train Discrimination: 0.0027149564120918512 Test Loss: 2.131588935852051, Test Acc: 82.66%,Test Discrimination: 0.002724810503423214\n",
      "Epoch 12, Train Loss: 1.8588740825653076, Train Acc: 82.87%, Train Discrimination: 0.0013401496689766645 Test Loss: 1.9817067384719849, Test Acc: 82.66%,Test Discrimination: 0.0014177343109622598\n",
      "Epoch 13, Train Loss: 1.8140681982040405, Train Acc: 82.87%, Train Discrimination: 0.0006823477451689541 Test Loss: 1.918837308883667, Test Acc: 82.66%,Test Discrimination: 0.0007670555496588349\n",
      "Epoch 14, Train Loss: 1.8067387342453003, Train Acc: 82.87%, Train Discrimination: 0.0003621325013227761 Test Loss: 1.893247127532959, Test Acc: 82.66%,Test Discrimination: 0.00043474018457345665\n",
      "Epoch 15, Train Loss: 1.8109636306762695, Train Acc: 82.87%, Train Discrimination: 0.0002019541570916772 Test Loss: 1.8796888589859009, Test Acc: 82.66%,Test Discrimination: 0.00025881361216306686\n",
      "Epoch 16, Train Loss: 1.8139009475708008, Train Acc: 82.87%, Train Discrimination: 0.00011860653467010707 Test Loss: 1.8655905723571777, Test Acc: 82.66%,Test Discrimination: 0.0001618829119252041\n",
      "Epoch 17, Train Loss: 1.8093204498291016, Train Acc: 82.87%, Train Discrimination: 7.339371222769842e-05 Test Loss: 1.8445168733596802, Test Acc: 82.66%,Test Discrimination: 0.00010633034253260121\n",
      "Epoch 18, Train Loss: 1.7941044569015503, Train Acc: 82.87%, Train Discrimination: 4.783655094797723e-05 Test Loss: 1.8131147623062134, Test Acc: 82.66%,Test Discrimination: 7.32272892491892e-05\n",
      "Epoch 19, Train Loss: 1.766666054725647, Train Acc: 82.87%, Train Discrimination: 3.2803975045681e-05 Test Loss: 1.7696517705917358, Test Acc: 82.66%,Test Discrimination: 5.2839674026472494e-05\n",
      "Epoch 20, Train Loss: 1.7261782884597778, Train Acc: 82.87%, Train Discrimination: 2.364462307014037e-05 Test Loss: 1.713234305381775, Test Acc: 82.66%,Test Discrimination: 3.985123839811422e-05\n",
      "Epoch 21, Train Loss: 1.6722664833068848, Train Acc: 82.87%, Train Discrimination: 1.7888316506287083e-05 Test Loss: 1.6433889865875244, Test Acc: 82.66%,Test Discrimination: 3.1235238566296175e-05\n",
      "Epoch 22, Train Loss: 1.6047048568725586, Train Acc: 82.87%, Train Discrimination: 1.4148865375318564e-05 Test Loss: 1.5597593784332275, Test Acc: 82.66%,Test Discrimination: 2.5218998416676186e-05\n",
      "Epoch 23, Train Loss: 1.5234211683273315, Train Acc: 82.87%, Train Discrimination: 1.1655604794214014e-05 Test Loss: 1.4622586965560913, Test Acc: 82.66%,Test Discrimination: 2.0546365703921765e-05\n",
      "Epoch 24, Train Loss: 1.4284220933914185, Train Acc: 82.87%, Train Discrimination: 9.862404112936929e-06 Test Loss: 1.3508611917495728, Test Acc: 82.66%,Test Discrimination: 1.5693236491642892e-05\n",
      "Epoch 25, Train Loss: 1.3198037147521973, Train Acc: 82.87%, Train Discrimination: 8.25591996544972e-06 Test Loss: 1.2257431745529175, Test Acc: 82.66%,Test Discrimination: 8.662977961648721e-06\n",
      "Epoch 26, Train Loss: 1.1978477239608765, Train Acc: 82.87%, Train Discrimination: 5.964524007140426e-06 Test Loss: 1.088134765625, Test Acc: 82.66%,Test Discrimination: 1.689111286395928e-07\n",
      "Epoch 27, Train Loss: 1.0634479522705078, Train Acc: 82.87%, Train Discrimination: 1.93965161088272e-06 Test Loss: 0.9464603662490845, Test Acc: 82.66%,Test Discrimination: 4.765166886500083e-05\n",
      "Epoch 28, Train Loss: 0.9200997948646545, Train Acc: 82.87%, Train Discrimination: 2.6369625629740767e-06 Test Loss: 0.862384021282196, Test Acc: 82.66%,Test Discrimination: 0.0008467012085020542\n",
      "Epoch 29, Train Loss: 0.7849079966545105, Train Acc: 82.87%, Train Discrimination: 0.00011907599400728941 Test Loss: 1.261802315711975, Test Acc: 82.69%,Test Discrimination: 0.00871231034398079\n",
      "Epoch 30, Train Loss: 0.7626882195472717, Train Acc: 82.88%, Train Discrimination: 0.0016079677734524012 Test Loss: 2.734428882598877, Test Acc: 80.76%,Test Discrimination: 0.03293630853295326\n",
      "Epoch 31, Train Loss: 1.0318825244903564, Train Acc: 81.70%, Train Discrimination: 0.006625543814152479 Test Loss: 1.9795269966125488, Test Acc: 81.93%,Test Discrimination: 0.020660104230046272\n",
      "Epoch 32, Train Loss: 0.7806577086448669, Train Acc: 82.41%, Train Discrimination: 0.002399299992248416 Test Loss: 1.2358115911483765, Test Acc: 82.60%,Test Discrimination: 0.008463354781270027\n",
      "Epoch 33, Train Loss: 0.6590266227722168, Train Acc: 82.88%, Train Discrimination: 8.903830894269049e-05 Test Loss: 0.945432722568512, Test Acc: 82.63%,Test Discrimination: 0.0035549255553632975\n",
      "Epoch 34, Train Loss: 0.6966146230697632, Train Acc: 82.87%, Train Discrimination: 0.0002294708974659443 Test Loss: 0.8508744239807129, Test Acc: 82.66%,Test Discrimination: 0.0018394060898572206\n",
      "Epoch 35, Train Loss: 0.7432819604873657, Train Acc: 82.90%, Train Discrimination: 0.0005906200967729092 Test Loss: 0.8155642747879028, Test Acc: 82.66%,Test Discrimination: 0.001128811971284449\n",
      "Epoch 36, Train Loss: 0.7664533257484436, Train Acc: 82.88%, Train Discrimination: 0.0007073651649989188 Test Loss: 0.799813985824585, Test Acc: 82.66%,Test Discrimination: 0.0007773170946165919\n",
      "Epoch 37, Train Loss: 0.7733997702598572, Train Acc: 82.88%, Train Discrimination: 0.0006677533383481205 Test Loss: 0.791659951210022, Test Acc: 82.66%,Test Discrimination: 0.0005871991743333638\n",
      "Epoch 38, Train Loss: 0.7724012732505798, Train Acc: 82.88%, Train Discrimination: 0.0005730924312956631 Test Loss: 0.7860363721847534, Test Acc: 82.66%,Test Discrimination: 0.0004906628746539354\n",
      "Epoch 39, Train Loss: 0.7670770287513733, Train Acc: 82.87%, Train Discrimination: 0.0004784267221111804 Test Loss: 0.780144214630127, Test Acc: 82.66%,Test Discrimination: 0.000470739760203287\n",
      "Epoch 40, Train Loss: 0.7571285963058472, Train Acc: 82.87%, Train Discrimination: 0.00040041000465862453 Test Loss: 0.7733504772186279, Test Acc: 82.66%,Test Discrimination: 0.0005437172949314117\n",
      "Epoch 41, Train Loss: 0.7402954697608948, Train Acc: 82.87%, Train Discrimination: 0.000330745882820338 Test Loss: 0.7688993811607361, Test Acc: 82.66%,Test Discrimination: 0.0007772590033710003\n",
      "Epoch 42, Train Loss: 0.7141923904418945, Train Acc: 82.88%, Train Discrimination: 0.0002480920229572803 Test Loss: 0.7793289422988892, Test Acc: 82.66%,Test Discrimination: 0.0013731596991419792\n",
      "Epoch 43, Train Loss: 0.6778640747070312, Train Acc: 82.88%, Train Discrimination: 0.00013017462333664298 Test Loss: 0.841877281665802, Test Acc: 82.66%,Test Discrimination: 0.00293811596930027\n",
      "Epoch 44, Train Loss: 0.6356533169746399, Train Acc: 82.89%, Train Discrimination: 6.90191291141673e-06 Test Loss: 1.056716799736023, Test Acc: 82.66%,Test Discrimination: 0.007190479896962643\n",
      "Epoch 45, Train Loss: 0.6136364340782166, Train Acc: 82.88%, Train Discrimination: 0.00022802625608164817 Test Loss: 1.492058515548706, Test Acc: 82.47%,Test Discrimination: 0.01533346064388752\n",
      "Epoch 46, Train Loss: 0.6667546629905701, Train Acc: 82.83%, Train Discrimination: 0.0015969204250723124 Test Loss: 1.4541691541671753, Test Acc: 82.47%,Test Discrimination: 0.014894722029566765\n",
      "Epoch 47, Train Loss: 0.6540158987045288, Train Acc: 82.83%, Train Discrimination: 0.0014667707728222013 Test Loss: 1.105063557624817, Test Acc: 82.63%,Test Discrimination: 0.008678960613906384\n",
      "Epoch 48, Train Loss: 0.5991550087928772, Train Acc: 82.84%, Train Discrimination: 0.00037155242171138525 Test Loss: 0.8816778659820557, Test Acc: 82.69%,Test Discrimination: 0.004606309346854687\n",
      "Epoch 49, Train Loss: 0.590046226978302, Train Acc: 82.88%, Train Discrimination: 9.106115612667054e-06 Test Loss: 0.783469021320343, Test Acc: 82.69%,Test Discrimination: 0.0028021966572850943\n",
      "Epoch 50, Train Loss: 0.600680947303772, Train Acc: 82.90%, Train Discrimination: 4.816555883735418e-05 Test Loss: 0.7434816360473633, Test Acc: 82.66%,Test Discrimination: 0.0021307729184627533\n",
      "Epoch 51, Train Loss: 0.6082007884979248, Train Acc: 82.89%, Train Discrimination: 0.00015653482114430517 Test Loss: 0.7325331568717957, Test Acc: 82.66%,Test Discrimination: 0.0020890007726848125\n",
      "Epoch 52, Train Loss: 0.6053754687309265, Train Acc: 82.90%, Train Discrimination: 0.00022272902424447238 Test Loss: 0.749066948890686, Test Acc: 82.69%,Test Discrimination: 0.002645935630425811\n",
      "Epoch 53, Train Loss: 0.5905271172523499, Train Acc: 82.90%, Train Discrimination: 0.00019831236568279564 Test Loss: 0.816007673740387, Test Acc: 82.69%,Test Discrimination: 0.00421041389927268\n",
      "Epoch 54, Train Loss: 0.5657631754875183, Train Acc: 82.86%, Train Discrimination: 7.456707680830732e-05 Test Loss: 0.9885481595993042, Test Acc: 82.56%,Test Discrimination: 0.007801238913089037\n",
      "Epoch 55, Train Loss: 0.5441609025001526, Train Acc: 82.82%, Train Discrimination: 1.3103419405524619e-05 Test Loss: 1.2983542680740356, Test Acc: 82.56%,Test Discrimination: 0.013996199704706669\n",
      "Epoch 56, Train Loss: 0.554533839225769, Train Acc: 82.75%, Train Discrimination: 0.0004630765470210463 Test Loss: 1.4166091680526733, Test Acc: 82.38%,Test Discrimination: 0.016511525958776474\n",
      "Epoch 57, Train Loss: 0.5641502141952515, Train Acc: 82.65%, Train Discrimination: 0.0007725447067059577 Test Loss: 1.1234673261642456, Test Acc: 82.60%,Test Discrimination: 0.011057033203542233\n",
      "Epoch 58, Train Loss: 0.5311522483825684, Train Acc: 82.78%, Train Discrimination: 0.00016078980115707964 Test Loss: 0.8720368146896362, Test Acc: 82.63%,Test Discrimination: 0.006254473701119423\n",
      "Epoch 59, Train Loss: 0.5260108113288879, Train Acc: 82.82%, Train Discrimination: 1.127750874729827e-05 Test Loss: 0.7577694058418274, Test Acc: 82.72%,Test Discrimination: 0.004087712150067091\n",
      "Epoch 60, Train Loss: 0.5343807935714722, Train Acc: 82.84%, Train Discrimination: 0.00014595338143408298 Test Loss: 0.7245643734931946, Test Acc: 82.72%,Test Discrimination: 0.0035628017503768206\n",
      "Epoch 61, Train Loss: 0.5334599614143372, Train Acc: 82.85%, Train Discrimination: 0.0001972812897292897 Test Loss: 0.7495942115783691, Test Acc: 82.72%,Test Discrimination: 0.004272035788744688\n",
      "Epoch 62, Train Loss: 0.5194762349128723, Train Acc: 82.83%, Train Discrimination: 9.708348079584539e-05 Test Loss: 0.8456710577011108, Test Acc: 82.69%,Test Discrimination: 0.006481260992586613\n",
      "Epoch 63, Train Loss: 0.5029526352882385, Train Acc: 82.82%, Train Discrimination: 4.1151579921461234e-07 Test Loss: 1.0068140029907227, Test Acc: 82.60%,Test Discrimination: 0.010055311024188995\n",
      "Epoch 64, Train Loss: 0.5033338665962219, Train Acc: 82.85%, Train Discrimination: 0.0002209003287134692 Test Loss: 1.0654938220977783, Test Acc: 82.50%,Test Discrimination: 0.01151558943092823\n",
      "Epoch 65, Train Loss: 0.5076720118522644, Train Acc: 82.84%, Train Discrimination: 0.0004459667834453285 Test Loss: 0.9044359922409058, Test Acc: 82.63%,Test Discrimination: 0.008338984102010727\n",
      "Epoch 66, Train Loss: 0.4907548725605011, Train Acc: 82.86%, Train Discrimination: 0.0001434332225471735 Test Loss: 0.7371153831481934, Test Acc: 82.72%,Test Discrimination: 0.004916294943541288\n",
      "Epoch 67, Train Loss: 0.4845231771469116, Train Acc: 82.84%, Train Discrimination: 3.2980986475195095e-07 Test Loss: 0.6529417037963867, Test Acc: 82.72%,Test Discrimination: 0.003216153010725975\n",
      "Epoch 68, Train Loss: 0.48736774921417236, Train Acc: 82.88%, Train Discrimination: 6.453973765019327e-05 Test Loss: 0.6304998397827148, Test Acc: 82.75%,Test Discrimination: 0.0028716661036014557\n",
      "Epoch 69, Train Loss: 0.4840054214000702, Train Acc: 82.87%, Train Discrimination: 8.033223275560886e-05 Test Loss: 0.657002329826355, Test Acc: 82.75%,Test Discrimination: 0.003642500378191471\n",
      "Epoch 70, Train Loss: 0.4728347361087799, Train Acc: 82.86%, Train Discrimination: 1.1646275197563227e-05 Test Loss: 0.7328601479530334, Test Acc: 82.66%,Test Discrimination: 0.005526407156139612\n",
      "Epoch 71, Train Loss: 0.4657151401042938, Train Acc: 82.90%, Train Discrimination: 5.2668587159132585e-05 Test Loss: 0.8011527061462402, Test Acc: 82.63%,Test Discrimination: 0.007238347548991442\n",
      "Epoch 72, Train Loss: 0.4681801199913025, Train Acc: 82.89%, Train Discrimination: 0.0002559275890234858 Test Loss: 0.7464896440505981, Test Acc: 82.60%,Test Discrimination: 0.006177850533276796\n",
      "Epoch 73, Train Loss: 0.460642009973526, Train Acc: 82.92%, Train Discrimination: 0.00016286737809423357 Test Loss: 0.6322218179702759, Test Acc: 82.69%,Test Discrimination: 0.0037159828934818506\n",
      "Epoch 74, Train Loss: 0.4527052640914917, Train Acc: 82.96%, Train Discrimination: 2.553129434090806e-06 Test Loss: 0.5637261867523193, Test Acc: 82.69%,Test Discrimination: 0.0022534606978297234\n",
      "Epoch 75, Train Loss: 0.45366033911705017, Train Acc: 82.95%, Train Discrimination: 4.522018934949301e-05 Test Loss: 0.5486964583396912, Test Acc: 82.72%,Test Discrimination: 0.002032693475484848\n",
      "Epoch 76, Train Loss: 0.450121134519577, Train Acc: 82.98%, Train Discrimination: 5.260371835902333e-05 Test Loss: 0.5802268981933594, Test Acc: 82.63%,Test Discrimination: 0.0029163400176912546\n",
      "Epoch 77, Train Loss: 0.4414689838886261, Train Acc: 82.97%, Train Discrimination: 1.8997303641299368e-07 Test Loss: 0.6368285417556763, Test Acc: 82.69%,Test Discrimination: 0.004380000289529562\n",
      "Epoch 78, Train Loss: 0.4407993257045746, Train Acc: 82.98%, Train Discrimination: 0.0001183502608910203 Test Loss: 0.6220214366912842, Test Acc: 82.69%,Test Discrimination: 0.004157363902777433\n",
      "Epoch 79, Train Loss: 0.4379572868347168, Train Acc: 83.02%, Train Discrimination: 0.00012945730122737586 Test Loss: 0.5385677814483643, Test Acc: 82.66%,Test Discrimination: 0.002285404596477747\n",
      "Epoch 80, Train Loss: 0.43125689029693604, Train Acc: 83.01%, Train Discrimination: 6.824748766121047e-07 Test Loss: 0.48954135179519653, Test Acc: 82.66%,Test Discrimination: 0.00119632831774652\n",
      "Epoch 81, Train Loss: 0.43218278884887695, Train Acc: 82.99%, Train Discrimination: 5.084833173896186e-05 Test Loss: 0.4876646101474762, Test Acc: 82.75%,Test Discrimination: 0.0012494766851887107\n",
      "Epoch 82, Train Loss: 0.4273759722709656, Train Acc: 83.05%, Train Discrimination: 2.056369703495875e-05 Test Loss: 0.5203431844711304, Test Acc: 83.07%,Test Discrimination: 0.0021443103905767202\n",
      "Epoch 83, Train Loss: 0.4234869182109833, Train Acc: 83.13%, Train Discrimination: 3.694975021062419e-05 Test Loss: 0.5268775820732117, Test Acc: 83.26%,Test Discrimination: 0.002392866648733616\n",
      "Epoch 84, Train Loss: 0.4235509932041168, Train Acc: 83.16%, Train Discrimination: 0.00011209986405447125 Test Loss: 0.472841739654541, Test Acc: 83.32%,Test Discrimination: 0.0011452526086941361\n",
      "Epoch 85, Train Loss: 0.41788339614868164, Train Acc: 83.19%, Train Discrimination: 2.27630403060175e-06 Test Loss: 0.4413682222366333, Test Acc: 83.26%,Test Discrimination: 0.0004203100688755512\n",
      "Epoch 86, Train Loss: 0.4185847342014313, Train Acc: 83.20%, Train Discrimination: 3.925264536519535e-05 Test Loss: 0.4416569769382477, Test Acc: 83.39%,Test Discrimination: 0.0005011736648157239\n",
      "Epoch 87, Train Loss: 0.4143393933773041, Train Acc: 83.30%, Train Discrimination: 4.66719984615338e-06 Test Loss: 0.4586576819419861, Test Acc: 83.42%,Test Discrimination: 0.001004473422653973\n",
      "Epoch 88, Train Loss: 0.4132719933986664, Train Acc: 83.43%, Train Discrimination: 6.266452692216262e-05 Test Loss: 0.44605332612991333, Test Acc: 83.45%,Test Discrimination: 0.0007460777997039258\n",
      "Epoch 89, Train Loss: 0.41111719608306885, Train Acc: 83.51%, Train Discrimination: 5.172337114345282e-05 Test Loss: 0.4211537837982178, Test Acc: 83.29%,Test Discrimination: 0.0001428627292625606\n",
      "Epoch 90, Train Loss: 0.40912312269210815, Train Acc: 83.53%, Train Discrimination: 5.90167474001646e-06 Test Loss: 0.4159490168094635, Test Acc: 83.45%,Test Discrimination: 4.508201527642086e-05\n",
      "Epoch 91, Train Loss: 0.40839627385139465, Train Acc: 83.52%, Train Discrimination: 1.6913245417526923e-05 Test Loss: 0.41931313276290894, Test Acc: 83.42%,Test Discrimination: 0.00020248904183972627\n",
      "Epoch 92, Train Loss: 0.4056599736213684, Train Acc: 83.62%, Train Discrimination: 1.958765096787829e-05 Test Loss: 0.41937628388404846, Test Acc: 83.42%,Test Discrimination: 0.00025284747243858874\n",
      "Epoch 93, Train Loss: 0.40571630001068115, Train Acc: 83.68%, Train Discrimination: 6.678313366137445e-05 Test Loss: 0.4099075198173523, Test Acc: 83.48%,Test Discrimination: 1.2308375517022796e-05\n",
      "Epoch 94, Train Loss: 0.4031868278980255, Train Acc: 83.72%, Train Discrimination: 8.564917663989036e-08 Test Loss: 0.40976735949516296, Test Acc: 83.51%,Test Discrimination: 1.3800180568068754e-05\n",
      "Epoch 95, Train Loss: 0.40340203046798706, Train Acc: 83.73%, Train Discrimination: 1.2755685929732863e-05 Test Loss: 0.40702271461486816, Test Acc: 83.45%,Test Discrimination: 5.072902695246739e-06\n",
      "Epoch 96, Train Loss: 0.4011414051055908, Train Acc: 83.75%, Train Discrimination: 1.0847825251403265e-05 Test Loss: 0.4062168598175049, Test Acc: 83.51%,Test Discrimination: 2.714608854148537e-05\n",
      "Epoch 97, Train Loss: 0.40143197774887085, Train Acc: 83.85%, Train Discrimination: 5.72408243897371e-05 Test Loss: 0.40675902366638184, Test Acc: 83.51%,Test Discrimination: 2.6187339244643226e-05\n",
      "Epoch 98, Train Loss: 0.399584025144577, Train Acc: 83.87%, Train Discrimination: 4.2364831642771605e-07 Test Loss: 0.4103749990463257, Test Acc: 83.48%,Test Discrimination: 0.00011644834012258798\n",
      "Epoch 99, Train Loss: 0.39973658323287964, Train Acc: 83.88%, Train Discrimination: 6.631751148233889e-06 Test Loss: 0.40439897775650024, Test Acc: 83.54%,Test Discrimination: 1.9978684576926753e-05\n",
      "Epoch 100, Train Loss: 0.3982965350151062, Train Acc: 83.99%, Train Discrimination: 1.664589399297256e-05 Test Loss: 0.4029882252216339, Test Acc: 83.67%,Test Discrimination: 1.0981729246850591e-05\n"
     ]
    }
   ],
   "source": [
    "model7 = BinaryClassifier(features.shape[1])\n",
    "optimizer = optim.Adam(model7.parameters(), lr=0.01)\n",
    "train_losses7, train_accuracies7, train_discriminations7,train_fairness7 = [], [], [],[]\n",
    "test_losses7, test_accuracies7, test_discriminations7,test_fairness7 = [], [], [],[]\n",
    "\n",
    "# Training loop\n",
    "model7.train()\n",
    "for epoch in range(100):\n",
    "    optimizer.zero_grad()\n",
    "    outputs = model7(features)\n",
    "    loss, discrimination = discrimination_loss(outputs, targets.squeeze(), sensitive_features, lambda_val=100, k=2)\n",
    "    train_accuracy = calculate_accuracy(outputs, targets.squeeze())\n",
    "    loss.backward()\n",
    "    optimizer.step()\n",
    "    \n",
    "    # Evaluation on test data\n",
    "    model7.eval()\n",
    "    with torch.no_grad():\n",
    "        test_outputs = model7(test_features)\n",
    "        test_loss,test_discrimination = discrimination_loss(test_outputs, test_targets.squeeze(), test_sensitive_features, lambda_val=100, k=2)\n",
    "        test_accuracy = calculate_accuracy(test_outputs, test_targets.squeeze())\n",
    "    \n",
    "    print(f'Epoch {epoch+1}, Train Loss: {loss.item()}, Train Acc: {train_accuracy.item()*100:.2f}%, Train Discrimination: {discrimination} '\n",
    "          f'Test Loss: {test_loss.item()}, Test Acc: {test_accuracy.item()*100:.2f}%,Test Discrimination: {test_discrimination}')\n",
    "    train_losses7.append(loss.item())\n",
    "    train_accuracies7.append(train_accuracy.item() * 100)\n",
    "    train_discriminations7.append(discrimination)\n",
    "    fairness=1-discrimination\n",
    "    train_fairness7.append(fairness)\n",
    "    test_fairness7.append(fairness)\n",
    "    test_losses7.append(test_loss.item())\n",
    "    test_accuracies7.append(test_accuracy.item() * 100)\n",
    "    test_discriminations7.append(test_discrimination)\n",
    "    model7.train()\n",
    "\n",
    "\n"
   ]
  },
  {
   "cell_type": "markdown",
   "metadata": {},
   "source": [
    "### K=3"
   ]
  },
  {
   "cell_type": "code",
   "execution_count": 12,
   "metadata": {},
   "outputs": [
    {
     "name": "stdout",
     "output_type": "stream",
     "text": [
      "Epoch 1, Train Loss: 1.7789134979248047, Train Acc: 17.13%, Train Discrimination: 0.005894949659705162 Test Loss: -11.303778648376465, Test Acc: 57.71%,Test Discrimination: -0.13165916502475739\n",
      "Epoch 2, Train Loss: -5.359508037567139, Train Acc: 57.98%, Train Discrimination: -0.06815020740032196 Test Loss: -37.331298828125, Test Acc: 56.79%,Test Discrimination: -0.2463148832321167\n",
      "Epoch 3, Train Loss: -17.097667694091797, Train Acc: 56.61%, Train Discrimination: -0.1192392110824585 Test Loss: -82.96578216552734, Test Acc: 52.65%,Test Discrimination: -0.364091157913208\n",
      "Epoch 4, Train Loss: -38.91627883911133, Train Acc: 52.60%, Train Discrimination: -0.1773332953453064 Test Loss: -136.23008728027344, Test Acc: 49.43%,Test Discrimination: -0.4250484108924866\n",
      "Epoch 5, Train Loss: -64.56844329833984, Train Acc: 49.67%, Train Discrimination: -0.20796793699264526 Test Loss: -193.1113739013672, Test Acc: 49.37%,Test Discrimination: -0.4506971836090088\n",
      "Epoch 6, Train Loss: -91.29541778564453, Train Acc: 49.59%, Train Discrimination: -0.219757080078125 Test Loss: -263.23779296875, Test Acc: 50.47%,Test Discrimination: -0.48558345437049866\n",
      "Epoch 7, Train Loss: -123.9818115234375, Train Acc: 50.91%, Train Discrimination: -0.23579621315002441 Test Loss: -333.0126953125, Test Acc: 52.08%,Test Discrimination: -0.4964042901992798\n",
      "Epoch 8, Train Loss: -158.73411560058594, Train Acc: 52.30%, Train Discrimination: -0.2438712865114212 Test Loss: -413.9197692871094, Test Acc: 51.64%,Test Discrimination: -0.5114047527313232\n",
      "Epoch 9, Train Loss: -198.3525390625, Train Acc: 51.93%, Train Discrimination: -0.2523142099380493 Test Loss: -497.409912109375, Test Acc: 50.47%,Test Discrimination: -0.5225104093551636\n",
      "Epoch 10, Train Loss: -238.92221069335938, Train Acc: 50.94%, Train Discrimination: -0.25812122225761414 Test Loss: -984.4911499023438, Test Acc: 50.44%,Test Discrimination: -0.5351030826568604\n",
      "Epoch 11, Train Loss: -494.87371826171875, Train Acc: 50.92%, Train Discrimination: -0.2671630382537842 Test Loss: -1690.4241943359375, Test Acc: 52.87%,Test Discrimination: -0.5461664795875549\n",
      "Epoch 12, Train Loss: -838.7073974609375, Train Acc: 52.94%, Train Discrimination: -0.27901262044906616 Test Loss: -1954.870361328125, Test Acc: 52.05%,Test Discrimination: -0.5752745270729065\n",
      "Epoch 13, Train Loss: -989.7108154296875, Train Acc: 52.05%, Train Discrimination: -0.2972032129764557 Test Loss: -2059.573974609375, Test Acc: 51.04%,Test Discrimination: -0.5989665985107422\n",
      "Epoch 14, Train Loss: -1048.9317626953125, Train Acc: 51.37%, Train Discrimination: -0.3111550807952881 Test Loss: -2054.056640625, Test Acc: 53.79%,Test Discrimination: -0.5908477306365967\n",
      "Epoch 15, Train Loss: -1058.8665771484375, Train Acc: 53.61%, Train Discrimination: -0.3109321892261505 Test Loss: -2252.9453125, Test Acc: 52.05%,Test Discrimination: -0.6457189917564392\n",
      "Epoch 16, Train Loss: -1162.03466796875, Train Acc: 52.20%, Train Discrimination: -0.3393656611442566 Test Loss: -2226.323974609375, Test Acc: 51.30%,Test Discrimination: -0.6359967589378357\n",
      "Epoch 17, Train Loss: -1141.1805419921875, Train Acc: 51.37%, Train Discrimination: -0.33212411403656006 Test Loss: -2337.084716796875, Test Acc: 52.72%,Test Discrimination: -0.663536787033081\n",
      "Epoch 18, Train Loss: -1211.9705810546875, Train Acc: 52.86%, Train Discrimination: -0.35051262378692627 Test Loss: -2289.7294921875, Test Acc: 53.66%,Test Discrimination: -0.646994948387146\n",
      "Epoch 19, Train Loss: -1201.333740234375, Train Acc: 53.41%, Train Discrimination: -0.34584206342697144 Test Loss: -2429.0146484375, Test Acc: 52.56%,Test Discrimination: -0.6838803887367249\n",
      "Epoch 20, Train Loss: -1250.731201171875, Train Acc: 52.46%, Train Discrimination: -0.3583925664424896 Test Loss: -2434.127197265625, Test Acc: 51.83%,Test Discrimination: -0.6825968027114868\n",
      "Epoch 21, Train Loss: -1241.7520751953125, Train Acc: 51.99%, Train Discrimination: -0.3545039892196655 Test Loss: -2512.43017578125, Test Acc: 52.59%,Test Discrimination: -0.700800895690918\n",
      "Epoch 22, Train Loss: -1295.6929931640625, Train Acc: 52.58%, Train Discrimination: -0.367745965719223 Test Loss: -2457.513671875, Test Acc: 53.32%,Test Discrimination: -0.682130753993988\n",
      "Epoch 23, Train Loss: -1295.6029052734375, Train Acc: 53.21%, Train Discrimination: -0.3660168945789337 Test Loss: -2566.5322265625, Test Acc: 52.75%,Test Discrimination: -0.7092281579971313\n",
      "Epoch 24, Train Loss: -1335.3427734375, Train Acc: 52.78%, Train Discrimination: -0.3753757178783417 Test Loss: -2619.188232421875, Test Acc: 51.83%,Test Discrimination: -0.7208642363548279\n",
      "Epoch 25, Train Loss: -1341.4078369140625, Train Acc: 52.05%, Train Discrimination: -0.37540584802627563 Test Loss: -2654.529541015625, Test Acc: 51.93%,Test Discrimination: -0.7266036868095398\n",
      "Epoch 26, Train Loss: -1365.86669921875, Train Acc: 52.15%, Train Discrimination: -0.38042229413986206 Test Loss: -2618.46044921875, Test Acc: 52.75%,Test Discrimination: -0.7137512564659119\n",
      "Epoch 27, Train Loss: -1390.177001953125, Train Acc: 52.64%, Train Discrimination: -0.3853291869163513 Test Loss: -2615.35302734375, Test Acc: 52.78%,Test Discrimination: -0.7098239064216614\n",
      "Epoch 28, Train Loss: -1403.0059814453125, Train Acc: 52.72%, Train Discrimination: -0.3870472013950348 Test Loss: -2715.744384765625, Test Acc: 51.99%,Test Discrimination: -0.7337141633033752\n",
      "Epoch 29, Train Loss: -1426.4940185546875, Train Acc: 52.21%, Train Discrimination: -0.3919619619846344 Test Loss: -2734.570068359375, Test Acc: 51.93%,Test Discrimination: -0.7357790470123291\n",
      "Epoch 30, Train Loss: -1433.6566162109375, Train Acc: 52.04%, Train Discrimination: -0.3922656774520874 Test Loss: -2727.943359375, Test Acc: 52.21%,Test Discrimination: -0.7311039566993713\n",
      "Epoch 31, Train Loss: -1461.732666015625, Train Acc: 52.36%, Train Discrimination: -0.39818888902664185 Test Loss: -2694.13525390625, Test Acc: 52.56%,Test Discrimination: -0.7190418243408203\n",
      "Epoch 32, Train Loss: -1469.1004638671875, Train Acc: 52.65%, Train Discrimination: -0.3985283076763153 Test Loss: -2769.805908203125, Test Acc: 52.15%,Test Discrimination: -0.7369738817214966\n",
      "Epoch 33, Train Loss: -1492.3707275390625, Train Acc: 52.33%, Train Discrimination: -0.4035132825374603 Test Loss: -2806.061767578125, Test Acc: 51.93%,Test Discrimination: -0.7449138164520264\n",
      "Epoch 34, Train Loss: -1496.53662109375, Train Acc: 52.06%, Train Discrimination: -0.4036070704460144 Test Loss: -2809.524658203125, Test Acc: 52.05%,Test Discrimination: -0.7435733675956726\n",
      "Epoch 35, Train Loss: -1519.6112060546875, Train Acc: 52.32%, Train Discrimination: -0.4083830714225769 Test Loss: -2768.63134765625, Test Acc: 52.56%,Test Discrimination: -0.7303172945976257\n",
      "Epoch 36, Train Loss: -1527.62646484375, Train Acc: 52.63%, Train Discrimination: -0.40926727652549744 Test Loss: -2818.786376953125, Test Acc: 52.31%,Test Discrimination: -0.7411074638366699\n",
      "Epoch 37, Train Loss: -1545.7081298828125, Train Acc: 52.45%, Train Discrimination: -0.4128783941268921 Test Loss: -2860.20703125, Test Acc: 52.02%,Test Discrimination: -0.7493934631347656\n",
      "Epoch 38, Train Loss: -1550.854736328125, Train Acc: 52.23%, Train Discrimination: -0.41298791766166687 Test Loss: -2855.1337890625, Test Acc: 52.21%,Test Discrimination: -0.7457234859466553\n",
      "Epoch 39, Train Loss: -1570.44775390625, Train Acc: 52.38%, Train Discrimination: -0.4168020188808441 Test Loss: -2826.199462890625, Test Acc: 52.46%,Test Discrimination: -0.7357772588729858\n",
      "Epoch 40, Train Loss: -1577.707763671875, Train Acc: 52.57%, Train Discrimination: -0.41737523674964905 Test Loss: -2870.429931640625, Test Acc: 52.15%,Test Discrimination: -0.7443073391914368\n",
      "Epoch 41, Train Loss: -1595.1414794921875, Train Acc: 52.38%, Train Discrimination: -0.420307457447052 Test Loss: -2885.753173828125, Test Acc: 51.99%,Test Discrimination: -0.7451696991920471\n",
      "Epoch 42, Train Loss: -1603.0216064453125, Train Acc: 52.22%, Train Discrimination: -0.4203900098800659 Test Loss: -2871.354736328125, Test Acc: 52.18%,Test Discrimination: -0.7391881942749023\n",
      "Epoch 43, Train Loss: -1617.9149169921875, Train Acc: 52.43%, Train Discrimination: -0.42306965589523315 Test Loss: -2869.031982421875, Test Acc: 52.27%,Test Discrimination: -0.7361202239990234\n",
      "Epoch 44, Train Loss: -1627.0262451171875, Train Acc: 52.47%, Train Discrimination: -0.42396748065948486 Test Loss: -2901.73291015625, Test Acc: 51.96%,Test Discrimination: -0.7409290075302124\n",
      "Epoch 45, Train Loss: -1639.8077392578125, Train Acc: 52.27%, Train Discrimination: -0.42514973878860474 Test Loss: -2905.05078125, Test Acc: 51.96%,Test Discrimination: -0.7398409843444824\n",
      "Epoch 46, Train Loss: -1650.9217529296875, Train Acc: 52.32%, Train Discrimination: -0.42672568559646606 Test Loss: -2882.508544921875, Test Acc: 52.24%,Test Discrimination: -0.7337006330490112\n",
      "Epoch 47, Train Loss: -1659.0745849609375, Train Acc: 52.46%, Train Discrimination: -0.42773377895355225 Test Loss: -2910.8828125, Test Acc: 52.15%,Test Discrimination: -0.7373085618019104\n",
      "Epoch 48, Train Loss: -1671.5032958984375, Train Acc: 52.39%, Train Discrimination: -0.42947912216186523 Test Loss: -2932.038818359375, Test Acc: 52.02%,Test Discrimination: -0.7401325702667236\n",
      "Epoch 49, Train Loss: -1678.83740234375, Train Acc: 52.27%, Train Discrimination: -0.4298320412635803 Test Loss: -2920.88427734375, Test Acc: 52.18%,Test Discrimination: -0.7360413670539856\n",
      "Epoch 50, Train Loss: -1689.2572021484375, Train Acc: 52.43%, Train Discrimination: -0.43165087699890137 Test Loss: -2922.104248046875, Test Acc: 52.18%,Test Discrimination: -0.7347984910011292\n",
      "Epoch 51, Train Loss: -1696.94921875, Train Acc: 52.46%, Train Discrimination: -0.432617723941803 Test Loss: -2950.123291015625, Test Acc: 52.02%,Test Discrimination: -0.7399950623512268\n",
      "Epoch 52, Train Loss: -1706.7919921875, Train Acc: 52.29%, Train Discrimination: -0.43345797061920166 Test Loss: -2950.230224609375, Test Acc: 52.05%,Test Discrimination: -0.7378424406051636\n",
      "Epoch 53, Train Loss: -1717.28515625, Train Acc: 52.37%, Train Discrimination: -0.43508148193359375 Test Loss: -2937.66748046875, Test Acc: 52.15%,Test Discrimination: -0.733299970626831\n",
      "Epoch 54, Train Loss: -1724.0115966796875, Train Acc: 52.47%, Train Discrimination: -0.43595534563064575 Test Loss: -2970.225830078125, Test Acc: 51.99%,Test Discrimination: -0.7385191917419434\n",
      "Epoch 55, Train Loss: -1735.1290283203125, Train Acc: 52.27%, Train Discrimination: -0.43713274598121643 Test Loss: -2972.759521484375, Test Acc: 51.96%,Test Discrimination: -0.7375932335853577\n",
      "Epoch 56, Train Loss: -1744.1591796875, Train Acc: 52.31%, Train Discrimination: -0.4383470416069031 Test Loss: -2959.0849609375, Test Acc: 52.05%,Test Discrimination: -0.7329607605934143\n",
      "Epoch 57, Train Loss: -1750.078125, Train Acc: 52.44%, Train Discrimination: -0.4391574263572693 Test Loss: -2995.831787109375, Test Acc: 51.96%,Test Discrimination: -0.7390547394752502\n",
      "Epoch 58, Train Loss: -1762.2965087890625, Train Acc: 52.28%, Train Discrimination: -0.4401794672012329 Test Loss: -2999.266357421875, Test Acc: 51.99%,Test Discrimination: -0.7389034628868103\n",
      "Epoch 59, Train Loss: -1769.2193603515625, Train Acc: 52.35%, Train Discrimination: -0.441307008266449 Test Loss: -2994.464599609375, Test Acc: 51.99%,Test Discrimination: -0.7362778782844543\n",
      "Epoch 60, Train Loss: -1775.3292236328125, Train Acc: 52.47%, Train Discrimination: -0.44210249185562134 Test Loss: -3026.9755859375, Test Acc: 51.96%,Test Discrimination: -0.7422711849212646\n",
      "Epoch 61, Train Loss: -1785.2344970703125, Train Acc: 52.28%, Train Discrimination: -0.4428985118865967 Test Loss: -3020.7236328125, Test Acc: 52.02%,Test Discrimination: -0.7403832674026489\n",
      "Epoch 62, Train Loss: -1793.016845703125, Train Acc: 52.39%, Train Discrimination: -0.4440946877002716 Test Loss: -3022.83544921875, Test Acc: 52.05%,Test Discrimination: -0.7397190928459167\n",
      "Epoch 63, Train Loss: -1799.552734375, Train Acc: 52.42%, Train Discrimination: -0.4449455142021179 Test Loss: -3046.14794921875, Test Acc: 51.96%,Test Discrimination: -0.7423136830329895\n",
      "Epoch 64, Train Loss: -1807.998291015625, Train Acc: 52.30%, Train Discrimination: -0.4455806314945221 Test Loss: -3026.957275390625, Test Acc: 52.05%,Test Discrimination: -0.7376430630683899\n",
      "Epoch 65, Train Loss: -1814.5712890625, Train Acc: 52.40%, Train Discrimination: -0.4466858208179474 Test Loss: -3044.407958984375, Test Acc: 51.99%,Test Discrimination: -0.7393015027046204\n",
      "Epoch 66, Train Loss: -1826.1090087890625, Train Acc: 52.29%, Train Discrimination: -0.44761666655540466 Test Loss: -3042.81396484375, Test Acc: 51.99%,Test Discrimination: -0.7370350956916809\n",
      "Epoch 67, Train Loss: -1833.6651611328125, Train Acc: 52.32%, Train Discrimination: -0.4486367702484131 Test Loss: -3042.977783203125, Test Acc: 52.02%,Test Discrimination: -0.735775351524353\n",
      "Epoch 68, Train Loss: -1840.1826171875, Train Acc: 52.31%, Train Discrimination: -0.4495365023612976 Test Loss: -3047.91064453125, Test Acc: 51.93%,Test Discrimination: -0.7362252473831177\n",
      "Epoch 69, Train Loss: -1847.4388427734375, Train Acc: 52.30%, Train Discrimination: -0.45026805996894836 Test Loss: -3039.28125, Test Acc: 52.08%,Test Discrimination: -0.7332895398139954\n",
      "Epoch 70, Train Loss: -1851.8599853515625, Train Acc: 52.34%, Train Discrimination: -0.4510807394981384 Test Loss: -3056.836181640625, Test Acc: 51.86%,Test Discrimination: -0.7353949546813965\n",
      "Epoch 71, Train Loss: -1858.7735595703125, Train Acc: 52.22%, Train Discrimination: -0.4512330889701843 Test Loss: -3028.34765625, Test Acc: 52.18%,Test Discrimination: -0.7298807501792908\n",
      "Epoch 72, Train Loss: -1855.6217041015625, Train Acc: 52.42%, Train Discrimination: -0.451192170381546 Test Loss: -3065.882568359375, Test Acc: 51.83%,Test Discrimination: -0.733666181564331\n",
      "Epoch 73, Train Loss: -1860.6468505859375, Train Acc: 52.10%, Train Discrimination: -0.44890934228897095 Test Loss: -3007.3076171875, Test Acc: 52.37%,Test Discrimination: -0.7242419123649597\n",
      "Epoch 74, Train Loss: -1840.013916015625, Train Acc: 52.56%, Train Discrimination: -0.44698160886764526 Test Loss: -3072.680419921875, Test Acc: 51.83%,Test Discrimination: -0.7322177886962891\n",
      "Epoch 75, Train Loss: -1871.531494140625, Train Acc: 52.10%, Train Discrimination: -0.4499695301055908 Test Loss: -3045.156005859375, Test Acc: 52.12%,Test Discrimination: -0.7303014993667603\n",
      "Epoch 76, Train Loss: -1884.575927734375, Train Acc: 52.35%, Train Discrimination: -0.4552779197692871 Test Loss: -3062.637939453125, Test Acc: 51.99%,Test Discrimination: -0.7311273217201233\n",
      "Epoch 77, Train Loss: -1897.6246337890625, Train Acc: 52.30%, Train Discrimination: -0.4571201801300049 Test Loss: -3071.445556640625, Test Acc: 51.86%,Test Discrimination: -0.7306820154190063\n",
      "Epoch 78, Train Loss: -1899.7252197265625, Train Acc: 52.16%, Train Discrimination: -0.4554075300693512 Test Loss: -3043.715576171875, Test Acc: 52.27%,Test Discrimination: -0.7267191410064697\n",
      "Epoch 79, Train Loss: -1880.6136474609375, Train Acc: 52.49%, Train Discrimination: -0.45332592725753784 Test Loss: -3080.87841796875, Test Acc: 51.83%,Test Discrimination: -0.7294009327888489\n",
      "Epoch 80, Train Loss: -1906.3680419921875, Train Acc: 52.14%, Train Discrimination: -0.455284059047699 Test Loss: -3070.15283203125, Test Acc: 52.08%,Test Discrimination: -0.7296556830406189\n",
      "Epoch 81, Train Loss: -1917.00048828125, Train Acc: 52.37%, Train Discrimination: -0.4594210088253021 Test Loss: -3079.73828125, Test Acc: 52.02%,Test Discrimination: -0.7302005290985107\n",
      "Epoch 82, Train Loss: -1926.7808837890625, Train Acc: 52.29%, Train Discrimination: -0.46085160970687866 Test Loss: -3091.282470703125, Test Acc: 51.86%,Test Discrimination: -0.7297399640083313\n",
      "Epoch 83, Train Loss: -1928.44970703125, Train Acc: 52.16%, Train Discrimination: -0.4595601558685303 Test Loss: -3072.4775390625, Test Acc: 52.15%,Test Discrimination: -0.728740394115448\n",
      "Epoch 84, Train Loss: -1917.7080078125, Train Acc: 52.42%, Train Discrimination: -0.4587712287902832 Test Loss: -3100.311767578125, Test Acc: 51.86%,Test Discrimination: -0.7295966744422913\n",
      "Epoch 85, Train Loss: -1937.2042236328125, Train Acc: 52.16%, Train Discrimination: -0.4605952501296997 Test Loss: -3092.69091796875, Test Acc: 52.05%,Test Discrimination: -0.7301632165908813\n",
      "Epoch 86, Train Loss: -1943.7918701171875, Train Acc: 52.30%, Train Discrimination: -0.46322083473205566 Test Loss: -3098.263427734375, Test Acc: 52.02%,Test Discrimination: -0.730279803276062\n",
      "Epoch 87, Train Loss: -1950.849853515625, Train Acc: 52.27%, Train Discrimination: -0.464205265045166 Test Loss: -3109.3525390625, Test Acc: 51.86%,Test Discrimination: -0.7297833561897278\n",
      "Epoch 88, Train Loss: -1955.4061279296875, Train Acc: 52.20%, Train Discrimination: -0.46358639001846313 Test Loss: -3092.836181640625, Test Acc: 52.15%,Test Discrimination: -0.7292554974555969\n",
      "Epoch 89, Train Loss: -1946.4794921875, Train Acc: 52.38%, Train Discrimination: -0.4631522595882416 Test Loss: -3118.959228515625, Test Acc: 51.86%,Test Discrimination: -0.7293110489845276\n",
      "Epoch 90, Train Loss: -1966.1717529296875, Train Acc: 52.17%, Train Discrimination: -0.46390393376350403 Test Loss: -3103.682373046875, Test Acc: 52.08%,Test Discrimination: -0.7295395135879517\n",
      "Epoch 91, Train Loss: -1964.122802734375, Train Acc: 52.31%, Train Discrimination: -0.46577057242393494 Test Loss: -3122.1953125, Test Acc: 51.96%,Test Discrimination: -0.729900598526001\n",
      "Epoch 92, Train Loss: -1979.2874755859375, Train Acc: 52.23%, Train Discrimination: -0.4670814275741577 Test Loss: -3123.158935546875, Test Acc: 51.96%,Test Discrimination: -0.7299288511276245\n",
      "Epoch 93, Train Loss: -1985.0567626953125, Train Acc: 52.22%, Train Discrimination: -0.46758726239204407 Test Loss: -3120.9345703125, Test Acc: 52.05%,Test Discrimination: -0.7294456958770752\n",
      "Epoch 94, Train Loss: -1979.8470458984375, Train Acc: 52.31%, Train Discrimination: -0.46751484274864197 Test Loss: -3128.85107421875, Test Acc: 51.86%,Test Discrimination: -0.7299023270606995\n",
      "Epoch 95, Train Loss: -1989.36083984375, Train Acc: 52.18%, Train Discrimination: -0.467054545879364 Test Loss: -3118.981689453125, Test Acc: 52.08%,Test Discrimination: -0.7287943959236145\n",
      "Epoch 96, Train Loss: -1981.8448486328125, Train Acc: 52.35%, Train Discrimination: -0.46724733710289 Test Loss: -3138.740478515625, Test Acc: 51.86%,Test Discrimination: -0.7302148342132568\n",
      "Epoch 97, Train Loss: -1999.04931640625, Train Acc: 52.19%, Train Discrimination: -0.4682527780532837 Test Loss: -3124.373046875, Test Acc: 52.05%,Test Discrimination: -0.7292832732200623\n",
      "Epoch 98, Train Loss: -1999.0401611328125, Train Acc: 52.30%, Train Discrimination: -0.46973931789398193 Test Loss: -3138.312744140625, Test Acc: 51.99%,Test Discrimination: -0.7300441861152649\n",
      "Epoch 99, Train Loss: -2009.989013671875, Train Acc: 52.23%, Train Discrimination: -0.47080427408218384 Test Loss: -3138.232666015625, Test Acc: 51.99%,Test Discrimination: -0.7299578189849854\n",
      "Epoch 100, Train Loss: -2014.0130615234375, Train Acc: 52.23%, Train Discrimination: -0.47156694531440735 Test Loss: -3131.9951171875, Test Acc: 52.05%,Test Discrimination: -0.728706955909729\n"
     ]
    }
   ],
   "source": [
    "model8 = BinaryClassifier(features.shape[1])\n",
    "optimizer = optim.Adam(model8.parameters(), lr=0.01)\n",
    "train_losses8, train_accuracies8, train_discriminations8,train_fairness8 = [], [], [],[]\n",
    "test_losses8, test_accuracies8, test_discriminations8,test_fairness8 = [], [], [],[]\n",
    "\n",
    "# Training loop\n",
    "model8.train()\n",
    "for epoch in range(100):\n",
    "    optimizer.zero_grad()\n",
    "    outputs = model8(features)\n",
    "    loss, discrimination = discrimination_loss(outputs, targets.squeeze(), sensitive_features, lambda_val=100, k=3)\n",
    "    train_accuracy = calculate_accuracy(outputs, targets.squeeze())\n",
    "    loss.backward()\n",
    "    optimizer.step()\n",
    "    \n",
    "    # Evaluation on test data\n",
    "    model8.eval()\n",
    "    with torch.no_grad():\n",
    "        test_outputs = model8(test_features)\n",
    "        test_loss,test_discrimination = discrimination_loss(test_outputs, test_targets.squeeze(), test_sensitive_features, lambda_val=100, k=3)\n",
    "        test_accuracy = calculate_accuracy(test_outputs, test_targets.squeeze())\n",
    "    \n",
    "    print(f'Epoch {epoch+1}, Train Loss: {loss.item()}, Train Acc: {train_accuracy.item()*100:.2f}%, Train Discrimination: {discrimination} '\n",
    "          f'Test Loss: {test_loss.item()}, Test Acc: {test_accuracy.item()*100:.2f}%,Test Discrimination: {test_discrimination}')\n",
    "    train_losses8.append(loss.item())\n",
    "    train_accuracies8.append(train_accuracy.item() * 100)\n",
    "    train_discriminations8.append(discrimination)\n",
    "    fairness=1-discrimination\n",
    "    train_fairness8.append(fairness)\n",
    "    test_fairness8.append(fairness)\n",
    "    test_losses8.append(test_loss.item())\n",
    "    test_accuracies8.append(test_accuracy.item() * 100)\n",
    "    test_discriminations8.append(test_discrimination)\n",
    "    model8.train()\n",
    "\n",
    "\n",
    "\n"
   ]
  },
  {
   "cell_type": "markdown",
   "metadata": {},
   "source": [
    "#### MODEL ACCROSS DIFFERENT VALUES OF LAMBDA"
   ]
  },
  {
   "cell_type": "code",
   "execution_count": 13,
   "metadata": {},
   "outputs": [],
   "source": [
    "import plotly.graph_objects as go\n",
    "\n",
    "def plot_comp_metric(title, y_label, val1, val2, val3, val4):\n",
    "    epochs = list(range(1, 101))\n",
    "    fig = go.Figure()\n",
    "\n",
    "    # Adding Train Line with Markers\n",
    "    if val1:\n",
    "        fig.add_trace(go.Scatter(\n",
    "            x=epochs, y=val1, mode='lines+markers',\n",
    "            name='Lambda = 0.1',\n",
    "            line=dict(color='RoyalBlue', width=2),\n",
    "            marker=dict(color='RoyalBlue', size=6, line=dict(width=1, color='DarkSlateGrey'))\n",
    "        ))\n",
    "    if val2:\n",
    "\n",
    "        # Adding Test Line with Markers\n",
    "        fig.add_trace(go.Scatter(\n",
    "            x=epochs, y=val2, mode='lines+markers',\n",
    "            name='lambda = 1',\n",
    "            line=dict(color='Crimson', width=2, dash='dot'),\n",
    "            marker=dict(color='Crimson', size=6, line=dict(width=1, color='DarkSlateGrey'))\n",
    "        ))\n",
    "    # Adding Test Line with Markers\n",
    "    if val3:\n",
    "        fig.add_trace(go.Scatter(\n",
    "            x=epochs, y=val3, mode='lines+markers',\n",
    "            name='lambda = 10',\n",
    "            line=dict(color='Pink', width=2, dash='dot'),\n",
    "            marker=dict(color='Pink', size=6, line=dict(width=1, color='DarkSlateGrey'))\n",
    "        ))\n",
    "\n",
    "    if val4:\n",
    "     # Adding Test Line with Markers\n",
    "        fig.add_trace(go.Scatter(\n",
    "            x=epochs, y=val4, mode='lines+markers',\n",
    "            name='lambda = 100',\n",
    "            line=dict(color='Purple', width=2, dash='dot'),\n",
    "            marker=dict(color='Purple', size=6, line=dict(width=1, color='DarkSlateGrey'))\n",
    "    ))\n",
    "\n",
    "\n",
    "    # Update Layout\n",
    "    fig.update_layout(\n",
    "        title={'text': title, 'y':0.9, 'x':0.5, 'xanchor': 'center', 'yanchor': 'top'},\n",
    "        xaxis_title='Epoch',\n",
    "        yaxis_title=y_label,\n",
    "        legend=dict(x=0.1, y=1.1, orientation='h'),\n",
    "        font=dict(family=\"Helvetica, Arial, sans-serif\", size=12, color=\"black\"),\n",
    "        plot_bgcolor='white',\n",
    "        margin=dict(l=40, r=40, t=40, b=30)\n",
    "    )\n",
    "\n",
    "    # Gridlines and Axes styles\n",
    "    fig.update_xaxes(showline=True, linewidth=2, linecolor='black', gridcolor='LightGrey')\n",
    "    fig.update_yaxes(showline=True, linewidth=2, linecolor='black', gridcolor='LightGrey')\n",
    "\n",
    "    fig.show()"
   ]
  },
  {
   "cell_type": "code",
   "execution_count": 14,
   "metadata": {},
   "outputs": [
    {
     "data": {
      "application/vnd.plotly.v1+json": {
       "config": {
        "plotlyServerURL": "https://plot.ly"
       },
       "data": [
        {
         "line": {
          "color": "RoyalBlue",
          "width": 2
         },
         "marker": {
          "color": "RoyalBlue",
          "line": {
           "color": "DarkSlateGrey",
           "width": 1
          },
          "size": 6
         },
         "mode": "lines+markers",
         "name": "Lambda = 0.1",
         "type": "scatter",
         "x": [
          1,
          2,
          3,
          4,
          5,
          6,
          7,
          8,
          9,
          10,
          11,
          12,
          13,
          14,
          15,
          16,
          17,
          18,
          19,
          20,
          21,
          22,
          23,
          24,
          25,
          26,
          27,
          28,
          29,
          30,
          31,
          32,
          33,
          34,
          35,
          36,
          37,
          38,
          39,
          40,
          41,
          42,
          43,
          44,
          45,
          46,
          47,
          48,
          49,
          50,
          51,
          52,
          53,
          54,
          55,
          56,
          57,
          58,
          59,
          60,
          61,
          62,
          63,
          64,
          65,
          66,
          67,
          68,
          69,
          70,
          71,
          72,
          73,
          74,
          75,
          76,
          77,
          78,
          79,
          80,
          81,
          82,
          83,
          84,
          85,
          86,
          87,
          88,
          89,
          90,
          91,
          92,
          93,
          94,
          95,
          96,
          97,
          98,
          99,
          100
         ],
         "y": [
          0.9999802101283422,
          0.9999890463404881,
          0.9999961146845635,
          0.9999995275694857,
          0.9999998815060565,
          0.9999972975040237,
          0.9999859381086935,
          0.999956778716296,
          0.9999340158610721,
          0.9999262336496031,
          0.9999306210665964,
          0.999942523536447,
          0.9999568279235973,
          0.9999696517461416,
          0.9999788137229189,
          0.9999842555571377,
          0.9999868508430154,
          0.99998737070473,
          0.9999861774749661,
          0.9999833018118807,
          0.9999786580374348,
          0.9999722533266322,
          0.9999644481322321,
          0.9999561125187029,
          0.9999484300860786,
          0.9999425191526825,
          0.9999391569181171,
          0.9999388820724562,
          0.9999422036817123,
          0.9999490901282115,
          0.9999574092726107,
          0.9999614838270645,
          0.9999612462379446,
          0.9999585364348604,
          0.9999548110899923,
          0.9999512139220315,
          0.9999485211519641,
          0.9999470045586349,
          0.9999466355948243,
          0.9999472342169611,
          0.999948543474602,
          0.9999502436767216,
          0.9999520153942285,
          0.9999535827264481,
          0.99995473011586,
          0.9999553330999333,
          0.9999553334600932,
          0.9999547302722931,
          0.9999535607312282,
          0.9999519270349992,
          0.9999500179583265,
          0.9999480885053345,
          0.9999463906278834,
          0.9999451115509146,
          0.9999443495835294,
          0.9999441134059452,
          0.9999443114938913,
          0.9999447772424901,
          0.9999453058117069,
          0.9999457032899954,
          0.9999457710400748,
          0.9999453832788276,
          0.99994454998523,
          0.999943385948427,
          0.9999420456988446,
          0.999940714926197,
          0.999939531488053,
          0.999938605389616,
          0.9999379952932941,
          0.9999376986379502,
          0.9999376132182078,
          0.9999376300766016,
          0.999937674998364,
          0.9999376550404122,
          0.9999375006518676,
          0.9999371754893218,
          0.999936668209557,
          0.9999360110232374,
          0.9999352090089815,
          0.9999343536692322,
          0.9999335852626245,
          0.999933063343633,
          0.9999334970925702,
          0.9999354051033151,
          0.9999387148345704,
          0.9999320608549169,
          0.9999259107498801,
          0.9999259816395352,
          0.9999298020193237,
          0.9999294577646651,
          0.9999239620374283,
          0.9999192854520516,
          0.9999203279876383,
          0.9999241744153551,
          0.9999237289375742,
          0.9999186952773016,
          0.9999162420426728,
          0.9999198997757048,
          0.9999226932268357,
          0.9999191471288214
         ]
        },
        {
         "line": {
          "color": "Crimson",
          "dash": "dot",
          "width": 2
         },
         "marker": {
          "color": "Crimson",
          "line": {
           "color": "DarkSlateGrey",
           "width": 1
          },
          "size": 6
         },
         "mode": "lines+markers",
         "name": "lambda = 1",
         "type": "scatter",
         "x": [
          1,
          2,
          3,
          4,
          5,
          6,
          7,
          8,
          9,
          10,
          11,
          12,
          13,
          14,
          15,
          16,
          17,
          18,
          19,
          20,
          21,
          22,
          23,
          24,
          25,
          26,
          27,
          28,
          29,
          30,
          31,
          32,
          33,
          34,
          35,
          36,
          37,
          38,
          39,
          40,
          41,
          42,
          43,
          44,
          45,
          46,
          47,
          48,
          49,
          50,
          51,
          52,
          53,
          54,
          55,
          56,
          57,
          58,
          59,
          60,
          61,
          62,
          63,
          64,
          65,
          66,
          67,
          68,
          69,
          70,
          71,
          72,
          73,
          74,
          75,
          76,
          77,
          78,
          79,
          80,
          81,
          82,
          83,
          84,
          85,
          86,
          87,
          88,
          89,
          90,
          91,
          92,
          93,
          94,
          95,
          96,
          97,
          98,
          99,
          100
         ],
         "y": [
          0.9983014856697991,
          0.9995314832485747,
          0.9995946306735277,
          0.9999008578452049,
          0.9999910826309133,
          0.9999859547324377,
          0.9998490357102128,
          0.999381308851298,
          0.9981026966124773,
          0.9967810304369777,
          0.9960240134969354,
          0.9957454148679972,
          0.9958281754516065,
          0.9962437427602708,
          0.996819875203073,
          0.9974126021843404,
          0.9979290398769081,
          0.9983183675212786,
          0.9985706091392785,
          0.9986991616897285,
          0.9987194617278874,
          0.9986407540272921,
          0.9984609909588471,
          0.998174853506498,
          0.9977818250190467,
          0.9972933430690318,
          0.9967440539039671,
          0.9961883937940001,
          0.9956863825209439,
          0.9952969225123525,
          0.99505814909935,
          0.994979111943394,
          0.995007514487952,
          0.9951252383179963,
          0.9955638074316084,
          0.9957626671530306,
          0.9956619632430375,
          0.9955966100096703,
          0.9955800715833902,
          0.9955339711159468,
          0.9954640096984804,
          0.9953972599469125,
          0.9954037396237254,
          0.9959240886382759,
          0.9951355243101716,
          0.9946300950832665,
          0.9943933286704123,
          0.9944611904211342,
          0.9951021643355489,
          0.9955110824666917,
          0.9948002342134714,
          0.9938000217080116,
          0.9934364072978497,
          0.9939355836249888,
          0.9943282413296402,
          0.9937836383469403,
          0.9932292373850942,
          0.9934432455338538,
          0.9938601576723158,
          0.9936426132917404,
          0.9928432102315128,
          0.9925035308115184,
          0.992793433368206,
          0.992558098398149,
          0.9921979322098196,
          0.9926003171131015,
          0.9929035664536059,
          0.9924476784653962,
          0.9920797850936651,
          0.9923975267447531,
          0.9920966178178787,
          0.9917283039540052,
          0.992182957008481,
          0.9921155050396919,
          0.991827261634171,
          0.992104871198535,
          0.9919191198423505,
          0.9916990948840976,
          0.9921371787786484,
          0.9916693903505802,
          0.9921822799369693,
          0.9920042306184769,
          0.9918362312018871,
          0.9923408748582006,
          0.9916669661179185,
          0.9925980302505195,
          0.9917695168405771,
          0.9925321321934462,
          0.992084207944572,
          0.9921406991779804,
          0.9923929604701698,
          0.9917201977223158,
          0.992731923237443,
          0.9915330614894629,
          0.9927319870330393,
          0.9918935550376773,
          0.992085175588727,
          0.9923083712346852,
          0.9916184134781361,
          0.9926681639626622
         ]
        },
        {
         "line": {
          "color": "Pink",
          "dash": "dot",
          "width": 2
         },
         "marker": {
          "color": "Pink",
          "line": {
           "color": "DarkSlateGrey",
           "width": 1
          },
          "size": 6
         },
         "mode": "lines+markers",
         "name": "lambda = 10",
         "type": "scatter",
         "x": [
          1,
          2,
          3,
          4,
          5,
          6,
          7,
          8,
          9,
          10,
          11,
          12,
          13,
          14,
          15,
          16,
          17,
          18,
          19,
          20,
          21,
          22,
          23,
          24,
          25,
          26,
          27,
          28,
          29,
          30,
          31,
          32,
          33,
          34,
          35,
          36,
          37,
          38,
          39,
          40,
          41,
          42,
          43,
          44,
          45,
          46,
          47,
          48,
          49,
          50,
          51,
          52,
          53,
          54,
          55,
          56,
          57,
          58,
          59,
          60,
          61,
          62,
          63,
          64,
          65,
          66,
          67,
          68,
          69,
          70,
          71,
          72,
          73,
          74,
          75,
          76,
          77,
          78,
          79,
          80,
          81,
          82,
          83,
          84,
          85,
          86,
          87,
          88,
          89,
          90,
          91,
          92,
          93,
          94,
          95,
          96,
          97,
          98,
          99,
          100
         ],
         "y": [
          0.9841226991266012,
          0.9391434341669083,
          0.9942856766283512,
          0.9904818776994944,
          0.9898504288867116,
          0.9927426152862608,
          0.9954714723862708,
          0.9976054993458092,
          0.9992723531322554,
          0.9999543253943557,
          0.9961772132664919,
          0.9836902841925621,
          0.9749743957072496,
          0.9777036942541599,
          0.9860877962782979,
          0.9932013992220163,
          0.9971171400975436,
          0.9988239717204124,
          0.9994220655644313,
          0.9996505954768509,
          0.9997220396180637,
          0.999685259303078,
          0.9995297776767984,
          0.9991975135635585,
          0.9986046535195783,
          0.9977009955327958,
          0.9965507294982672,
          0.995378497056663,
          0.9944874499924481,
          0.9941266789101064,
          0.9943563416600227,
          0.9950419068336487,
          0.9959470117464662,
          0.9968441533856094,
          0.9975922605954111,
          0.9981420312542468,
          0.998499154462479,
          0.9986923970282078,
          0.99874971981626,
          0.9986894817557186,
          0.9985193421598524,
          0.9982457585865632,
          0.9978824588470161,
          0.9974632966332138,
          0.9970490150153637,
          0.9967205140274018,
          0.9965533195063472,
          0.9965897286310792,
          0.996822951361537,
          0.9971959046088159,
          0.9976242147386074,
          0.9980283926706761,
          0.9983545064460486,
          0.9985787972109392,
          0.9986993671627715,
          0.9987245212541893,
          0.9986663996241987,
          0.9985414957627654,
          0.9983712310204282,
          0.9981860623229295,
          0.9980232883244753,
          0.9979241234250367,
          0.9979192125611007,
          0.9980189322959632,
          0.9982120345812291,
          0.9984718860359862,
          0.9987674778094515,
          0.9990743962698616,
          0.9992254111566581,
          0.9992054071626626,
          0.9990713056176901,
          0.998956787516363,
          0.9988874765112996,
          0.9988881584722549,
          0.9989258913556114,
          0.9989166425075382,
          0.9988180239452049,
          0.9987068304326385,
          0.9986618045950308,
          0.9987063185544685,
          0.9988152098376304,
          0.9989503151737154,
          0.9990374225308187,
          0.9990600190358236,
          0.9990603223559447,
          0.9990641059121117,
          0.9990737624466419,
          0.9990838738158345,
          0.9990569479414262,
          0.9989743706537411,
          0.998894321732223,
          0.9988630069419742,
          0.9988850075751543,
          0.9989276695996523,
          0.9989536193897948,
          0.9989434584276751,
          0.9989590843906626,
          0.9990131192607805,
          0.9990602039033547,
          0.9990581977763213
         ]
        },
        {
         "line": {
          "color": "Purple",
          "dash": "dot",
          "width": 2
         },
         "marker": {
          "color": "Purple",
          "line": {
           "color": "DarkSlateGrey",
           "width": 1
          },
          "size": 6
         },
         "mode": "lines+markers",
         "name": "lambda = 100",
         "type": "scatter",
         "x": [
          1,
          2,
          3,
          4,
          5,
          6,
          7,
          8,
          9,
          10,
          11,
          12,
          13,
          14,
          15,
          16,
          17,
          18,
          19,
          20,
          21,
          22,
          23,
          24,
          25,
          26,
          27,
          28,
          29,
          30,
          31,
          32,
          33,
          34,
          35,
          36,
          37,
          38,
          39,
          40,
          41,
          42,
          43,
          44,
          45,
          46,
          47,
          48,
          49,
          50,
          51,
          52,
          53,
          54,
          55,
          56,
          57,
          58,
          59,
          60,
          61,
          62,
          63,
          64,
          65,
          66,
          67,
          68,
          69,
          70,
          71,
          72,
          73,
          74,
          75,
          76,
          77,
          78,
          79,
          80,
          81,
          82,
          83,
          84,
          85,
          86,
          87,
          88,
          89,
          90,
          91,
          92,
          93,
          94,
          95,
          96,
          97,
          98,
          99,
          100
         ],
         "y": [
          0.9991222711396404,
          0.3823063373565674,
          0.8547503799200058,
          0.7763003706932068,
          0.6644469797611237,
          0.6927655935287476,
          0.7541030943393707,
          0.8254011124372482,
          0.8986698463559151,
          0.9652372188866138,
          0.9999973298436089,
          0.9506208635866642,
          0.9314911887049675,
          0.9696698505431414,
          0.9939026762731373,
          0.9997061391477473,
          0.9997874310793122,
          0.9991356448736042,
          0.9987488582264632,
          0.998644090956077,
          0.99870200001169,
          0.9988305454608053,
          0.9989791970001534,
          0.9991233304026537,
          0.9992531893658452,
          0.9993655932485126,
          0.9994605273241177,
          0.9995400382031221,
          0.9996063421713188,
          0.9996616455900948,
          0.999707874521846,
          0.9997467202192638,
          0.9997795257950202,
          0.9998074153118068,
          0.9998313391697593,
          0.9998520372319035,
          0.9998700974683743,
          0.9998859981278656,
          0.9999001314208726,
          0.999912814644631,
          0.9999242906123982,
          0.999934763465717,
          0.9999443867964146,
          0.9999532725305471,
          0.9999614944827044,
          0.9999690618969908,
          0.9999759987167636,
          0.9999822734935151,
          0.9999878227527006,
          0.9999925381230241,
          0.9999962705032885,
          0.9999988265913089,
          0.9999999667066248,
          0.9999993979449187,
          0.99999677043661,
          0.9999916884053164,
          0.999983706358762,
          0.9999723300679761,
          0.9999570512372884,
          0.9999373561149696,
          0.9999127565533854,
          0.9998828204843448,
          0.9998472665174631,
          0.9998060024227016,
          0.9997591976134572,
          0.999707334645791,
          0.9996513545629568,
          0.9995926364208572,
          0.9995330240344629,
          0.9994748000754043,
          0.9994206317933276,
          0.9993734523886815,
          0.9993360686930828,
          0.9993108594208024,
          0.9993001704569906,
          0.999305609613657,
          0.9993282592040487,
          0.9993679256294854,
          0.9994217395433225,
          0.9994868801441044,
          0.9995590789185371,
          0.9996338278870098,
          0.9997074175043963,
          0.9997762066923315,
          0.999837615294382,
          0.9998896069664625,
          0.9999310948041966,
          0.9999619304908265,
          0.99998263519592,
          0.9999944908568068,
          0.9999994249506585,
          0.9999996924779566,
          0.9999976022897954,
          0.9999952246594148,
          0.9999940449911264,
          0.999994682572833,
          0.9999967921573898,
          0.9999991414973124,
          0.9999999469973986,
          0.9999974347128955
         ]
        }
       ],
       "layout": {
        "font": {
         "color": "black",
         "family": "Helvetica, Arial, sans-serif",
         "size": 12
        },
        "legend": {
         "orientation": "h",
         "x": 0.1,
         "y": 1.1
        },
        "margin": {
         "b": 30,
         "l": 40,
         "r": 40,
         "t": 40
        },
        "plot_bgcolor": "white",
        "template": {
         "data": {
          "bar": [
           {
            "error_x": {
             "color": "#2a3f5f"
            },
            "error_y": {
             "color": "#2a3f5f"
            },
            "marker": {
             "line": {
              "color": "#E5ECF6",
              "width": 0.5
             },
             "pattern": {
              "fillmode": "overlay",
              "size": 10,
              "solidity": 0.2
             }
            },
            "type": "bar"
           }
          ],
          "barpolar": [
           {
            "marker": {
             "line": {
              "color": "#E5ECF6",
              "width": 0.5
             },
             "pattern": {
              "fillmode": "overlay",
              "size": 10,
              "solidity": 0.2
             }
            },
            "type": "barpolar"
           }
          ],
          "carpet": [
           {
            "aaxis": {
             "endlinecolor": "#2a3f5f",
             "gridcolor": "white",
             "linecolor": "white",
             "minorgridcolor": "white",
             "startlinecolor": "#2a3f5f"
            },
            "baxis": {
             "endlinecolor": "#2a3f5f",
             "gridcolor": "white",
             "linecolor": "white",
             "minorgridcolor": "white",
             "startlinecolor": "#2a3f5f"
            },
            "type": "carpet"
           }
          ],
          "choropleth": [
           {
            "colorbar": {
             "outlinewidth": 0,
             "ticks": ""
            },
            "type": "choropleth"
           }
          ],
          "contour": [
           {
            "colorbar": {
             "outlinewidth": 0,
             "ticks": ""
            },
            "colorscale": [
             [
              0,
              "#0d0887"
             ],
             [
              0.1111111111111111,
              "#46039f"
             ],
             [
              0.2222222222222222,
              "#7201a8"
             ],
             [
              0.3333333333333333,
              "#9c179e"
             ],
             [
              0.4444444444444444,
              "#bd3786"
             ],
             [
              0.5555555555555556,
              "#d8576b"
             ],
             [
              0.6666666666666666,
              "#ed7953"
             ],
             [
              0.7777777777777778,
              "#fb9f3a"
             ],
             [
              0.8888888888888888,
              "#fdca26"
             ],
             [
              1,
              "#f0f921"
             ]
            ],
            "type": "contour"
           }
          ],
          "contourcarpet": [
           {
            "colorbar": {
             "outlinewidth": 0,
             "ticks": ""
            },
            "type": "contourcarpet"
           }
          ],
          "heatmap": [
           {
            "colorbar": {
             "outlinewidth": 0,
             "ticks": ""
            },
            "colorscale": [
             [
              0,
              "#0d0887"
             ],
             [
              0.1111111111111111,
              "#46039f"
             ],
             [
              0.2222222222222222,
              "#7201a8"
             ],
             [
              0.3333333333333333,
              "#9c179e"
             ],
             [
              0.4444444444444444,
              "#bd3786"
             ],
             [
              0.5555555555555556,
              "#d8576b"
             ],
             [
              0.6666666666666666,
              "#ed7953"
             ],
             [
              0.7777777777777778,
              "#fb9f3a"
             ],
             [
              0.8888888888888888,
              "#fdca26"
             ],
             [
              1,
              "#f0f921"
             ]
            ],
            "type": "heatmap"
           }
          ],
          "heatmapgl": [
           {
            "colorbar": {
             "outlinewidth": 0,
             "ticks": ""
            },
            "colorscale": [
             [
              0,
              "#0d0887"
             ],
             [
              0.1111111111111111,
              "#46039f"
             ],
             [
              0.2222222222222222,
              "#7201a8"
             ],
             [
              0.3333333333333333,
              "#9c179e"
             ],
             [
              0.4444444444444444,
              "#bd3786"
             ],
             [
              0.5555555555555556,
              "#d8576b"
             ],
             [
              0.6666666666666666,
              "#ed7953"
             ],
             [
              0.7777777777777778,
              "#fb9f3a"
             ],
             [
              0.8888888888888888,
              "#fdca26"
             ],
             [
              1,
              "#f0f921"
             ]
            ],
            "type": "heatmapgl"
           }
          ],
          "histogram": [
           {
            "marker": {
             "pattern": {
              "fillmode": "overlay",
              "size": 10,
              "solidity": 0.2
             }
            },
            "type": "histogram"
           }
          ],
          "histogram2d": [
           {
            "colorbar": {
             "outlinewidth": 0,
             "ticks": ""
            },
            "colorscale": [
             [
              0,
              "#0d0887"
             ],
             [
              0.1111111111111111,
              "#46039f"
             ],
             [
              0.2222222222222222,
              "#7201a8"
             ],
             [
              0.3333333333333333,
              "#9c179e"
             ],
             [
              0.4444444444444444,
              "#bd3786"
             ],
             [
              0.5555555555555556,
              "#d8576b"
             ],
             [
              0.6666666666666666,
              "#ed7953"
             ],
             [
              0.7777777777777778,
              "#fb9f3a"
             ],
             [
              0.8888888888888888,
              "#fdca26"
             ],
             [
              1,
              "#f0f921"
             ]
            ],
            "type": "histogram2d"
           }
          ],
          "histogram2dcontour": [
           {
            "colorbar": {
             "outlinewidth": 0,
             "ticks": ""
            },
            "colorscale": [
             [
              0,
              "#0d0887"
             ],
             [
              0.1111111111111111,
              "#46039f"
             ],
             [
              0.2222222222222222,
              "#7201a8"
             ],
             [
              0.3333333333333333,
              "#9c179e"
             ],
             [
              0.4444444444444444,
              "#bd3786"
             ],
             [
              0.5555555555555556,
              "#d8576b"
             ],
             [
              0.6666666666666666,
              "#ed7953"
             ],
             [
              0.7777777777777778,
              "#fb9f3a"
             ],
             [
              0.8888888888888888,
              "#fdca26"
             ],
             [
              1,
              "#f0f921"
             ]
            ],
            "type": "histogram2dcontour"
           }
          ],
          "mesh3d": [
           {
            "colorbar": {
             "outlinewidth": 0,
             "ticks": ""
            },
            "type": "mesh3d"
           }
          ],
          "parcoords": [
           {
            "line": {
             "colorbar": {
              "outlinewidth": 0,
              "ticks": ""
             }
            },
            "type": "parcoords"
           }
          ],
          "pie": [
           {
            "automargin": true,
            "type": "pie"
           }
          ],
          "scatter": [
           {
            "fillpattern": {
             "fillmode": "overlay",
             "size": 10,
             "solidity": 0.2
            },
            "type": "scatter"
           }
          ],
          "scatter3d": [
           {
            "line": {
             "colorbar": {
              "outlinewidth": 0,
              "ticks": ""
             }
            },
            "marker": {
             "colorbar": {
              "outlinewidth": 0,
              "ticks": ""
             }
            },
            "type": "scatter3d"
           }
          ],
          "scattercarpet": [
           {
            "marker": {
             "colorbar": {
              "outlinewidth": 0,
              "ticks": ""
             }
            },
            "type": "scattercarpet"
           }
          ],
          "scattergeo": [
           {
            "marker": {
             "colorbar": {
              "outlinewidth": 0,
              "ticks": ""
             }
            },
            "type": "scattergeo"
           }
          ],
          "scattergl": [
           {
            "marker": {
             "colorbar": {
              "outlinewidth": 0,
              "ticks": ""
             }
            },
            "type": "scattergl"
           }
          ],
          "scattermapbox": [
           {
            "marker": {
             "colorbar": {
              "outlinewidth": 0,
              "ticks": ""
             }
            },
            "type": "scattermapbox"
           }
          ],
          "scatterpolar": [
           {
            "marker": {
             "colorbar": {
              "outlinewidth": 0,
              "ticks": ""
             }
            },
            "type": "scatterpolar"
           }
          ],
          "scatterpolargl": [
           {
            "marker": {
             "colorbar": {
              "outlinewidth": 0,
              "ticks": ""
             }
            },
            "type": "scatterpolargl"
           }
          ],
          "scatterternary": [
           {
            "marker": {
             "colorbar": {
              "outlinewidth": 0,
              "ticks": ""
             }
            },
            "type": "scatterternary"
           }
          ],
          "surface": [
           {
            "colorbar": {
             "outlinewidth": 0,
             "ticks": ""
            },
            "colorscale": [
             [
              0,
              "#0d0887"
             ],
             [
              0.1111111111111111,
              "#46039f"
             ],
             [
              0.2222222222222222,
              "#7201a8"
             ],
             [
              0.3333333333333333,
              "#9c179e"
             ],
             [
              0.4444444444444444,
              "#bd3786"
             ],
             [
              0.5555555555555556,
              "#d8576b"
             ],
             [
              0.6666666666666666,
              "#ed7953"
             ],
             [
              0.7777777777777778,
              "#fb9f3a"
             ],
             [
              0.8888888888888888,
              "#fdca26"
             ],
             [
              1,
              "#f0f921"
             ]
            ],
            "type": "surface"
           }
          ],
          "table": [
           {
            "cells": {
             "fill": {
              "color": "#EBF0F8"
             },
             "line": {
              "color": "white"
             }
            },
            "header": {
             "fill": {
              "color": "#C8D4E3"
             },
             "line": {
              "color": "white"
             }
            },
            "type": "table"
           }
          ]
         },
         "layout": {
          "annotationdefaults": {
           "arrowcolor": "#2a3f5f",
           "arrowhead": 0,
           "arrowwidth": 1
          },
          "autotypenumbers": "strict",
          "coloraxis": {
           "colorbar": {
            "outlinewidth": 0,
            "ticks": ""
           }
          },
          "colorscale": {
           "diverging": [
            [
             0,
             "#8e0152"
            ],
            [
             0.1,
             "#c51b7d"
            ],
            [
             0.2,
             "#de77ae"
            ],
            [
             0.3,
             "#f1b6da"
            ],
            [
             0.4,
             "#fde0ef"
            ],
            [
             0.5,
             "#f7f7f7"
            ],
            [
             0.6,
             "#e6f5d0"
            ],
            [
             0.7,
             "#b8e186"
            ],
            [
             0.8,
             "#7fbc41"
            ],
            [
             0.9,
             "#4d9221"
            ],
            [
             1,
             "#276419"
            ]
           ],
           "sequential": [
            [
             0,
             "#0d0887"
            ],
            [
             0.1111111111111111,
             "#46039f"
            ],
            [
             0.2222222222222222,
             "#7201a8"
            ],
            [
             0.3333333333333333,
             "#9c179e"
            ],
            [
             0.4444444444444444,
             "#bd3786"
            ],
            [
             0.5555555555555556,
             "#d8576b"
            ],
            [
             0.6666666666666666,
             "#ed7953"
            ],
            [
             0.7777777777777778,
             "#fb9f3a"
            ],
            [
             0.8888888888888888,
             "#fdca26"
            ],
            [
             1,
             "#f0f921"
            ]
           ],
           "sequentialminus": [
            [
             0,
             "#0d0887"
            ],
            [
             0.1111111111111111,
             "#46039f"
            ],
            [
             0.2222222222222222,
             "#7201a8"
            ],
            [
             0.3333333333333333,
             "#9c179e"
            ],
            [
             0.4444444444444444,
             "#bd3786"
            ],
            [
             0.5555555555555556,
             "#d8576b"
            ],
            [
             0.6666666666666666,
             "#ed7953"
            ],
            [
             0.7777777777777778,
             "#fb9f3a"
            ],
            [
             0.8888888888888888,
             "#fdca26"
            ],
            [
             1,
             "#f0f921"
            ]
           ]
          },
          "colorway": [
           "#636efa",
           "#EF553B",
           "#00cc96",
           "#ab63fa",
           "#FFA15A",
           "#19d3f3",
           "#FF6692",
           "#B6E880",
           "#FF97FF",
           "#FECB52"
          ],
          "font": {
           "color": "#2a3f5f"
          },
          "geo": {
           "bgcolor": "white",
           "lakecolor": "white",
           "landcolor": "#E5ECF6",
           "showlakes": true,
           "showland": true,
           "subunitcolor": "white"
          },
          "hoverlabel": {
           "align": "left"
          },
          "hovermode": "closest",
          "mapbox": {
           "style": "light"
          },
          "paper_bgcolor": "white",
          "plot_bgcolor": "#E5ECF6",
          "polar": {
           "angularaxis": {
            "gridcolor": "white",
            "linecolor": "white",
            "ticks": ""
           },
           "bgcolor": "#E5ECF6",
           "radialaxis": {
            "gridcolor": "white",
            "linecolor": "white",
            "ticks": ""
           }
          },
          "scene": {
           "xaxis": {
            "backgroundcolor": "#E5ECF6",
            "gridcolor": "white",
            "gridwidth": 2,
            "linecolor": "white",
            "showbackground": true,
            "ticks": "",
            "zerolinecolor": "white"
           },
           "yaxis": {
            "backgroundcolor": "#E5ECF6",
            "gridcolor": "white",
            "gridwidth": 2,
            "linecolor": "white",
            "showbackground": true,
            "ticks": "",
            "zerolinecolor": "white"
           },
           "zaxis": {
            "backgroundcolor": "#E5ECF6",
            "gridcolor": "white",
            "gridwidth": 2,
            "linecolor": "white",
            "showbackground": true,
            "ticks": "",
            "zerolinecolor": "white"
           }
          },
          "shapedefaults": {
           "line": {
            "color": "#2a3f5f"
           }
          },
          "ternary": {
           "aaxis": {
            "gridcolor": "white",
            "linecolor": "white",
            "ticks": ""
           },
           "baxis": {
            "gridcolor": "white",
            "linecolor": "white",
            "ticks": ""
           },
           "bgcolor": "#E5ECF6",
           "caxis": {
            "gridcolor": "white",
            "linecolor": "white",
            "ticks": ""
           }
          },
          "title": {
           "x": 0.05
          },
          "xaxis": {
           "automargin": true,
           "gridcolor": "white",
           "linecolor": "white",
           "ticks": "",
           "title": {
            "standoff": 15
           },
           "zerolinecolor": "white",
           "zerolinewidth": 2
          },
          "yaxis": {
           "automargin": true,
           "gridcolor": "white",
           "linecolor": "white",
           "ticks": "",
           "title": {
            "standoff": 15
           },
           "zerolinecolor": "white",
           "zerolinewidth": 2
          }
         }
        },
        "title": {
         "text": "TEST_Fairness",
         "x": 0.5,
         "xanchor": "center",
         "y": 0.9,
         "yanchor": "top"
        },
        "xaxis": {
         "gridcolor": "LightGrey",
         "linecolor": "black",
         "linewidth": 2,
         "showline": true,
         "title": {
          "text": "Epoch"
         }
        },
        "yaxis": {
         "gridcolor": "LightGrey",
         "linecolor": "black",
         "linewidth": 2,
         "showline": true,
         "title": {
          "text": "Fairness"
         }
        }
       }
      }
     },
     "metadata": {},
     "output_type": "display_data"
    },
    {
     "data": {
      "application/vnd.plotly.v1+json": {
       "config": {
        "plotlyServerURL": "https://plot.ly"
       },
       "data": [
        {
         "line": {
          "color": "RoyalBlue",
          "width": 2
         },
         "marker": {
          "color": "RoyalBlue",
          "line": {
           "color": "DarkSlateGrey",
           "width": 1
          },
          "size": 6
         },
         "mode": "lines+markers",
         "name": "Lambda = 0.1",
         "type": "scatter",
         "x": [
          1,
          2,
          3,
          4,
          5,
          6,
          7,
          8,
          9,
          10,
          11,
          12,
          13,
          14,
          15,
          16,
          17,
          18,
          19,
          20,
          21,
          22,
          23,
          24,
          25,
          26,
          27,
          28,
          29,
          30,
          31,
          32,
          33,
          34,
          35,
          36,
          37,
          38,
          39,
          40,
          41,
          42,
          43,
          44,
          45,
          46,
          47,
          48,
          49,
          50,
          51,
          52,
          53,
          54,
          55,
          56,
          57,
          58,
          59,
          60,
          61,
          62,
          63,
          64,
          65,
          66,
          67,
          68,
          69,
          70,
          71,
          72,
          73,
          74,
          75,
          76,
          77,
          78,
          79,
          80,
          81,
          82,
          83,
          84,
          85,
          86,
          87,
          88,
          89,
          90,
          91,
          92,
          93,
          94,
          95,
          96,
          97,
          98,
          99,
          100
         ],
         "y": [
          0.00001787938890629448,
          0.00000636765935269068,
          9.294354867961374e-7,
          5.3819807277477594e-8,
          0.0000026729439923656173,
          0.000015346511645475402,
          0.00004970882582711056,
          0.00007733586244285107,
          0.00008596639236202464,
          0.00007909275154815987,
          0.00006396928802132607,
          0.00004674359297496267,
          0.000031768835469847545,
          0.000021524203475564718,
          0.000015578492821077816,
          0.000012770575267495587,
          0.000012170872651040554,
          0.000013360185221245047,
          0.000016306172256008722,
          0.000021139849195606075,
          0.00002791740553220734,
          0.00003622280928539112,
          0.00004525013719103299,
          0.000053655596275348216,
          0.00006005517934681848,
          0.00006362142448779196,
          0.00006372539792209864,
          0.000059708094340749085,
          0.00005207887807046063,
          0.000043048232328146696,
          0.00003869417560053989,
          0.00003895989721058868,
          0.000041898056224454194,
          0.00004601953332894482,
          0.000050074093451257795,
          0.00005321542266756296,
          0.000055086617066990584,
          0.0000556743580091279,
          0.00005514442818821408,
          0.00005378464629757218,
          0.000051945815357612446,
          0.000049987767852144316,
          0.00004822982373298146,
          0.00004691269714385271,
          0.00004617746526491828,
          0.00004607720984495245,
          0.000046638182539027184,
          0.00004784806151292287,
          0.00004962716775480658,
          0.000051767387049039826,
          0.000053973850299371406,
          0.00005593907553702593,
          0.00005741511267842725,
          0.000058287881984142587,
          0.00005853934635524638,
          0.00005825853440910578,
          0.00005764939123764634,
          0.000056945154938148335,
          0.00005639010123559274,
          0.00005621142918244004,
          0.00005657403016812168,
          0.00005746760871261358,
          0.00005874156704521738,
          0.00006021071021677926,
          0.00006163537182146683,
          0.00006286821735557169,
          0.00006378017133101821,
          0.00006430558278225362,
          0.00006447138002840802,
          0.00006444189784815535,
          0.00006435114482883364,
          0.0000642703816993162,
          0.00006428001506719738,
          0.00006441315053962171,
          0.00006470799417002127,
          0.00006519078306155279,
          0.00006581143679795787,
          0.00006661842780886218,
          0.00006752133049303666,
          0.00006842531001893803,
          0.0000689873268129304,
          0.0000685879131196998,
          0.00006658588245045394,
          0.00006304137787083164,
          0.00007021014607744291,
          0.00007695602107560262,
          0.00007694953092141077,
          0.00007232838834170252,
          0.00007252378418343142,
          0.00007853896386222914,
          0.00008365442045032978,
          0.00008237500151153654,
          0.00007811631803633645,
          0.00007867105159675702,
          0.00008435305062448606,
          0.00008708360110176727,
          0.00008286818774649873,
          0.00007972175808390602,
          0.00008379548671655357,
          0.00008813299791654572
         ]
        },
        {
         "line": {
          "color": "Crimson",
          "dash": "dot",
          "width": 2
         },
         "marker": {
          "color": "Crimson",
          "line": {
           "color": "DarkSlateGrey",
           "width": 1
          },
          "size": 6
         },
         "mode": "lines+markers",
         "name": "lambda = 1",
         "type": "scatter",
         "x": [
          1,
          2,
          3,
          4,
          5,
          6,
          7,
          8,
          9,
          10,
          11,
          12,
          13,
          14,
          15,
          16,
          17,
          18,
          19,
          20,
          21,
          22,
          23,
          24,
          25,
          26,
          27,
          28,
          29,
          30,
          31,
          32,
          33,
          34,
          35,
          36,
          37,
          38,
          39,
          40,
          41,
          42,
          43,
          44,
          45,
          46,
          47,
          48,
          49,
          50,
          51,
          52,
          53,
          54,
          55,
          56,
          57,
          58,
          59,
          60,
          61,
          62,
          63,
          64,
          65,
          66,
          67,
          68,
          69,
          70,
          71,
          72,
          73,
          74,
          75,
          76,
          77,
          78,
          79,
          80,
          81,
          82,
          83,
          84,
          85,
          86,
          87,
          88,
          89,
          90,
          91,
          92,
          93,
          94,
          95,
          96,
          97,
          98,
          99,
          100
         ],
         "y": [
          0.0006768041639588773,
          0.00064799067331478,
          0.00016288572805933654,
          0.00001980807792278938,
          0.00001009002880891785,
          0.000166503872605972,
          0.0007658880203962326,
          0.002433148678392172,
          0.004079391714185476,
          0.004929964430630207,
          0.0051725925877690315,
          0.004936878569424152,
          0.0043257479555904865,
          0.0035622252617031336,
          0.002810395322740078,
          0.0021876886021345854,
          0.0017360630445182323,
          0.001451533054932952,
          0.0013077175244688988,
          0.0012856298126280308,
          0.0013722913572564721,
          0.001571315573528409,
          0.0018902772571891546,
          0.0023310247343033552,
          0.002883161883801222,
          0.003508099354803562,
          0.004149155225604773,
          0.0047247158363461494,
          0.005168225150555372,
          0.0054331873543560505,
          0.005507951602339745,
          0.005438289605081081,
          0.00522318622097373,
          0.004634495824575424,
          0.0044014896266162395,
          0.004521526396274567,
          0.004635031335055828,
          0.004676745273172855,
          0.004729446955025196,
          0.004793129861354828,
          0.004847450647503138,
          0.004844883922487497,
          0.004279785323888063,
          0.005157124251127243,
          0.005698966793715954,
          0.005948396399617195,
          0.005887231789529324,
          0.005194400902837515,
          0.004753490909934044,
          0.005560338031500578,
          0.006671184208244085,
          0.007088201120495796,
          0.006496325135231018,
          0.0060736569575965405,
          0.006746061611920595,
          0.0074161323718726635,
          0.007190356031060219,
          0.006683833431452513,
          0.006942082196474075,
          0.007856416516005993,
          0.008218093775212765,
          0.007869860157370567,
          0.008170410990715027,
          0.008634495548903942,
          0.00819446798413992,
          0.007853183895349503,
          0.00840901117771864,
          0.008835780434310436,
          0.008423911407589912,
          0.008786262944340706,
          0.009246899746358395,
          0.008706986904144287,
          0.008809557184576988,
          0.009157311171293259,
          0.008792242035269737,
          0.008997263386845589,
          0.009252970106899738,
          0.008729623630642891,
          0.009318611584603786,
          0.00869164802134037,
          0.008903220295906067,
          0.009088254533708096,
          0.008451199159026146,
          0.009255713783204556,
          0.008107064291834831,
          0.009103430435061455,
          0.008149406872689724,
          0.008670400828123093,
          0.008564332500100136,
          0.00821919646114111,
          0.009005415253341198,
          0.007771072909235954,
          0.00918780080974102,
          0.007728110067546368,
          0.008702456951141357,
          0.008434771560132504,
          0.008152111433446407,
          0.008965899236500263,
          0.007697513327002525,
          0.009148968383669853
         ]
        },
        {
         "line": {
          "color": "Pink",
          "dash": "dot",
          "width": 2
         },
         "marker": {
          "color": "Pink",
          "line": {
           "color": "DarkSlateGrey",
           "width": 1
          },
          "size": 6
         },
         "mode": "lines+markers",
         "name": "lambda = 10",
         "type": "scatter",
         "x": [
          1,
          2,
          3,
          4,
          5,
          6,
          7,
          8,
          9,
          10,
          11,
          12,
          13,
          14,
          15,
          16,
          17,
          18,
          19,
          20,
          21,
          22,
          23,
          24,
          25,
          26,
          27,
          28,
          29,
          30,
          31,
          32,
          33,
          34,
          35,
          36,
          37,
          38,
          39,
          40,
          41,
          42,
          43,
          44,
          45,
          46,
          47,
          48,
          49,
          50,
          51,
          52,
          53,
          54,
          55,
          56,
          57,
          58,
          59,
          60,
          61,
          62,
          63,
          64,
          65,
          66,
          67,
          68,
          69,
          70,
          71,
          72,
          73,
          74,
          75,
          76,
          77,
          78,
          79,
          80,
          81,
          82,
          83,
          84,
          85,
          86,
          87,
          88,
          89,
          90,
          91,
          92,
          93,
          94,
          95,
          96,
          97,
          98,
          99,
          100
         ],
         "y": [
          0.08393824845552444,
          0.003421199042350054,
          0.017768755555152893,
          0.017642173916101456,
          0.01256042905151844,
          0.007926668971776962,
          0.004412917420268059,
          0.0016776598058640957,
          0.000009696899724076502,
          0.003541964339092374,
          0.0189802385866642,
          0.03079289197921753,
          0.027370553463697433,
          0.016451697796583176,
          0.007487053517252207,
          0.0028406521305441856,
          0.0009978758171200752,
          0.00042235065484419465,
          0.00022838021686766297,
          0.00017244796617887914,
          0.00020790145208593458,
          0.00035101737012155354,
          0.0006776369991712272,
          0.001299379044212401,
          0.0022929892875254154,
          0.003606561105698347,
          0.004975401796400547,
          0.006008962634950876,
          0.006380992941558361,
          0.006018192507326603,
          0.0051076109521090984,
          0.00397272827103734,
          0.002896921243518591,
          0.0020423789974302053,
          0.0014449739828705788,
          0.0010749025968834758,
          0.0008808670099824667,
          0.0008203114848583937,
          0.0008707956876605749,
          0.0010264081647619605,
          0.001289447653107345,
          0.001656169188208878,
          0.002101452089846134,
          0.002561059780418873,
          0.0029498639050871134,
          0.0031775692477822304,
          0.0031814961694180965,
          0.002965660532936454,
          0.002592134987935424,
          0.0021551328245550394,
          0.001743820495903492,
          0.0014197712298482656,
          0.001205305103212595,
          0.0011000040685757995,
          0.0010948058916255832,
          0.0011781915090978146,
          0.001337940338999033,
          0.0015548582887277007,
          0.0017995047383010387,
          0.002025950700044632,
          0.002188079757615924,
          0.0022391993552446365,
          0.0021670626010745764,
          0.0019785433541983366,
          0.0016999784857034683,
          0.001382982125505805,
          0.0010242806747555733,
          0.0008560606511309743,
          0.0008994358358904719,
          0.001104797818697989,
          0.0012691084994003177,
          0.0013741642469540238,
          0.001368869561702013,
          0.0012756907381117344,
          0.0012722763931378722,
          0.0014075111830607057,
          0.0015820821281522512,
          0.0016962619265541434,
          0.001646747812628746,
          0.0014710237737745047,
          0.0012610468547791243,
          0.0011488293530419469,
          0.0011514181969687343,
          0.0011928064050152898,
          0.0012060251319780946,
          0.0011684391647577286,
          0.0011175808031111956,
          0.0011380197247490287,
          0.0012698841746896505,
          0.001405828632414341,
          0.0014484439743682742,
          0.0013896562159061432,
          0.0013055999297648668,
          0.0012708919821307063,
          0.0013297863770276308,
          0.0013338618446141481,
          0.0012468901695683599,
          0.0011612599482759833,
          0.0011760639026761055,
          0.0012558114249259233
         ]
        },
        {
         "line": {
          "color": "Purple",
          "dash": "dot",
          "width": 2
         },
         "marker": {
          "color": "Purple",
          "line": {
           "color": "DarkSlateGrey",
           "width": 1
          },
          "size": 6
         },
         "mode": "lines+markers",
         "name": "lambda = 100",
         "type": "scatter",
         "x": [
          1,
          2,
          3,
          4,
          5,
          6,
          7,
          8,
          9,
          10,
          11,
          12,
          13,
          14,
          15,
          16,
          17,
          18,
          19,
          20,
          21,
          22,
          23,
          24,
          25,
          26,
          27,
          28,
          29,
          30,
          31,
          32,
          33,
          34,
          35,
          36,
          37,
          38,
          39,
          40,
          41,
          42,
          43,
          44,
          45,
          46,
          47,
          48,
          49,
          50,
          51,
          52,
          53,
          54,
          55,
          56,
          57,
          58,
          59,
          60,
          61,
          62,
          63,
          64,
          65,
          66,
          67,
          68,
          69,
          70,
          71,
          72,
          73,
          74,
          75,
          76,
          77,
          78,
          79,
          80,
          81,
          82,
          83,
          84,
          85,
          86,
          87,
          88,
          89,
          90,
          91,
          92,
          93,
          94,
          95,
          96,
          97,
          98,
          99,
          100
         ],
         "y": [
          0.9427163600921631,
          0.17300979793071747,
          0.38477006554603577,
          0.562828004360199,
          0.5177189111709595,
          0.4171209931373596,
          0.29868343472480774,
          0.1749936193227768,
          0.060590874403715134,
          0.000006776821464882232,
          0.08408452570438385,
          0.11944323778152466,
          0.05601540207862854,
          0.012326346710324287,
          0.0007672111969441175,
          0.00032477854983881116,
          0.0016416939906775951,
          0.0025292381178587675,
          0.00284214923158288,
          0.00279866810888052,
          0.0025776466354727745,
          0.002294830046594143,
          0.0020078516099601984,
          0.0017421480733901262,
          0.0015079935546964407,
          0.001306220074184239,
          0.0011345058446750045,
          0.0009893596870824695,
          0.0008667986840009689,
          0.000763226649723947,
          0.0006754588102921844,
          0.0006006340845488012,
          0.0005364019889384508,
          0.0004808420781046152,
          0.00043239633669145405,
          0.00038976012729108334,
          0.0003518755256664008,
          0.00031784127349965274,
          0.00028696845402009785,
          0.0002586008922662586,
          0.00023226284247357398,
          0.0002075654483633116,
          0.00018421222921460867,
          0.00016193950432352722,
          0.00014057106454856694,
          0.000119993623229675,
          0.00010018079774454236,
          0.00008120235725073144,
          0.00006322727131191641,
          0.00004650656410376541,
          0.00003142309287795797,
          0.000018489919966668822,
          0.000008380472536373418,
          0.0000019079907360719517,
          6.187040924032772e-8,
          0.000004014005753560923,
          0.00001512213384557981,
          0.00003489514710963704,
          0.00006499154551420361,
          0.00010709651542128995,
          0.00016281509306281805,
          0.00023362826323136687,
          0.000320772232953459,
          0.00042493874207139015,
          0.000546199269592762,
          0.0006837470573373139,
          0.000835900311358273,
          0.0009995136642828584,
          0.001170141389593482,
          0.0013425209326669574,
          0.0015102524776011705,
          0.0016661733388900757,
          0.0018029118655249476,
          0.0019138568313792348,
          0.0019935215823352337,
          0.0020370290149003267,
          0.00204283045604825,
          0.002008766634389758,
          0.0019377903081476688,
          0.0018387543968856335,
          0.0017197427805513144,
          0.0015874842647463083,
          0.0014493765775114298,
          0.0013120253570377827,
          0.0011809368152171373,
          0.0010610613971948624,
          0.0009555155993439257,
          0.0008667618967592716,
          0.0007969133439473808,
          0.0007476985920220613,
          0.0007205400615930557,
          0.0007177468505688012,
          0.0007411245023831725,
          0.0007935978937894106,
          0.0008780290954746306,
          0.000997726572677493,
          0.0011551526840776205,
          0.001350446604192257,
          0.00158107269089669,
          0.0018387797754257917
         ]
        }
       ],
       "layout": {
        "font": {
         "color": "black",
         "family": "Helvetica, Arial, sans-serif",
         "size": 12
        },
        "legend": {
         "orientation": "h",
         "x": 0.1,
         "y": 1.1
        },
        "margin": {
         "b": 30,
         "l": 40,
         "r": 40,
         "t": 40
        },
        "plot_bgcolor": "white",
        "template": {
         "data": {
          "bar": [
           {
            "error_x": {
             "color": "#2a3f5f"
            },
            "error_y": {
             "color": "#2a3f5f"
            },
            "marker": {
             "line": {
              "color": "#E5ECF6",
              "width": 0.5
             },
             "pattern": {
              "fillmode": "overlay",
              "size": 10,
              "solidity": 0.2
             }
            },
            "type": "bar"
           }
          ],
          "barpolar": [
           {
            "marker": {
             "line": {
              "color": "#E5ECF6",
              "width": 0.5
             },
             "pattern": {
              "fillmode": "overlay",
              "size": 10,
              "solidity": 0.2
             }
            },
            "type": "barpolar"
           }
          ],
          "carpet": [
           {
            "aaxis": {
             "endlinecolor": "#2a3f5f",
             "gridcolor": "white",
             "linecolor": "white",
             "minorgridcolor": "white",
             "startlinecolor": "#2a3f5f"
            },
            "baxis": {
             "endlinecolor": "#2a3f5f",
             "gridcolor": "white",
             "linecolor": "white",
             "minorgridcolor": "white",
             "startlinecolor": "#2a3f5f"
            },
            "type": "carpet"
           }
          ],
          "choropleth": [
           {
            "colorbar": {
             "outlinewidth": 0,
             "ticks": ""
            },
            "type": "choropleth"
           }
          ],
          "contour": [
           {
            "colorbar": {
             "outlinewidth": 0,
             "ticks": ""
            },
            "colorscale": [
             [
              0,
              "#0d0887"
             ],
             [
              0.1111111111111111,
              "#46039f"
             ],
             [
              0.2222222222222222,
              "#7201a8"
             ],
             [
              0.3333333333333333,
              "#9c179e"
             ],
             [
              0.4444444444444444,
              "#bd3786"
             ],
             [
              0.5555555555555556,
              "#d8576b"
             ],
             [
              0.6666666666666666,
              "#ed7953"
             ],
             [
              0.7777777777777778,
              "#fb9f3a"
             ],
             [
              0.8888888888888888,
              "#fdca26"
             ],
             [
              1,
              "#f0f921"
             ]
            ],
            "type": "contour"
           }
          ],
          "contourcarpet": [
           {
            "colorbar": {
             "outlinewidth": 0,
             "ticks": ""
            },
            "type": "contourcarpet"
           }
          ],
          "heatmap": [
           {
            "colorbar": {
             "outlinewidth": 0,
             "ticks": ""
            },
            "colorscale": [
             [
              0,
              "#0d0887"
             ],
             [
              0.1111111111111111,
              "#46039f"
             ],
             [
              0.2222222222222222,
              "#7201a8"
             ],
             [
              0.3333333333333333,
              "#9c179e"
             ],
             [
              0.4444444444444444,
              "#bd3786"
             ],
             [
              0.5555555555555556,
              "#d8576b"
             ],
             [
              0.6666666666666666,
              "#ed7953"
             ],
             [
              0.7777777777777778,
              "#fb9f3a"
             ],
             [
              0.8888888888888888,
              "#fdca26"
             ],
             [
              1,
              "#f0f921"
             ]
            ],
            "type": "heatmap"
           }
          ],
          "heatmapgl": [
           {
            "colorbar": {
             "outlinewidth": 0,
             "ticks": ""
            },
            "colorscale": [
             [
              0,
              "#0d0887"
             ],
             [
              0.1111111111111111,
              "#46039f"
             ],
             [
              0.2222222222222222,
              "#7201a8"
             ],
             [
              0.3333333333333333,
              "#9c179e"
             ],
             [
              0.4444444444444444,
              "#bd3786"
             ],
             [
              0.5555555555555556,
              "#d8576b"
             ],
             [
              0.6666666666666666,
              "#ed7953"
             ],
             [
              0.7777777777777778,
              "#fb9f3a"
             ],
             [
              0.8888888888888888,
              "#fdca26"
             ],
             [
              1,
              "#f0f921"
             ]
            ],
            "type": "heatmapgl"
           }
          ],
          "histogram": [
           {
            "marker": {
             "pattern": {
              "fillmode": "overlay",
              "size": 10,
              "solidity": 0.2
             }
            },
            "type": "histogram"
           }
          ],
          "histogram2d": [
           {
            "colorbar": {
             "outlinewidth": 0,
             "ticks": ""
            },
            "colorscale": [
             [
              0,
              "#0d0887"
             ],
             [
              0.1111111111111111,
              "#46039f"
             ],
             [
              0.2222222222222222,
              "#7201a8"
             ],
             [
              0.3333333333333333,
              "#9c179e"
             ],
             [
              0.4444444444444444,
              "#bd3786"
             ],
             [
              0.5555555555555556,
              "#d8576b"
             ],
             [
              0.6666666666666666,
              "#ed7953"
             ],
             [
              0.7777777777777778,
              "#fb9f3a"
             ],
             [
              0.8888888888888888,
              "#fdca26"
             ],
             [
              1,
              "#f0f921"
             ]
            ],
            "type": "histogram2d"
           }
          ],
          "histogram2dcontour": [
           {
            "colorbar": {
             "outlinewidth": 0,
             "ticks": ""
            },
            "colorscale": [
             [
              0,
              "#0d0887"
             ],
             [
              0.1111111111111111,
              "#46039f"
             ],
             [
              0.2222222222222222,
              "#7201a8"
             ],
             [
              0.3333333333333333,
              "#9c179e"
             ],
             [
              0.4444444444444444,
              "#bd3786"
             ],
             [
              0.5555555555555556,
              "#d8576b"
             ],
             [
              0.6666666666666666,
              "#ed7953"
             ],
             [
              0.7777777777777778,
              "#fb9f3a"
             ],
             [
              0.8888888888888888,
              "#fdca26"
             ],
             [
              1,
              "#f0f921"
             ]
            ],
            "type": "histogram2dcontour"
           }
          ],
          "mesh3d": [
           {
            "colorbar": {
             "outlinewidth": 0,
             "ticks": ""
            },
            "type": "mesh3d"
           }
          ],
          "parcoords": [
           {
            "line": {
             "colorbar": {
              "outlinewidth": 0,
              "ticks": ""
             }
            },
            "type": "parcoords"
           }
          ],
          "pie": [
           {
            "automargin": true,
            "type": "pie"
           }
          ],
          "scatter": [
           {
            "fillpattern": {
             "fillmode": "overlay",
             "size": 10,
             "solidity": 0.2
            },
            "type": "scatter"
           }
          ],
          "scatter3d": [
           {
            "line": {
             "colorbar": {
              "outlinewidth": 0,
              "ticks": ""
             }
            },
            "marker": {
             "colorbar": {
              "outlinewidth": 0,
              "ticks": ""
             }
            },
            "type": "scatter3d"
           }
          ],
          "scattercarpet": [
           {
            "marker": {
             "colorbar": {
              "outlinewidth": 0,
              "ticks": ""
             }
            },
            "type": "scattercarpet"
           }
          ],
          "scattergeo": [
           {
            "marker": {
             "colorbar": {
              "outlinewidth": 0,
              "ticks": ""
             }
            },
            "type": "scattergeo"
           }
          ],
          "scattergl": [
           {
            "marker": {
             "colorbar": {
              "outlinewidth": 0,
              "ticks": ""
             }
            },
            "type": "scattergl"
           }
          ],
          "scattermapbox": [
           {
            "marker": {
             "colorbar": {
              "outlinewidth": 0,
              "ticks": ""
             }
            },
            "type": "scattermapbox"
           }
          ],
          "scatterpolar": [
           {
            "marker": {
             "colorbar": {
              "outlinewidth": 0,
              "ticks": ""
             }
            },
            "type": "scatterpolar"
           }
          ],
          "scatterpolargl": [
           {
            "marker": {
             "colorbar": {
              "outlinewidth": 0,
              "ticks": ""
             }
            },
            "type": "scatterpolargl"
           }
          ],
          "scatterternary": [
           {
            "marker": {
             "colorbar": {
              "outlinewidth": 0,
              "ticks": ""
             }
            },
            "type": "scatterternary"
           }
          ],
          "surface": [
           {
            "colorbar": {
             "outlinewidth": 0,
             "ticks": ""
            },
            "colorscale": [
             [
              0,
              "#0d0887"
             ],
             [
              0.1111111111111111,
              "#46039f"
             ],
             [
              0.2222222222222222,
              "#7201a8"
             ],
             [
              0.3333333333333333,
              "#9c179e"
             ],
             [
              0.4444444444444444,
              "#bd3786"
             ],
             [
              0.5555555555555556,
              "#d8576b"
             ],
             [
              0.6666666666666666,
              "#ed7953"
             ],
             [
              0.7777777777777778,
              "#fb9f3a"
             ],
             [
              0.8888888888888888,
              "#fdca26"
             ],
             [
              1,
              "#f0f921"
             ]
            ],
            "type": "surface"
           }
          ],
          "table": [
           {
            "cells": {
             "fill": {
              "color": "#EBF0F8"
             },
             "line": {
              "color": "white"
             }
            },
            "header": {
             "fill": {
              "color": "#C8D4E3"
             },
             "line": {
              "color": "white"
             }
            },
            "type": "table"
           }
          ]
         },
         "layout": {
          "annotationdefaults": {
           "arrowcolor": "#2a3f5f",
           "arrowhead": 0,
           "arrowwidth": 1
          },
          "autotypenumbers": "strict",
          "coloraxis": {
           "colorbar": {
            "outlinewidth": 0,
            "ticks": ""
           }
          },
          "colorscale": {
           "diverging": [
            [
             0,
             "#8e0152"
            ],
            [
             0.1,
             "#c51b7d"
            ],
            [
             0.2,
             "#de77ae"
            ],
            [
             0.3,
             "#f1b6da"
            ],
            [
             0.4,
             "#fde0ef"
            ],
            [
             0.5,
             "#f7f7f7"
            ],
            [
             0.6,
             "#e6f5d0"
            ],
            [
             0.7,
             "#b8e186"
            ],
            [
             0.8,
             "#7fbc41"
            ],
            [
             0.9,
             "#4d9221"
            ],
            [
             1,
             "#276419"
            ]
           ],
           "sequential": [
            [
             0,
             "#0d0887"
            ],
            [
             0.1111111111111111,
             "#46039f"
            ],
            [
             0.2222222222222222,
             "#7201a8"
            ],
            [
             0.3333333333333333,
             "#9c179e"
            ],
            [
             0.4444444444444444,
             "#bd3786"
            ],
            [
             0.5555555555555556,
             "#d8576b"
            ],
            [
             0.6666666666666666,
             "#ed7953"
            ],
            [
             0.7777777777777778,
             "#fb9f3a"
            ],
            [
             0.8888888888888888,
             "#fdca26"
            ],
            [
             1,
             "#f0f921"
            ]
           ],
           "sequentialminus": [
            [
             0,
             "#0d0887"
            ],
            [
             0.1111111111111111,
             "#46039f"
            ],
            [
             0.2222222222222222,
             "#7201a8"
            ],
            [
             0.3333333333333333,
             "#9c179e"
            ],
            [
             0.4444444444444444,
             "#bd3786"
            ],
            [
             0.5555555555555556,
             "#d8576b"
            ],
            [
             0.6666666666666666,
             "#ed7953"
            ],
            [
             0.7777777777777778,
             "#fb9f3a"
            ],
            [
             0.8888888888888888,
             "#fdca26"
            ],
            [
             1,
             "#f0f921"
            ]
           ]
          },
          "colorway": [
           "#636efa",
           "#EF553B",
           "#00cc96",
           "#ab63fa",
           "#FFA15A",
           "#19d3f3",
           "#FF6692",
           "#B6E880",
           "#FF97FF",
           "#FECB52"
          ],
          "font": {
           "color": "#2a3f5f"
          },
          "geo": {
           "bgcolor": "white",
           "lakecolor": "white",
           "landcolor": "#E5ECF6",
           "showlakes": true,
           "showland": true,
           "subunitcolor": "white"
          },
          "hoverlabel": {
           "align": "left"
          },
          "hovermode": "closest",
          "mapbox": {
           "style": "light"
          },
          "paper_bgcolor": "white",
          "plot_bgcolor": "#E5ECF6",
          "polar": {
           "angularaxis": {
            "gridcolor": "white",
            "linecolor": "white",
            "ticks": ""
           },
           "bgcolor": "#E5ECF6",
           "radialaxis": {
            "gridcolor": "white",
            "linecolor": "white",
            "ticks": ""
           }
          },
          "scene": {
           "xaxis": {
            "backgroundcolor": "#E5ECF6",
            "gridcolor": "white",
            "gridwidth": 2,
            "linecolor": "white",
            "showbackground": true,
            "ticks": "",
            "zerolinecolor": "white"
           },
           "yaxis": {
            "backgroundcolor": "#E5ECF6",
            "gridcolor": "white",
            "gridwidth": 2,
            "linecolor": "white",
            "showbackground": true,
            "ticks": "",
            "zerolinecolor": "white"
           },
           "zaxis": {
            "backgroundcolor": "#E5ECF6",
            "gridcolor": "white",
            "gridwidth": 2,
            "linecolor": "white",
            "showbackground": true,
            "ticks": "",
            "zerolinecolor": "white"
           }
          },
          "shapedefaults": {
           "line": {
            "color": "#2a3f5f"
           }
          },
          "ternary": {
           "aaxis": {
            "gridcolor": "white",
            "linecolor": "white",
            "ticks": ""
           },
           "baxis": {
            "gridcolor": "white",
            "linecolor": "white",
            "ticks": ""
           },
           "bgcolor": "#E5ECF6",
           "caxis": {
            "gridcolor": "white",
            "linecolor": "white",
            "ticks": ""
           }
          },
          "title": {
           "x": 0.05
          },
          "xaxis": {
           "automargin": true,
           "gridcolor": "white",
           "linecolor": "white",
           "ticks": "",
           "title": {
            "standoff": 15
           },
           "zerolinecolor": "white",
           "zerolinewidth": 2
          },
          "yaxis": {
           "automargin": true,
           "gridcolor": "white",
           "linecolor": "white",
           "ticks": "",
           "title": {
            "standoff": 15
           },
           "zerolinecolor": "white",
           "zerolinewidth": 2
          }
         }
        },
        "title": {
         "text": "TEST_Discriminations",
         "x": 0.5,
         "xanchor": "center",
         "y": 0.9,
         "yanchor": "top"
        },
        "xaxis": {
         "gridcolor": "LightGrey",
         "linecolor": "black",
         "linewidth": 2,
         "showline": true,
         "title": {
          "text": "Epoch"
         }
        },
        "yaxis": {
         "gridcolor": "LightGrey",
         "linecolor": "black",
         "linewidth": 2,
         "showline": true,
         "title": {
          "text": "Discrimination"
         }
        }
       }
      }
     },
     "metadata": {},
     "output_type": "display_data"
    },
    {
     "data": {
      "application/vnd.plotly.v1+json": {
       "config": {
        "plotlyServerURL": "https://plot.ly"
       },
       "data": [
        {
         "line": {
          "color": "RoyalBlue",
          "width": 2
         },
         "marker": {
          "color": "RoyalBlue",
          "line": {
           "color": "DarkSlateGrey",
           "width": 1
          },
          "size": 6
         },
         "mode": "lines+markers",
         "name": "Lambda = 0.1",
         "type": "scatter",
         "x": [
          1,
          2,
          3,
          4,
          5,
          6,
          7,
          8,
          9,
          10,
          11,
          12,
          13,
          14,
          15,
          16,
          17,
          18,
          19,
          20,
          21,
          22,
          23,
          24,
          25,
          26,
          27,
          28,
          29,
          30,
          31,
          32,
          33,
          34,
          35,
          36,
          37,
          38,
          39,
          40,
          41,
          42,
          43,
          44,
          45,
          46,
          47,
          48,
          49,
          50,
          51,
          52,
          53,
          54,
          55,
          56,
          57,
          58,
          59,
          60,
          61,
          62,
          63,
          64,
          65,
          66,
          67,
          68,
          69,
          70,
          71,
          72,
          73,
          74,
          75,
          76,
          77,
          78,
          79,
          80,
          81,
          82,
          83,
          84,
          85,
          86,
          87,
          88,
          89,
          90,
          91,
          92,
          93,
          94,
          95,
          96,
          97,
          98,
          99,
          100
         ],
         "y": [
          0.6168790459632874,
          0.6829957365989685,
          0.6398752927780151,
          0.5545927882194519,
          0.4637513756752014,
          0.4010516107082367,
          0.40542009472846985,
          0.4320811629295349,
          0.43332958221435547,
          0.4135563373565674,
          0.3891887962818146,
          0.37223100662231445,
          0.36654460430145264,
          0.36971181631088257,
          0.37655311822891235,
          0.3822122812271118,
          0.38388150930404663,
          0.3809945285320282,
          0.3747243881225586,
          0.36723119020462036,
          0.36073383688926697,
          0.35677123069763184,
          0.35569801926612854,
          0.3565945029258728,
          0.35787227749824524,
          0.3580031991004944,
          0.35621318221092224,
          0.3534325957298279,
          0.35187217593193054,
          0.3531108796596527,
          0.3544144332408905,
          0.3535701036453247,
          0.3515677750110626,
          0.34972384572029114,
          0.348565012216568,
          0.34791135787963867,
          0.3474404513835907,
          0.346953809261322,
          0.3464401364326477,
          0.3459969460964203,
          0.3457084596157074,
          0.3455812335014343,
          0.34553396701812744,
          0.34545832872390747,
          0.34525781869888306,
          0.3449164927005768,
          0.3444429934024811,
          0.3438746929168701,
          0.34324899315834045,
          0.3426242172718048,
          0.3420554995536804,
          0.34156471490859985,
          0.34113985300064087,
          0.3407555818557739,
          0.34039878845214844,
          0.3400750756263733,
          0.3398025631904602,
          0.3395799696445465,
          0.33937692642211914,
          0.33915627002716064,
          0.33886751532554626,
          0.3385079801082611,
          0.3381151258945465,
          0.33771026134490967,
          0.3373219966888428,
          0.33695435523986816,
          0.3366180658340454,
          0.3363240361213684,
          0.33606335520744324,
          0.335822194814682,
          0.3355974555015564,
          0.33538511395454407,
          0.3351708948612213,
          0.33494946360588074,
          0.33471137285232544,
          0.33445316553115845,
          0.3342040777206421,
          0.33393657207489014,
          0.333642840385437,
          0.3333720266819,
          0.33314183354377747,
          0.3330332338809967,
          0.3330647051334381,
          0.3332972228527069,
          0.33182618021965027,
          0.3310835063457489,
          0.3306076228618622,
          0.33059272170066833,
          0.3303791582584381,
          0.3295936584472656,
          0.3292895555496216,
          0.32921919226646423,
          0.32947421073913574,
          0.32932761311531067,
          0.3287052810192108,
          0.3285224437713623,
          0.32864806056022644,
          0.32890379428863525,
          0.3283741772174835,
          0.32805973291397095
         ]
        },
        {
         "line": {
          "color": "Crimson",
          "dash": "dot",
          "width": 2
         },
         "marker": {
          "color": "Crimson",
          "line": {
           "color": "DarkSlateGrey",
           "width": 1
          },
          "size": 6
         },
         "mode": "lines+markers",
         "name": "lambda = 1",
         "type": "scatter",
         "x": [
          1,
          2,
          3,
          4,
          5,
          6,
          7,
          8,
          9,
          10,
          11,
          12,
          13,
          14,
          15,
          16,
          17,
          18,
          19,
          20,
          21,
          22,
          23,
          24,
          25,
          26,
          27,
          28,
          29,
          30,
          31,
          32,
          33,
          34,
          35,
          36,
          37,
          38,
          39,
          40,
          41,
          42,
          43,
          44,
          45,
          46,
          47,
          48,
          49,
          50,
          51,
          52,
          53,
          54,
          55,
          56,
          57,
          58,
          59,
          60,
          61,
          62,
          63,
          64,
          65,
          66,
          67,
          68,
          69,
          70,
          71,
          72,
          73,
          74,
          75,
          76,
          77,
          78,
          79,
          80,
          81,
          82,
          83,
          84,
          85,
          86,
          87,
          88,
          89,
          90,
          91,
          92,
          93,
          94,
          95,
          96,
          97,
          98,
          99,
          100
         ],
         "y": [
          0.524501621723175,
          0.7035712599754333,
          0.7174410223960876,
          0.6332312822341919,
          0.5379812717437744,
          0.4603519141674042,
          0.4088417589664459,
          0.40117958188056946,
          0.4104888439178467,
          0.41337716579437256,
          0.4101380705833435,
          0.4026127755641937,
          0.3921220004558563,
          0.381453275680542,
          0.37401700019836426,
          0.3709850013256073,
          0.37149688601493835,
          0.37357059121131897,
          0.375309556722641,
          0.3754746615886688,
          0.37369441986083984,
          0.3703022301197052,
          0.3660215139389038,
          0.36176925897598267,
          0.35830774903297424,
          0.35608145594596863,
          0.35512658953666687,
          0.3549802601337433,
          0.35501834750175476,
          0.3547188639640808,
          0.3537808060646057,
          0.3521760404109955,
          0.35039228200912476,
          0.35180220007896423,
          0.35240915417671204,
          0.35048824548721313,
          0.34913724660873413,
          0.3485471308231354,
          0.3480873107910156,
          0.34758150577545166,
          0.3472493588924408,
          0.3473387360572815,
          0.3500846028327942,
          0.3454442024230957,
          0.3443640470504761,
          0.3440123200416565,
          0.342868834733963,
          0.3430354595184326,
          0.3441687524318695,
          0.34097903966903687,
          0.33969658613204956,
          0.33896082639694214,
          0.3390008509159088,
          0.33967939019203186,
          0.3371356725692749,
          0.3364759087562561,
          0.33610567450523376,
          0.33668482303619385,
          0.3361499607563019,
          0.3352939784526825,
          0.3353036642074585,
          0.335994690656662,
          0.3353860378265381,
          0.3345441222190857,
          0.33453357219696045,
          0.33487311005592346,
          0.33406558632850647,
          0.33380210399627686,
          0.33453747630119324,
          0.33408114314079285,
          0.33344539999961853,
          0.33373913168907166,
          0.3333736062049866,
          0.33287277817726135,
          0.3332987129688263,
          0.3330126702785492,
          0.33265846967697144,
          0.33317819237709045,
          0.3323386013507843,
          0.3328545391559601,
          0.3324436545372009,
          0.3321220278739929,
          0.33280450105667114,
          0.33168548345565796,
          0.33291560411453247,
          0.33145442605018616,
          0.33227986097335815,
          0.3314570486545563,
          0.33151698112487793,
          0.3319903612136841,
          0.3311842978000641,
          0.3327656388282776,
          0.3311571478843689,
          0.3327173590660095,
          0.3313194513320923,
          0.3316396176815033,
          0.3320915699005127,
          0.3313722014427185,
          0.3331596255302429,
          0.33144381642341614
         ]
        },
        {
         "line": {
          "color": "Pink",
          "dash": "dot",
          "width": 2
         },
         "marker": {
          "color": "Pink",
          "line": {
           "color": "DarkSlateGrey",
           "width": 1
          },
          "size": 6
         },
         "mode": "lines+markers",
         "name": "lambda = 10",
         "type": "scatter",
         "x": [
          1,
          2,
          3,
          4,
          5,
          6,
          7,
          8,
          9,
          10,
          11,
          12,
          13,
          14,
          15,
          16,
          17,
          18,
          19,
          20,
          21,
          22,
          23,
          24,
          25,
          26,
          27,
          28,
          29,
          30,
          31,
          32,
          33,
          34,
          35,
          36,
          37,
          38,
          39,
          40,
          41,
          42,
          43,
          44,
          45,
          46,
          47,
          48,
          49,
          50,
          51,
          52,
          53,
          54,
          55,
          56,
          57,
          58,
          59,
          60,
          61,
          62,
          63,
          64,
          65,
          66,
          67,
          68,
          69,
          70,
          71,
          72,
          73,
          74,
          75,
          76,
          77,
          78,
          79,
          80,
          81,
          82,
          83,
          84,
          85,
          86,
          87,
          88,
          89,
          90,
          91,
          92,
          93,
          94,
          95,
          96,
          97,
          98,
          99,
          100
         ],
         "y": [
          2.0852560997009277,
          0.5064712166786194,
          0.7100622653961182,
          0.881696879863739,
          0.8861703872680664,
          0.8081578016281128,
          0.6949447989463806,
          0.5718820095062256,
          0.4646357297897339,
          0.41823670268058777,
          0.4797957241535187,
          0.5484578609466553,
          0.5238542556762695,
          0.45956000685691833,
          0.4201938509941101,
          0.4148595929145813,
          0.4277847111225128,
          0.4397714138031006,
          0.4449387788772583,
          0.44329506158828735,
          0.4359494149684906,
          0.4251348674297333,
          0.41383495926856995,
          0.4050540626049042,
          0.4007871747016907,
          0.40125784277915955,
          0.4046552777290344,
          0.40800321102142334,
          0.4086786210536957,
          0.4058839976787567,
          0.4007625877857208,
          0.3954330384731293,
          0.39163580536842346,
          0.3900604844093323,
          0.3903636932373047,
          0.39161962270736694,
          0.39279985427856445,
          0.39314666390419006,
          0.39234310388565063,
          0.39052364230155945,
          0.38815388083457947,
          0.38584718108177185,
          0.38410794734954834,
          0.38314270973205566,
          0.3828207850456238,
          0.38274046778678894,
          0.3824666440486908,
          0.3818123936653137,
          0.3808745741844177,
          0.3799370229244232,
          0.37925148010253906,
          0.37890875339508057,
          0.3788013458251953,
          0.3787294626235962,
          0.3785129189491272,
          0.3780774474143982,
          0.37748268246650696,
          0.3768422603607178,
          0.37628573179244995,
          0.3758677840232849,
          0.375566303730011,
          0.3752921521663666,
          0.37499308586120605,
          0.374647319316864,
          0.3743493854999542,
          0.3740411400794983,
          0.3738875091075897,
          0.37374934554100037,
          0.37340447306632996,
          0.3730124235153198,
          0.37278279662132263,
          0.37259945273399353,
          0.37236645817756653,
          0.3720979690551758,
          0.371977299451828,
          0.3716795742511749,
          0.3714655935764313,
          0.3713762164115906,
          0.37106454372406006,
          0.3705768287181854,
          0.37023302912712097,
          0.3699932396411896,
          0.3696725368499756,
          0.36944934725761414,
          0.3692409098148346,
          0.3689526915550232,
          0.36877405643463135,
          0.3686361610889435,
          0.36835283041000366,
          0.3681657612323761,
          0.3679947853088379,
          0.367776095867157,
          0.36762070655822754,
          0.3674248158931732,
          0.36714839935302734,
          0.3669542372226715,
          0.3667616844177246,
          0.3666377365589142,
          0.3664533495903015,
          0.36626988649368286
         ]
        },
        {
         "line": {
          "color": "Purple",
          "dash": "dot",
          "width": 2
         },
         "marker": {
          "color": "Purple",
          "line": {
           "color": "DarkSlateGrey",
           "width": 1
          },
          "size": 6
         },
         "mode": "lines+markers",
         "name": "lambda = 100",
         "type": "scatter",
         "x": [
          1,
          2,
          3,
          4,
          5,
          6,
          7,
          8,
          9,
          10,
          11,
          12,
          13,
          14,
          15,
          16,
          17,
          18,
          19,
          20,
          21,
          22,
          23,
          24,
          25,
          26,
          27,
          28,
          29,
          30,
          31,
          32,
          33,
          34,
          35,
          36,
          37,
          38,
          39,
          40,
          41,
          42,
          43,
          44,
          45,
          46,
          47,
          48,
          49,
          50,
          51,
          52,
          53,
          54,
          55,
          56,
          57,
          58,
          59,
          60,
          61,
          62,
          63,
          64,
          65,
          66,
          67,
          68,
          69,
          70,
          71,
          72,
          73,
          74,
          75,
          76,
          77,
          78,
          79,
          80,
          81,
          82,
          83,
          84,
          85,
          86,
          87,
          88,
          89,
          90,
          91,
          92,
          93,
          94,
          95,
          96,
          97,
          98,
          99,
          100
         ],
         "y": [
          147.70858764648438,
          13.705608367919922,
          24.729219436645508,
          42.92346954345703,
          41.004459381103516,
          31.80878257751465,
          21.033918380737305,
          11.201517105102539,
          3.786807060241699,
          0.5023853778839111,
          4.962185382843018,
          6.8153228759765625,
          3.280791997909546,
          1.093662142753601,
          0.5504642724990845,
          0.5661700963973999,
          0.6880304217338562,
          0.7941278219223022,
          0.8659121990203857,
          0.9104041457176208,
          0.9365449547767639,
          0.9517862796783447,
          0.9606620669364929,
          0.9658018946647644,
          0.9687504172325134,
          0.9702540636062622,
          0.9707046747207642,
          0.9702918529510498,
          0.9690747261047363,
          0.967080295085907,
          0.9643017053604126,
          0.9607254266738892,
          0.9563494920730591,
          0.9511836171150208,
          0.9452443718910217,
          0.9385572075843811,
          0.9311528205871582,
          0.9230630993843079,
          0.9143311381340027,
          0.9049921631813049,
          0.895089864730835,
          0.8846732974052429,
          0.8737926483154297,
          0.8624942898750305,
          0.8508307337760925,
          0.8388525247573853,
          0.8266151547431946,
          0.814179539680481,
          0.8016112446784973,
          0.7889775633811951,
          0.7763512134552002,
          0.7638133764266968,
          0.7514533400535583,
          0.7393662929534912,
          0.727660059928894,
          0.7164425253868103,
          0.7058325409889221,
          0.6959534883499146,
          0.6869333386421204,
          0.6788972616195679,
          0.6719579100608826,
          0.6662163138389587,
          0.6617575883865356,
          0.6586251258850098,
          0.656826913356781,
          0.6563186049461365,
          0.65700763463974,
          0.6587221622467041,
          0.6612173318862915,
          0.6642104387283325,
          0.6673614978790283,
          0.6702864170074463,
          0.6725862622261047,
          0.6739107966423035,
          0.6739547848701477,
          0.6724498867988586,
          0.6692803502082825,
          0.6643062233924866,
          0.6576496958732605,
          0.6497560143470764,
          0.6410053968429565,
          0.631704568862915,
          0.622197151184082,
          0.612784743309021,
          0.6037147045135498,
          0.5952105522155762,
          0.587401270866394,
          0.5803853273391724,
          0.574255108833313,
          0.5690807104110718,
          0.5649270415306091,
          0.5619106888771057,
          0.5601243376731873,
          0.5597253441810608,
          0.5608727335929871,
          0.5637471079826355,
          0.5684921145439148,
          0.575136661529541,
          0.5835796594619751,
          0.5934415459632874
         ]
        }
       ],
       "layout": {
        "font": {
         "color": "black",
         "family": "Helvetica, Arial, sans-serif",
         "size": 12
        },
        "legend": {
         "orientation": "h",
         "x": 0.1,
         "y": 1.1
        },
        "margin": {
         "b": 30,
         "l": 40,
         "r": 40,
         "t": 40
        },
        "plot_bgcolor": "white",
        "template": {
         "data": {
          "bar": [
           {
            "error_x": {
             "color": "#2a3f5f"
            },
            "error_y": {
             "color": "#2a3f5f"
            },
            "marker": {
             "line": {
              "color": "#E5ECF6",
              "width": 0.5
             },
             "pattern": {
              "fillmode": "overlay",
              "size": 10,
              "solidity": 0.2
             }
            },
            "type": "bar"
           }
          ],
          "barpolar": [
           {
            "marker": {
             "line": {
              "color": "#E5ECF6",
              "width": 0.5
             },
             "pattern": {
              "fillmode": "overlay",
              "size": 10,
              "solidity": 0.2
             }
            },
            "type": "barpolar"
           }
          ],
          "carpet": [
           {
            "aaxis": {
             "endlinecolor": "#2a3f5f",
             "gridcolor": "white",
             "linecolor": "white",
             "minorgridcolor": "white",
             "startlinecolor": "#2a3f5f"
            },
            "baxis": {
             "endlinecolor": "#2a3f5f",
             "gridcolor": "white",
             "linecolor": "white",
             "minorgridcolor": "white",
             "startlinecolor": "#2a3f5f"
            },
            "type": "carpet"
           }
          ],
          "choropleth": [
           {
            "colorbar": {
             "outlinewidth": 0,
             "ticks": ""
            },
            "type": "choropleth"
           }
          ],
          "contour": [
           {
            "colorbar": {
             "outlinewidth": 0,
             "ticks": ""
            },
            "colorscale": [
             [
              0,
              "#0d0887"
             ],
             [
              0.1111111111111111,
              "#46039f"
             ],
             [
              0.2222222222222222,
              "#7201a8"
             ],
             [
              0.3333333333333333,
              "#9c179e"
             ],
             [
              0.4444444444444444,
              "#bd3786"
             ],
             [
              0.5555555555555556,
              "#d8576b"
             ],
             [
              0.6666666666666666,
              "#ed7953"
             ],
             [
              0.7777777777777778,
              "#fb9f3a"
             ],
             [
              0.8888888888888888,
              "#fdca26"
             ],
             [
              1,
              "#f0f921"
             ]
            ],
            "type": "contour"
           }
          ],
          "contourcarpet": [
           {
            "colorbar": {
             "outlinewidth": 0,
             "ticks": ""
            },
            "type": "contourcarpet"
           }
          ],
          "heatmap": [
           {
            "colorbar": {
             "outlinewidth": 0,
             "ticks": ""
            },
            "colorscale": [
             [
              0,
              "#0d0887"
             ],
             [
              0.1111111111111111,
              "#46039f"
             ],
             [
              0.2222222222222222,
              "#7201a8"
             ],
             [
              0.3333333333333333,
              "#9c179e"
             ],
             [
              0.4444444444444444,
              "#bd3786"
             ],
             [
              0.5555555555555556,
              "#d8576b"
             ],
             [
              0.6666666666666666,
              "#ed7953"
             ],
             [
              0.7777777777777778,
              "#fb9f3a"
             ],
             [
              0.8888888888888888,
              "#fdca26"
             ],
             [
              1,
              "#f0f921"
             ]
            ],
            "type": "heatmap"
           }
          ],
          "heatmapgl": [
           {
            "colorbar": {
             "outlinewidth": 0,
             "ticks": ""
            },
            "colorscale": [
             [
              0,
              "#0d0887"
             ],
             [
              0.1111111111111111,
              "#46039f"
             ],
             [
              0.2222222222222222,
              "#7201a8"
             ],
             [
              0.3333333333333333,
              "#9c179e"
             ],
             [
              0.4444444444444444,
              "#bd3786"
             ],
             [
              0.5555555555555556,
              "#d8576b"
             ],
             [
              0.6666666666666666,
              "#ed7953"
             ],
             [
              0.7777777777777778,
              "#fb9f3a"
             ],
             [
              0.8888888888888888,
              "#fdca26"
             ],
             [
              1,
              "#f0f921"
             ]
            ],
            "type": "heatmapgl"
           }
          ],
          "histogram": [
           {
            "marker": {
             "pattern": {
              "fillmode": "overlay",
              "size": 10,
              "solidity": 0.2
             }
            },
            "type": "histogram"
           }
          ],
          "histogram2d": [
           {
            "colorbar": {
             "outlinewidth": 0,
             "ticks": ""
            },
            "colorscale": [
             [
              0,
              "#0d0887"
             ],
             [
              0.1111111111111111,
              "#46039f"
             ],
             [
              0.2222222222222222,
              "#7201a8"
             ],
             [
              0.3333333333333333,
              "#9c179e"
             ],
             [
              0.4444444444444444,
              "#bd3786"
             ],
             [
              0.5555555555555556,
              "#d8576b"
             ],
             [
              0.6666666666666666,
              "#ed7953"
             ],
             [
              0.7777777777777778,
              "#fb9f3a"
             ],
             [
              0.8888888888888888,
              "#fdca26"
             ],
             [
              1,
              "#f0f921"
             ]
            ],
            "type": "histogram2d"
           }
          ],
          "histogram2dcontour": [
           {
            "colorbar": {
             "outlinewidth": 0,
             "ticks": ""
            },
            "colorscale": [
             [
              0,
              "#0d0887"
             ],
             [
              0.1111111111111111,
              "#46039f"
             ],
             [
              0.2222222222222222,
              "#7201a8"
             ],
             [
              0.3333333333333333,
              "#9c179e"
             ],
             [
              0.4444444444444444,
              "#bd3786"
             ],
             [
              0.5555555555555556,
              "#d8576b"
             ],
             [
              0.6666666666666666,
              "#ed7953"
             ],
             [
              0.7777777777777778,
              "#fb9f3a"
             ],
             [
              0.8888888888888888,
              "#fdca26"
             ],
             [
              1,
              "#f0f921"
             ]
            ],
            "type": "histogram2dcontour"
           }
          ],
          "mesh3d": [
           {
            "colorbar": {
             "outlinewidth": 0,
             "ticks": ""
            },
            "type": "mesh3d"
           }
          ],
          "parcoords": [
           {
            "line": {
             "colorbar": {
              "outlinewidth": 0,
              "ticks": ""
             }
            },
            "type": "parcoords"
           }
          ],
          "pie": [
           {
            "automargin": true,
            "type": "pie"
           }
          ],
          "scatter": [
           {
            "fillpattern": {
             "fillmode": "overlay",
             "size": 10,
             "solidity": 0.2
            },
            "type": "scatter"
           }
          ],
          "scatter3d": [
           {
            "line": {
             "colorbar": {
              "outlinewidth": 0,
              "ticks": ""
             }
            },
            "marker": {
             "colorbar": {
              "outlinewidth": 0,
              "ticks": ""
             }
            },
            "type": "scatter3d"
           }
          ],
          "scattercarpet": [
           {
            "marker": {
             "colorbar": {
              "outlinewidth": 0,
              "ticks": ""
             }
            },
            "type": "scattercarpet"
           }
          ],
          "scattergeo": [
           {
            "marker": {
             "colorbar": {
              "outlinewidth": 0,
              "ticks": ""
             }
            },
            "type": "scattergeo"
           }
          ],
          "scattergl": [
           {
            "marker": {
             "colorbar": {
              "outlinewidth": 0,
              "ticks": ""
             }
            },
            "type": "scattergl"
           }
          ],
          "scattermapbox": [
           {
            "marker": {
             "colorbar": {
              "outlinewidth": 0,
              "ticks": ""
             }
            },
            "type": "scattermapbox"
           }
          ],
          "scatterpolar": [
           {
            "marker": {
             "colorbar": {
              "outlinewidth": 0,
              "ticks": ""
             }
            },
            "type": "scatterpolar"
           }
          ],
          "scatterpolargl": [
           {
            "marker": {
             "colorbar": {
              "outlinewidth": 0,
              "ticks": ""
             }
            },
            "type": "scatterpolargl"
           }
          ],
          "scatterternary": [
           {
            "marker": {
             "colorbar": {
              "outlinewidth": 0,
              "ticks": ""
             }
            },
            "type": "scatterternary"
           }
          ],
          "surface": [
           {
            "colorbar": {
             "outlinewidth": 0,
             "ticks": ""
            },
            "colorscale": [
             [
              0,
              "#0d0887"
             ],
             [
              0.1111111111111111,
              "#46039f"
             ],
             [
              0.2222222222222222,
              "#7201a8"
             ],
             [
              0.3333333333333333,
              "#9c179e"
             ],
             [
              0.4444444444444444,
              "#bd3786"
             ],
             [
              0.5555555555555556,
              "#d8576b"
             ],
             [
              0.6666666666666666,
              "#ed7953"
             ],
             [
              0.7777777777777778,
              "#fb9f3a"
             ],
             [
              0.8888888888888888,
              "#fdca26"
             ],
             [
              1,
              "#f0f921"
             ]
            ],
            "type": "surface"
           }
          ],
          "table": [
           {
            "cells": {
             "fill": {
              "color": "#EBF0F8"
             },
             "line": {
              "color": "white"
             }
            },
            "header": {
             "fill": {
              "color": "#C8D4E3"
             },
             "line": {
              "color": "white"
             }
            },
            "type": "table"
           }
          ]
         },
         "layout": {
          "annotationdefaults": {
           "arrowcolor": "#2a3f5f",
           "arrowhead": 0,
           "arrowwidth": 1
          },
          "autotypenumbers": "strict",
          "coloraxis": {
           "colorbar": {
            "outlinewidth": 0,
            "ticks": ""
           }
          },
          "colorscale": {
           "diverging": [
            [
             0,
             "#8e0152"
            ],
            [
             0.1,
             "#c51b7d"
            ],
            [
             0.2,
             "#de77ae"
            ],
            [
             0.3,
             "#f1b6da"
            ],
            [
             0.4,
             "#fde0ef"
            ],
            [
             0.5,
             "#f7f7f7"
            ],
            [
             0.6,
             "#e6f5d0"
            ],
            [
             0.7,
             "#b8e186"
            ],
            [
             0.8,
             "#7fbc41"
            ],
            [
             0.9,
             "#4d9221"
            ],
            [
             1,
             "#276419"
            ]
           ],
           "sequential": [
            [
             0,
             "#0d0887"
            ],
            [
             0.1111111111111111,
             "#46039f"
            ],
            [
             0.2222222222222222,
             "#7201a8"
            ],
            [
             0.3333333333333333,
             "#9c179e"
            ],
            [
             0.4444444444444444,
             "#bd3786"
            ],
            [
             0.5555555555555556,
             "#d8576b"
            ],
            [
             0.6666666666666666,
             "#ed7953"
            ],
            [
             0.7777777777777778,
             "#fb9f3a"
            ],
            [
             0.8888888888888888,
             "#fdca26"
            ],
            [
             1,
             "#f0f921"
            ]
           ],
           "sequentialminus": [
            [
             0,
             "#0d0887"
            ],
            [
             0.1111111111111111,
             "#46039f"
            ],
            [
             0.2222222222222222,
             "#7201a8"
            ],
            [
             0.3333333333333333,
             "#9c179e"
            ],
            [
             0.4444444444444444,
             "#bd3786"
            ],
            [
             0.5555555555555556,
             "#d8576b"
            ],
            [
             0.6666666666666666,
             "#ed7953"
            ],
            [
             0.7777777777777778,
             "#fb9f3a"
            ],
            [
             0.8888888888888888,
             "#fdca26"
            ],
            [
             1,
             "#f0f921"
            ]
           ]
          },
          "colorway": [
           "#636efa",
           "#EF553B",
           "#00cc96",
           "#ab63fa",
           "#FFA15A",
           "#19d3f3",
           "#FF6692",
           "#B6E880",
           "#FF97FF",
           "#FECB52"
          ],
          "font": {
           "color": "#2a3f5f"
          },
          "geo": {
           "bgcolor": "white",
           "lakecolor": "white",
           "landcolor": "#E5ECF6",
           "showlakes": true,
           "showland": true,
           "subunitcolor": "white"
          },
          "hoverlabel": {
           "align": "left"
          },
          "hovermode": "closest",
          "mapbox": {
           "style": "light"
          },
          "paper_bgcolor": "white",
          "plot_bgcolor": "#E5ECF6",
          "polar": {
           "angularaxis": {
            "gridcolor": "white",
            "linecolor": "white",
            "ticks": ""
           },
           "bgcolor": "#E5ECF6",
           "radialaxis": {
            "gridcolor": "white",
            "linecolor": "white",
            "ticks": ""
           }
          },
          "scene": {
           "xaxis": {
            "backgroundcolor": "#E5ECF6",
            "gridcolor": "white",
            "gridwidth": 2,
            "linecolor": "white",
            "showbackground": true,
            "ticks": "",
            "zerolinecolor": "white"
           },
           "yaxis": {
            "backgroundcolor": "#E5ECF6",
            "gridcolor": "white",
            "gridwidth": 2,
            "linecolor": "white",
            "showbackground": true,
            "ticks": "",
            "zerolinecolor": "white"
           },
           "zaxis": {
            "backgroundcolor": "#E5ECF6",
            "gridcolor": "white",
            "gridwidth": 2,
            "linecolor": "white",
            "showbackground": true,
            "ticks": "",
            "zerolinecolor": "white"
           }
          },
          "shapedefaults": {
           "line": {
            "color": "#2a3f5f"
           }
          },
          "ternary": {
           "aaxis": {
            "gridcolor": "white",
            "linecolor": "white",
            "ticks": ""
           },
           "baxis": {
            "gridcolor": "white",
            "linecolor": "white",
            "ticks": ""
           },
           "bgcolor": "#E5ECF6",
           "caxis": {
            "gridcolor": "white",
            "linecolor": "white",
            "ticks": ""
           }
          },
          "title": {
           "x": 0.05
          },
          "xaxis": {
           "automargin": true,
           "gridcolor": "white",
           "linecolor": "white",
           "ticks": "",
           "title": {
            "standoff": 15
           },
           "zerolinecolor": "white",
           "zerolinewidth": 2
          },
          "yaxis": {
           "automargin": true,
           "gridcolor": "white",
           "linecolor": "white",
           "ticks": "",
           "title": {
            "standoff": 15
           },
           "zerolinecolor": "white",
           "zerolinewidth": 2
          }
         }
        },
        "title": {
         "text": "TEST_Losses",
         "x": 0.5,
         "xanchor": "center",
         "y": 0.9,
         "yanchor": "top"
        },
        "xaxis": {
         "gridcolor": "LightGrey",
         "linecolor": "black",
         "linewidth": 2,
         "showline": true,
         "title": {
          "text": "Epoch"
         }
        },
        "yaxis": {
         "gridcolor": "LightGrey",
         "linecolor": "black",
         "linewidth": 2,
         "showline": true,
         "title": {
          "text": "Losses"
         }
        }
       }
      }
     },
     "metadata": {},
     "output_type": "display_data"
    }
   ],
   "source": [
    "plot_comp_metric(\"TEST_Fairness\", \"Fairness\", test_fairness3, test_fairness4, test_fairness5, test_fairness6)\n",
    "plot_comp_metric(\"TEST_Discriminations\", \"Discrimination\", test_discriminations3, test_discriminations4, test_discriminations5, test_discriminations6)\n",
    "plot_comp_metric(\"TEST_Losses\", \"Losses\", test_losses3,test_losses4,test_losses5,test_losses6)\n"
   ]
  },
  {
   "cell_type": "code",
   "execution_count": null,
   "metadata": {},
   "outputs": [],
   "source": []
  },
  {
   "cell_type": "markdown",
   "metadata": {},
   "source": [
    "#### MODEL ACCROSS DIFFERENT VALUES OF K"
   ]
  },
  {
   "cell_type": "code",
   "execution_count": 15,
   "metadata": {},
   "outputs": [],
   "source": [
    "import plotly.graph_objects as go\n",
    "\n",
    "def plot_comp_metric_k(title, y_label, val1, val2):\n",
    "    epochs = list(range(1, 101))\n",
    "    fig = go.Figure()\n",
    "\n",
    "    # Adding Train Line with Markers\n",
    "    if val1:\n",
    "        fig.add_trace(go.Scatter(\n",
    "            x=epochs, y=val1, mode='lines+markers',\n",
    "            name='K = 2',\n",
    "            line=dict(color='RoyalBlue', width=2),\n",
    "            marker=dict(color='RoyalBlue', size=6, line=dict(width=1, color='DarkSlateGrey'))\n",
    "        ))\n",
    "    if val2:\n",
    "\n",
    "        # Adding Test Line with Markers\n",
    "        fig.add_trace(go.Scatter(\n",
    "            x=epochs, y=val2, mode='lines+markers',\n",
    "            name='K = 3',\n",
    "            line=dict(color='Crimson', width=2, dash='dot'),\n",
    "            marker=dict(color='Crimson', size=6, line=dict(width=1, color='DarkSlateGrey'))\n",
    "        ))\n",
    "\n",
    "\n",
    "\n",
    "    # Update Layout\n",
    "    fig.update_layout(\n",
    "        title={'text': title, 'y':0.9, 'x':0.5, 'xanchor': 'center', 'yanchor': 'top'},\n",
    "        xaxis_title='Epoch',\n",
    "        yaxis_title=y_label,\n",
    "        legend=dict(x=0.1, y=1.1, orientation='h'),\n",
    "        font=dict(family=\"Helvetica, Arial, sans-serif\", size=12, color=\"black\"),\n",
    "        plot_bgcolor='white',\n",
    "        margin=dict(l=40, r=40, t=40, b=30)\n",
    "    )\n",
    "\n",
    "    # Gridlines and Axes styles\n",
    "    fig.update_xaxes(showline=True, linewidth=2, linecolor='black', gridcolor='LightGrey')\n",
    "    fig.update_yaxes(showline=True, linewidth=2, linecolor='black', gridcolor='LightGrey')\n",
    "\n",
    "    fig.show()"
   ]
  },
  {
   "cell_type": "markdown",
   "metadata": {},
   "source": []
  },
  {
   "cell_type": "code",
   "execution_count": 16,
   "metadata": {},
   "outputs": [
    {
     "data": {
      "application/vnd.plotly.v1+json": {
       "config": {
        "plotlyServerURL": "https://plot.ly"
       },
       "data": [
        {
         "line": {
          "color": "RoyalBlue",
          "width": 2
         },
         "marker": {
          "color": "RoyalBlue",
          "line": {
           "color": "DarkSlateGrey",
           "width": 1
          },
          "size": 6
         },
         "mode": "lines+markers",
         "name": "K = 2",
         "type": "scatter",
         "x": [
          1,
          2,
          3,
          4,
          5,
          6,
          7,
          8,
          9,
          10,
          11,
          12,
          13,
          14,
          15,
          16,
          17,
          18,
          19,
          20,
          21,
          22,
          23,
          24,
          25,
          26,
          27,
          28,
          29,
          30,
          31,
          32,
          33,
          34,
          35,
          36,
          37,
          38,
          39,
          40,
          41,
          42,
          43,
          44,
          45,
          46,
          47,
          48,
          49,
          50,
          51,
          52,
          53,
          54,
          55,
          56,
          57,
          58,
          59,
          60,
          61,
          62,
          63,
          64,
          65,
          66,
          67,
          68,
          69,
          70,
          71,
          72,
          73,
          74,
          75,
          76,
          77,
          78,
          79,
          80,
          81,
          82,
          83,
          84,
          85,
          86,
          87,
          88,
          89,
          90,
          91,
          92,
          93,
          94,
          95,
          96,
          97,
          98,
          99,
          100
         ],
         "y": [
          0.8269833922386169,
          0.24106979370117188,
          0.9908014182001352,
          0.9061989337205887,
          0.9132030829787254,
          0.9381121657788754,
          0.9614130407571793,
          0.9782941304147243,
          0.9887344781309366,
          0.9944296306930482,
          0.9972850435879081,
          0.9986598503310233,
          0.999317652254831,
          0.9996378674986772,
          0.9997980458429083,
          0.9998813934653299,
          0.9999266062877723,
          0.999952163449052,
          0.9999671960249543,
          0.9999763553769299,
          0.9999821116834937,
          0.9999858511346247,
          0.9999883443952058,
          0.9999901375958871,
          0.9999917440800346,
          0.9999940354759929,
          0.9999980603483891,
          0.999997363037437,
          0.9998809240059927,
          0.9983920322265476,
          0.9933744561858475,
          0.9976007000077516,
          0.9999109616910573,
          0.9997705291025341,
          0.9994093799032271,
          0.9992926348350011,
          0.9993322466616519,
          0.9994269075687043,
          0.9995215732778888,
          0.9995995899953414,
          0.9996692541171797,
          0.9997519079770427,
          0.9998698253766634,
          0.9999930980870886,
          0.9997719737439184,
          0.9984030795749277,
          0.9985332292271778,
          0.9996284475782886,
          0.9999908938843873,
          0.9999518344411626,
          0.9998434651788557,
          0.9997772709757555,
          0.9998016876343172,
          0.9999254329231917,
          0.9999868965805945,
          0.999536923452979,
          0.999227455293294,
          0.9998392101988429,
          0.9999887224912527,
          0.9998540466185659,
          0.9998027187102707,
          0.9999029165192042,
          0.9999995884842008,
          0.9997790996712865,
          0.9995540332165547,
          0.9998565667774528,
          0.9999996701901352,
          0.9999354602623498,
          0.9999196677672444,
          0.9999883537248024,
          0.9999473314128409,
          0.9997440724109765,
          0.9998371326219058,
          0.9999974468705659,
          0.9999547798106505,
          0.999947396281641,
          0.9999998100269636,
          0.999881649739109,
          0.9998705426987726,
          0.9999993175251234,
          0.999949151668261,
          0.999979436302965,
          0.9999630502497894,
          0.9998879001359455,
          0.9999977236959694,
          0.9999607473546348,
          0.9999953328001538,
          0.9999373354730778,
          0.9999482766288565,
          0.99999409832526,
          0.9999830867545825,
          0.9999804123490321,
          0.9999332168663386,
          0.9999999143508234,
          0.9999872443140703,
          0.9999891521747486,
          0.9999427591756103,
          0.9999995763516836,
          0.9999933682488518,
          0.999983354106007
         ]
        },
        {
         "line": {
          "color": "Crimson",
          "dash": "dot",
          "width": 2
         },
         "marker": {
          "color": "Crimson",
          "line": {
           "color": "DarkSlateGrey",
           "width": 1
          },
          "size": 6
         },
         "mode": "lines+markers",
         "name": "K = 3",
         "type": "scatter",
         "x": [
          1,
          2,
          3,
          4,
          5,
          6,
          7,
          8,
          9,
          10,
          11,
          12,
          13,
          14,
          15,
          16,
          17,
          18,
          19,
          20,
          21,
          22,
          23,
          24,
          25,
          26,
          27,
          28,
          29,
          30,
          31,
          32,
          33,
          34,
          35,
          36,
          37,
          38,
          39,
          40,
          41,
          42,
          43,
          44,
          45,
          46,
          47,
          48,
          49,
          50,
          51,
          52,
          53,
          54,
          55,
          56,
          57,
          58,
          59,
          60,
          61,
          62,
          63,
          64,
          65,
          66,
          67,
          68,
          69,
          70,
          71,
          72,
          73,
          74,
          75,
          76,
          77,
          78,
          79,
          80,
          81,
          82,
          83,
          84,
          85,
          86,
          87,
          88,
          89,
          90,
          91,
          92,
          93,
          94,
          95,
          96,
          97,
          98,
          99,
          100
         ],
         "y": [
          0.9941050503402948,
          1.068150207400322,
          1.1192392110824585,
          1.1773332953453064,
          1.2079679369926453,
          1.219757080078125,
          1.2357962131500244,
          1.2438712865114212,
          1.2523142099380493,
          1.2581212222576141,
          1.2671630382537842,
          1.2790126204490662,
          1.2972032129764557,
          1.311155080795288,
          1.3109321892261505,
          1.3393656611442566,
          1.33212411403656,
          1.3505126237869263,
          1.3458420634269714,
          1.3583925664424896,
          1.3545039892196655,
          1.367745965719223,
          1.3660168945789337,
          1.3753757178783417,
          1.3754058480262756,
          1.380422294139862,
          1.3853291869163513,
          1.3870472013950348,
          1.3919619619846344,
          1.3922656774520874,
          1.3981888890266418,
          1.3985283076763153,
          1.4035132825374603,
          1.4036070704460144,
          1.408383071422577,
          1.4092672765254974,
          1.412878394126892,
          1.4129879176616669,
          1.4168020188808441,
          1.417375236749649,
          1.420307457447052,
          1.420390009880066,
          1.4230696558952332,
          1.4239674806594849,
          1.4251497387886047,
          1.426725685596466,
          1.4277337789535522,
          1.4294791221618652,
          1.4298320412635803,
          1.4316508769989014,
          1.432617723941803,
          1.4334579706192017,
          1.4350814819335938,
          1.4359553456306458,
          1.4371327459812164,
          1.438347041606903,
          1.4391574263572693,
          1.440179467201233,
          1.441307008266449,
          1.4421024918556213,
          1.4428985118865967,
          1.4440946877002716,
          1.444945514202118,
          1.445580631494522,
          1.4466858208179474,
          1.4476166665554047,
          1.448636770248413,
          1.4495365023612976,
          1.4502680599689484,
          1.4510807394981384,
          1.4512330889701843,
          1.451192170381546,
          1.448909342288971,
          1.4469816088676453,
          1.4499695301055908,
          1.455277919769287,
          1.4571201801300049,
          1.4554075300693512,
          1.4533259272575378,
          1.455284059047699,
          1.4594210088253021,
          1.4608516097068787,
          1.4595601558685303,
          1.4587712287902832,
          1.4605952501296997,
          1.4632208347320557,
          1.464205265045166,
          1.4635863900184631,
          1.4631522595882416,
          1.463903933763504,
          1.465770572423935,
          1.4670814275741577,
          1.467587262392044,
          1.467514842748642,
          1.467054545879364,
          1.46724733710289,
          1.4682527780532837,
          1.469739317893982,
          1.4708042740821838,
          1.4715669453144073
         ]
        }
       ],
       "layout": {
        "font": {
         "color": "black",
         "family": "Helvetica, Arial, sans-serif",
         "size": 12
        },
        "legend": {
         "orientation": "h",
         "x": 0.1,
         "y": 1.1
        },
        "margin": {
         "b": 30,
         "l": 40,
         "r": 40,
         "t": 40
        },
        "plot_bgcolor": "white",
        "template": {
         "data": {
          "bar": [
           {
            "error_x": {
             "color": "#2a3f5f"
            },
            "error_y": {
             "color": "#2a3f5f"
            },
            "marker": {
             "line": {
              "color": "#E5ECF6",
              "width": 0.5
             },
             "pattern": {
              "fillmode": "overlay",
              "size": 10,
              "solidity": 0.2
             }
            },
            "type": "bar"
           }
          ],
          "barpolar": [
           {
            "marker": {
             "line": {
              "color": "#E5ECF6",
              "width": 0.5
             },
             "pattern": {
              "fillmode": "overlay",
              "size": 10,
              "solidity": 0.2
             }
            },
            "type": "barpolar"
           }
          ],
          "carpet": [
           {
            "aaxis": {
             "endlinecolor": "#2a3f5f",
             "gridcolor": "white",
             "linecolor": "white",
             "minorgridcolor": "white",
             "startlinecolor": "#2a3f5f"
            },
            "baxis": {
             "endlinecolor": "#2a3f5f",
             "gridcolor": "white",
             "linecolor": "white",
             "minorgridcolor": "white",
             "startlinecolor": "#2a3f5f"
            },
            "type": "carpet"
           }
          ],
          "choropleth": [
           {
            "colorbar": {
             "outlinewidth": 0,
             "ticks": ""
            },
            "type": "choropleth"
           }
          ],
          "contour": [
           {
            "colorbar": {
             "outlinewidth": 0,
             "ticks": ""
            },
            "colorscale": [
             [
              0,
              "#0d0887"
             ],
             [
              0.1111111111111111,
              "#46039f"
             ],
             [
              0.2222222222222222,
              "#7201a8"
             ],
             [
              0.3333333333333333,
              "#9c179e"
             ],
             [
              0.4444444444444444,
              "#bd3786"
             ],
             [
              0.5555555555555556,
              "#d8576b"
             ],
             [
              0.6666666666666666,
              "#ed7953"
             ],
             [
              0.7777777777777778,
              "#fb9f3a"
             ],
             [
              0.8888888888888888,
              "#fdca26"
             ],
             [
              1,
              "#f0f921"
             ]
            ],
            "type": "contour"
           }
          ],
          "contourcarpet": [
           {
            "colorbar": {
             "outlinewidth": 0,
             "ticks": ""
            },
            "type": "contourcarpet"
           }
          ],
          "heatmap": [
           {
            "colorbar": {
             "outlinewidth": 0,
             "ticks": ""
            },
            "colorscale": [
             [
              0,
              "#0d0887"
             ],
             [
              0.1111111111111111,
              "#46039f"
             ],
             [
              0.2222222222222222,
              "#7201a8"
             ],
             [
              0.3333333333333333,
              "#9c179e"
             ],
             [
              0.4444444444444444,
              "#bd3786"
             ],
             [
              0.5555555555555556,
              "#d8576b"
             ],
             [
              0.6666666666666666,
              "#ed7953"
             ],
             [
              0.7777777777777778,
              "#fb9f3a"
             ],
             [
              0.8888888888888888,
              "#fdca26"
             ],
             [
              1,
              "#f0f921"
             ]
            ],
            "type": "heatmap"
           }
          ],
          "heatmapgl": [
           {
            "colorbar": {
             "outlinewidth": 0,
             "ticks": ""
            },
            "colorscale": [
             [
              0,
              "#0d0887"
             ],
             [
              0.1111111111111111,
              "#46039f"
             ],
             [
              0.2222222222222222,
              "#7201a8"
             ],
             [
              0.3333333333333333,
              "#9c179e"
             ],
             [
              0.4444444444444444,
              "#bd3786"
             ],
             [
              0.5555555555555556,
              "#d8576b"
             ],
             [
              0.6666666666666666,
              "#ed7953"
             ],
             [
              0.7777777777777778,
              "#fb9f3a"
             ],
             [
              0.8888888888888888,
              "#fdca26"
             ],
             [
              1,
              "#f0f921"
             ]
            ],
            "type": "heatmapgl"
           }
          ],
          "histogram": [
           {
            "marker": {
             "pattern": {
              "fillmode": "overlay",
              "size": 10,
              "solidity": 0.2
             }
            },
            "type": "histogram"
           }
          ],
          "histogram2d": [
           {
            "colorbar": {
             "outlinewidth": 0,
             "ticks": ""
            },
            "colorscale": [
             [
              0,
              "#0d0887"
             ],
             [
              0.1111111111111111,
              "#46039f"
             ],
             [
              0.2222222222222222,
              "#7201a8"
             ],
             [
              0.3333333333333333,
              "#9c179e"
             ],
             [
              0.4444444444444444,
              "#bd3786"
             ],
             [
              0.5555555555555556,
              "#d8576b"
             ],
             [
              0.6666666666666666,
              "#ed7953"
             ],
             [
              0.7777777777777778,
              "#fb9f3a"
             ],
             [
              0.8888888888888888,
              "#fdca26"
             ],
             [
              1,
              "#f0f921"
             ]
            ],
            "type": "histogram2d"
           }
          ],
          "histogram2dcontour": [
           {
            "colorbar": {
             "outlinewidth": 0,
             "ticks": ""
            },
            "colorscale": [
             [
              0,
              "#0d0887"
             ],
             [
              0.1111111111111111,
              "#46039f"
             ],
             [
              0.2222222222222222,
              "#7201a8"
             ],
             [
              0.3333333333333333,
              "#9c179e"
             ],
             [
              0.4444444444444444,
              "#bd3786"
             ],
             [
              0.5555555555555556,
              "#d8576b"
             ],
             [
              0.6666666666666666,
              "#ed7953"
             ],
             [
              0.7777777777777778,
              "#fb9f3a"
             ],
             [
              0.8888888888888888,
              "#fdca26"
             ],
             [
              1,
              "#f0f921"
             ]
            ],
            "type": "histogram2dcontour"
           }
          ],
          "mesh3d": [
           {
            "colorbar": {
             "outlinewidth": 0,
             "ticks": ""
            },
            "type": "mesh3d"
           }
          ],
          "parcoords": [
           {
            "line": {
             "colorbar": {
              "outlinewidth": 0,
              "ticks": ""
             }
            },
            "type": "parcoords"
           }
          ],
          "pie": [
           {
            "automargin": true,
            "type": "pie"
           }
          ],
          "scatter": [
           {
            "fillpattern": {
             "fillmode": "overlay",
             "size": 10,
             "solidity": 0.2
            },
            "type": "scatter"
           }
          ],
          "scatter3d": [
           {
            "line": {
             "colorbar": {
              "outlinewidth": 0,
              "ticks": ""
             }
            },
            "marker": {
             "colorbar": {
              "outlinewidth": 0,
              "ticks": ""
             }
            },
            "type": "scatter3d"
           }
          ],
          "scattercarpet": [
           {
            "marker": {
             "colorbar": {
              "outlinewidth": 0,
              "ticks": ""
             }
            },
            "type": "scattercarpet"
           }
          ],
          "scattergeo": [
           {
            "marker": {
             "colorbar": {
              "outlinewidth": 0,
              "ticks": ""
             }
            },
            "type": "scattergeo"
           }
          ],
          "scattergl": [
           {
            "marker": {
             "colorbar": {
              "outlinewidth": 0,
              "ticks": ""
             }
            },
            "type": "scattergl"
           }
          ],
          "scattermapbox": [
           {
            "marker": {
             "colorbar": {
              "outlinewidth": 0,
              "ticks": ""
             }
            },
            "type": "scattermapbox"
           }
          ],
          "scatterpolar": [
           {
            "marker": {
             "colorbar": {
              "outlinewidth": 0,
              "ticks": ""
             }
            },
            "type": "scatterpolar"
           }
          ],
          "scatterpolargl": [
           {
            "marker": {
             "colorbar": {
              "outlinewidth": 0,
              "ticks": ""
             }
            },
            "type": "scatterpolargl"
           }
          ],
          "scatterternary": [
           {
            "marker": {
             "colorbar": {
              "outlinewidth": 0,
              "ticks": ""
             }
            },
            "type": "scatterternary"
           }
          ],
          "surface": [
           {
            "colorbar": {
             "outlinewidth": 0,
             "ticks": ""
            },
            "colorscale": [
             [
              0,
              "#0d0887"
             ],
             [
              0.1111111111111111,
              "#46039f"
             ],
             [
              0.2222222222222222,
              "#7201a8"
             ],
             [
              0.3333333333333333,
              "#9c179e"
             ],
             [
              0.4444444444444444,
              "#bd3786"
             ],
             [
              0.5555555555555556,
              "#d8576b"
             ],
             [
              0.6666666666666666,
              "#ed7953"
             ],
             [
              0.7777777777777778,
              "#fb9f3a"
             ],
             [
              0.8888888888888888,
              "#fdca26"
             ],
             [
              1,
              "#f0f921"
             ]
            ],
            "type": "surface"
           }
          ],
          "table": [
           {
            "cells": {
             "fill": {
              "color": "#EBF0F8"
             },
             "line": {
              "color": "white"
             }
            },
            "header": {
             "fill": {
              "color": "#C8D4E3"
             },
             "line": {
              "color": "white"
             }
            },
            "type": "table"
           }
          ]
         },
         "layout": {
          "annotationdefaults": {
           "arrowcolor": "#2a3f5f",
           "arrowhead": 0,
           "arrowwidth": 1
          },
          "autotypenumbers": "strict",
          "coloraxis": {
           "colorbar": {
            "outlinewidth": 0,
            "ticks": ""
           }
          },
          "colorscale": {
           "diverging": [
            [
             0,
             "#8e0152"
            ],
            [
             0.1,
             "#c51b7d"
            ],
            [
             0.2,
             "#de77ae"
            ],
            [
             0.3,
             "#f1b6da"
            ],
            [
             0.4,
             "#fde0ef"
            ],
            [
             0.5,
             "#f7f7f7"
            ],
            [
             0.6,
             "#e6f5d0"
            ],
            [
             0.7,
             "#b8e186"
            ],
            [
             0.8,
             "#7fbc41"
            ],
            [
             0.9,
             "#4d9221"
            ],
            [
             1,
             "#276419"
            ]
           ],
           "sequential": [
            [
             0,
             "#0d0887"
            ],
            [
             0.1111111111111111,
             "#46039f"
            ],
            [
             0.2222222222222222,
             "#7201a8"
            ],
            [
             0.3333333333333333,
             "#9c179e"
            ],
            [
             0.4444444444444444,
             "#bd3786"
            ],
            [
             0.5555555555555556,
             "#d8576b"
            ],
            [
             0.6666666666666666,
             "#ed7953"
            ],
            [
             0.7777777777777778,
             "#fb9f3a"
            ],
            [
             0.8888888888888888,
             "#fdca26"
            ],
            [
             1,
             "#f0f921"
            ]
           ],
           "sequentialminus": [
            [
             0,
             "#0d0887"
            ],
            [
             0.1111111111111111,
             "#46039f"
            ],
            [
             0.2222222222222222,
             "#7201a8"
            ],
            [
             0.3333333333333333,
             "#9c179e"
            ],
            [
             0.4444444444444444,
             "#bd3786"
            ],
            [
             0.5555555555555556,
             "#d8576b"
            ],
            [
             0.6666666666666666,
             "#ed7953"
            ],
            [
             0.7777777777777778,
             "#fb9f3a"
            ],
            [
             0.8888888888888888,
             "#fdca26"
            ],
            [
             1,
             "#f0f921"
            ]
           ]
          },
          "colorway": [
           "#636efa",
           "#EF553B",
           "#00cc96",
           "#ab63fa",
           "#FFA15A",
           "#19d3f3",
           "#FF6692",
           "#B6E880",
           "#FF97FF",
           "#FECB52"
          ],
          "font": {
           "color": "#2a3f5f"
          },
          "geo": {
           "bgcolor": "white",
           "lakecolor": "white",
           "landcolor": "#E5ECF6",
           "showlakes": true,
           "showland": true,
           "subunitcolor": "white"
          },
          "hoverlabel": {
           "align": "left"
          },
          "hovermode": "closest",
          "mapbox": {
           "style": "light"
          },
          "paper_bgcolor": "white",
          "plot_bgcolor": "#E5ECF6",
          "polar": {
           "angularaxis": {
            "gridcolor": "white",
            "linecolor": "white",
            "ticks": ""
           },
           "bgcolor": "#E5ECF6",
           "radialaxis": {
            "gridcolor": "white",
            "linecolor": "white",
            "ticks": ""
           }
          },
          "scene": {
           "xaxis": {
            "backgroundcolor": "#E5ECF6",
            "gridcolor": "white",
            "gridwidth": 2,
            "linecolor": "white",
            "showbackground": true,
            "ticks": "",
            "zerolinecolor": "white"
           },
           "yaxis": {
            "backgroundcolor": "#E5ECF6",
            "gridcolor": "white",
            "gridwidth": 2,
            "linecolor": "white",
            "showbackground": true,
            "ticks": "",
            "zerolinecolor": "white"
           },
           "zaxis": {
            "backgroundcolor": "#E5ECF6",
            "gridcolor": "white",
            "gridwidth": 2,
            "linecolor": "white",
            "showbackground": true,
            "ticks": "",
            "zerolinecolor": "white"
           }
          },
          "shapedefaults": {
           "line": {
            "color": "#2a3f5f"
           }
          },
          "ternary": {
           "aaxis": {
            "gridcolor": "white",
            "linecolor": "white",
            "ticks": ""
           },
           "baxis": {
            "gridcolor": "white",
            "linecolor": "white",
            "ticks": ""
           },
           "bgcolor": "#E5ECF6",
           "caxis": {
            "gridcolor": "white",
            "linecolor": "white",
            "ticks": ""
           }
          },
          "title": {
           "x": 0.05
          },
          "xaxis": {
           "automargin": true,
           "gridcolor": "white",
           "linecolor": "white",
           "ticks": "",
           "title": {
            "standoff": 15
           },
           "zerolinecolor": "white",
           "zerolinewidth": 2
          },
          "yaxis": {
           "automargin": true,
           "gridcolor": "white",
           "linecolor": "white",
           "ticks": "",
           "title": {
            "standoff": 15
           },
           "zerolinecolor": "white",
           "zerolinewidth": 2
          }
         }
        },
        "title": {
         "text": "TEST_Fairness",
         "x": 0.5,
         "xanchor": "center",
         "y": 0.9,
         "yanchor": "top"
        },
        "xaxis": {
         "gridcolor": "LightGrey",
         "linecolor": "black",
         "linewidth": 2,
         "showline": true,
         "title": {
          "text": "Epoch"
         }
        },
        "yaxis": {
         "gridcolor": "LightGrey",
         "linecolor": "black",
         "linewidth": 2,
         "showline": true,
         "title": {
          "text": "Fairness"
         }
        }
       }
      }
     },
     "metadata": {},
     "output_type": "display_data"
    },
    {
     "data": {
      "application/vnd.plotly.v1+json": {
       "config": {
        "plotlyServerURL": "https://plot.ly"
       },
       "data": [
        {
         "line": {
          "color": "RoyalBlue",
          "width": 2
         },
         "marker": {
          "color": "RoyalBlue",
          "line": {
           "color": "DarkSlateGrey",
           "width": 1
          },
          "size": 6
         },
         "mode": "lines+markers",
         "name": "K = 2",
         "type": "scatter",
         "x": [
          1,
          2,
          3,
          4,
          5,
          6,
          7,
          8,
          9,
          10,
          11,
          12,
          13,
          14,
          15,
          16,
          17,
          18,
          19,
          20,
          21,
          22,
          23,
          24,
          25,
          26,
          27,
          28,
          29,
          30,
          31,
          32,
          33,
          34,
          35,
          36,
          37,
          38,
          39,
          40,
          41,
          42,
          43,
          44,
          45,
          46,
          47,
          48,
          49,
          50,
          51,
          52,
          53,
          54,
          55,
          56,
          57,
          58,
          59,
          60,
          61,
          62,
          63,
          64,
          65,
          66,
          67,
          68,
          69,
          70,
          71,
          72,
          73,
          74,
          75,
          76,
          77,
          78,
          79,
          80,
          81,
          82,
          83,
          84,
          85,
          86,
          87,
          88,
          89,
          90,
          91,
          92,
          93,
          94,
          95,
          96,
          97,
          98,
          99,
          100
         ],
         "y": [
          0.9923915266990662,
          0.02714366465806961,
          0.16618643701076508,
          0.15238988399505615,
          0.11009559780359268,
          0.06981148570775986,
          0.040058691054582596,
          0.021295445039868355,
          0.010792357847094536,
          0.00538842286914587,
          0.002724810503423214,
          0.0014177343109622598,
          0.0007670555496588349,
          0.00043474018457345665,
          0.00025881361216306686,
          0.0001618829119252041,
          0.00010633034253260121,
          0.0000732272892491892,
          0.000052839674026472494,
          0.00003985123839811422,
          0.000031235238566296175,
          0.000025218998416676186,
          0.000020546365703921765,
          0.000015693236491642892,
          0.000008662977961648721,
          1.689111286395928e-7,
          0.00004765166886500083,
          0.0008467012085020542,
          0.00871231034398079,
          0.03293630853295326,
          0.020660104230046272,
          0.008463354781270027,
          0.0035549255553632975,
          0.0018394060898572206,
          0.001128811971284449,
          0.0007773170946165919,
          0.0005871991743333638,
          0.0004906628746539354,
          0.000470739760203287,
          0.0005437172949314117,
          0.0007772590033710003,
          0.0013731596991419792,
          0.00293811596930027,
          0.007190479896962643,
          0.01533346064388752,
          0.014894722029566765,
          0.008678960613906384,
          0.004606309346854687,
          0.0028021966572850943,
          0.0021307729184627533,
          0.0020890007726848125,
          0.002645935630425811,
          0.00421041389927268,
          0.007801238913089037,
          0.013996199704706669,
          0.016511525958776474,
          0.011057033203542233,
          0.006254473701119423,
          0.004087712150067091,
          0.0035628017503768206,
          0.004272035788744688,
          0.006481260992586613,
          0.010055311024188995,
          0.01151558943092823,
          0.008338984102010727,
          0.004916294943541288,
          0.003216153010725975,
          0.0028716661036014557,
          0.003642500378191471,
          0.005526407156139612,
          0.007238347548991442,
          0.006177850533276796,
          0.0037159828934818506,
          0.0022534606978297234,
          0.002032693475484848,
          0.0029163400176912546,
          0.004380000289529562,
          0.004157363902777433,
          0.002285404596477747,
          0.00119632831774652,
          0.0012494766851887107,
          0.0021443103905767202,
          0.002392866648733616,
          0.0011452526086941361,
          0.0004203100688755512,
          0.0005011736648157239,
          0.001004473422653973,
          0.0007460777997039258,
          0.0001428627292625606,
          0.00004508201527642086,
          0.00020248904183972627,
          0.00025284747243858874,
          0.000012308375517022796,
          0.000013800180568068754,
          0.000005072902695246739,
          0.00002714608854148537,
          0.000026187339244643226,
          0.00011644834012258798,
          0.000019978684576926753,
          0.000010981729246850591
         ]
        },
        {
         "line": {
          "color": "Crimson",
          "dash": "dot",
          "width": 2
         },
         "marker": {
          "color": "Crimson",
          "line": {
           "color": "DarkSlateGrey",
           "width": 1
          },
          "size": 6
         },
         "mode": "lines+markers",
         "name": "K = 3",
         "type": "scatter",
         "x": [
          1,
          2,
          3,
          4,
          5,
          6,
          7,
          8,
          9,
          10,
          11,
          12,
          13,
          14,
          15,
          16,
          17,
          18,
          19,
          20,
          21,
          22,
          23,
          24,
          25,
          26,
          27,
          28,
          29,
          30,
          31,
          32,
          33,
          34,
          35,
          36,
          37,
          38,
          39,
          40,
          41,
          42,
          43,
          44,
          45,
          46,
          47,
          48,
          49,
          50,
          51,
          52,
          53,
          54,
          55,
          56,
          57,
          58,
          59,
          60,
          61,
          62,
          63,
          64,
          65,
          66,
          67,
          68,
          69,
          70,
          71,
          72,
          73,
          74,
          75,
          76,
          77,
          78,
          79,
          80,
          81,
          82,
          83,
          84,
          85,
          86,
          87,
          88,
          89,
          90,
          91,
          92,
          93,
          94,
          95,
          96,
          97,
          98,
          99,
          100
         ],
         "y": [
          -0.13165916502475739,
          -0.2463148832321167,
          -0.364091157913208,
          -0.4250484108924866,
          -0.4506971836090088,
          -0.48558345437049866,
          -0.4964042901992798,
          -0.5114047527313232,
          -0.5225104093551636,
          -0.5351030826568604,
          -0.5461664795875549,
          -0.5752745270729065,
          -0.5989665985107422,
          -0.5908477306365967,
          -0.6457189917564392,
          -0.6359967589378357,
          -0.663536787033081,
          -0.646994948387146,
          -0.6838803887367249,
          -0.6825968027114868,
          -0.700800895690918,
          -0.682130753993988,
          -0.7092281579971313,
          -0.7208642363548279,
          -0.7266036868095398,
          -0.7137512564659119,
          -0.7098239064216614,
          -0.7337141633033752,
          -0.7357790470123291,
          -0.7311039566993713,
          -0.7190418243408203,
          -0.7369738817214966,
          -0.7449138164520264,
          -0.7435733675956726,
          -0.7303172945976257,
          -0.7411074638366699,
          -0.7493934631347656,
          -0.7457234859466553,
          -0.7357772588729858,
          -0.7443073391914368,
          -0.7451696991920471,
          -0.7391881942749023,
          -0.7361202239990234,
          -0.7409290075302124,
          -0.7398409843444824,
          -0.7337006330490112,
          -0.7373085618019104,
          -0.7401325702667236,
          -0.7360413670539856,
          -0.7347984910011292,
          -0.7399950623512268,
          -0.7378424406051636,
          -0.733299970626831,
          -0.7385191917419434,
          -0.7375932335853577,
          -0.7329607605934143,
          -0.7390547394752502,
          -0.7389034628868103,
          -0.7362778782844543,
          -0.7422711849212646,
          -0.7403832674026489,
          -0.7397190928459167,
          -0.7423136830329895,
          -0.7376430630683899,
          -0.7393015027046204,
          -0.7370350956916809,
          -0.735775351524353,
          -0.7362252473831177,
          -0.7332895398139954,
          -0.7353949546813965,
          -0.7298807501792908,
          -0.733666181564331,
          -0.7242419123649597,
          -0.7322177886962891,
          -0.7303014993667603,
          -0.7311273217201233,
          -0.7306820154190063,
          -0.7267191410064697,
          -0.7294009327888489,
          -0.7296556830406189,
          -0.7302005290985107,
          -0.7297399640083313,
          -0.728740394115448,
          -0.7295966744422913,
          -0.7301632165908813,
          -0.730279803276062,
          -0.7297833561897278,
          -0.7292554974555969,
          -0.7293110489845276,
          -0.7295395135879517,
          -0.729900598526001,
          -0.7299288511276245,
          -0.7294456958770752,
          -0.7299023270606995,
          -0.7287943959236145,
          -0.7302148342132568,
          -0.7292832732200623,
          -0.7300441861152649,
          -0.7299578189849854,
          -0.728706955909729
         ]
        }
       ],
       "layout": {
        "font": {
         "color": "black",
         "family": "Helvetica, Arial, sans-serif",
         "size": 12
        },
        "legend": {
         "orientation": "h",
         "x": 0.1,
         "y": 1.1
        },
        "margin": {
         "b": 30,
         "l": 40,
         "r": 40,
         "t": 40
        },
        "plot_bgcolor": "white",
        "template": {
         "data": {
          "bar": [
           {
            "error_x": {
             "color": "#2a3f5f"
            },
            "error_y": {
             "color": "#2a3f5f"
            },
            "marker": {
             "line": {
              "color": "#E5ECF6",
              "width": 0.5
             },
             "pattern": {
              "fillmode": "overlay",
              "size": 10,
              "solidity": 0.2
             }
            },
            "type": "bar"
           }
          ],
          "barpolar": [
           {
            "marker": {
             "line": {
              "color": "#E5ECF6",
              "width": 0.5
             },
             "pattern": {
              "fillmode": "overlay",
              "size": 10,
              "solidity": 0.2
             }
            },
            "type": "barpolar"
           }
          ],
          "carpet": [
           {
            "aaxis": {
             "endlinecolor": "#2a3f5f",
             "gridcolor": "white",
             "linecolor": "white",
             "minorgridcolor": "white",
             "startlinecolor": "#2a3f5f"
            },
            "baxis": {
             "endlinecolor": "#2a3f5f",
             "gridcolor": "white",
             "linecolor": "white",
             "minorgridcolor": "white",
             "startlinecolor": "#2a3f5f"
            },
            "type": "carpet"
           }
          ],
          "choropleth": [
           {
            "colorbar": {
             "outlinewidth": 0,
             "ticks": ""
            },
            "type": "choropleth"
           }
          ],
          "contour": [
           {
            "colorbar": {
             "outlinewidth": 0,
             "ticks": ""
            },
            "colorscale": [
             [
              0,
              "#0d0887"
             ],
             [
              0.1111111111111111,
              "#46039f"
             ],
             [
              0.2222222222222222,
              "#7201a8"
             ],
             [
              0.3333333333333333,
              "#9c179e"
             ],
             [
              0.4444444444444444,
              "#bd3786"
             ],
             [
              0.5555555555555556,
              "#d8576b"
             ],
             [
              0.6666666666666666,
              "#ed7953"
             ],
             [
              0.7777777777777778,
              "#fb9f3a"
             ],
             [
              0.8888888888888888,
              "#fdca26"
             ],
             [
              1,
              "#f0f921"
             ]
            ],
            "type": "contour"
           }
          ],
          "contourcarpet": [
           {
            "colorbar": {
             "outlinewidth": 0,
             "ticks": ""
            },
            "type": "contourcarpet"
           }
          ],
          "heatmap": [
           {
            "colorbar": {
             "outlinewidth": 0,
             "ticks": ""
            },
            "colorscale": [
             [
              0,
              "#0d0887"
             ],
             [
              0.1111111111111111,
              "#46039f"
             ],
             [
              0.2222222222222222,
              "#7201a8"
             ],
             [
              0.3333333333333333,
              "#9c179e"
             ],
             [
              0.4444444444444444,
              "#bd3786"
             ],
             [
              0.5555555555555556,
              "#d8576b"
             ],
             [
              0.6666666666666666,
              "#ed7953"
             ],
             [
              0.7777777777777778,
              "#fb9f3a"
             ],
             [
              0.8888888888888888,
              "#fdca26"
             ],
             [
              1,
              "#f0f921"
             ]
            ],
            "type": "heatmap"
           }
          ],
          "heatmapgl": [
           {
            "colorbar": {
             "outlinewidth": 0,
             "ticks": ""
            },
            "colorscale": [
             [
              0,
              "#0d0887"
             ],
             [
              0.1111111111111111,
              "#46039f"
             ],
             [
              0.2222222222222222,
              "#7201a8"
             ],
             [
              0.3333333333333333,
              "#9c179e"
             ],
             [
              0.4444444444444444,
              "#bd3786"
             ],
             [
              0.5555555555555556,
              "#d8576b"
             ],
             [
              0.6666666666666666,
              "#ed7953"
             ],
             [
              0.7777777777777778,
              "#fb9f3a"
             ],
             [
              0.8888888888888888,
              "#fdca26"
             ],
             [
              1,
              "#f0f921"
             ]
            ],
            "type": "heatmapgl"
           }
          ],
          "histogram": [
           {
            "marker": {
             "pattern": {
              "fillmode": "overlay",
              "size": 10,
              "solidity": 0.2
             }
            },
            "type": "histogram"
           }
          ],
          "histogram2d": [
           {
            "colorbar": {
             "outlinewidth": 0,
             "ticks": ""
            },
            "colorscale": [
             [
              0,
              "#0d0887"
             ],
             [
              0.1111111111111111,
              "#46039f"
             ],
             [
              0.2222222222222222,
              "#7201a8"
             ],
             [
              0.3333333333333333,
              "#9c179e"
             ],
             [
              0.4444444444444444,
              "#bd3786"
             ],
             [
              0.5555555555555556,
              "#d8576b"
             ],
             [
              0.6666666666666666,
              "#ed7953"
             ],
             [
              0.7777777777777778,
              "#fb9f3a"
             ],
             [
              0.8888888888888888,
              "#fdca26"
             ],
             [
              1,
              "#f0f921"
             ]
            ],
            "type": "histogram2d"
           }
          ],
          "histogram2dcontour": [
           {
            "colorbar": {
             "outlinewidth": 0,
             "ticks": ""
            },
            "colorscale": [
             [
              0,
              "#0d0887"
             ],
             [
              0.1111111111111111,
              "#46039f"
             ],
             [
              0.2222222222222222,
              "#7201a8"
             ],
             [
              0.3333333333333333,
              "#9c179e"
             ],
             [
              0.4444444444444444,
              "#bd3786"
             ],
             [
              0.5555555555555556,
              "#d8576b"
             ],
             [
              0.6666666666666666,
              "#ed7953"
             ],
             [
              0.7777777777777778,
              "#fb9f3a"
             ],
             [
              0.8888888888888888,
              "#fdca26"
             ],
             [
              1,
              "#f0f921"
             ]
            ],
            "type": "histogram2dcontour"
           }
          ],
          "mesh3d": [
           {
            "colorbar": {
             "outlinewidth": 0,
             "ticks": ""
            },
            "type": "mesh3d"
           }
          ],
          "parcoords": [
           {
            "line": {
             "colorbar": {
              "outlinewidth": 0,
              "ticks": ""
             }
            },
            "type": "parcoords"
           }
          ],
          "pie": [
           {
            "automargin": true,
            "type": "pie"
           }
          ],
          "scatter": [
           {
            "fillpattern": {
             "fillmode": "overlay",
             "size": 10,
             "solidity": 0.2
            },
            "type": "scatter"
           }
          ],
          "scatter3d": [
           {
            "line": {
             "colorbar": {
              "outlinewidth": 0,
              "ticks": ""
             }
            },
            "marker": {
             "colorbar": {
              "outlinewidth": 0,
              "ticks": ""
             }
            },
            "type": "scatter3d"
           }
          ],
          "scattercarpet": [
           {
            "marker": {
             "colorbar": {
              "outlinewidth": 0,
              "ticks": ""
             }
            },
            "type": "scattercarpet"
           }
          ],
          "scattergeo": [
           {
            "marker": {
             "colorbar": {
              "outlinewidth": 0,
              "ticks": ""
             }
            },
            "type": "scattergeo"
           }
          ],
          "scattergl": [
           {
            "marker": {
             "colorbar": {
              "outlinewidth": 0,
              "ticks": ""
             }
            },
            "type": "scattergl"
           }
          ],
          "scattermapbox": [
           {
            "marker": {
             "colorbar": {
              "outlinewidth": 0,
              "ticks": ""
             }
            },
            "type": "scattermapbox"
           }
          ],
          "scatterpolar": [
           {
            "marker": {
             "colorbar": {
              "outlinewidth": 0,
              "ticks": ""
             }
            },
            "type": "scatterpolar"
           }
          ],
          "scatterpolargl": [
           {
            "marker": {
             "colorbar": {
              "outlinewidth": 0,
              "ticks": ""
             }
            },
            "type": "scatterpolargl"
           }
          ],
          "scatterternary": [
           {
            "marker": {
             "colorbar": {
              "outlinewidth": 0,
              "ticks": ""
             }
            },
            "type": "scatterternary"
           }
          ],
          "surface": [
           {
            "colorbar": {
             "outlinewidth": 0,
             "ticks": ""
            },
            "colorscale": [
             [
              0,
              "#0d0887"
             ],
             [
              0.1111111111111111,
              "#46039f"
             ],
             [
              0.2222222222222222,
              "#7201a8"
             ],
             [
              0.3333333333333333,
              "#9c179e"
             ],
             [
              0.4444444444444444,
              "#bd3786"
             ],
             [
              0.5555555555555556,
              "#d8576b"
             ],
             [
              0.6666666666666666,
              "#ed7953"
             ],
             [
              0.7777777777777778,
              "#fb9f3a"
             ],
             [
              0.8888888888888888,
              "#fdca26"
             ],
             [
              1,
              "#f0f921"
             ]
            ],
            "type": "surface"
           }
          ],
          "table": [
           {
            "cells": {
             "fill": {
              "color": "#EBF0F8"
             },
             "line": {
              "color": "white"
             }
            },
            "header": {
             "fill": {
              "color": "#C8D4E3"
             },
             "line": {
              "color": "white"
             }
            },
            "type": "table"
           }
          ]
         },
         "layout": {
          "annotationdefaults": {
           "arrowcolor": "#2a3f5f",
           "arrowhead": 0,
           "arrowwidth": 1
          },
          "autotypenumbers": "strict",
          "coloraxis": {
           "colorbar": {
            "outlinewidth": 0,
            "ticks": ""
           }
          },
          "colorscale": {
           "diverging": [
            [
             0,
             "#8e0152"
            ],
            [
             0.1,
             "#c51b7d"
            ],
            [
             0.2,
             "#de77ae"
            ],
            [
             0.3,
             "#f1b6da"
            ],
            [
             0.4,
             "#fde0ef"
            ],
            [
             0.5,
             "#f7f7f7"
            ],
            [
             0.6,
             "#e6f5d0"
            ],
            [
             0.7,
             "#b8e186"
            ],
            [
             0.8,
             "#7fbc41"
            ],
            [
             0.9,
             "#4d9221"
            ],
            [
             1,
             "#276419"
            ]
           ],
           "sequential": [
            [
             0,
             "#0d0887"
            ],
            [
             0.1111111111111111,
             "#46039f"
            ],
            [
             0.2222222222222222,
             "#7201a8"
            ],
            [
             0.3333333333333333,
             "#9c179e"
            ],
            [
             0.4444444444444444,
             "#bd3786"
            ],
            [
             0.5555555555555556,
             "#d8576b"
            ],
            [
             0.6666666666666666,
             "#ed7953"
            ],
            [
             0.7777777777777778,
             "#fb9f3a"
            ],
            [
             0.8888888888888888,
             "#fdca26"
            ],
            [
             1,
             "#f0f921"
            ]
           ],
           "sequentialminus": [
            [
             0,
             "#0d0887"
            ],
            [
             0.1111111111111111,
             "#46039f"
            ],
            [
             0.2222222222222222,
             "#7201a8"
            ],
            [
             0.3333333333333333,
             "#9c179e"
            ],
            [
             0.4444444444444444,
             "#bd3786"
            ],
            [
             0.5555555555555556,
             "#d8576b"
            ],
            [
             0.6666666666666666,
             "#ed7953"
            ],
            [
             0.7777777777777778,
             "#fb9f3a"
            ],
            [
             0.8888888888888888,
             "#fdca26"
            ],
            [
             1,
             "#f0f921"
            ]
           ]
          },
          "colorway": [
           "#636efa",
           "#EF553B",
           "#00cc96",
           "#ab63fa",
           "#FFA15A",
           "#19d3f3",
           "#FF6692",
           "#B6E880",
           "#FF97FF",
           "#FECB52"
          ],
          "font": {
           "color": "#2a3f5f"
          },
          "geo": {
           "bgcolor": "white",
           "lakecolor": "white",
           "landcolor": "#E5ECF6",
           "showlakes": true,
           "showland": true,
           "subunitcolor": "white"
          },
          "hoverlabel": {
           "align": "left"
          },
          "hovermode": "closest",
          "mapbox": {
           "style": "light"
          },
          "paper_bgcolor": "white",
          "plot_bgcolor": "#E5ECF6",
          "polar": {
           "angularaxis": {
            "gridcolor": "white",
            "linecolor": "white",
            "ticks": ""
           },
           "bgcolor": "#E5ECF6",
           "radialaxis": {
            "gridcolor": "white",
            "linecolor": "white",
            "ticks": ""
           }
          },
          "scene": {
           "xaxis": {
            "backgroundcolor": "#E5ECF6",
            "gridcolor": "white",
            "gridwidth": 2,
            "linecolor": "white",
            "showbackground": true,
            "ticks": "",
            "zerolinecolor": "white"
           },
           "yaxis": {
            "backgroundcolor": "#E5ECF6",
            "gridcolor": "white",
            "gridwidth": 2,
            "linecolor": "white",
            "showbackground": true,
            "ticks": "",
            "zerolinecolor": "white"
           },
           "zaxis": {
            "backgroundcolor": "#E5ECF6",
            "gridcolor": "white",
            "gridwidth": 2,
            "linecolor": "white",
            "showbackground": true,
            "ticks": "",
            "zerolinecolor": "white"
           }
          },
          "shapedefaults": {
           "line": {
            "color": "#2a3f5f"
           }
          },
          "ternary": {
           "aaxis": {
            "gridcolor": "white",
            "linecolor": "white",
            "ticks": ""
           },
           "baxis": {
            "gridcolor": "white",
            "linecolor": "white",
            "ticks": ""
           },
           "bgcolor": "#E5ECF6",
           "caxis": {
            "gridcolor": "white",
            "linecolor": "white",
            "ticks": ""
           }
          },
          "title": {
           "x": 0.05
          },
          "xaxis": {
           "automargin": true,
           "gridcolor": "white",
           "linecolor": "white",
           "ticks": "",
           "title": {
            "standoff": 15
           },
           "zerolinecolor": "white",
           "zerolinewidth": 2
          },
          "yaxis": {
           "automargin": true,
           "gridcolor": "white",
           "linecolor": "white",
           "ticks": "",
           "title": {
            "standoff": 15
           },
           "zerolinecolor": "white",
           "zerolinewidth": 2
          }
         }
        },
        "title": {
         "text": "TEST_Discriminations",
         "x": 0.5,
         "xanchor": "center",
         "y": 0.9,
         "yanchor": "top"
        },
        "xaxis": {
         "gridcolor": "LightGrey",
         "linecolor": "black",
         "linewidth": 2,
         "showline": true,
         "title": {
          "text": "Epoch"
         }
        },
        "yaxis": {
         "gridcolor": "LightGrey",
         "linecolor": "black",
         "linewidth": 2,
         "showline": true,
         "title": {
          "text": "Discrimination"
         }
        }
       }
      }
     },
     "metadata": {},
     "output_type": "display_data"
    },
    {
     "data": {
      "application/vnd.plotly.v1+json": {
       "config": {
        "plotlyServerURL": "https://plot.ly"
       },
       "data": [
        {
         "line": {
          "color": "RoyalBlue",
          "width": 2
         },
         "marker": {
          "color": "RoyalBlue",
          "line": {
           "color": "DarkSlateGrey",
           "width": 1
          },
          "size": 6
         },
         "mode": "lines+markers",
         "name": "K = 2",
         "type": "scatter",
         "x": [
          1,
          2,
          3,
          4,
          5,
          6,
          7,
          8,
          9,
          10,
          11,
          12,
          13,
          14,
          15,
          16,
          17,
          18,
          19,
          20,
          21,
          22,
          23,
          24,
          25,
          26,
          27,
          28,
          29,
          30,
          31,
          32,
          33,
          34,
          35,
          36,
          37,
          38,
          39,
          40,
          41,
          42,
          43,
          44,
          45,
          46,
          47,
          48,
          49,
          50,
          51,
          52,
          53,
          54,
          55,
          56,
          57,
          58,
          59,
          60,
          61,
          62,
          63,
          64,
          65,
          66,
          67,
          68,
          69,
          70,
          71,
          72,
          73,
          74,
          75,
          76,
          77,
          78,
          79,
          80,
          81,
          82,
          83,
          84,
          85,
          86,
          87,
          88,
          89,
          90,
          91,
          92,
          93,
          94,
          95,
          96,
          97,
          98,
          99,
          100
         ],
         "y": [
          97.62801361083984,
          1.8448865413665771,
          12.709319114685059,
          15.005339622497559,
          12.97114086151123,
          9.634690284729004,
          6.60268497467041,
          4.446309566497803,
          3.1490418910980225,
          2.4627065658569336,
          2.131588935852051,
          1.9817067384719849,
          1.918837308883667,
          1.893247127532959,
          1.8796888589859009,
          1.8655905723571777,
          1.8445168733596802,
          1.8131147623062134,
          1.7696517705917358,
          1.713234305381775,
          1.6433889865875244,
          1.5597593784332275,
          1.4622586965560913,
          1.3508611917495728,
          1.2257431745529175,
          1.088134765625,
          0.9464603662490845,
          0.862384021282196,
          1.261802315711975,
          2.734428882598877,
          1.9795269966125488,
          1.2358115911483765,
          0.945432722568512,
          0.8508744239807129,
          0.8155642747879028,
          0.799813985824585,
          0.791659951210022,
          0.7860363721847534,
          0.780144214630127,
          0.7733504772186279,
          0.7688993811607361,
          0.7793289422988892,
          0.841877281665802,
          1.056716799736023,
          1.492058515548706,
          1.4541691541671753,
          1.105063557624817,
          0.8816778659820557,
          0.783469021320343,
          0.7434816360473633,
          0.7325331568717957,
          0.749066948890686,
          0.816007673740387,
          0.9885481595993042,
          1.2983542680740356,
          1.4166091680526733,
          1.1234673261642456,
          0.8720368146896362,
          0.7577694058418274,
          0.7245643734931946,
          0.7495942115783691,
          0.8456710577011108,
          1.0068140029907227,
          1.0654938220977783,
          0.9044359922409058,
          0.7371153831481934,
          0.6529417037963867,
          0.6304998397827148,
          0.657002329826355,
          0.7328601479530334,
          0.8011527061462402,
          0.7464896440505981,
          0.6322218179702759,
          0.5637261867523193,
          0.5486964583396912,
          0.5802268981933594,
          0.6368285417556763,
          0.6220214366912842,
          0.5385677814483643,
          0.48954135179519653,
          0.4876646101474762,
          0.5203431844711304,
          0.5268775820732117,
          0.472841739654541,
          0.4413682222366333,
          0.4416569769382477,
          0.4586576819419861,
          0.44605332612991333,
          0.4211537837982178,
          0.4159490168094635,
          0.41931313276290894,
          0.41937628388404846,
          0.4099075198173523,
          0.40976735949516296,
          0.40702271461486816,
          0.4062168598175049,
          0.40675902366638184,
          0.4103749990463257,
          0.40439897775650024,
          0.4029882252216339
         ]
        },
        {
         "line": {
          "color": "Crimson",
          "dash": "dot",
          "width": 2
         },
         "marker": {
          "color": "Crimson",
          "line": {
           "color": "DarkSlateGrey",
           "width": 1
          },
          "size": 6
         },
         "mode": "lines+markers",
         "name": "K = 3",
         "type": "scatter",
         "x": [
          1,
          2,
          3,
          4,
          5,
          6,
          7,
          8,
          9,
          10,
          11,
          12,
          13,
          14,
          15,
          16,
          17,
          18,
          19,
          20,
          21,
          22,
          23,
          24,
          25,
          26,
          27,
          28,
          29,
          30,
          31,
          32,
          33,
          34,
          35,
          36,
          37,
          38,
          39,
          40,
          41,
          42,
          43,
          44,
          45,
          46,
          47,
          48,
          49,
          50,
          51,
          52,
          53,
          54,
          55,
          56,
          57,
          58,
          59,
          60,
          61,
          62,
          63,
          64,
          65,
          66,
          67,
          68,
          69,
          70,
          71,
          72,
          73,
          74,
          75,
          76,
          77,
          78,
          79,
          80,
          81,
          82,
          83,
          84,
          85,
          86,
          87,
          88,
          89,
          90,
          91,
          92,
          93,
          94,
          95,
          96,
          97,
          98,
          99,
          100
         ],
         "y": [
          -11.303778648376465,
          -37.331298828125,
          -82.96578216552734,
          -136.23008728027344,
          -193.1113739013672,
          -263.23779296875,
          -333.0126953125,
          -413.9197692871094,
          -497.409912109375,
          -984.4911499023438,
          -1690.4241943359375,
          -1954.870361328125,
          -2059.573974609375,
          -2054.056640625,
          -2252.9453125,
          -2226.323974609375,
          -2337.084716796875,
          -2289.7294921875,
          -2429.0146484375,
          -2434.127197265625,
          -2512.43017578125,
          -2457.513671875,
          -2566.5322265625,
          -2619.188232421875,
          -2654.529541015625,
          -2618.46044921875,
          -2615.35302734375,
          -2715.744384765625,
          -2734.570068359375,
          -2727.943359375,
          -2694.13525390625,
          -2769.805908203125,
          -2806.061767578125,
          -2809.524658203125,
          -2768.63134765625,
          -2818.786376953125,
          -2860.20703125,
          -2855.1337890625,
          -2826.199462890625,
          -2870.429931640625,
          -2885.753173828125,
          -2871.354736328125,
          -2869.031982421875,
          -2901.73291015625,
          -2905.05078125,
          -2882.508544921875,
          -2910.8828125,
          -2932.038818359375,
          -2920.88427734375,
          -2922.104248046875,
          -2950.123291015625,
          -2950.230224609375,
          -2937.66748046875,
          -2970.225830078125,
          -2972.759521484375,
          -2959.0849609375,
          -2995.831787109375,
          -2999.266357421875,
          -2994.464599609375,
          -3026.9755859375,
          -3020.7236328125,
          -3022.83544921875,
          -3046.14794921875,
          -3026.957275390625,
          -3044.407958984375,
          -3042.81396484375,
          -3042.977783203125,
          -3047.91064453125,
          -3039.28125,
          -3056.836181640625,
          -3028.34765625,
          -3065.882568359375,
          -3007.3076171875,
          -3072.680419921875,
          -3045.156005859375,
          -3062.637939453125,
          -3071.445556640625,
          -3043.715576171875,
          -3080.87841796875,
          -3070.15283203125,
          -3079.73828125,
          -3091.282470703125,
          -3072.4775390625,
          -3100.311767578125,
          -3092.69091796875,
          -3098.263427734375,
          -3109.3525390625,
          -3092.836181640625,
          -3118.959228515625,
          -3103.682373046875,
          -3122.1953125,
          -3123.158935546875,
          -3120.9345703125,
          -3128.85107421875,
          -3118.981689453125,
          -3138.740478515625,
          -3124.373046875,
          -3138.312744140625,
          -3138.232666015625,
          -3131.9951171875
         ]
        }
       ],
       "layout": {
        "font": {
         "color": "black",
         "family": "Helvetica, Arial, sans-serif",
         "size": 12
        },
        "legend": {
         "orientation": "h",
         "x": 0.1,
         "y": 1.1
        },
        "margin": {
         "b": 30,
         "l": 40,
         "r": 40,
         "t": 40
        },
        "plot_bgcolor": "white",
        "template": {
         "data": {
          "bar": [
           {
            "error_x": {
             "color": "#2a3f5f"
            },
            "error_y": {
             "color": "#2a3f5f"
            },
            "marker": {
             "line": {
              "color": "#E5ECF6",
              "width": 0.5
             },
             "pattern": {
              "fillmode": "overlay",
              "size": 10,
              "solidity": 0.2
             }
            },
            "type": "bar"
           }
          ],
          "barpolar": [
           {
            "marker": {
             "line": {
              "color": "#E5ECF6",
              "width": 0.5
             },
             "pattern": {
              "fillmode": "overlay",
              "size": 10,
              "solidity": 0.2
             }
            },
            "type": "barpolar"
           }
          ],
          "carpet": [
           {
            "aaxis": {
             "endlinecolor": "#2a3f5f",
             "gridcolor": "white",
             "linecolor": "white",
             "minorgridcolor": "white",
             "startlinecolor": "#2a3f5f"
            },
            "baxis": {
             "endlinecolor": "#2a3f5f",
             "gridcolor": "white",
             "linecolor": "white",
             "minorgridcolor": "white",
             "startlinecolor": "#2a3f5f"
            },
            "type": "carpet"
           }
          ],
          "choropleth": [
           {
            "colorbar": {
             "outlinewidth": 0,
             "ticks": ""
            },
            "type": "choropleth"
           }
          ],
          "contour": [
           {
            "colorbar": {
             "outlinewidth": 0,
             "ticks": ""
            },
            "colorscale": [
             [
              0,
              "#0d0887"
             ],
             [
              0.1111111111111111,
              "#46039f"
             ],
             [
              0.2222222222222222,
              "#7201a8"
             ],
             [
              0.3333333333333333,
              "#9c179e"
             ],
             [
              0.4444444444444444,
              "#bd3786"
             ],
             [
              0.5555555555555556,
              "#d8576b"
             ],
             [
              0.6666666666666666,
              "#ed7953"
             ],
             [
              0.7777777777777778,
              "#fb9f3a"
             ],
             [
              0.8888888888888888,
              "#fdca26"
             ],
             [
              1,
              "#f0f921"
             ]
            ],
            "type": "contour"
           }
          ],
          "contourcarpet": [
           {
            "colorbar": {
             "outlinewidth": 0,
             "ticks": ""
            },
            "type": "contourcarpet"
           }
          ],
          "heatmap": [
           {
            "colorbar": {
             "outlinewidth": 0,
             "ticks": ""
            },
            "colorscale": [
             [
              0,
              "#0d0887"
             ],
             [
              0.1111111111111111,
              "#46039f"
             ],
             [
              0.2222222222222222,
              "#7201a8"
             ],
             [
              0.3333333333333333,
              "#9c179e"
             ],
             [
              0.4444444444444444,
              "#bd3786"
             ],
             [
              0.5555555555555556,
              "#d8576b"
             ],
             [
              0.6666666666666666,
              "#ed7953"
             ],
             [
              0.7777777777777778,
              "#fb9f3a"
             ],
             [
              0.8888888888888888,
              "#fdca26"
             ],
             [
              1,
              "#f0f921"
             ]
            ],
            "type": "heatmap"
           }
          ],
          "heatmapgl": [
           {
            "colorbar": {
             "outlinewidth": 0,
             "ticks": ""
            },
            "colorscale": [
             [
              0,
              "#0d0887"
             ],
             [
              0.1111111111111111,
              "#46039f"
             ],
             [
              0.2222222222222222,
              "#7201a8"
             ],
             [
              0.3333333333333333,
              "#9c179e"
             ],
             [
              0.4444444444444444,
              "#bd3786"
             ],
             [
              0.5555555555555556,
              "#d8576b"
             ],
             [
              0.6666666666666666,
              "#ed7953"
             ],
             [
              0.7777777777777778,
              "#fb9f3a"
             ],
             [
              0.8888888888888888,
              "#fdca26"
             ],
             [
              1,
              "#f0f921"
             ]
            ],
            "type": "heatmapgl"
           }
          ],
          "histogram": [
           {
            "marker": {
             "pattern": {
              "fillmode": "overlay",
              "size": 10,
              "solidity": 0.2
             }
            },
            "type": "histogram"
           }
          ],
          "histogram2d": [
           {
            "colorbar": {
             "outlinewidth": 0,
             "ticks": ""
            },
            "colorscale": [
             [
              0,
              "#0d0887"
             ],
             [
              0.1111111111111111,
              "#46039f"
             ],
             [
              0.2222222222222222,
              "#7201a8"
             ],
             [
              0.3333333333333333,
              "#9c179e"
             ],
             [
              0.4444444444444444,
              "#bd3786"
             ],
             [
              0.5555555555555556,
              "#d8576b"
             ],
             [
              0.6666666666666666,
              "#ed7953"
             ],
             [
              0.7777777777777778,
              "#fb9f3a"
             ],
             [
              0.8888888888888888,
              "#fdca26"
             ],
             [
              1,
              "#f0f921"
             ]
            ],
            "type": "histogram2d"
           }
          ],
          "histogram2dcontour": [
           {
            "colorbar": {
             "outlinewidth": 0,
             "ticks": ""
            },
            "colorscale": [
             [
              0,
              "#0d0887"
             ],
             [
              0.1111111111111111,
              "#46039f"
             ],
             [
              0.2222222222222222,
              "#7201a8"
             ],
             [
              0.3333333333333333,
              "#9c179e"
             ],
             [
              0.4444444444444444,
              "#bd3786"
             ],
             [
              0.5555555555555556,
              "#d8576b"
             ],
             [
              0.6666666666666666,
              "#ed7953"
             ],
             [
              0.7777777777777778,
              "#fb9f3a"
             ],
             [
              0.8888888888888888,
              "#fdca26"
             ],
             [
              1,
              "#f0f921"
             ]
            ],
            "type": "histogram2dcontour"
           }
          ],
          "mesh3d": [
           {
            "colorbar": {
             "outlinewidth": 0,
             "ticks": ""
            },
            "type": "mesh3d"
           }
          ],
          "parcoords": [
           {
            "line": {
             "colorbar": {
              "outlinewidth": 0,
              "ticks": ""
             }
            },
            "type": "parcoords"
           }
          ],
          "pie": [
           {
            "automargin": true,
            "type": "pie"
           }
          ],
          "scatter": [
           {
            "fillpattern": {
             "fillmode": "overlay",
             "size": 10,
             "solidity": 0.2
            },
            "type": "scatter"
           }
          ],
          "scatter3d": [
           {
            "line": {
             "colorbar": {
              "outlinewidth": 0,
              "ticks": ""
             }
            },
            "marker": {
             "colorbar": {
              "outlinewidth": 0,
              "ticks": ""
             }
            },
            "type": "scatter3d"
           }
          ],
          "scattercarpet": [
           {
            "marker": {
             "colorbar": {
              "outlinewidth": 0,
              "ticks": ""
             }
            },
            "type": "scattercarpet"
           }
          ],
          "scattergeo": [
           {
            "marker": {
             "colorbar": {
              "outlinewidth": 0,
              "ticks": ""
             }
            },
            "type": "scattergeo"
           }
          ],
          "scattergl": [
           {
            "marker": {
             "colorbar": {
              "outlinewidth": 0,
              "ticks": ""
             }
            },
            "type": "scattergl"
           }
          ],
          "scattermapbox": [
           {
            "marker": {
             "colorbar": {
              "outlinewidth": 0,
              "ticks": ""
             }
            },
            "type": "scattermapbox"
           }
          ],
          "scatterpolar": [
           {
            "marker": {
             "colorbar": {
              "outlinewidth": 0,
              "ticks": ""
             }
            },
            "type": "scatterpolar"
           }
          ],
          "scatterpolargl": [
           {
            "marker": {
             "colorbar": {
              "outlinewidth": 0,
              "ticks": ""
             }
            },
            "type": "scatterpolargl"
           }
          ],
          "scatterternary": [
           {
            "marker": {
             "colorbar": {
              "outlinewidth": 0,
              "ticks": ""
             }
            },
            "type": "scatterternary"
           }
          ],
          "surface": [
           {
            "colorbar": {
             "outlinewidth": 0,
             "ticks": ""
            },
            "colorscale": [
             [
              0,
              "#0d0887"
             ],
             [
              0.1111111111111111,
              "#46039f"
             ],
             [
              0.2222222222222222,
              "#7201a8"
             ],
             [
              0.3333333333333333,
              "#9c179e"
             ],
             [
              0.4444444444444444,
              "#bd3786"
             ],
             [
              0.5555555555555556,
              "#d8576b"
             ],
             [
              0.6666666666666666,
              "#ed7953"
             ],
             [
              0.7777777777777778,
              "#fb9f3a"
             ],
             [
              0.8888888888888888,
              "#fdca26"
             ],
             [
              1,
              "#f0f921"
             ]
            ],
            "type": "surface"
           }
          ],
          "table": [
           {
            "cells": {
             "fill": {
              "color": "#EBF0F8"
             },
             "line": {
              "color": "white"
             }
            },
            "header": {
             "fill": {
              "color": "#C8D4E3"
             },
             "line": {
              "color": "white"
             }
            },
            "type": "table"
           }
          ]
         },
         "layout": {
          "annotationdefaults": {
           "arrowcolor": "#2a3f5f",
           "arrowhead": 0,
           "arrowwidth": 1
          },
          "autotypenumbers": "strict",
          "coloraxis": {
           "colorbar": {
            "outlinewidth": 0,
            "ticks": ""
           }
          },
          "colorscale": {
           "diverging": [
            [
             0,
             "#8e0152"
            ],
            [
             0.1,
             "#c51b7d"
            ],
            [
             0.2,
             "#de77ae"
            ],
            [
             0.3,
             "#f1b6da"
            ],
            [
             0.4,
             "#fde0ef"
            ],
            [
             0.5,
             "#f7f7f7"
            ],
            [
             0.6,
             "#e6f5d0"
            ],
            [
             0.7,
             "#b8e186"
            ],
            [
             0.8,
             "#7fbc41"
            ],
            [
             0.9,
             "#4d9221"
            ],
            [
             1,
             "#276419"
            ]
           ],
           "sequential": [
            [
             0,
             "#0d0887"
            ],
            [
             0.1111111111111111,
             "#46039f"
            ],
            [
             0.2222222222222222,
             "#7201a8"
            ],
            [
             0.3333333333333333,
             "#9c179e"
            ],
            [
             0.4444444444444444,
             "#bd3786"
            ],
            [
             0.5555555555555556,
             "#d8576b"
            ],
            [
             0.6666666666666666,
             "#ed7953"
            ],
            [
             0.7777777777777778,
             "#fb9f3a"
            ],
            [
             0.8888888888888888,
             "#fdca26"
            ],
            [
             1,
             "#f0f921"
            ]
           ],
           "sequentialminus": [
            [
             0,
             "#0d0887"
            ],
            [
             0.1111111111111111,
             "#46039f"
            ],
            [
             0.2222222222222222,
             "#7201a8"
            ],
            [
             0.3333333333333333,
             "#9c179e"
            ],
            [
             0.4444444444444444,
             "#bd3786"
            ],
            [
             0.5555555555555556,
             "#d8576b"
            ],
            [
             0.6666666666666666,
             "#ed7953"
            ],
            [
             0.7777777777777778,
             "#fb9f3a"
            ],
            [
             0.8888888888888888,
             "#fdca26"
            ],
            [
             1,
             "#f0f921"
            ]
           ]
          },
          "colorway": [
           "#636efa",
           "#EF553B",
           "#00cc96",
           "#ab63fa",
           "#FFA15A",
           "#19d3f3",
           "#FF6692",
           "#B6E880",
           "#FF97FF",
           "#FECB52"
          ],
          "font": {
           "color": "#2a3f5f"
          },
          "geo": {
           "bgcolor": "white",
           "lakecolor": "white",
           "landcolor": "#E5ECF6",
           "showlakes": true,
           "showland": true,
           "subunitcolor": "white"
          },
          "hoverlabel": {
           "align": "left"
          },
          "hovermode": "closest",
          "mapbox": {
           "style": "light"
          },
          "paper_bgcolor": "white",
          "plot_bgcolor": "#E5ECF6",
          "polar": {
           "angularaxis": {
            "gridcolor": "white",
            "linecolor": "white",
            "ticks": ""
           },
           "bgcolor": "#E5ECF6",
           "radialaxis": {
            "gridcolor": "white",
            "linecolor": "white",
            "ticks": ""
           }
          },
          "scene": {
           "xaxis": {
            "backgroundcolor": "#E5ECF6",
            "gridcolor": "white",
            "gridwidth": 2,
            "linecolor": "white",
            "showbackground": true,
            "ticks": "",
            "zerolinecolor": "white"
           },
           "yaxis": {
            "backgroundcolor": "#E5ECF6",
            "gridcolor": "white",
            "gridwidth": 2,
            "linecolor": "white",
            "showbackground": true,
            "ticks": "",
            "zerolinecolor": "white"
           },
           "zaxis": {
            "backgroundcolor": "#E5ECF6",
            "gridcolor": "white",
            "gridwidth": 2,
            "linecolor": "white",
            "showbackground": true,
            "ticks": "",
            "zerolinecolor": "white"
           }
          },
          "shapedefaults": {
           "line": {
            "color": "#2a3f5f"
           }
          },
          "ternary": {
           "aaxis": {
            "gridcolor": "white",
            "linecolor": "white",
            "ticks": ""
           },
           "baxis": {
            "gridcolor": "white",
            "linecolor": "white",
            "ticks": ""
           },
           "bgcolor": "#E5ECF6",
           "caxis": {
            "gridcolor": "white",
            "linecolor": "white",
            "ticks": ""
           }
          },
          "title": {
           "x": 0.05
          },
          "xaxis": {
           "automargin": true,
           "gridcolor": "white",
           "linecolor": "white",
           "ticks": "",
           "title": {
            "standoff": 15
           },
           "zerolinecolor": "white",
           "zerolinewidth": 2
          },
          "yaxis": {
           "automargin": true,
           "gridcolor": "white",
           "linecolor": "white",
           "ticks": "",
           "title": {
            "standoff": 15
           },
           "zerolinecolor": "white",
           "zerolinewidth": 2
          }
         }
        },
        "title": {
         "text": "TEST_Losses",
         "x": 0.5,
         "xanchor": "center",
         "y": 0.9,
         "yanchor": "top"
        },
        "xaxis": {
         "gridcolor": "LightGrey",
         "linecolor": "black",
         "linewidth": 2,
         "showline": true,
         "title": {
          "text": "Epoch"
         }
        },
        "yaxis": {
         "gridcolor": "LightGrey",
         "linecolor": "black",
         "linewidth": 2,
         "showline": true,
         "title": {
          "text": "Losses"
         }
        }
       }
      }
     },
     "metadata": {},
     "output_type": "display_data"
    }
   ],
   "source": [
    "plot_comp_metric_k(\"TEST_Fairness\", \"Fairness\", test_fairness7, test_fairness8)\n",
    "plot_comp_metric_k(\"TEST_Discriminations\", \"Discrimination\", test_discriminations7, test_discriminations8)\n",
    "plot_comp_metric_k(\"TEST_Losses\", \"Losses\", test_losses7,test_losses8)"
   ]
  },
  {
   "cell_type": "code",
   "execution_count": null,
   "metadata": {},
   "outputs": [],
   "source": []
  },
  {
   "cell_type": "code",
   "execution_count": null,
   "metadata": {},
   "outputs": [],
   "source": []
  },
  {
   "cell_type": "markdown",
   "metadata": {},
   "source": [
    "#### LOSS ACCURACY AND DISCRIMINATION FOR MODEL WITH DISCRIMINATION FUNCTION"
   ]
  },
  {
   "cell_type": "code",
   "execution_count": null,
   "metadata": {},
   "outputs": [],
   "source": []
  },
  {
   "cell_type": "code",
   "execution_count": 17,
   "metadata": {},
   "outputs": [],
   "source": [
    "import plotly.graph_objects as go\n",
    "\n",
    "def plot_metric(title, y_label, train_data, test_data):\n",
    "    epochs = list(range(1, 101))\n",
    "    fig = go.Figure()\n",
    "\n",
    "    # Adding Train Line with Markers\n",
    "    fig.add_trace(go.Scatter(\n",
    "        x=epochs, y=train_data, mode='lines+markers',\n",
    "        name='Train',\n",
    "        line=dict(color='RoyalBlue', width=2),\n",
    "        marker=dict(color='RoyalBlue', size=6, line=dict(width=1, color='DarkSlateGrey'))\n",
    "    ))\n",
    "\n",
    "    # Adding Test Line with Markers\n",
    "    fig.add_trace(go.Scatter(\n",
    "        x=epochs, y=test_data, mode='lines+markers',\n",
    "        name='Test',\n",
    "        line=dict(color='Crimson', width=2, dash='dot'),\n",
    "        marker=dict(color='Crimson', size=6, line=dict(width=1, color='DarkSlateGrey'))\n",
    "    ))\n",
    "\n",
    "    # Update Layout\n",
    "    fig.update_layout(\n",
    "        title={'text': title, 'y':0.9, 'x':0.5, 'xanchor': 'center', 'yanchor': 'top'},\n",
    "        xaxis_title='Epoch',\n",
    "        yaxis_title=y_label,\n",
    "        legend=dict(x=0.1, y=1.1, orientation='h'),\n",
    "        font=dict(family=\"Helvetica, Arial, sans-serif\", size=12, color=\"black\"),\n",
    "        plot_bgcolor='white',\n",
    "        margin=dict(l=40, r=40, t=40, b=30)\n",
    "    )\n",
    "\n",
    "    # Gridlines and Axes styles\n",
    "    fig.update_xaxes(showline=True, linewidth=2, linecolor='black', gridcolor='LightGrey')\n",
    "    fig.update_yaxes(showline=True, linewidth=2, linecolor='black', gridcolor='LightGrey')\n",
    "\n",
    "    fig.show()"
   ]
  },
  {
   "cell_type": "code",
   "execution_count": 18,
   "metadata": {},
   "outputs": [
    {
     "data": {
      "application/vnd.plotly.v1+json": {
       "config": {
        "plotlyServerURL": "https://plot.ly"
       },
       "data": [
        {
         "line": {
          "color": "RoyalBlue",
          "width": 2
         },
         "marker": {
          "color": "RoyalBlue",
          "line": {
           "color": "DarkSlateGrey",
           "width": 1
          },
          "size": 6
         },
         "mode": "lines+markers",
         "name": "Train",
         "type": "scatter",
         "x": [
          1,
          2,
          3,
          4,
          5,
          6,
          7,
          8,
          9,
          10,
          11,
          12,
          13,
          14,
          15,
          16,
          17,
          18,
          19,
          20,
          21,
          22,
          23,
          24,
          25,
          26,
          27,
          28,
          29,
          30,
          31,
          32,
          33,
          34,
          35,
          36,
          37,
          38,
          39,
          40,
          41,
          42,
          43,
          44,
          45,
          46,
          47,
          48,
          49,
          50,
          51,
          52,
          53,
          54,
          55,
          56,
          57,
          58,
          59,
          60,
          61,
          62,
          63,
          64,
          65,
          66,
          67,
          68,
          69,
          70,
          71,
          72,
          73,
          74,
          75,
          76,
          77,
          78,
          79,
          80,
          81,
          82,
          83,
          84,
          85,
          86,
          87,
          88,
          89,
          90,
          91,
          92,
          93,
          94,
          95,
          96,
          97,
          98,
          99,
          100
         ],
         "y": [
          1.9220411777496338,
          0.9532933831214905,
          1.027151346206665,
          0.9296919703483582,
          0.8239301443099976,
          0.7177369594573975,
          0.6080129146575928,
          0.5046241879463196,
          0.4308387041091919,
          0.42124268412590027,
          0.4763103127479553,
          0.5033271908760071,
          0.47432300448417664,
          0.43329232931137085,
          0.4127715528011322,
          0.4126723110675812,
          0.4216437339782715,
          0.43078678846359253,
          0.43567538261413574,
          0.43498218059539795,
          0.42935705184936523,
          0.42061564326286316,
          0.41115349531173706,
          0.40365076065063477,
          0.40074867010116577,
          0.4009959399700165,
          0.39872753620147705,
          0.39480310678482056,
          0.39390242099761963,
          0.39387303590774536,
          0.39097172021865845,
          0.38858547806739807,
          0.3883673846721649,
          0.3874589502811432,
          0.38508522510528564,
          0.38358160853385925,
          0.3832690119743347,
          0.3819642961025238,
          0.37986665964126587,
          0.3790285885334015,
          0.37860599160194397,
          0.37700244784355164,
          0.37590160965919495,
          0.375559002161026,
          0.37430545687675476,
          0.3729992210865021,
          0.3726195991039276,
          0.3716760277748108,
          0.3707519769668579,
          0.3705594539642334,
          0.36985164880752563,
          0.3691011071205139,
          0.3688454329967499,
          0.36810818314552307,
          0.3675340712070465,
          0.3672483563423157,
          0.36654001474380493,
          0.366127073764801,
          0.3656960427761078,
          0.3650571405887604,
          0.3647250235080719,
          0.36416107416152954,
          0.36367732286453247,
          0.36330947279930115,
          0.3627627491950989,
          0.3624142110347748,
          0.36194342374801636,
          0.3615111708641052,
          0.36111459136009216,
          0.36064276099205017,
          0.3603036105632782,
          0.35985928773880005,
          0.35951802134513855,
          0.359121710062027,
          0.3587588667869568,
          0.35841789841651917,
          0.3580821752548218,
          0.3577630817890167,
          0.35742151737213135,
          0.35713449120521545,
          0.35681843757629395,
          0.3565230369567871,
          0.3562103509902954,
          0.35590946674346924,
          0.35563525557518005,
          0.3553345799446106,
          0.3550686240196228,
          0.354783296585083,
          0.3545318841934204,
          0.354255348443985,
          0.35400310158729553,
          0.3537554144859314,
          0.3535003960132599,
          0.3532753586769104,
          0.3530419170856476,
          0.35281041264533997,
          0.35260602831840515,
          0.35238954424858093,
          0.35217374563217163,
          0.3519804775714874
         ]
        },
        {
         "line": {
          "color": "Crimson",
          "dash": "dot",
          "width": 2
         },
         "marker": {
          "color": "Crimson",
          "line": {
           "color": "DarkSlateGrey",
           "width": 1
          },
          "size": 6
         },
         "mode": "lines+markers",
         "name": "Test",
         "type": "scatter",
         "x": [
          1,
          2,
          3,
          4,
          5,
          6,
          7,
          8,
          9,
          10,
          11,
          12,
          13,
          14,
          15,
          16,
          17,
          18,
          19,
          20,
          21,
          22,
          23,
          24,
          25,
          26,
          27,
          28,
          29,
          30,
          31,
          32,
          33,
          34,
          35,
          36,
          37,
          38,
          39,
          40,
          41,
          42,
          43,
          44,
          45,
          46,
          47,
          48,
          49,
          50,
          51,
          52,
          53,
          54,
          55,
          56,
          57,
          58,
          59,
          60,
          61,
          62,
          63,
          64,
          65,
          66,
          67,
          68,
          69,
          70,
          71,
          72,
          73,
          74,
          75,
          76,
          77,
          78,
          79,
          80,
          81,
          82,
          83,
          84,
          85,
          86,
          87,
          88,
          89,
          90,
          91,
          92,
          93,
          94,
          95,
          96,
          97,
          98,
          99,
          100
         ],
         "y": [
          1.1295995712280273,
          1.1869919300079346,
          1.0255143642425537,
          0.8804137110710144,
          0.7522690296173096,
          0.6286540627479553,
          0.5155042409896851,
          0.4353379011154175,
          0.42565491795539856,
          0.49044594168663025,
          0.5243222713470459,
          0.49137425422668457,
          0.4438058137893677,
          0.4197138547897339,
          0.41862809658050537,
          0.4277338981628418,
          0.4372546672821045,
          0.44240063428878784,
          0.441720187664032,
          0.4359273314476013,
          0.4269927740097046,
          0.4174390137195587,
          0.41009214520454407,
          0.40774962306022644,
          0.4080439507961273,
          0.4051637649536133,
          0.40040361881256104,
          0.3991820514202118,
          0.39907604455947876,
          0.3959740698337555,
          0.39338138699531555,
          0.3930463492870331,
          0.39194968342781067,
          0.3893551230430603,
          0.3878343403339386,
          0.38764113187789917,
          0.3863092064857483,
          0.3839152157306671,
          0.38274267315864563,
          0.3821708559989929,
          0.3806340992450714,
          0.37982484698295593,
          0.3797510862350464,
          0.37848278880119324,
          0.3770044445991516,
          0.3766021132469177,
          0.3758663237094879,
          0.3752859830856323,
          0.3754114508628845,
          0.374767005443573,
          0.37392041087150574,
          0.3736484944820404,
          0.3729635775089264,
          0.37249958515167236,
          0.37225261330604553,
          0.37147197127342224,
          0.3710005581378937,
          0.37064647674560547,
          0.37016695737838745,
          0.3700036108493805,
          0.36950331926345825,
          0.36897018551826477,
          0.36863788962364197,
          0.3682514429092407,
          0.3681076467037201,
          0.3677520155906677,
          0.36739757657051086,
          0.36722734570503235,
          0.36709627509117126,
          0.36713677644729614,
          0.36695927381515503,
          0.3668789863586426,
          0.36684650182724,
          0.36686843633651733,
          0.3668381869792938,
          0.3668018579483032,
          0.36684083938598633,
          0.36689507961273193,
          0.36698710918426514,
          0.3669689893722534,
          0.3669620454311371,
          0.36694544553756714,
          0.3669053018093109,
          0.36683139204978943,
          0.36679425835609436,
          0.36684417724609375,
          0.36680710315704346,
          0.3668144643306732,
          0.36681732535362244,
          0.36683404445648193,
          0.36687856912612915,
          0.3669545352458954,
          0.367095410823822,
          0.3671795725822449,
          0.36719924211502075,
          0.3672487437725067,
          0.36733195185661316,
          0.36740294098854065,
          0.36748945713043213,
          0.3675786256790161
         ]
        }
       ],
       "layout": {
        "font": {
         "color": "black",
         "family": "Helvetica, Arial, sans-serif",
         "size": 12
        },
        "legend": {
         "orientation": "h",
         "x": 0.1,
         "y": 1.1
        },
        "margin": {
         "b": 30,
         "l": 40,
         "r": 40,
         "t": 40
        },
        "plot_bgcolor": "white",
        "template": {
         "data": {
          "bar": [
           {
            "error_x": {
             "color": "#2a3f5f"
            },
            "error_y": {
             "color": "#2a3f5f"
            },
            "marker": {
             "line": {
              "color": "#E5ECF6",
              "width": 0.5
             },
             "pattern": {
              "fillmode": "overlay",
              "size": 10,
              "solidity": 0.2
             }
            },
            "type": "bar"
           }
          ],
          "barpolar": [
           {
            "marker": {
             "line": {
              "color": "#E5ECF6",
              "width": 0.5
             },
             "pattern": {
              "fillmode": "overlay",
              "size": 10,
              "solidity": 0.2
             }
            },
            "type": "barpolar"
           }
          ],
          "carpet": [
           {
            "aaxis": {
             "endlinecolor": "#2a3f5f",
             "gridcolor": "white",
             "linecolor": "white",
             "minorgridcolor": "white",
             "startlinecolor": "#2a3f5f"
            },
            "baxis": {
             "endlinecolor": "#2a3f5f",
             "gridcolor": "white",
             "linecolor": "white",
             "minorgridcolor": "white",
             "startlinecolor": "#2a3f5f"
            },
            "type": "carpet"
           }
          ],
          "choropleth": [
           {
            "colorbar": {
             "outlinewidth": 0,
             "ticks": ""
            },
            "type": "choropleth"
           }
          ],
          "contour": [
           {
            "colorbar": {
             "outlinewidth": 0,
             "ticks": ""
            },
            "colorscale": [
             [
              0,
              "#0d0887"
             ],
             [
              0.1111111111111111,
              "#46039f"
             ],
             [
              0.2222222222222222,
              "#7201a8"
             ],
             [
              0.3333333333333333,
              "#9c179e"
             ],
             [
              0.4444444444444444,
              "#bd3786"
             ],
             [
              0.5555555555555556,
              "#d8576b"
             ],
             [
              0.6666666666666666,
              "#ed7953"
             ],
             [
              0.7777777777777778,
              "#fb9f3a"
             ],
             [
              0.8888888888888888,
              "#fdca26"
             ],
             [
              1,
              "#f0f921"
             ]
            ],
            "type": "contour"
           }
          ],
          "contourcarpet": [
           {
            "colorbar": {
             "outlinewidth": 0,
             "ticks": ""
            },
            "type": "contourcarpet"
           }
          ],
          "heatmap": [
           {
            "colorbar": {
             "outlinewidth": 0,
             "ticks": ""
            },
            "colorscale": [
             [
              0,
              "#0d0887"
             ],
             [
              0.1111111111111111,
              "#46039f"
             ],
             [
              0.2222222222222222,
              "#7201a8"
             ],
             [
              0.3333333333333333,
              "#9c179e"
             ],
             [
              0.4444444444444444,
              "#bd3786"
             ],
             [
              0.5555555555555556,
              "#d8576b"
             ],
             [
              0.6666666666666666,
              "#ed7953"
             ],
             [
              0.7777777777777778,
              "#fb9f3a"
             ],
             [
              0.8888888888888888,
              "#fdca26"
             ],
             [
              1,
              "#f0f921"
             ]
            ],
            "type": "heatmap"
           }
          ],
          "heatmapgl": [
           {
            "colorbar": {
             "outlinewidth": 0,
             "ticks": ""
            },
            "colorscale": [
             [
              0,
              "#0d0887"
             ],
             [
              0.1111111111111111,
              "#46039f"
             ],
             [
              0.2222222222222222,
              "#7201a8"
             ],
             [
              0.3333333333333333,
              "#9c179e"
             ],
             [
              0.4444444444444444,
              "#bd3786"
             ],
             [
              0.5555555555555556,
              "#d8576b"
             ],
             [
              0.6666666666666666,
              "#ed7953"
             ],
             [
              0.7777777777777778,
              "#fb9f3a"
             ],
             [
              0.8888888888888888,
              "#fdca26"
             ],
             [
              1,
              "#f0f921"
             ]
            ],
            "type": "heatmapgl"
           }
          ],
          "histogram": [
           {
            "marker": {
             "pattern": {
              "fillmode": "overlay",
              "size": 10,
              "solidity": 0.2
             }
            },
            "type": "histogram"
           }
          ],
          "histogram2d": [
           {
            "colorbar": {
             "outlinewidth": 0,
             "ticks": ""
            },
            "colorscale": [
             [
              0,
              "#0d0887"
             ],
             [
              0.1111111111111111,
              "#46039f"
             ],
             [
              0.2222222222222222,
              "#7201a8"
             ],
             [
              0.3333333333333333,
              "#9c179e"
             ],
             [
              0.4444444444444444,
              "#bd3786"
             ],
             [
              0.5555555555555556,
              "#d8576b"
             ],
             [
              0.6666666666666666,
              "#ed7953"
             ],
             [
              0.7777777777777778,
              "#fb9f3a"
             ],
             [
              0.8888888888888888,
              "#fdca26"
             ],
             [
              1,
              "#f0f921"
             ]
            ],
            "type": "histogram2d"
           }
          ],
          "histogram2dcontour": [
           {
            "colorbar": {
             "outlinewidth": 0,
             "ticks": ""
            },
            "colorscale": [
             [
              0,
              "#0d0887"
             ],
             [
              0.1111111111111111,
              "#46039f"
             ],
             [
              0.2222222222222222,
              "#7201a8"
             ],
             [
              0.3333333333333333,
              "#9c179e"
             ],
             [
              0.4444444444444444,
              "#bd3786"
             ],
             [
              0.5555555555555556,
              "#d8576b"
             ],
             [
              0.6666666666666666,
              "#ed7953"
             ],
             [
              0.7777777777777778,
              "#fb9f3a"
             ],
             [
              0.8888888888888888,
              "#fdca26"
             ],
             [
              1,
              "#f0f921"
             ]
            ],
            "type": "histogram2dcontour"
           }
          ],
          "mesh3d": [
           {
            "colorbar": {
             "outlinewidth": 0,
             "ticks": ""
            },
            "type": "mesh3d"
           }
          ],
          "parcoords": [
           {
            "line": {
             "colorbar": {
              "outlinewidth": 0,
              "ticks": ""
             }
            },
            "type": "parcoords"
           }
          ],
          "pie": [
           {
            "automargin": true,
            "type": "pie"
           }
          ],
          "scatter": [
           {
            "fillpattern": {
             "fillmode": "overlay",
             "size": 10,
             "solidity": 0.2
            },
            "type": "scatter"
           }
          ],
          "scatter3d": [
           {
            "line": {
             "colorbar": {
              "outlinewidth": 0,
              "ticks": ""
             }
            },
            "marker": {
             "colorbar": {
              "outlinewidth": 0,
              "ticks": ""
             }
            },
            "type": "scatter3d"
           }
          ],
          "scattercarpet": [
           {
            "marker": {
             "colorbar": {
              "outlinewidth": 0,
              "ticks": ""
             }
            },
            "type": "scattercarpet"
           }
          ],
          "scattergeo": [
           {
            "marker": {
             "colorbar": {
              "outlinewidth": 0,
              "ticks": ""
             }
            },
            "type": "scattergeo"
           }
          ],
          "scattergl": [
           {
            "marker": {
             "colorbar": {
              "outlinewidth": 0,
              "ticks": ""
             }
            },
            "type": "scattergl"
           }
          ],
          "scattermapbox": [
           {
            "marker": {
             "colorbar": {
              "outlinewidth": 0,
              "ticks": ""
             }
            },
            "type": "scattermapbox"
           }
          ],
          "scatterpolar": [
           {
            "marker": {
             "colorbar": {
              "outlinewidth": 0,
              "ticks": ""
             }
            },
            "type": "scatterpolar"
           }
          ],
          "scatterpolargl": [
           {
            "marker": {
             "colorbar": {
              "outlinewidth": 0,
              "ticks": ""
             }
            },
            "type": "scatterpolargl"
           }
          ],
          "scatterternary": [
           {
            "marker": {
             "colorbar": {
              "outlinewidth": 0,
              "ticks": ""
             }
            },
            "type": "scatterternary"
           }
          ],
          "surface": [
           {
            "colorbar": {
             "outlinewidth": 0,
             "ticks": ""
            },
            "colorscale": [
             [
              0,
              "#0d0887"
             ],
             [
              0.1111111111111111,
              "#46039f"
             ],
             [
              0.2222222222222222,
              "#7201a8"
             ],
             [
              0.3333333333333333,
              "#9c179e"
             ],
             [
              0.4444444444444444,
              "#bd3786"
             ],
             [
              0.5555555555555556,
              "#d8576b"
             ],
             [
              0.6666666666666666,
              "#ed7953"
             ],
             [
              0.7777777777777778,
              "#fb9f3a"
             ],
             [
              0.8888888888888888,
              "#fdca26"
             ],
             [
              1,
              "#f0f921"
             ]
            ],
            "type": "surface"
           }
          ],
          "table": [
           {
            "cells": {
             "fill": {
              "color": "#EBF0F8"
             },
             "line": {
              "color": "white"
             }
            },
            "header": {
             "fill": {
              "color": "#C8D4E3"
             },
             "line": {
              "color": "white"
             }
            },
            "type": "table"
           }
          ]
         },
         "layout": {
          "annotationdefaults": {
           "arrowcolor": "#2a3f5f",
           "arrowhead": 0,
           "arrowwidth": 1
          },
          "autotypenumbers": "strict",
          "coloraxis": {
           "colorbar": {
            "outlinewidth": 0,
            "ticks": ""
           }
          },
          "colorscale": {
           "diverging": [
            [
             0,
             "#8e0152"
            ],
            [
             0.1,
             "#c51b7d"
            ],
            [
             0.2,
             "#de77ae"
            ],
            [
             0.3,
             "#f1b6da"
            ],
            [
             0.4,
             "#fde0ef"
            ],
            [
             0.5,
             "#f7f7f7"
            ],
            [
             0.6,
             "#e6f5d0"
            ],
            [
             0.7,
             "#b8e186"
            ],
            [
             0.8,
             "#7fbc41"
            ],
            [
             0.9,
             "#4d9221"
            ],
            [
             1,
             "#276419"
            ]
           ],
           "sequential": [
            [
             0,
             "#0d0887"
            ],
            [
             0.1111111111111111,
             "#46039f"
            ],
            [
             0.2222222222222222,
             "#7201a8"
            ],
            [
             0.3333333333333333,
             "#9c179e"
            ],
            [
             0.4444444444444444,
             "#bd3786"
            ],
            [
             0.5555555555555556,
             "#d8576b"
            ],
            [
             0.6666666666666666,
             "#ed7953"
            ],
            [
             0.7777777777777778,
             "#fb9f3a"
            ],
            [
             0.8888888888888888,
             "#fdca26"
            ],
            [
             1,
             "#f0f921"
            ]
           ],
           "sequentialminus": [
            [
             0,
             "#0d0887"
            ],
            [
             0.1111111111111111,
             "#46039f"
            ],
            [
             0.2222222222222222,
             "#7201a8"
            ],
            [
             0.3333333333333333,
             "#9c179e"
            ],
            [
             0.4444444444444444,
             "#bd3786"
            ],
            [
             0.5555555555555556,
             "#d8576b"
            ],
            [
             0.6666666666666666,
             "#ed7953"
            ],
            [
             0.7777777777777778,
             "#fb9f3a"
            ],
            [
             0.8888888888888888,
             "#fdca26"
            ],
            [
             1,
             "#f0f921"
            ]
           ]
          },
          "colorway": [
           "#636efa",
           "#EF553B",
           "#00cc96",
           "#ab63fa",
           "#FFA15A",
           "#19d3f3",
           "#FF6692",
           "#B6E880",
           "#FF97FF",
           "#FECB52"
          ],
          "font": {
           "color": "#2a3f5f"
          },
          "geo": {
           "bgcolor": "white",
           "lakecolor": "white",
           "landcolor": "#E5ECF6",
           "showlakes": true,
           "showland": true,
           "subunitcolor": "white"
          },
          "hoverlabel": {
           "align": "left"
          },
          "hovermode": "closest",
          "mapbox": {
           "style": "light"
          },
          "paper_bgcolor": "white",
          "plot_bgcolor": "#E5ECF6",
          "polar": {
           "angularaxis": {
            "gridcolor": "white",
            "linecolor": "white",
            "ticks": ""
           },
           "bgcolor": "#E5ECF6",
           "radialaxis": {
            "gridcolor": "white",
            "linecolor": "white",
            "ticks": ""
           }
          },
          "scene": {
           "xaxis": {
            "backgroundcolor": "#E5ECF6",
            "gridcolor": "white",
            "gridwidth": 2,
            "linecolor": "white",
            "showbackground": true,
            "ticks": "",
            "zerolinecolor": "white"
           },
           "yaxis": {
            "backgroundcolor": "#E5ECF6",
            "gridcolor": "white",
            "gridwidth": 2,
            "linecolor": "white",
            "showbackground": true,
            "ticks": "",
            "zerolinecolor": "white"
           },
           "zaxis": {
            "backgroundcolor": "#E5ECF6",
            "gridcolor": "white",
            "gridwidth": 2,
            "linecolor": "white",
            "showbackground": true,
            "ticks": "",
            "zerolinecolor": "white"
           }
          },
          "shapedefaults": {
           "line": {
            "color": "#2a3f5f"
           }
          },
          "ternary": {
           "aaxis": {
            "gridcolor": "white",
            "linecolor": "white",
            "ticks": ""
           },
           "baxis": {
            "gridcolor": "white",
            "linecolor": "white",
            "ticks": ""
           },
           "bgcolor": "#E5ECF6",
           "caxis": {
            "gridcolor": "white",
            "linecolor": "white",
            "ticks": ""
           }
          },
          "title": {
           "x": 0.05
          },
          "xaxis": {
           "automargin": true,
           "gridcolor": "white",
           "linecolor": "white",
           "ticks": "",
           "title": {
            "standoff": 15
           },
           "zerolinecolor": "white",
           "zerolinewidth": 2
          },
          "yaxis": {
           "automargin": true,
           "gridcolor": "white",
           "linecolor": "white",
           "ticks": "",
           "title": {
            "standoff": 15
           },
           "zerolinecolor": "white",
           "zerolinewidth": 2
          }
         }
        },
        "title": {
         "text": "Training and Testing Loss",
         "x": 0.5,
         "xanchor": "center",
         "y": 0.9,
         "yanchor": "top"
        },
        "xaxis": {
         "gridcolor": "LightGrey",
         "linecolor": "black",
         "linewidth": 2,
         "showline": true,
         "title": {
          "text": "Epoch"
         }
        },
        "yaxis": {
         "gridcolor": "LightGrey",
         "linecolor": "black",
         "linewidth": 2,
         "showline": true,
         "title": {
          "text": "Loss"
         }
        }
       }
      }
     },
     "metadata": {},
     "output_type": "display_data"
    },
    {
     "data": {
      "application/vnd.plotly.v1+json": {
       "config": {
        "plotlyServerURL": "https://plot.ly"
       },
       "data": [
        {
         "line": {
          "color": "RoyalBlue",
          "width": 2
         },
         "marker": {
          "color": "RoyalBlue",
          "line": {
           "color": "DarkSlateGrey",
           "width": 1
          },
          "size": 6
         },
         "mode": "lines+markers",
         "name": "Train",
         "type": "scatter",
         "x": [
          1,
          2,
          3,
          4,
          5,
          6,
          7,
          8,
          9,
          10,
          11,
          12,
          13,
          14,
          15,
          16,
          17,
          18,
          19,
          20,
          21,
          22,
          23,
          24,
          25,
          26,
          27,
          28,
          29,
          30,
          31,
          32,
          33,
          34,
          35,
          36,
          37,
          38,
          39,
          40,
          41,
          42,
          43,
          44,
          45,
          46,
          47,
          48,
          49,
          50,
          51,
          52,
          53,
          54,
          55,
          56,
          57,
          58,
          59,
          60,
          61,
          62,
          63,
          64,
          65,
          66,
          67,
          68,
          69,
          70,
          71,
          72,
          73,
          74,
          75,
          76,
          77,
          78,
          79,
          80,
          81,
          82,
          83,
          84,
          85,
          86,
          87,
          88,
          89,
          90,
          91,
          92,
          93,
          94,
          95,
          96,
          97,
          98,
          99,
          100
         ],
         "y": [
          18.659190833568573,
          60.45483350753784,
          81.63297772407532,
          82.8727126121521,
          82.8727126121521,
          82.8727126121521,
          82.8727126121521,
          82.8727126121521,
          82.8727126121521,
          82.89639949798584,
          84.39671397209167,
          85.23373603820801,
          84.38092470169067,
          83.07011723518372,
          82.8727126121521,
          82.8727126121521,
          82.8727126121521,
          82.8727126121521,
          82.8727126121521,
          82.8727126121521,
          82.8727126121521,
          82.8727126121521,
          82.8727126121521,
          82.86481499671936,
          82.92798399925232,
          83.18067193031311,
          83.58338475227356,
          83.48073363304138,
          83.28332304954529,
          83.28332304954529,
          83.51231813430786,
          83.97030830383301,
          84.3098521232605,
          84.47567820549011,
          84.39671397209167,
          84.27826762199402,
          84.19930338859558,
          84.26247835159302,
          84.57832932472229,
          84.90208387374878,
          84.9968433380127,
          84.95736122131348,
          84.86260175704956,
          84.83891487121582,
          84.97315049171448,
          84.941565990448,
          85.04421710968018,
          85.05211472511292,
          84.96525287628174,
          84.98104810714722,
          84.97315049171448,
          85.03632545471191,
          84.93366837501526,
          84.95736122131348,
          84.93366837501526,
          84.90208387374878,
          84.925776720047,
          84.95736122131348,
          84.98894572257996,
          84.941565990448,
          84.96525287628174,
          84.9968433380127,
          85.05211472511292,
          85.0679099559784,
          85.09159684181213,
          85.06001234054565,
          85.07580757141113,
          85.17845869064331,
          85.20214557647705,
          85.14687418937683,
          85.14687418937683,
          85.17056107521057,
          85.15477180480957,
          85.14687418937683,
          85.15477180480957,
          85.16266345977783,
          85.22583842277527,
          85.28900742530823,
          85.23373603820801,
          85.21004319190979,
          85.26532053947449,
          85.29690504074097,
          85.28900742530823,
          85.3205919265747,
          85.28900742530823,
          85.3205919265747,
          85.34428477287292,
          85.33638715744019,
          85.33638715744019,
          85.36007404327393,
          85.33638715744019,
          85.36797165870667,
          85.33638715744019,
          85.36007404327393,
          85.3916585445404,
          85.3916585445404,
          85.38376688957214,
          85.43903827667236,
          85.43903827667236,
          85.43114066123962
         ]
        },
        {
         "line": {
          "color": "Crimson",
          "dash": "dot",
          "width": 2
         },
         "marker": {
          "color": "Crimson",
          "line": {
           "color": "DarkSlateGrey",
           "width": 1
          },
          "size": 6
         },
         "mode": "lines+markers",
         "name": "Test",
         "type": "scatter",
         "x": [
          1,
          2,
          3,
          4,
          5,
          6,
          7,
          8,
          9,
          10,
          11,
          12,
          13,
          14,
          15,
          16,
          17,
          18,
          19,
          20,
          21,
          22,
          23,
          24,
          25,
          26,
          27,
          28,
          29,
          30,
          31,
          32,
          33,
          34,
          35,
          36,
          37,
          38,
          39,
          40,
          41,
          42,
          43,
          44,
          45,
          46,
          47,
          48,
          49,
          50,
          51,
          52,
          53,
          54,
          55,
          56,
          57,
          58,
          59,
          60,
          61,
          62,
          63,
          64,
          65,
          66,
          67,
          68,
          69,
          70,
          71,
          72,
          73,
          74,
          75,
          76,
          77,
          78,
          79,
          80,
          81,
          82,
          83,
          84,
          85,
          86,
          87,
          88,
          89,
          90,
          91,
          92,
          93,
          94,
          95,
          96,
          97,
          98,
          99,
          100
         ],
         "y": [
          60.012632608413696,
          81.08022809028625,
          82.65950679779053,
          82.65950679779053,
          82.65950679779053,
          82.65950679779053,
          82.65950679779053,
          82.65950679779053,
          82.65950679779053,
          84.33354496955872,
          84.64940190315247,
          84.3651294708252,
          83.10170769691467,
          82.65950679779053,
          82.65950679779053,
          82.65950679779053,
          82.65950679779053,
          82.65950679779053,
          82.65950679779053,
          82.65950679779053,
          82.65950679779053,
          82.65950679779053,
          82.691091299057,
          82.691091299057,
          83.00694823265076,
          83.25963616371155,
          83.13329219818115,
          83.16487669944763,
          83.19646120071411,
          83.22804570198059,
          83.63866209983826,
          83.89134407043457,
          84.11244750022888,
          84.01768803596497,
          83.954519033432,
          83.82817506790161,
          83.92292857170105,
          84.20720100402832,
          84.61781144142151,
          84.45988893508911,
          84.39671397209167,
          84.61781144142151,
          84.49147343635559,
          84.61781144142151,
          84.52305793762207,
          84.93366837501526,
          84.8704993724823,
          84.61781144142151,
          84.55464243888855,
          84.64940190315247,
          84.7441554069519,
          84.83891487121582,
          84.80733036994934,
          84.68098640441895,
          84.61781144142151,
          84.71257090568542,
          84.80733036994934,
          84.83891487121582,
          84.71257090568542,
          84.71257090568542,
          84.71257090568542,
          84.7441554069519,
          84.80733036994934,
          84.71257090568542,
          84.64940190315247,
          84.71257090568542,
          84.77573990821838,
          84.7441554069519,
          84.61781144142151,
          84.39671397209167,
          84.49147343635559,
          84.52305793762207,
          84.3651294708252,
          84.42829847335815,
          84.49147343635559,
          84.55464243888855,
          84.61781144142151,
          84.55464243888855,
          84.49147343635559,
          84.52305793762207,
          84.55464243888855,
          84.39671397209167,
          84.45988893508911,
          84.55464243888855,
          84.58622694015503,
          84.52305793762207,
          84.52305793762207,
          84.49147343635559,
          84.58622694015503,
          84.55464243888855,
          84.61781144142151,
          84.64940190315247,
          84.49147343635559,
          84.49147343635559,
          84.45988893508911,
          84.45988893508911,
          84.49147343635559,
          84.52305793762207,
          84.49147343635559,
          84.49147343635559
         ]
        }
       ],
       "layout": {
        "font": {
         "color": "black",
         "family": "Helvetica, Arial, sans-serif",
         "size": 12
        },
        "legend": {
         "orientation": "h",
         "x": 0.1,
         "y": 1.1
        },
        "margin": {
         "b": 30,
         "l": 40,
         "r": 40,
         "t": 40
        },
        "plot_bgcolor": "white",
        "template": {
         "data": {
          "bar": [
           {
            "error_x": {
             "color": "#2a3f5f"
            },
            "error_y": {
             "color": "#2a3f5f"
            },
            "marker": {
             "line": {
              "color": "#E5ECF6",
              "width": 0.5
             },
             "pattern": {
              "fillmode": "overlay",
              "size": 10,
              "solidity": 0.2
             }
            },
            "type": "bar"
           }
          ],
          "barpolar": [
           {
            "marker": {
             "line": {
              "color": "#E5ECF6",
              "width": 0.5
             },
             "pattern": {
              "fillmode": "overlay",
              "size": 10,
              "solidity": 0.2
             }
            },
            "type": "barpolar"
           }
          ],
          "carpet": [
           {
            "aaxis": {
             "endlinecolor": "#2a3f5f",
             "gridcolor": "white",
             "linecolor": "white",
             "minorgridcolor": "white",
             "startlinecolor": "#2a3f5f"
            },
            "baxis": {
             "endlinecolor": "#2a3f5f",
             "gridcolor": "white",
             "linecolor": "white",
             "minorgridcolor": "white",
             "startlinecolor": "#2a3f5f"
            },
            "type": "carpet"
           }
          ],
          "choropleth": [
           {
            "colorbar": {
             "outlinewidth": 0,
             "ticks": ""
            },
            "type": "choropleth"
           }
          ],
          "contour": [
           {
            "colorbar": {
             "outlinewidth": 0,
             "ticks": ""
            },
            "colorscale": [
             [
              0,
              "#0d0887"
             ],
             [
              0.1111111111111111,
              "#46039f"
             ],
             [
              0.2222222222222222,
              "#7201a8"
             ],
             [
              0.3333333333333333,
              "#9c179e"
             ],
             [
              0.4444444444444444,
              "#bd3786"
             ],
             [
              0.5555555555555556,
              "#d8576b"
             ],
             [
              0.6666666666666666,
              "#ed7953"
             ],
             [
              0.7777777777777778,
              "#fb9f3a"
             ],
             [
              0.8888888888888888,
              "#fdca26"
             ],
             [
              1,
              "#f0f921"
             ]
            ],
            "type": "contour"
           }
          ],
          "contourcarpet": [
           {
            "colorbar": {
             "outlinewidth": 0,
             "ticks": ""
            },
            "type": "contourcarpet"
           }
          ],
          "heatmap": [
           {
            "colorbar": {
             "outlinewidth": 0,
             "ticks": ""
            },
            "colorscale": [
             [
              0,
              "#0d0887"
             ],
             [
              0.1111111111111111,
              "#46039f"
             ],
             [
              0.2222222222222222,
              "#7201a8"
             ],
             [
              0.3333333333333333,
              "#9c179e"
             ],
             [
              0.4444444444444444,
              "#bd3786"
             ],
             [
              0.5555555555555556,
              "#d8576b"
             ],
             [
              0.6666666666666666,
              "#ed7953"
             ],
             [
              0.7777777777777778,
              "#fb9f3a"
             ],
             [
              0.8888888888888888,
              "#fdca26"
             ],
             [
              1,
              "#f0f921"
             ]
            ],
            "type": "heatmap"
           }
          ],
          "heatmapgl": [
           {
            "colorbar": {
             "outlinewidth": 0,
             "ticks": ""
            },
            "colorscale": [
             [
              0,
              "#0d0887"
             ],
             [
              0.1111111111111111,
              "#46039f"
             ],
             [
              0.2222222222222222,
              "#7201a8"
             ],
             [
              0.3333333333333333,
              "#9c179e"
             ],
             [
              0.4444444444444444,
              "#bd3786"
             ],
             [
              0.5555555555555556,
              "#d8576b"
             ],
             [
              0.6666666666666666,
              "#ed7953"
             ],
             [
              0.7777777777777778,
              "#fb9f3a"
             ],
             [
              0.8888888888888888,
              "#fdca26"
             ],
             [
              1,
              "#f0f921"
             ]
            ],
            "type": "heatmapgl"
           }
          ],
          "histogram": [
           {
            "marker": {
             "pattern": {
              "fillmode": "overlay",
              "size": 10,
              "solidity": 0.2
             }
            },
            "type": "histogram"
           }
          ],
          "histogram2d": [
           {
            "colorbar": {
             "outlinewidth": 0,
             "ticks": ""
            },
            "colorscale": [
             [
              0,
              "#0d0887"
             ],
             [
              0.1111111111111111,
              "#46039f"
             ],
             [
              0.2222222222222222,
              "#7201a8"
             ],
             [
              0.3333333333333333,
              "#9c179e"
             ],
             [
              0.4444444444444444,
              "#bd3786"
             ],
             [
              0.5555555555555556,
              "#d8576b"
             ],
             [
              0.6666666666666666,
              "#ed7953"
             ],
             [
              0.7777777777777778,
              "#fb9f3a"
             ],
             [
              0.8888888888888888,
              "#fdca26"
             ],
             [
              1,
              "#f0f921"
             ]
            ],
            "type": "histogram2d"
           }
          ],
          "histogram2dcontour": [
           {
            "colorbar": {
             "outlinewidth": 0,
             "ticks": ""
            },
            "colorscale": [
             [
              0,
              "#0d0887"
             ],
             [
              0.1111111111111111,
              "#46039f"
             ],
             [
              0.2222222222222222,
              "#7201a8"
             ],
             [
              0.3333333333333333,
              "#9c179e"
             ],
             [
              0.4444444444444444,
              "#bd3786"
             ],
             [
              0.5555555555555556,
              "#d8576b"
             ],
             [
              0.6666666666666666,
              "#ed7953"
             ],
             [
              0.7777777777777778,
              "#fb9f3a"
             ],
             [
              0.8888888888888888,
              "#fdca26"
             ],
             [
              1,
              "#f0f921"
             ]
            ],
            "type": "histogram2dcontour"
           }
          ],
          "mesh3d": [
           {
            "colorbar": {
             "outlinewidth": 0,
             "ticks": ""
            },
            "type": "mesh3d"
           }
          ],
          "parcoords": [
           {
            "line": {
             "colorbar": {
              "outlinewidth": 0,
              "ticks": ""
             }
            },
            "type": "parcoords"
           }
          ],
          "pie": [
           {
            "automargin": true,
            "type": "pie"
           }
          ],
          "scatter": [
           {
            "fillpattern": {
             "fillmode": "overlay",
             "size": 10,
             "solidity": 0.2
            },
            "type": "scatter"
           }
          ],
          "scatter3d": [
           {
            "line": {
             "colorbar": {
              "outlinewidth": 0,
              "ticks": ""
             }
            },
            "marker": {
             "colorbar": {
              "outlinewidth": 0,
              "ticks": ""
             }
            },
            "type": "scatter3d"
           }
          ],
          "scattercarpet": [
           {
            "marker": {
             "colorbar": {
              "outlinewidth": 0,
              "ticks": ""
             }
            },
            "type": "scattercarpet"
           }
          ],
          "scattergeo": [
           {
            "marker": {
             "colorbar": {
              "outlinewidth": 0,
              "ticks": ""
             }
            },
            "type": "scattergeo"
           }
          ],
          "scattergl": [
           {
            "marker": {
             "colorbar": {
              "outlinewidth": 0,
              "ticks": ""
             }
            },
            "type": "scattergl"
           }
          ],
          "scattermapbox": [
           {
            "marker": {
             "colorbar": {
              "outlinewidth": 0,
              "ticks": ""
             }
            },
            "type": "scattermapbox"
           }
          ],
          "scatterpolar": [
           {
            "marker": {
             "colorbar": {
              "outlinewidth": 0,
              "ticks": ""
             }
            },
            "type": "scatterpolar"
           }
          ],
          "scatterpolargl": [
           {
            "marker": {
             "colorbar": {
              "outlinewidth": 0,
              "ticks": ""
             }
            },
            "type": "scatterpolargl"
           }
          ],
          "scatterternary": [
           {
            "marker": {
             "colorbar": {
              "outlinewidth": 0,
              "ticks": ""
             }
            },
            "type": "scatterternary"
           }
          ],
          "surface": [
           {
            "colorbar": {
             "outlinewidth": 0,
             "ticks": ""
            },
            "colorscale": [
             [
              0,
              "#0d0887"
             ],
             [
              0.1111111111111111,
              "#46039f"
             ],
             [
              0.2222222222222222,
              "#7201a8"
             ],
             [
              0.3333333333333333,
              "#9c179e"
             ],
             [
              0.4444444444444444,
              "#bd3786"
             ],
             [
              0.5555555555555556,
              "#d8576b"
             ],
             [
              0.6666666666666666,
              "#ed7953"
             ],
             [
              0.7777777777777778,
              "#fb9f3a"
             ],
             [
              0.8888888888888888,
              "#fdca26"
             ],
             [
              1,
              "#f0f921"
             ]
            ],
            "type": "surface"
           }
          ],
          "table": [
           {
            "cells": {
             "fill": {
              "color": "#EBF0F8"
             },
             "line": {
              "color": "white"
             }
            },
            "header": {
             "fill": {
              "color": "#C8D4E3"
             },
             "line": {
              "color": "white"
             }
            },
            "type": "table"
           }
          ]
         },
         "layout": {
          "annotationdefaults": {
           "arrowcolor": "#2a3f5f",
           "arrowhead": 0,
           "arrowwidth": 1
          },
          "autotypenumbers": "strict",
          "coloraxis": {
           "colorbar": {
            "outlinewidth": 0,
            "ticks": ""
           }
          },
          "colorscale": {
           "diverging": [
            [
             0,
             "#8e0152"
            ],
            [
             0.1,
             "#c51b7d"
            ],
            [
             0.2,
             "#de77ae"
            ],
            [
             0.3,
             "#f1b6da"
            ],
            [
             0.4,
             "#fde0ef"
            ],
            [
             0.5,
             "#f7f7f7"
            ],
            [
             0.6,
             "#e6f5d0"
            ],
            [
             0.7,
             "#b8e186"
            ],
            [
             0.8,
             "#7fbc41"
            ],
            [
             0.9,
             "#4d9221"
            ],
            [
             1,
             "#276419"
            ]
           ],
           "sequential": [
            [
             0,
             "#0d0887"
            ],
            [
             0.1111111111111111,
             "#46039f"
            ],
            [
             0.2222222222222222,
             "#7201a8"
            ],
            [
             0.3333333333333333,
             "#9c179e"
            ],
            [
             0.4444444444444444,
             "#bd3786"
            ],
            [
             0.5555555555555556,
             "#d8576b"
            ],
            [
             0.6666666666666666,
             "#ed7953"
            ],
            [
             0.7777777777777778,
             "#fb9f3a"
            ],
            [
             0.8888888888888888,
             "#fdca26"
            ],
            [
             1,
             "#f0f921"
            ]
           ],
           "sequentialminus": [
            [
             0,
             "#0d0887"
            ],
            [
             0.1111111111111111,
             "#46039f"
            ],
            [
             0.2222222222222222,
             "#7201a8"
            ],
            [
             0.3333333333333333,
             "#9c179e"
            ],
            [
             0.4444444444444444,
             "#bd3786"
            ],
            [
             0.5555555555555556,
             "#d8576b"
            ],
            [
             0.6666666666666666,
             "#ed7953"
            ],
            [
             0.7777777777777778,
             "#fb9f3a"
            ],
            [
             0.8888888888888888,
             "#fdca26"
            ],
            [
             1,
             "#f0f921"
            ]
           ]
          },
          "colorway": [
           "#636efa",
           "#EF553B",
           "#00cc96",
           "#ab63fa",
           "#FFA15A",
           "#19d3f3",
           "#FF6692",
           "#B6E880",
           "#FF97FF",
           "#FECB52"
          ],
          "font": {
           "color": "#2a3f5f"
          },
          "geo": {
           "bgcolor": "white",
           "lakecolor": "white",
           "landcolor": "#E5ECF6",
           "showlakes": true,
           "showland": true,
           "subunitcolor": "white"
          },
          "hoverlabel": {
           "align": "left"
          },
          "hovermode": "closest",
          "mapbox": {
           "style": "light"
          },
          "paper_bgcolor": "white",
          "plot_bgcolor": "#E5ECF6",
          "polar": {
           "angularaxis": {
            "gridcolor": "white",
            "linecolor": "white",
            "ticks": ""
           },
           "bgcolor": "#E5ECF6",
           "radialaxis": {
            "gridcolor": "white",
            "linecolor": "white",
            "ticks": ""
           }
          },
          "scene": {
           "xaxis": {
            "backgroundcolor": "#E5ECF6",
            "gridcolor": "white",
            "gridwidth": 2,
            "linecolor": "white",
            "showbackground": true,
            "ticks": "",
            "zerolinecolor": "white"
           },
           "yaxis": {
            "backgroundcolor": "#E5ECF6",
            "gridcolor": "white",
            "gridwidth": 2,
            "linecolor": "white",
            "showbackground": true,
            "ticks": "",
            "zerolinecolor": "white"
           },
           "zaxis": {
            "backgroundcolor": "#E5ECF6",
            "gridcolor": "white",
            "gridwidth": 2,
            "linecolor": "white",
            "showbackground": true,
            "ticks": "",
            "zerolinecolor": "white"
           }
          },
          "shapedefaults": {
           "line": {
            "color": "#2a3f5f"
           }
          },
          "ternary": {
           "aaxis": {
            "gridcolor": "white",
            "linecolor": "white",
            "ticks": ""
           },
           "baxis": {
            "gridcolor": "white",
            "linecolor": "white",
            "ticks": ""
           },
           "bgcolor": "#E5ECF6",
           "caxis": {
            "gridcolor": "white",
            "linecolor": "white",
            "ticks": ""
           }
          },
          "title": {
           "x": 0.05
          },
          "xaxis": {
           "automargin": true,
           "gridcolor": "white",
           "linecolor": "white",
           "ticks": "",
           "title": {
            "standoff": 15
           },
           "zerolinecolor": "white",
           "zerolinewidth": 2
          },
          "yaxis": {
           "automargin": true,
           "gridcolor": "white",
           "linecolor": "white",
           "ticks": "",
           "title": {
            "standoff": 15
           },
           "zerolinecolor": "white",
           "zerolinewidth": 2
          }
         }
        },
        "title": {
         "text": "Training and Testing Accuracy",
         "x": 0.5,
         "xanchor": "center",
         "y": 0.9,
         "yanchor": "top"
        },
        "xaxis": {
         "gridcolor": "LightGrey",
         "linecolor": "black",
         "linewidth": 2,
         "showline": true,
         "title": {
          "text": "Epoch"
         }
        },
        "yaxis": {
         "gridcolor": "LightGrey",
         "linecolor": "black",
         "linewidth": 2,
         "showline": true,
         "title": {
          "text": "Accuracy (%)"
         }
        }
       }
      }
     },
     "metadata": {},
     "output_type": "display_data"
    },
    {
     "data": {
      "application/vnd.plotly.v1+json": {
       "config": {
        "plotlyServerURL": "https://plot.ly"
       },
       "data": [
        {
         "line": {
          "color": "RoyalBlue",
          "width": 2
         },
         "marker": {
          "color": "RoyalBlue",
          "line": {
           "color": "DarkSlateGrey",
           "width": 1
          },
          "size": 6
         },
         "mode": "lines+markers",
         "name": "Train",
         "type": "scatter",
         "x": [
          1,
          2,
          3,
          4,
          5,
          6,
          7,
          8,
          9,
          10,
          11,
          12,
          13,
          14,
          15,
          16,
          17,
          18,
          19,
          20,
          21,
          22,
          23,
          24,
          25,
          26,
          27,
          28,
          29,
          30,
          31,
          32,
          33,
          34,
          35,
          36,
          37,
          38,
          39,
          40,
          41,
          42,
          43,
          44,
          45,
          46,
          47,
          48,
          49,
          50,
          51,
          52,
          53,
          54,
          55,
          56,
          57,
          58,
          59,
          60,
          61,
          62,
          63,
          64,
          65,
          66,
          67,
          68,
          69,
          70,
          71,
          72,
          73,
          74,
          75,
          76,
          77,
          78,
          79,
          80,
          81,
          82,
          83,
          84,
          85,
          86,
          87,
          88,
          89,
          90,
          91,
          92,
          93,
          94,
          95,
          96,
          97,
          98,
          99,
          100
         ],
         "y": [
          0.02425457537174225,
          0.03780997917056084,
          0.02452375739812851,
          0.013031406328082085,
          0.007192534394562244,
          0.004120622295886278,
          0.002007436705753207,
          0.00035024352837353945,
          0.0005291674169711769,
          0.0069467234425246716,
          0.018984926864504814,
          0.023800881579518318,
          0.019445408135652542,
          0.011801891960203648,
          0.005921609234064817,
          0.0027650988195091486,
          0.0013360880548134446,
          0.0007300474098883569,
          0.0004943906096741557,
          0.0004366766079328954,
          0.0004956056945957243,
          0.000688611704390496,
          0.0011004667030647397,
          0.0019081842619925737,
          0.0033388985320925713,
          0.004868582356721163,
          0.0050651864148676395,
          0.003951899707317352,
          0.0026021921075880527,
          0.002171100815758109,
          0.0026559894904494286,
          0.0037292146589607,
          0.004756667651236057,
          0.004853489343076944,
          0.00399389723315835,
          0.002857884159311652,
          0.0020791154820472,
          0.0018570467364042997,
          0.002076155738905072,
          0.0024598671589046717,
          0.0024658958427608013,
          0.0018965062918141484,
          0.0012352499179542065,
          0.0009117869194597006,
          0.0009888623608276248,
          0.0013902009231969714,
          0.0018021081341430545,
          0.0017807399854063988,
          0.0014447375433519483,
          0.0012160510523244739,
          0.0012768555898219347,
          0.0015383026329800487,
          0.0016691386699676514,
          0.0014087771996855736,
          0.0010041269706562161,
          0.0007907534600235522,
          0.0008216210408136249,
          0.000961794052273035,
          0.0009588647517375648,
          0.00078259885776788,
          0.0006738287047483027,
          0.0007520485669374466,
          0.0009554621647112072,
          0.0010485309176146984,
          0.0009286311687901616,
          0.0007984655676409602,
          0.0008281524642370641,
          0.0009667222038842738,
          0.0009868007618933916,
          0.0008378901984542608,
          0.0007289223140105605,
          0.0008016483625397086,
          0.0009267883142456412,
          0.0009030628716573119,
          0.0008058538660407066,
          0.0008456693612970412,
          0.0009783667046576738,
          0.0010182390687987208,
          0.0009106319630518556,
          0.0008709903922863305,
          0.000979481264948845,
          0.0010198786621913314,
          0.0009330706670880318,
          0.0009513736004009843,
          0.0010871202684938908,
          0.0010465574450790882,
          0.0009305275743827224,
          0.001000373624265194,
          0.00105529825668782,
          0.0009691646555438638,
          0.0009782074484974146,
          0.0010742167942225933,
          0.0010157956276088953,
          0.0009664878598414361,
          0.0010722161969169974,
          0.0010663977591320872,
          0.0010133490432053804,
          0.001114032813347876,
          0.0010634115897119045,
          0.0009717482607811689
         ]
        },
        {
         "line": {
          "color": "Crimson",
          "dash": "dot",
          "width": 2
         },
         "marker": {
          "color": "Crimson",
          "line": {
           "color": "DarkSlateGrey",
           "width": 1
          },
          "size": 6
         },
         "mode": "lines+markers",
         "name": "Test",
         "type": "scatter",
         "x": [
          1,
          2,
          3,
          4,
          5,
          6,
          7,
          8,
          9,
          10,
          11,
          12,
          13,
          14,
          15,
          16,
          17,
          18,
          19,
          20,
          21,
          22,
          23,
          24,
          25,
          26,
          27,
          28,
          29,
          30,
          31,
          32,
          33,
          34,
          35,
          36,
          37,
          38,
          39,
          40,
          41,
          42,
          43,
          44,
          45,
          46,
          47,
          48,
          49,
          50,
          51,
          52,
          53,
          54,
          55,
          56,
          57,
          58,
          59,
          60,
          61,
          62,
          63,
          64,
          65,
          66,
          67,
          68,
          69,
          70,
          71,
          72,
          73,
          74,
          75,
          76,
          77,
          78,
          79,
          80,
          81,
          82,
          83,
          84,
          85,
          86,
          87,
          88,
          89,
          90,
          91,
          92,
          93,
          94,
          95,
          96,
          97,
          98,
          99,
          100
         ],
         "y": [
          0.06222127005457878,
          0.04194371774792671,
          0.022671611979603767,
          0.012577864341437817,
          0.00728579331189394,
          0.003749676514416933,
          0.0009442433947697282,
          0.0002681667101569474,
          0.0072668492794036865,
          0.02222469262778759,
          0.028826801106333733,
          0.023395247757434845,
          0.013808319345116615,
          0.006654472555965185,
          0.0029481546953320503,
          0.0013329362263903022,
          0.0006780872354283929,
          0.00043538660975173116,
          0.00038988047163002193,
          0.0004757778951898217,
          0.0007221559062600136,
          0.0012505467748269439,
          0.0022933639120310545,
          0.004120144061744213,
          0.005924466531723738,
          0.00590641051530838,
          0.0043838839046657085,
          0.0027434476651251316,
          0.0021920357830822468,
          0.002673815004527569,
          0.0038226526230573654,
          0.004937674850225449,
          0.004998401738703251,
          0.003983885515481234,
          0.002705368911847472,
          0.0018702163361012936,
          0.0016629493329674006,
          0.0019450578838586807,
          0.0024302105884999037,
          0.0025076663587242365,
          0.0019209057791158557,
          0.0012208176776766777,
          0.0008961206767708063,
          0.0010164384730160236,
          0.0015135231660678983,
          0.0020372201688587666,
          0.00204281322658062,
          0.0016658753156661987,
          0.0014238046715036035,
          0.0015373231144621968,
          0.0019178214715793729,
          0.0021607978269457817,
          0.0018935073167085648,
          0.001415275619365275,
          0.0011684552300721407,
          0.0012459751451388001,
          0.0014737504534423351,
          0.001489792368374765,
          0.0012394600780680776,
          0.0010629782918840647,
          0.0011504750000312924,
          0.0014016691129654646,
          0.0015050985384732485,
          0.0013257890241220593,
          0.0011417488567531109,
          0.0011780847562476993,
          0.0013616196811199188,
          0.0013997574569657445,
          0.001203156542032957,
          0.0010627723531797528,
          0.0011747940443456173,
          0.001363842748105526,
          0.0013471117708832026,
          0.0012221320066601038,
          0.0012847310863435268,
          0.0014820108190178871,
          0.0015501609304919839,
          0.0014098669635131955,
          0.0013699892442673445,
          0.0015324162086471915,
          0.0015918923309072852,
          0.0014658088330179453,
          0.0014861061936244369,
          0.0016722860746085644,
          0.0016126480186358094,
          0.0014520507538691163,
          0.0015556946163997054,
          0.0016428950475528836,
          0.0015300486702471972,
          0.0015556798316538334,
          0.0017109811305999756,
          0.0016453444259241223,
          0.001595956040546298,
          0.0017683535115793347,
          0.001770783681422472,
          0.0017062518745660782,
          0.0018760735401883721,
          0.0018200520426034927,
          0.0016976789338514209,
          0.0018679508939385414
         ]
        }
       ],
       "layout": {
        "font": {
         "color": "black",
         "family": "Helvetica, Arial, sans-serif",
         "size": 12
        },
        "legend": {
         "orientation": "h",
         "x": 0.1,
         "y": 1.1
        },
        "margin": {
         "b": 30,
         "l": 40,
         "r": 40,
         "t": 40
        },
        "plot_bgcolor": "white",
        "template": {
         "data": {
          "bar": [
           {
            "error_x": {
             "color": "#2a3f5f"
            },
            "error_y": {
             "color": "#2a3f5f"
            },
            "marker": {
             "line": {
              "color": "#E5ECF6",
              "width": 0.5
             },
             "pattern": {
              "fillmode": "overlay",
              "size": 10,
              "solidity": 0.2
             }
            },
            "type": "bar"
           }
          ],
          "barpolar": [
           {
            "marker": {
             "line": {
              "color": "#E5ECF6",
              "width": 0.5
             },
             "pattern": {
              "fillmode": "overlay",
              "size": 10,
              "solidity": 0.2
             }
            },
            "type": "barpolar"
           }
          ],
          "carpet": [
           {
            "aaxis": {
             "endlinecolor": "#2a3f5f",
             "gridcolor": "white",
             "linecolor": "white",
             "minorgridcolor": "white",
             "startlinecolor": "#2a3f5f"
            },
            "baxis": {
             "endlinecolor": "#2a3f5f",
             "gridcolor": "white",
             "linecolor": "white",
             "minorgridcolor": "white",
             "startlinecolor": "#2a3f5f"
            },
            "type": "carpet"
           }
          ],
          "choropleth": [
           {
            "colorbar": {
             "outlinewidth": 0,
             "ticks": ""
            },
            "type": "choropleth"
           }
          ],
          "contour": [
           {
            "colorbar": {
             "outlinewidth": 0,
             "ticks": ""
            },
            "colorscale": [
             [
              0,
              "#0d0887"
             ],
             [
              0.1111111111111111,
              "#46039f"
             ],
             [
              0.2222222222222222,
              "#7201a8"
             ],
             [
              0.3333333333333333,
              "#9c179e"
             ],
             [
              0.4444444444444444,
              "#bd3786"
             ],
             [
              0.5555555555555556,
              "#d8576b"
             ],
             [
              0.6666666666666666,
              "#ed7953"
             ],
             [
              0.7777777777777778,
              "#fb9f3a"
             ],
             [
              0.8888888888888888,
              "#fdca26"
             ],
             [
              1,
              "#f0f921"
             ]
            ],
            "type": "contour"
           }
          ],
          "contourcarpet": [
           {
            "colorbar": {
             "outlinewidth": 0,
             "ticks": ""
            },
            "type": "contourcarpet"
           }
          ],
          "heatmap": [
           {
            "colorbar": {
             "outlinewidth": 0,
             "ticks": ""
            },
            "colorscale": [
             [
              0,
              "#0d0887"
             ],
             [
              0.1111111111111111,
              "#46039f"
             ],
             [
              0.2222222222222222,
              "#7201a8"
             ],
             [
              0.3333333333333333,
              "#9c179e"
             ],
             [
              0.4444444444444444,
              "#bd3786"
             ],
             [
              0.5555555555555556,
              "#d8576b"
             ],
             [
              0.6666666666666666,
              "#ed7953"
             ],
             [
              0.7777777777777778,
              "#fb9f3a"
             ],
             [
              0.8888888888888888,
              "#fdca26"
             ],
             [
              1,
              "#f0f921"
             ]
            ],
            "type": "heatmap"
           }
          ],
          "heatmapgl": [
           {
            "colorbar": {
             "outlinewidth": 0,
             "ticks": ""
            },
            "colorscale": [
             [
              0,
              "#0d0887"
             ],
             [
              0.1111111111111111,
              "#46039f"
             ],
             [
              0.2222222222222222,
              "#7201a8"
             ],
             [
              0.3333333333333333,
              "#9c179e"
             ],
             [
              0.4444444444444444,
              "#bd3786"
             ],
             [
              0.5555555555555556,
              "#d8576b"
             ],
             [
              0.6666666666666666,
              "#ed7953"
             ],
             [
              0.7777777777777778,
              "#fb9f3a"
             ],
             [
              0.8888888888888888,
              "#fdca26"
             ],
             [
              1,
              "#f0f921"
             ]
            ],
            "type": "heatmapgl"
           }
          ],
          "histogram": [
           {
            "marker": {
             "pattern": {
              "fillmode": "overlay",
              "size": 10,
              "solidity": 0.2
             }
            },
            "type": "histogram"
           }
          ],
          "histogram2d": [
           {
            "colorbar": {
             "outlinewidth": 0,
             "ticks": ""
            },
            "colorscale": [
             [
              0,
              "#0d0887"
             ],
             [
              0.1111111111111111,
              "#46039f"
             ],
             [
              0.2222222222222222,
              "#7201a8"
             ],
             [
              0.3333333333333333,
              "#9c179e"
             ],
             [
              0.4444444444444444,
              "#bd3786"
             ],
             [
              0.5555555555555556,
              "#d8576b"
             ],
             [
              0.6666666666666666,
              "#ed7953"
             ],
             [
              0.7777777777777778,
              "#fb9f3a"
             ],
             [
              0.8888888888888888,
              "#fdca26"
             ],
             [
              1,
              "#f0f921"
             ]
            ],
            "type": "histogram2d"
           }
          ],
          "histogram2dcontour": [
           {
            "colorbar": {
             "outlinewidth": 0,
             "ticks": ""
            },
            "colorscale": [
             [
              0,
              "#0d0887"
             ],
             [
              0.1111111111111111,
              "#46039f"
             ],
             [
              0.2222222222222222,
              "#7201a8"
             ],
             [
              0.3333333333333333,
              "#9c179e"
             ],
             [
              0.4444444444444444,
              "#bd3786"
             ],
             [
              0.5555555555555556,
              "#d8576b"
             ],
             [
              0.6666666666666666,
              "#ed7953"
             ],
             [
              0.7777777777777778,
              "#fb9f3a"
             ],
             [
              0.8888888888888888,
              "#fdca26"
             ],
             [
              1,
              "#f0f921"
             ]
            ],
            "type": "histogram2dcontour"
           }
          ],
          "mesh3d": [
           {
            "colorbar": {
             "outlinewidth": 0,
             "ticks": ""
            },
            "type": "mesh3d"
           }
          ],
          "parcoords": [
           {
            "line": {
             "colorbar": {
              "outlinewidth": 0,
              "ticks": ""
             }
            },
            "type": "parcoords"
           }
          ],
          "pie": [
           {
            "automargin": true,
            "type": "pie"
           }
          ],
          "scatter": [
           {
            "fillpattern": {
             "fillmode": "overlay",
             "size": 10,
             "solidity": 0.2
            },
            "type": "scatter"
           }
          ],
          "scatter3d": [
           {
            "line": {
             "colorbar": {
              "outlinewidth": 0,
              "ticks": ""
             }
            },
            "marker": {
             "colorbar": {
              "outlinewidth": 0,
              "ticks": ""
             }
            },
            "type": "scatter3d"
           }
          ],
          "scattercarpet": [
           {
            "marker": {
             "colorbar": {
              "outlinewidth": 0,
              "ticks": ""
             }
            },
            "type": "scattercarpet"
           }
          ],
          "scattergeo": [
           {
            "marker": {
             "colorbar": {
              "outlinewidth": 0,
              "ticks": ""
             }
            },
            "type": "scattergeo"
           }
          ],
          "scattergl": [
           {
            "marker": {
             "colorbar": {
              "outlinewidth": 0,
              "ticks": ""
             }
            },
            "type": "scattergl"
           }
          ],
          "scattermapbox": [
           {
            "marker": {
             "colorbar": {
              "outlinewidth": 0,
              "ticks": ""
             }
            },
            "type": "scattermapbox"
           }
          ],
          "scatterpolar": [
           {
            "marker": {
             "colorbar": {
              "outlinewidth": 0,
              "ticks": ""
             }
            },
            "type": "scatterpolar"
           }
          ],
          "scatterpolargl": [
           {
            "marker": {
             "colorbar": {
              "outlinewidth": 0,
              "ticks": ""
             }
            },
            "type": "scatterpolargl"
           }
          ],
          "scatterternary": [
           {
            "marker": {
             "colorbar": {
              "outlinewidth": 0,
              "ticks": ""
             }
            },
            "type": "scatterternary"
           }
          ],
          "surface": [
           {
            "colorbar": {
             "outlinewidth": 0,
             "ticks": ""
            },
            "colorscale": [
             [
              0,
              "#0d0887"
             ],
             [
              0.1111111111111111,
              "#46039f"
             ],
             [
              0.2222222222222222,
              "#7201a8"
             ],
             [
              0.3333333333333333,
              "#9c179e"
             ],
             [
              0.4444444444444444,
              "#bd3786"
             ],
             [
              0.5555555555555556,
              "#d8576b"
             ],
             [
              0.6666666666666666,
              "#ed7953"
             ],
             [
              0.7777777777777778,
              "#fb9f3a"
             ],
             [
              0.8888888888888888,
              "#fdca26"
             ],
             [
              1,
              "#f0f921"
             ]
            ],
            "type": "surface"
           }
          ],
          "table": [
           {
            "cells": {
             "fill": {
              "color": "#EBF0F8"
             },
             "line": {
              "color": "white"
             }
            },
            "header": {
             "fill": {
              "color": "#C8D4E3"
             },
             "line": {
              "color": "white"
             }
            },
            "type": "table"
           }
          ]
         },
         "layout": {
          "annotationdefaults": {
           "arrowcolor": "#2a3f5f",
           "arrowhead": 0,
           "arrowwidth": 1
          },
          "autotypenumbers": "strict",
          "coloraxis": {
           "colorbar": {
            "outlinewidth": 0,
            "ticks": ""
           }
          },
          "colorscale": {
           "diverging": [
            [
             0,
             "#8e0152"
            ],
            [
             0.1,
             "#c51b7d"
            ],
            [
             0.2,
             "#de77ae"
            ],
            [
             0.3,
             "#f1b6da"
            ],
            [
             0.4,
             "#fde0ef"
            ],
            [
             0.5,
             "#f7f7f7"
            ],
            [
             0.6,
             "#e6f5d0"
            ],
            [
             0.7,
             "#b8e186"
            ],
            [
             0.8,
             "#7fbc41"
            ],
            [
             0.9,
             "#4d9221"
            ],
            [
             1,
             "#276419"
            ]
           ],
           "sequential": [
            [
             0,
             "#0d0887"
            ],
            [
             0.1111111111111111,
             "#46039f"
            ],
            [
             0.2222222222222222,
             "#7201a8"
            ],
            [
             0.3333333333333333,
             "#9c179e"
            ],
            [
             0.4444444444444444,
             "#bd3786"
            ],
            [
             0.5555555555555556,
             "#d8576b"
            ],
            [
             0.6666666666666666,
             "#ed7953"
            ],
            [
             0.7777777777777778,
             "#fb9f3a"
            ],
            [
             0.8888888888888888,
             "#fdca26"
            ],
            [
             1,
             "#f0f921"
            ]
           ],
           "sequentialminus": [
            [
             0,
             "#0d0887"
            ],
            [
             0.1111111111111111,
             "#46039f"
            ],
            [
             0.2222222222222222,
             "#7201a8"
            ],
            [
             0.3333333333333333,
             "#9c179e"
            ],
            [
             0.4444444444444444,
             "#bd3786"
            ],
            [
             0.5555555555555556,
             "#d8576b"
            ],
            [
             0.6666666666666666,
             "#ed7953"
            ],
            [
             0.7777777777777778,
             "#fb9f3a"
            ],
            [
             0.8888888888888888,
             "#fdca26"
            ],
            [
             1,
             "#f0f921"
            ]
           ]
          },
          "colorway": [
           "#636efa",
           "#EF553B",
           "#00cc96",
           "#ab63fa",
           "#FFA15A",
           "#19d3f3",
           "#FF6692",
           "#B6E880",
           "#FF97FF",
           "#FECB52"
          ],
          "font": {
           "color": "#2a3f5f"
          },
          "geo": {
           "bgcolor": "white",
           "lakecolor": "white",
           "landcolor": "#E5ECF6",
           "showlakes": true,
           "showland": true,
           "subunitcolor": "white"
          },
          "hoverlabel": {
           "align": "left"
          },
          "hovermode": "closest",
          "mapbox": {
           "style": "light"
          },
          "paper_bgcolor": "white",
          "plot_bgcolor": "#E5ECF6",
          "polar": {
           "angularaxis": {
            "gridcolor": "white",
            "linecolor": "white",
            "ticks": ""
           },
           "bgcolor": "#E5ECF6",
           "radialaxis": {
            "gridcolor": "white",
            "linecolor": "white",
            "ticks": ""
           }
          },
          "scene": {
           "xaxis": {
            "backgroundcolor": "#E5ECF6",
            "gridcolor": "white",
            "gridwidth": 2,
            "linecolor": "white",
            "showbackground": true,
            "ticks": "",
            "zerolinecolor": "white"
           },
           "yaxis": {
            "backgroundcolor": "#E5ECF6",
            "gridcolor": "white",
            "gridwidth": 2,
            "linecolor": "white",
            "showbackground": true,
            "ticks": "",
            "zerolinecolor": "white"
           },
           "zaxis": {
            "backgroundcolor": "#E5ECF6",
            "gridcolor": "white",
            "gridwidth": 2,
            "linecolor": "white",
            "showbackground": true,
            "ticks": "",
            "zerolinecolor": "white"
           }
          },
          "shapedefaults": {
           "line": {
            "color": "#2a3f5f"
           }
          },
          "ternary": {
           "aaxis": {
            "gridcolor": "white",
            "linecolor": "white",
            "ticks": ""
           },
           "baxis": {
            "gridcolor": "white",
            "linecolor": "white",
            "ticks": ""
           },
           "bgcolor": "#E5ECF6",
           "caxis": {
            "gridcolor": "white",
            "linecolor": "white",
            "ticks": ""
           }
          },
          "title": {
           "x": 0.05
          },
          "xaxis": {
           "automargin": true,
           "gridcolor": "white",
           "linecolor": "white",
           "ticks": "",
           "title": {
            "standoff": 15
           },
           "zerolinecolor": "white",
           "zerolinewidth": 2
          },
          "yaxis": {
           "automargin": true,
           "gridcolor": "white",
           "linecolor": "white",
           "ticks": "",
           "title": {
            "standoff": 15
           },
           "zerolinecolor": "white",
           "zerolinewidth": 2
          }
         }
        },
        "title": {
         "text": "Training and Testing Discrimination",
         "x": 0.5,
         "xanchor": "center",
         "y": 0.9,
         "yanchor": "top"
        },
        "xaxis": {
         "gridcolor": "LightGrey",
         "linecolor": "black",
         "linewidth": 2,
         "showline": true,
         "title": {
          "text": "Epoch"
         }
        },
        "yaxis": {
         "gridcolor": "LightGrey",
         "linecolor": "black",
         "linewidth": 2,
         "showline": true,
         "title": {
          "text": "Discrimination"
         }
        }
       }
      }
     },
     "metadata": {},
     "output_type": "display_data"
    },
    {
     "data": {
      "application/vnd.plotly.v1+json": {
       "config": {
        "plotlyServerURL": "https://plot.ly"
       },
       "data": [
        {
         "line": {
          "color": "RoyalBlue",
          "width": 2
         },
         "marker": {
          "color": "RoyalBlue",
          "line": {
           "color": "DarkSlateGrey",
           "width": 1
          },
          "size": 6
         },
         "mode": "lines+markers",
         "name": "Train",
         "type": "scatter",
         "x": [
          1,
          2,
          3,
          4,
          5,
          6,
          7,
          8,
          9,
          10,
          11,
          12,
          13,
          14,
          15,
          16,
          17,
          18,
          19,
          20,
          21,
          22,
          23,
          24,
          25,
          26,
          27,
          28,
          29,
          30,
          31,
          32,
          33,
          34,
          35,
          36,
          37,
          38,
          39,
          40,
          41,
          42,
          43,
          44,
          45,
          46,
          47,
          48,
          49,
          50,
          51,
          52,
          53,
          54,
          55,
          56,
          57,
          58,
          59,
          60,
          61,
          62,
          63,
          64,
          65,
          66,
          67,
          68,
          69,
          70,
          71,
          72,
          73,
          74,
          75,
          76,
          77,
          78,
          79,
          80,
          81,
          82,
          83,
          84,
          85,
          86,
          87,
          88,
          89,
          90,
          91,
          92,
          93,
          94,
          95,
          96,
          97,
          98,
          99,
          100
         ],
         "y": [
          0.9757454246282578,
          0.9621900208294392,
          0.9754762426018715,
          0.9869685936719179,
          0.9928074656054378,
          0.9958793777041137,
          0.9979925632942468,
          0.9996497564716265,
          0.9994708325830288,
          0.9930532765574753,
          0.9810150731354952,
          0.9761991184204817,
          0.9805545918643475,
          0.9881981080397964,
          0.9940783907659352,
          0.9972349011804909,
          0.9986639119451866,
          0.9992699525901116,
          0.9995056093903258,
          0.9995633233920671,
          0.9995043943054043,
          0.9993113882956095,
          0.9988995332969353,
          0.9980918157380074,
          0.9966611014679074,
          0.9951314176432788,
          0.9949348135851324,
          0.9960481002926826,
          0.997397807892412,
          0.9978288991842419,
          0.9973440105095506,
          0.9962707853410393,
          0.9952433323487639,
          0.9951465106569231,
          0.9960061027668417,
          0.9971421158406883,
          0.9979208845179528,
          0.9981429532635957,
          0.9979238442610949,
          0.9975401328410953,
          0.9975341041572392,
          0.9981034937081859,
          0.9987647500820458,
          0.9990882130805403,
          0.9990111376391724,
          0.998609799076803,
          0.998197891865857,
          0.9982192600145936,
          0.998555262456648,
          0.9987839489476755,
          0.9987231444101781,
          0.99846169736702,
          0.9983308613300323,
          0.9985912228003144,
          0.9989958730293438,
          0.9992092465399764,
          0.9991783789591864,
          0.999038205947727,
          0.9990411352482624,
          0.9992174011422321,
          0.9993261712952517,
          0.9992479514330626,
          0.9990445378352888,
          0.9989514690823853,
          0.9990713688312098,
          0.999201534432359,
          0.9991718475357629,
          0.9990332777961157,
          0.9990131992381066,
          0.9991621098015457,
          0.9992710776859894,
          0.9991983516374603,
          0.9990732116857544,
          0.9990969371283427,
          0.9991941461339593,
          0.999154330638703,
          0.9990216332953423,
          0.9989817609312013,
          0.9990893680369481,
          0.9991290096077137,
          0.9990205187350512,
          0.9989801213378087,
          0.999066929332912,
          0.999048626399599,
          0.9989128797315061,
          0.9989534425549209,
          0.9990694724256173,
          0.9989996263757348,
          0.9989447017433122,
          0.9990308353444561,
          0.9990217925515026,
          0.9989257832057774,
          0.9989842043723911,
          0.9990335121401586,
          0.998927783803083,
          0.9989336022408679,
          0.9989866509567946,
          0.9988859671866521,
          0.9989365884102881,
          0.9990282517392188
         ]
        },
        {
         "line": {
          "color": "Crimson",
          "dash": "dot",
          "width": 2
         },
         "marker": {
          "color": "Crimson",
          "line": {
           "color": "DarkSlateGrey",
           "width": 1
          },
          "size": 6
         },
         "mode": "lines+markers",
         "name": "Test",
         "type": "scatter",
         "x": [
          1,
          2,
          3,
          4,
          5,
          6,
          7,
          8,
          9,
          10,
          11,
          12,
          13,
          14,
          15,
          16,
          17,
          18,
          19,
          20,
          21,
          22,
          23,
          24,
          25,
          26,
          27,
          28,
          29,
          30,
          31,
          32,
          33,
          34,
          35,
          36,
          37,
          38,
          39,
          40,
          41,
          42,
          43,
          44,
          45,
          46,
          47,
          48,
          49,
          50,
          51,
          52,
          53,
          54,
          55,
          56,
          57,
          58,
          59,
          60,
          61,
          62,
          63,
          64,
          65,
          66,
          67,
          68,
          69,
          70,
          71,
          72,
          73,
          74,
          75,
          76,
          77,
          78,
          79,
          80,
          81,
          82,
          83,
          84,
          85,
          86,
          87,
          88,
          89,
          90,
          91,
          92,
          93,
          94,
          95,
          96,
          97,
          98,
          99,
          100
         ],
         "y": [
          0.9757454246282578,
          0.9621900208294392,
          0.9754762426018715,
          0.9869685936719179,
          0.9928074656054378,
          0.9958793777041137,
          0.9979925632942468,
          0.9996497564716265,
          0.9994708325830288,
          0.9930532765574753,
          0.9810150731354952,
          0.9761991184204817,
          0.9805545918643475,
          0.9881981080397964,
          0.9940783907659352,
          0.9972349011804909,
          0.9986639119451866,
          0.9992699525901116,
          0.9995056093903258,
          0.9995633233920671,
          0.9995043943054043,
          0.9993113882956095,
          0.9988995332969353,
          0.9980918157380074,
          0.9966611014679074,
          0.9951314176432788,
          0.9949348135851324,
          0.9960481002926826,
          0.997397807892412,
          0.9978288991842419,
          0.9973440105095506,
          0.9962707853410393,
          0.9952433323487639,
          0.9951465106569231,
          0.9960061027668417,
          0.9971421158406883,
          0.9979208845179528,
          0.9981429532635957,
          0.9979238442610949,
          0.9975401328410953,
          0.9975341041572392,
          0.9981034937081859,
          0.9987647500820458,
          0.9990882130805403,
          0.9990111376391724,
          0.998609799076803,
          0.998197891865857,
          0.9982192600145936,
          0.998555262456648,
          0.9987839489476755,
          0.9987231444101781,
          0.99846169736702,
          0.9983308613300323,
          0.9985912228003144,
          0.9989958730293438,
          0.9992092465399764,
          0.9991783789591864,
          0.999038205947727,
          0.9990411352482624,
          0.9992174011422321,
          0.9993261712952517,
          0.9992479514330626,
          0.9990445378352888,
          0.9989514690823853,
          0.9990713688312098,
          0.999201534432359,
          0.9991718475357629,
          0.9990332777961157,
          0.9990131992381066,
          0.9991621098015457,
          0.9992710776859894,
          0.9991983516374603,
          0.9990732116857544,
          0.9990969371283427,
          0.9991941461339593,
          0.999154330638703,
          0.9990216332953423,
          0.9989817609312013,
          0.9990893680369481,
          0.9991290096077137,
          0.9990205187350512,
          0.9989801213378087,
          0.999066929332912,
          0.999048626399599,
          0.9989128797315061,
          0.9989534425549209,
          0.9990694724256173,
          0.9989996263757348,
          0.9989447017433122,
          0.9990308353444561,
          0.9990217925515026,
          0.9989257832057774,
          0.9989842043723911,
          0.9990335121401586,
          0.998927783803083,
          0.9989336022408679,
          0.9989866509567946,
          0.9988859671866521,
          0.9989365884102881,
          0.9990282517392188
         ]
        }
       ],
       "layout": {
        "font": {
         "color": "black",
         "family": "Helvetica, Arial, sans-serif",
         "size": 12
        },
        "legend": {
         "orientation": "h",
         "x": 0.1,
         "y": 1.1
        },
        "margin": {
         "b": 30,
         "l": 40,
         "r": 40,
         "t": 40
        },
        "plot_bgcolor": "white",
        "template": {
         "data": {
          "bar": [
           {
            "error_x": {
             "color": "#2a3f5f"
            },
            "error_y": {
             "color": "#2a3f5f"
            },
            "marker": {
             "line": {
              "color": "#E5ECF6",
              "width": 0.5
             },
             "pattern": {
              "fillmode": "overlay",
              "size": 10,
              "solidity": 0.2
             }
            },
            "type": "bar"
           }
          ],
          "barpolar": [
           {
            "marker": {
             "line": {
              "color": "#E5ECF6",
              "width": 0.5
             },
             "pattern": {
              "fillmode": "overlay",
              "size": 10,
              "solidity": 0.2
             }
            },
            "type": "barpolar"
           }
          ],
          "carpet": [
           {
            "aaxis": {
             "endlinecolor": "#2a3f5f",
             "gridcolor": "white",
             "linecolor": "white",
             "minorgridcolor": "white",
             "startlinecolor": "#2a3f5f"
            },
            "baxis": {
             "endlinecolor": "#2a3f5f",
             "gridcolor": "white",
             "linecolor": "white",
             "minorgridcolor": "white",
             "startlinecolor": "#2a3f5f"
            },
            "type": "carpet"
           }
          ],
          "choropleth": [
           {
            "colorbar": {
             "outlinewidth": 0,
             "ticks": ""
            },
            "type": "choropleth"
           }
          ],
          "contour": [
           {
            "colorbar": {
             "outlinewidth": 0,
             "ticks": ""
            },
            "colorscale": [
             [
              0,
              "#0d0887"
             ],
             [
              0.1111111111111111,
              "#46039f"
             ],
             [
              0.2222222222222222,
              "#7201a8"
             ],
             [
              0.3333333333333333,
              "#9c179e"
             ],
             [
              0.4444444444444444,
              "#bd3786"
             ],
             [
              0.5555555555555556,
              "#d8576b"
             ],
             [
              0.6666666666666666,
              "#ed7953"
             ],
             [
              0.7777777777777778,
              "#fb9f3a"
             ],
             [
              0.8888888888888888,
              "#fdca26"
             ],
             [
              1,
              "#f0f921"
             ]
            ],
            "type": "contour"
           }
          ],
          "contourcarpet": [
           {
            "colorbar": {
             "outlinewidth": 0,
             "ticks": ""
            },
            "type": "contourcarpet"
           }
          ],
          "heatmap": [
           {
            "colorbar": {
             "outlinewidth": 0,
             "ticks": ""
            },
            "colorscale": [
             [
              0,
              "#0d0887"
             ],
             [
              0.1111111111111111,
              "#46039f"
             ],
             [
              0.2222222222222222,
              "#7201a8"
             ],
             [
              0.3333333333333333,
              "#9c179e"
             ],
             [
              0.4444444444444444,
              "#bd3786"
             ],
             [
              0.5555555555555556,
              "#d8576b"
             ],
             [
              0.6666666666666666,
              "#ed7953"
             ],
             [
              0.7777777777777778,
              "#fb9f3a"
             ],
             [
              0.8888888888888888,
              "#fdca26"
             ],
             [
              1,
              "#f0f921"
             ]
            ],
            "type": "heatmap"
           }
          ],
          "heatmapgl": [
           {
            "colorbar": {
             "outlinewidth": 0,
             "ticks": ""
            },
            "colorscale": [
             [
              0,
              "#0d0887"
             ],
             [
              0.1111111111111111,
              "#46039f"
             ],
             [
              0.2222222222222222,
              "#7201a8"
             ],
             [
              0.3333333333333333,
              "#9c179e"
             ],
             [
              0.4444444444444444,
              "#bd3786"
             ],
             [
              0.5555555555555556,
              "#d8576b"
             ],
             [
              0.6666666666666666,
              "#ed7953"
             ],
             [
              0.7777777777777778,
              "#fb9f3a"
             ],
             [
              0.8888888888888888,
              "#fdca26"
             ],
             [
              1,
              "#f0f921"
             ]
            ],
            "type": "heatmapgl"
           }
          ],
          "histogram": [
           {
            "marker": {
             "pattern": {
              "fillmode": "overlay",
              "size": 10,
              "solidity": 0.2
             }
            },
            "type": "histogram"
           }
          ],
          "histogram2d": [
           {
            "colorbar": {
             "outlinewidth": 0,
             "ticks": ""
            },
            "colorscale": [
             [
              0,
              "#0d0887"
             ],
             [
              0.1111111111111111,
              "#46039f"
             ],
             [
              0.2222222222222222,
              "#7201a8"
             ],
             [
              0.3333333333333333,
              "#9c179e"
             ],
             [
              0.4444444444444444,
              "#bd3786"
             ],
             [
              0.5555555555555556,
              "#d8576b"
             ],
             [
              0.6666666666666666,
              "#ed7953"
             ],
             [
              0.7777777777777778,
              "#fb9f3a"
             ],
             [
              0.8888888888888888,
              "#fdca26"
             ],
             [
              1,
              "#f0f921"
             ]
            ],
            "type": "histogram2d"
           }
          ],
          "histogram2dcontour": [
           {
            "colorbar": {
             "outlinewidth": 0,
             "ticks": ""
            },
            "colorscale": [
             [
              0,
              "#0d0887"
             ],
             [
              0.1111111111111111,
              "#46039f"
             ],
             [
              0.2222222222222222,
              "#7201a8"
             ],
             [
              0.3333333333333333,
              "#9c179e"
             ],
             [
              0.4444444444444444,
              "#bd3786"
             ],
             [
              0.5555555555555556,
              "#d8576b"
             ],
             [
              0.6666666666666666,
              "#ed7953"
             ],
             [
              0.7777777777777778,
              "#fb9f3a"
             ],
             [
              0.8888888888888888,
              "#fdca26"
             ],
             [
              1,
              "#f0f921"
             ]
            ],
            "type": "histogram2dcontour"
           }
          ],
          "mesh3d": [
           {
            "colorbar": {
             "outlinewidth": 0,
             "ticks": ""
            },
            "type": "mesh3d"
           }
          ],
          "parcoords": [
           {
            "line": {
             "colorbar": {
              "outlinewidth": 0,
              "ticks": ""
             }
            },
            "type": "parcoords"
           }
          ],
          "pie": [
           {
            "automargin": true,
            "type": "pie"
           }
          ],
          "scatter": [
           {
            "fillpattern": {
             "fillmode": "overlay",
             "size": 10,
             "solidity": 0.2
            },
            "type": "scatter"
           }
          ],
          "scatter3d": [
           {
            "line": {
             "colorbar": {
              "outlinewidth": 0,
              "ticks": ""
             }
            },
            "marker": {
             "colorbar": {
              "outlinewidth": 0,
              "ticks": ""
             }
            },
            "type": "scatter3d"
           }
          ],
          "scattercarpet": [
           {
            "marker": {
             "colorbar": {
              "outlinewidth": 0,
              "ticks": ""
             }
            },
            "type": "scattercarpet"
           }
          ],
          "scattergeo": [
           {
            "marker": {
             "colorbar": {
              "outlinewidth": 0,
              "ticks": ""
             }
            },
            "type": "scattergeo"
           }
          ],
          "scattergl": [
           {
            "marker": {
             "colorbar": {
              "outlinewidth": 0,
              "ticks": ""
             }
            },
            "type": "scattergl"
           }
          ],
          "scattermapbox": [
           {
            "marker": {
             "colorbar": {
              "outlinewidth": 0,
              "ticks": ""
             }
            },
            "type": "scattermapbox"
           }
          ],
          "scatterpolar": [
           {
            "marker": {
             "colorbar": {
              "outlinewidth": 0,
              "ticks": ""
             }
            },
            "type": "scatterpolar"
           }
          ],
          "scatterpolargl": [
           {
            "marker": {
             "colorbar": {
              "outlinewidth": 0,
              "ticks": ""
             }
            },
            "type": "scatterpolargl"
           }
          ],
          "scatterternary": [
           {
            "marker": {
             "colorbar": {
              "outlinewidth": 0,
              "ticks": ""
             }
            },
            "type": "scatterternary"
           }
          ],
          "surface": [
           {
            "colorbar": {
             "outlinewidth": 0,
             "ticks": ""
            },
            "colorscale": [
             [
              0,
              "#0d0887"
             ],
             [
              0.1111111111111111,
              "#46039f"
             ],
             [
              0.2222222222222222,
              "#7201a8"
             ],
             [
              0.3333333333333333,
              "#9c179e"
             ],
             [
              0.4444444444444444,
              "#bd3786"
             ],
             [
              0.5555555555555556,
              "#d8576b"
             ],
             [
              0.6666666666666666,
              "#ed7953"
             ],
             [
              0.7777777777777778,
              "#fb9f3a"
             ],
             [
              0.8888888888888888,
              "#fdca26"
             ],
             [
              1,
              "#f0f921"
             ]
            ],
            "type": "surface"
           }
          ],
          "table": [
           {
            "cells": {
             "fill": {
              "color": "#EBF0F8"
             },
             "line": {
              "color": "white"
             }
            },
            "header": {
             "fill": {
              "color": "#C8D4E3"
             },
             "line": {
              "color": "white"
             }
            },
            "type": "table"
           }
          ]
         },
         "layout": {
          "annotationdefaults": {
           "arrowcolor": "#2a3f5f",
           "arrowhead": 0,
           "arrowwidth": 1
          },
          "autotypenumbers": "strict",
          "coloraxis": {
           "colorbar": {
            "outlinewidth": 0,
            "ticks": ""
           }
          },
          "colorscale": {
           "diverging": [
            [
             0,
             "#8e0152"
            ],
            [
             0.1,
             "#c51b7d"
            ],
            [
             0.2,
             "#de77ae"
            ],
            [
             0.3,
             "#f1b6da"
            ],
            [
             0.4,
             "#fde0ef"
            ],
            [
             0.5,
             "#f7f7f7"
            ],
            [
             0.6,
             "#e6f5d0"
            ],
            [
             0.7,
             "#b8e186"
            ],
            [
             0.8,
             "#7fbc41"
            ],
            [
             0.9,
             "#4d9221"
            ],
            [
             1,
             "#276419"
            ]
           ],
           "sequential": [
            [
             0,
             "#0d0887"
            ],
            [
             0.1111111111111111,
             "#46039f"
            ],
            [
             0.2222222222222222,
             "#7201a8"
            ],
            [
             0.3333333333333333,
             "#9c179e"
            ],
            [
             0.4444444444444444,
             "#bd3786"
            ],
            [
             0.5555555555555556,
             "#d8576b"
            ],
            [
             0.6666666666666666,
             "#ed7953"
            ],
            [
             0.7777777777777778,
             "#fb9f3a"
            ],
            [
             0.8888888888888888,
             "#fdca26"
            ],
            [
             1,
             "#f0f921"
            ]
           ],
           "sequentialminus": [
            [
             0,
             "#0d0887"
            ],
            [
             0.1111111111111111,
             "#46039f"
            ],
            [
             0.2222222222222222,
             "#7201a8"
            ],
            [
             0.3333333333333333,
             "#9c179e"
            ],
            [
             0.4444444444444444,
             "#bd3786"
            ],
            [
             0.5555555555555556,
             "#d8576b"
            ],
            [
             0.6666666666666666,
             "#ed7953"
            ],
            [
             0.7777777777777778,
             "#fb9f3a"
            ],
            [
             0.8888888888888888,
             "#fdca26"
            ],
            [
             1,
             "#f0f921"
            ]
           ]
          },
          "colorway": [
           "#636efa",
           "#EF553B",
           "#00cc96",
           "#ab63fa",
           "#FFA15A",
           "#19d3f3",
           "#FF6692",
           "#B6E880",
           "#FF97FF",
           "#FECB52"
          ],
          "font": {
           "color": "#2a3f5f"
          },
          "geo": {
           "bgcolor": "white",
           "lakecolor": "white",
           "landcolor": "#E5ECF6",
           "showlakes": true,
           "showland": true,
           "subunitcolor": "white"
          },
          "hoverlabel": {
           "align": "left"
          },
          "hovermode": "closest",
          "mapbox": {
           "style": "light"
          },
          "paper_bgcolor": "white",
          "plot_bgcolor": "#E5ECF6",
          "polar": {
           "angularaxis": {
            "gridcolor": "white",
            "linecolor": "white",
            "ticks": ""
           },
           "bgcolor": "#E5ECF6",
           "radialaxis": {
            "gridcolor": "white",
            "linecolor": "white",
            "ticks": ""
           }
          },
          "scene": {
           "xaxis": {
            "backgroundcolor": "#E5ECF6",
            "gridcolor": "white",
            "gridwidth": 2,
            "linecolor": "white",
            "showbackground": true,
            "ticks": "",
            "zerolinecolor": "white"
           },
           "yaxis": {
            "backgroundcolor": "#E5ECF6",
            "gridcolor": "white",
            "gridwidth": 2,
            "linecolor": "white",
            "showbackground": true,
            "ticks": "",
            "zerolinecolor": "white"
           },
           "zaxis": {
            "backgroundcolor": "#E5ECF6",
            "gridcolor": "white",
            "gridwidth": 2,
            "linecolor": "white",
            "showbackground": true,
            "ticks": "",
            "zerolinecolor": "white"
           }
          },
          "shapedefaults": {
           "line": {
            "color": "#2a3f5f"
           }
          },
          "ternary": {
           "aaxis": {
            "gridcolor": "white",
            "linecolor": "white",
            "ticks": ""
           },
           "baxis": {
            "gridcolor": "white",
            "linecolor": "white",
            "ticks": ""
           },
           "bgcolor": "#E5ECF6",
           "caxis": {
            "gridcolor": "white",
            "linecolor": "white",
            "ticks": ""
           }
          },
          "title": {
           "x": 0.05
          },
          "xaxis": {
           "automargin": true,
           "gridcolor": "white",
           "linecolor": "white",
           "ticks": "",
           "title": {
            "standoff": 15
           },
           "zerolinecolor": "white",
           "zerolinewidth": 2
          },
          "yaxis": {
           "automargin": true,
           "gridcolor": "white",
           "linecolor": "white",
           "ticks": "",
           "title": {
            "standoff": 15
           },
           "zerolinecolor": "white",
           "zerolinewidth": 2
          }
         }
        },
        "title": {
         "text": "Training and Testing Fairness",
         "x": 0.5,
         "xanchor": "center",
         "y": 0.9,
         "yanchor": "top"
        },
        "xaxis": {
         "gridcolor": "LightGrey",
         "linecolor": "black",
         "linewidth": 2,
         "showline": true,
         "title": {
          "text": "Epoch"
         }
        },
        "yaxis": {
         "gridcolor": "LightGrey",
         "linecolor": "black",
         "linewidth": 2,
         "showline": true,
         "title": {
          "text": "Fairness"
         }
        }
       }
      }
     },
     "metadata": {},
     "output_type": "display_data"
    }
   ],
   "source": [
    "# Example usage\n",
    "plot_metric(\"Training and Testing Loss\", \"Loss\", train_losses, test_losses)\n",
    "plot_metric(\"Training and Testing Accuracy\", \"Accuracy (%)\", train_accuracies, test_accuracies)\n",
    "plot_metric(\"Training and Testing Discrimination\", \"Discrimination\", train_discriminations, test_discriminations)\n",
    "plot_metric(\"Training and Testing Fairness\", \"Fairness\", train_fairness, test_fairness)"
   ]
  },
  {
   "cell_type": "code",
   "execution_count": null,
   "metadata": {},
   "outputs": [],
   "source": []
  },
  {
   "cell_type": "markdown",
   "metadata": {},
   "source": [
    "## BCE Loss Fn"
   ]
  },
  {
   "cell_type": "code",
   "execution_count": 19,
   "metadata": {},
   "outputs": [
    {
     "name": "stdout",
     "output_type": "stream",
     "text": [
      "Epoch 1, Train Loss: 1.1222906112670898, Train Acc: 17.27%, Train Discrimination: 0.10794885456562042 Test Loss: 0.6396477222442627, Test Acc: 82.66%,Test Discrimination: 0.2171773761510849\n",
      "Epoch 2, Train Loss: 0.6310044527053833, Train Acc: 82.87%, Train Discrimination: 0.13623325526714325 Test Loss: 0.7794495820999146, Test Acc: 82.66%,Test Discrimination: 0.08968199789524078\n",
      "Epoch 3, Train Loss: 0.7643031477928162, Train Acc: 82.87%, Train Discrimination: 0.05449695885181427 Test Loss: 0.767382025718689, Test Acc: 82.66%,Test Discrimination: 0.03229247406125069\n",
      "Epoch 4, Train Loss: 0.7517351508140564, Train Acc: 82.87%, Train Discrimination: 0.019562693312764168 Test Loss: 0.6684368848800659, Test Acc: 82.66%,Test Discrimination: 0.009146862663328648\n",
      "Epoch 5, Train Loss: 0.6537835597991943, Train Acc: 82.87%, Train Discrimination: 0.005255941767245531 Test Loss: 0.5339722633361816, Test Acc: 82.66%,Test Discrimination: 6.4282298808393534e-06\n",
      "Epoch 6, Train Loss: 0.5220515727996826, Train Acc: 82.87%, Train Discrimination: 0.0001263883023057133 Test Loss: 0.4249191880226135, Test Acc: 82.66%,Test Discrimination: 0.041227396577596664\n",
      "Epoch 7, Train Loss: 0.4168894588947296, Train Acc: 82.89%, Train Discrimination: 0.03491489216685295 Test Loss: 0.4111027121543884, Test Acc: 83.23%,Test Discrimination: 0.3246650695800781\n",
      "Epoch 8, Train Loss: 0.4071272909641266, Train Acc: 84.22%, Train Discrimination: 0.2533498704433441 Test Loss: 0.47261691093444824, Test Acc: 81.96%,Test Discrimination: 0.7721550464630127\n",
      "Epoch 9, Train Loss: 0.4713936448097229, Train Acc: 81.89%, Train Discrimination: 0.5862294435501099 Test Loss: 0.49821439385414124, Test Acc: 75.90%,Test Discrimination: 0.963756799697876\n",
      "Epoch 10, Train Loss: 0.4980846643447876, Train Acc: 76.45%, Train Discrimination: 0.7342601418495178 Test Loss: 0.46656346321105957, Test Acc: 81.30%,Test Discrimination: 0.8896762728691101\n",
      "Epoch 11, Train Loss: 0.46621623635292053, Train Acc: 81.07%, Train Discrimination: 0.7004198431968689 Test Loss: 0.4159086346626282, Test Acc: 85.09%,Test Discrimination: 0.6688970327377319\n",
      "Epoch 12, Train Loss: 0.41437697410583496, Train Acc: 85.01%, Train Discrimination: 0.554134726524353 Test Loss: 0.38133108615875244, Test Acc: 84.43%,Test Discrimination: 0.4301048219203949\n",
      "Epoch 13, Train Loss: 0.378074586391449, Train Acc: 85.21%, Train Discrimination: 0.37635338306427 Test Loss: 0.3726983368396759, Test Acc: 83.58%,Test Discrimination: 0.2568362355232239\n",
      "Epoch 14, Train Loss: 0.3676784038543701, Train Acc: 84.37%, Train Discrimination: 0.23482061922550201 Test Loss: 0.38326358795166016, Test Acc: 83.13%,Test Discrimination: 0.15200038254261017\n",
      "Epoch 15, Train Loss: 0.37654244899749756, Train Acc: 83.90%, Train Discrimination: 0.14335137605667114 Test Loss: 0.39543721079826355, Test Acc: 83.10%,Test Discrimination: 0.10805922746658325\n",
      "Epoch 16, Train Loss: 0.3876519501209259, Train Acc: 83.61%, Train Discrimination: 0.10369668155908585 Test Loss: 0.39981701970100403, Test Acc: 83.10%,Test Discrimination: 0.09425054490566254\n",
      "Epoch 17, Train Loss: 0.3916770815849304, Train Acc: 83.63%, Train Discrimination: 0.09146576374769211 Test Loss: 0.3972843587398529, Test Acc: 83.10%,Test Discrimination: 0.09560703486204147\n",
      "Epoch 18, Train Loss: 0.38911837339401245, Train Acc: 83.80%, Train Discrimination: 0.09328947961330414 Test Loss: 0.3900759816169739, Test Acc: 83.26%,Test Discrimination: 0.10805922746658325\n",
      "Epoch 19, Train Loss: 0.3822433650493622, Train Acc: 83.99%, Train Discrimination: 0.10604620724916458 Test Loss: 0.3804553151130676, Test Acc: 83.48%,Test Discrimination: 0.13358306884765625\n",
      "Epoch 20, Train Loss: 0.37332287430763245, Train Acc: 84.21%, Train Discrimination: 0.13143566250801086 Test Loss: 0.3708828389644623, Test Acc: 83.99%,Test Discrimination: 0.1749095916748047\n",
      "Epoch 21, Train Loss: 0.3646966516971588, Train Acc: 84.62%, Train Discrimination: 0.17136529088020325 Test Loss: 0.36348170042037964, Test Acc: 84.27%,Test Discrimination: 0.23293371498584747\n",
      "Epoch 22, Train Loss: 0.3582524359226227, Train Acc: 85.02%, Train Discrimination: 0.2262994647026062 Test Loss: 0.35934925079345703, Test Acc: 84.49%,Test Discrimination: 0.3053753674030304\n",
      "Epoch 23, Train Loss: 0.35497090220451355, Train Acc: 85.36%, Train Discrimination: 0.293831467628479 Test Loss: 0.3584010899066925, Test Acc: 84.65%,Test Discrimination: 0.384288489818573\n",
      "Epoch 24, Train Loss: 0.35481366515159607, Train Acc: 85.57%, Train Discrimination: 0.3670826554298401 Test Loss: 0.3595985472202301, Test Acc: 84.87%,Test Discrimination: 0.4581080675125122\n",
      "Epoch 25, Train Loss: 0.35672539472579956, Train Acc: 85.55%, Train Discrimination: 0.43612140417099 Test Loss: 0.36146846413612366, Test Acc: 85.15%,Test Discrimination: 0.5169135928153992\n",
      "Epoch 26, Train Loss: 0.35904163122177124, Train Acc: 85.74%, Train Discrimination: 0.49175113439559937 Test Loss: 0.3622843325138092, Test Acc: 85.15%,Test Discrimination: 0.5535939931869507\n",
      "Epoch 27, Train Loss: 0.36011332273483276, Train Acc: 85.64%, Train Discrimination: 0.5270319581031799 Test Loss: 0.3607621490955353, Test Acc: 85.28%,Test Discrimination: 0.5640650391578674\n",
      "Epoch 28, Train Loss: 0.35834556818008423, Train Acc: 85.60%, Train Discrimination: 0.5379096865653992 Test Loss: 0.3557286262512207, Test Acc: 85.25%,Test Discrimination: 0.5225823521614075\n",
      "Epoch 29, Train Loss: 0.3526946008205414, Train Acc: 85.95%, Train Discrimination: 0.4974922239780426 Test Loss: 0.35331347584724426, Test Acc: 84.84%,Test Discrimination: 0.4174734055995941\n",
      "Epoch 30, Train Loss: 0.3488895297050476, Train Acc: 85.79%, Train Discrimination: 0.40476903319358826 Test Loss: 0.35515689849853516, Test Acc: 84.78%,Test Discrimination: 0.33887138962745667\n",
      "Epoch 31, Train Loss: 0.3497295081615448, Train Acc: 85.70%, Train Discrimination: 0.3326619267463684 Test Loss: 0.3548308312892914, Test Acc: 84.78%,Test Discrimination: 0.33198854327201843\n",
      "Epoch 32, Train Loss: 0.3492530286312103, Train Acc: 85.71%, Train Discrimination: 0.32544514536857605 Test Loss: 0.3521464467048645, Test Acc: 85.00%,Test Discrimination: 0.3707476556301117\n",
      "Epoch 33, Train Loss: 0.3470172882080078, Train Acc: 85.86%, Train Discrimination: 0.3598305284976959 Test Loss: 0.34996652603149414, Test Acc: 85.09%,Test Discrimination: 0.4335746169090271\n",
      "Epoch 34, Train Loss: 0.34552374482154846, Train Acc: 85.79%, Train Discrimination: 0.4163113534450531 Test Loss: 0.3495996594429016, Test Acc: 85.41%,Test Discrimination: 0.4994899034500122\n",
      "Epoch 35, Train Loss: 0.34576621651649475, Train Acc: 85.95%, Train Discrimination: 0.47451797127723694 Test Loss: 0.34999391436576843, Test Acc: 85.53%,Test Discrimination: 0.5477667450904846\n",
      "Epoch 36, Train Loss: 0.34657248854637146, Train Acc: 85.87%, Train Discrimination: 0.5164722800254822 Test Loss: 0.3498736321926117, Test Acc: 85.63%,Test Discrimination: 0.5708785057067871\n",
      "Epoch 37, Train Loss: 0.3465372920036316, Train Acc: 85.86%, Train Discrimination: 0.5372231006622314 Test Loss: 0.34888702630996704, Test Acc: 85.57%,Test Discrimination: 0.571841299533844\n",
      "Epoch 38, Train Loss: 0.34533992409706116, Train Acc: 85.89%, Train Discrimination: 0.5383451581001282 Test Loss: 0.3478427231311798, Test Acc: 85.60%,Test Discrimination: 0.5534126162528992\n",
      "Epoch 39, Train Loss: 0.343771368265152, Train Acc: 86.01%, Train Discrimination: 0.523526132106781 Test Loss: 0.34734147787094116, Test Acc: 85.47%,Test Discrimination: 0.5239946246147156\n",
      "Epoch 40, Train Loss: 0.3427606225013733, Train Acc: 85.94%, Train Discrimination: 0.4976826608181 Test Loss: 0.34756264090538025, Test Acc: 85.38%,Test Discrimination: 0.49794214963912964\n",
      "Epoch 41, Train Loss: 0.34250685572624207, Train Acc: 86.05%, Train Discrimination: 0.4748368561267853 Test Loss: 0.3476843237876892, Test Acc: 85.25%,Test Discrimination: 0.4886423349380493\n",
      "Epoch 42, Train Loss: 0.3423570692539215, Train Acc: 86.00%, Train Discrimination: 0.46703457832336426 Test Loss: 0.3469613790512085, Test Acc: 85.31%,Test Discrimination: 0.5030910968780518\n",
      "Epoch 43, Train Loss: 0.34164708852767944, Train Acc: 86.02%, Train Discrimination: 0.4804897904396057 Test Loss: 0.3455874025821686, Test Acc: 85.47%,Test Discrimination: 0.5388438105583191\n",
      "Epoch 44, Train Loss: 0.34053799510002136, Train Acc: 86.15%, Train Discrimination: 0.5128350853919983 Test Loss: 0.3443203270435333, Test Acc: 85.72%,Test Discrimination: 0.5828128457069397\n",
      "Epoch 45, Train Loss: 0.33972084522247314, Train Acc: 86.16%, Train Discrimination: 0.5526615381240845 Test Loss: 0.3434922993183136, Test Acc: 85.72%,Test Discrimination: 0.6175676584243774\n",
      "Epoch 46, Train Loss: 0.33927711844444275, Train Acc: 86.03%, Train Discrimination: 0.5843944549560547 Test Loss: 0.342825710773468, Test Acc: 85.79%,Test Discrimination: 0.6279687285423279\n",
      "Epoch 47, Train Loss: 0.3386376202106476, Train Acc: 86.06%, Train Discrimination: 0.5957053303718567 Test Loss: 0.34205636382102966, Test Acc: 85.75%,Test Discrimination: 0.6101417541503906\n",
      "Epoch 48, Train Loss: 0.33756813406944275, Train Acc: 86.10%, Train Discrimination: 0.5823545455932617 Test Loss: 0.34150388836860657, Test Acc: 85.60%,Test Discrimination: 0.573344349861145\n",
      "Epoch 49, Train Loss: 0.3365635871887207, Train Acc: 86.17%, Train Discrimination: 0.5500687956809998 Test Loss: 0.34132423996925354, Test Acc: 85.41%,Test Discrimination: 0.53520268201828\n",
      "Epoch 50, Train Loss: 0.3359447419643402, Train Acc: 86.16%, Train Discrimination: 0.5144147872924805 Test Loss: 0.34110739827156067, Test Acc: 85.41%,Test Discrimination: 0.5125150680541992\n",
      "Epoch 51, Train Loss: 0.3355560302734375, Train Acc: 86.13%, Train Discrimination: 0.4919296205043793 Test Loss: 0.3405298590660095, Test Acc: 85.50%,Test Discrimination: 0.5152432322502136\n",
      "Epoch 52, Train Loss: 0.3350047767162323, Train Acc: 86.19%, Train Discrimination: 0.4933093190193176 Test Loss: 0.33955666422843933, Test Acc: 85.44%,Test Discrimination: 0.5424384474754333\n",
      "Epoch 53, Train Loss: 0.334200918674469, Train Acc: 86.22%, Train Discrimination: 0.5176225900650024 Test Loss: 0.33862829208374023, Test Acc: 85.53%,Test Discrimination: 0.5819038152694702\n",
      "Epoch 54, Train Loss: 0.33343830704689026, Train Acc: 86.25%, Train Discrimination: 0.5544012188911438 Test Loss: 0.3380275070667267, Test Acc: 85.63%,Test Discrimination: 0.6154759526252747\n",
      "Epoch 55, Train Loss: 0.33265000581741333, Train Acc: 86.36%, Train Discrimination: 0.5879372954368591 Test Loss: 0.3373195230960846, Test Acc: 85.69%,Test Discrimination: 0.6272380352020264\n",
      "Epoch 56, Train Loss: 0.3317117691040039, Train Acc: 86.39%, Train Discrimination: 0.601978063583374 Test Loss: 0.33738720417022705, Test Acc: 85.60%,Test Discrimination: 0.5984565615653992\n",
      "Epoch 57, Train Loss: 0.33139723539352417, Train Acc: 86.36%, Train Discrimination: 0.5789970755577087 Test Loss: 0.335990309715271, Test Acc: 85.66%,Test Discrimination: 0.6620872616767883\n",
      "Epoch 58, Train Loss: 0.33008983731269836, Train Acc: 86.46%, Train Discrimination: 0.6348063945770264 Test Loss: 0.3356301188468933, Test Acc: 85.57%,Test Discrimination: 0.7026349902153015\n",
      "Epoch 59, Train Loss: 0.32957813143730164, Train Acc: 86.58%, Train Discrimination: 0.6683869957923889 Test Loss: 0.33529940247535706, Test Acc: 85.57%,Test Discrimination: 0.690229058265686\n",
      "Epoch 60, Train Loss: 0.32873162627220154, Train Acc: 86.54%, Train Discrimination: 0.6558494567871094 Test Loss: 0.3352925181388855, Test Acc: 85.53%,Test Discrimination: 0.6561574339866638\n",
      "Epoch 61, Train Loss: 0.328064888715744, Train Acc: 86.49%, Train Discrimination: 0.6255704164505005 Test Loss: 0.3353290259838104, Test Acc: 85.50%,Test Discrimination: 0.6524984836578369\n",
      "Epoch 62, Train Loss: 0.32755523920059204, Train Acc: 86.49%, Train Discrimination: 0.6239732503890991 Test Loss: 0.3339661657810211, Test Acc: 85.47%,Test Discrimination: 0.728606104850769\n",
      "Epoch 63, Train Loss: 0.32649290561676025, Train Acc: 86.70%, Train Discrimination: 0.6915835738182068 Test Loss: 0.33349621295928955, Test Acc: 85.60%,Test Discrimination: 0.7877906560897827\n",
      "Epoch 64, Train Loss: 0.32598045468330383, Train Acc: 86.71%, Train Discrimination: 0.7452850341796875 Test Loss: 0.33354029059410095, Test Acc: 85.57%,Test Discrimination: 0.7531086206436157\n",
      "Epoch 65, Train Loss: 0.3252071142196655, Train Acc: 86.74%, Train Discrimination: 0.7148842215538025 Test Loss: 0.33336761593818665, Test Acc: 85.72%,Test Discrimination: 0.7509298920631409\n",
      "Epoch 66, Train Loss: 0.32463493943214417, Train Acc: 86.69%, Train Discrimination: 0.7128036618232727 Test Loss: 0.3323120176792145, Test Acc: 85.66%,Test Discrimination: 0.8190115094184875\n",
      "Epoch 67, Train Loss: 0.3239442706108093, Train Acc: 86.78%, Train Discrimination: 0.7722203135490417 Test Loss: 0.3319834768772125, Test Acc: 85.57%,Test Discrimination: 0.800535261631012\n",
      "Epoch 68, Train Loss: 0.32320061326026917, Train Acc: 86.63%, Train Discrimination: 0.7551534175872803 Test Loss: 0.33264702558517456, Test Acc: 85.63%,Test Discrimination: 0.7352574467658997\n",
      "Epoch 69, Train Loss: 0.322919100522995, Train Acc: 86.62%, Train Discrimination: 0.6983733773231506 Test Loss: 0.3314198851585388, Test Acc: 85.63%,Test Discrimination: 0.8026156425476074\n",
      "Epoch 70, Train Loss: 0.32210594415664673, Train Acc: 86.64%, Train Discrimination: 0.7568991780281067 Test Loss: 0.33097395300865173, Test Acc: 85.72%,Test Discrimination: 0.8545161485671997\n",
      "Epoch 71, Train Loss: 0.32177233695983887, Train Acc: 86.69%, Train Discrimination: 0.8016493916511536 Test Loss: 0.3314353823661804, Test Acc: 85.63%,Test Discrimination: 0.7944847345352173\n",
      "Epoch 72, Train Loss: 0.3210672438144684, Train Acc: 86.61%, Train Discrimination: 0.7528936862945557 Test Loss: 0.3307730257511139, Test Acc: 85.79%,Test Discrimination: 0.8423561453819275\n",
      "Epoch 73, Train Loss: 0.3203892409801483, Train Acc: 86.68%, Train Discrimination: 0.7958977222442627 Test Loss: 0.3299502730369568, Test Acc: 85.98%,Test Discrimination: 0.9415216445922852\n",
      "Epoch 74, Train Loss: 0.3202061355113983, Train Acc: 86.59%, Train Discrimination: 0.8820934295654297 Test Loss: 0.3303932845592499, Test Acc: 85.75%,Test Discrimination: 0.8691109418869019\n",
      "Epoch 75, Train Loss: 0.3195536732673645, Train Acc: 86.65%, Train Discrimination: 0.8209359049797058 Test Loss: 0.3299265205860138, Test Acc: 85.82%,Test Discrimination: 0.8932585716247559\n",
      "Epoch 76, Train Loss: 0.3190617561340332, Train Acc: 86.69%, Train Discrimination: 0.8414824604988098 Test Loss: 0.3292504549026489, Test Acc: 85.91%,Test Discrimination: 0.9617592096328735\n",
      "Epoch 77, Train Loss: 0.31887170672416687, Train Acc: 86.59%, Train Discrimination: 0.8983392119407654 Test Loss: 0.32986706495285034, Test Acc: 85.82%,Test Discrimination: 0.87430340051651\n",
      "Epoch 78, Train Loss: 0.3184111714363098, Train Acc: 86.65%, Train Discrimination: 0.826724648475647 Test Loss: 0.32919326424598694, Test Acc: 85.88%,Test Discrimination: 0.9180357456207275\n",
      "Epoch 79, Train Loss: 0.31789925694465637, Train Acc: 86.73%, Train Discrimination: 0.8641996383666992 Test Loss: 0.3287643492221832, Test Acc: 86.01%,Test Discrimination: 0.9685395359992981\n",
      "Epoch 80, Train Loss: 0.3176252841949463, Train Acc: 86.68%, Train Discrimination: 0.9071846604347229 Test Loss: 0.32958656549453735, Test Acc: 85.85%,Test Discrimination: 0.8931298851966858\n",
      "Epoch 81, Train Loss: 0.3173215985298157, Train Acc: 86.64%, Train Discrimination: 0.8483070731163025 Test Loss: 0.3285714089870453, Test Acc: 86.07%,Test Discrimination: 0.9843569397926331\n",
      "Epoch 82, Train Loss: 0.31689968705177307, Train Acc: 86.68%, Train Discrimination: 0.9241633415222168 Test Loss: 0.3287445604801178, Test Acc: 85.94%,Test Discrimination: 0.9474598169326782\n",
      "Epoch 83, Train Loss: 0.3164522647857666, Train Acc: 86.68%, Train Discrimination: 0.8939814567565918 Test Loss: 0.3290735185146332, Test Acc: 85.85%,Test Discrimination: 0.9120897650718689\n",
      "Epoch 84, Train Loss: 0.3161916732788086, Train Acc: 86.64%, Train Discrimination: 0.8652428388595581 Test Loss: 0.32829758524894714, Test Acc: 86.20%,Test Discrimination: 0.9986690282821655\n",
      "Epoch 85, Train Loss: 0.3160574436187744, Train Acc: 86.67%, Train Discrimination: 0.9346258640289307 Test Loss: 0.3298274278640747, Test Acc: 85.82%,Test Discrimination: 0.861841082572937\n",
      "Epoch 86, Train Loss: 0.31592199206352234, Train Acc: 86.77%, Train Discrimination: 0.8260394334793091 Test Loss: 0.32823970913887024, Test Acc: 86.20%,Test Discrimination: 1.009132742881775\n",
      "Epoch 87, Train Loss: 0.3155527114868164, Train Acc: 86.69%, Train Discrimination: 0.9467234015464783 Test Loss: 0.32894912362098694, Test Acc: 85.88%,Test Discrimination: 0.9119374752044678\n",
      "Epoch 88, Train Loss: 0.31494832038879395, Train Acc: 86.76%, Train Discrimination: 0.8700001835823059 Test Loss: 0.32868492603302, Test Acc: 85.94%,Test Discrimination: 0.9275373220443726\n",
      "Epoch 89, Train Loss: 0.3146183490753174, Train Acc: 86.73%, Train Discrimination: 0.8838733434677124 Test Loss: 0.3280012607574463, Test Acc: 86.26%,Test Discrimination: 1.0078786611557007\n",
      "Epoch 90, Train Loss: 0.31459924578666687, Train Acc: 86.70%, Train Discrimination: 0.9495465755462646 Test Loss: 0.32928070425987244, Test Acc: 85.75%,Test Discrimination: 0.8854190111160278\n",
      "Epoch 91, Train Loss: 0.3143760859966278, Train Acc: 86.81%, Train Discrimination: 0.8516082763671875 Test Loss: 0.3278409242630005, Test Acc: 86.26%,Test Discrimination: 1.0012540817260742\n",
      "Epoch 92, Train Loss: 0.3139999806880951, Train Acc: 86.70%, Train Discrimination: 0.9452743530273438 Test Loss: 0.3280901312828064, Test Acc: 85.98%,Test Discrimination: 0.9463974237442017\n",
      "Epoch 93, Train Loss: 0.31356295943260193, Train Acc: 86.76%, Train Discrimination: 0.9019516706466675 Test Loss: 0.32868677377700806, Test Acc: 85.88%,Test Discrimination: 0.9044852256774902\n",
      "Epoch 94, Train Loss: 0.3134711682796478, Train Acc: 86.75%, Train Discrimination: 0.8701937198638916 Test Loss: 0.32762646675109863, Test Acc: 86.20%,Test Discrimination: 1.0317777395248413\n",
      "Epoch 95, Train Loss: 0.31358247995376587, Train Acc: 86.73%, Train Discrimination: 0.9732524156570435 Test Loss: 0.32925692200660706, Test Acc: 85.82%,Test Discrimination: 0.8714162707328796\n",
      "Epoch 96, Train Loss: 0.31331774592399597, Train Acc: 86.77%, Train Discrimination: 0.845427930355072 Test Loss: 0.3275359272956848, Test Acc: 86.17%,Test Discrimination: 0.9965463280677795\n",
      "Epoch 97, Train Loss: 0.31281358003616333, Train Acc: 86.73%, Train Discrimination: 0.945932149887085 Test Loss: 0.327835351228714, Test Acc: 86.04%,Test Discrimination: 0.9465879797935486\n",
      "Epoch 98, Train Loss: 0.3124200403690338, Train Acc: 86.79%, Train Discrimination: 0.9062260389328003 Test Loss: 0.3284187912940979, Test Acc: 85.88%,Test Discrimination: 0.9089735150337219\n",
      "Epoch 99, Train Loss: 0.31235769391059875, Train Acc: 86.76%, Train Discrimination: 0.8772515654563904 Test Loss: 0.32745859026908875, Test Acc: 86.04%,Test Discrimination: 1.0280171632766724\n",
      "Epoch 100, Train Loss: 0.3124275803565979, Train Acc: 86.84%, Train Discrimination: 0.975306510925293 Test Loss: 0.329396516084671, Test Acc: 85.82%,Test Discrimination: 0.8681218028068542\n"
     ]
    }
   ],
   "source": [
    "import torch\n",
    "import torch.nn as nn\n",
    "import torch.optim as optim\n",
    "\n",
    "# Define the model\n",
    "class BinaryClassifier(nn.Module):\n",
    "    def __init__(self, input_size):\n",
    "        super(BinaryClassifier, self).__init__()\n",
    "        self.fc1 = nn.Linear(input_size, 64)\n",
    "        self.fc2 = nn.Linear(64, 1)\n",
    "\n",
    "    def forward(self, x):\n",
    "        x = torch.relu(self.fc1(x))\n",
    "        x = torch.sigmoid(self.fc2(x))\n",
    "        return x.squeeze()\n",
    "\n",
    "# Custom loss function|\n",
    "def discrimination_loss(output, target, sensitive_features, lambda_val=100, k=2):\n",
    "    criterion = nn.BCELoss()\n",
    "    standard_loss = criterion(output, target)\n",
    "\n",
    "    mask_unpriv = (sensitive_features == 0)\n",
    "    mask_priv = (sensitive_features == 1)\n",
    "    #discrimination=torch.abs(prob_priv)\n",
    "    prob_unpriv = torch.mean(output[mask_unpriv])\n",
    "    prob_priv = torch.mean(output[mask_priv])\n",
    "    discrimination = lambda_val*(prob_priv - prob_unpriv) ** k\n",
    "\n",
    "# Handle cases where one group might be missing\n",
    "    #discrimination=torch.abs(prob_priv)\n",
    " \n",
    "    loss_val=standard_loss\n",
    "\n",
    "    return loss_val,discrimination.item() \n",
    "\n",
    "def calculate_accuracy(predictions, targets):\n",
    "    predicted_classes = (predictions >= 0.5).float()\n",
    "    return (predicted_classes == targets).float().mean()\n",
    "\n",
    "\n",
    "data = torch.tensor(X_train_scaled).float()\n",
    "targets = torch.tensor(y_train).float().unsqueeze(1)\n",
    "\n",
    "# Correctly preparing the sensitive features\n",
    "threshold = 0.5  # Adjust the threshold according to your specific case\n",
    "sensitive_features = torch.tensor((data[:, 1].numpy() > threshold).astype(float)).float()\n",
    "features = torch.cat((data[:, :1], data[:, 2:]), dim=1)\n",
    "\n",
    "# Assuming similar preparation for test data\n",
    "test_data = torch.tensor(X_test_scaled).float()\n",
    "test_targets = torch.tensor(y_test).float().unsqueeze(1)\n",
    "test_sensitive_features = torch.tensor((test_data[:, 1].numpy() > threshold).astype(float)).float()\n",
    "test_features = torch.cat((test_data[:, :1], test_data[:, 2:]), dim=1)\n",
    "\n",
    "model = BinaryClassifier(features.shape[1])\n",
    "optimizer = optim.Adam(model.parameters(), lr=0.01)\n",
    "train_losses1, train_accuracies1, train_discriminations1,train_fairness1 = [], [], [],[]\n",
    "test_losses1, test_accuracies1, test_discriminations1,test_fairness1 = [], [], [],[]\n",
    "# Training loop\n",
    "model.train()\n",
    "for epoch in range(100):\n",
    "    optimizer.zero_grad()\n",
    "    outputs = model(features)\n",
    "    loss, discrimination = discrimination_loss(outputs, targets.squeeze(), sensitive_features)\n",
    "    train_accuracy = calculate_accuracy(outputs, targets.squeeze())\n",
    "    loss.backward()\n",
    "    optimizer.step()\n",
    "    \n",
    "    # Evaluation on test data\n",
    "    model.eval()\n",
    "    with torch.no_grad():\n",
    "        test_outputs = model(test_features)\n",
    "        test_loss,test_discrimination = discrimination_loss(test_outputs, test_targets.squeeze(), test_sensitive_features)\n",
    "        test_accuracy = calculate_accuracy(test_outputs, test_targets.squeeze())\n",
    "    \n",
    "    print(f'Epoch {epoch+1}, Train Loss: {loss.item()}, Train Acc: {train_accuracy.item()*100:.2f}%, Train Discrimination: {discrimination} '\n",
    "          f'Test Loss: {test_loss.item()}, Test Acc: {test_accuracy.item()*100:.2f}%,Test Discrimination: {test_discrimination}')\n",
    "    train_losses1.append(loss.item())\n",
    "    train_accuracies1.append(train_accuracy.item() * 100)\n",
    "    train_discriminations1.append(discrimination)\n",
    "    fairness=1-discrimination\n",
    "    train_fairness1.append(fairness)\n",
    "    test_fairness1.append(fairness)\n",
    "    test_losses1.append(test_loss.item())\n",
    "    test_accuracies1.append(test_accuracy.item() * 100)\n",
    "    test_discriminations1.append(test_discrimination)\n",
    "    model.train()\n"
   ]
  },
  {
   "cell_type": "code",
   "execution_count": 20,
   "metadata": {},
   "outputs": [
    {
     "data": {
      "application/vnd.plotly.v1+json": {
       "config": {
        "plotlyServerURL": "https://plot.ly"
       },
       "data": [
        {
         "line": {
          "color": "RoyalBlue",
          "width": 2
         },
         "marker": {
          "color": "RoyalBlue",
          "line": {
           "color": "DarkSlateGrey",
           "width": 1
          },
          "size": 6
         },
         "mode": "lines+markers",
         "name": "train",
         "type": "scatter",
         "x": [
          1,
          2,
          3,
          4,
          5,
          6,
          7,
          8,
          9,
          10,
          11,
          12,
          13,
          14,
          15,
          16,
          17,
          18,
          19,
          20,
          21,
          22,
          23,
          24,
          25,
          26,
          27,
          28,
          29,
          30,
          31,
          32,
          33,
          34,
          35,
          36,
          37,
          38,
          39,
          40,
          41,
          42,
          43,
          44,
          45,
          46,
          47,
          48,
          49,
          50,
          51,
          52,
          53,
          54,
          55,
          56,
          57,
          58,
          59,
          60,
          61,
          62,
          63,
          64,
          65,
          66,
          67,
          68,
          69,
          70,
          71,
          72,
          73,
          74,
          75,
          76,
          77,
          78,
          79,
          80,
          81,
          82,
          83,
          84,
          85,
          86,
          87,
          88,
          89,
          90,
          91,
          92,
          93,
          94,
          95,
          96,
          97,
          98,
          99,
          100
         ],
         "y": [
          1.1222906112670898,
          0.6310044527053833,
          0.7643031477928162,
          0.7517351508140564,
          0.6537835597991943,
          0.5220515727996826,
          0.4168894588947296,
          0.4071272909641266,
          0.4713936448097229,
          0.4980846643447876,
          0.46621623635292053,
          0.41437697410583496,
          0.378074586391449,
          0.3676784038543701,
          0.37654244899749756,
          0.3876519501209259,
          0.3916770815849304,
          0.38911837339401245,
          0.3822433650493622,
          0.37332287430763245,
          0.3646966516971588,
          0.3582524359226227,
          0.35497090220451355,
          0.35481366515159607,
          0.35672539472579956,
          0.35904163122177124,
          0.36011332273483276,
          0.35834556818008423,
          0.3526946008205414,
          0.3488895297050476,
          0.3497295081615448,
          0.3492530286312103,
          0.3470172882080078,
          0.34552374482154846,
          0.34576621651649475,
          0.34657248854637146,
          0.3465372920036316,
          0.34533992409706116,
          0.343771368265152,
          0.3427606225013733,
          0.34250685572624207,
          0.3423570692539215,
          0.34164708852767944,
          0.34053799510002136,
          0.33972084522247314,
          0.33927711844444275,
          0.3386376202106476,
          0.33756813406944275,
          0.3365635871887207,
          0.3359447419643402,
          0.3355560302734375,
          0.3350047767162323,
          0.334200918674469,
          0.33343830704689026,
          0.33265000581741333,
          0.3317117691040039,
          0.33139723539352417,
          0.33008983731269836,
          0.32957813143730164,
          0.32873162627220154,
          0.328064888715744,
          0.32755523920059204,
          0.32649290561676025,
          0.32598045468330383,
          0.3252071142196655,
          0.32463493943214417,
          0.3239442706108093,
          0.32320061326026917,
          0.322919100522995,
          0.32210594415664673,
          0.32177233695983887,
          0.3210672438144684,
          0.3203892409801483,
          0.3202061355113983,
          0.3195536732673645,
          0.3190617561340332,
          0.31887170672416687,
          0.3184111714363098,
          0.31789925694465637,
          0.3176252841949463,
          0.3173215985298157,
          0.31689968705177307,
          0.3164522647857666,
          0.3161916732788086,
          0.3160574436187744,
          0.31592199206352234,
          0.3155527114868164,
          0.31494832038879395,
          0.3146183490753174,
          0.31459924578666687,
          0.3143760859966278,
          0.3139999806880951,
          0.31356295943260193,
          0.3134711682796478,
          0.31358247995376587,
          0.31331774592399597,
          0.31281358003616333,
          0.3124200403690338,
          0.31235769391059875,
          0.3124275803565979
         ]
        },
        {
         "line": {
          "color": "Crimson",
          "dash": "dot",
          "width": 2
         },
         "marker": {
          "color": "Crimson",
          "line": {
           "color": "DarkSlateGrey",
           "width": 1
          },
          "size": 6
         },
         "mode": "lines+markers",
         "name": "Test",
         "type": "scatter",
         "x": [
          1,
          2,
          3,
          4,
          5,
          6,
          7,
          8,
          9,
          10,
          11,
          12,
          13,
          14,
          15,
          16,
          17,
          18,
          19,
          20,
          21,
          22,
          23,
          24,
          25,
          26,
          27,
          28,
          29,
          30,
          31,
          32,
          33,
          34,
          35,
          36,
          37,
          38,
          39,
          40,
          41,
          42,
          43,
          44,
          45,
          46,
          47,
          48,
          49,
          50,
          51,
          52,
          53,
          54,
          55,
          56,
          57,
          58,
          59,
          60,
          61,
          62,
          63,
          64,
          65,
          66,
          67,
          68,
          69,
          70,
          71,
          72,
          73,
          74,
          75,
          76,
          77,
          78,
          79,
          80,
          81,
          82,
          83,
          84,
          85,
          86,
          87,
          88,
          89,
          90,
          91,
          92,
          93,
          94,
          95,
          96,
          97,
          98,
          99,
          100
         ],
         "y": [
          0.6396477222442627,
          0.7794495820999146,
          0.767382025718689,
          0.6684368848800659,
          0.5339722633361816,
          0.4249191880226135,
          0.4111027121543884,
          0.47261691093444824,
          0.49821439385414124,
          0.46656346321105957,
          0.4159086346626282,
          0.38133108615875244,
          0.3726983368396759,
          0.38326358795166016,
          0.39543721079826355,
          0.39981701970100403,
          0.3972843587398529,
          0.3900759816169739,
          0.3804553151130676,
          0.3708828389644623,
          0.36348170042037964,
          0.35934925079345703,
          0.3584010899066925,
          0.3595985472202301,
          0.36146846413612366,
          0.3622843325138092,
          0.3607621490955353,
          0.3557286262512207,
          0.35331347584724426,
          0.35515689849853516,
          0.3548308312892914,
          0.3521464467048645,
          0.34996652603149414,
          0.3495996594429016,
          0.34999391436576843,
          0.3498736321926117,
          0.34888702630996704,
          0.3478427231311798,
          0.34734147787094116,
          0.34756264090538025,
          0.3476843237876892,
          0.3469613790512085,
          0.3455874025821686,
          0.3443203270435333,
          0.3434922993183136,
          0.342825710773468,
          0.34205636382102966,
          0.34150388836860657,
          0.34132423996925354,
          0.34110739827156067,
          0.3405298590660095,
          0.33955666422843933,
          0.33862829208374023,
          0.3380275070667267,
          0.3373195230960846,
          0.33738720417022705,
          0.335990309715271,
          0.3356301188468933,
          0.33529940247535706,
          0.3352925181388855,
          0.3353290259838104,
          0.3339661657810211,
          0.33349621295928955,
          0.33354029059410095,
          0.33336761593818665,
          0.3323120176792145,
          0.3319834768772125,
          0.33264702558517456,
          0.3314198851585388,
          0.33097395300865173,
          0.3314353823661804,
          0.3307730257511139,
          0.3299502730369568,
          0.3303932845592499,
          0.3299265205860138,
          0.3292504549026489,
          0.32986706495285034,
          0.32919326424598694,
          0.3287643492221832,
          0.32958656549453735,
          0.3285714089870453,
          0.3287445604801178,
          0.3290735185146332,
          0.32829758524894714,
          0.3298274278640747,
          0.32823970913887024,
          0.32894912362098694,
          0.32868492603302,
          0.3280012607574463,
          0.32928070425987244,
          0.3278409242630005,
          0.3280901312828064,
          0.32868677377700806,
          0.32762646675109863,
          0.32925692200660706,
          0.3275359272956848,
          0.327835351228714,
          0.3284187912940979,
          0.32745859026908875,
          0.329396516084671
         ]
        }
       ],
       "layout": {
        "font": {
         "color": "black",
         "family": "Helvetica, Arial, sans-serif",
         "size": 12
        },
        "legend": {
         "orientation": "h",
         "x": 0.1,
         "y": 1.1
        },
        "margin": {
         "b": 30,
         "l": 40,
         "r": 40,
         "t": 40
        },
        "plot_bgcolor": "white",
        "template": {
         "data": {
          "bar": [
           {
            "error_x": {
             "color": "#2a3f5f"
            },
            "error_y": {
             "color": "#2a3f5f"
            },
            "marker": {
             "line": {
              "color": "#E5ECF6",
              "width": 0.5
             },
             "pattern": {
              "fillmode": "overlay",
              "size": 10,
              "solidity": 0.2
             }
            },
            "type": "bar"
           }
          ],
          "barpolar": [
           {
            "marker": {
             "line": {
              "color": "#E5ECF6",
              "width": 0.5
             },
             "pattern": {
              "fillmode": "overlay",
              "size": 10,
              "solidity": 0.2
             }
            },
            "type": "barpolar"
           }
          ],
          "carpet": [
           {
            "aaxis": {
             "endlinecolor": "#2a3f5f",
             "gridcolor": "white",
             "linecolor": "white",
             "minorgridcolor": "white",
             "startlinecolor": "#2a3f5f"
            },
            "baxis": {
             "endlinecolor": "#2a3f5f",
             "gridcolor": "white",
             "linecolor": "white",
             "minorgridcolor": "white",
             "startlinecolor": "#2a3f5f"
            },
            "type": "carpet"
           }
          ],
          "choropleth": [
           {
            "colorbar": {
             "outlinewidth": 0,
             "ticks": ""
            },
            "type": "choropleth"
           }
          ],
          "contour": [
           {
            "colorbar": {
             "outlinewidth": 0,
             "ticks": ""
            },
            "colorscale": [
             [
              0,
              "#0d0887"
             ],
             [
              0.1111111111111111,
              "#46039f"
             ],
             [
              0.2222222222222222,
              "#7201a8"
             ],
             [
              0.3333333333333333,
              "#9c179e"
             ],
             [
              0.4444444444444444,
              "#bd3786"
             ],
             [
              0.5555555555555556,
              "#d8576b"
             ],
             [
              0.6666666666666666,
              "#ed7953"
             ],
             [
              0.7777777777777778,
              "#fb9f3a"
             ],
             [
              0.8888888888888888,
              "#fdca26"
             ],
             [
              1,
              "#f0f921"
             ]
            ],
            "type": "contour"
           }
          ],
          "contourcarpet": [
           {
            "colorbar": {
             "outlinewidth": 0,
             "ticks": ""
            },
            "type": "contourcarpet"
           }
          ],
          "heatmap": [
           {
            "colorbar": {
             "outlinewidth": 0,
             "ticks": ""
            },
            "colorscale": [
             [
              0,
              "#0d0887"
             ],
             [
              0.1111111111111111,
              "#46039f"
             ],
             [
              0.2222222222222222,
              "#7201a8"
             ],
             [
              0.3333333333333333,
              "#9c179e"
             ],
             [
              0.4444444444444444,
              "#bd3786"
             ],
             [
              0.5555555555555556,
              "#d8576b"
             ],
             [
              0.6666666666666666,
              "#ed7953"
             ],
             [
              0.7777777777777778,
              "#fb9f3a"
             ],
             [
              0.8888888888888888,
              "#fdca26"
             ],
             [
              1,
              "#f0f921"
             ]
            ],
            "type": "heatmap"
           }
          ],
          "heatmapgl": [
           {
            "colorbar": {
             "outlinewidth": 0,
             "ticks": ""
            },
            "colorscale": [
             [
              0,
              "#0d0887"
             ],
             [
              0.1111111111111111,
              "#46039f"
             ],
             [
              0.2222222222222222,
              "#7201a8"
             ],
             [
              0.3333333333333333,
              "#9c179e"
             ],
             [
              0.4444444444444444,
              "#bd3786"
             ],
             [
              0.5555555555555556,
              "#d8576b"
             ],
             [
              0.6666666666666666,
              "#ed7953"
             ],
             [
              0.7777777777777778,
              "#fb9f3a"
             ],
             [
              0.8888888888888888,
              "#fdca26"
             ],
             [
              1,
              "#f0f921"
             ]
            ],
            "type": "heatmapgl"
           }
          ],
          "histogram": [
           {
            "marker": {
             "pattern": {
              "fillmode": "overlay",
              "size": 10,
              "solidity": 0.2
             }
            },
            "type": "histogram"
           }
          ],
          "histogram2d": [
           {
            "colorbar": {
             "outlinewidth": 0,
             "ticks": ""
            },
            "colorscale": [
             [
              0,
              "#0d0887"
             ],
             [
              0.1111111111111111,
              "#46039f"
             ],
             [
              0.2222222222222222,
              "#7201a8"
             ],
             [
              0.3333333333333333,
              "#9c179e"
             ],
             [
              0.4444444444444444,
              "#bd3786"
             ],
             [
              0.5555555555555556,
              "#d8576b"
             ],
             [
              0.6666666666666666,
              "#ed7953"
             ],
             [
              0.7777777777777778,
              "#fb9f3a"
             ],
             [
              0.8888888888888888,
              "#fdca26"
             ],
             [
              1,
              "#f0f921"
             ]
            ],
            "type": "histogram2d"
           }
          ],
          "histogram2dcontour": [
           {
            "colorbar": {
             "outlinewidth": 0,
             "ticks": ""
            },
            "colorscale": [
             [
              0,
              "#0d0887"
             ],
             [
              0.1111111111111111,
              "#46039f"
             ],
             [
              0.2222222222222222,
              "#7201a8"
             ],
             [
              0.3333333333333333,
              "#9c179e"
             ],
             [
              0.4444444444444444,
              "#bd3786"
             ],
             [
              0.5555555555555556,
              "#d8576b"
             ],
             [
              0.6666666666666666,
              "#ed7953"
             ],
             [
              0.7777777777777778,
              "#fb9f3a"
             ],
             [
              0.8888888888888888,
              "#fdca26"
             ],
             [
              1,
              "#f0f921"
             ]
            ],
            "type": "histogram2dcontour"
           }
          ],
          "mesh3d": [
           {
            "colorbar": {
             "outlinewidth": 0,
             "ticks": ""
            },
            "type": "mesh3d"
           }
          ],
          "parcoords": [
           {
            "line": {
             "colorbar": {
              "outlinewidth": 0,
              "ticks": ""
             }
            },
            "type": "parcoords"
           }
          ],
          "pie": [
           {
            "automargin": true,
            "type": "pie"
           }
          ],
          "scatter": [
           {
            "fillpattern": {
             "fillmode": "overlay",
             "size": 10,
             "solidity": 0.2
            },
            "type": "scatter"
           }
          ],
          "scatter3d": [
           {
            "line": {
             "colorbar": {
              "outlinewidth": 0,
              "ticks": ""
             }
            },
            "marker": {
             "colorbar": {
              "outlinewidth": 0,
              "ticks": ""
             }
            },
            "type": "scatter3d"
           }
          ],
          "scattercarpet": [
           {
            "marker": {
             "colorbar": {
              "outlinewidth": 0,
              "ticks": ""
             }
            },
            "type": "scattercarpet"
           }
          ],
          "scattergeo": [
           {
            "marker": {
             "colorbar": {
              "outlinewidth": 0,
              "ticks": ""
             }
            },
            "type": "scattergeo"
           }
          ],
          "scattergl": [
           {
            "marker": {
             "colorbar": {
              "outlinewidth": 0,
              "ticks": ""
             }
            },
            "type": "scattergl"
           }
          ],
          "scattermapbox": [
           {
            "marker": {
             "colorbar": {
              "outlinewidth": 0,
              "ticks": ""
             }
            },
            "type": "scattermapbox"
           }
          ],
          "scatterpolar": [
           {
            "marker": {
             "colorbar": {
              "outlinewidth": 0,
              "ticks": ""
             }
            },
            "type": "scatterpolar"
           }
          ],
          "scatterpolargl": [
           {
            "marker": {
             "colorbar": {
              "outlinewidth": 0,
              "ticks": ""
             }
            },
            "type": "scatterpolargl"
           }
          ],
          "scatterternary": [
           {
            "marker": {
             "colorbar": {
              "outlinewidth": 0,
              "ticks": ""
             }
            },
            "type": "scatterternary"
           }
          ],
          "surface": [
           {
            "colorbar": {
             "outlinewidth": 0,
             "ticks": ""
            },
            "colorscale": [
             [
              0,
              "#0d0887"
             ],
             [
              0.1111111111111111,
              "#46039f"
             ],
             [
              0.2222222222222222,
              "#7201a8"
             ],
             [
              0.3333333333333333,
              "#9c179e"
             ],
             [
              0.4444444444444444,
              "#bd3786"
             ],
             [
              0.5555555555555556,
              "#d8576b"
             ],
             [
              0.6666666666666666,
              "#ed7953"
             ],
             [
              0.7777777777777778,
              "#fb9f3a"
             ],
             [
              0.8888888888888888,
              "#fdca26"
             ],
             [
              1,
              "#f0f921"
             ]
            ],
            "type": "surface"
           }
          ],
          "table": [
           {
            "cells": {
             "fill": {
              "color": "#EBF0F8"
             },
             "line": {
              "color": "white"
             }
            },
            "header": {
             "fill": {
              "color": "#C8D4E3"
             },
             "line": {
              "color": "white"
             }
            },
            "type": "table"
           }
          ]
         },
         "layout": {
          "annotationdefaults": {
           "arrowcolor": "#2a3f5f",
           "arrowhead": 0,
           "arrowwidth": 1
          },
          "autotypenumbers": "strict",
          "coloraxis": {
           "colorbar": {
            "outlinewidth": 0,
            "ticks": ""
           }
          },
          "colorscale": {
           "diverging": [
            [
             0,
             "#8e0152"
            ],
            [
             0.1,
             "#c51b7d"
            ],
            [
             0.2,
             "#de77ae"
            ],
            [
             0.3,
             "#f1b6da"
            ],
            [
             0.4,
             "#fde0ef"
            ],
            [
             0.5,
             "#f7f7f7"
            ],
            [
             0.6,
             "#e6f5d0"
            ],
            [
             0.7,
             "#b8e186"
            ],
            [
             0.8,
             "#7fbc41"
            ],
            [
             0.9,
             "#4d9221"
            ],
            [
             1,
             "#276419"
            ]
           ],
           "sequential": [
            [
             0,
             "#0d0887"
            ],
            [
             0.1111111111111111,
             "#46039f"
            ],
            [
             0.2222222222222222,
             "#7201a8"
            ],
            [
             0.3333333333333333,
             "#9c179e"
            ],
            [
             0.4444444444444444,
             "#bd3786"
            ],
            [
             0.5555555555555556,
             "#d8576b"
            ],
            [
             0.6666666666666666,
             "#ed7953"
            ],
            [
             0.7777777777777778,
             "#fb9f3a"
            ],
            [
             0.8888888888888888,
             "#fdca26"
            ],
            [
             1,
             "#f0f921"
            ]
           ],
           "sequentialminus": [
            [
             0,
             "#0d0887"
            ],
            [
             0.1111111111111111,
             "#46039f"
            ],
            [
             0.2222222222222222,
             "#7201a8"
            ],
            [
             0.3333333333333333,
             "#9c179e"
            ],
            [
             0.4444444444444444,
             "#bd3786"
            ],
            [
             0.5555555555555556,
             "#d8576b"
            ],
            [
             0.6666666666666666,
             "#ed7953"
            ],
            [
             0.7777777777777778,
             "#fb9f3a"
            ],
            [
             0.8888888888888888,
             "#fdca26"
            ],
            [
             1,
             "#f0f921"
            ]
           ]
          },
          "colorway": [
           "#636efa",
           "#EF553B",
           "#00cc96",
           "#ab63fa",
           "#FFA15A",
           "#19d3f3",
           "#FF6692",
           "#B6E880",
           "#FF97FF",
           "#FECB52"
          ],
          "font": {
           "color": "#2a3f5f"
          },
          "geo": {
           "bgcolor": "white",
           "lakecolor": "white",
           "landcolor": "#E5ECF6",
           "showlakes": true,
           "showland": true,
           "subunitcolor": "white"
          },
          "hoverlabel": {
           "align": "left"
          },
          "hovermode": "closest",
          "mapbox": {
           "style": "light"
          },
          "paper_bgcolor": "white",
          "plot_bgcolor": "#E5ECF6",
          "polar": {
           "angularaxis": {
            "gridcolor": "white",
            "linecolor": "white",
            "ticks": ""
           },
           "bgcolor": "#E5ECF6",
           "radialaxis": {
            "gridcolor": "white",
            "linecolor": "white",
            "ticks": ""
           }
          },
          "scene": {
           "xaxis": {
            "backgroundcolor": "#E5ECF6",
            "gridcolor": "white",
            "gridwidth": 2,
            "linecolor": "white",
            "showbackground": true,
            "ticks": "",
            "zerolinecolor": "white"
           },
           "yaxis": {
            "backgroundcolor": "#E5ECF6",
            "gridcolor": "white",
            "gridwidth": 2,
            "linecolor": "white",
            "showbackground": true,
            "ticks": "",
            "zerolinecolor": "white"
           },
           "zaxis": {
            "backgroundcolor": "#E5ECF6",
            "gridcolor": "white",
            "gridwidth": 2,
            "linecolor": "white",
            "showbackground": true,
            "ticks": "",
            "zerolinecolor": "white"
           }
          },
          "shapedefaults": {
           "line": {
            "color": "#2a3f5f"
           }
          },
          "ternary": {
           "aaxis": {
            "gridcolor": "white",
            "linecolor": "white",
            "ticks": ""
           },
           "baxis": {
            "gridcolor": "white",
            "linecolor": "white",
            "ticks": ""
           },
           "bgcolor": "#E5ECF6",
           "caxis": {
            "gridcolor": "white",
            "linecolor": "white",
            "ticks": ""
           }
          },
          "title": {
           "x": 0.05
          },
          "xaxis": {
           "automargin": true,
           "gridcolor": "white",
           "linecolor": "white",
           "ticks": "",
           "title": {
            "standoff": 15
           },
           "zerolinecolor": "white",
           "zerolinewidth": 2
          },
          "yaxis": {
           "automargin": true,
           "gridcolor": "white",
           "linecolor": "white",
           "ticks": "",
           "title": {
            "standoff": 15
           },
           "zerolinecolor": "white",
           "zerolinewidth": 2
          }
         }
        },
        "title": {
         "text": "Training and Testing Loss",
         "x": 0.5,
         "xanchor": "center",
         "y": 0.9,
         "yanchor": "top"
        },
        "xaxis": {
         "gridcolor": "LightGrey",
         "linecolor": "black",
         "linewidth": 2,
         "showline": true,
         "title": {
          "text": "Epoch"
         }
        },
        "yaxis": {
         "gridcolor": "LightGrey",
         "linecolor": "black",
         "linewidth": 2,
         "showline": true,
         "title": {
          "text": "Loss"
         }
        }
       }
      }
     },
     "metadata": {},
     "output_type": "display_data"
    },
    {
     "data": {
      "application/vnd.plotly.v1+json": {
       "config": {
        "plotlyServerURL": "https://plot.ly"
       },
       "data": [
        {
         "line": {
          "color": "RoyalBlue",
          "width": 2
         },
         "marker": {
          "color": "RoyalBlue",
          "line": {
           "color": "DarkSlateGrey",
           "width": 1
          },
          "size": 6
         },
         "mode": "lines+markers",
         "name": "train",
         "type": "scatter",
         "x": [
          1,
          2,
          3,
          4,
          5,
          6,
          7,
          8,
          9,
          10,
          11,
          12,
          13,
          14,
          15,
          16,
          17,
          18,
          19,
          20,
          21,
          22,
          23,
          24,
          25,
          26,
          27,
          28,
          29,
          30,
          31,
          32,
          33,
          34,
          35,
          36,
          37,
          38,
          39,
          40,
          41,
          42,
          43,
          44,
          45,
          46,
          47,
          48,
          49,
          50,
          51,
          52,
          53,
          54,
          55,
          56,
          57,
          58,
          59,
          60,
          61,
          62,
          63,
          64,
          65,
          66,
          67,
          68,
          69,
          70,
          71,
          72,
          73,
          74,
          75,
          76,
          77,
          78,
          79,
          80,
          81,
          82,
          83,
          84,
          85,
          86,
          87,
          88,
          89,
          90,
          91,
          92,
          93,
          94,
          95,
          96,
          97,
          98,
          99,
          100
         ],
         "y": [
          17.269425094127655,
          82.8727126121521,
          82.8727126121521,
          82.8727126121521,
          82.8727126121521,
          82.8727126121521,
          82.8885018825531,
          84.21509861946106,
          81.89355731010437,
          76.45293474197388,
          81.07233047485352,
          85.0126326084137,
          85.21004319190979,
          84.3651294708252,
          83.89924168586731,
          83.60707759857178,
          83.63076448440552,
          83.79659056663513,
          83.98610353469849,
          84.20720100402832,
          84.61781144142151,
          85.02053022384644,
          85.36007404327393,
          85.5732798576355,
          85.54958701133728,
          85.73910593986511,
          85.63644886016846,
          85.59696674346924,
          85.9523057937622,
          85.78647971153259,
          85.6996238231659,
          85.70751547813416,
          85.85754632949829,
          85.78647971153259,
          85.9523057937622,
          85.86544394493103,
          85.85754632949829,
          85.88913679122925,
          86.0075831413269,
          85.93651056289673,
          86.05495691299438,
          85.99968552589417,
          86.01547479629517,
          86.1497163772583,
          86.15761399269104,
          86.03127002716064,
          86.06285452842712,
          86.10233664512634,
          86.17340326309204,
          86.15761399269104,
          86.13392114639282,
          86.18919849395752,
          86.220782995224,
          86.25236749649048,
          86.35502457618713,
          86.38660907745361,
          86.3629162311554,
          86.45767569541931,
          86.57612204551697,
          86.53663992881775,
          86.48926019668579,
          86.48926019668579,
          86.70246601104736,
          86.71035766601562,
          86.74194812774658,
          86.69456839561462,
          86.7814302444458,
          86.63139343261719,
          86.61560416221619,
          86.63929104804993,
          86.69456839561462,
          86.60770654678345,
          86.67877316474915,
          86.59191131591797,
          86.64718866348267,
          86.69456839561462,
          86.59191131591797,
          86.64718866348267,
          86.7261528968811,
          86.67877316474915,
          86.63929104804993,
          86.67877316474915,
          86.67877316474915,
          86.63929104804993,
          86.6708755493164,
          86.77353262901306,
          86.68667078018188,
          86.75773739814758,
          86.73405051231384,
          86.70246601104736,
          86.80511713027954,
          86.70246601104736,
          86.75773739814758,
          86.74983978271484,
          86.7261528968811,
          86.77353262901306,
          86.7261528968811,
          86.78932189941406,
          86.75773739814758,
          86.83670163154602
         ]
        },
        {
         "line": {
          "color": "Crimson",
          "dash": "dot",
          "width": 2
         },
         "marker": {
          "color": "Crimson",
          "line": {
           "color": "DarkSlateGrey",
           "width": 1
          },
          "size": 6
         },
         "mode": "lines+markers",
         "name": "Test",
         "type": "scatter",
         "x": [
          1,
          2,
          3,
          4,
          5,
          6,
          7,
          8,
          9,
          10,
          11,
          12,
          13,
          14,
          15,
          16,
          17,
          18,
          19,
          20,
          21,
          22,
          23,
          24,
          25,
          26,
          27,
          28,
          29,
          30,
          31,
          32,
          33,
          34,
          35,
          36,
          37,
          38,
          39,
          40,
          41,
          42,
          43,
          44,
          45,
          46,
          47,
          48,
          49,
          50,
          51,
          52,
          53,
          54,
          55,
          56,
          57,
          58,
          59,
          60,
          61,
          62,
          63,
          64,
          65,
          66,
          67,
          68,
          69,
          70,
          71,
          72,
          73,
          74,
          75,
          76,
          77,
          78,
          79,
          80,
          81,
          82,
          83,
          84,
          85,
          86,
          87,
          88,
          89,
          90,
          91,
          92,
          93,
          94,
          95,
          96,
          97,
          98,
          99,
          100
         ],
         "y": [
          82.65950679779053,
          82.65950679779053,
          82.65950679779053,
          82.65950679779053,
          82.65950679779053,
          82.65950679779053,
          83.22804570198059,
          81.96462392807007,
          75.90019106864929,
          81.30132555961609,
          85.09159684181213,
          84.42829847335815,
          83.57548713684082,
          83.13329219818115,
          83.10170769691467,
          83.10170769691467,
          83.10170769691467,
          83.25963616371155,
          83.48073363304138,
          83.98610353469849,
          84.27037000656128,
          84.49147343635559,
          84.64940190315247,
          84.8704993724823,
          85.15477180480957,
          85.15477180480957,
          85.28110980987549,
          85.24952530860901,
          84.83891487121582,
          84.77573990821838,
          84.77573990821838,
          84.9968433380127,
          85.09159684181213,
          85.40745377540588,
          85.53379774093628,
          85.62855124473572,
          85.56538224220276,
          85.59696674346924,
          85.47062277793884,
          85.3758692741394,
          85.24952530860901,
          85.31270027160645,
          85.47062277793884,
          85.72331070899963,
          85.72331070899963,
          85.78647971153259,
          85.75489521026611,
          85.59696674346924,
          85.40745377540588,
          85.40745377540588,
          85.5022132396698,
          85.43903827667236,
          85.53379774093628,
          85.62855124473572,
          85.69172620773315,
          85.59696674346924,
          85.66014170646667,
          85.56538224220276,
          85.56538224220276,
          85.53379774093628,
          85.5022132396698,
          85.47062277793884,
          85.59696674346924,
          85.56538224220276,
          85.72331070899963,
          85.66014170646667,
          85.56538224220276,
          85.62855124473572,
          85.62855124473572,
          85.72331070899963,
          85.62855124473572,
          85.78647971153259,
          85.97599267959595,
          85.75489521026611,
          85.81806421279907,
          85.91282367706299,
          85.81806421279907,
          85.88123917579651,
          86.0075831413269,
          85.84965467453003,
          86.07075214385986,
          85.94440817832947,
          85.84965467453003,
          86.19709610939026,
          85.81806421279907,
          86.19709610939026,
          85.88123917579651,
          85.94440817832947,
          86.26026511192322,
          85.75489521026611,
          86.26026511192322,
          85.97599267959595,
          85.88123917579651,
          86.19709610939026,
          85.81806421279907,
          86.1655056476593,
          86.03916764259338,
          85.88123917579651,
          86.03916764259338,
          85.81806421279907
         ]
        }
       ],
       "layout": {
        "font": {
         "color": "black",
         "family": "Helvetica, Arial, sans-serif",
         "size": 12
        },
        "legend": {
         "orientation": "h",
         "x": 0.1,
         "y": 1.1
        },
        "margin": {
         "b": 30,
         "l": 40,
         "r": 40,
         "t": 40
        },
        "plot_bgcolor": "white",
        "template": {
         "data": {
          "bar": [
           {
            "error_x": {
             "color": "#2a3f5f"
            },
            "error_y": {
             "color": "#2a3f5f"
            },
            "marker": {
             "line": {
              "color": "#E5ECF6",
              "width": 0.5
             },
             "pattern": {
              "fillmode": "overlay",
              "size": 10,
              "solidity": 0.2
             }
            },
            "type": "bar"
           }
          ],
          "barpolar": [
           {
            "marker": {
             "line": {
              "color": "#E5ECF6",
              "width": 0.5
             },
             "pattern": {
              "fillmode": "overlay",
              "size": 10,
              "solidity": 0.2
             }
            },
            "type": "barpolar"
           }
          ],
          "carpet": [
           {
            "aaxis": {
             "endlinecolor": "#2a3f5f",
             "gridcolor": "white",
             "linecolor": "white",
             "minorgridcolor": "white",
             "startlinecolor": "#2a3f5f"
            },
            "baxis": {
             "endlinecolor": "#2a3f5f",
             "gridcolor": "white",
             "linecolor": "white",
             "minorgridcolor": "white",
             "startlinecolor": "#2a3f5f"
            },
            "type": "carpet"
           }
          ],
          "choropleth": [
           {
            "colorbar": {
             "outlinewidth": 0,
             "ticks": ""
            },
            "type": "choropleth"
           }
          ],
          "contour": [
           {
            "colorbar": {
             "outlinewidth": 0,
             "ticks": ""
            },
            "colorscale": [
             [
              0,
              "#0d0887"
             ],
             [
              0.1111111111111111,
              "#46039f"
             ],
             [
              0.2222222222222222,
              "#7201a8"
             ],
             [
              0.3333333333333333,
              "#9c179e"
             ],
             [
              0.4444444444444444,
              "#bd3786"
             ],
             [
              0.5555555555555556,
              "#d8576b"
             ],
             [
              0.6666666666666666,
              "#ed7953"
             ],
             [
              0.7777777777777778,
              "#fb9f3a"
             ],
             [
              0.8888888888888888,
              "#fdca26"
             ],
             [
              1,
              "#f0f921"
             ]
            ],
            "type": "contour"
           }
          ],
          "contourcarpet": [
           {
            "colorbar": {
             "outlinewidth": 0,
             "ticks": ""
            },
            "type": "contourcarpet"
           }
          ],
          "heatmap": [
           {
            "colorbar": {
             "outlinewidth": 0,
             "ticks": ""
            },
            "colorscale": [
             [
              0,
              "#0d0887"
             ],
             [
              0.1111111111111111,
              "#46039f"
             ],
             [
              0.2222222222222222,
              "#7201a8"
             ],
             [
              0.3333333333333333,
              "#9c179e"
             ],
             [
              0.4444444444444444,
              "#bd3786"
             ],
             [
              0.5555555555555556,
              "#d8576b"
             ],
             [
              0.6666666666666666,
              "#ed7953"
             ],
             [
              0.7777777777777778,
              "#fb9f3a"
             ],
             [
              0.8888888888888888,
              "#fdca26"
             ],
             [
              1,
              "#f0f921"
             ]
            ],
            "type": "heatmap"
           }
          ],
          "heatmapgl": [
           {
            "colorbar": {
             "outlinewidth": 0,
             "ticks": ""
            },
            "colorscale": [
             [
              0,
              "#0d0887"
             ],
             [
              0.1111111111111111,
              "#46039f"
             ],
             [
              0.2222222222222222,
              "#7201a8"
             ],
             [
              0.3333333333333333,
              "#9c179e"
             ],
             [
              0.4444444444444444,
              "#bd3786"
             ],
             [
              0.5555555555555556,
              "#d8576b"
             ],
             [
              0.6666666666666666,
              "#ed7953"
             ],
             [
              0.7777777777777778,
              "#fb9f3a"
             ],
             [
              0.8888888888888888,
              "#fdca26"
             ],
             [
              1,
              "#f0f921"
             ]
            ],
            "type": "heatmapgl"
           }
          ],
          "histogram": [
           {
            "marker": {
             "pattern": {
              "fillmode": "overlay",
              "size": 10,
              "solidity": 0.2
             }
            },
            "type": "histogram"
           }
          ],
          "histogram2d": [
           {
            "colorbar": {
             "outlinewidth": 0,
             "ticks": ""
            },
            "colorscale": [
             [
              0,
              "#0d0887"
             ],
             [
              0.1111111111111111,
              "#46039f"
             ],
             [
              0.2222222222222222,
              "#7201a8"
             ],
             [
              0.3333333333333333,
              "#9c179e"
             ],
             [
              0.4444444444444444,
              "#bd3786"
             ],
             [
              0.5555555555555556,
              "#d8576b"
             ],
             [
              0.6666666666666666,
              "#ed7953"
             ],
             [
              0.7777777777777778,
              "#fb9f3a"
             ],
             [
              0.8888888888888888,
              "#fdca26"
             ],
             [
              1,
              "#f0f921"
             ]
            ],
            "type": "histogram2d"
           }
          ],
          "histogram2dcontour": [
           {
            "colorbar": {
             "outlinewidth": 0,
             "ticks": ""
            },
            "colorscale": [
             [
              0,
              "#0d0887"
             ],
             [
              0.1111111111111111,
              "#46039f"
             ],
             [
              0.2222222222222222,
              "#7201a8"
             ],
             [
              0.3333333333333333,
              "#9c179e"
             ],
             [
              0.4444444444444444,
              "#bd3786"
             ],
             [
              0.5555555555555556,
              "#d8576b"
             ],
             [
              0.6666666666666666,
              "#ed7953"
             ],
             [
              0.7777777777777778,
              "#fb9f3a"
             ],
             [
              0.8888888888888888,
              "#fdca26"
             ],
             [
              1,
              "#f0f921"
             ]
            ],
            "type": "histogram2dcontour"
           }
          ],
          "mesh3d": [
           {
            "colorbar": {
             "outlinewidth": 0,
             "ticks": ""
            },
            "type": "mesh3d"
           }
          ],
          "parcoords": [
           {
            "line": {
             "colorbar": {
              "outlinewidth": 0,
              "ticks": ""
             }
            },
            "type": "parcoords"
           }
          ],
          "pie": [
           {
            "automargin": true,
            "type": "pie"
           }
          ],
          "scatter": [
           {
            "fillpattern": {
             "fillmode": "overlay",
             "size": 10,
             "solidity": 0.2
            },
            "type": "scatter"
           }
          ],
          "scatter3d": [
           {
            "line": {
             "colorbar": {
              "outlinewidth": 0,
              "ticks": ""
             }
            },
            "marker": {
             "colorbar": {
              "outlinewidth": 0,
              "ticks": ""
             }
            },
            "type": "scatter3d"
           }
          ],
          "scattercarpet": [
           {
            "marker": {
             "colorbar": {
              "outlinewidth": 0,
              "ticks": ""
             }
            },
            "type": "scattercarpet"
           }
          ],
          "scattergeo": [
           {
            "marker": {
             "colorbar": {
              "outlinewidth": 0,
              "ticks": ""
             }
            },
            "type": "scattergeo"
           }
          ],
          "scattergl": [
           {
            "marker": {
             "colorbar": {
              "outlinewidth": 0,
              "ticks": ""
             }
            },
            "type": "scattergl"
           }
          ],
          "scattermapbox": [
           {
            "marker": {
             "colorbar": {
              "outlinewidth": 0,
              "ticks": ""
             }
            },
            "type": "scattermapbox"
           }
          ],
          "scatterpolar": [
           {
            "marker": {
             "colorbar": {
              "outlinewidth": 0,
              "ticks": ""
             }
            },
            "type": "scatterpolar"
           }
          ],
          "scatterpolargl": [
           {
            "marker": {
             "colorbar": {
              "outlinewidth": 0,
              "ticks": ""
             }
            },
            "type": "scatterpolargl"
           }
          ],
          "scatterternary": [
           {
            "marker": {
             "colorbar": {
              "outlinewidth": 0,
              "ticks": ""
             }
            },
            "type": "scatterternary"
           }
          ],
          "surface": [
           {
            "colorbar": {
             "outlinewidth": 0,
             "ticks": ""
            },
            "colorscale": [
             [
              0,
              "#0d0887"
             ],
             [
              0.1111111111111111,
              "#46039f"
             ],
             [
              0.2222222222222222,
              "#7201a8"
             ],
             [
              0.3333333333333333,
              "#9c179e"
             ],
             [
              0.4444444444444444,
              "#bd3786"
             ],
             [
              0.5555555555555556,
              "#d8576b"
             ],
             [
              0.6666666666666666,
              "#ed7953"
             ],
             [
              0.7777777777777778,
              "#fb9f3a"
             ],
             [
              0.8888888888888888,
              "#fdca26"
             ],
             [
              1,
              "#f0f921"
             ]
            ],
            "type": "surface"
           }
          ],
          "table": [
           {
            "cells": {
             "fill": {
              "color": "#EBF0F8"
             },
             "line": {
              "color": "white"
             }
            },
            "header": {
             "fill": {
              "color": "#C8D4E3"
             },
             "line": {
              "color": "white"
             }
            },
            "type": "table"
           }
          ]
         },
         "layout": {
          "annotationdefaults": {
           "arrowcolor": "#2a3f5f",
           "arrowhead": 0,
           "arrowwidth": 1
          },
          "autotypenumbers": "strict",
          "coloraxis": {
           "colorbar": {
            "outlinewidth": 0,
            "ticks": ""
           }
          },
          "colorscale": {
           "diverging": [
            [
             0,
             "#8e0152"
            ],
            [
             0.1,
             "#c51b7d"
            ],
            [
             0.2,
             "#de77ae"
            ],
            [
             0.3,
             "#f1b6da"
            ],
            [
             0.4,
             "#fde0ef"
            ],
            [
             0.5,
             "#f7f7f7"
            ],
            [
             0.6,
             "#e6f5d0"
            ],
            [
             0.7,
             "#b8e186"
            ],
            [
             0.8,
             "#7fbc41"
            ],
            [
             0.9,
             "#4d9221"
            ],
            [
             1,
             "#276419"
            ]
           ],
           "sequential": [
            [
             0,
             "#0d0887"
            ],
            [
             0.1111111111111111,
             "#46039f"
            ],
            [
             0.2222222222222222,
             "#7201a8"
            ],
            [
             0.3333333333333333,
             "#9c179e"
            ],
            [
             0.4444444444444444,
             "#bd3786"
            ],
            [
             0.5555555555555556,
             "#d8576b"
            ],
            [
             0.6666666666666666,
             "#ed7953"
            ],
            [
             0.7777777777777778,
             "#fb9f3a"
            ],
            [
             0.8888888888888888,
             "#fdca26"
            ],
            [
             1,
             "#f0f921"
            ]
           ],
           "sequentialminus": [
            [
             0,
             "#0d0887"
            ],
            [
             0.1111111111111111,
             "#46039f"
            ],
            [
             0.2222222222222222,
             "#7201a8"
            ],
            [
             0.3333333333333333,
             "#9c179e"
            ],
            [
             0.4444444444444444,
             "#bd3786"
            ],
            [
             0.5555555555555556,
             "#d8576b"
            ],
            [
             0.6666666666666666,
             "#ed7953"
            ],
            [
             0.7777777777777778,
             "#fb9f3a"
            ],
            [
             0.8888888888888888,
             "#fdca26"
            ],
            [
             1,
             "#f0f921"
            ]
           ]
          },
          "colorway": [
           "#636efa",
           "#EF553B",
           "#00cc96",
           "#ab63fa",
           "#FFA15A",
           "#19d3f3",
           "#FF6692",
           "#B6E880",
           "#FF97FF",
           "#FECB52"
          ],
          "font": {
           "color": "#2a3f5f"
          },
          "geo": {
           "bgcolor": "white",
           "lakecolor": "white",
           "landcolor": "#E5ECF6",
           "showlakes": true,
           "showland": true,
           "subunitcolor": "white"
          },
          "hoverlabel": {
           "align": "left"
          },
          "hovermode": "closest",
          "mapbox": {
           "style": "light"
          },
          "paper_bgcolor": "white",
          "plot_bgcolor": "#E5ECF6",
          "polar": {
           "angularaxis": {
            "gridcolor": "white",
            "linecolor": "white",
            "ticks": ""
           },
           "bgcolor": "#E5ECF6",
           "radialaxis": {
            "gridcolor": "white",
            "linecolor": "white",
            "ticks": ""
           }
          },
          "scene": {
           "xaxis": {
            "backgroundcolor": "#E5ECF6",
            "gridcolor": "white",
            "gridwidth": 2,
            "linecolor": "white",
            "showbackground": true,
            "ticks": "",
            "zerolinecolor": "white"
           },
           "yaxis": {
            "backgroundcolor": "#E5ECF6",
            "gridcolor": "white",
            "gridwidth": 2,
            "linecolor": "white",
            "showbackground": true,
            "ticks": "",
            "zerolinecolor": "white"
           },
           "zaxis": {
            "backgroundcolor": "#E5ECF6",
            "gridcolor": "white",
            "gridwidth": 2,
            "linecolor": "white",
            "showbackground": true,
            "ticks": "",
            "zerolinecolor": "white"
           }
          },
          "shapedefaults": {
           "line": {
            "color": "#2a3f5f"
           }
          },
          "ternary": {
           "aaxis": {
            "gridcolor": "white",
            "linecolor": "white",
            "ticks": ""
           },
           "baxis": {
            "gridcolor": "white",
            "linecolor": "white",
            "ticks": ""
           },
           "bgcolor": "#E5ECF6",
           "caxis": {
            "gridcolor": "white",
            "linecolor": "white",
            "ticks": ""
           }
          },
          "title": {
           "x": 0.05
          },
          "xaxis": {
           "automargin": true,
           "gridcolor": "white",
           "linecolor": "white",
           "ticks": "",
           "title": {
            "standoff": 15
           },
           "zerolinecolor": "white",
           "zerolinewidth": 2
          },
          "yaxis": {
           "automargin": true,
           "gridcolor": "white",
           "linecolor": "white",
           "ticks": "",
           "title": {
            "standoff": 15
           },
           "zerolinecolor": "white",
           "zerolinewidth": 2
          }
         }
        },
        "title": {
         "text": "Training and Testing Accuracy",
         "x": 0.5,
         "xanchor": "center",
         "y": 0.9,
         "yanchor": "top"
        },
        "xaxis": {
         "gridcolor": "LightGrey",
         "linecolor": "black",
         "linewidth": 2,
         "showline": true,
         "title": {
          "text": "Epoch"
         }
        },
        "yaxis": {
         "gridcolor": "LightGrey",
         "linecolor": "black",
         "linewidth": 2,
         "showline": true,
         "title": {
          "text": "Accuracy (%)"
         }
        }
       }
      }
     },
     "metadata": {},
     "output_type": "display_data"
    },
    {
     "data": {
      "application/vnd.plotly.v1+json": {
       "config": {
        "plotlyServerURL": "https://plot.ly"
       },
       "data": [
        {
         "line": {
          "color": "RoyalBlue",
          "width": 2
         },
         "marker": {
          "color": "RoyalBlue",
          "line": {
           "color": "DarkSlateGrey",
           "width": 1
          },
          "size": 6
         },
         "mode": "lines+markers",
         "name": "train",
         "type": "scatter",
         "x": [
          1,
          2,
          3,
          4,
          5,
          6,
          7,
          8,
          9,
          10,
          11,
          12,
          13,
          14,
          15,
          16,
          17,
          18,
          19,
          20,
          21,
          22,
          23,
          24,
          25,
          26,
          27,
          28,
          29,
          30,
          31,
          32,
          33,
          34,
          35,
          36,
          37,
          38,
          39,
          40,
          41,
          42,
          43,
          44,
          45,
          46,
          47,
          48,
          49,
          50,
          51,
          52,
          53,
          54,
          55,
          56,
          57,
          58,
          59,
          60,
          61,
          62,
          63,
          64,
          65,
          66,
          67,
          68,
          69,
          70,
          71,
          72,
          73,
          74,
          75,
          76,
          77,
          78,
          79,
          80,
          81,
          82,
          83,
          84,
          85,
          86,
          87,
          88,
          89,
          90,
          91,
          92,
          93,
          94,
          95,
          96,
          97,
          98,
          99,
          100
         ],
         "y": [
          0.10794885456562042,
          0.13623325526714325,
          0.05449695885181427,
          0.019562693312764168,
          0.005255941767245531,
          0.0001263883023057133,
          0.03491489216685295,
          0.2533498704433441,
          0.5862294435501099,
          0.7342601418495178,
          0.7004198431968689,
          0.554134726524353,
          0.37635338306427,
          0.23482061922550201,
          0.14335137605667114,
          0.10369668155908585,
          0.09146576374769211,
          0.09328947961330414,
          0.10604620724916458,
          0.13143566250801086,
          0.17136529088020325,
          0.2262994647026062,
          0.293831467628479,
          0.3670826554298401,
          0.43612140417099,
          0.49175113439559937,
          0.5270319581031799,
          0.5379096865653992,
          0.4974922239780426,
          0.40476903319358826,
          0.3326619267463684,
          0.32544514536857605,
          0.3598305284976959,
          0.4163113534450531,
          0.47451797127723694,
          0.5164722800254822,
          0.5372231006622314,
          0.5383451581001282,
          0.523526132106781,
          0.4976826608181,
          0.4748368561267853,
          0.46703457832336426,
          0.4804897904396057,
          0.5128350853919983,
          0.5526615381240845,
          0.5843944549560547,
          0.5957053303718567,
          0.5823545455932617,
          0.5500687956809998,
          0.5144147872924805,
          0.4919296205043793,
          0.4933093190193176,
          0.5176225900650024,
          0.5544012188911438,
          0.5879372954368591,
          0.601978063583374,
          0.5789970755577087,
          0.6348063945770264,
          0.6683869957923889,
          0.6558494567871094,
          0.6255704164505005,
          0.6239732503890991,
          0.6915835738182068,
          0.7452850341796875,
          0.7148842215538025,
          0.7128036618232727,
          0.7722203135490417,
          0.7551534175872803,
          0.6983733773231506,
          0.7568991780281067,
          0.8016493916511536,
          0.7528936862945557,
          0.7958977222442627,
          0.8820934295654297,
          0.8209359049797058,
          0.8414824604988098,
          0.8983392119407654,
          0.826724648475647,
          0.8641996383666992,
          0.9071846604347229,
          0.8483070731163025,
          0.9241633415222168,
          0.8939814567565918,
          0.8652428388595581,
          0.9346258640289307,
          0.8260394334793091,
          0.9467234015464783,
          0.8700001835823059,
          0.8838733434677124,
          0.9495465755462646,
          0.8516082763671875,
          0.9452743530273438,
          0.9019516706466675,
          0.8701937198638916,
          0.9732524156570435,
          0.845427930355072,
          0.945932149887085,
          0.9062260389328003,
          0.8772515654563904,
          0.975306510925293
         ]
        },
        {
         "line": {
          "color": "Crimson",
          "dash": "dot",
          "width": 2
         },
         "marker": {
          "color": "Crimson",
          "line": {
           "color": "DarkSlateGrey",
           "width": 1
          },
          "size": 6
         },
         "mode": "lines+markers",
         "name": "Test",
         "type": "scatter",
         "x": [
          1,
          2,
          3,
          4,
          5,
          6,
          7,
          8,
          9,
          10,
          11,
          12,
          13,
          14,
          15,
          16,
          17,
          18,
          19,
          20,
          21,
          22,
          23,
          24,
          25,
          26,
          27,
          28,
          29,
          30,
          31,
          32,
          33,
          34,
          35,
          36,
          37,
          38,
          39,
          40,
          41,
          42,
          43,
          44,
          45,
          46,
          47,
          48,
          49,
          50,
          51,
          52,
          53,
          54,
          55,
          56,
          57,
          58,
          59,
          60,
          61,
          62,
          63,
          64,
          65,
          66,
          67,
          68,
          69,
          70,
          71,
          72,
          73,
          74,
          75,
          76,
          77,
          78,
          79,
          80,
          81,
          82,
          83,
          84,
          85,
          86,
          87,
          88,
          89,
          90,
          91,
          92,
          93,
          94,
          95,
          96,
          97,
          98,
          99,
          100
         ],
         "y": [
          0.2171773761510849,
          0.08968199789524078,
          0.03229247406125069,
          0.009146862663328648,
          0.0000064282298808393534,
          0.041227396577596664,
          0.3246650695800781,
          0.7721550464630127,
          0.963756799697876,
          0.8896762728691101,
          0.6688970327377319,
          0.4301048219203949,
          0.2568362355232239,
          0.15200038254261017,
          0.10805922746658325,
          0.09425054490566254,
          0.09560703486204147,
          0.10805922746658325,
          0.13358306884765625,
          0.1749095916748047,
          0.23293371498584747,
          0.3053753674030304,
          0.384288489818573,
          0.4581080675125122,
          0.5169135928153992,
          0.5535939931869507,
          0.5640650391578674,
          0.5225823521614075,
          0.4174734055995941,
          0.33887138962745667,
          0.33198854327201843,
          0.3707476556301117,
          0.4335746169090271,
          0.4994899034500122,
          0.5477667450904846,
          0.5708785057067871,
          0.571841299533844,
          0.5534126162528992,
          0.5239946246147156,
          0.49794214963912964,
          0.4886423349380493,
          0.5030910968780518,
          0.5388438105583191,
          0.5828128457069397,
          0.6175676584243774,
          0.6279687285423279,
          0.6101417541503906,
          0.573344349861145,
          0.53520268201828,
          0.5125150680541992,
          0.5152432322502136,
          0.5424384474754333,
          0.5819038152694702,
          0.6154759526252747,
          0.6272380352020264,
          0.5984565615653992,
          0.6620872616767883,
          0.7026349902153015,
          0.690229058265686,
          0.6561574339866638,
          0.6524984836578369,
          0.728606104850769,
          0.7877906560897827,
          0.7531086206436157,
          0.7509298920631409,
          0.8190115094184875,
          0.800535261631012,
          0.7352574467658997,
          0.8026156425476074,
          0.8545161485671997,
          0.7944847345352173,
          0.8423561453819275,
          0.9415216445922852,
          0.8691109418869019,
          0.8932585716247559,
          0.9617592096328735,
          0.87430340051651,
          0.9180357456207275,
          0.9685395359992981,
          0.8931298851966858,
          0.9843569397926331,
          0.9474598169326782,
          0.9120897650718689,
          0.9986690282821655,
          0.861841082572937,
          1.009132742881775,
          0.9119374752044678,
          0.9275373220443726,
          1.0078786611557007,
          0.8854190111160278,
          1.0012540817260742,
          0.9463974237442017,
          0.9044852256774902,
          1.0317777395248413,
          0.8714162707328796,
          0.9965463280677795,
          0.9465879797935486,
          0.9089735150337219,
          1.0280171632766724,
          0.8681218028068542
         ]
        }
       ],
       "layout": {
        "font": {
         "color": "black",
         "family": "Helvetica, Arial, sans-serif",
         "size": 12
        },
        "legend": {
         "orientation": "h",
         "x": 0.1,
         "y": 1.1
        },
        "margin": {
         "b": 30,
         "l": 40,
         "r": 40,
         "t": 40
        },
        "plot_bgcolor": "white",
        "template": {
         "data": {
          "bar": [
           {
            "error_x": {
             "color": "#2a3f5f"
            },
            "error_y": {
             "color": "#2a3f5f"
            },
            "marker": {
             "line": {
              "color": "#E5ECF6",
              "width": 0.5
             },
             "pattern": {
              "fillmode": "overlay",
              "size": 10,
              "solidity": 0.2
             }
            },
            "type": "bar"
           }
          ],
          "barpolar": [
           {
            "marker": {
             "line": {
              "color": "#E5ECF6",
              "width": 0.5
             },
             "pattern": {
              "fillmode": "overlay",
              "size": 10,
              "solidity": 0.2
             }
            },
            "type": "barpolar"
           }
          ],
          "carpet": [
           {
            "aaxis": {
             "endlinecolor": "#2a3f5f",
             "gridcolor": "white",
             "linecolor": "white",
             "minorgridcolor": "white",
             "startlinecolor": "#2a3f5f"
            },
            "baxis": {
             "endlinecolor": "#2a3f5f",
             "gridcolor": "white",
             "linecolor": "white",
             "minorgridcolor": "white",
             "startlinecolor": "#2a3f5f"
            },
            "type": "carpet"
           }
          ],
          "choropleth": [
           {
            "colorbar": {
             "outlinewidth": 0,
             "ticks": ""
            },
            "type": "choropleth"
           }
          ],
          "contour": [
           {
            "colorbar": {
             "outlinewidth": 0,
             "ticks": ""
            },
            "colorscale": [
             [
              0,
              "#0d0887"
             ],
             [
              0.1111111111111111,
              "#46039f"
             ],
             [
              0.2222222222222222,
              "#7201a8"
             ],
             [
              0.3333333333333333,
              "#9c179e"
             ],
             [
              0.4444444444444444,
              "#bd3786"
             ],
             [
              0.5555555555555556,
              "#d8576b"
             ],
             [
              0.6666666666666666,
              "#ed7953"
             ],
             [
              0.7777777777777778,
              "#fb9f3a"
             ],
             [
              0.8888888888888888,
              "#fdca26"
             ],
             [
              1,
              "#f0f921"
             ]
            ],
            "type": "contour"
           }
          ],
          "contourcarpet": [
           {
            "colorbar": {
             "outlinewidth": 0,
             "ticks": ""
            },
            "type": "contourcarpet"
           }
          ],
          "heatmap": [
           {
            "colorbar": {
             "outlinewidth": 0,
             "ticks": ""
            },
            "colorscale": [
             [
              0,
              "#0d0887"
             ],
             [
              0.1111111111111111,
              "#46039f"
             ],
             [
              0.2222222222222222,
              "#7201a8"
             ],
             [
              0.3333333333333333,
              "#9c179e"
             ],
             [
              0.4444444444444444,
              "#bd3786"
             ],
             [
              0.5555555555555556,
              "#d8576b"
             ],
             [
              0.6666666666666666,
              "#ed7953"
             ],
             [
              0.7777777777777778,
              "#fb9f3a"
             ],
             [
              0.8888888888888888,
              "#fdca26"
             ],
             [
              1,
              "#f0f921"
             ]
            ],
            "type": "heatmap"
           }
          ],
          "heatmapgl": [
           {
            "colorbar": {
             "outlinewidth": 0,
             "ticks": ""
            },
            "colorscale": [
             [
              0,
              "#0d0887"
             ],
             [
              0.1111111111111111,
              "#46039f"
             ],
             [
              0.2222222222222222,
              "#7201a8"
             ],
             [
              0.3333333333333333,
              "#9c179e"
             ],
             [
              0.4444444444444444,
              "#bd3786"
             ],
             [
              0.5555555555555556,
              "#d8576b"
             ],
             [
              0.6666666666666666,
              "#ed7953"
             ],
             [
              0.7777777777777778,
              "#fb9f3a"
             ],
             [
              0.8888888888888888,
              "#fdca26"
             ],
             [
              1,
              "#f0f921"
             ]
            ],
            "type": "heatmapgl"
           }
          ],
          "histogram": [
           {
            "marker": {
             "pattern": {
              "fillmode": "overlay",
              "size": 10,
              "solidity": 0.2
             }
            },
            "type": "histogram"
           }
          ],
          "histogram2d": [
           {
            "colorbar": {
             "outlinewidth": 0,
             "ticks": ""
            },
            "colorscale": [
             [
              0,
              "#0d0887"
             ],
             [
              0.1111111111111111,
              "#46039f"
             ],
             [
              0.2222222222222222,
              "#7201a8"
             ],
             [
              0.3333333333333333,
              "#9c179e"
             ],
             [
              0.4444444444444444,
              "#bd3786"
             ],
             [
              0.5555555555555556,
              "#d8576b"
             ],
             [
              0.6666666666666666,
              "#ed7953"
             ],
             [
              0.7777777777777778,
              "#fb9f3a"
             ],
             [
              0.8888888888888888,
              "#fdca26"
             ],
             [
              1,
              "#f0f921"
             ]
            ],
            "type": "histogram2d"
           }
          ],
          "histogram2dcontour": [
           {
            "colorbar": {
             "outlinewidth": 0,
             "ticks": ""
            },
            "colorscale": [
             [
              0,
              "#0d0887"
             ],
             [
              0.1111111111111111,
              "#46039f"
             ],
             [
              0.2222222222222222,
              "#7201a8"
             ],
             [
              0.3333333333333333,
              "#9c179e"
             ],
             [
              0.4444444444444444,
              "#bd3786"
             ],
             [
              0.5555555555555556,
              "#d8576b"
             ],
             [
              0.6666666666666666,
              "#ed7953"
             ],
             [
              0.7777777777777778,
              "#fb9f3a"
             ],
             [
              0.8888888888888888,
              "#fdca26"
             ],
             [
              1,
              "#f0f921"
             ]
            ],
            "type": "histogram2dcontour"
           }
          ],
          "mesh3d": [
           {
            "colorbar": {
             "outlinewidth": 0,
             "ticks": ""
            },
            "type": "mesh3d"
           }
          ],
          "parcoords": [
           {
            "line": {
             "colorbar": {
              "outlinewidth": 0,
              "ticks": ""
             }
            },
            "type": "parcoords"
           }
          ],
          "pie": [
           {
            "automargin": true,
            "type": "pie"
           }
          ],
          "scatter": [
           {
            "fillpattern": {
             "fillmode": "overlay",
             "size": 10,
             "solidity": 0.2
            },
            "type": "scatter"
           }
          ],
          "scatter3d": [
           {
            "line": {
             "colorbar": {
              "outlinewidth": 0,
              "ticks": ""
             }
            },
            "marker": {
             "colorbar": {
              "outlinewidth": 0,
              "ticks": ""
             }
            },
            "type": "scatter3d"
           }
          ],
          "scattercarpet": [
           {
            "marker": {
             "colorbar": {
              "outlinewidth": 0,
              "ticks": ""
             }
            },
            "type": "scattercarpet"
           }
          ],
          "scattergeo": [
           {
            "marker": {
             "colorbar": {
              "outlinewidth": 0,
              "ticks": ""
             }
            },
            "type": "scattergeo"
           }
          ],
          "scattergl": [
           {
            "marker": {
             "colorbar": {
              "outlinewidth": 0,
              "ticks": ""
             }
            },
            "type": "scattergl"
           }
          ],
          "scattermapbox": [
           {
            "marker": {
             "colorbar": {
              "outlinewidth": 0,
              "ticks": ""
             }
            },
            "type": "scattermapbox"
           }
          ],
          "scatterpolar": [
           {
            "marker": {
             "colorbar": {
              "outlinewidth": 0,
              "ticks": ""
             }
            },
            "type": "scatterpolar"
           }
          ],
          "scatterpolargl": [
           {
            "marker": {
             "colorbar": {
              "outlinewidth": 0,
              "ticks": ""
             }
            },
            "type": "scatterpolargl"
           }
          ],
          "scatterternary": [
           {
            "marker": {
             "colorbar": {
              "outlinewidth": 0,
              "ticks": ""
             }
            },
            "type": "scatterternary"
           }
          ],
          "surface": [
           {
            "colorbar": {
             "outlinewidth": 0,
             "ticks": ""
            },
            "colorscale": [
             [
              0,
              "#0d0887"
             ],
             [
              0.1111111111111111,
              "#46039f"
             ],
             [
              0.2222222222222222,
              "#7201a8"
             ],
             [
              0.3333333333333333,
              "#9c179e"
             ],
             [
              0.4444444444444444,
              "#bd3786"
             ],
             [
              0.5555555555555556,
              "#d8576b"
             ],
             [
              0.6666666666666666,
              "#ed7953"
             ],
             [
              0.7777777777777778,
              "#fb9f3a"
             ],
             [
              0.8888888888888888,
              "#fdca26"
             ],
             [
              1,
              "#f0f921"
             ]
            ],
            "type": "surface"
           }
          ],
          "table": [
           {
            "cells": {
             "fill": {
              "color": "#EBF0F8"
             },
             "line": {
              "color": "white"
             }
            },
            "header": {
             "fill": {
              "color": "#C8D4E3"
             },
             "line": {
              "color": "white"
             }
            },
            "type": "table"
           }
          ]
         },
         "layout": {
          "annotationdefaults": {
           "arrowcolor": "#2a3f5f",
           "arrowhead": 0,
           "arrowwidth": 1
          },
          "autotypenumbers": "strict",
          "coloraxis": {
           "colorbar": {
            "outlinewidth": 0,
            "ticks": ""
           }
          },
          "colorscale": {
           "diverging": [
            [
             0,
             "#8e0152"
            ],
            [
             0.1,
             "#c51b7d"
            ],
            [
             0.2,
             "#de77ae"
            ],
            [
             0.3,
             "#f1b6da"
            ],
            [
             0.4,
             "#fde0ef"
            ],
            [
             0.5,
             "#f7f7f7"
            ],
            [
             0.6,
             "#e6f5d0"
            ],
            [
             0.7,
             "#b8e186"
            ],
            [
             0.8,
             "#7fbc41"
            ],
            [
             0.9,
             "#4d9221"
            ],
            [
             1,
             "#276419"
            ]
           ],
           "sequential": [
            [
             0,
             "#0d0887"
            ],
            [
             0.1111111111111111,
             "#46039f"
            ],
            [
             0.2222222222222222,
             "#7201a8"
            ],
            [
             0.3333333333333333,
             "#9c179e"
            ],
            [
             0.4444444444444444,
             "#bd3786"
            ],
            [
             0.5555555555555556,
             "#d8576b"
            ],
            [
             0.6666666666666666,
             "#ed7953"
            ],
            [
             0.7777777777777778,
             "#fb9f3a"
            ],
            [
             0.8888888888888888,
             "#fdca26"
            ],
            [
             1,
             "#f0f921"
            ]
           ],
           "sequentialminus": [
            [
             0,
             "#0d0887"
            ],
            [
             0.1111111111111111,
             "#46039f"
            ],
            [
             0.2222222222222222,
             "#7201a8"
            ],
            [
             0.3333333333333333,
             "#9c179e"
            ],
            [
             0.4444444444444444,
             "#bd3786"
            ],
            [
             0.5555555555555556,
             "#d8576b"
            ],
            [
             0.6666666666666666,
             "#ed7953"
            ],
            [
             0.7777777777777778,
             "#fb9f3a"
            ],
            [
             0.8888888888888888,
             "#fdca26"
            ],
            [
             1,
             "#f0f921"
            ]
           ]
          },
          "colorway": [
           "#636efa",
           "#EF553B",
           "#00cc96",
           "#ab63fa",
           "#FFA15A",
           "#19d3f3",
           "#FF6692",
           "#B6E880",
           "#FF97FF",
           "#FECB52"
          ],
          "font": {
           "color": "#2a3f5f"
          },
          "geo": {
           "bgcolor": "white",
           "lakecolor": "white",
           "landcolor": "#E5ECF6",
           "showlakes": true,
           "showland": true,
           "subunitcolor": "white"
          },
          "hoverlabel": {
           "align": "left"
          },
          "hovermode": "closest",
          "mapbox": {
           "style": "light"
          },
          "paper_bgcolor": "white",
          "plot_bgcolor": "#E5ECF6",
          "polar": {
           "angularaxis": {
            "gridcolor": "white",
            "linecolor": "white",
            "ticks": ""
           },
           "bgcolor": "#E5ECF6",
           "radialaxis": {
            "gridcolor": "white",
            "linecolor": "white",
            "ticks": ""
           }
          },
          "scene": {
           "xaxis": {
            "backgroundcolor": "#E5ECF6",
            "gridcolor": "white",
            "gridwidth": 2,
            "linecolor": "white",
            "showbackground": true,
            "ticks": "",
            "zerolinecolor": "white"
           },
           "yaxis": {
            "backgroundcolor": "#E5ECF6",
            "gridcolor": "white",
            "gridwidth": 2,
            "linecolor": "white",
            "showbackground": true,
            "ticks": "",
            "zerolinecolor": "white"
           },
           "zaxis": {
            "backgroundcolor": "#E5ECF6",
            "gridcolor": "white",
            "gridwidth": 2,
            "linecolor": "white",
            "showbackground": true,
            "ticks": "",
            "zerolinecolor": "white"
           }
          },
          "shapedefaults": {
           "line": {
            "color": "#2a3f5f"
           }
          },
          "ternary": {
           "aaxis": {
            "gridcolor": "white",
            "linecolor": "white",
            "ticks": ""
           },
           "baxis": {
            "gridcolor": "white",
            "linecolor": "white",
            "ticks": ""
           },
           "bgcolor": "#E5ECF6",
           "caxis": {
            "gridcolor": "white",
            "linecolor": "white",
            "ticks": ""
           }
          },
          "title": {
           "x": 0.05
          },
          "xaxis": {
           "automargin": true,
           "gridcolor": "white",
           "linecolor": "white",
           "ticks": "",
           "title": {
            "standoff": 15
           },
           "zerolinecolor": "white",
           "zerolinewidth": 2
          },
          "yaxis": {
           "automargin": true,
           "gridcolor": "white",
           "linecolor": "white",
           "ticks": "",
           "title": {
            "standoff": 15
           },
           "zerolinecolor": "white",
           "zerolinewidth": 2
          }
         }
        },
        "title": {
         "text": "Training and Testing Discrimination",
         "x": 0.5,
         "xanchor": "center",
         "y": 0.9,
         "yanchor": "top"
        },
        "xaxis": {
         "gridcolor": "LightGrey",
         "linecolor": "black",
         "linewidth": 2,
         "showline": true,
         "title": {
          "text": "Epoch"
         }
        },
        "yaxis": {
         "gridcolor": "LightGrey",
         "linecolor": "black",
         "linewidth": 2,
         "showline": true,
         "title": {
          "text": "Discrimination"
         }
        }
       }
      }
     },
     "metadata": {},
     "output_type": "display_data"
    },
    {
     "data": {
      "application/vnd.plotly.v1+json": {
       "config": {
        "plotlyServerURL": "https://plot.ly"
       },
       "data": [
        {
         "line": {
          "color": "RoyalBlue",
          "width": 2
         },
         "marker": {
          "color": "RoyalBlue",
          "line": {
           "color": "DarkSlateGrey",
           "width": 1
          },
          "size": 6
         },
         "mode": "lines+markers",
         "name": "train",
         "type": "scatter",
         "x": [
          1,
          2,
          3,
          4,
          5,
          6,
          7,
          8,
          9,
          10,
          11,
          12,
          13,
          14,
          15,
          16,
          17,
          18,
          19,
          20,
          21,
          22,
          23,
          24,
          25,
          26,
          27,
          28,
          29,
          30,
          31,
          32,
          33,
          34,
          35,
          36,
          37,
          38,
          39,
          40,
          41,
          42,
          43,
          44,
          45,
          46,
          47,
          48,
          49,
          50,
          51,
          52,
          53,
          54,
          55,
          56,
          57,
          58,
          59,
          60,
          61,
          62,
          63,
          64,
          65,
          66,
          67,
          68,
          69,
          70,
          71,
          72,
          73,
          74,
          75,
          76,
          77,
          78,
          79,
          80,
          81,
          82,
          83,
          84,
          85,
          86,
          87,
          88,
          89,
          90,
          91,
          92,
          93,
          94,
          95,
          96,
          97,
          98,
          99,
          100
         ],
         "y": [
          0.8920511454343796,
          0.8637667447328568,
          0.9455030411481857,
          0.9804373066872358,
          0.9947440582327545,
          0.9998736116976943,
          0.965085107833147,
          0.7466501295566559,
          0.41377055644989014,
          0.2657398581504822,
          0.2995801568031311,
          0.445865273475647,
          0.62364661693573,
          0.765179380774498,
          0.8566486239433289,
          0.8963033184409142,
          0.9085342362523079,
          0.9067105203866959,
          0.8939537927508354,
          0.8685643374919891,
          0.8286347091197968,
          0.7737005352973938,
          0.706168532371521,
          0.6329173445701599,
          0.56387859582901,
          0.5082488656044006,
          0.47296804189682007,
          0.46209031343460083,
          0.5025077760219574,
          0.5952309668064117,
          0.6673380732536316,
          0.674554854631424,
          0.6401694715023041,
          0.5836886465549469,
          0.5254820287227631,
          0.4835277199745178,
          0.46277689933776855,
          0.4616548418998718,
          0.476473867893219,
          0.5023173391819,
          0.5251631438732147,
          0.5329654216766357,
          0.5195102095603943,
          0.4871649146080017,
          0.4473384618759155,
          0.4156055450439453,
          0.4042946696281433,
          0.4176454544067383,
          0.44993120431900024,
          0.48558521270751953,
          0.5080703794956207,
          0.5066906809806824,
          0.48237740993499756,
          0.4455987811088562,
          0.41206270456314087,
          0.398021936416626,
          0.42100292444229126,
          0.36519360542297363,
          0.3316130042076111,
          0.3441505432128906,
          0.3744295835494995,
          0.3760267496109009,
          0.3084164261817932,
          0.2547149658203125,
          0.2851157784461975,
          0.2871963381767273,
          0.22777968645095825,
          0.24484658241271973,
          0.30162662267684937,
          0.2431008219718933,
          0.19835060834884644,
          0.24710631370544434,
          0.2041022777557373,
          0.11790657043457031,
          0.1790640950202942,
          0.15851753950119019,
          0.10166078805923462,
          0.17327535152435303,
          0.13580036163330078,
          0.0928153395652771,
          0.1516929268836975,
          0.0758366584777832,
          0.1060185432434082,
          0.1347571611404419,
          0.06537413597106934,
          0.17396056652069092,
          0.05327659845352173,
          0.1299998164176941,
          0.1161266565322876,
          0.05045342445373535,
          0.1483917236328125,
          0.05472564697265625,
          0.09804832935333252,
          0.1298062801361084,
          0.026747584342956543,
          0.15457206964492798,
          0.05406785011291504,
          0.09377396106719971,
          0.12274843454360962,
          0.02469348907470703
         ]
        },
        {
         "line": {
          "color": "Crimson",
          "dash": "dot",
          "width": 2
         },
         "marker": {
          "color": "Crimson",
          "line": {
           "color": "DarkSlateGrey",
           "width": 1
          },
          "size": 6
         },
         "mode": "lines+markers",
         "name": "Test",
         "type": "scatter",
         "x": [
          1,
          2,
          3,
          4,
          5,
          6,
          7,
          8,
          9,
          10,
          11,
          12,
          13,
          14,
          15,
          16,
          17,
          18,
          19,
          20,
          21,
          22,
          23,
          24,
          25,
          26,
          27,
          28,
          29,
          30,
          31,
          32,
          33,
          34,
          35,
          36,
          37,
          38,
          39,
          40,
          41,
          42,
          43,
          44,
          45,
          46,
          47,
          48,
          49,
          50,
          51,
          52,
          53,
          54,
          55,
          56,
          57,
          58,
          59,
          60,
          61,
          62,
          63,
          64,
          65,
          66,
          67,
          68,
          69,
          70,
          71,
          72,
          73,
          74,
          75,
          76,
          77,
          78,
          79,
          80,
          81,
          82,
          83,
          84,
          85,
          86,
          87,
          88,
          89,
          90,
          91,
          92,
          93,
          94,
          95,
          96,
          97,
          98,
          99,
          100
         ],
         "y": [
          0.8920511454343796,
          0.8637667447328568,
          0.9455030411481857,
          0.9804373066872358,
          0.9947440582327545,
          0.9998736116976943,
          0.965085107833147,
          0.7466501295566559,
          0.41377055644989014,
          0.2657398581504822,
          0.2995801568031311,
          0.445865273475647,
          0.62364661693573,
          0.765179380774498,
          0.8566486239433289,
          0.8963033184409142,
          0.9085342362523079,
          0.9067105203866959,
          0.8939537927508354,
          0.8685643374919891,
          0.8286347091197968,
          0.7737005352973938,
          0.706168532371521,
          0.6329173445701599,
          0.56387859582901,
          0.5082488656044006,
          0.47296804189682007,
          0.46209031343460083,
          0.5025077760219574,
          0.5952309668064117,
          0.6673380732536316,
          0.674554854631424,
          0.6401694715023041,
          0.5836886465549469,
          0.5254820287227631,
          0.4835277199745178,
          0.46277689933776855,
          0.4616548418998718,
          0.476473867893219,
          0.5023173391819,
          0.5251631438732147,
          0.5329654216766357,
          0.5195102095603943,
          0.4871649146080017,
          0.4473384618759155,
          0.4156055450439453,
          0.4042946696281433,
          0.4176454544067383,
          0.44993120431900024,
          0.48558521270751953,
          0.5080703794956207,
          0.5066906809806824,
          0.48237740993499756,
          0.4455987811088562,
          0.41206270456314087,
          0.398021936416626,
          0.42100292444229126,
          0.36519360542297363,
          0.3316130042076111,
          0.3441505432128906,
          0.3744295835494995,
          0.3760267496109009,
          0.3084164261817932,
          0.2547149658203125,
          0.2851157784461975,
          0.2871963381767273,
          0.22777968645095825,
          0.24484658241271973,
          0.30162662267684937,
          0.2431008219718933,
          0.19835060834884644,
          0.24710631370544434,
          0.2041022777557373,
          0.11790657043457031,
          0.1790640950202942,
          0.15851753950119019,
          0.10166078805923462,
          0.17327535152435303,
          0.13580036163330078,
          0.0928153395652771,
          0.1516929268836975,
          0.0758366584777832,
          0.1060185432434082,
          0.1347571611404419,
          0.06537413597106934,
          0.17396056652069092,
          0.05327659845352173,
          0.1299998164176941,
          0.1161266565322876,
          0.05045342445373535,
          0.1483917236328125,
          0.05472564697265625,
          0.09804832935333252,
          0.1298062801361084,
          0.026747584342956543,
          0.15457206964492798,
          0.05406785011291504,
          0.09377396106719971,
          0.12274843454360962,
          0.02469348907470703
         ]
        }
       ],
       "layout": {
        "font": {
         "color": "black",
         "family": "Helvetica, Arial, sans-serif",
         "size": 12
        },
        "legend": {
         "orientation": "h",
         "x": 0.1,
         "y": 1.1
        },
        "margin": {
         "b": 30,
         "l": 40,
         "r": 40,
         "t": 40
        },
        "plot_bgcolor": "white",
        "template": {
         "data": {
          "bar": [
           {
            "error_x": {
             "color": "#2a3f5f"
            },
            "error_y": {
             "color": "#2a3f5f"
            },
            "marker": {
             "line": {
              "color": "#E5ECF6",
              "width": 0.5
             },
             "pattern": {
              "fillmode": "overlay",
              "size": 10,
              "solidity": 0.2
             }
            },
            "type": "bar"
           }
          ],
          "barpolar": [
           {
            "marker": {
             "line": {
              "color": "#E5ECF6",
              "width": 0.5
             },
             "pattern": {
              "fillmode": "overlay",
              "size": 10,
              "solidity": 0.2
             }
            },
            "type": "barpolar"
           }
          ],
          "carpet": [
           {
            "aaxis": {
             "endlinecolor": "#2a3f5f",
             "gridcolor": "white",
             "linecolor": "white",
             "minorgridcolor": "white",
             "startlinecolor": "#2a3f5f"
            },
            "baxis": {
             "endlinecolor": "#2a3f5f",
             "gridcolor": "white",
             "linecolor": "white",
             "minorgridcolor": "white",
             "startlinecolor": "#2a3f5f"
            },
            "type": "carpet"
           }
          ],
          "choropleth": [
           {
            "colorbar": {
             "outlinewidth": 0,
             "ticks": ""
            },
            "type": "choropleth"
           }
          ],
          "contour": [
           {
            "colorbar": {
             "outlinewidth": 0,
             "ticks": ""
            },
            "colorscale": [
             [
              0,
              "#0d0887"
             ],
             [
              0.1111111111111111,
              "#46039f"
             ],
             [
              0.2222222222222222,
              "#7201a8"
             ],
             [
              0.3333333333333333,
              "#9c179e"
             ],
             [
              0.4444444444444444,
              "#bd3786"
             ],
             [
              0.5555555555555556,
              "#d8576b"
             ],
             [
              0.6666666666666666,
              "#ed7953"
             ],
             [
              0.7777777777777778,
              "#fb9f3a"
             ],
             [
              0.8888888888888888,
              "#fdca26"
             ],
             [
              1,
              "#f0f921"
             ]
            ],
            "type": "contour"
           }
          ],
          "contourcarpet": [
           {
            "colorbar": {
             "outlinewidth": 0,
             "ticks": ""
            },
            "type": "contourcarpet"
           }
          ],
          "heatmap": [
           {
            "colorbar": {
             "outlinewidth": 0,
             "ticks": ""
            },
            "colorscale": [
             [
              0,
              "#0d0887"
             ],
             [
              0.1111111111111111,
              "#46039f"
             ],
             [
              0.2222222222222222,
              "#7201a8"
             ],
             [
              0.3333333333333333,
              "#9c179e"
             ],
             [
              0.4444444444444444,
              "#bd3786"
             ],
             [
              0.5555555555555556,
              "#d8576b"
             ],
             [
              0.6666666666666666,
              "#ed7953"
             ],
             [
              0.7777777777777778,
              "#fb9f3a"
             ],
             [
              0.8888888888888888,
              "#fdca26"
             ],
             [
              1,
              "#f0f921"
             ]
            ],
            "type": "heatmap"
           }
          ],
          "heatmapgl": [
           {
            "colorbar": {
             "outlinewidth": 0,
             "ticks": ""
            },
            "colorscale": [
             [
              0,
              "#0d0887"
             ],
             [
              0.1111111111111111,
              "#46039f"
             ],
             [
              0.2222222222222222,
              "#7201a8"
             ],
             [
              0.3333333333333333,
              "#9c179e"
             ],
             [
              0.4444444444444444,
              "#bd3786"
             ],
             [
              0.5555555555555556,
              "#d8576b"
             ],
             [
              0.6666666666666666,
              "#ed7953"
             ],
             [
              0.7777777777777778,
              "#fb9f3a"
             ],
             [
              0.8888888888888888,
              "#fdca26"
             ],
             [
              1,
              "#f0f921"
             ]
            ],
            "type": "heatmapgl"
           }
          ],
          "histogram": [
           {
            "marker": {
             "pattern": {
              "fillmode": "overlay",
              "size": 10,
              "solidity": 0.2
             }
            },
            "type": "histogram"
           }
          ],
          "histogram2d": [
           {
            "colorbar": {
             "outlinewidth": 0,
             "ticks": ""
            },
            "colorscale": [
             [
              0,
              "#0d0887"
             ],
             [
              0.1111111111111111,
              "#46039f"
             ],
             [
              0.2222222222222222,
              "#7201a8"
             ],
             [
              0.3333333333333333,
              "#9c179e"
             ],
             [
              0.4444444444444444,
              "#bd3786"
             ],
             [
              0.5555555555555556,
              "#d8576b"
             ],
             [
              0.6666666666666666,
              "#ed7953"
             ],
             [
              0.7777777777777778,
              "#fb9f3a"
             ],
             [
              0.8888888888888888,
              "#fdca26"
             ],
             [
              1,
              "#f0f921"
             ]
            ],
            "type": "histogram2d"
           }
          ],
          "histogram2dcontour": [
           {
            "colorbar": {
             "outlinewidth": 0,
             "ticks": ""
            },
            "colorscale": [
             [
              0,
              "#0d0887"
             ],
             [
              0.1111111111111111,
              "#46039f"
             ],
             [
              0.2222222222222222,
              "#7201a8"
             ],
             [
              0.3333333333333333,
              "#9c179e"
             ],
             [
              0.4444444444444444,
              "#bd3786"
             ],
             [
              0.5555555555555556,
              "#d8576b"
             ],
             [
              0.6666666666666666,
              "#ed7953"
             ],
             [
              0.7777777777777778,
              "#fb9f3a"
             ],
             [
              0.8888888888888888,
              "#fdca26"
             ],
             [
              1,
              "#f0f921"
             ]
            ],
            "type": "histogram2dcontour"
           }
          ],
          "mesh3d": [
           {
            "colorbar": {
             "outlinewidth": 0,
             "ticks": ""
            },
            "type": "mesh3d"
           }
          ],
          "parcoords": [
           {
            "line": {
             "colorbar": {
              "outlinewidth": 0,
              "ticks": ""
             }
            },
            "type": "parcoords"
           }
          ],
          "pie": [
           {
            "automargin": true,
            "type": "pie"
           }
          ],
          "scatter": [
           {
            "fillpattern": {
             "fillmode": "overlay",
             "size": 10,
             "solidity": 0.2
            },
            "type": "scatter"
           }
          ],
          "scatter3d": [
           {
            "line": {
             "colorbar": {
              "outlinewidth": 0,
              "ticks": ""
             }
            },
            "marker": {
             "colorbar": {
              "outlinewidth": 0,
              "ticks": ""
             }
            },
            "type": "scatter3d"
           }
          ],
          "scattercarpet": [
           {
            "marker": {
             "colorbar": {
              "outlinewidth": 0,
              "ticks": ""
             }
            },
            "type": "scattercarpet"
           }
          ],
          "scattergeo": [
           {
            "marker": {
             "colorbar": {
              "outlinewidth": 0,
              "ticks": ""
             }
            },
            "type": "scattergeo"
           }
          ],
          "scattergl": [
           {
            "marker": {
             "colorbar": {
              "outlinewidth": 0,
              "ticks": ""
             }
            },
            "type": "scattergl"
           }
          ],
          "scattermapbox": [
           {
            "marker": {
             "colorbar": {
              "outlinewidth": 0,
              "ticks": ""
             }
            },
            "type": "scattermapbox"
           }
          ],
          "scatterpolar": [
           {
            "marker": {
             "colorbar": {
              "outlinewidth": 0,
              "ticks": ""
             }
            },
            "type": "scatterpolar"
           }
          ],
          "scatterpolargl": [
           {
            "marker": {
             "colorbar": {
              "outlinewidth": 0,
              "ticks": ""
             }
            },
            "type": "scatterpolargl"
           }
          ],
          "scatterternary": [
           {
            "marker": {
             "colorbar": {
              "outlinewidth": 0,
              "ticks": ""
             }
            },
            "type": "scatterternary"
           }
          ],
          "surface": [
           {
            "colorbar": {
             "outlinewidth": 0,
             "ticks": ""
            },
            "colorscale": [
             [
              0,
              "#0d0887"
             ],
             [
              0.1111111111111111,
              "#46039f"
             ],
             [
              0.2222222222222222,
              "#7201a8"
             ],
             [
              0.3333333333333333,
              "#9c179e"
             ],
             [
              0.4444444444444444,
              "#bd3786"
             ],
             [
              0.5555555555555556,
              "#d8576b"
             ],
             [
              0.6666666666666666,
              "#ed7953"
             ],
             [
              0.7777777777777778,
              "#fb9f3a"
             ],
             [
              0.8888888888888888,
              "#fdca26"
             ],
             [
              1,
              "#f0f921"
             ]
            ],
            "type": "surface"
           }
          ],
          "table": [
           {
            "cells": {
             "fill": {
              "color": "#EBF0F8"
             },
             "line": {
              "color": "white"
             }
            },
            "header": {
             "fill": {
              "color": "#C8D4E3"
             },
             "line": {
              "color": "white"
             }
            },
            "type": "table"
           }
          ]
         },
         "layout": {
          "annotationdefaults": {
           "arrowcolor": "#2a3f5f",
           "arrowhead": 0,
           "arrowwidth": 1
          },
          "autotypenumbers": "strict",
          "coloraxis": {
           "colorbar": {
            "outlinewidth": 0,
            "ticks": ""
           }
          },
          "colorscale": {
           "diverging": [
            [
             0,
             "#8e0152"
            ],
            [
             0.1,
             "#c51b7d"
            ],
            [
             0.2,
             "#de77ae"
            ],
            [
             0.3,
             "#f1b6da"
            ],
            [
             0.4,
             "#fde0ef"
            ],
            [
             0.5,
             "#f7f7f7"
            ],
            [
             0.6,
             "#e6f5d0"
            ],
            [
             0.7,
             "#b8e186"
            ],
            [
             0.8,
             "#7fbc41"
            ],
            [
             0.9,
             "#4d9221"
            ],
            [
             1,
             "#276419"
            ]
           ],
           "sequential": [
            [
             0,
             "#0d0887"
            ],
            [
             0.1111111111111111,
             "#46039f"
            ],
            [
             0.2222222222222222,
             "#7201a8"
            ],
            [
             0.3333333333333333,
             "#9c179e"
            ],
            [
             0.4444444444444444,
             "#bd3786"
            ],
            [
             0.5555555555555556,
             "#d8576b"
            ],
            [
             0.6666666666666666,
             "#ed7953"
            ],
            [
             0.7777777777777778,
             "#fb9f3a"
            ],
            [
             0.8888888888888888,
             "#fdca26"
            ],
            [
             1,
             "#f0f921"
            ]
           ],
           "sequentialminus": [
            [
             0,
             "#0d0887"
            ],
            [
             0.1111111111111111,
             "#46039f"
            ],
            [
             0.2222222222222222,
             "#7201a8"
            ],
            [
             0.3333333333333333,
             "#9c179e"
            ],
            [
             0.4444444444444444,
             "#bd3786"
            ],
            [
             0.5555555555555556,
             "#d8576b"
            ],
            [
             0.6666666666666666,
             "#ed7953"
            ],
            [
             0.7777777777777778,
             "#fb9f3a"
            ],
            [
             0.8888888888888888,
             "#fdca26"
            ],
            [
             1,
             "#f0f921"
            ]
           ]
          },
          "colorway": [
           "#636efa",
           "#EF553B",
           "#00cc96",
           "#ab63fa",
           "#FFA15A",
           "#19d3f3",
           "#FF6692",
           "#B6E880",
           "#FF97FF",
           "#FECB52"
          ],
          "font": {
           "color": "#2a3f5f"
          },
          "geo": {
           "bgcolor": "white",
           "lakecolor": "white",
           "landcolor": "#E5ECF6",
           "showlakes": true,
           "showland": true,
           "subunitcolor": "white"
          },
          "hoverlabel": {
           "align": "left"
          },
          "hovermode": "closest",
          "mapbox": {
           "style": "light"
          },
          "paper_bgcolor": "white",
          "plot_bgcolor": "#E5ECF6",
          "polar": {
           "angularaxis": {
            "gridcolor": "white",
            "linecolor": "white",
            "ticks": ""
           },
           "bgcolor": "#E5ECF6",
           "radialaxis": {
            "gridcolor": "white",
            "linecolor": "white",
            "ticks": ""
           }
          },
          "scene": {
           "xaxis": {
            "backgroundcolor": "#E5ECF6",
            "gridcolor": "white",
            "gridwidth": 2,
            "linecolor": "white",
            "showbackground": true,
            "ticks": "",
            "zerolinecolor": "white"
           },
           "yaxis": {
            "backgroundcolor": "#E5ECF6",
            "gridcolor": "white",
            "gridwidth": 2,
            "linecolor": "white",
            "showbackground": true,
            "ticks": "",
            "zerolinecolor": "white"
           },
           "zaxis": {
            "backgroundcolor": "#E5ECF6",
            "gridcolor": "white",
            "gridwidth": 2,
            "linecolor": "white",
            "showbackground": true,
            "ticks": "",
            "zerolinecolor": "white"
           }
          },
          "shapedefaults": {
           "line": {
            "color": "#2a3f5f"
           }
          },
          "ternary": {
           "aaxis": {
            "gridcolor": "white",
            "linecolor": "white",
            "ticks": ""
           },
           "baxis": {
            "gridcolor": "white",
            "linecolor": "white",
            "ticks": ""
           },
           "bgcolor": "#E5ECF6",
           "caxis": {
            "gridcolor": "white",
            "linecolor": "white",
            "ticks": ""
           }
          },
          "title": {
           "x": 0.05
          },
          "xaxis": {
           "automargin": true,
           "gridcolor": "white",
           "linecolor": "white",
           "ticks": "",
           "title": {
            "standoff": 15
           },
           "zerolinecolor": "white",
           "zerolinewidth": 2
          },
          "yaxis": {
           "automargin": true,
           "gridcolor": "white",
           "linecolor": "white",
           "ticks": "",
           "title": {
            "standoff": 15
           },
           "zerolinecolor": "white",
           "zerolinewidth": 2
          }
         }
        },
        "title": {
         "text": "Training and Testing Fairness",
         "x": 0.5,
         "xanchor": "center",
         "y": 0.9,
         "yanchor": "top"
        },
        "xaxis": {
         "gridcolor": "LightGrey",
         "linecolor": "black",
         "linewidth": 2,
         "showline": true,
         "title": {
          "text": "Epoch"
         }
        },
        "yaxis": {
         "gridcolor": "LightGrey",
         "linecolor": "black",
         "linewidth": 2,
         "showline": true,
         "title": {
          "text": "Fairness"
         }
        }
       }
      }
     },
     "metadata": {},
     "output_type": "display_data"
    }
   ],
   "source": [
    "import plotly.graph_objects as go\n",
    "\n",
    "\n",
    "def plot_metric(title, y_label, train_data, test_data, x_title = \"Epoch\", epoch_blue = \"train\", epoch_red = \"Test\"):\n",
    "    epochs = list(range(1, 101))\n",
    "    fig = go.Figure()\n",
    "\n",
    "    # Adding Train Line with Markers\n",
    "    fig.add_trace(go.Scatter(\n",
    "        x=epochs, y=train_data, mode='lines+markers',\n",
    "        name=epoch_blue,\n",
    "        line=dict(color='RoyalBlue', width=2),\n",
    "        marker=dict(color='RoyalBlue', size=6, line=dict(width=1, color='DarkSlateGrey'))\n",
    "    ))\n",
    "\n",
    "    # Adding Test Line with Markers\n",
    "    fig.add_trace(go.Scatter(\n",
    "        x=epochs, y=test_data, mode='lines+markers',\n",
    "        name=epoch_red,\n",
    "        line=dict(color='Crimson', width=2, dash='dot'),\n",
    "        marker=dict(color='Crimson', size=6, line=dict(width=1, color='DarkSlateGrey'))\n",
    "    ))\n",
    "\n",
    "    # Update Layout\n",
    "    fig.update_layout(\n",
    "        title={'text': title, 'y':0.9, 'x':0.5, 'xanchor': 'center', 'yanchor': 'top'},\n",
    "        xaxis_title=x_title,\n",
    "        yaxis_title=y_label,\n",
    "        legend=dict(x=0.1, y=1.1, orientation='h'),\n",
    "        font=dict(family=\"Helvetica, Arial, sans-serif\", size=12, color=\"black\"),\n",
    "        plot_bgcolor='white',\n",
    "        margin=dict(l=40, r=40, t=40, b=30)\n",
    "    )\n",
    "\n",
    "    # Gridlines and Axes styles\n",
    "    fig.update_xaxes(showline=True, linewidth=2, linecolor='black', gridcolor='LightGrey')\n",
    "    fig.update_yaxes(showline=True, linewidth=2, linecolor='black', gridcolor='LightGrey')\n",
    "\n",
    "    fig.show()\n",
    "\n",
    "# Example usage\n",
    "plot_metric(\"Training and Testing Loss\", \"Loss\", train_losses1, test_losses1)\n",
    "plot_metric(\"Training and Testing Accuracy\", \"Accuracy (%)\", train_accuracies1, test_accuracies1)\n",
    "plot_metric(\"Training and Testing Discrimination\", \"Discrimination\", train_discriminations1, test_discriminations1)\n",
    "plot_metric(\"Training and Testing Fairness\", \"Fairness\", train_fairness1, test_fairness1)\n",
    "\n"
   ]
  },
  {
   "cell_type": "code",
   "execution_count": 21,
   "metadata": {},
   "outputs": [
    {
     "data": {
      "application/vnd.plotly.v1+json": {
       "config": {
        "plotlyServerURL": "https://plot.ly"
       },
       "data": [
        {
         "line": {
          "color": "RoyalBlue",
          "width": 2
         },
         "marker": {
          "color": "RoyalBlue",
          "line": {
           "color": "DarkSlateGrey",
           "width": 1
          },
          "size": 6
         },
         "mode": "lines+markers",
         "name": "WITH DISCRIMINATION FUNCTION",
         "type": "scatter",
         "x": [
          1,
          2,
          3,
          4,
          5,
          6,
          7,
          8,
          9,
          10,
          11,
          12,
          13,
          14,
          15,
          16,
          17,
          18,
          19,
          20,
          21,
          22,
          23,
          24,
          25,
          26,
          27,
          28,
          29,
          30,
          31,
          32,
          33,
          34,
          35,
          36,
          37,
          38,
          39,
          40,
          41,
          42,
          43,
          44,
          45,
          46,
          47,
          48,
          49,
          50,
          51,
          52,
          53,
          54,
          55,
          56,
          57,
          58,
          59,
          60,
          61,
          62,
          63,
          64,
          65,
          66,
          67,
          68,
          69,
          70,
          71,
          72,
          73,
          74,
          75,
          76,
          77,
          78,
          79,
          80,
          81,
          82,
          83,
          84,
          85,
          86,
          87,
          88,
          89,
          90,
          91,
          92,
          93,
          94,
          95,
          96,
          97,
          98,
          99,
          100
         ],
         "y": [
          0.9757454246282578,
          0.9621900208294392,
          0.9754762426018715,
          0.9869685936719179,
          0.9928074656054378,
          0.9958793777041137,
          0.9979925632942468,
          0.9996497564716265,
          0.9994708325830288,
          0.9930532765574753,
          0.9810150731354952,
          0.9761991184204817,
          0.9805545918643475,
          0.9881981080397964,
          0.9940783907659352,
          0.9972349011804909,
          0.9986639119451866,
          0.9992699525901116,
          0.9995056093903258,
          0.9995633233920671,
          0.9995043943054043,
          0.9993113882956095,
          0.9988995332969353,
          0.9980918157380074,
          0.9966611014679074,
          0.9951314176432788,
          0.9949348135851324,
          0.9960481002926826,
          0.997397807892412,
          0.9978288991842419,
          0.9973440105095506,
          0.9962707853410393,
          0.9952433323487639,
          0.9951465106569231,
          0.9960061027668417,
          0.9971421158406883,
          0.9979208845179528,
          0.9981429532635957,
          0.9979238442610949,
          0.9975401328410953,
          0.9975341041572392,
          0.9981034937081859,
          0.9987647500820458,
          0.9990882130805403,
          0.9990111376391724,
          0.998609799076803,
          0.998197891865857,
          0.9982192600145936,
          0.998555262456648,
          0.9987839489476755,
          0.9987231444101781,
          0.99846169736702,
          0.9983308613300323,
          0.9985912228003144,
          0.9989958730293438,
          0.9992092465399764,
          0.9991783789591864,
          0.999038205947727,
          0.9990411352482624,
          0.9992174011422321,
          0.9993261712952517,
          0.9992479514330626,
          0.9990445378352888,
          0.9989514690823853,
          0.9990713688312098,
          0.999201534432359,
          0.9991718475357629,
          0.9990332777961157,
          0.9990131992381066,
          0.9991621098015457,
          0.9992710776859894,
          0.9991983516374603,
          0.9990732116857544,
          0.9990969371283427,
          0.9991941461339593,
          0.999154330638703,
          0.9990216332953423,
          0.9989817609312013,
          0.9990893680369481,
          0.9991290096077137,
          0.9990205187350512,
          0.9989801213378087,
          0.999066929332912,
          0.999048626399599,
          0.9989128797315061,
          0.9989534425549209,
          0.9990694724256173,
          0.9989996263757348,
          0.9989447017433122,
          0.9990308353444561,
          0.9990217925515026,
          0.9989257832057774,
          0.9989842043723911,
          0.9990335121401586,
          0.998927783803083,
          0.9989336022408679,
          0.9989866509567946,
          0.9988859671866521,
          0.9989365884102881,
          0.9990282517392188
         ]
        },
        {
         "line": {
          "color": "Crimson",
          "dash": "dot",
          "width": 2
         },
         "marker": {
          "color": "Crimson",
          "line": {
           "color": "DarkSlateGrey",
           "width": 1
          },
          "size": 6
         },
         "mode": "lines+markers",
         "name": "BCE",
         "type": "scatter",
         "x": [
          1,
          2,
          3,
          4,
          5,
          6,
          7,
          8,
          9,
          10,
          11,
          12,
          13,
          14,
          15,
          16,
          17,
          18,
          19,
          20,
          21,
          22,
          23,
          24,
          25,
          26,
          27,
          28,
          29,
          30,
          31,
          32,
          33,
          34,
          35,
          36,
          37,
          38,
          39,
          40,
          41,
          42,
          43,
          44,
          45,
          46,
          47,
          48,
          49,
          50,
          51,
          52,
          53,
          54,
          55,
          56,
          57,
          58,
          59,
          60,
          61,
          62,
          63,
          64,
          65,
          66,
          67,
          68,
          69,
          70,
          71,
          72,
          73,
          74,
          75,
          76,
          77,
          78,
          79,
          80,
          81,
          82,
          83,
          84,
          85,
          86,
          87,
          88,
          89,
          90,
          91,
          92,
          93,
          94,
          95,
          96,
          97,
          98,
          99,
          100
         ],
         "y": [
          0.8920511454343796,
          0.8637667447328568,
          0.9455030411481857,
          0.9804373066872358,
          0.9947440582327545,
          0.9998736116976943,
          0.965085107833147,
          0.7466501295566559,
          0.41377055644989014,
          0.2657398581504822,
          0.2995801568031311,
          0.445865273475647,
          0.62364661693573,
          0.765179380774498,
          0.8566486239433289,
          0.8963033184409142,
          0.9085342362523079,
          0.9067105203866959,
          0.8939537927508354,
          0.8685643374919891,
          0.8286347091197968,
          0.7737005352973938,
          0.706168532371521,
          0.6329173445701599,
          0.56387859582901,
          0.5082488656044006,
          0.47296804189682007,
          0.46209031343460083,
          0.5025077760219574,
          0.5952309668064117,
          0.6673380732536316,
          0.674554854631424,
          0.6401694715023041,
          0.5836886465549469,
          0.5254820287227631,
          0.4835277199745178,
          0.46277689933776855,
          0.4616548418998718,
          0.476473867893219,
          0.5023173391819,
          0.5251631438732147,
          0.5329654216766357,
          0.5195102095603943,
          0.4871649146080017,
          0.4473384618759155,
          0.4156055450439453,
          0.4042946696281433,
          0.4176454544067383,
          0.44993120431900024,
          0.48558521270751953,
          0.5080703794956207,
          0.5066906809806824,
          0.48237740993499756,
          0.4455987811088562,
          0.41206270456314087,
          0.398021936416626,
          0.42100292444229126,
          0.36519360542297363,
          0.3316130042076111,
          0.3441505432128906,
          0.3744295835494995,
          0.3760267496109009,
          0.3084164261817932,
          0.2547149658203125,
          0.2851157784461975,
          0.2871963381767273,
          0.22777968645095825,
          0.24484658241271973,
          0.30162662267684937,
          0.2431008219718933,
          0.19835060834884644,
          0.24710631370544434,
          0.2041022777557373,
          0.11790657043457031,
          0.1790640950202942,
          0.15851753950119019,
          0.10166078805923462,
          0.17327535152435303,
          0.13580036163330078,
          0.0928153395652771,
          0.1516929268836975,
          0.0758366584777832,
          0.1060185432434082,
          0.1347571611404419,
          0.06537413597106934,
          0.17396056652069092,
          0.05327659845352173,
          0.1299998164176941,
          0.1161266565322876,
          0.05045342445373535,
          0.1483917236328125,
          0.05472564697265625,
          0.09804832935333252,
          0.1298062801361084,
          0.026747584342956543,
          0.15457206964492798,
          0.05406785011291504,
          0.09377396106719971,
          0.12274843454360962,
          0.02469348907470703
         ]
        }
       ],
       "layout": {
        "font": {
         "color": "black",
         "family": "Helvetica, Arial, sans-serif",
         "size": 12
        },
        "legend": {
         "orientation": "h",
         "x": 0.1,
         "y": 1.1
        },
        "margin": {
         "b": 30,
         "l": 40,
         "r": 40,
         "t": 40
        },
        "plot_bgcolor": "white",
        "template": {
         "data": {
          "bar": [
           {
            "error_x": {
             "color": "#2a3f5f"
            },
            "error_y": {
             "color": "#2a3f5f"
            },
            "marker": {
             "line": {
              "color": "#E5ECF6",
              "width": 0.5
             },
             "pattern": {
              "fillmode": "overlay",
              "size": 10,
              "solidity": 0.2
             }
            },
            "type": "bar"
           }
          ],
          "barpolar": [
           {
            "marker": {
             "line": {
              "color": "#E5ECF6",
              "width": 0.5
             },
             "pattern": {
              "fillmode": "overlay",
              "size": 10,
              "solidity": 0.2
             }
            },
            "type": "barpolar"
           }
          ],
          "carpet": [
           {
            "aaxis": {
             "endlinecolor": "#2a3f5f",
             "gridcolor": "white",
             "linecolor": "white",
             "minorgridcolor": "white",
             "startlinecolor": "#2a3f5f"
            },
            "baxis": {
             "endlinecolor": "#2a3f5f",
             "gridcolor": "white",
             "linecolor": "white",
             "minorgridcolor": "white",
             "startlinecolor": "#2a3f5f"
            },
            "type": "carpet"
           }
          ],
          "choropleth": [
           {
            "colorbar": {
             "outlinewidth": 0,
             "ticks": ""
            },
            "type": "choropleth"
           }
          ],
          "contour": [
           {
            "colorbar": {
             "outlinewidth": 0,
             "ticks": ""
            },
            "colorscale": [
             [
              0,
              "#0d0887"
             ],
             [
              0.1111111111111111,
              "#46039f"
             ],
             [
              0.2222222222222222,
              "#7201a8"
             ],
             [
              0.3333333333333333,
              "#9c179e"
             ],
             [
              0.4444444444444444,
              "#bd3786"
             ],
             [
              0.5555555555555556,
              "#d8576b"
             ],
             [
              0.6666666666666666,
              "#ed7953"
             ],
             [
              0.7777777777777778,
              "#fb9f3a"
             ],
             [
              0.8888888888888888,
              "#fdca26"
             ],
             [
              1,
              "#f0f921"
             ]
            ],
            "type": "contour"
           }
          ],
          "contourcarpet": [
           {
            "colorbar": {
             "outlinewidth": 0,
             "ticks": ""
            },
            "type": "contourcarpet"
           }
          ],
          "heatmap": [
           {
            "colorbar": {
             "outlinewidth": 0,
             "ticks": ""
            },
            "colorscale": [
             [
              0,
              "#0d0887"
             ],
             [
              0.1111111111111111,
              "#46039f"
             ],
             [
              0.2222222222222222,
              "#7201a8"
             ],
             [
              0.3333333333333333,
              "#9c179e"
             ],
             [
              0.4444444444444444,
              "#bd3786"
             ],
             [
              0.5555555555555556,
              "#d8576b"
             ],
             [
              0.6666666666666666,
              "#ed7953"
             ],
             [
              0.7777777777777778,
              "#fb9f3a"
             ],
             [
              0.8888888888888888,
              "#fdca26"
             ],
             [
              1,
              "#f0f921"
             ]
            ],
            "type": "heatmap"
           }
          ],
          "heatmapgl": [
           {
            "colorbar": {
             "outlinewidth": 0,
             "ticks": ""
            },
            "colorscale": [
             [
              0,
              "#0d0887"
             ],
             [
              0.1111111111111111,
              "#46039f"
             ],
             [
              0.2222222222222222,
              "#7201a8"
             ],
             [
              0.3333333333333333,
              "#9c179e"
             ],
             [
              0.4444444444444444,
              "#bd3786"
             ],
             [
              0.5555555555555556,
              "#d8576b"
             ],
             [
              0.6666666666666666,
              "#ed7953"
             ],
             [
              0.7777777777777778,
              "#fb9f3a"
             ],
             [
              0.8888888888888888,
              "#fdca26"
             ],
             [
              1,
              "#f0f921"
             ]
            ],
            "type": "heatmapgl"
           }
          ],
          "histogram": [
           {
            "marker": {
             "pattern": {
              "fillmode": "overlay",
              "size": 10,
              "solidity": 0.2
             }
            },
            "type": "histogram"
           }
          ],
          "histogram2d": [
           {
            "colorbar": {
             "outlinewidth": 0,
             "ticks": ""
            },
            "colorscale": [
             [
              0,
              "#0d0887"
             ],
             [
              0.1111111111111111,
              "#46039f"
             ],
             [
              0.2222222222222222,
              "#7201a8"
             ],
             [
              0.3333333333333333,
              "#9c179e"
             ],
             [
              0.4444444444444444,
              "#bd3786"
             ],
             [
              0.5555555555555556,
              "#d8576b"
             ],
             [
              0.6666666666666666,
              "#ed7953"
             ],
             [
              0.7777777777777778,
              "#fb9f3a"
             ],
             [
              0.8888888888888888,
              "#fdca26"
             ],
             [
              1,
              "#f0f921"
             ]
            ],
            "type": "histogram2d"
           }
          ],
          "histogram2dcontour": [
           {
            "colorbar": {
             "outlinewidth": 0,
             "ticks": ""
            },
            "colorscale": [
             [
              0,
              "#0d0887"
             ],
             [
              0.1111111111111111,
              "#46039f"
             ],
             [
              0.2222222222222222,
              "#7201a8"
             ],
             [
              0.3333333333333333,
              "#9c179e"
             ],
             [
              0.4444444444444444,
              "#bd3786"
             ],
             [
              0.5555555555555556,
              "#d8576b"
             ],
             [
              0.6666666666666666,
              "#ed7953"
             ],
             [
              0.7777777777777778,
              "#fb9f3a"
             ],
             [
              0.8888888888888888,
              "#fdca26"
             ],
             [
              1,
              "#f0f921"
             ]
            ],
            "type": "histogram2dcontour"
           }
          ],
          "mesh3d": [
           {
            "colorbar": {
             "outlinewidth": 0,
             "ticks": ""
            },
            "type": "mesh3d"
           }
          ],
          "parcoords": [
           {
            "line": {
             "colorbar": {
              "outlinewidth": 0,
              "ticks": ""
             }
            },
            "type": "parcoords"
           }
          ],
          "pie": [
           {
            "automargin": true,
            "type": "pie"
           }
          ],
          "scatter": [
           {
            "fillpattern": {
             "fillmode": "overlay",
             "size": 10,
             "solidity": 0.2
            },
            "type": "scatter"
           }
          ],
          "scatter3d": [
           {
            "line": {
             "colorbar": {
              "outlinewidth": 0,
              "ticks": ""
             }
            },
            "marker": {
             "colorbar": {
              "outlinewidth": 0,
              "ticks": ""
             }
            },
            "type": "scatter3d"
           }
          ],
          "scattercarpet": [
           {
            "marker": {
             "colorbar": {
              "outlinewidth": 0,
              "ticks": ""
             }
            },
            "type": "scattercarpet"
           }
          ],
          "scattergeo": [
           {
            "marker": {
             "colorbar": {
              "outlinewidth": 0,
              "ticks": ""
             }
            },
            "type": "scattergeo"
           }
          ],
          "scattergl": [
           {
            "marker": {
             "colorbar": {
              "outlinewidth": 0,
              "ticks": ""
             }
            },
            "type": "scattergl"
           }
          ],
          "scattermapbox": [
           {
            "marker": {
             "colorbar": {
              "outlinewidth": 0,
              "ticks": ""
             }
            },
            "type": "scattermapbox"
           }
          ],
          "scatterpolar": [
           {
            "marker": {
             "colorbar": {
              "outlinewidth": 0,
              "ticks": ""
             }
            },
            "type": "scatterpolar"
           }
          ],
          "scatterpolargl": [
           {
            "marker": {
             "colorbar": {
              "outlinewidth": 0,
              "ticks": ""
             }
            },
            "type": "scatterpolargl"
           }
          ],
          "scatterternary": [
           {
            "marker": {
             "colorbar": {
              "outlinewidth": 0,
              "ticks": ""
             }
            },
            "type": "scatterternary"
           }
          ],
          "surface": [
           {
            "colorbar": {
             "outlinewidth": 0,
             "ticks": ""
            },
            "colorscale": [
             [
              0,
              "#0d0887"
             ],
             [
              0.1111111111111111,
              "#46039f"
             ],
             [
              0.2222222222222222,
              "#7201a8"
             ],
             [
              0.3333333333333333,
              "#9c179e"
             ],
             [
              0.4444444444444444,
              "#bd3786"
             ],
             [
              0.5555555555555556,
              "#d8576b"
             ],
             [
              0.6666666666666666,
              "#ed7953"
             ],
             [
              0.7777777777777778,
              "#fb9f3a"
             ],
             [
              0.8888888888888888,
              "#fdca26"
             ],
             [
              1,
              "#f0f921"
             ]
            ],
            "type": "surface"
           }
          ],
          "table": [
           {
            "cells": {
             "fill": {
              "color": "#EBF0F8"
             },
             "line": {
              "color": "white"
             }
            },
            "header": {
             "fill": {
              "color": "#C8D4E3"
             },
             "line": {
              "color": "white"
             }
            },
            "type": "table"
           }
          ]
         },
         "layout": {
          "annotationdefaults": {
           "arrowcolor": "#2a3f5f",
           "arrowhead": 0,
           "arrowwidth": 1
          },
          "autotypenumbers": "strict",
          "coloraxis": {
           "colorbar": {
            "outlinewidth": 0,
            "ticks": ""
           }
          },
          "colorscale": {
           "diverging": [
            [
             0,
             "#8e0152"
            ],
            [
             0.1,
             "#c51b7d"
            ],
            [
             0.2,
             "#de77ae"
            ],
            [
             0.3,
             "#f1b6da"
            ],
            [
             0.4,
             "#fde0ef"
            ],
            [
             0.5,
             "#f7f7f7"
            ],
            [
             0.6,
             "#e6f5d0"
            ],
            [
             0.7,
             "#b8e186"
            ],
            [
             0.8,
             "#7fbc41"
            ],
            [
             0.9,
             "#4d9221"
            ],
            [
             1,
             "#276419"
            ]
           ],
           "sequential": [
            [
             0,
             "#0d0887"
            ],
            [
             0.1111111111111111,
             "#46039f"
            ],
            [
             0.2222222222222222,
             "#7201a8"
            ],
            [
             0.3333333333333333,
             "#9c179e"
            ],
            [
             0.4444444444444444,
             "#bd3786"
            ],
            [
             0.5555555555555556,
             "#d8576b"
            ],
            [
             0.6666666666666666,
             "#ed7953"
            ],
            [
             0.7777777777777778,
             "#fb9f3a"
            ],
            [
             0.8888888888888888,
             "#fdca26"
            ],
            [
             1,
             "#f0f921"
            ]
           ],
           "sequentialminus": [
            [
             0,
             "#0d0887"
            ],
            [
             0.1111111111111111,
             "#46039f"
            ],
            [
             0.2222222222222222,
             "#7201a8"
            ],
            [
             0.3333333333333333,
             "#9c179e"
            ],
            [
             0.4444444444444444,
             "#bd3786"
            ],
            [
             0.5555555555555556,
             "#d8576b"
            ],
            [
             0.6666666666666666,
             "#ed7953"
            ],
            [
             0.7777777777777778,
             "#fb9f3a"
            ],
            [
             0.8888888888888888,
             "#fdca26"
            ],
            [
             1,
             "#f0f921"
            ]
           ]
          },
          "colorway": [
           "#636efa",
           "#EF553B",
           "#00cc96",
           "#ab63fa",
           "#FFA15A",
           "#19d3f3",
           "#FF6692",
           "#B6E880",
           "#FF97FF",
           "#FECB52"
          ],
          "font": {
           "color": "#2a3f5f"
          },
          "geo": {
           "bgcolor": "white",
           "lakecolor": "white",
           "landcolor": "#E5ECF6",
           "showlakes": true,
           "showland": true,
           "subunitcolor": "white"
          },
          "hoverlabel": {
           "align": "left"
          },
          "hovermode": "closest",
          "mapbox": {
           "style": "light"
          },
          "paper_bgcolor": "white",
          "plot_bgcolor": "#E5ECF6",
          "polar": {
           "angularaxis": {
            "gridcolor": "white",
            "linecolor": "white",
            "ticks": ""
           },
           "bgcolor": "#E5ECF6",
           "radialaxis": {
            "gridcolor": "white",
            "linecolor": "white",
            "ticks": ""
           }
          },
          "scene": {
           "xaxis": {
            "backgroundcolor": "#E5ECF6",
            "gridcolor": "white",
            "gridwidth": 2,
            "linecolor": "white",
            "showbackground": true,
            "ticks": "",
            "zerolinecolor": "white"
           },
           "yaxis": {
            "backgroundcolor": "#E5ECF6",
            "gridcolor": "white",
            "gridwidth": 2,
            "linecolor": "white",
            "showbackground": true,
            "ticks": "",
            "zerolinecolor": "white"
           },
           "zaxis": {
            "backgroundcolor": "#E5ECF6",
            "gridcolor": "white",
            "gridwidth": 2,
            "linecolor": "white",
            "showbackground": true,
            "ticks": "",
            "zerolinecolor": "white"
           }
          },
          "shapedefaults": {
           "line": {
            "color": "#2a3f5f"
           }
          },
          "ternary": {
           "aaxis": {
            "gridcolor": "white",
            "linecolor": "white",
            "ticks": ""
           },
           "baxis": {
            "gridcolor": "white",
            "linecolor": "white",
            "ticks": ""
           },
           "bgcolor": "#E5ECF6",
           "caxis": {
            "gridcolor": "white",
            "linecolor": "white",
            "ticks": ""
           }
          },
          "title": {
           "x": 0.05
          },
          "xaxis": {
           "automargin": true,
           "gridcolor": "white",
           "linecolor": "white",
           "ticks": "",
           "title": {
            "standoff": 15
           },
           "zerolinecolor": "white",
           "zerolinewidth": 2
          },
          "yaxis": {
           "automargin": true,
           "gridcolor": "white",
           "linecolor": "white",
           "ticks": "",
           "title": {
            "standoff": 15
           },
           "zerolinecolor": "white",
           "zerolinewidth": 2
          }
         }
        },
        "title": {
         "text": "DISPARITY IN FAIRNESS",
         "x": 0.5,
         "xanchor": "center",
         "y": 0.9,
         "yanchor": "top"
        },
        "xaxis": {
         "gridcolor": "LightGrey",
         "linecolor": "black",
         "linewidth": 2,
         "showline": true,
         "title": {
          "text": "EPOCH"
         }
        },
        "yaxis": {
         "gridcolor": "LightGrey",
         "linecolor": "black",
         "linewidth": 2,
         "showline": true,
         "title": {
          "text": "FAIRNESS"
         }
        }
       }
      }
     },
     "metadata": {},
     "output_type": "display_data"
    }
   ],
   "source": [
    "plot_metric(\"DISPARITY IN FAIRNESS\", \"FAIRNESS\", test_fairness, test_fairness1, \"EPOCH\", \"WITH DISCRIMINATION FUNCTION\", \"BCE\")"
   ]
  },
  {
   "cell_type": "code",
   "execution_count": null,
   "metadata": {},
   "outputs": [],
   "source": []
  },
  {
   "cell_type": "code",
   "execution_count": null,
   "metadata": {},
   "outputs": [],
   "source": []
  }
 ],
 "metadata": {
  "kernelspec": {
   "display_name": "base",
   "language": "python",
   "name": "python3"
  },
  "language_info": {
   "codemirror_mode": {
    "name": "ipython",
    "version": 3
   },
   "file_extension": ".py",
   "mimetype": "text/x-python",
   "name": "python",
   "nbconvert_exporter": "python",
   "pygments_lexer": "ipython3",
   "version": "3.11.5"
  }
 },
 "nbformat": 4,
 "nbformat_minor": 2
}
